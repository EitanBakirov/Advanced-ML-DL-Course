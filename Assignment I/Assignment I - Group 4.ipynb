{
  "nbformat": 4,
  "nbformat_minor": 0,
  "metadata": {
    "colab": {
      "provenance": [],
      "toc_visible": true
    },
    "kernelspec": {
      "name": "python3",
      "display_name": "Python 3"
    },
    "language_info": {
      "name": "python"
    }
  },
  "cells": [
    {
      "cell_type": "markdown",
      "source": [
        "<div style=\"text-align: center;\" class=\"markdown-google-sans\">\n",
        "  <h1><font size=6>Assignment 1</font></h1>\n",
        "\n",
        "  <u>Group members:</u><br>\n",
        "  - Ariel Hedvat<br>\n",
        "  - Shiraz Israeli<br>\n",
        "  - Yuval Bakirov<br>\n",
        "  - Eitan Bakirov\n",
        "\n",
        "<br>\n",
        "\n",
        "In this project we are aiming to build an accurate model to predict daily bicycle rental demand using the provided bike sharing dataset. By analyzing the data and testing different modeling techniques, we will develop a robust model optimized to forecast the rental count metric on a held-out test set.<br>\n",
        "The goal is to create a reliable demand prediction model for bike sharing operations.\n",
        "</div>\n"
      ],
      "metadata": {
        "id": "f0v2mOU5X6Ls"
      }
    },
    {
      "cell_type": "code",
      "source": [],
      "metadata": {
        "id": "8AQlKfTbz6b0"
      },
      "execution_count": null,
      "outputs": []
    },
    {
      "cell_type": "markdown",
      "source": [
        "\n",
        "\n",
        "*   כדאי להשתמש במודלים מבוססי עצים: xgboost, random forest\n",
        "*   להעלות את המחברת לגיט האב ולשים את הקישור בתיבת הגשה וגם את הסי-אס-וי\n",
        "\n",
        "\n",
        "\n",
        "\n",
        "\n",
        "\n"
      ],
      "metadata": {
        "id": "3-LkfVatUx3l"
      }
    },
    {
      "cell_type": "markdown",
      "source": [
        "<div style=\"text-align: center;\" class=\"markdown-google-sans\">\n",
        "  <h1><font size=5>Data</font></h1>\n",
        "</div>"
      ],
      "metadata": {
        "id": "6KQAH9j-qoZw"
      }
    },
    {
      "cell_type": "markdown",
      "source": [
        "`train.csv` and `test.csv` - contain information on bike rentals, including the timestamp, seasonal indicators, holiday and working day flags, weather conditions, temperature metrics, humidity, windspeed, pollution, sunlight, traffic, and the count of bikes rented at each recorded time.<br>\n",
        "Target variable to predict is \"count\" (Label).<br><br>\n",
        "\n",
        "\n",
        "למחוק לפני הגשה:<br>\n",
        "\n",
        "---\n",
        "\n",
        "\n",
        "<u>datetime</u> - time of rental<br>\n",
        "<u>season</u> - (1:winter, 2:spring, 3:summer, 4:fall)<br>\n",
        "<u>holiday</u> - (Is it a bank holiday? If so: 1, else 0)<br>\n",
        "<u>workingday</u> - (Is it a working day? If so: 1, else 0)<br>\n",
        "<u>weather</u>\n",
        "- 1: Clear, Few clouds, Partly cloudy, Partly cloudy<br>\n",
        "- 2: Mist + Cloudy, Mist + Broken clouds, Mist + Few clouds, Mist<br>\n",
        "- 3: Light Snow, Light Rain + Thunderstorm + Scattered clouds, Light Rain + Scattered clouds<br>\n",
        "- 4: Heavy Rain + Ice Pallets + Thunderstorm + Mist, Snow + Fog\n",
        "\n",
        "<u>temp</u> - temperature <br>\n",
        "<u>atemp</u> - average temperature <br>\n",
        "\n",
        "\n",
        "---\n"
      ],
      "metadata": {
        "id": "YeDU9j_8rAD1"
      }
    },
    {
      "cell_type": "markdown",
      "source": [
        "<div class=\"markdown-google-sans\">\n",
        "  <h1><font size=5>Table of Contents</font></h1>"
      ],
      "metadata": {
        "id": "DfFFUOOZo51l"
      }
    },
    {
      "cell_type": "markdown",
      "source": [
        ">>[Import Libraries](#scrollTo=-_VBJ0JlYLKI)\n",
        "\n",
        ">>[Loading the data](#scrollTo=kXwOL606ZfUN)\n",
        "\n",
        ">>[Exploring The Data](#scrollTo=P8cTl07AZgyg)\n",
        "\n",
        ">>[Preprocessing](#scrollTo=E_OOmtAYZnm7)\n",
        "\n",
        ">>>[Handling Missing Values](#scrollTo=4A8VA3nRwiB7)\n",
        "\n",
        ">>>[Add New Features](#scrollTo=96lau3rN1OpT)\n",
        "\n",
        ">>>[Handling Categorial Features](#scrollTo=xtPSG9CixFck)\n",
        "\n",
        ">>>[Handling Outliers](#scrollTo=zxs7JyHhxIoa)\n",
        "\n",
        ">>>[Large Dimensionality](#scrollTo=A7NVDhWSxUTO)\n",
        "\n",
        ">>>>>[How will we recognize that the dimensions of the problem are too large?](#scrollTo=bjEa7ZgqOuvD)\n",
        "\n",
        ">>>[Data Normalizing](#scrollTo=NiFHiz6MxXGT)\n",
        "\n",
        ">>>[Dimensionality Reduction](#scrollTo=iaFEPiItxaqq)\n",
        "\n",
        ">>>[Final Preprocessing Function](#scrollTo=6TXc09TPPJe0)\n",
        "\n",
        ">>[Running the Models](#scrollTo=PujsQcU7Zw5v)\n",
        "\n",
        ">>[Evaluation of the Models](#scrollTo=qbvc7vxiZ5fC)\n",
        "\n",
        ">>[Prediction](#scrollTo=dE4SF0VdaENB)\n",
        "\n",
        ">>[Output](#scrollTo=IJrSf6hnWnCJ)\n",
        "\n"
      ],
      "metadata": {
        "colab_type": "toc",
        "id": "9HArAhUdavbe"
      }
    },
    {
      "cell_type": "markdown",
      "source": [
        "##  Import Libraries"
      ],
      "metadata": {
        "id": "-_VBJ0JlYLKI"
      }
    },
    {
      "cell_type": "code",
      "source": [
        "import pandas as pd\n",
        "import numpy as np\n",
        "import sklearn as skl\n",
        "import seaborn as sns\n",
        "import os\n",
        "\n",
        "from sklearn.model_selection import train_test_split\n",
        "\n",
        "from matplotlib import pyplot as plt\n",
        "import math\n",
        "\n",
        "#from google.colab import drive\n",
        "#drive.mount('/content/drive')\n",
        "\n",
        "import pandas as pd\n",
        "\n",
        "import warnings\n",
        "warnings.filterwarnings('ignore')"
      ],
      "metadata": {
        "id": "XRyEMuKdYN_8"
      },
      "execution_count": null,
      "outputs": []
    },
    {
      "cell_type": "markdown",
      "source": [
        "## Loading the data"
      ],
      "metadata": {
        "id": "kXwOL606ZfUN"
      }
    },
    {
      "cell_type": "code",
      "source": [
        "# Data Loading\n",
        "#full_train_data = pd.read_csv('/content/drive/MyDrive/Colab Notebooks/Assignments/Assignment I/train.csv') # TO DELETE\n",
        "url = 'https://raw.githubusercontent.com/ariel-hedvat/AdvancedMLDLCourseAssignments/main/Assignment%20I/test.csv'\n",
        "full_train_data = pd.read_csv(url)\n",
        "\n",
        "train_with_labels = full_train_data.copy()\n",
        "train_data = full_train_data.drop('count', axis=1).copy()\n",
        "train_labels = full_train_data['count'].copy()"
      ],
      "metadata": {
        "id": "SPuyJ3qXZgWY"
      },
      "execution_count": null,
      "outputs": []
    },
    {
      "cell_type": "markdown",
      "source": [
        "## Exploring The Data"
      ],
      "metadata": {
        "id": "P8cTl07AZgyg"
      }
    },
    {
      "cell_type": "code",
      "source": [
        "train_data"
      ],
      "metadata": {
        "id": "4yhKnP5_ZnTi",
        "colab": {
          "base_uri": "https://localhost:8080/",
          "height": 423
        },
        "outputId": "486941a2-c4e4-408a-db0e-3137bae391b7"
      },
      "execution_count": null,
      "outputs": [
        {
          "output_type": "execute_result",
          "data": {
            "text/plain": [
              "                 datetime  season  holiday  workingday  weather   temp  \\\n",
              "0     2011-07-11 00:00:00       3        0           1        1  28.70   \n",
              "1     2012-05-18 22:00:00       2        0           1        1  22.96   \n",
              "2     2011-04-01 23:00:00       2        0           1        1  12.30   \n",
              "3     2012-09-16 09:00:00       3        0           0        1  23.78   \n",
              "4     2011-02-01 23:00:00       1        0           1        3   8.20   \n",
              "...                   ...     ...      ...         ...      ...    ...   \n",
              "8159  2012-01-14 02:00:00       1        0           0        1   6.56   \n",
              "8160  2011-12-10 09:00:00       4        0           0        1  11.48   \n",
              "8161  2011-12-18 16:00:00       4        0           0        1  11.48   \n",
              "8162  2011-02-19 07:00:00       1        0           0        1  15.58   \n",
              "8163  2012-05-02 07:00:00       2        0           1        2  22.14   \n",
              "\n",
              "       atemp  humidity  windspeed  pollution  sunlight   traffic  \n",
              "0     32.575        65    12.9980   5.354100    28.701  0.000000  \n",
              "1     26.515        52    22.0028  85.425233    22.961  0.004489  \n",
              "2     15.910        61     6.0032   2.040899    12.301  0.000242  \n",
              "3     27.275        60     8.9981  26.682772    23.781  0.004489  \n",
              "4      9.850        93    12.9980   5.851754     8.201  0.000000  \n",
              "...      ...       ...        ...        ...       ...       ...  \n",
              "8159   8.335        47    11.0014  14.953355     6.561  0.004489  \n",
              "8160  12.880        61    19.0012   7.977025    11.481  0.000000  \n",
              "8161  13.635        48    16.9979   6.916512    11.481  0.015615  \n",
              "8162  19.695        17    35.0008   0.095445    15.581  0.000242  \n",
              "8163  25.760        88    12.9980  81.965417    22.141  0.015615  \n",
              "\n",
              "[8164 rows x 12 columns]"
            ],
            "text/html": [
              "\n",
              "  <div id=\"df-7ea6abf9-9364-44e9-9df5-93423df5bdd1\" class=\"colab-df-container\">\n",
              "    <div>\n",
              "<style scoped>\n",
              "    .dataframe tbody tr th:only-of-type {\n",
              "        vertical-align: middle;\n",
              "    }\n",
              "\n",
              "    .dataframe tbody tr th {\n",
              "        vertical-align: top;\n",
              "    }\n",
              "\n",
              "    .dataframe thead th {\n",
              "        text-align: right;\n",
              "    }\n",
              "</style>\n",
              "<table border=\"1\" class=\"dataframe\">\n",
              "  <thead>\n",
              "    <tr style=\"text-align: right;\">\n",
              "      <th></th>\n",
              "      <th>datetime</th>\n",
              "      <th>season</th>\n",
              "      <th>holiday</th>\n",
              "      <th>workingday</th>\n",
              "      <th>weather</th>\n",
              "      <th>temp</th>\n",
              "      <th>atemp</th>\n",
              "      <th>humidity</th>\n",
              "      <th>windspeed</th>\n",
              "      <th>pollution</th>\n",
              "      <th>sunlight</th>\n",
              "      <th>traffic</th>\n",
              "    </tr>\n",
              "  </thead>\n",
              "  <tbody>\n",
              "    <tr>\n",
              "      <th>0</th>\n",
              "      <td>2011-07-11 00:00:00</td>\n",
              "      <td>3</td>\n",
              "      <td>0</td>\n",
              "      <td>1</td>\n",
              "      <td>1</td>\n",
              "      <td>28.70</td>\n",
              "      <td>32.575</td>\n",
              "      <td>65</td>\n",
              "      <td>12.9980</td>\n",
              "      <td>5.354100</td>\n",
              "      <td>28.701</td>\n",
              "      <td>0.000000</td>\n",
              "    </tr>\n",
              "    <tr>\n",
              "      <th>1</th>\n",
              "      <td>2012-05-18 22:00:00</td>\n",
              "      <td>2</td>\n",
              "      <td>0</td>\n",
              "      <td>1</td>\n",
              "      <td>1</td>\n",
              "      <td>22.96</td>\n",
              "      <td>26.515</td>\n",
              "      <td>52</td>\n",
              "      <td>22.0028</td>\n",
              "      <td>85.425233</td>\n",
              "      <td>22.961</td>\n",
              "      <td>0.004489</td>\n",
              "    </tr>\n",
              "    <tr>\n",
              "      <th>2</th>\n",
              "      <td>2011-04-01 23:00:00</td>\n",
              "      <td>2</td>\n",
              "      <td>0</td>\n",
              "      <td>1</td>\n",
              "      <td>1</td>\n",
              "      <td>12.30</td>\n",
              "      <td>15.910</td>\n",
              "      <td>61</td>\n",
              "      <td>6.0032</td>\n",
              "      <td>2.040899</td>\n",
              "      <td>12.301</td>\n",
              "      <td>0.000242</td>\n",
              "    </tr>\n",
              "    <tr>\n",
              "      <th>3</th>\n",
              "      <td>2012-09-16 09:00:00</td>\n",
              "      <td>3</td>\n",
              "      <td>0</td>\n",
              "      <td>0</td>\n",
              "      <td>1</td>\n",
              "      <td>23.78</td>\n",
              "      <td>27.275</td>\n",
              "      <td>60</td>\n",
              "      <td>8.9981</td>\n",
              "      <td>26.682772</td>\n",
              "      <td>23.781</td>\n",
              "      <td>0.004489</td>\n",
              "    </tr>\n",
              "    <tr>\n",
              "      <th>4</th>\n",
              "      <td>2011-02-01 23:00:00</td>\n",
              "      <td>1</td>\n",
              "      <td>0</td>\n",
              "      <td>1</td>\n",
              "      <td>3</td>\n",
              "      <td>8.20</td>\n",
              "      <td>9.850</td>\n",
              "      <td>93</td>\n",
              "      <td>12.9980</td>\n",
              "      <td>5.851754</td>\n",
              "      <td>8.201</td>\n",
              "      <td>0.000000</td>\n",
              "    </tr>\n",
              "    <tr>\n",
              "      <th>...</th>\n",
              "      <td>...</td>\n",
              "      <td>...</td>\n",
              "      <td>...</td>\n",
              "      <td>...</td>\n",
              "      <td>...</td>\n",
              "      <td>...</td>\n",
              "      <td>...</td>\n",
              "      <td>...</td>\n",
              "      <td>...</td>\n",
              "      <td>...</td>\n",
              "      <td>...</td>\n",
              "      <td>...</td>\n",
              "    </tr>\n",
              "    <tr>\n",
              "      <th>8159</th>\n",
              "      <td>2012-01-14 02:00:00</td>\n",
              "      <td>1</td>\n",
              "      <td>0</td>\n",
              "      <td>0</td>\n",
              "      <td>1</td>\n",
              "      <td>6.56</td>\n",
              "      <td>8.335</td>\n",
              "      <td>47</td>\n",
              "      <td>11.0014</td>\n",
              "      <td>14.953355</td>\n",
              "      <td>6.561</td>\n",
              "      <td>0.004489</td>\n",
              "    </tr>\n",
              "    <tr>\n",
              "      <th>8160</th>\n",
              "      <td>2011-12-10 09:00:00</td>\n",
              "      <td>4</td>\n",
              "      <td>0</td>\n",
              "      <td>0</td>\n",
              "      <td>1</td>\n",
              "      <td>11.48</td>\n",
              "      <td>12.880</td>\n",
              "      <td>61</td>\n",
              "      <td>19.0012</td>\n",
              "      <td>7.977025</td>\n",
              "      <td>11.481</td>\n",
              "      <td>0.000000</td>\n",
              "    </tr>\n",
              "    <tr>\n",
              "      <th>8161</th>\n",
              "      <td>2011-12-18 16:00:00</td>\n",
              "      <td>4</td>\n",
              "      <td>0</td>\n",
              "      <td>0</td>\n",
              "      <td>1</td>\n",
              "      <td>11.48</td>\n",
              "      <td>13.635</td>\n",
              "      <td>48</td>\n",
              "      <td>16.9979</td>\n",
              "      <td>6.916512</td>\n",
              "      <td>11.481</td>\n",
              "      <td>0.015615</td>\n",
              "    </tr>\n",
              "    <tr>\n",
              "      <th>8162</th>\n",
              "      <td>2011-02-19 07:00:00</td>\n",
              "      <td>1</td>\n",
              "      <td>0</td>\n",
              "      <td>0</td>\n",
              "      <td>1</td>\n",
              "      <td>15.58</td>\n",
              "      <td>19.695</td>\n",
              "      <td>17</td>\n",
              "      <td>35.0008</td>\n",
              "      <td>0.095445</td>\n",
              "      <td>15.581</td>\n",
              "      <td>0.000242</td>\n",
              "    </tr>\n",
              "    <tr>\n",
              "      <th>8163</th>\n",
              "      <td>2012-05-02 07:00:00</td>\n",
              "      <td>2</td>\n",
              "      <td>0</td>\n",
              "      <td>1</td>\n",
              "      <td>2</td>\n",
              "      <td>22.14</td>\n",
              "      <td>25.760</td>\n",
              "      <td>88</td>\n",
              "      <td>12.9980</td>\n",
              "      <td>81.965417</td>\n",
              "      <td>22.141</td>\n",
              "      <td>0.015615</td>\n",
              "    </tr>\n",
              "  </tbody>\n",
              "</table>\n",
              "<p>8164 rows × 12 columns</p>\n",
              "</div>\n",
              "    <div class=\"colab-df-buttons\">\n",
              "\n",
              "  <div class=\"colab-df-container\">\n",
              "    <button class=\"colab-df-convert\" onclick=\"convertToInteractive('df-7ea6abf9-9364-44e9-9df5-93423df5bdd1')\"\n",
              "            title=\"Convert this dataframe to an interactive table.\"\n",
              "            style=\"display:none;\">\n",
              "\n",
              "  <svg xmlns=\"http://www.w3.org/2000/svg\" height=\"24px\" viewBox=\"0 -960 960 960\">\n",
              "    <path d=\"M120-120v-720h720v720H120Zm60-500h600v-160H180v160Zm220 220h160v-160H400v160Zm0 220h160v-160H400v160ZM180-400h160v-160H180v160Zm440 0h160v-160H620v160ZM180-180h160v-160H180v160Zm440 0h160v-160H620v160Z\"/>\n",
              "  </svg>\n",
              "    </button>\n",
              "\n",
              "  <style>\n",
              "    .colab-df-container {\n",
              "      display:flex;\n",
              "      gap: 12px;\n",
              "    }\n",
              "\n",
              "    .colab-df-convert {\n",
              "      background-color: #E8F0FE;\n",
              "      border: none;\n",
              "      border-radius: 50%;\n",
              "      cursor: pointer;\n",
              "      display: none;\n",
              "      fill: #1967D2;\n",
              "      height: 32px;\n",
              "      padding: 0 0 0 0;\n",
              "      width: 32px;\n",
              "    }\n",
              "\n",
              "    .colab-df-convert:hover {\n",
              "      background-color: #E2EBFA;\n",
              "      box-shadow: 0px 1px 2px rgba(60, 64, 67, 0.3), 0px 1px 3px 1px rgba(60, 64, 67, 0.15);\n",
              "      fill: #174EA6;\n",
              "    }\n",
              "\n",
              "    .colab-df-buttons div {\n",
              "      margin-bottom: 4px;\n",
              "    }\n",
              "\n",
              "    [theme=dark] .colab-df-convert {\n",
              "      background-color: #3B4455;\n",
              "      fill: #D2E3FC;\n",
              "    }\n",
              "\n",
              "    [theme=dark] .colab-df-convert:hover {\n",
              "      background-color: #434B5C;\n",
              "      box-shadow: 0px 1px 3px 1px rgba(0, 0, 0, 0.15);\n",
              "      filter: drop-shadow(0px 1px 2px rgba(0, 0, 0, 0.3));\n",
              "      fill: #FFFFFF;\n",
              "    }\n",
              "  </style>\n",
              "\n",
              "    <script>\n",
              "      const buttonEl =\n",
              "        document.querySelector('#df-7ea6abf9-9364-44e9-9df5-93423df5bdd1 button.colab-df-convert');\n",
              "      buttonEl.style.display =\n",
              "        google.colab.kernel.accessAllowed ? 'block' : 'none';\n",
              "\n",
              "      async function convertToInteractive(key) {\n",
              "        const element = document.querySelector('#df-7ea6abf9-9364-44e9-9df5-93423df5bdd1');\n",
              "        const dataTable =\n",
              "          await google.colab.kernel.invokeFunction('convertToInteractive',\n",
              "                                                    [key], {});\n",
              "        if (!dataTable) return;\n",
              "\n",
              "        const docLinkHtml = 'Like what you see? Visit the ' +\n",
              "          '<a target=\"_blank\" href=https://colab.research.google.com/notebooks/data_table.ipynb>data table notebook</a>'\n",
              "          + ' to learn more about interactive tables.';\n",
              "        element.innerHTML = '';\n",
              "        dataTable['output_type'] = 'display_data';\n",
              "        await google.colab.output.renderOutput(dataTable, element);\n",
              "        const docLink = document.createElement('div');\n",
              "        docLink.innerHTML = docLinkHtml;\n",
              "        element.appendChild(docLink);\n",
              "      }\n",
              "    </script>\n",
              "  </div>\n",
              "\n",
              "\n",
              "<div id=\"df-72969526-f632-407d-bc28-a75d23373273\">\n",
              "  <button class=\"colab-df-quickchart\" onclick=\"quickchart('df-72969526-f632-407d-bc28-a75d23373273')\"\n",
              "            title=\"Suggest charts\"\n",
              "            style=\"display:none;\">\n",
              "\n",
              "<svg xmlns=\"http://www.w3.org/2000/svg\" height=\"24px\"viewBox=\"0 0 24 24\"\n",
              "     width=\"24px\">\n",
              "    <g>\n",
              "        <path d=\"M19 3H5c-1.1 0-2 .9-2 2v14c0 1.1.9 2 2 2h14c1.1 0 2-.9 2-2V5c0-1.1-.9-2-2-2zM9 17H7v-7h2v7zm4 0h-2V7h2v10zm4 0h-2v-4h2v4z\"/>\n",
              "    </g>\n",
              "</svg>\n",
              "  </button>\n",
              "\n",
              "<style>\n",
              "  .colab-df-quickchart {\n",
              "      --bg-color: #E8F0FE;\n",
              "      --fill-color: #1967D2;\n",
              "      --hover-bg-color: #E2EBFA;\n",
              "      --hover-fill-color: #174EA6;\n",
              "      --disabled-fill-color: #AAA;\n",
              "      --disabled-bg-color: #DDD;\n",
              "  }\n",
              "\n",
              "  [theme=dark] .colab-df-quickchart {\n",
              "      --bg-color: #3B4455;\n",
              "      --fill-color: #D2E3FC;\n",
              "      --hover-bg-color: #434B5C;\n",
              "      --hover-fill-color: #FFFFFF;\n",
              "      --disabled-bg-color: #3B4455;\n",
              "      --disabled-fill-color: #666;\n",
              "  }\n",
              "\n",
              "  .colab-df-quickchart {\n",
              "    background-color: var(--bg-color);\n",
              "    border: none;\n",
              "    border-radius: 50%;\n",
              "    cursor: pointer;\n",
              "    display: none;\n",
              "    fill: var(--fill-color);\n",
              "    height: 32px;\n",
              "    padding: 0;\n",
              "    width: 32px;\n",
              "  }\n",
              "\n",
              "  .colab-df-quickchart:hover {\n",
              "    background-color: var(--hover-bg-color);\n",
              "    box-shadow: 0 1px 2px rgba(60, 64, 67, 0.3), 0 1px 3px 1px rgba(60, 64, 67, 0.15);\n",
              "    fill: var(--button-hover-fill-color);\n",
              "  }\n",
              "\n",
              "  .colab-df-quickchart-complete:disabled,\n",
              "  .colab-df-quickchart-complete:disabled:hover {\n",
              "    background-color: var(--disabled-bg-color);\n",
              "    fill: var(--disabled-fill-color);\n",
              "    box-shadow: none;\n",
              "  }\n",
              "\n",
              "  .colab-df-spinner {\n",
              "    border: 2px solid var(--fill-color);\n",
              "    border-color: transparent;\n",
              "    border-bottom-color: var(--fill-color);\n",
              "    animation:\n",
              "      spin 1s steps(1) infinite;\n",
              "  }\n",
              "\n",
              "  @keyframes spin {\n",
              "    0% {\n",
              "      border-color: transparent;\n",
              "      border-bottom-color: var(--fill-color);\n",
              "      border-left-color: var(--fill-color);\n",
              "    }\n",
              "    20% {\n",
              "      border-color: transparent;\n",
              "      border-left-color: var(--fill-color);\n",
              "      border-top-color: var(--fill-color);\n",
              "    }\n",
              "    30% {\n",
              "      border-color: transparent;\n",
              "      border-left-color: var(--fill-color);\n",
              "      border-top-color: var(--fill-color);\n",
              "      border-right-color: var(--fill-color);\n",
              "    }\n",
              "    40% {\n",
              "      border-color: transparent;\n",
              "      border-right-color: var(--fill-color);\n",
              "      border-top-color: var(--fill-color);\n",
              "    }\n",
              "    60% {\n",
              "      border-color: transparent;\n",
              "      border-right-color: var(--fill-color);\n",
              "    }\n",
              "    80% {\n",
              "      border-color: transparent;\n",
              "      border-right-color: var(--fill-color);\n",
              "      border-bottom-color: var(--fill-color);\n",
              "    }\n",
              "    90% {\n",
              "      border-color: transparent;\n",
              "      border-bottom-color: var(--fill-color);\n",
              "    }\n",
              "  }\n",
              "</style>\n",
              "\n",
              "  <script>\n",
              "    async function quickchart(key) {\n",
              "      const quickchartButtonEl =\n",
              "        document.querySelector('#' + key + ' button');\n",
              "      quickchartButtonEl.disabled = true;  // To prevent multiple clicks.\n",
              "      quickchartButtonEl.classList.add('colab-df-spinner');\n",
              "      try {\n",
              "        const charts = await google.colab.kernel.invokeFunction(\n",
              "            'suggestCharts', [key], {});\n",
              "      } catch (error) {\n",
              "        console.error('Error during call to suggestCharts:', error);\n",
              "      }\n",
              "      quickchartButtonEl.classList.remove('colab-df-spinner');\n",
              "      quickchartButtonEl.classList.add('colab-df-quickchart-complete');\n",
              "    }\n",
              "    (() => {\n",
              "      let quickchartButtonEl =\n",
              "        document.querySelector('#df-72969526-f632-407d-bc28-a75d23373273 button');\n",
              "      quickchartButtonEl.style.display =\n",
              "        google.colab.kernel.accessAllowed ? 'block' : 'none';\n",
              "    })();\n",
              "  </script>\n",
              "</div>\n",
              "\n",
              "  <div id=\"id_f79db225-0859-4482-adb9-ad1f03ec3bc1\">\n",
              "    <style>\n",
              "      .colab-df-generate {\n",
              "        background-color: #E8F0FE;\n",
              "        border: none;\n",
              "        border-radius: 50%;\n",
              "        cursor: pointer;\n",
              "        display: none;\n",
              "        fill: #1967D2;\n",
              "        height: 32px;\n",
              "        padding: 0 0 0 0;\n",
              "        width: 32px;\n",
              "      }\n",
              "\n",
              "      .colab-df-generate:hover {\n",
              "        background-color: #E2EBFA;\n",
              "        box-shadow: 0px 1px 2px rgba(60, 64, 67, 0.3), 0px 1px 3px 1px rgba(60, 64, 67, 0.15);\n",
              "        fill: #174EA6;\n",
              "      }\n",
              "\n",
              "      [theme=dark] .colab-df-generate {\n",
              "        background-color: #3B4455;\n",
              "        fill: #D2E3FC;\n",
              "      }\n",
              "\n",
              "      [theme=dark] .colab-df-generate:hover {\n",
              "        background-color: #434B5C;\n",
              "        box-shadow: 0px 1px 3px 1px rgba(0, 0, 0, 0.15);\n",
              "        filter: drop-shadow(0px 1px 2px rgba(0, 0, 0, 0.3));\n",
              "        fill: #FFFFFF;\n",
              "      }\n",
              "    </style>\n",
              "    <button class=\"colab-df-generate\" onclick=\"generateWithVariable('train_data')\"\n",
              "            title=\"Generate code using this dataframe.\"\n",
              "            style=\"display:none;\">\n",
              "\n",
              "  <svg xmlns=\"http://www.w3.org/2000/svg\" height=\"24px\"viewBox=\"0 0 24 24\"\n",
              "       width=\"24px\">\n",
              "    <path d=\"M7,19H8.4L18.45,9,17,7.55,7,17.6ZM5,21V16.75L18.45,3.32a2,2,0,0,1,2.83,0l1.4,1.43a1.91,1.91,0,0,1,.58,1.4,1.91,1.91,0,0,1-.58,1.4L9.25,21ZM18.45,9,17,7.55Zm-12,3A5.31,5.31,0,0,0,4.9,8.1,5.31,5.31,0,0,0,1,6.5,5.31,5.31,0,0,0,4.9,4.9,5.31,5.31,0,0,0,6.5,1,5.31,5.31,0,0,0,8.1,4.9,5.31,5.31,0,0,0,12,6.5,5.46,5.46,0,0,0,6.5,12Z\"/>\n",
              "  </svg>\n",
              "    </button>\n",
              "    <script>\n",
              "      (() => {\n",
              "      const buttonEl =\n",
              "        document.querySelector('#id_f79db225-0859-4482-adb9-ad1f03ec3bc1 button.colab-df-generate');\n",
              "      buttonEl.style.display =\n",
              "        google.colab.kernel.accessAllowed ? 'block' : 'none';\n",
              "\n",
              "      buttonEl.onclick = () => {\n",
              "        google.colab.notebook.generateWithVariable('train_data');\n",
              "      }\n",
              "      })();\n",
              "    </script>\n",
              "  </div>\n",
              "\n",
              "    </div>\n",
              "  </div>\n"
            ]
          },
          "metadata": {},
          "execution_count": 13
        }
      ]
    },
    {
      "cell_type": "markdown",
      "source": [
        "## Preprocessing"
      ],
      "metadata": {
        "id": "E_OOmtAYZnm7"
      }
    },
    {
      "cell_type": "code",
      "source": [
        "full_train_data_copy = full_train_data.copy()\n",
        "\n",
        "labels = full_train_data_copy['count']\n",
        "data = full_train_data_copy.drop('count', axis=1)\n",
        "\n",
        "# Train split to train and validation with fixed random state (42) to ensure reproducibility\n",
        "train_data, validation_data, train_labels, validation_labels = train_test_split(data, labels, test_size=0.2, random_state = 42, shuffle = True)\n",
        "\n",
        "# Save copies in order to have a clean data set to use in the final preprocessing function\n",
        "# (when pipelining all the functions from start to end)\n",
        "train_data_ppc = train_data.copy()\n",
        "train_lables_ppc = train_labels.copy()\n",
        "\n",
        "validation_data_ppc = validation_data.copy()\n",
        "validation_labels_ppc = validation_labels.copy()"
      ],
      "metadata": {
        "id": "C1jDKG3DZwqi"
      },
      "execution_count": null,
      "outputs": []
    },
    {
      "cell_type": "markdown",
      "source": [
        "  ### Handling Missing Values\n"
      ],
      "metadata": {
        "id": "4A8VA3nRwiB7"
      }
    },
    {
      "cell_type": "code",
      "source": [
        "# Example of a function implementation and call\n",
        "def handle_corr_missing_values(train_data, test_data):\n",
        "  pass\n",
        "\n",
        "train_data, validation_data = handle_corr_missing_values(train_data, validation_data)"
      ],
      "metadata": {
        "id": "cOQY1RNLNOxW"
      },
      "execution_count": null,
      "outputs": []
    },
    {
      "cell_type": "code",
      "source": [
        "# Handle missing values function\n",
        "def handle_missing_values(train_data, test_data):\n",
        "    train_data, test_data = handle_corr_missing_values(train_data, test_data)\n",
        "    train_data, test_data = handle_rest_missing_values(train_data, test_data)\n",
        "    return train_data, test_data"
      ],
      "metadata": {
        "id": "Nk_ZkG1XxE0M"
      },
      "execution_count": null,
      "outputs": []
    },
    {
      "cell_type": "markdown",
      "source": [
        "### Add New Features"
      ],
      "metadata": {
        "id": "96lau3rN1OpT"
      }
    },
    {
      "cell_type": "code",
      "source": [
        "def adding_new_feature(data):\n",
        "    #....\n",
        "\n",
        "    return data"
      ],
      "metadata": {
        "id": "N1XY_qF41S54"
      },
      "execution_count": null,
      "outputs": []
    },
    {
      "cell_type": "code",
      "source": [
        "train_data = adding_new_feature(train_data)\n",
        "validationv_data = adding_new_feature(validation_data)"
      ],
      "metadata": {
        "id": "6R8kO0wON8BM"
      },
      "execution_count": null,
      "outputs": []
    },
    {
      "cell_type": "code",
      "source": [
        "train_data.head()"
      ],
      "metadata": {
        "id": "uMN50RlwN_3U"
      },
      "execution_count": null,
      "outputs": []
    },
    {
      "cell_type": "code",
      "source": [
        "validation_data.head()"
      ],
      "metadata": {
        "id": "1IS7z3wLOAbz"
      },
      "execution_count": null,
      "outputs": []
    },
    {
      "cell_type": "markdown",
      "source": [
        "  ### Handling Categorial Features\n"
      ],
      "metadata": {
        "id": "xtPSG9CixFck"
      }
    },
    {
      "cell_type": "code",
      "source": [
        "def handle_categorial_features(train_data, test_data):\n",
        "\n",
        "    train_data, remaining_categories = reducing_category_types(train_data)\n",
        "    test_data = apply_remaining_categories_for_test(test_data, remaining_categories)\n",
        "\n",
        "    train_data = categorical_variables_spread(train_data)\n",
        "    test_data = categorical_variables_spread(test_data)\n",
        "\n",
        "    return train_data, test_data"
      ],
      "metadata": {
        "id": "hUTrRToHxTMr"
      },
      "execution_count": null,
      "outputs": []
    },
    {
      "cell_type": "code",
      "source": [
        "train_data, validation_data = handle_categorial_features(train_data, validation_data)"
      ],
      "metadata": {
        "id": "WQUbnQfeOM3P"
      },
      "execution_count": null,
      "outputs": []
    },
    {
      "cell_type": "markdown",
      "source": [
        "  ### Handling Outliers\n"
      ],
      "metadata": {
        "id": "zxs7JyHhxIoa"
      }
    },
    {
      "cell_type": "code",
      "source": [
        "def handle_outliers(train_data, train_labels, test_data):\n",
        "\n",
        "    train_data, bounds = handle_ND_outliers_train(train_data)\n",
        "    test_data = handle_ND_outliers_test(test_data, bounds)\n",
        "\n",
        "    contamination = 0.001\n",
        "    threshold = 0.001\n",
        "    train_data, train_labels = handle_NND_outliers_train(train_data, train_labels, threshold, contamination)\n",
        "\n",
        "    return train_data, train_labels, test_data"
      ],
      "metadata": {
        "id": "on9F64NLxLdd"
      },
      "execution_count": null,
      "outputs": []
    },
    {
      "cell_type": "code",
      "source": [
        "train_data, train_labels, validation_data = handle_outliers(train_data, train_labels, validation_data)"
      ],
      "metadata": {
        "id": "_d0I5EXmOgL1"
      },
      "execution_count": null,
      "outputs": []
    },
    {
      "cell_type": "markdown",
      "source": [
        "  ### Large Dimensionality\n"
      ],
      "metadata": {
        "id": "A7NVDhWSxUTO"
      }
    },
    {
      "cell_type": "markdown",
      "source": [
        "##### `How will we recognize that the dimensions of the problem are too large?`\n",
        "\n",
        "In order to assess as the dimensionality of the problem to a higher degree we can use the following steps:<br>\n",
        "\n",
        "- Compute the Feature-to-Sample Ratio: Calculate the ratio of the number of features to the number of samples. If this ratio is significantly large, it might indicate a high-dimensional problem.\n",
        "\n",
        "- Explore Feature Sparsity: Analyze the sparsity of our features. If a significant number of features have a high percentage of zero or near-zero values, it may indicate a high-dimensional problem.\n",
        "\n",
        "- Assess Feature Redundancy: Determine the level of redundancy among the features. Redundant features provide similar or redundant information, which can increase dimensionality without adding valuable insights. (correlated features removal)\n",
        "\n",
        "- Consider Feature Importance: Evaluate the importance or relevance of each feature in relation to the target variable (if available).\n",
        "\n",
        "- Assess Computational Complexity: Take into account the computational resources and time required to handle high-dimensional data. Some algorithms may become computationally expensive or impractical to run with a large number of features.\n",
        "\n",
        "- Evaluate Model Performance: Train and evaluate models using different subsets of features to assess their impact on model performance. If the performance remains consistent despite reducing the number of features, it may indicate high dimensionality."
      ],
      "metadata": {
        "id": "bjEa7ZgqOuvD"
      }
    },
    {
      "cell_type": "code",
      "source": [],
      "metadata": {
        "id": "Gq3VORokxWRZ"
      },
      "execution_count": null,
      "outputs": []
    },
    {
      "cell_type": "markdown",
      "source": [
        "  ### Data Normalizing\n"
      ],
      "metadata": {
        "id": "NiFHiz6MxXGT"
      }
    },
    {
      "cell_type": "code",
      "source": [
        "def normalize_data(train_data, test_data):\n",
        "\n",
        "    selected_features = ['size', 'vsize', 'numstrings', 'printables', 'A','imports', 'exports', 'symbols', 'paths', 'urls', 'registry', 'MZ', 'avlength', 'proportion_imports', 'file_type_prob_trid', 'B']\n",
        "\n",
        "    train_data, scaler = normalize_data_train(train_data, selected_features)\n",
        "    test_data = normalize_data_test(test_data, scaler, selected_features)\n",
        "\n",
        "    return train_data, test_data"
      ],
      "metadata": {
        "id": "E8LVT-_CxZe_"
      },
      "execution_count": null,
      "outputs": []
    },
    {
      "cell_type": "code",
      "source": [
        "train_data, validation_data = normalize_data(train_data, validation_data)"
      ],
      "metadata": {
        "id": "hM0OG3qTO9wR"
      },
      "execution_count": null,
      "outputs": []
    },
    {
      "cell_type": "markdown",
      "source": [
        "  ### Dimensionality Reduction"
      ],
      "metadata": {
        "id": "iaFEPiItxaqq"
      }
    },
    {
      "cell_type": "code",
      "source": [
        "def remove_features(data):\n",
        "    features_to_remove = ['registry', 'size', 'MZ']\n",
        "    data_selected = data.drop(features_to_remove, axis=1)\n",
        "    return data_selected"
      ],
      "metadata": {
        "id": "t6PiIOYlxbfZ"
      },
      "execution_count": null,
      "outputs": []
    },
    {
      "cell_type": "code",
      "source": [
        "train_data = remove_features(train_data)\n",
        "validation_data = remove_features(validation_data)"
      ],
      "metadata": {
        "id": "jTvPqOy1PCOP"
      },
      "execution_count": null,
      "outputs": []
    },
    {
      "cell_type": "markdown",
      "source": [
        "### Final Preprocessing Function"
      ],
      "metadata": {
        "id": "6TXc09TPPJe0"
      }
    },
    {
      "cell_type": "markdown",
      "source": [
        "Now, after deciding what manipulations we will do on the train data (Outliers removal, Normalization, Missing values handling, Categorial data handling, Feature selection and Feature manipulation), we will create a generic preprocess function to run it all at once."
      ],
      "metadata": {
        "id": "o4-zmXvRPbzF"
      }
    },
    {
      "cell_type": "code",
      "source": [
        "def preprocess_data_ALL(train_data, train_labels, test_data):\n",
        "\n",
        "    # Missing Values Handling\n",
        "    train_data, test_data = handle_missing_values(train_data, test_data)\n",
        "\n",
        "    # Add feature - 'proportion_imports'\n",
        "    train_data = adding_new_feature(train_data)\n",
        "    test_data = adding_new_feature(test_data)\n",
        "\n",
        "    # Categorical Data Handling\n",
        "    train_data, test_data = handle_categorial_features(train_data, test_data)\n",
        "\n",
        "    # Outliers Removal\n",
        "    train_data, train_labels, test_data = handle_outliers(train_data, train_labels, test_data)\n",
        "\n",
        "    # Normalization\n",
        "    train_data, test_data = normalize_data(train_data, test_data)\n",
        "\n",
        "    # Feature Reduction\n",
        "    train_data = remove_features(train_data)\n",
        "    test_data = remove_features(test_data)\n",
        "\n",
        "    # PCA\n",
        "    # train_data, test_data = perform_pca(train_data, test_data, 0.99)\n",
        "\n",
        "    return train_data, train_labels, test_data"
      ],
      "metadata": {
        "id": "1yLOPsJpPMrY"
      },
      "execution_count": null,
      "outputs": []
    },
    {
      "cell_type": "code",
      "source": [
        "# Applying all the preprocessing decisions at once from start to end\n",
        "preprocessed_train_data, preprocessed_train_labels, preprocessed_validation_data = preprocess_data_ALL(train_data_ppc, train_lables_ppc, validation_data_ppc)\n",
        "preprocessed_validation_labels = test_labels_ppc.copy()"
      ],
      "metadata": {
        "id": "jJUYWqIaPQ-M"
      },
      "execution_count": null,
      "outputs": []
    },
    {
      "cell_type": "markdown",
      "source": [
        "## Running the Models"
      ],
      "metadata": {
        "id": "PujsQcU7Zw5v"
      }
    },
    {
      "cell_type": "code",
      "source": [],
      "metadata": {
        "id": "h0oHr0ePZ5PO"
      },
      "execution_count": null,
      "outputs": []
    },
    {
      "cell_type": "markdown",
      "source": [],
      "metadata": {
        "id": "w2Ngv2nFxMKP"
      }
    },
    {
      "cell_type": "markdown",
      "source": [
        "## Evaluation of the Models"
      ],
      "metadata": {
        "id": "qbvc7vxiZ5fC"
      }
    },
    {
      "cell_type": "code",
      "source": [],
      "metadata": {
        "id": "TpQcGtSMaD_R"
      },
      "execution_count": null,
      "outputs": []
    },
    {
      "cell_type": "markdown",
      "source": [
        "## Prediction"
      ],
      "metadata": {
        "id": "dE4SF0VdaENB"
      }
    },
    {
      "cell_type": "code",
      "source": [],
      "metadata": {
        "id": "VT6iVDwwaRM_"
      },
      "execution_count": null,
      "outputs": []
    },
    {
      "cell_type": "markdown",
      "source": [
        "\n",
        "\n",
        "1.   List item\n",
        "2.   List item\n",
        "\n"
      ],
      "metadata": {
        "id": "hMx7-OLAaRaY"
      }
    },
    {
      "cell_type": "markdown",
      "source": [
        "## *Output*\n",
        "\n",
        "צריך למלא את זה לפי מה שיצא לנו!!!\n"
      ],
      "metadata": {
        "id": "IJrSf6hnWnCJ"
      }
    },
    {
      "cell_type": "code",
      "source": [
        "import pandas as pd\n",
        "# Keep keys the same, and replace values according to your results and the specified type\n",
        "\n",
        "results = {'model': ['string1', 'string2', 'string3'],\n",
        "           'Score (RMSE)': ['string1', 'string2', 'string3'],\n",
        "           'Hyperparams used': [['list1'], ['list2'], ['list3']],\n",
        "           'Features dropped': [['list1'], ['list2'], ['list3']],\n",
        "           'New features created': [['list1'], ['list2'], ['list3']],\n",
        "           'Runtime trainining + inference (seconds)': ['int1', 'int2', 'int3'],\n",
        "           'Hardware used (GPU/CPU/TPU)': ['string1', 'string2', 'string3'],\n",
        "           'Explainability (top 3 features)': [['list1'], ['list2'], ['list3']]\n",
        "           }\n",
        "\n",
        "df = pd.DataFrame(results)\n",
        "df"
      ],
      "metadata": {
        "id": "_s4RrumjWX9q"
      },
      "execution_count": null,
      "outputs": []
    },
    {
      "cell_type": "code",
      "source": [
        "df.to_csv(os.path.join(os.getcwd(), 'example.csv'))"
      ],
      "metadata": {
        "id": "rCyJPOqeXElz"
      },
      "execution_count": null,
      "outputs": []
    },
    {
      "cell_type": "code",
      "source": [
        "#בדיקת המודל\n",
        "\n",
        "import numpy as np\n",
        "from sklearn.metrics import mean_squared_error\n",
        "np.sqrt(mean_squared_error(y_test, y_pred))"
      ],
      "metadata": {
        "id": "aE9eoQgeXfKv"
      },
      "execution_count": null,
      "outputs": []
    }
  ]
}