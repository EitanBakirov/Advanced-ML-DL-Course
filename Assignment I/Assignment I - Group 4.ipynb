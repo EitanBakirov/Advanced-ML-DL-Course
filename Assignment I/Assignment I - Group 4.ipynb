{
  "nbformat": 4,
  "nbformat_minor": 0,
  "metadata": {
    "colab": {
      "provenance": [],
      "toc_visible": true
    },
    "kernelspec": {
      "name": "python3",
      "display_name": "Python 3"
    },
    "language_info": {
      "name": "python"
    }
  },
  "cells": [
    {
      "cell_type": "markdown",
      "source": [
        "<div style=\"text-align: center;\" class=\"markdown-google-sans\">\n",
        "  <h1><font size=6>Assignment 1</font></h1>\n",
        "\n",
        "  <u>Group members:</u><br>\n",
        "  - Ariel Hedvat<br>\n",
        "  - Shiraz Israeli<br>\n",
        "  - Yuval Bakirov<br>\n",
        "  - Eitan Bakirov\n",
        "\n",
        "<br>\n",
        "\n",
        "In this project we are aiming to build an accurate model to predict daily bicycle rental demand using the provided bike sharing dataset. By analyzing the data and testing different modeling techniques, we will develop a robust model optimized to forecast the rental count metric on a held-out test set.<br>\n",
        "The goal is to create a reliable demand prediction model for bike sharing operations.\n",
        "</div>\n"
      ],
      "metadata": {
        "id": "f0v2mOU5X6Ls"
      }
    },
    {
      "cell_type": "markdown",
      "source": [
        "\n",
        "\n",
        "*   כדאי להשתמש במודלים מבוססי עצים: xgboost, random forest\n",
        "*   להעלות את המחברת לגיט האב ולשים את הקישור בתיבת הגשה וגם את הסי-אס-וי\n",
        "\n",
        "\n",
        "\n",
        "\n",
        "\n",
        "\n"
      ],
      "metadata": {
        "id": "3-LkfVatUx3l"
      }
    },
    {
      "cell_type": "markdown",
      "source": [
        "<div style=\"text-align: center;\" class=\"markdown-google-sans\">\n",
        "  <h1><font size=5>Data</font></h1>\n",
        "</div>"
      ],
      "metadata": {
        "id": "6KQAH9j-qoZw"
      }
    },
    {
      "cell_type": "markdown",
      "source": [
        "`train.csv` and `test.csv` - contain information on bike rentals, including the timestamp, seasonal indicators, holiday and working day flags, weather conditions, temperature metrics, humidity, windspeed, pollution, sunlight, traffic, and the count of bikes rented at each recorded time.<br>\n",
        "Target variable to predict is \"count\" (Label).<br><br>\n",
        "\n",
        "\n",
        "למחוק לפני הגשה:<br>\n",
        "\n",
        "---\n",
        "\n",
        "\n",
        "<u>datetime</u> - time of rental<br>\n",
        "<u>season</u> - (1:winter, 2:spring, 3:summer, 4:fall)<br>\n",
        "<u>holiday</u> - (Is it a bank holiday? If so: 1, else 0)<br>\n",
        "<u>workingday</u> - (Is it a working day? If so: 1, else 0)<br>\n",
        "<u>weather</u>\n",
        "- 1: Clear, Few clouds, Partly cloudy, Partly cloudy<br>\n",
        "- 2: Mist + Cloudy, Mist + Broken clouds, Mist + Few clouds, Mist<br>\n",
        "- 3: Light Snow, Light Rain + Thunderstorm + Scattered clouds, Light Rain + Scattered clouds<br>\n",
        "- 4: Heavy Rain + Ice Pallets + Thunderstorm + Mist, Snow + Fog\n",
        "\n",
        "<u>temp</u> - temperature <br>\n",
        "<u>atemp</u> - average temperature <br>\n",
        "\n",
        "\n",
        "---\n"
      ],
      "metadata": {
        "id": "YeDU9j_8rAD1"
      }
    },
    {
      "cell_type": "markdown",
      "source": [
        "<div class=\"markdown-google-sans\">\n",
        "  <h1><font size=5>Table of Contents</font></h1>"
      ],
      "metadata": {
        "id": "DfFFUOOZo51l"
      }
    },
    {
      "cell_type": "markdown",
      "source": [
        ">>[Import Libraries](#scrollTo=-_VBJ0JlYLKI)\n",
        "\n",
        ">>[Loading the data](#scrollTo=kXwOL606ZfUN)\n",
        "\n",
        ">>[Exploring The Data](#scrollTo=P8cTl07AZgyg)\n",
        "\n",
        ">>[Preprocessing](#scrollTo=E_OOmtAYZnm7)\n",
        "\n",
        ">>>[Handling Missing Values](#scrollTo=4A8VA3nRwiB7)\n",
        "\n",
        ">>>[Add New Features](#scrollTo=96lau3rN1OpT)\n",
        "\n",
        ">>>[Handling Categorial Features](#scrollTo=xtPSG9CixFck)\n",
        "\n",
        ">>>[Handling Outliers](#scrollTo=zxs7JyHhxIoa)\n",
        "\n",
        ">>>[Large Dimensionality](#scrollTo=A7NVDhWSxUTO)\n",
        "\n",
        ">>>>>[How will we recognize that the dimensions of the problem are too large?](#scrollTo=bjEa7ZgqOuvD)\n",
        "\n",
        ">>>[Data Normalizing](#scrollTo=NiFHiz6MxXGT)\n",
        "\n",
        ">>>[Dimensionality Reduction](#scrollTo=iaFEPiItxaqq)\n",
        "\n",
        ">>>[Final Preprocessing Function](#scrollTo=6TXc09TPPJe0)\n",
        "\n",
        ">>[Running the Models](#scrollTo=PujsQcU7Zw5v)\n",
        "\n",
        ">>[Evaluation of the Models](#scrollTo=qbvc7vxiZ5fC)\n",
        "\n",
        ">>[Prediction](#scrollTo=dE4SF0VdaENB)\n",
        "\n",
        ">>[Output](#scrollTo=IJrSf6hnWnCJ)\n",
        "\n"
      ],
      "metadata": {
        "colab_type": "toc",
        "id": "9HArAhUdavbe"
      }
    },
    {
      "cell_type": "markdown",
      "source": [
        "##  Import Libraries"
      ],
      "metadata": {
        "id": "-_VBJ0JlYLKI"
      }
    },
    {
      "cell_type": "code",
      "source": [
        "import pandas as pd\n",
        "import numpy as np\n",
        "import sklearn as skl\n",
        "import seaborn as sns\n",
        "import os\n",
        "\n",
        "from sklearn.model_selection import train_test_split\n",
        "\n",
        "from matplotlib import pyplot as plt\n",
        "import math\n",
        "\n",
        "#from google.colab import drive\n",
        "#drive.mount('/content/drive')\n",
        "\n",
        "import pandas as pd\n",
        "\n",
        "import warnings\n",
        "warnings.filterwarnings('ignore')\n",
        "\n",
        "import statsmodels.api as sm\n",
        "from statsmodels.stats.outliers_influence import variance_inflation_factor"
      ],
      "metadata": {
        "id": "XRyEMuKdYN_8"
      },
      "execution_count": 2,
      "outputs": []
    },
    {
      "cell_type": "markdown",
      "source": [
        "## Loading the data"
      ],
      "metadata": {
        "id": "kXwOL606ZfUN"
      }
    },
    {
      "cell_type": "code",
      "source": [
        "# Data Loading\n",
        "#full_train_data = pd.read_csv('/content/drive/MyDrive/Colab Notebooks/Assignments/Assignment I/train.csv') # TO DELETE\n",
        "url = 'https://raw.githubusercontent.com/ariel-hedvat/AdvancedMLDLCourseAssignments/main/Assignment%20I/train.csv'\n",
        "full_train_data = pd.read_csv(url)\n",
        "\n",
        "train_with_labels = full_train_data.copy()\n",
        "train_data = full_train_data.drop('count', axis=1).copy()\n",
        "train_labels = full_train_data['count'].copy()"
      ],
      "metadata": {
        "id": "SPuyJ3qXZgWY"
      },
      "execution_count": 3,
      "outputs": []
    },
    {
      "cell_type": "markdown",
      "source": [
        "## Exploring The Data"
      ],
      "metadata": {
        "id": "P8cTl07AZgyg"
      }
    },
    {
      "cell_type": "markdown",
      "source": [
        "A glimpse of the data frame"
      ],
      "metadata": {
        "id": "ghhb5vUZgvjv"
      }
    },
    {
      "cell_type": "code",
      "source": [
        "train_data"
      ],
      "metadata": {
        "id": "4yhKnP5_ZnTi",
        "colab": {
          "base_uri": "https://localhost:8080/",
          "height": 423
        },
        "outputId": "de02e184-aa36-4d1d-c84d-073f84900c21"
      },
      "execution_count": 4,
      "outputs": [
        {
          "output_type": "execute_result",
          "data": {
            "text/plain": [
              "                 datetime  season  holiday  workingday  weather   temp  \\\n",
              "0     2011-07-11 00:00:00       3        0           1        1  28.70   \n",
              "1     2012-05-18 22:00:00       2        0           1        1  22.96   \n",
              "2     2011-04-01 23:00:00       2        0           1        1  12.30   \n",
              "3     2012-09-16 09:00:00       3        0           0        1  23.78   \n",
              "4     2011-02-01 23:00:00       1        0           1        3   8.20   \n",
              "...                   ...     ...      ...         ...      ...    ...   \n",
              "8159  2012-01-14 02:00:00       1        0           0        1   6.56   \n",
              "8160  2011-12-10 09:00:00       4        0           0        1  11.48   \n",
              "8161  2011-12-18 16:00:00       4        0           0        1  11.48   \n",
              "8162  2011-02-19 07:00:00       1        0           0        1  15.58   \n",
              "8163  2012-05-02 07:00:00       2        0           1        2  22.14   \n",
              "\n",
              "       atemp  humidity  windspeed  pollution  sunlight   traffic  \n",
              "0     32.575        65    12.9980   5.354100    28.701  0.000000  \n",
              "1     26.515        52    22.0028  85.425233    22.961  0.004489  \n",
              "2     15.910        61     6.0032   2.040899    12.301  0.000242  \n",
              "3     27.275        60     8.9981  26.682772    23.781  0.004489  \n",
              "4      9.850        93    12.9980   5.851754     8.201  0.000000  \n",
              "...      ...       ...        ...        ...       ...       ...  \n",
              "8159   8.335        47    11.0014  14.953355     6.561  0.004489  \n",
              "8160  12.880        61    19.0012   7.977025    11.481  0.000000  \n",
              "8161  13.635        48    16.9979   6.916512    11.481  0.015615  \n",
              "8162  19.695        17    35.0008   0.095445    15.581  0.000242  \n",
              "8163  25.760        88    12.9980  81.965417    22.141  0.015615  \n",
              "\n",
              "[8164 rows x 12 columns]"
            ],
            "text/html": [
              "\n",
              "  <div id=\"df-06afc780-a559-4bd3-aaa7-6d11f69382f8\" class=\"colab-df-container\">\n",
              "    <div>\n",
              "<style scoped>\n",
              "    .dataframe tbody tr th:only-of-type {\n",
              "        vertical-align: middle;\n",
              "    }\n",
              "\n",
              "    .dataframe tbody tr th {\n",
              "        vertical-align: top;\n",
              "    }\n",
              "\n",
              "    .dataframe thead th {\n",
              "        text-align: right;\n",
              "    }\n",
              "</style>\n",
              "<table border=\"1\" class=\"dataframe\">\n",
              "  <thead>\n",
              "    <tr style=\"text-align: right;\">\n",
              "      <th></th>\n",
              "      <th>datetime</th>\n",
              "      <th>season</th>\n",
              "      <th>holiday</th>\n",
              "      <th>workingday</th>\n",
              "      <th>weather</th>\n",
              "      <th>temp</th>\n",
              "      <th>atemp</th>\n",
              "      <th>humidity</th>\n",
              "      <th>windspeed</th>\n",
              "      <th>pollution</th>\n",
              "      <th>sunlight</th>\n",
              "      <th>traffic</th>\n",
              "    </tr>\n",
              "  </thead>\n",
              "  <tbody>\n",
              "    <tr>\n",
              "      <th>0</th>\n",
              "      <td>2011-07-11 00:00:00</td>\n",
              "      <td>3</td>\n",
              "      <td>0</td>\n",
              "      <td>1</td>\n",
              "      <td>1</td>\n",
              "      <td>28.70</td>\n",
              "      <td>32.575</td>\n",
              "      <td>65</td>\n",
              "      <td>12.9980</td>\n",
              "      <td>5.354100</td>\n",
              "      <td>28.701</td>\n",
              "      <td>0.000000</td>\n",
              "    </tr>\n",
              "    <tr>\n",
              "      <th>1</th>\n",
              "      <td>2012-05-18 22:00:00</td>\n",
              "      <td>2</td>\n",
              "      <td>0</td>\n",
              "      <td>1</td>\n",
              "      <td>1</td>\n",
              "      <td>22.96</td>\n",
              "      <td>26.515</td>\n",
              "      <td>52</td>\n",
              "      <td>22.0028</td>\n",
              "      <td>85.425233</td>\n",
              "      <td>22.961</td>\n",
              "      <td>0.004489</td>\n",
              "    </tr>\n",
              "    <tr>\n",
              "      <th>2</th>\n",
              "      <td>2011-04-01 23:00:00</td>\n",
              "      <td>2</td>\n",
              "      <td>0</td>\n",
              "      <td>1</td>\n",
              "      <td>1</td>\n",
              "      <td>12.30</td>\n",
              "      <td>15.910</td>\n",
              "      <td>61</td>\n",
              "      <td>6.0032</td>\n",
              "      <td>2.040899</td>\n",
              "      <td>12.301</td>\n",
              "      <td>0.000242</td>\n",
              "    </tr>\n",
              "    <tr>\n",
              "      <th>3</th>\n",
              "      <td>2012-09-16 09:00:00</td>\n",
              "      <td>3</td>\n",
              "      <td>0</td>\n",
              "      <td>0</td>\n",
              "      <td>1</td>\n",
              "      <td>23.78</td>\n",
              "      <td>27.275</td>\n",
              "      <td>60</td>\n",
              "      <td>8.9981</td>\n",
              "      <td>26.682772</td>\n",
              "      <td>23.781</td>\n",
              "      <td>0.004489</td>\n",
              "    </tr>\n",
              "    <tr>\n",
              "      <th>4</th>\n",
              "      <td>2011-02-01 23:00:00</td>\n",
              "      <td>1</td>\n",
              "      <td>0</td>\n",
              "      <td>1</td>\n",
              "      <td>3</td>\n",
              "      <td>8.20</td>\n",
              "      <td>9.850</td>\n",
              "      <td>93</td>\n",
              "      <td>12.9980</td>\n",
              "      <td>5.851754</td>\n",
              "      <td>8.201</td>\n",
              "      <td>0.000000</td>\n",
              "    </tr>\n",
              "    <tr>\n",
              "      <th>...</th>\n",
              "      <td>...</td>\n",
              "      <td>...</td>\n",
              "      <td>...</td>\n",
              "      <td>...</td>\n",
              "      <td>...</td>\n",
              "      <td>...</td>\n",
              "      <td>...</td>\n",
              "      <td>...</td>\n",
              "      <td>...</td>\n",
              "      <td>...</td>\n",
              "      <td>...</td>\n",
              "      <td>...</td>\n",
              "    </tr>\n",
              "    <tr>\n",
              "      <th>8159</th>\n",
              "      <td>2012-01-14 02:00:00</td>\n",
              "      <td>1</td>\n",
              "      <td>0</td>\n",
              "      <td>0</td>\n",
              "      <td>1</td>\n",
              "      <td>6.56</td>\n",
              "      <td>8.335</td>\n",
              "      <td>47</td>\n",
              "      <td>11.0014</td>\n",
              "      <td>14.953355</td>\n",
              "      <td>6.561</td>\n",
              "      <td>0.004489</td>\n",
              "    </tr>\n",
              "    <tr>\n",
              "      <th>8160</th>\n",
              "      <td>2011-12-10 09:00:00</td>\n",
              "      <td>4</td>\n",
              "      <td>0</td>\n",
              "      <td>0</td>\n",
              "      <td>1</td>\n",
              "      <td>11.48</td>\n",
              "      <td>12.880</td>\n",
              "      <td>61</td>\n",
              "      <td>19.0012</td>\n",
              "      <td>7.977025</td>\n",
              "      <td>11.481</td>\n",
              "      <td>0.000000</td>\n",
              "    </tr>\n",
              "    <tr>\n",
              "      <th>8161</th>\n",
              "      <td>2011-12-18 16:00:00</td>\n",
              "      <td>4</td>\n",
              "      <td>0</td>\n",
              "      <td>0</td>\n",
              "      <td>1</td>\n",
              "      <td>11.48</td>\n",
              "      <td>13.635</td>\n",
              "      <td>48</td>\n",
              "      <td>16.9979</td>\n",
              "      <td>6.916512</td>\n",
              "      <td>11.481</td>\n",
              "      <td>0.015615</td>\n",
              "    </tr>\n",
              "    <tr>\n",
              "      <th>8162</th>\n",
              "      <td>2011-02-19 07:00:00</td>\n",
              "      <td>1</td>\n",
              "      <td>0</td>\n",
              "      <td>0</td>\n",
              "      <td>1</td>\n",
              "      <td>15.58</td>\n",
              "      <td>19.695</td>\n",
              "      <td>17</td>\n",
              "      <td>35.0008</td>\n",
              "      <td>0.095445</td>\n",
              "      <td>15.581</td>\n",
              "      <td>0.000242</td>\n",
              "    </tr>\n",
              "    <tr>\n",
              "      <th>8163</th>\n",
              "      <td>2012-05-02 07:00:00</td>\n",
              "      <td>2</td>\n",
              "      <td>0</td>\n",
              "      <td>1</td>\n",
              "      <td>2</td>\n",
              "      <td>22.14</td>\n",
              "      <td>25.760</td>\n",
              "      <td>88</td>\n",
              "      <td>12.9980</td>\n",
              "      <td>81.965417</td>\n",
              "      <td>22.141</td>\n",
              "      <td>0.015615</td>\n",
              "    </tr>\n",
              "  </tbody>\n",
              "</table>\n",
              "<p>8164 rows × 12 columns</p>\n",
              "</div>\n",
              "    <div class=\"colab-df-buttons\">\n",
              "\n",
              "  <div class=\"colab-df-container\">\n",
              "    <button class=\"colab-df-convert\" onclick=\"convertToInteractive('df-06afc780-a559-4bd3-aaa7-6d11f69382f8')\"\n",
              "            title=\"Convert this dataframe to an interactive table.\"\n",
              "            style=\"display:none;\">\n",
              "\n",
              "  <svg xmlns=\"http://www.w3.org/2000/svg\" height=\"24px\" viewBox=\"0 -960 960 960\">\n",
              "    <path d=\"M120-120v-720h720v720H120Zm60-500h600v-160H180v160Zm220 220h160v-160H400v160Zm0 220h160v-160H400v160ZM180-400h160v-160H180v160Zm440 0h160v-160H620v160ZM180-180h160v-160H180v160Zm440 0h160v-160H620v160Z\"/>\n",
              "  </svg>\n",
              "    </button>\n",
              "\n",
              "  <style>\n",
              "    .colab-df-container {\n",
              "      display:flex;\n",
              "      gap: 12px;\n",
              "    }\n",
              "\n",
              "    .colab-df-convert {\n",
              "      background-color: #E8F0FE;\n",
              "      border: none;\n",
              "      border-radius: 50%;\n",
              "      cursor: pointer;\n",
              "      display: none;\n",
              "      fill: #1967D2;\n",
              "      height: 32px;\n",
              "      padding: 0 0 0 0;\n",
              "      width: 32px;\n",
              "    }\n",
              "\n",
              "    .colab-df-convert:hover {\n",
              "      background-color: #E2EBFA;\n",
              "      box-shadow: 0px 1px 2px rgba(60, 64, 67, 0.3), 0px 1px 3px 1px rgba(60, 64, 67, 0.15);\n",
              "      fill: #174EA6;\n",
              "    }\n",
              "\n",
              "    .colab-df-buttons div {\n",
              "      margin-bottom: 4px;\n",
              "    }\n",
              "\n",
              "    [theme=dark] .colab-df-convert {\n",
              "      background-color: #3B4455;\n",
              "      fill: #D2E3FC;\n",
              "    }\n",
              "\n",
              "    [theme=dark] .colab-df-convert:hover {\n",
              "      background-color: #434B5C;\n",
              "      box-shadow: 0px 1px 3px 1px rgba(0, 0, 0, 0.15);\n",
              "      filter: drop-shadow(0px 1px 2px rgba(0, 0, 0, 0.3));\n",
              "      fill: #FFFFFF;\n",
              "    }\n",
              "  </style>\n",
              "\n",
              "    <script>\n",
              "      const buttonEl =\n",
              "        document.querySelector('#df-06afc780-a559-4bd3-aaa7-6d11f69382f8 button.colab-df-convert');\n",
              "      buttonEl.style.display =\n",
              "        google.colab.kernel.accessAllowed ? 'block' : 'none';\n",
              "\n",
              "      async function convertToInteractive(key) {\n",
              "        const element = document.querySelector('#df-06afc780-a559-4bd3-aaa7-6d11f69382f8');\n",
              "        const dataTable =\n",
              "          await google.colab.kernel.invokeFunction('convertToInteractive',\n",
              "                                                    [key], {});\n",
              "        if (!dataTable) return;\n",
              "\n",
              "        const docLinkHtml = 'Like what you see? Visit the ' +\n",
              "          '<a target=\"_blank\" href=https://colab.research.google.com/notebooks/data_table.ipynb>data table notebook</a>'\n",
              "          + ' to learn more about interactive tables.';\n",
              "        element.innerHTML = '';\n",
              "        dataTable['output_type'] = 'display_data';\n",
              "        await google.colab.output.renderOutput(dataTable, element);\n",
              "        const docLink = document.createElement('div');\n",
              "        docLink.innerHTML = docLinkHtml;\n",
              "        element.appendChild(docLink);\n",
              "      }\n",
              "    </script>\n",
              "  </div>\n",
              "\n",
              "\n",
              "<div id=\"df-816d5ce2-0001-40e3-9126-e71076580033\">\n",
              "  <button class=\"colab-df-quickchart\" onclick=\"quickchart('df-816d5ce2-0001-40e3-9126-e71076580033')\"\n",
              "            title=\"Suggest charts\"\n",
              "            style=\"display:none;\">\n",
              "\n",
              "<svg xmlns=\"http://www.w3.org/2000/svg\" height=\"24px\"viewBox=\"0 0 24 24\"\n",
              "     width=\"24px\">\n",
              "    <g>\n",
              "        <path d=\"M19 3H5c-1.1 0-2 .9-2 2v14c0 1.1.9 2 2 2h14c1.1 0 2-.9 2-2V5c0-1.1-.9-2-2-2zM9 17H7v-7h2v7zm4 0h-2V7h2v10zm4 0h-2v-4h2v4z\"/>\n",
              "    </g>\n",
              "</svg>\n",
              "  </button>\n",
              "\n",
              "<style>\n",
              "  .colab-df-quickchart {\n",
              "      --bg-color: #E8F0FE;\n",
              "      --fill-color: #1967D2;\n",
              "      --hover-bg-color: #E2EBFA;\n",
              "      --hover-fill-color: #174EA6;\n",
              "      --disabled-fill-color: #AAA;\n",
              "      --disabled-bg-color: #DDD;\n",
              "  }\n",
              "\n",
              "  [theme=dark] .colab-df-quickchart {\n",
              "      --bg-color: #3B4455;\n",
              "      --fill-color: #D2E3FC;\n",
              "      --hover-bg-color: #434B5C;\n",
              "      --hover-fill-color: #FFFFFF;\n",
              "      --disabled-bg-color: #3B4455;\n",
              "      --disabled-fill-color: #666;\n",
              "  }\n",
              "\n",
              "  .colab-df-quickchart {\n",
              "    background-color: var(--bg-color);\n",
              "    border: none;\n",
              "    border-radius: 50%;\n",
              "    cursor: pointer;\n",
              "    display: none;\n",
              "    fill: var(--fill-color);\n",
              "    height: 32px;\n",
              "    padding: 0;\n",
              "    width: 32px;\n",
              "  }\n",
              "\n",
              "  .colab-df-quickchart:hover {\n",
              "    background-color: var(--hover-bg-color);\n",
              "    box-shadow: 0 1px 2px rgba(60, 64, 67, 0.3), 0 1px 3px 1px rgba(60, 64, 67, 0.15);\n",
              "    fill: var(--button-hover-fill-color);\n",
              "  }\n",
              "\n",
              "  .colab-df-quickchart-complete:disabled,\n",
              "  .colab-df-quickchart-complete:disabled:hover {\n",
              "    background-color: var(--disabled-bg-color);\n",
              "    fill: var(--disabled-fill-color);\n",
              "    box-shadow: none;\n",
              "  }\n",
              "\n",
              "  .colab-df-spinner {\n",
              "    border: 2px solid var(--fill-color);\n",
              "    border-color: transparent;\n",
              "    border-bottom-color: var(--fill-color);\n",
              "    animation:\n",
              "      spin 1s steps(1) infinite;\n",
              "  }\n",
              "\n",
              "  @keyframes spin {\n",
              "    0% {\n",
              "      border-color: transparent;\n",
              "      border-bottom-color: var(--fill-color);\n",
              "      border-left-color: var(--fill-color);\n",
              "    }\n",
              "    20% {\n",
              "      border-color: transparent;\n",
              "      border-left-color: var(--fill-color);\n",
              "      border-top-color: var(--fill-color);\n",
              "    }\n",
              "    30% {\n",
              "      border-color: transparent;\n",
              "      border-left-color: var(--fill-color);\n",
              "      border-top-color: var(--fill-color);\n",
              "      border-right-color: var(--fill-color);\n",
              "    }\n",
              "    40% {\n",
              "      border-color: transparent;\n",
              "      border-right-color: var(--fill-color);\n",
              "      border-top-color: var(--fill-color);\n",
              "    }\n",
              "    60% {\n",
              "      border-color: transparent;\n",
              "      border-right-color: var(--fill-color);\n",
              "    }\n",
              "    80% {\n",
              "      border-color: transparent;\n",
              "      border-right-color: var(--fill-color);\n",
              "      border-bottom-color: var(--fill-color);\n",
              "    }\n",
              "    90% {\n",
              "      border-color: transparent;\n",
              "      border-bottom-color: var(--fill-color);\n",
              "    }\n",
              "  }\n",
              "</style>\n",
              "\n",
              "  <script>\n",
              "    async function quickchart(key) {\n",
              "      const quickchartButtonEl =\n",
              "        document.querySelector('#' + key + ' button');\n",
              "      quickchartButtonEl.disabled = true;  // To prevent multiple clicks.\n",
              "      quickchartButtonEl.classList.add('colab-df-spinner');\n",
              "      try {\n",
              "        const charts = await google.colab.kernel.invokeFunction(\n",
              "            'suggestCharts', [key], {});\n",
              "      } catch (error) {\n",
              "        console.error('Error during call to suggestCharts:', error);\n",
              "      }\n",
              "      quickchartButtonEl.classList.remove('colab-df-spinner');\n",
              "      quickchartButtonEl.classList.add('colab-df-quickchart-complete');\n",
              "    }\n",
              "    (() => {\n",
              "      let quickchartButtonEl =\n",
              "        document.querySelector('#df-816d5ce2-0001-40e3-9126-e71076580033 button');\n",
              "      quickchartButtonEl.style.display =\n",
              "        google.colab.kernel.accessAllowed ? 'block' : 'none';\n",
              "    })();\n",
              "  </script>\n",
              "</div>\n",
              "\n",
              "  <div id=\"id_79d233c7-0d75-4b74-a61e-6192d6ee7649\">\n",
              "    <style>\n",
              "      .colab-df-generate {\n",
              "        background-color: #E8F0FE;\n",
              "        border: none;\n",
              "        border-radius: 50%;\n",
              "        cursor: pointer;\n",
              "        display: none;\n",
              "        fill: #1967D2;\n",
              "        height: 32px;\n",
              "        padding: 0 0 0 0;\n",
              "        width: 32px;\n",
              "      }\n",
              "\n",
              "      .colab-df-generate:hover {\n",
              "        background-color: #E2EBFA;\n",
              "        box-shadow: 0px 1px 2px rgba(60, 64, 67, 0.3), 0px 1px 3px 1px rgba(60, 64, 67, 0.15);\n",
              "        fill: #174EA6;\n",
              "      }\n",
              "\n",
              "      [theme=dark] .colab-df-generate {\n",
              "        background-color: #3B4455;\n",
              "        fill: #D2E3FC;\n",
              "      }\n",
              "\n",
              "      [theme=dark] .colab-df-generate:hover {\n",
              "        background-color: #434B5C;\n",
              "        box-shadow: 0px 1px 3px 1px rgba(0, 0, 0, 0.15);\n",
              "        filter: drop-shadow(0px 1px 2px rgba(0, 0, 0, 0.3));\n",
              "        fill: #FFFFFF;\n",
              "      }\n",
              "    </style>\n",
              "    <button class=\"colab-df-generate\" onclick=\"generateWithVariable('train_data')\"\n",
              "            title=\"Generate code using this dataframe.\"\n",
              "            style=\"display:none;\">\n",
              "\n",
              "  <svg xmlns=\"http://www.w3.org/2000/svg\" height=\"24px\"viewBox=\"0 0 24 24\"\n",
              "       width=\"24px\">\n",
              "    <path d=\"M7,19H8.4L18.45,9,17,7.55,7,17.6ZM5,21V16.75L18.45,3.32a2,2,0,0,1,2.83,0l1.4,1.43a1.91,1.91,0,0,1,.58,1.4,1.91,1.91,0,0,1-.58,1.4L9.25,21ZM18.45,9,17,7.55Zm-12,3A5.31,5.31,0,0,0,4.9,8.1,5.31,5.31,0,0,0,1,6.5,5.31,5.31,0,0,0,4.9,4.9,5.31,5.31,0,0,0,6.5,1,5.31,5.31,0,0,0,8.1,4.9,5.31,5.31,0,0,0,12,6.5,5.46,5.46,0,0,0,6.5,12Z\"/>\n",
              "  </svg>\n",
              "    </button>\n",
              "    <script>\n",
              "      (() => {\n",
              "      const buttonEl =\n",
              "        document.querySelector('#id_79d233c7-0d75-4b74-a61e-6192d6ee7649 button.colab-df-generate');\n",
              "      buttonEl.style.display =\n",
              "        google.colab.kernel.accessAllowed ? 'block' : 'none';\n",
              "\n",
              "      buttonEl.onclick = () => {\n",
              "        google.colab.notebook.generateWithVariable('train_data');\n",
              "      }\n",
              "      })();\n",
              "    </script>\n",
              "  </div>\n",
              "\n",
              "    </div>\n",
              "  </div>\n"
            ]
          },
          "metadata": {},
          "execution_count": 4
        }
      ]
    },
    {
      "cell_type": "code",
      "source": [
        "train_data.shape"
      ],
      "metadata": {
        "colab": {
          "base_uri": "https://localhost:8080/"
        },
        "id": "JUdHl9-dwcQ-",
        "outputId": "f637f189-cda7-42ce-817e-fb5038b6edfe"
      },
      "execution_count": 5,
      "outputs": [
        {
          "output_type": "execute_result",
          "data": {
            "text/plain": [
              "(8164, 12)"
            ]
          },
          "metadata": {},
          "execution_count": 5
        }
      ]
    },
    {
      "cell_type": "code",
      "source": [
        "train_data = train_data.drop_duplicates()"
      ],
      "metadata": {
        "id": "f4wcqYkhwpl2"
      },
      "execution_count": 6,
      "outputs": []
    },
    {
      "cell_type": "code",
      "source": [
        "train_data.shape"
      ],
      "metadata": {
        "colab": {
          "base_uri": "https://localhost:8080/"
        },
        "id": "Qi1cBt4VwtFa",
        "outputId": "a1b0ddc1-15c8-4de1-f59b-9cd6deb49aef"
      },
      "execution_count": 7,
      "outputs": [
        {
          "output_type": "execute_result",
          "data": {
            "text/plain": [
              "(8164, 12)"
            ]
          },
          "metadata": {},
          "execution_count": 7
        }
      ]
    },
    {
      "cell_type": "markdown",
      "source": [
        "Next, let's take a look at the types of features that exist:"
      ],
      "metadata": {
        "id": "CHGKF1p_O7u0"
      }
    },
    {
      "cell_type": "code",
      "source": [
        "train_data.dtypes"
      ],
      "metadata": {
        "colab": {
          "base_uri": "https://localhost:8080/"
        },
        "id": "VmoAuEn9wynr",
        "outputId": "4d78a34f-4be4-4e10-8a8e-425622dd8169"
      },
      "execution_count": 8,
      "outputs": [
        {
          "output_type": "execute_result",
          "data": {
            "text/plain": [
              "datetime       object\n",
              "season          int64\n",
              "holiday         int64\n",
              "workingday      int64\n",
              "weather         int64\n",
              "temp          float64\n",
              "atemp         float64\n",
              "humidity        int64\n",
              "windspeed     float64\n",
              "pollution     float64\n",
              "sunlight      float64\n",
              "traffic       float64\n",
              "dtype: object"
            ]
          },
          "metadata": {},
          "execution_count": 8
        }
      ]
    },
    {
      "cell_type": "code",
      "source": [
        "# TODO: Fix the coloring of the printing below V"
      ],
      "metadata": {
        "id": "PnzdodvyRMzd"
      },
      "execution_count": 9,
      "outputs": []
    },
    {
      "cell_type": "markdown",
      "source": [
        "Based on our knowledge of the features and the data displayed above we can conclude that: <br>\n",
        "\n",
        "Our dataset consists 12 features and 8164 observations.\n",
        "The features types :\n",
        "\n",
        "<span style=\"color: orange;\">`datetime`</span> is <b><u>Datetime</u></b> data type. <br>\n",
        "\n",
        "<span style=\"color: #6699CC;\">`temp`</span>, <span style=\"color: #6699CC;\">`atemp`</span>, <span style=\"color: #6699CC;\">`humidity`</span>, <span style=\"color: #6699CC;\">`windspeed`</span>, <span style=\"color: #6699CC;\">`pollution`</span>, <span style=\"color: #6699CC;\">`sunlight`</span> and <span style=\"color: #6699CC;\">`traffic`</span> - are <b><u>Numeric</u></b> data types. <br>\n",
        "\n",
        "<span style=\"color: green;\">`holiday`</span> and <span style=\"color: green;\">`workingday`</span> - are <b><u>Boolean </b></u> data types.<br>\n",
        "\n",
        "<span style=\"color: orange;\">`season`</span> and <span style=\"color: orange;\">`weather`</span> - are <b><u>Categorical</u></b> data types."
      ],
      "metadata": {
        "id": "DUVv1jCKPHHW"
      }
    },
    {
      "cell_type": "markdown",
      "source": [
        "Hence we will update the data types of each feature:\n"
      ],
      "metadata": {
        "id": "yjJJIB8aRZ6y"
      }
    },
    {
      "cell_type": "code",
      "source": [
        "def change_data_types(df):\n",
        "\n",
        "    numeric_features = [col for col in ['temp', 'atemp', 'humidity', 'exports', 'windspeed', 'pollution', 'sunlight', 'traffice'] if col in df.columns]\n",
        "    boolean_features = [col for col in ['holiday', 'workingday'] if col in df.columns]\n",
        "    categorical_features = [col for col in ['season', 'weather'] if col in df.columns]\n",
        "\n",
        "    # Convert 'datetime' to datetime type\n",
        "    train_data['datetime'] = pd.to_datetime(train_data['datetime'])\n",
        "\n",
        "    # Change numeric features to numeric data type\n",
        "    df[numeric_features] = df[numeric_features].astype(float)\n",
        "\n",
        "    # Change boolean features to boolean data type\n",
        "    for col in boolean_features:\n",
        "        df[col] = df[col].where(df[col].notnull(), np.nan).astype('boolean')\n",
        "\n",
        "    # Change categorical features to categorical data type\n",
        "    df[categorical_features] = df[categorical_features].astype('category')\n",
        "\n",
        "    return df\n"
      ],
      "metadata": {
        "id": "P8T3mJ4ARg-C"
      },
      "execution_count": 10,
      "outputs": []
    },
    {
      "cell_type": "code",
      "source": [
        "train_data = change_data_types(train_data)"
      ],
      "metadata": {
        "id": "wCejpHL4R6_E"
      },
      "execution_count": 11,
      "outputs": []
    },
    {
      "cell_type": "markdown",
      "source": [
        "And after the changes:"
      ],
      "metadata": {
        "id": "qeaqjzpXTfZO"
      }
    },
    {
      "cell_type": "code",
      "source": [
        "train_data.dtypes"
      ],
      "metadata": {
        "colab": {
          "base_uri": "https://localhost:8080/"
        },
        "id": "zhTBhuWmTgM1",
        "outputId": "aab20e3f-f9c3-4fed-e60f-3871a18b436c"
      },
      "execution_count": 12,
      "outputs": [
        {
          "output_type": "execute_result",
          "data": {
            "text/plain": [
              "datetime      datetime64[ns]\n",
              "season              category\n",
              "holiday              boolean\n",
              "workingday           boolean\n",
              "weather             category\n",
              "temp                 float64\n",
              "atemp                float64\n",
              "humidity             float64\n",
              "windspeed            float64\n",
              "pollution            float64\n",
              "sunlight             float64\n",
              "traffic              float64\n",
              "dtype: object"
            ]
          },
          "metadata": {},
          "execution_count": 12
        }
      ]
    },
    {
      "cell_type": "markdown",
      "source": [
        "# **Label Analysis**"
      ],
      "metadata": {
        "id": "bCeLkOkokIWH"
      }
    },
    {
      "cell_type": "code",
      "source": [
        "train_with_labels"
      ],
      "metadata": {
        "id": "YHBcca3OmCaT",
        "outputId": "32218b09-e89b-444b-89d5-49303edd8474",
        "colab": {
          "base_uri": "https://localhost:8080/",
          "height": 423
        }
      },
      "execution_count": 16,
      "outputs": [
        {
          "output_type": "execute_result",
          "data": {
            "text/plain": [
              "                 datetime  season  holiday  workingday  weather   temp  \\\n",
              "0     2011-07-11 00:00:00       3        0           1        1  28.70   \n",
              "1     2012-05-18 22:00:00       2        0           1        1  22.96   \n",
              "2     2011-04-01 23:00:00       2        0           1        1  12.30   \n",
              "3     2012-09-16 09:00:00       3        0           0        1  23.78   \n",
              "4     2011-02-01 23:00:00       1        0           1        3   8.20   \n",
              "...                   ...     ...      ...         ...      ...    ...   \n",
              "8159  2012-01-14 02:00:00       1        0           0        1   6.56   \n",
              "8160  2011-12-10 09:00:00       4        0           0        1  11.48   \n",
              "8161  2011-12-18 16:00:00       4        0           0        1  11.48   \n",
              "8162  2011-02-19 07:00:00       1        0           0        1  15.58   \n",
              "8163  2012-05-02 07:00:00       2        0           1        2  22.14   \n",
              "\n",
              "       atemp  humidity  windspeed  pollution  sunlight   traffic  count  \n",
              "0     32.575        65    12.9980   5.354100    28.701  0.000000     35  \n",
              "1     26.515        52    22.0028  85.425233    22.961  0.004489    251  \n",
              "2     15.910        61     6.0032   2.040899    12.301  0.000242     53  \n",
              "3     27.275        60     8.9981  26.682772    23.781  0.004489    296  \n",
              "4      9.850        93    12.9980   5.851754     8.201  0.000000     16  \n",
              "...      ...       ...        ...        ...       ...       ...    ...  \n",
              "8159   8.335        47    11.0014  14.953355     6.561  0.004489     38  \n",
              "8160  12.880        61    19.0012   7.977025    11.481  0.000000    149  \n",
              "8161  13.635        48    16.9979   6.916512    11.481  0.015615    234  \n",
              "8162  19.695        17    35.0008   0.095445    15.581  0.000242     22  \n",
              "8163  25.760        88    12.9980  81.965417    22.141  0.015615    358  \n",
              "\n",
              "[8164 rows x 13 columns]"
            ],
            "text/html": [
              "\n",
              "  <div id=\"df-51d64afc-6f59-44b1-9387-7c21351a4389\" class=\"colab-df-container\">\n",
              "    <div>\n",
              "<style scoped>\n",
              "    .dataframe tbody tr th:only-of-type {\n",
              "        vertical-align: middle;\n",
              "    }\n",
              "\n",
              "    .dataframe tbody tr th {\n",
              "        vertical-align: top;\n",
              "    }\n",
              "\n",
              "    .dataframe thead th {\n",
              "        text-align: right;\n",
              "    }\n",
              "</style>\n",
              "<table border=\"1\" class=\"dataframe\">\n",
              "  <thead>\n",
              "    <tr style=\"text-align: right;\">\n",
              "      <th></th>\n",
              "      <th>datetime</th>\n",
              "      <th>season</th>\n",
              "      <th>holiday</th>\n",
              "      <th>workingday</th>\n",
              "      <th>weather</th>\n",
              "      <th>temp</th>\n",
              "      <th>atemp</th>\n",
              "      <th>humidity</th>\n",
              "      <th>windspeed</th>\n",
              "      <th>pollution</th>\n",
              "      <th>sunlight</th>\n",
              "      <th>traffic</th>\n",
              "      <th>count</th>\n",
              "    </tr>\n",
              "  </thead>\n",
              "  <tbody>\n",
              "    <tr>\n",
              "      <th>0</th>\n",
              "      <td>2011-07-11 00:00:00</td>\n",
              "      <td>3</td>\n",
              "      <td>0</td>\n",
              "      <td>1</td>\n",
              "      <td>1</td>\n",
              "      <td>28.70</td>\n",
              "      <td>32.575</td>\n",
              "      <td>65</td>\n",
              "      <td>12.9980</td>\n",
              "      <td>5.354100</td>\n",
              "      <td>28.701</td>\n",
              "      <td>0.000000</td>\n",
              "      <td>35</td>\n",
              "    </tr>\n",
              "    <tr>\n",
              "      <th>1</th>\n",
              "      <td>2012-05-18 22:00:00</td>\n",
              "      <td>2</td>\n",
              "      <td>0</td>\n",
              "      <td>1</td>\n",
              "      <td>1</td>\n",
              "      <td>22.96</td>\n",
              "      <td>26.515</td>\n",
              "      <td>52</td>\n",
              "      <td>22.0028</td>\n",
              "      <td>85.425233</td>\n",
              "      <td>22.961</td>\n",
              "      <td>0.004489</td>\n",
              "      <td>251</td>\n",
              "    </tr>\n",
              "    <tr>\n",
              "      <th>2</th>\n",
              "      <td>2011-04-01 23:00:00</td>\n",
              "      <td>2</td>\n",
              "      <td>0</td>\n",
              "      <td>1</td>\n",
              "      <td>1</td>\n",
              "      <td>12.30</td>\n",
              "      <td>15.910</td>\n",
              "      <td>61</td>\n",
              "      <td>6.0032</td>\n",
              "      <td>2.040899</td>\n",
              "      <td>12.301</td>\n",
              "      <td>0.000242</td>\n",
              "      <td>53</td>\n",
              "    </tr>\n",
              "    <tr>\n",
              "      <th>3</th>\n",
              "      <td>2012-09-16 09:00:00</td>\n",
              "      <td>3</td>\n",
              "      <td>0</td>\n",
              "      <td>0</td>\n",
              "      <td>1</td>\n",
              "      <td>23.78</td>\n",
              "      <td>27.275</td>\n",
              "      <td>60</td>\n",
              "      <td>8.9981</td>\n",
              "      <td>26.682772</td>\n",
              "      <td>23.781</td>\n",
              "      <td>0.004489</td>\n",
              "      <td>296</td>\n",
              "    </tr>\n",
              "    <tr>\n",
              "      <th>4</th>\n",
              "      <td>2011-02-01 23:00:00</td>\n",
              "      <td>1</td>\n",
              "      <td>0</td>\n",
              "      <td>1</td>\n",
              "      <td>3</td>\n",
              "      <td>8.20</td>\n",
              "      <td>9.850</td>\n",
              "      <td>93</td>\n",
              "      <td>12.9980</td>\n",
              "      <td>5.851754</td>\n",
              "      <td>8.201</td>\n",
              "      <td>0.000000</td>\n",
              "      <td>16</td>\n",
              "    </tr>\n",
              "    <tr>\n",
              "      <th>...</th>\n",
              "      <td>...</td>\n",
              "      <td>...</td>\n",
              "      <td>...</td>\n",
              "      <td>...</td>\n",
              "      <td>...</td>\n",
              "      <td>...</td>\n",
              "      <td>...</td>\n",
              "      <td>...</td>\n",
              "      <td>...</td>\n",
              "      <td>...</td>\n",
              "      <td>...</td>\n",
              "      <td>...</td>\n",
              "      <td>...</td>\n",
              "    </tr>\n",
              "    <tr>\n",
              "      <th>8159</th>\n",
              "      <td>2012-01-14 02:00:00</td>\n",
              "      <td>1</td>\n",
              "      <td>0</td>\n",
              "      <td>0</td>\n",
              "      <td>1</td>\n",
              "      <td>6.56</td>\n",
              "      <td>8.335</td>\n",
              "      <td>47</td>\n",
              "      <td>11.0014</td>\n",
              "      <td>14.953355</td>\n",
              "      <td>6.561</td>\n",
              "      <td>0.004489</td>\n",
              "      <td>38</td>\n",
              "    </tr>\n",
              "    <tr>\n",
              "      <th>8160</th>\n",
              "      <td>2011-12-10 09:00:00</td>\n",
              "      <td>4</td>\n",
              "      <td>0</td>\n",
              "      <td>0</td>\n",
              "      <td>1</td>\n",
              "      <td>11.48</td>\n",
              "      <td>12.880</td>\n",
              "      <td>61</td>\n",
              "      <td>19.0012</td>\n",
              "      <td>7.977025</td>\n",
              "      <td>11.481</td>\n",
              "      <td>0.000000</td>\n",
              "      <td>149</td>\n",
              "    </tr>\n",
              "    <tr>\n",
              "      <th>8161</th>\n",
              "      <td>2011-12-18 16:00:00</td>\n",
              "      <td>4</td>\n",
              "      <td>0</td>\n",
              "      <td>0</td>\n",
              "      <td>1</td>\n",
              "      <td>11.48</td>\n",
              "      <td>13.635</td>\n",
              "      <td>48</td>\n",
              "      <td>16.9979</td>\n",
              "      <td>6.916512</td>\n",
              "      <td>11.481</td>\n",
              "      <td>0.015615</td>\n",
              "      <td>234</td>\n",
              "    </tr>\n",
              "    <tr>\n",
              "      <th>8162</th>\n",
              "      <td>2011-02-19 07:00:00</td>\n",
              "      <td>1</td>\n",
              "      <td>0</td>\n",
              "      <td>0</td>\n",
              "      <td>1</td>\n",
              "      <td>15.58</td>\n",
              "      <td>19.695</td>\n",
              "      <td>17</td>\n",
              "      <td>35.0008</td>\n",
              "      <td>0.095445</td>\n",
              "      <td>15.581</td>\n",
              "      <td>0.000242</td>\n",
              "      <td>22</td>\n",
              "    </tr>\n",
              "    <tr>\n",
              "      <th>8163</th>\n",
              "      <td>2012-05-02 07:00:00</td>\n",
              "      <td>2</td>\n",
              "      <td>0</td>\n",
              "      <td>1</td>\n",
              "      <td>2</td>\n",
              "      <td>22.14</td>\n",
              "      <td>25.760</td>\n",
              "      <td>88</td>\n",
              "      <td>12.9980</td>\n",
              "      <td>81.965417</td>\n",
              "      <td>22.141</td>\n",
              "      <td>0.015615</td>\n",
              "      <td>358</td>\n",
              "    </tr>\n",
              "  </tbody>\n",
              "</table>\n",
              "<p>8164 rows × 13 columns</p>\n",
              "</div>\n",
              "    <div class=\"colab-df-buttons\">\n",
              "\n",
              "  <div class=\"colab-df-container\">\n",
              "    <button class=\"colab-df-convert\" onclick=\"convertToInteractive('df-51d64afc-6f59-44b1-9387-7c21351a4389')\"\n",
              "            title=\"Convert this dataframe to an interactive table.\"\n",
              "            style=\"display:none;\">\n",
              "\n",
              "  <svg xmlns=\"http://www.w3.org/2000/svg\" height=\"24px\" viewBox=\"0 -960 960 960\">\n",
              "    <path d=\"M120-120v-720h720v720H120Zm60-500h600v-160H180v160Zm220 220h160v-160H400v160Zm0 220h160v-160H400v160ZM180-400h160v-160H180v160Zm440 0h160v-160H620v160ZM180-180h160v-160H180v160Zm440 0h160v-160H620v160Z\"/>\n",
              "  </svg>\n",
              "    </button>\n",
              "\n",
              "  <style>\n",
              "    .colab-df-container {\n",
              "      display:flex;\n",
              "      gap: 12px;\n",
              "    }\n",
              "\n",
              "    .colab-df-convert {\n",
              "      background-color: #E8F0FE;\n",
              "      border: none;\n",
              "      border-radius: 50%;\n",
              "      cursor: pointer;\n",
              "      display: none;\n",
              "      fill: #1967D2;\n",
              "      height: 32px;\n",
              "      padding: 0 0 0 0;\n",
              "      width: 32px;\n",
              "    }\n",
              "\n",
              "    .colab-df-convert:hover {\n",
              "      background-color: #E2EBFA;\n",
              "      box-shadow: 0px 1px 2px rgba(60, 64, 67, 0.3), 0px 1px 3px 1px rgba(60, 64, 67, 0.15);\n",
              "      fill: #174EA6;\n",
              "    }\n",
              "\n",
              "    .colab-df-buttons div {\n",
              "      margin-bottom: 4px;\n",
              "    }\n",
              "\n",
              "    [theme=dark] .colab-df-convert {\n",
              "      background-color: #3B4455;\n",
              "      fill: #D2E3FC;\n",
              "    }\n",
              "\n",
              "    [theme=dark] .colab-df-convert:hover {\n",
              "      background-color: #434B5C;\n",
              "      box-shadow: 0px 1px 3px 1px rgba(0, 0, 0, 0.15);\n",
              "      filter: drop-shadow(0px 1px 2px rgba(0, 0, 0, 0.3));\n",
              "      fill: #FFFFFF;\n",
              "    }\n",
              "  </style>\n",
              "\n",
              "    <script>\n",
              "      const buttonEl =\n",
              "        document.querySelector('#df-51d64afc-6f59-44b1-9387-7c21351a4389 button.colab-df-convert');\n",
              "      buttonEl.style.display =\n",
              "        google.colab.kernel.accessAllowed ? 'block' : 'none';\n",
              "\n",
              "      async function convertToInteractive(key) {\n",
              "        const element = document.querySelector('#df-51d64afc-6f59-44b1-9387-7c21351a4389');\n",
              "        const dataTable =\n",
              "          await google.colab.kernel.invokeFunction('convertToInteractive',\n",
              "                                                    [key], {});\n",
              "        if (!dataTable) return;\n",
              "\n",
              "        const docLinkHtml = 'Like what you see? Visit the ' +\n",
              "          '<a target=\"_blank\" href=https://colab.research.google.com/notebooks/data_table.ipynb>data table notebook</a>'\n",
              "          + ' to learn more about interactive tables.';\n",
              "        element.innerHTML = '';\n",
              "        dataTable['output_type'] = 'display_data';\n",
              "        await google.colab.output.renderOutput(dataTable, element);\n",
              "        const docLink = document.createElement('div');\n",
              "        docLink.innerHTML = docLinkHtml;\n",
              "        element.appendChild(docLink);\n",
              "      }\n",
              "    </script>\n",
              "  </div>\n",
              "\n",
              "\n",
              "<div id=\"df-32161c63-9d75-46da-bbd4-503e5982f9f0\">\n",
              "  <button class=\"colab-df-quickchart\" onclick=\"quickchart('df-32161c63-9d75-46da-bbd4-503e5982f9f0')\"\n",
              "            title=\"Suggest charts\"\n",
              "            style=\"display:none;\">\n",
              "\n",
              "<svg xmlns=\"http://www.w3.org/2000/svg\" height=\"24px\"viewBox=\"0 0 24 24\"\n",
              "     width=\"24px\">\n",
              "    <g>\n",
              "        <path d=\"M19 3H5c-1.1 0-2 .9-2 2v14c0 1.1.9 2 2 2h14c1.1 0 2-.9 2-2V5c0-1.1-.9-2-2-2zM9 17H7v-7h2v7zm4 0h-2V7h2v10zm4 0h-2v-4h2v4z\"/>\n",
              "    </g>\n",
              "</svg>\n",
              "  </button>\n",
              "\n",
              "<style>\n",
              "  .colab-df-quickchart {\n",
              "      --bg-color: #E8F0FE;\n",
              "      --fill-color: #1967D2;\n",
              "      --hover-bg-color: #E2EBFA;\n",
              "      --hover-fill-color: #174EA6;\n",
              "      --disabled-fill-color: #AAA;\n",
              "      --disabled-bg-color: #DDD;\n",
              "  }\n",
              "\n",
              "  [theme=dark] .colab-df-quickchart {\n",
              "      --bg-color: #3B4455;\n",
              "      --fill-color: #D2E3FC;\n",
              "      --hover-bg-color: #434B5C;\n",
              "      --hover-fill-color: #FFFFFF;\n",
              "      --disabled-bg-color: #3B4455;\n",
              "      --disabled-fill-color: #666;\n",
              "  }\n",
              "\n",
              "  .colab-df-quickchart {\n",
              "    background-color: var(--bg-color);\n",
              "    border: none;\n",
              "    border-radius: 50%;\n",
              "    cursor: pointer;\n",
              "    display: none;\n",
              "    fill: var(--fill-color);\n",
              "    height: 32px;\n",
              "    padding: 0;\n",
              "    width: 32px;\n",
              "  }\n",
              "\n",
              "  .colab-df-quickchart:hover {\n",
              "    background-color: var(--hover-bg-color);\n",
              "    box-shadow: 0 1px 2px rgba(60, 64, 67, 0.3), 0 1px 3px 1px rgba(60, 64, 67, 0.15);\n",
              "    fill: var(--button-hover-fill-color);\n",
              "  }\n",
              "\n",
              "  .colab-df-quickchart-complete:disabled,\n",
              "  .colab-df-quickchart-complete:disabled:hover {\n",
              "    background-color: var(--disabled-bg-color);\n",
              "    fill: var(--disabled-fill-color);\n",
              "    box-shadow: none;\n",
              "  }\n",
              "\n",
              "  .colab-df-spinner {\n",
              "    border: 2px solid var(--fill-color);\n",
              "    border-color: transparent;\n",
              "    border-bottom-color: var(--fill-color);\n",
              "    animation:\n",
              "      spin 1s steps(1) infinite;\n",
              "  }\n",
              "\n",
              "  @keyframes spin {\n",
              "    0% {\n",
              "      border-color: transparent;\n",
              "      border-bottom-color: var(--fill-color);\n",
              "      border-left-color: var(--fill-color);\n",
              "    }\n",
              "    20% {\n",
              "      border-color: transparent;\n",
              "      border-left-color: var(--fill-color);\n",
              "      border-top-color: var(--fill-color);\n",
              "    }\n",
              "    30% {\n",
              "      border-color: transparent;\n",
              "      border-left-color: var(--fill-color);\n",
              "      border-top-color: var(--fill-color);\n",
              "      border-right-color: var(--fill-color);\n",
              "    }\n",
              "    40% {\n",
              "      border-color: transparent;\n",
              "      border-right-color: var(--fill-color);\n",
              "      border-top-color: var(--fill-color);\n",
              "    }\n",
              "    60% {\n",
              "      border-color: transparent;\n",
              "      border-right-color: var(--fill-color);\n",
              "    }\n",
              "    80% {\n",
              "      border-color: transparent;\n",
              "      border-right-color: var(--fill-color);\n",
              "      border-bottom-color: var(--fill-color);\n",
              "    }\n",
              "    90% {\n",
              "      border-color: transparent;\n",
              "      border-bottom-color: var(--fill-color);\n",
              "    }\n",
              "  }\n",
              "</style>\n",
              "\n",
              "  <script>\n",
              "    async function quickchart(key) {\n",
              "      const quickchartButtonEl =\n",
              "        document.querySelector('#' + key + ' button');\n",
              "      quickchartButtonEl.disabled = true;  // To prevent multiple clicks.\n",
              "      quickchartButtonEl.classList.add('colab-df-spinner');\n",
              "      try {\n",
              "        const charts = await google.colab.kernel.invokeFunction(\n",
              "            'suggestCharts', [key], {});\n",
              "      } catch (error) {\n",
              "        console.error('Error during call to suggestCharts:', error);\n",
              "      }\n",
              "      quickchartButtonEl.classList.remove('colab-df-spinner');\n",
              "      quickchartButtonEl.classList.add('colab-df-quickchart-complete');\n",
              "    }\n",
              "    (() => {\n",
              "      let quickchartButtonEl =\n",
              "        document.querySelector('#df-32161c63-9d75-46da-bbd4-503e5982f9f0 button');\n",
              "      quickchartButtonEl.style.display =\n",
              "        google.colab.kernel.accessAllowed ? 'block' : 'none';\n",
              "    })();\n",
              "  </script>\n",
              "</div>\n",
              "\n",
              "  <div id=\"id_e132d11c-8741-48af-8cb6-aeb39e9edd0b\">\n",
              "    <style>\n",
              "      .colab-df-generate {\n",
              "        background-color: #E8F0FE;\n",
              "        border: none;\n",
              "        border-radius: 50%;\n",
              "        cursor: pointer;\n",
              "        display: none;\n",
              "        fill: #1967D2;\n",
              "        height: 32px;\n",
              "        padding: 0 0 0 0;\n",
              "        width: 32px;\n",
              "      }\n",
              "\n",
              "      .colab-df-generate:hover {\n",
              "        background-color: #E2EBFA;\n",
              "        box-shadow: 0px 1px 2px rgba(60, 64, 67, 0.3), 0px 1px 3px 1px rgba(60, 64, 67, 0.15);\n",
              "        fill: #174EA6;\n",
              "      }\n",
              "\n",
              "      [theme=dark] .colab-df-generate {\n",
              "        background-color: #3B4455;\n",
              "        fill: #D2E3FC;\n",
              "      }\n",
              "\n",
              "      [theme=dark] .colab-df-generate:hover {\n",
              "        background-color: #434B5C;\n",
              "        box-shadow: 0px 1px 3px 1px rgba(0, 0, 0, 0.15);\n",
              "        filter: drop-shadow(0px 1px 2px rgba(0, 0, 0, 0.3));\n",
              "        fill: #FFFFFF;\n",
              "      }\n",
              "    </style>\n",
              "    <button class=\"colab-df-generate\" onclick=\"generateWithVariable('train_with_labels')\"\n",
              "            title=\"Generate code using this dataframe.\"\n",
              "            style=\"display:none;\">\n",
              "\n",
              "  <svg xmlns=\"http://www.w3.org/2000/svg\" height=\"24px\"viewBox=\"0 0 24 24\"\n",
              "       width=\"24px\">\n",
              "    <path d=\"M7,19H8.4L18.45,9,17,7.55,7,17.6ZM5,21V16.75L18.45,3.32a2,2,0,0,1,2.83,0l1.4,1.43a1.91,1.91,0,0,1,.58,1.4,1.91,1.91,0,0,1-.58,1.4L9.25,21ZM18.45,9,17,7.55Zm-12,3A5.31,5.31,0,0,0,4.9,8.1,5.31,5.31,0,0,0,1,6.5,5.31,5.31,0,0,0,4.9,4.9,5.31,5.31,0,0,0,6.5,1,5.31,5.31,0,0,0,8.1,4.9,5.31,5.31,0,0,0,12,6.5,5.46,5.46,0,0,0,6.5,12Z\"/>\n",
              "  </svg>\n",
              "    </button>\n",
              "    <script>\n",
              "      (() => {\n",
              "      const buttonEl =\n",
              "        document.querySelector('#id_e132d11c-8741-48af-8cb6-aeb39e9edd0b button.colab-df-generate');\n",
              "      buttonEl.style.display =\n",
              "        google.colab.kernel.accessAllowed ? 'block' : 'none';\n",
              "\n",
              "      buttonEl.onclick = () => {\n",
              "        google.colab.notebook.generateWithVariable('train_with_labels');\n",
              "      }\n",
              "      })();\n",
              "    </script>\n",
              "  </div>\n",
              "\n",
              "    </div>\n",
              "  </div>\n"
            ]
          },
          "metadata": {},
          "execution_count": 16
        }
      ]
    },
    {
      "cell_type": "code",
      "source": [
        "import matplotlib.pyplot as plt\n",
        "\n",
        "plt.hist(train_with_labels['count'], bins=30, edgecolor='black')\n",
        "plt.title('Distribution of Rental Count')\n",
        "plt.xlabel('Rental Count')\n",
        "plt.ylabel('Frequency')\n",
        "plt.show()\n"
      ],
      "metadata": {
        "id": "2YLEkalylQAT",
        "outputId": "17b51953-4d93-4ed0-8708-22659883bacd",
        "colab": {
          "base_uri": "https://localhost:8080/",
          "height": 472
        }
      },
      "execution_count": 17,
      "outputs": [
        {
          "output_type": "display_data",
          "data": {
            "text/plain": [
              "<Figure size 640x480 with 1 Axes>"
            ],
            "image/png": "[encoded data removed]"
          },
          "metadata": {}
        }
      ]
    },
    {
      "cell_type": "code",
      "source": [
        "import seaborn as sns\n",
        "import matplotlib.pyplot as plt\n",
        "\n",
        "# Box Plot for Target Variable vs. Categorical Features to explore how the target variable varies across different categories.\n",
        "sns.boxplot(x='season', y='count', data=train_with_labels)\n",
        "plt.title('Rental Count by Season')\n",
        "plt.show()\n",
        "\n"
      ],
      "metadata": {
        "id": "7llad6ENmZmq",
        "outputId": "2dcb2fd8-ca57-4584-f175-db057687e216",
        "colab": {
          "base_uri": "https://localhost:8080/",
          "height": 472
        }
      },
      "execution_count": 19,
      "outputs": [
        {
          "output_type": "display_data",
          "data": {
            "text/plain": [
              "<Figure size 640x480 with 1 Axes>"
            ],
            "image/png": "[encoded data removed]"
          },
          "metadata": {}
        }
      ]
    },
    {
      "cell_type": "code",
      "source": [
        "sns.boxplot(x='weather', y='count', data=train_with_labels)\n",
        "plt.title('Rental Count by Weather')\n",
        "plt.show()\n"
      ],
      "metadata": {
        "id": "jvtnjazGq7Pd",
        "outputId": "912d7236-97c1-4906-967d-f16dd4125547",
        "colab": {
          "base_uri": "https://localhost:8080/",
          "height": 472
        }
      },
      "execution_count": 28,
      "outputs": [
        {
          "output_type": "display_data",
          "data": {
            "text/plain": [
              "<Figure size 640x480 with 1 Axes>"
            ],
            "image/png": "[encoded data removed]"
          },
          "metadata": {}
        }
      ]
    },
    {
      "cell_type": "markdown",
      "source": [
        " trying to learn about the relationships between numerical features and the target variable using a correlation matrix"
      ],
      "metadata": {
        "id": "ghLfcd12nO1z"
      }
    },
    {
      "cell_type": "code",
      "source": [
        "import seaborn as sns\n",
        "\n",
        "correlation_matrix = train_with_labels[['count', 'temp', 'humidity', 'windspeed']].corr()\n",
        "sns.heatmap(correlation_matrix, annot=True, cmap='coolwarm')\n",
        "plt.title('Correlation Matrix')\n",
        "plt.show()\n"
      ],
      "metadata": {
        "id": "jGuFYWeqoHmZ",
        "outputId": "f59576db-d403-44cd-d268-cd7b783bb6b2",
        "colab": {
          "base_uri": "https://localhost:8080/",
          "height": 452
        }
      },
      "execution_count": 23,
      "outputs": [
        {
          "output_type": "display_data",
          "data": {
            "text/plain": [
              "<Figure size 640x480 with 2 Axes>"
            ],
            "image/png": "[encoded data removed]"
          },
          "metadata": {}
        }
      ]
    },
    {
      "cell_type": "markdown",
      "source": [
        "# **Features Analysis**"
      ],
      "metadata": {
        "id": "kMEpr4k3j2G6"
      }
    },
    {
      "cell_type": "markdown",
      "source": [
        "*Categorical Features distribution*"
      ],
      "metadata": {
        "id": "jwF74W59qwf_"
      }
    },
    {
      "cell_type": "code",
      "source": [
        "import seaborn as sns\n",
        "import matplotlib.pyplot as plt\n",
        "\n",
        "# Set up subplots\n",
        "fig, axes = plt.subplots(nrows=2, ncols=2, figsize=(12, 10))\n",
        "\n",
        "boolean_features = [col for col in ['holiday', 'workingday'] if col in train_data.columns]\n",
        "categorical_features = [col for col in ['season', 'weather'] if col in train_data.columns]\n",
        "\n",
        "# Plot categorical features\n",
        "for i, feature in enumerate(categorical_features):\n",
        "    sns.countplot(x=feature, data=train_data, ax=axes[i // 2, i % 2])\n",
        "    axes[i // 2, i % 2].set_title(f'Distribution of {feature}')\n",
        "\n",
        "# Plot boolean features\n",
        "for i, feature in enumerate(boolean_features):\n",
        "  sns.countplot(x=feature, data=train_data, ax=axes[1, i])\n",
        "  axes[1, i].set_title(f'Distribution of {feature}')\n",
        "\n",
        "plt.tight_layout()\n",
        "plt.show()\n",
        "\n"
      ],
      "metadata": {
        "id": "rkNr0mtTlURa"
      },
      "execution_count": null,
      "outputs": []
    },
    {
      "cell_type": "markdown",
      "source": [
        "From a first look, we can see that : <br>\n",
        "The 'season' feature has comparable numbers of rental bikes for each season, indicating that the demand for bikes remains consistent throughout the year.\n",
        "\n",
        "On the other hand, The 'wether' count plot indicates that they are no bikes rental during a '4' wether, which is a heavy weather.\n",
        "\n",
        "In addition, we observed that people are often rent bikes during working days and not on a holiday.  "
      ],
      "metadata": {
        "id": "k0Qd14_Io8Eb"
      }
    },
    {
      "cell_type": "markdown",
      "source": [
        "*Numerical Features Distribution*"
      ],
      "metadata": {
        "id": "MBRxfPjgrXVc"
      }
    },
    {
      "cell_type": "markdown",
      "source": [
        "Next, we want to observe some statistics to understand what data we have: <br>\n",
        "(Note that we are only looking at the numerical features and boolean features - which are represented as numbers)."
      ],
      "metadata": {
        "id": "EmGmZ9pmTp4N"
      }
    },
    {
      "cell_type": "code",
      "source": [
        "# Get the summary statistics of the features\n",
        "print(\"\\nSummary statistics of the features:\")\n",
        "train_data.describe()"
      ],
      "metadata": {
        "id": "cMRLF5pcxVqV"
      },
      "execution_count": null,
      "outputs": []
    },
    {
      "cell_type": "markdown",
      "source": [
        "`TODO: Maybe delete this text?`\n",
        "\n",
        "By looking at count, mean, standard deviations, minimum, maximum and data percentiles values we can learn about distributions, missing values and marginal values. <br><br>\n",
        "\n",
        "<b>Count:</b> The count for each feature indicates the number of non-null values. No missing values exist in the numeric features (8164).<br><br>\n",
        "<b>Mean:</b> The mean provides the average value for each feature. It can give us an idea of the central tendency of the data.<br><br>\n",
        "<b>Standard Deviation (std): </b>The standard deviation measures the dispersion or spread of the data. A higher standard deviation indicates greater variability in the values of the feature.<br><br>\n",
        "<b>Min and Max:</b> The minimum and maximum values represent the range of values observed in each feature. We can see the minimum and maximum values for each feature, which can help us understand the scale and magnitude of the data.<br><br>\n",
        "<b>Percentiles (25%, 50%, 75%):</b> The percentiles provide information about the distribution of the data. The 25th, 50th (median), and 75th percentiles divide the data into quartiles. These values can give us insights into the distribution's skewness and the concentration of values around the median."
      ],
      "metadata": {
        "id": "h59oGoLdTy36"
      }
    },
    {
      "cell_type": "markdown",
      "source": [
        "Based on this information, we can make the following observations: (Generated by GPT)\n",
        "\n",
        "Here are some conclusions and observations that can be drawn from the train_data dataframe based on the provided statistics:\n",
        "\n",
        "- <u>Temperature and Apparent Temperature (atemp):</u>\n",
        "\n",
        "    The mean temperature is around 20.24°C, with a standard deviation of 7.80°C.\n",
        "    Apparent temperature (atemp) has a similar distribution to temperature.\n",
        "\n",
        "\n",
        "- <u>Humidity:</u>\n",
        "\n",
        "    The average humidity is approximately 61.84%, with a standard deviation of 19.26%.\n",
        "    The minimum humidity is 0%, which might be an outlier or missing data.\n",
        "\n",
        "\n",
        "- <u>Windspeed:</u>\n",
        "\n",
        "    The average windspeed is 12.79, with a standard deviation of 8.21.\n",
        "    There is a wide range of windspeed values, with a minimum of 0 and a maximum of 56.9979.\n",
        "\n",
        "\n",
        "- <u>Pollution:</u>\n",
        "\n",
        "    The pollution level has a mean of 47.15, but with a high standard deviation of 72.88.\n",
        "    The pollution values range from a minimum of 0.000304 to a maximum of 754.30, suggesting potential outliers.\n",
        "\n",
        "\n",
        "- <u>Sunlight:</u>\n",
        "\n",
        "    The average sunlight is 20.25, with a standard deviation of 7.80.\n",
        "    Sunlight values range from a minimum of 0.821 to a maximum of 41.001.\n",
        "\n",
        "\n",
        "- <u>Traffic:</u>\n",
        "\n",
        "    The traffic variable has a very low mean of 0.00499, with a standard deviation of 0.00632.\n",
        "    The majority of the values seem to be close to zero, suggesting sparse traffic data. Its impact on the bicycle rental demand needs exploration."
      ],
      "metadata": {
        "id": "AOUpoRcnUZY3"
      }
    },
    {
      "cell_type": "markdown",
      "source": [
        "Now we would like to understand how the features are structured. <br>\n",
        "Are the values in each feature repeated ...? What are common values in every feature ...? Is an attribute a representative attribute with different values ...?"
      ],
      "metadata": {
        "id": "NR3CuSyt5GAw"
      }
    },
    {
      "cell_type": "code",
      "source": [
        "for column in train_data.columns:\n",
        "    categories = train_data[column].value_counts()\n",
        "    print(f\"Categories in column '{column}':\")\n",
        "    display(categories)\n",
        "    # Noting when the categories are unique.\n",
        "    if len(categories) == train_data.shape[0]:\n",
        "        print(\"Each category is different.\")\n",
        "        print(\"\")"
      ],
      "metadata": {
        "id": "i_ls8lGY4w_2"
      },
      "execution_count": null,
      "outputs": []
    },
    {
      "cell_type": "markdown",
      "source": [
        "We can draw some interesting conclusions: (Generated by GPT)\n",
        "\n",
        "- <u>Datetime:</u>\n",
        "\n",
        "    Each timestamp in the 'datetime' column is unique, indicating that there are no duplicated timestamp values. This column might represent the date and time information.\n",
        "\n",
        "\n",
        "- <u>Season:</u>\n",
        "\n",
        "    There are four distinct categories in the 'season' column (1, 2, 3, 4) with varying counts.\n",
        "    The distribution suggests that each season is well-represented in the dataset.\n",
        "\n",
        "\n",
        "- <u>Holiday and Workingday:</u>\n",
        "\n",
        "    The 'holiday' column has two categories (0, 1) with the majority being non-holiday days (0).\n",
        "    The 'workingday' column has two categories (0, 1), with a higher count for working days (1).\n",
        "\n",
        "\n",
        "- <u>Weather:</u>\n",
        "\n",
        "    The 'weather' column has four categories (1, 2, 3, 4), with the majority falling under category 1.\n",
        "    Category 4 appears to have only one occurrence and might be an outlier or error.\n",
        "\n",
        "\n",
        "- <u>Temperature and Apparent Temperature (temp, atemp):</u>\n",
        "\n",
        "    Both 'temp' and 'atemp' columns have a wide range of values, with multiple occurrences for each temperature.\n",
        "    These features appear to have been discretized or rounded, resulting in multiple instances of the same temperature.\n",
        "\n",
        "\n",
        "- <u>Humidity:</u>\n",
        "\n",
        "    The 'humidity' column has 87 unique values, indicating a diverse range of humidity levels in the dataset.\n",
        "\n",
        "\n",
        "- <u>Windspeed:</u>\n",
        "\n",
        "    The 'windspeed' column has 29 unique values, with a dominant occurrence of 0.0000.\n",
        "    It's possible that the windspeed values have been discretized, and 0.0000 might represent calm or very low windspeed.\n",
        "\n",
        "\n",
        "- <u>Pollution:</u>\n",
        "\n",
        "    Each value in the 'pollution' column is unique, indicating a diverse range of pollution levels.\n",
        "    This feature appears to be continuous and might require further investigation for outliers.\n",
        "\n",
        "\n",
        "- <u>Sunlight:</u>\n",
        "\n",
        "    Similar to 'temp' and 'atemp', the 'sunlight' column has a variety of values with multiple occurrences for each sunlight level.\n",
        "\n",
        "\n",
        "- <u>Traffic:</u>\n",
        "\n",
        "    The 'traffic' column has four distinct values, with the majority being either 0.000000 or 0.000242.\n",
        "    This variable might represent traffic intensity, and the low values suggest sparse traffic data."
      ],
      "metadata": {
        "id": "N3or4IhI5f4-"
      }
    },
    {
      "cell_type": "markdown",
      "source": [
        "Let's take a look on the distribution of the numerical features to draw some conclusions:"
      ],
      "metadata": {
        "id": "e5d25OzYe2Jt"
      }
    },
    {
      "cell_type": "code",
      "source": [
        "plt.figure(figsize=(8, 8))\n",
        "plt.rc('axes', labelsize=4)  # Adjust label font size\n",
        "plt.rc('xtick', labelsize=8)  # Adjust x-axis tick font size\n",
        "plt.rc('ytick', labelsize=8)  # Adjust y-axis tick font size\n",
        "plt.rc('legend', fontsize=8)  # Adjust legend font size\n",
        "\n",
        "train_data_subset = train_data.drop(columns=['datetime'])\n",
        "\n",
        "# Plot histograms\n",
        "train_data_subset.hist(ax=plt.gca())\n",
        "plt.tight_layout()  # Adjust layout to prevent overlap\n",
        "plt.show()"
      ],
      "metadata": {
        "id": "dNXUAbeCe3ju"
      },
      "execution_count": null,
      "outputs": []
    },
    {
      "cell_type": "markdown",
      "source": [
        "Seems that there might be some outliers in \"windspeed\" and \"pollution\" as stated above."
      ],
      "metadata": {
        "id": "nZ-nSLVyiC7N"
      }
    },
    {
      "cell_type": "code",
      "source": [
        "def create_distribution_graph(df):\n",
        "    numeric_cols = df.select_dtypes(include=[float, int]).columns\n",
        "    num_cols = len(numeric_cols)\n",
        "    rows = int(math.sqrt(num_cols))\n",
        "    cols = int(math.ceil(num_cols / rows))\n",
        "\n",
        "    fig, axes = plt.subplots(nrows=rows, ncols=cols, figsize=(35, 20))\n",
        "\n",
        "    plot_index = 0\n",
        "    for i in range(rows):\n",
        "        for j in range(cols):\n",
        "            if plot_index < num_cols:\n",
        "                col = numeric_cols[plot_index]\n",
        "                df[col].plot.density(ax=axes[i, j])\n",
        "                axes[i, j].set_title(col.capitalize())\n",
        "                plot_index += 1\n",
        "\n",
        "    plt.tight_layout()\n",
        "    plt.show()\n",
        "\n",
        "create_distribution_graph(train_data)"
      ],
      "metadata": {
        "id": "GEOgONRsh9x6"
      },
      "execution_count": null,
      "outputs": []
    },
    {
      "cell_type": "markdown",
      "source": [
        "\"Humidity\" and \"Pollution\" show some type of normality, maybe after some tweaking a better conclusion could be drawn."
      ],
      "metadata": {
        "id": "lcVfxbr4jGSO"
      }
    },
    {
      "cell_type": "markdown",
      "source": [
        "We will deal with outliers later.<br>\n",
        "Hence, let's apply log transformation on these features:"
      ],
      "metadata": {
        "id": "o2yJ-B81juCN"
      }
    },
    {
      "cell_type": "code",
      "source": [
        "# Function that creates a distribution graph for all the numeric features\n",
        "def create_distribution_graph(df):\n",
        "    for i, col in enumerate(df.select_dtypes(include=[float, int])):\n",
        "        transformed_data = np.log1p(df[col])  # Apply logarithm transformation\n",
        "        transformed_data.plot.density()\n",
        "        plt.title(col.capitalize() + \" (Log Transformed)\")\n",
        "        plt.show()\n",
        "\n",
        "create_distribution_graph(train_data)"
      ],
      "metadata": {
        "id": "0vpbdphwkA6G"
      },
      "execution_count": null,
      "outputs": []
    },
    {
      "cell_type": "markdown",
      "source": [
        "Seems like only \"Humidity\" looks like normaly distributed, but later we will take another look at the distributions and outliers."
      ],
      "metadata": {
        "id": "kyb4Ga65kIXO"
      }
    },
    {
      "cell_type": "markdown",
      "source": [
        "#### Correlation\n",
        "We want to check the correaltion between features."
      ],
      "metadata": {
        "id": "uh9mEdVtkgvC"
      }
    },
    {
      "cell_type": "markdown",
      "source": [
        "Let's take a look in general. <br>\n",
        "In this part we will use a new method which was not learnt in class- the VIF method.\n",
        "We want primarily observe whether a feature has a high correlation with other features based on its Variance Inflation Factor (VIF) value.<br>\n",
        "A high VIF value indicates multicollinearity, which suggests a strong correlation between the feature and other features in the dataset."
      ],
      "metadata": {
        "id": "456sdY9dkiI_"
      }
    },
    {
      "cell_type": "code",
      "source": [
        "# Select numerical features (excluding the categorical features)\n",
        "numerical_features = train_data.select_dtypes(include=['float64', 'bool'])\n",
        "\n",
        "# Convert boolean features to numeric (0 and 1)\n",
        "boolean_features = numerical_features.select_dtypes(include='bool')\n",
        "boolean_features = numerical_features.dropna()\n",
        "numerical_features[boolean_features.columns] = boolean_features.astype(int)\n",
        "\n",
        "# Remove any rows with null values in the selected features\n",
        "numerical_features = numerical_features.dropna()\n",
        "\n",
        "# Calculate VIF for each feature\n",
        "vif = pd.DataFrame()\n",
        "vif[\"Variable\"] = numerical_features.columns\n",
        "vif[\"VIF\"] = [variance_inflation_factor(numerical_features.values.astype(float), i) for i in range(numerical_features.shape[1])]\n",
        "\n",
        "print(\"VIF for all features except category features:\")\n",
        "print(vif)"
      ],
      "metadata": {
        "id": "GtmIghpJkj8X"
      },
      "execution_count": null,
      "outputs": []
    },
    {
      "cell_type": "markdown",
      "source": [
        "To calculate the VIF, we regress each predictor variable against all the other predictor variables in the model. The VIF for each variable is then computed as the ratio of the variance of the estimated regression coefficient to the variance of the coefficient if that variable was uncorrelated with the other predictors.\n",
        "\n",
        "Features with VIF values close to 1 (around or below 1) indicate low multicollinearity. These features are relatively independent of each other when predicting the target variable.<br>\n",
        "Examples: TODO.<br>\n",
        "\n",
        "Features with VIF values between 1 and 5 are generally considered to have moderate multicollinearity. Although there might be some correlation, it is not severe.<br>\n",
        "Examples: TODO.<br>\n",
        "\n",
        "Features with VIF values above 5 suggest the presence of multicollinearity. These features have a strong correlation with other features in the dataset and may negatively impact the model's performance.<br>\n",
        "Examples: TODO.\n",
        "<br><br>\n",
        "Based on this information, we can consider the VIF values to identify potential issues related to multicollinearity.<br>\n",
        " High VIF values indicate that certain features are highly correlated with others, which can affect the model's interpretability and stability.<br>\n",
        "In such cases, we may consider removing or transforming the highly correlated features to mitigate multicollinearity and improve the model's performance.\n",
        "\n",
        "\n"
      ],
      "metadata": {
        "id": "fsWYTkUZk1ky"
      }
    },
    {
      "cell_type": "markdown",
      "source": [
        "However, the VIF values alone do not provide information about the specific pairwise correlations between features. <br>\n",
        "To determine the exact correlations between features, we need to calculate the correlation matrix or pairwise correlation coefficients."
      ],
      "metadata": {
        "id": "VjCWS8MAlQN-"
      }
    },
    {
      "cell_type": "markdown",
      "source": [
        "Therefore, we will make a correlation matrix:"
      ],
      "metadata": {
        "id": "wYVF0x3IlRz3"
      }
    },
    {
      "cell_type": "code",
      "source": [
        "corr_matrix = train_data.corr().round(1)  # Round the correlation values to 1 decimal place\n",
        "plt.figure()\n",
        "sns.heatmap(corr_matrix, annot=True, fmt='.1f', cmap='coolwarm')  # Set fmt='.1f' to display 1 decimal place\n",
        "plt.title('Correlation Heatmap')\n",
        "plt.show()"
      ],
      "metadata": {
        "id": "lkRYCIPjlShC"
      },
      "execution_count": null,
      "outputs": []
    },
    {
      "cell_type": "markdown",
      "source": [
        "This function creates a visual representation of the correlation matrix using a color-coded heatmap.<br>\n",
        "It displays a grid of squares, where each square represents the correlation between two features.\n",
        "\n",
        "Here are some general observations we can make from the heatmap:\n",
        "\n",
        "<b> Strong positive correlation:</b> If two features have a high positive correlation (TODO features), it suggests that as one feature increases, the other feature tends to increase as well. Conversely, if two features have a strong negative correlation (close to -1), it means that as one feature increases, the other feature tends to decrease.\n",
        "\n",
        "<b>Weak or no correlation:</b> If the correlation coefficient is close to 0, it indicates a weak or no linear relationship between the features (TODO). This means that changes in one feature do not necessarily correspond to changes in the other feature.\n",
        "\n",
        "<b>Redundant or highly correlated features:</b> High correlation values between pairs of features might indicate that these features provide similar information, in our case: TODO. In such cases, we could consider removing one of the redundant features to reduce dimensionality and potential multicollinearity.<br>\n",
        "We will use these conclusions later in our analysis."
      ],
      "metadata": {
        "id": "GNbhaS30lp52"
      }
    },
    {
      "cell_type": "markdown",
      "source": [
        "Let's take another look on the high correlated features:"
      ],
      "metadata": {
        "id": "nYG8wQeHl1zI"
      }
    },
    {
      "cell_type": "code",
      "source": [
        "# Extract the \"numstrings\" and \"size\" features from the train_data DataFrame\n",
        "\n",
        "# TODO : Change based on the findings above\n",
        "\n",
        "# numstrings = train_data['numstrings'] #TODO\n",
        "# mz = train_data['MZ']\n",
        "# size = train_data['size']\n",
        "\n",
        "# # Plot a scatter plot of the two features\n",
        "# plt.figure(figsize=(8, 6))\n",
        "# plt.scatter(numstrings, size, alpha=0.5)\n",
        "# plt.xlabel('numstrings')\n",
        "# plt.ylabel('size')\n",
        "# plt.title('Scatter Plot: numstrings vs size')\n",
        "# plt.show()\n",
        "\n",
        "# # Plot a scatter plot of the two features\n",
        "# plt.figure(figsize=(8, 6))\n",
        "# plt.scatter(mz, size, alpha=0.5)\n",
        "# plt.xlabel('MZ')\n",
        "# plt.ylabel('size')\n",
        "# plt.title('Scatter Plot: MZ vs size')\n",
        "# plt.show()\n"
      ],
      "metadata": {
        "id": "4TlxSGhUl3OZ"
      },
      "execution_count": null,
      "outputs": []
    },
    {
      "cell_type": "markdown",
      "source": [
        "<b>A more in-depth analysis:</b> <br> TODO : Change based on the findings\n",
        "- <b>numstrings and size</b>\n",
        "\n",
        "    The \"numstrings\" feature represents the number of printable strings that are at least five printable characters long. <br>\n",
        "    This can be an indicator of the amount of text or human-readable content present in the file. <br>\n",
        "    Larger files are likely to have more text or content, which could explain the higher correlation between the file size and the number of strings.\n",
        "\n",
        "    It is possible that larger files tend to have more printable strings, or vice versa.\n",
        "\n",
        "    <b> The VIF values of both these features is high! <br>\n",
        "    Moreover, looking on the plot, Most of the values are on the linear line.</b>\n",
        "\n",
        "- <b>MZ and size</b>\n",
        "\n",
        "    The \"MZ\" string is a signature commonly found in Windows executable files (PE files) that indicates the file is a Portable Executable format. <br>\n",
        "    This format is typically used for Windows applications and executables. Therefore, it is expected to observe a higher frequency of the \"MZ\" string in larger files, as larger files often contain more complex and feature-rich applications.\n",
        "\n",
        "    To gain a better understanding of the relationship between the \"MZ\" feature and the file size, <br> we can further investigate the distribution of file sizes for files with and without the \"MZ\" string.  <br>\n",
        "    This will help determine if the correlation is significant and consistent across the dataset.\n",
        "\n",
        "    <b>The VIF values of size is high but the VIF of MZ is low!<br>\n",
        "    Moreover, looking on the plot, there are a lot of values that are not on the linear line.</b>"
      ],
      "metadata": {
        "id": "CiJRcDWLmEX5"
      }
    },
    {
      "cell_type": "markdown",
      "source": [
        "In conclusion, the VIF index helped us to understand in general whether there is a correlation for features.<br>\n",
        "The correlation matrix looked linearly at whether there was a correlation between each 2 features.<br>\n",
        "In both of these indices we saw that the TODO feature has a very high correlation.<br>\n",
        "All in all, later, we will maybe consider dropping some of them to improve the model."
      ],
      "metadata": {
        "id": "gcTfBJg0mMOF"
      }
    },
    {
      "cell_type": "markdown",
      "source": [
        "Correlation from another look:"
      ],
      "metadata": {
        "id": "H83Npt9omVWv"
      }
    },
    {
      "cell_type": "code",
      "source": [
        "plt.figure()\n",
        "correlation_matrix = train_with_labels.corr()\n",
        "correlation_with_label = correlation_matrix['count']\n",
        "\n",
        "# Remove the label feature from the correlation\n",
        "correlation_with_label = correlation_with_label.drop('count')\n",
        "\n",
        "correlation_with_label.plot(kind='bar', color='skyblue')\n",
        "plt.title('Correlation with Malicious Label')\n",
        "plt.xlabel('Features')\n",
        "plt.ylabel('Correlation')\n",
        "plt.xticks(rotation=45)\n",
        "plt.show()\n"
      ],
      "metadata": {
        "id": "oFVI7wmNmVvH"
      },
      "execution_count": null,
      "outputs": []
    },
    {
      "cell_type": "markdown",
      "source": [
        "The resulting plot shows the correlation values between each feature and the 'label' column, providing insights into the relationship between the features and the malicious label. We can see that there is no feature that is very correlated with the labels.<br>\n",
        "Can not draw any conclusion. TODO\n"
      ],
      "metadata": {
        "id": "gWywQtOxmktD"
      }
    },
    {
      "cell_type": "markdown",
      "source": [
        "### Visualizations of Null Values\n",
        "In addition, we will look at the rows with missing values to try to learn what characterizes such rows:"
      ],
      "metadata": {
        "id": "G15IFI5TrScB"
      }
    },
    {
      "cell_type": "code",
      "source": [
        "nan_rows = train_data[train_data.isna().any(axis=1)]\n",
        "print(nan_rows.shape[0])\n",
        "nan_rows.head()"
      ],
      "metadata": {
        "id": "iA1wGX1rrUcs"
      },
      "execution_count": null,
      "outputs": []
    },
    {
      "cell_type": "markdown",
      "source": [
        "\n",
        "Let's see what percentage of missing values exist in each feature."
      ],
      "metadata": {
        "id": "dIzhOKp1rX0N"
      }
    },
    {
      "cell_type": "code",
      "source": [
        "def calculate_null_percentage(df):\n",
        "    null_values = df.isnull().sum()\n",
        "    null_columns = null_values[null_values > 0]\n",
        "\n",
        "    null_columns_df = pd.DataFrame({\n",
        "        \"Feature\": null_columns.index,\n",
        "        \"Null%\": (null_columns / df.shape[0]) * 100\n",
        "    })\n",
        "\n",
        "    # Add features with 0 null values\n",
        "    features_with_no_nulls = df.columns[df.isnull().sum() == 0]\n",
        "    null_columns_df = pd.concat([null_columns_df, pd.DataFrame({\"Feature\": features_with_no_nulls, \"Null%\": 0})])\n",
        "    null_columns_df.reset_index(drop=True, inplace=True)\n",
        "\n",
        "    return null_columns_df\n",
        "nulls = calculate_null_percentage(train_data)\n",
        "nulls"
      ],
      "metadata": {
        "id": "319p37EBrZLW"
      },
      "execution_count": null,
      "outputs": []
    },
    {
      "cell_type": "markdown",
      "source": [
        "### Visualisation Of Categorial Data"
      ],
      "metadata": {
        "id": "azLl0KAprh9V"
      }
    },
    {
      "cell_type": "markdown",
      "source": [
        "Except the 'sha256' feature, there are 2 another features of categorical features \"C\" and \"file_type_trid\" that are much clearer and easier to see as a graph: TODO"
      ],
      "metadata": {
        "id": "WejadIeXrjDy"
      }
    },
    {
      "cell_type": "code",
      "source": [
        "category_features = ['file_type_trid', 'C'] # TODO\n",
        "\n",
        "for feature in category_features:\n",
        "    # Create a horizontal bar plot\n",
        "    if feature == 'C':\n",
        "        plt.figure(figsize=(8, 4))\n",
        "    if feature == 'file_type_trid':\n",
        "        plt.figure(figsize=(40, 60))\n",
        "    category_counts = train_data[feature].value_counts()\n",
        "    category_counts.plot(kind='barh')\n",
        "    plt.title(f'Frequency of {feature} Type Categories')\n",
        "    plt.xlabel('Count')\n",
        "    plt.ylabel(feature)\n",
        "    plt.show()\n"
      ],
      "metadata": {
        "id": "BE0iglUMrmYG"
      },
      "execution_count": null,
      "outputs": []
    },
    {
      "cell_type": "markdown",
      "source": [
        "We can see that the 'file_type_trid\" feature has a lot of different categories.<br>\n",
        "Let's take another look. TODO"
      ],
      "metadata": {
        "id": "jtytNSDnrpJ5"
      }
    },
    {
      "cell_type": "code",
      "source": [
        "def plot_categotical_col(df):\n",
        "\n",
        "    plt.rcParams['figure.facecolor'] = 'white'\n",
        "    plt.figure(figsize=(50, 20))\n",
        "    # pie plot\n",
        "    df['file_type_trid'].value_counts().plot(kind='pie', label='file_type_trid', autopct='%1.1f%%').set(\n",
        "        title='Pie plot for each category of file_type_trid')\n",
        "    plt.ylabel('')  # Remove the y-axis label\n",
        "    plt.show()\n",
        "\n",
        "plot_categotical_col(train_data)"
      ],
      "metadata": {
        "id": "OxUfNi2Yrscx"
      },
      "execution_count": null,
      "outputs": []
    },
    {
      "cell_type": "markdown",
      "source": [
        "We observe that the feature 'TODO' contains several categories with a relatively small proportion of the overall data (less than 5%).<br>\n",
        "When these categories are encoded as dummy variables, they can significantly increase the dimensionality of the model, potentially leading to overfitting.\n",
        "<br> We will address these issues later.\n"
      ],
      "metadata": {
        "id": "ShIV7aWuruV6"
      }
    },
    {
      "cell_type": "markdown",
      "source": [
        "#### <u>Boolean Features:</u>"
      ],
      "metadata": {
        "id": "crYfTDQEr1Ph"
      }
    },
    {
      "cell_type": "code",
      "source": [
        "# List of boolean features\n",
        "boolean_features = ['has_debug', 'has_tls', 'has_relocations', 'has_resources', 'has_signature']\n",
        "\n",
        "# Calculate the number of rows and columns for the subplots\n",
        "num_features = len(boolean_features)\n",
        "num_rows = (num_features + 1) // 2\n",
        "num_cols = min(2, num_features)\n",
        "\n",
        "# Create a grid of subplots\n",
        "fig, axes = plt.subplots(num_rows, num_cols, figsize=(8, 4*num_rows))\n",
        "\n",
        "# Flatten the axes if necessary\n",
        "if num_features > 1:\n",
        "    axes = axes.flatten()\n",
        "\n",
        "# Iterate over each boolean feature\n",
        "for i, feature in enumerate(boolean_features):\n",
        "    # Group the data by the boolean feature and label, and calculate the count\n",
        "    category_counts = train_with_labels.groupby([feature, 'label']).size().unstack()\n",
        "\n",
        "    # Plot the results in the corresponding subplot\n",
        "    ax = axes[i]\n",
        "    ax.set_title(f'Label Distribution by {feature}')\n",
        "    ax.set_xlabel(f'{feature}')\n",
        "    ax.set_ylabel('Count')\n",
        "    category_counts.plot(kind='bar', stacked=True, ax=ax)\n",
        "    ax.legend(['Benign', 'Malicious'])\n",
        "\n",
        "# Hide empty subplots\n",
        "for j in range(num_features, num_rows*num_cols):\n",
        "    axes[j].axis('off')\n",
        "\n",
        "# Adjust the spacing between subplots\n",
        "plt.tight_layout()\n",
        "\n",
        "# Show the plot\n",
        "plt.show()\n"
      ],
      "metadata": {
        "id": "xYfFVlp0r96j"
      },
      "execution_count": null,
      "outputs": []
    },
    {
      "cell_type": "markdown",
      "source": [
        "Several things can be learned from all these outputs: <br> TODO\n",
        "<b>Category Imbalance:</b> By observing the height of the bars for each category, we can identify whether there is an imbalance in the dataset.<br>\n",
        "If certain categories have significantly more instances than others, it could affect the performance of machine learning models trained on this data.<br>\n",
        "In the feature \"has_resources\" the value 1 exists much more than the value 0.<br>\n",
        "In the feature \"has_signature\" the value 0 exists much more than the value 1. <br>\n",
        "In the feature \"has_tls\" the value 0 exists much more than the value 1.\n",
        "\n",
        "<b>Label Distribution:</b> The plot also depicts the distribution of labels (benign and malicious) within each category.<br>\n",
        "The stacked bars allow us to compare the proportion of benign and malicious instances for each category. <br>\n",
        "<b>When the values in fields \"has_debug\" and \"has_signature\" are TRUE(1), there is a high chance that the file is benign.\n",
        "It can be concluded from this that when the file has been debugged, or when there is a signature in the file, there are high chances that the file is benign.</b>\n",
        "<br><br>\n"
      ],
      "metadata": {
        "id": "YJDOXUQ8sAEj"
      }
    },
    {
      "cell_type": "markdown",
      "source": [
        "### Visualizations of Outliers:"
      ],
      "metadata": {
        "id": "rot7m6iisI_v"
      }
    },
    {
      "cell_type": "markdown",
      "source": [
        "In order to maybe identify potential outliers lets visualize, as a start, the boxplots of each non-categorial feature:"
      ],
      "metadata": {
        "id": "AFN_RkCksKpm"
      }
    },
    {
      "cell_type": "code",
      "source": [
        "train_data.plot(kind=\"box\",subplots=True,layout=(6,3),figsize=(15,30));"
      ],
      "metadata": {
        "id": "Qwla6DZqsMQu"
      },
      "execution_count": null,
      "outputs": []
    },
    {
      "cell_type": "markdown",
      "source": [
        "TODO\n",
        "\n",
        "But before getting to final conclusions, lets see the log-boxplots of these features:"
      ],
      "metadata": {
        "id": "9AGo6NPMs6q5"
      }
    },
    {
      "cell_type": "code",
      "source": [
        "# Identify float-type features\n",
        "float_features = train_data.select_dtypes(include=[np.float64, np.float32])\n",
        "\n",
        "# Apply logarithmic transformation to float features\n",
        "log_train_data = float_features.apply(np.log1p)\n",
        "\n",
        "# Combine the transformed features with non-float features\n",
        "transformed_train_data = train_data.copy()\n",
        "transformed_train_data[float_features.columns] = log_train_data\n",
        "\n",
        "# Plot the boxplots with logarithmic values\n",
        "transformed_train_data.plot(kind=\"box\", subplots=True, layout=(6, 3), figsize=(20, 40))\n",
        "plt.show()"
      ],
      "metadata": {
        "id": "UCx4P2F8s7ml"
      },
      "execution_count": null,
      "outputs": []
    },
    {
      "cell_type": "markdown",
      "source": [
        "TODO"
      ],
      "metadata": {
        "id": "w5sC5HBFtBPy"
      }
    },
    {
      "cell_type": "markdown",
      "source": [
        "Final check for normality just to be sure:"
      ],
      "metadata": {
        "id": "HsgT_ATYtDd7"
      }
    },
    {
      "cell_type": "code",
      "source": [
        "\n",
        "# Determine the number of rows and columns for the grid\n",
        "num_rows = 2  # Number of rows in the grid\n",
        "num_cols = 2  # Number of columns in the grid\n",
        "\n",
        "log_train_data = log_train_data[['size', 'vsize', 'numstrings', 'printables']] # TODO\n",
        "\n",
        "# log_train_data1 = train_data[['size', 'vsize', 'numstrings', 'printables']]\n",
        "\n",
        "# Create the grid of subplots\n",
        "fig, axes = plt.subplots(num_rows, num_cols, figsize=(15, 10))\n",
        "\n",
        "# Flatten the axes array for easier indexing\n",
        "axes = axes.flatten()\n",
        "\n",
        "# Iterate over each column in log_train_data\n",
        "for i, column in enumerate(log_train_data.columns):\n",
        "    # Create Q-Q plot\n",
        "    stats.probplot(log_train_data[column], dist=\"norm\", plot=axes[i])\n",
        "\n",
        "    # Set plot title\n",
        "    axes[i].set_title(f\"Q-Q Plot for {column}\")\n",
        "\n",
        "# Adjust the spacing between subplots\n",
        "plt.tight_layout()\n",
        "\n",
        "# Show the plot\n",
        "plt.show()\n"
      ],
      "metadata": {
        "id": "_Ch27dlmtErj"
      },
      "execution_count": null,
      "outputs": []
    },
    {
      "cell_type": "markdown",
      "source": [
        "TODO"
      ],
      "metadata": {
        "id": "rpAlorVJtOYy"
      }
    },
    {
      "cell_type": "markdown",
      "source": [
        "Creating functions to visualize outliers in several ways:"
      ],
      "metadata": {
        "id": "xRcuL78dtSHG"
      }
    },
    {
      "cell_type": "code",
      "source": [
        "def identify_bounds(df, feature, lower_percentile = 0.25, upper_percentile = 0.75, threshold=1.5):\n",
        "    # Calculate the specified percentiles\n",
        "    p1 = df[feature].quantile(lower_percentile)\n",
        "    p2 = df[feature].quantile(upper_percentile)\n",
        "    spread = p2 - p1\n",
        "\n",
        "    # Define the upper and lower bounds\n",
        "    lower_bound = p1 - threshold * spread\n",
        "    upper_bound = p2 + threshold * spread\n",
        "\n",
        "    # print(f\"For {feature} the threshold given {threshold}, Lower Bound: '{lower_bound}', Upper Bound: '{upper_bound}'.\")\n",
        "    return lower_bound, upper_bound"
      ],
      "metadata": {
        "id": "KetcTtfYtQJn"
      },
      "execution_count": null,
      "outputs": []
    },
    {
      "cell_type": "code",
      "source": [
        "def visualize_outliers_histogram(df, feature, ax, lower_bound, upper_bound):\n",
        "    # Plot histogram of the feature\n",
        "    ax.hist(df[feature], bins=20)\n",
        "    ax.set_title(f\"Histogram of {feature}\")\n",
        "    ax.set_xlabel(feature)\n",
        "    ax.set_ylabel(\"Frequency\")\n",
        "\n",
        "    # Mark the outliers on the plot\n",
        "    outliers = df[(df[feature] < lower_bound) | (df[feature] > upper_bound)]\n",
        "    ax.scatter(outliers[feature], np.zeros_like(outliers[feature]), color='red', marker='x', label='Outliers')\n",
        "\n",
        "    ax.legend()\n",
        "\n",
        "def visualize_outliers_scatter(df, feature, ax, lower_bound, upper_bound):\n",
        "    # Identify the outliers\n",
        "    outliers = df[(df[feature] < lower_bound) | (df[feature] > upper_bound)]\n",
        "\n",
        "    # Visualize the outliers\n",
        "    ax.scatter(df.index, df[feature], color='blue', label='Data')\n",
        "    ax.scatter(outliers.index, outliers[feature], color='red', label='Outliers')\n",
        "    ax.set_xlabel('Index')\n",
        "    ax.set_ylabel(feature)\n",
        "    ax.set_title(f'Outliers in {feature}')\n",
        "    ax.legend()\n",
        "\n",
        "def visualize_outliers_boxplot(df, feature, ax, lower_bound, upper_bound):\n",
        "    # Create a boxplot of the feature\n",
        "    sns.boxplot(data=df, y=feature, ax=ax, width=0.5)\n",
        "    ax.set_xlabel(f'{feature}')\n",
        "    ax.set_ylabel('Values')\n",
        "    ax.set_title(f'Boxplot of {feature}')\n",
        "\n",
        "\n",
        "def plot_grid_outliers(df, features, plotting_funcs):\n",
        "    num_cols = len(features)\n",
        "    num_funcs = len(plotting_funcs)\n",
        "    rows = num_cols\n",
        "    cols = num_funcs\n",
        "\n",
        "    fig, axes = plt.subplots(nrows=rows, ncols=cols, figsize=(18, 5 * rows))\n",
        "\n",
        "    axes = axes.reshape(-1)  # Reshape axes to a 1D array\n",
        "\n",
        "    for i, feature in enumerate(features):\n",
        "        lower_bound, upper_bound = identify_bounds(df, feature)\n",
        "\n",
        "        for j, plot_func in enumerate(plotting_funcs):\n",
        "\n",
        "            ax = axes[i * num_funcs + j]  # Get the correct axis\n",
        "            plot_func(df, feature, ax, lower_bound, upper_bound)\n",
        "\n",
        "    fig.suptitle('Outlier view for the Normally Distributed Features\\n\\n', fontsize=16, wrap=True)\n",
        "    # plt.figtext(0.5, 0.95, 'Outlier view for the Normally Distributed Features', ha='center', fontsize=16)\n",
        "    plt.subplots_adjust(top=0.9)  # Adjust the top spacing\n",
        "    plt.tight_layout()\n",
        "    plt.show()\n"
      ],
      "metadata": {
        "id": "D32FTXU7tUru"
      },
      "execution_count": null,
      "outputs": []
    },
    {
      "cell_type": "code",
      "source": [
        "def plot_normal_dist_outliers(IQR_data):\n",
        "\n",
        "    IQR_features = ['size', 'vsize', 'numstrings', 'printables', 'A']\n",
        "    plotting_funcs = [visualize_outliers_histogram, visualize_outliers_scatter, visualize_outliers_boxplot]\n",
        "    plot_grid_outliers(IQR_data, IQR_features, plotting_funcs)"
      ],
      "metadata": {
        "id": "eVUJ0E6ctV3L"
      },
      "execution_count": null,
      "outputs": []
    },
    {
      "cell_type": "markdown",
      "source": [
        "In each row we plot one of the normally distributed features and mark the outliers"
      ],
      "metadata": {
        "id": "68kwe-lttXzl"
      }
    },
    {
      "cell_type": "code",
      "source": [
        "IQR_train_data = pd.concat([log_train_data, train_data['A']], axis=1)\n",
        "plot_normal_dist_outliers(IQR_train_data)"
      ],
      "metadata": {
        "id": "_bXcjbNQtY4Z"
      },
      "execution_count": null,
      "outputs": []
    },
    {
      "cell_type": "markdown",
      "source": [
        "In the preprocessing section we will handle these as decided."
      ],
      "metadata": {
        "id": "TK7_PSLVtbKg"
      }
    },
    {
      "cell_type": "markdown",
      "source": [
        "Not forgetting about the other non-normally distributed, we will handle their outliers using Isolation Forest algorithm in the preprocessing section as well."
      ],
      "metadata": {
        "id": "QIQTp6nrtcU8"
      }
    },
    {
      "cell_type": "code",
      "source": [
        "\n",
        "# Count plots for categorical features\n",
        "plt.figure(figsize=(12, 8))\n",
        "plt.subplot(2, 2, 1)\n",
        "sns.countplot(x='season', data=train_data)\n",
        "\n",
        "plt.subplot(2, 2, 2)\n",
        "sns.countplot(x='holiday', data=train_data)\n",
        "\n",
        "plt.subplot(2, 2, 3)\n",
        "sns.countplot(x='workingday', data=train_data)\n",
        "\n",
        "plt.subplot(2, 2, 4)\n",
        "sns.countplot(x='weather', data=train_data)\n",
        "\n",
        "plt.show()"
      ],
      "metadata": {
        "id": "zZLywNsH5gNC"
      },
      "execution_count": null,
      "outputs": []
    },
    {
      "cell_type": "markdown",
      "source": [],
      "metadata": {
        "id": "HVwyHLPr6Tuq"
      }
    },
    {
      "cell_type": "code",
      "source": [],
      "metadata": {
        "id": "IhzWJ65B6UD_"
      },
      "execution_count": null,
      "outputs": []
    },
    {
      "cell_type": "code",
      "source": [
        "train_data"
      ],
      "metadata": {
        "id": "ObQ52Sle6Wb_"
      },
      "execution_count": null,
      "outputs": []
    },
    {
      "cell_type": "code",
      "source": [
        "train_data.dtypes"
      ],
      "metadata": {
        "id": "bkohp0Ro6goR"
      },
      "execution_count": null,
      "outputs": []
    },
    {
      "cell_type": "code",
      "source": [
        "# Line plot for bike rentals over time\n",
        "plt.figure(figsize=(16, 6))\n",
        "plt.plot(train_with_labels['datetime'], train_with_labels['count'])\n",
        "plt.title('Bike Rentals Over Time')\n",
        "plt.xlabel('Datetime')\n",
        "plt.ylabel('Count')\n",
        "plt.show()"
      ],
      "metadata": {
        "id": "xJSh6FgH6t3O"
      },
      "execution_count": null,
      "outputs": []
    },
    {
      "cell_type": "code",
      "source": [
        "train_data.info"
      ],
      "metadata": {
        "id": "42Ztpls77OZR"
      },
      "execution_count": null,
      "outputs": []
    },
    {
      "cell_type": "markdown",
      "source": [
        "## Preprocessing"
      ],
      "metadata": {
        "id": "E_OOmtAYZnm7"
      }
    },
    {
      "cell_type": "code",
      "source": [
        "full_train_data_copy = full_train_data.copy()\n",
        "\n",
        "labels = full_train_data_copy['count']\n",
        "data = full_train_data_copy.drop('count', axis=1)\n",
        "\n",
        "# Train split to train and validation with fixed random state (42) to ensure reproducibility\n",
        "train_data, validation_data, train_labels, validation_labels = train_test_split(data, labels, test_size=0.2, random_state = 42, shuffle = True)\n",
        "\n",
        "# Save copies in order to have a clean data set to use in the final preprocessing function\n",
        "# (when pipelining all the functions from start to end)\n",
        "train_data_ppc = train_data.copy()\n",
        "train_lables_ppc = train_labels.copy()\n",
        "\n",
        "validation_data_ppc = validation_data.copy()\n",
        "validation_labels_ppc = validation_labels.copy()"
      ],
      "metadata": {
        "id": "C1jDKG3DZwqi"
      },
      "execution_count": null,
      "outputs": []
    },
    {
      "cell_type": "markdown",
      "source": [
        "  ### Handling Missing Values\n"
      ],
      "metadata": {
        "id": "4A8VA3nRwiB7"
      }
    },
    {
      "cell_type": "code",
      "source": [
        "# Example of a function implementation and call\n",
        "def handle_corr_missing_values(train_data, test_data):\n",
        "  pass\n"
      ],
      "metadata": {
        "id": "cOQY1RNLNOxW"
      },
      "execution_count": null,
      "outputs": []
    },
    {
      "cell_type": "code",
      "source": [
        "train_data, validation_data = handle_corr_missing_values(train_data, validation_data)"
      ],
      "metadata": {
        "id": "Hr6WArQ9vlLg"
      },
      "execution_count": null,
      "outputs": []
    },
    {
      "cell_type": "code",
      "source": [
        "# Handle missing values function\n",
        "def handle_missing_values(train_data, test_data):\n",
        "    train_data, test_data = handle_corr_missing_values(train_data, test_data)\n",
        "    train_data, test_data = handle_rest_missing_values(train_data, test_data)\n",
        "    return train_data, test_data"
      ],
      "metadata": {
        "id": "Nk_ZkG1XxE0M"
      },
      "execution_count": null,
      "outputs": []
    },
    {
      "cell_type": "markdown",
      "source": [
        "### Add New Features"
      ],
      "metadata": {
        "id": "96lau3rN1OpT"
      }
    },
    {
      "cell_type": "code",
      "source": [
        "def adding_new_feature(data):\n",
        "    #....\n",
        "\n",
        "    return data"
      ],
      "metadata": {
        "id": "N1XY_qF41S54"
      },
      "execution_count": null,
      "outputs": []
    },
    {
      "cell_type": "code",
      "source": [
        "train_data = adding_new_feature(train_data)\n",
        "validationv_data = adding_new_feature(validation_data)"
      ],
      "metadata": {
        "id": "6R8kO0wON8BM"
      },
      "execution_count": null,
      "outputs": []
    },
    {
      "cell_type": "code",
      "source": [
        "train_data.head()"
      ],
      "metadata": {
        "id": "uMN50RlwN_3U"
      },
      "execution_count": null,
      "outputs": []
    },
    {
      "cell_type": "code",
      "source": [
        "validation_data.head()"
      ],
      "metadata": {
        "id": "1IS7z3wLOAbz"
      },
      "execution_count": null,
      "outputs": []
    },
    {
      "cell_type": "markdown",
      "source": [
        "  ### Handling Categorial Features\n"
      ],
      "metadata": {
        "id": "xtPSG9CixFck"
      }
    },
    {
      "cell_type": "code",
      "source": [
        "def handle_categorial_features(train_data, test_data):\n",
        "\n",
        "    train_data, remaining_categories = reducing_category_types(train_data)\n",
        "    test_data = apply_remaining_categories_for_test(test_data, remaining_categories)\n",
        "\n",
        "    train_data = categorical_variables_spread(train_data)\n",
        "    test_data = categorical_variables_spread(test_data)\n",
        "\n",
        "    return train_data, test_data"
      ],
      "metadata": {
        "id": "hUTrRToHxTMr"
      },
      "execution_count": null,
      "outputs": []
    },
    {
      "cell_type": "code",
      "source": [
        "train_data, validation_data = handle_categorial_features(train_data, validation_data)"
      ],
      "metadata": {
        "id": "WQUbnQfeOM3P"
      },
      "execution_count": null,
      "outputs": []
    },
    {
      "cell_type": "markdown",
      "source": [
        "  ###  Outliers\n"
      ],
      "metadata": {
        "id": "zxs7JyHhxIoa"
      }
    },
    {
      "cell_type": "markdown",
      "source": [
        "**Boxplot Visualiztion** <br>\n",
        "Finding outliers using Boxplot"
      ],
      "metadata": {
        "id": "w2w2JEMGszJu"
      }
    },
    {
      "cell_type": "code",
      "source": [
        "#lets use some boxplots, we want to see outliers of our features.\n",
        "plt.figure(figsize=(5,5))\n",
        "dataNumeric = train_data.select_dtypes(include = [float,int]).columns.tolist()\n",
        "for col in dataNumeric:\n",
        "    train_data[[col]].boxplot()\n",
        "    plt.show()"
      ],
      "metadata": {
        "id": "E7FR2_QBtPon"
      },
      "execution_count": null,
      "outputs": []
    },
    {
      "cell_type": "code",
      "source": [
        "def handle_outliers(train_data, train_labels, test_data):\n",
        "\n",
        "    train_data, bounds = handle_ND_outliers_train(train_data)\n",
        "    test_data = handle_ND_outliers_test(test_data, bounds)\n",
        "\n",
        "    contamination = 0.001\n",
        "    threshold = 0.001\n",
        "    train_data, train_labels = handle_NND_outliers_train(train_data, train_labels, threshold, contamination)\n",
        "\n",
        "    return train_data, train_labels, test_data"
      ],
      "metadata": {
        "id": "on9F64NLxLdd"
      },
      "execution_count": null,
      "outputs": []
    },
    {
      "cell_type": "code",
      "source": [
        "train_data, train_labels, validation_data = handle_outliers(train_data, train_labels, validation_data)\n",
        "\n",
        "## should we handle outliers for our test data as well ?? - to check"
      ],
      "metadata": {
        "id": "_d0I5EXmOgL1"
      },
      "execution_count": null,
      "outputs": []
    },
    {
      "cell_type": "markdown",
      "source": [
        "  ### Large Dimensionality\n"
      ],
      "metadata": {
        "id": "A7NVDhWSxUTO"
      }
    },
    {
      "cell_type": "markdown",
      "source": [
        "##### `How will we recognize that the dimensions of the problem are too large?`\n",
        "\n",
        "In order to assess as the dimensionality of the problem to a higher degree we can use the following steps:<br>\n",
        "\n",
        "- Compute the Feature-to-Sample Ratio: Calculate the ratio of the number of features to the number of samples. If this ratio is significantly large, it might indicate a high-dimensional problem.\n",
        "\n",
        "- Explore Feature Sparsity: Analyze the sparsity of our features. If a significant number of features have a high percentage of zero or near-zero values, it may indicate a high-dimensional problem.\n",
        "\n",
        "- Assess Feature Redundancy: Determine the level of redundancy among the features. Redundant features provide similar or redundant information, which can increase dimensionality without adding valuable insights. (correlated features removal)\n",
        "\n",
        "- Consider Feature Importance: Evaluate the importance or relevance of each feature in relation to the target variable (if available).\n",
        "\n",
        "- Assess Computational Complexity: Take into account the computational resources and time required to handle high-dimensional data. Some algorithms may become computationally expensive or impractical to run with a large number of features.\n",
        "\n",
        "- Evaluate Model Performance: Train and evaluate models using different subsets of features to assess their impact on model performance. If the performance remains consistent despite reducing the number of features, it may indicate high dimensionality."
      ],
      "metadata": {
        "id": "bjEa7ZgqOuvD"
      }
    },
    {
      "cell_type": "code",
      "source": [],
      "metadata": {
        "id": "Gq3VORokxWRZ"
      },
      "execution_count": null,
      "outputs": []
    },
    {
      "cell_type": "markdown",
      "source": [
        "  ### Data Normalizing\n"
      ],
      "metadata": {
        "id": "NiFHiz6MxXGT"
      }
    },
    {
      "cell_type": "code",
      "source": [
        "def normalize_data(train_data, test_data):\n",
        "\n",
        "    selected_features = ['size', 'vsize', 'numstrings', 'printables', 'A','imports', 'exports', 'symbols', 'paths', 'urls', 'registry', 'MZ', 'avlength', 'proportion_imports', 'file_type_prob_trid', 'B']\n",
        "\n",
        "    train_data, scaler = normalize_data_train(train_data, selected_features)\n",
        "    test_data = normalize_data_test(test_data, scaler, selected_features)\n",
        "\n",
        "    return train_data, test_data"
      ],
      "metadata": {
        "id": "E8LVT-_CxZe_"
      },
      "execution_count": null,
      "outputs": []
    },
    {
      "cell_type": "code",
      "source": [
        "train_data, validation_data = normalize_data(train_data, validation_data)"
      ],
      "metadata": {
        "id": "hM0OG3qTO9wR"
      },
      "execution_count": null,
      "outputs": []
    },
    {
      "cell_type": "markdown",
      "source": [
        "  ### Dimensionality Reduction"
      ],
      "metadata": {
        "id": "iaFEPiItxaqq"
      }
    },
    {
      "cell_type": "code",
      "source": [
        "def remove_features(data):\n",
        "    features_to_remove = ['registry', 'size', 'MZ']\n",
        "    data_selected = data.drop(features_to_remove, axis=1)\n",
        "    return data_selected"
      ],
      "metadata": {
        "id": "t6PiIOYlxbfZ"
      },
      "execution_count": null,
      "outputs": []
    },
    {
      "cell_type": "code",
      "source": [
        "train_data = remove_features(train_data)\n",
        "validation_data = remove_features(validation_data)"
      ],
      "metadata": {
        "id": "jTvPqOy1PCOP"
      },
      "execution_count": null,
      "outputs": []
    },
    {
      "cell_type": "markdown",
      "source": [
        "### Final Preprocessing Function"
      ],
      "metadata": {
        "id": "6TXc09TPPJe0"
      }
    },
    {
      "cell_type": "markdown",
      "source": [
        "Now, after deciding what manipulations we will do on the train data (Outliers removal, Normalization, Missing values handling, Categorial data handling, Feature selection and Feature manipulation), we will create a generic preprocess function to run it all at once."
      ],
      "metadata": {
        "id": "o4-zmXvRPbzF"
      }
    },
    {
      "cell_type": "code",
      "source": [
        "def preprocess_data_ALL(train_data, train_labels, test_data):\n",
        "\n",
        "    # Missing Values Handling\n",
        "    train_data, test_data = handle_missing_values(train_data, test_data)\n",
        "\n",
        "    # Add feature - 'proportion_imports'\n",
        "    train_data = adding_new_feature(train_data)\n",
        "    test_data = adding_new_feature(test_data)\n",
        "\n",
        "    # Categorical Data Handling\n",
        "    train_data, test_data = handle_categorial_features(train_data, test_data)\n",
        "\n",
        "    # Outliers Removal\n",
        "    train_data, train_labels, test_data = handle_outliers(train_data, train_labels, test_data)\n",
        "\n",
        "    # Normalization\n",
        "    train_data, test_data = normalize_data(train_data, test_data)\n",
        "\n",
        "    # Feature Reduction\n",
        "    train_data = remove_features(train_data)\n",
        "    test_data = remove_features(test_data)\n",
        "\n",
        "    # PCA\n",
        "    # train_data, test_data = perform_pca(train_data, test_data, 0.99)\n",
        "\n",
        "    return train_data, train_labels, test_data"
      ],
      "metadata": {
        "id": "1yLOPsJpPMrY"
      },
      "execution_count": null,
      "outputs": []
    },
    {
      "cell_type": "code",
      "source": [
        "# Applying all the preprocessing decisions at once from start to end\n",
        "preprocessed_train_data, preprocessed_train_labels, preprocessed_validation_data = preprocess_data_ALL(train_data_ppc, train_lables_ppc, validation_data_ppc)\n",
        "preprocessed_validation_labels = test_labels_ppc.copy()"
      ],
      "metadata": {
        "id": "jJUYWqIaPQ-M"
      },
      "execution_count": null,
      "outputs": []
    },
    {
      "cell_type": "markdown",
      "source": [
        "## Running the Models"
      ],
      "metadata": {
        "id": "PujsQcU7Zw5v"
      }
    },
    {
      "cell_type": "code",
      "source": [],
      "metadata": {
        "id": "h0oHr0ePZ5PO"
      },
      "execution_count": null,
      "outputs": []
    },
    {
      "cell_type": "markdown",
      "source": [
        "## Evaluation of the Models"
      ],
      "metadata": {
        "id": "qbvc7vxiZ5fC"
      }
    },
    {
      "cell_type": "code",
      "source": [],
      "metadata": {
        "id": "TpQcGtSMaD_R"
      },
      "execution_count": null,
      "outputs": []
    },
    {
      "cell_type": "markdown",
      "source": [
        "## Prediction"
      ],
      "metadata": {
        "id": "dE4SF0VdaENB"
      }
    },
    {
      "cell_type": "code",
      "source": [],
      "metadata": {
        "id": "VT6iVDwwaRM_"
      },
      "execution_count": null,
      "outputs": []
    },
    {
      "cell_type": "markdown",
      "source": [
        "\n",
        "\n",
        "1.   List item\n",
        "2.   List item\n",
        "\n"
      ],
      "metadata": {
        "id": "hMx7-OLAaRaY"
      }
    },
    {
      "cell_type": "markdown",
      "source": [
        "## *Output*\n",
        "\n",
        "צריך למלא את זה לפי מה שיצא לנו!!!\n"
      ],
      "metadata": {
        "id": "IJrSf6hnWnCJ"
      }
    },
    {
      "cell_type": "code",
      "source": [
        "import pandas as pd\n",
        "# Keep keys the same, and replace values according to your results and the specified type\n",
        "\n",
        "results = {'model': ['string1', 'string2', 'string3'],\n",
        "           'Score (RMSE)': ['string1', 'string2', 'string3'],\n",
        "           'Hyperparams used': [['list1'], ['list2'], ['list3']],\n",
        "           'Features dropped': [['list1'], ['list2'], ['list3']],\n",
        "           'New features created': [['list1'], ['list2'], ['list3']],\n",
        "           'Runtime trainining + inference (seconds)': ['int1', 'int2', 'int3'],\n",
        "           'Hardware used (GPU/CPU/TPU)': ['string1', 'string2', 'string3'],\n",
        "           'Explainability (top 3 features)': [['list1'], ['list2'], ['list3']]\n",
        "           }\n",
        "\n",
        "df = pd.DataFrame(results)\n",
        "df"
      ],
      "metadata": {
        "id": "_s4RrumjWX9q"
      },
      "execution_count": null,
      "outputs": []
    },
    {
      "cell_type": "code",
      "source": [
        "df.to_csv(os.path.join(os.getcwd(), 'example.csv'))"
      ],
      "metadata": {
        "id": "rCyJPOqeXElz"
      },
      "execution_count": null,
      "outputs": []
    },
    {
      "cell_type": "code",
      "source": [
        "#בדיקת המודל\n",
        "\n",
        "import numpy as np\n",
        "from sklearn.metrics import mean_squared_error\n",
        "np.sqrt(mean_squared_error(y_test, y_pred))"
      ],
      "metadata": {
        "id": "aE9eoQgeXfKv"
      },
      "execution_count": null,
      "outputs": []
    }
  ]
}