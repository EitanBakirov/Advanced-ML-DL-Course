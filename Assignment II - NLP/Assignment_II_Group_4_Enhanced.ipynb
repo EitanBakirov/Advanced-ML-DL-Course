{
  "nbformat": 4,
  "nbformat_minor": 0,
  "metadata": {
    "colab": {
      "provenance": [],
      "toc_visible": true,
      "include_colab_link": true
    },
    "kernelspec": {
      "name": "python3",
      "display_name": "Python 3"
    },
    "language_info": {
      "name": "python"
    },
    "widgets": {
      "application/vnd.jupyter.widget-state+json": {
        "da369e8c3657458d948193610645a6ed": {
          "model_module": "@jupyter-widgets/controls",
          "model_name": "HBoxModel",
          "model_module_version": "1.5.0",
          "state": {
            "_dom_classes": [],
            "_model_module": "@jupyter-widgets/controls",
            "_model_module_version": "1.5.0",
            "_model_name": "HBoxModel",
            "_view_count": null,
            "_view_module": "@jupyter-widgets/controls",
            "_view_module_version": "1.5.0",
            "_view_name": "HBoxView",
            "box_style": "",
            "children": [
              "IPY_MODEL_c509e8c4a3d44582b69f92518916d7ce",
              "IPY_MODEL_43ce50186b854ba2ae4371ef148d4683",
              "IPY_MODEL_235525f3244647cc9c87793dffdcc224"
            ],
            "layout": "IPY_MODEL_f5069578247c4c5eae09cbd1edf99310"
          }
        },
        "c509e8c4a3d44582b69f92518916d7ce": {
          "model_module": "@jupyter-widgets/controls",
          "model_name": "HTMLModel",
          "model_module_version": "1.5.0",
          "state": {
            "_dom_classes": [],
            "_model_module": "@jupyter-widgets/controls",
            "_model_module_version": "1.5.0",
            "_model_name": "HTMLModel",
            "_view_count": null,
            "_view_module": "@jupyter-widgets/controls",
            "_view_module_version": "1.5.0",
            "_view_name": "HTMLView",
            "description": "",
            "description_tooltip": null,
            "layout": "IPY_MODEL_d965c43cef7f4e0f907a4b8eb68873ed",
            "placeholder": "​",
            "style": "IPY_MODEL_deab1afbbda64c3e82a85defbdda8343",
            "value": "100%"
          }
        },
        "43ce50186b854ba2ae4371ef148d4683": {
          "model_module": "@jupyter-widgets/controls",
          "model_name": "FloatProgressModel",
          "model_module_version": "1.5.0",
          "state": {
            "_dom_classes": [],
            "_model_module": "@jupyter-widgets/controls",
            "_model_module_version": "1.5.0",
            "_model_name": "FloatProgressModel",
            "_view_count": null,
            "_view_module": "@jupyter-widgets/controls",
            "_view_module_version": "1.5.0",
            "_view_name": "ProgressView",
            "bar_style": "success",
            "description": "",
            "description_tooltip": null,
            "layout": "IPY_MODEL_19351441e07344c2b55f2b2728ebeab2",
            "max": 70405,
            "min": 0,
            "orientation": "horizontal",
            "style": "IPY_MODEL_370a4bf67e5743039f0534ade43b6764",
            "value": 70405
          }
        },
        "235525f3244647cc9c87793dffdcc224": {
          "model_module": "@jupyter-widgets/controls",
          "model_name": "HTMLModel",
          "model_module_version": "1.5.0",
          "state": {
            "_dom_classes": [],
            "_model_module": "@jupyter-widgets/controls",
            "_model_module_version": "1.5.0",
            "_model_name": "HTMLModel",
            "_view_count": null,
            "_view_module": "@jupyter-widgets/controls",
            "_view_module_version": "1.5.0",
            "_view_name": "HTMLView",
            "description": "",
            "description_tooltip": null,
            "layout": "IPY_MODEL_abf65d56245742009e3bd01f3f85cf77",
            "placeholder": "​",
            "style": "IPY_MODEL_5e939c82e4ad4f7b89eea947ffe458dd",
            "value": " 70405/70405 [00:10&lt;00:00, 3583.25it/s]"
          }
        },
        "f5069578247c4c5eae09cbd1edf99310": {
          "model_module": "@jupyter-widgets/base",
          "model_name": "LayoutModel",
          "model_module_version": "1.2.0",
          "state": {
            "_model_module": "@jupyter-widgets/base",
            "_model_module_version": "1.2.0",
            "_model_name": "LayoutModel",
            "_view_count": null,
            "_view_module": "@jupyter-widgets/base",
            "_view_module_version": "1.2.0",
            "_view_name": "LayoutView",
            "align_content": null,
            "align_items": null,
            "align_self": null,
            "border": null,
            "bottom": null,
            "display": null,
            "flex": null,
            "flex_flow": null,
            "grid_area": null,
            "grid_auto_columns": null,
            "grid_auto_flow": null,
            "grid_auto_rows": null,
            "grid_column": null,
            "grid_gap": null,
            "grid_row": null,
            "grid_template_areas": null,
            "grid_template_columns": null,
            "grid_template_rows": null,
            "height": null,
            "justify_content": null,
            "justify_items": null,
            "left": null,
            "margin": null,
            "max_height": null,
            "max_width": null,
            "min_height": null,
            "min_width": null,
            "object_fit": null,
            "object_position": null,
            "order": null,
            "overflow": null,
            "overflow_x": null,
            "overflow_y": null,
            "padding": null,
            "right": null,
            "top": null,
            "visibility": null,
            "width": null
          }
        },
        "d965c43cef7f4e0f907a4b8eb68873ed": {
          "model_module": "@jupyter-widgets/base",
          "model_name": "LayoutModel",
          "model_module_version": "1.2.0",
          "state": {
            "_model_module": "@jupyter-widgets/base",
            "_model_module_version": "1.2.0",
            "_model_name": "LayoutModel",
            "_view_count": null,
            "_view_module": "@jupyter-widgets/base",
            "_view_module_version": "1.2.0",
            "_view_name": "LayoutView",
            "align_content": null,
            "align_items": null,
            "align_self": null,
            "border": null,
            "bottom": null,
            "display": null,
            "flex": null,
            "flex_flow": null,
            "grid_area": null,
            "grid_auto_columns": null,
            "grid_auto_flow": null,
            "grid_auto_rows": null,
            "grid_column": null,
            "grid_gap": null,
            "grid_row": null,
            "grid_template_areas": null,
            "grid_template_columns": null,
            "grid_template_rows": null,
            "height": null,
            "justify_content": null,
            "justify_items": null,
            "left": null,
            "margin": null,
            "max_height": null,
            "max_width": null,
            "min_height": null,
            "min_width": null,
            "object_fit": null,
            "object_position": null,
            "order": null,
            "overflow": null,
            "overflow_x": null,
            "overflow_y": null,
            "padding": null,
            "right": null,
            "top": null,
            "visibility": null,
            "width": null
          }
        },
        "deab1afbbda64c3e82a85defbdda8343": {
          "model_module": "@jupyter-widgets/controls",
          "model_name": "DescriptionStyleModel",
          "model_module_version": "1.5.0",
          "state": {
            "_model_module": "@jupyter-widgets/controls",
            "_model_module_version": "1.5.0",
            "_model_name": "DescriptionStyleModel",
            "_view_count": null,
            "_view_module": "@jupyter-widgets/base",
            "_view_module_version": "1.2.0",
            "_view_name": "StyleView",
            "description_width": ""
          }
        },
        "19351441e07344c2b55f2b2728ebeab2": {
          "model_module": "@jupyter-widgets/base",
          "model_name": "LayoutModel",
          "model_module_version": "1.2.0",
          "state": {
            "_model_module": "@jupyter-widgets/base",
            "_model_module_version": "1.2.0",
            "_model_name": "LayoutModel",
            "_view_count": null,
            "_view_module": "@jupyter-widgets/base",
            "_view_module_version": "1.2.0",
            "_view_name": "LayoutView",
            "align_content": null,
            "align_items": null,
            "align_self": null,
            "border": null,
            "bottom": null,
            "display": null,
            "flex": null,
            "flex_flow": null,
            "grid_area": null,
            "grid_auto_columns": null,
            "grid_auto_flow": null,
            "grid_auto_rows": null,
            "grid_column": null,
            "grid_gap": null,
            "grid_row": null,
            "grid_template_areas": null,
            "grid_template_columns": null,
            "grid_template_rows": null,
            "height": null,
            "justify_content": null,
            "justify_items": null,
            "left": null,
            "margin": null,
            "max_height": null,
            "max_width": null,
            "min_height": null,
            "min_width": null,
            "object_fit": null,
            "object_position": null,
            "order": null,
            "overflow": null,
            "overflow_x": null,
            "overflow_y": null,
            "padding": null,
            "right": null,
            "top": null,
            "visibility": null,
            "width": null
          }
        },
        "370a4bf67e5743039f0534ade43b6764": {
          "model_module": "@jupyter-widgets/controls",
          "model_name": "ProgressStyleModel",
          "model_module_version": "1.5.0",
          "state": {
            "_model_module": "@jupyter-widgets/controls",
            "_model_module_version": "1.5.0",
            "_model_name": "ProgressStyleModel",
            "_view_count": null,
            "_view_module": "@jupyter-widgets/base",
            "_view_module_version": "1.2.0",
            "_view_name": "StyleView",
            "bar_color": null,
            "description_width": ""
          }
        },
        "abf65d56245742009e3bd01f3f85cf77": {
          "model_module": "@jupyter-widgets/base",
          "model_name": "LayoutModel",
          "model_module_version": "1.2.0",
          "state": {
            "_model_module": "@jupyter-widgets/base",
            "_model_module_version": "1.2.0",
            "_model_name": "LayoutModel",
            "_view_count": null,
            "_view_module": "@jupyter-widgets/base",
            "_view_module_version": "1.2.0",
            "_view_name": "LayoutView",
            "align_content": null,
            "align_items": null,
            "align_self": null,
            "border": null,
            "bottom": null,
            "display": null,
            "flex": null,
            "flex_flow": null,
            "grid_area": null,
            "grid_auto_columns": null,
            "grid_auto_flow": null,
            "grid_auto_rows": null,
            "grid_column": null,
            "grid_gap": null,
            "grid_row": null,
            "grid_template_areas": null,
            "grid_template_columns": null,
            "grid_template_rows": null,
            "height": null,
            "justify_content": null,
            "justify_items": null,
            "left": null,
            "margin": null,
            "max_height": null,
            "max_width": null,
            "min_height": null,
            "min_width": null,
            "object_fit": null,
            "object_position": null,
            "order": null,
            "overflow": null,
            "overflow_x": null,
            "overflow_y": null,
            "padding": null,
            "right": null,
            "top": null,
            "visibility": null,
            "width": null
          }
        },
        "5e939c82e4ad4f7b89eea947ffe458dd": {
          "model_module": "@jupyter-widgets/controls",
          "model_name": "DescriptionStyleModel",
          "model_module_version": "1.5.0",
          "state": {
            "_model_module": "@jupyter-widgets/controls",
            "_model_module_version": "1.5.0",
            "_model_name": "DescriptionStyleModel",
            "_view_count": null,
            "_view_module": "@jupyter-widgets/base",
            "_view_module_version": "1.2.0",
            "_view_name": "StyleView",
            "description_width": ""
          }
        },
        "1c03d4370d284db78428567fc5d59b4f": {
          "model_module": "@jupyter-widgets/controls",
          "model_name": "HBoxModel",
          "model_module_version": "1.5.0",
          "state": {
            "_dom_classes": [],
            "_model_module": "@jupyter-widgets/controls",
            "_model_module_version": "1.5.0",
            "_model_name": "HBoxModel",
            "_view_count": null,
            "_view_module": "@jupyter-widgets/controls",
            "_view_module_version": "1.5.0",
            "_view_name": "HBoxView",
            "box_style": "",
            "children": [
              "IPY_MODEL_995de2e043734e4aac4aea5aecce8ad0",
              "IPY_MODEL_eebec3439d76441099e07f900f6ec978",
              "IPY_MODEL_e2842a524fd94c22b00350cf3a1cd43e"
            ],
            "layout": "IPY_MODEL_23caab28195041c99233c2d3d9622714"
          }
        },
        "995de2e043734e4aac4aea5aecce8ad0": {
          "model_module": "@jupyter-widgets/controls",
          "model_name": "HTMLModel",
          "model_module_version": "1.5.0",
          "state": {
            "_dom_classes": [],
            "_model_module": "@jupyter-widgets/controls",
            "_model_module_version": "1.5.0",
            "_model_name": "HTMLModel",
            "_view_count": null,
            "_view_module": "@jupyter-widgets/controls",
            "_view_module_version": "1.5.0",
            "_view_name": "HTMLView",
            "description": "",
            "description_tooltip": null,
            "layout": "IPY_MODEL_63147ba96dbc44da8d390ded7ae3580a",
            "placeholder": "​",
            "style": "IPY_MODEL_a75705f989044dfe82eb06111639202e",
            "value": "100%"
          }
        },
        "eebec3439d76441099e07f900f6ec978": {
          "model_module": "@jupyter-widgets/controls",
          "model_name": "FloatProgressModel",
          "model_module_version": "1.5.0",
          "state": {
            "_dom_classes": [],
            "_model_module": "@jupyter-widgets/controls",
            "_model_module_version": "1.5.0",
            "_model_name": "FloatProgressModel",
            "_view_count": null,
            "_view_module": "@jupyter-widgets/controls",
            "_view_module_version": "1.5.0",
            "_view_name": "ProgressView",
            "bar_style": "success",
            "description": "",
            "description_tooltip": null,
            "layout": "IPY_MODEL_696771ec9a3b4baabe8557a9fcc4dafd",
            "max": 4245,
            "min": 0,
            "orientation": "horizontal",
            "style": "IPY_MODEL_9591b7d62b344d179d2d50368d598ffe",
            "value": 4245
          }
        },
        "e2842a524fd94c22b00350cf3a1cd43e": {
          "model_module": "@jupyter-widgets/controls",
          "model_name": "HTMLModel",
          "model_module_version": "1.5.0",
          "state": {
            "_dom_classes": [],
            "_model_module": "@jupyter-widgets/controls",
            "_model_module_version": "1.5.0",
            "_model_name": "HTMLModel",
            "_view_count": null,
            "_view_module": "@jupyter-widgets/controls",
            "_view_module_version": "1.5.0",
            "_view_name": "HTMLView",
            "description": "",
            "description_tooltip": null,
            "layout": "IPY_MODEL_62474766974d4fd1931613a08a7525ce",
            "placeholder": "​",
            "style": "IPY_MODEL_2fe25ad883a845aa9cde3988fc9df2a9",
            "value": " 4245/4245 [00:02&lt;00:00, 2192.11it/s]"
          }
        },
        "23caab28195041c99233c2d3d9622714": {
          "model_module": "@jupyter-widgets/base",
          "model_name": "LayoutModel",
          "model_module_version": "1.2.0",
          "state": {
            "_model_module": "@jupyter-widgets/base",
            "_model_module_version": "1.2.0",
            "_model_name": "LayoutModel",
            "_view_count": null,
            "_view_module": "@jupyter-widgets/base",
            "_view_module_version": "1.2.0",
            "_view_name": "LayoutView",
            "align_content": null,
            "align_items": null,
            "align_self": null,
            "border": null,
            "bottom": null,
            "display": null,
            "flex": null,
            "flex_flow": null,
            "grid_area": null,
            "grid_auto_columns": null,
            "grid_auto_flow": null,
            "grid_auto_rows": null,
            "grid_column": null,
            "grid_gap": null,
            "grid_row": null,
            "grid_template_areas": null,
            "grid_template_columns": null,
            "grid_template_rows": null,
            "height": null,
            "justify_content": null,
            "justify_items": null,
            "left": null,
            "margin": null,
            "max_height": null,
            "max_width": null,
            "min_height": null,
            "min_width": null,
            "object_fit": null,
            "object_position": null,
            "order": null,
            "overflow": null,
            "overflow_x": null,
            "overflow_y": null,
            "padding": null,
            "right": null,
            "top": null,
            "visibility": null,
            "width": null
          }
        },
        "63147ba96dbc44da8d390ded7ae3580a": {
          "model_module": "@jupyter-widgets/base",
          "model_name": "LayoutModel",
          "model_module_version": "1.2.0",
          "state": {
            "_model_module": "@jupyter-widgets/base",
            "_model_module_version": "1.2.0",
            "_model_name": "LayoutModel",
            "_view_count": null,
            "_view_module": "@jupyter-widgets/base",
            "_view_module_version": "1.2.0",
            "_view_name": "LayoutView",
            "align_content": null,
            "align_items": null,
            "align_self": null,
            "border": null,
            "bottom": null,
            "display": null,
            "flex": null,
            "flex_flow": null,
            "grid_area": null,
            "grid_auto_columns": null,
            "grid_auto_flow": null,
            "grid_auto_rows": null,
            "grid_column": null,
            "grid_gap": null,
            "grid_row": null,
            "grid_template_areas": null,
            "grid_template_columns": null,
            "grid_template_rows": null,
            "height": null,
            "justify_content": null,
            "justify_items": null,
            "left": null,
            "margin": null,
            "max_height": null,
            "max_width": null,
            "min_height": null,
            "min_width": null,
            "object_fit": null,
            "object_position": null,
            "order": null,
            "overflow": null,
            "overflow_x": null,
            "overflow_y": null,
            "padding": null,
            "right": null,
            "top": null,
            "visibility": null,
            "width": null
          }
        },
        "a75705f989044dfe82eb06111639202e": {
          "model_module": "@jupyter-widgets/controls",
          "model_name": "DescriptionStyleModel",
          "model_module_version": "1.5.0",
          "state": {
            "_model_module": "@jupyter-widgets/controls",
            "_model_module_version": "1.5.0",
            "_model_name": "DescriptionStyleModel",
            "_view_count": null,
            "_view_module": "@jupyter-widgets/base",
            "_view_module_version": "1.2.0",
            "_view_name": "StyleView",
            "description_width": ""
          }
        },
        "696771ec9a3b4baabe8557a9fcc4dafd": {
          "model_module": "@jupyter-widgets/base",
          "model_name": "LayoutModel",
          "model_module_version": "1.2.0",
          "state": {
            "_model_module": "@jupyter-widgets/base",
            "_model_module_version": "1.2.0",
            "_model_name": "LayoutModel",
            "_view_count": null,
            "_view_module": "@jupyter-widgets/base",
            "_view_module_version": "1.2.0",
            "_view_name": "LayoutView",
            "align_content": null,
            "align_items": null,
            "align_self": null,
            "border": null,
            "bottom": null,
            "display": null,
            "flex": null,
            "flex_flow": null,
            "grid_area": null,
            "grid_auto_columns": null,
            "grid_auto_flow": null,
            "grid_auto_rows": null,
            "grid_column": null,
            "grid_gap": null,
            "grid_row": null,
            "grid_template_areas": null,
            "grid_template_columns": null,
            "grid_template_rows": null,
            "height": null,
            "justify_content": null,
            "justify_items": null,
            "left": null,
            "margin": null,
            "max_height": null,
            "max_width": null,
            "min_height": null,
            "min_width": null,
            "object_fit": null,
            "object_position": null,
            "order": null,
            "overflow": null,
            "overflow_x": null,
            "overflow_y": null,
            "padding": null,
            "right": null,
            "top": null,
            "visibility": null,
            "width": null
          }
        },
        "9591b7d62b344d179d2d50368d598ffe": {
          "model_module": "@jupyter-widgets/controls",
          "model_name": "ProgressStyleModel",
          "model_module_version": "1.5.0",
          "state": {
            "_model_module": "@jupyter-widgets/controls",
            "_model_module_version": "1.5.0",
            "_model_name": "ProgressStyleModel",
            "_view_count": null,
            "_view_module": "@jupyter-widgets/base",
            "_view_module_version": "1.2.0",
            "_view_name": "StyleView",
            "bar_color": null,
            "description_width": ""
          }
        },
        "62474766974d4fd1931613a08a7525ce": {
          "model_module": "@jupyter-widgets/base",
          "model_name": "LayoutModel",
          "model_module_version": "1.2.0",
          "state": {
            "_model_module": "@jupyter-widgets/base",
            "_model_module_version": "1.2.0",
            "_model_name": "LayoutModel",
            "_view_count": null,
            "_view_module": "@jupyter-widgets/base",
            "_view_module_version": "1.2.0",
            "_view_name": "LayoutView",
            "align_content": null,
            "align_items": null,
            "align_self": null,
            "border": null,
            "bottom": null,
            "display": null,
            "flex": null,
            "flex_flow": null,
            "grid_area": null,
            "grid_auto_columns": null,
            "grid_auto_flow": null,
            "grid_auto_rows": null,
            "grid_column": null,
            "grid_gap": null,
            "grid_row": null,
            "grid_template_areas": null,
            "grid_template_columns": null,
            "grid_template_rows": null,
            "height": null,
            "justify_content": null,
            "justify_items": null,
            "left": null,
            "margin": null,
            "max_height": null,
            "max_width": null,
            "min_height": null,
            "min_width": null,
            "object_fit": null,
            "object_position": null,
            "order": null,
            "overflow": null,
            "overflow_x": null,
            "overflow_y": null,
            "padding": null,
            "right": null,
            "top": null,
            "visibility": null,
            "width": null
          }
        },
        "2fe25ad883a845aa9cde3988fc9df2a9": {
          "model_module": "@jupyter-widgets/controls",
          "model_name": "DescriptionStyleModel",
          "model_module_version": "1.5.0",
          "state": {
            "_model_module": "@jupyter-widgets/controls",
            "_model_module_version": "1.5.0",
            "_model_name": "DescriptionStyleModel",
            "_view_count": null,
            "_view_module": "@jupyter-widgets/base",
            "_view_module_version": "1.2.0",
            "_view_name": "StyleView",
            "description_width": ""
          }
        },
        "388011fdb2e84f0897e2e8262deecb4e": {
          "model_module": "@jupyter-widgets/controls",
          "model_name": "HBoxModel",
          "model_module_version": "1.5.0",
          "state": {
            "_dom_classes": [],
            "_model_module": "@jupyter-widgets/controls",
            "_model_module_version": "1.5.0",
            "_model_name": "HBoxModel",
            "_view_count": null,
            "_view_module": "@jupyter-widgets/controls",
            "_view_module_version": "1.5.0",
            "_view_name": "HBoxView",
            "box_style": "",
            "children": [
              "IPY_MODEL_b89310ac45084088b7bf5aedb7ed1bf1",
              "IPY_MODEL_598efa96ad274253bad6e8e6f2a4b81c",
              "IPY_MODEL_8da30b8e88c94c669888e154db58870b"
            ],
            "layout": "IPY_MODEL_78394c260f334af091048b5105c8a321"
          }
        },
        "b89310ac45084088b7bf5aedb7ed1bf1": {
          "model_module": "@jupyter-widgets/controls",
          "model_name": "HTMLModel",
          "model_module_version": "1.5.0",
          "state": {
            "_dom_classes": [],
            "_model_module": "@jupyter-widgets/controls",
            "_model_module_version": "1.5.0",
            "_model_name": "HTMLModel",
            "_view_count": null,
            "_view_module": "@jupyter-widgets/controls",
            "_view_module_version": "1.5.0",
            "_view_name": "HTMLView",
            "description": "",
            "description_tooltip": null,
            "layout": "IPY_MODEL_8dab2f5704d04228a0d3cedd828df0e4",
            "placeholder": "​",
            "style": "IPY_MODEL_c4eaa87275dc4478829ecdcef25a402b",
            "value": "100%"
          }
        },
        "598efa96ad274253bad6e8e6f2a4b81c": {
          "model_module": "@jupyter-widgets/controls",
          "model_name": "FloatProgressModel",
          "model_module_version": "1.5.0",
          "state": {
            "_dom_classes": [],
            "_model_module": "@jupyter-widgets/controls",
            "_model_module_version": "1.5.0",
            "_model_name": "FloatProgressModel",
            "_view_count": null,
            "_view_module": "@jupyter-widgets/controls",
            "_view_module_version": "1.5.0",
            "_view_name": "ProgressView",
            "bar_style": "success",
            "description": "",
            "description_tooltip": null,
            "layout": "IPY_MODEL_486ab0d6ea0441298584f270cba383f2",
            "max": 70405,
            "min": 0,
            "orientation": "horizontal",
            "style": "IPY_MODEL_d43adf961cbb44e8ad6fd1d35c37d38e",
            "value": 70405
          }
        },
        "8da30b8e88c94c669888e154db58870b": {
          "model_module": "@jupyter-widgets/controls",
          "model_name": "HTMLModel",
          "model_module_version": "1.5.0",
          "state": {
            "_dom_classes": [],
            "_model_module": "@jupyter-widgets/controls",
            "_model_module_version": "1.5.0",
            "_model_name": "HTMLModel",
            "_view_count": null,
            "_view_module": "@jupyter-widgets/controls",
            "_view_module_version": "1.5.0",
            "_view_name": "HTMLView",
            "description": "",
            "description_tooltip": null,
            "layout": "IPY_MODEL_270eddee7e744a3d8260c4b09efe67d5",
            "placeholder": "​",
            "style": "IPY_MODEL_eb38aaf817d9497488aaa897b724982a",
            "value": " 70405/70405 [00:26&lt;00:00, 1986.59it/s]"
          }
        },
        "78394c260f334af091048b5105c8a321": {
          "model_module": "@jupyter-widgets/base",
          "model_name": "LayoutModel",
          "model_module_version": "1.2.0",
          "state": {
            "_model_module": "@jupyter-widgets/base",
            "_model_module_version": "1.2.0",
            "_model_name": "LayoutModel",
            "_view_count": null,
            "_view_module": "@jupyter-widgets/base",
            "_view_module_version": "1.2.0",
            "_view_name": "LayoutView",
            "align_content": null,
            "align_items": null,
            "align_self": null,
            "border": null,
            "bottom": null,
            "display": null,
            "flex": null,
            "flex_flow": null,
            "grid_area": null,
            "grid_auto_columns": null,
            "grid_auto_flow": null,
            "grid_auto_rows": null,
            "grid_column": null,
            "grid_gap": null,
            "grid_row": null,
            "grid_template_areas": null,
            "grid_template_columns": null,
            "grid_template_rows": null,
            "height": null,
            "justify_content": null,
            "justify_items": null,
            "left": null,
            "margin": null,
            "max_height": null,
            "max_width": null,
            "min_height": null,
            "min_width": null,
            "object_fit": null,
            "object_position": null,
            "order": null,
            "overflow": null,
            "overflow_x": null,
            "overflow_y": null,
            "padding": null,
            "right": null,
            "top": null,
            "visibility": null,
            "width": null
          }
        },
        "8dab2f5704d04228a0d3cedd828df0e4": {
          "model_module": "@jupyter-widgets/base",
          "model_name": "LayoutModel",
          "model_module_version": "1.2.0",
          "state": {
            "_model_module": "@jupyter-widgets/base",
            "_model_module_version": "1.2.0",
            "_model_name": "LayoutModel",
            "_view_count": null,
            "_view_module": "@jupyter-widgets/base",
            "_view_module_version": "1.2.0",
            "_view_name": "LayoutView",
            "align_content": null,
            "align_items": null,
            "align_self": null,
            "border": null,
            "bottom": null,
            "display": null,
            "flex": null,
            "flex_flow": null,
            "grid_area": null,
            "grid_auto_columns": null,
            "grid_auto_flow": null,
            "grid_auto_rows": null,
            "grid_column": null,
            "grid_gap": null,
            "grid_row": null,
            "grid_template_areas": null,
            "grid_template_columns": null,
            "grid_template_rows": null,
            "height": null,
            "justify_content": null,
            "justify_items": null,
            "left": null,
            "margin": null,
            "max_height": null,
            "max_width": null,
            "min_height": null,
            "min_width": null,
            "object_fit": null,
            "object_position": null,
            "order": null,
            "overflow": null,
            "overflow_x": null,
            "overflow_y": null,
            "padding": null,
            "right": null,
            "top": null,
            "visibility": null,
            "width": null
          }
        },
        "c4eaa87275dc4478829ecdcef25a402b": {
          "model_module": "@jupyter-widgets/controls",
          "model_name": "DescriptionStyleModel",
          "model_module_version": "1.5.0",
          "state": {
            "_model_module": "@jupyter-widgets/controls",
            "_model_module_version": "1.5.0",
            "_model_name": "DescriptionStyleModel",
            "_view_count": null,
            "_view_module": "@jupyter-widgets/base",
            "_view_module_version": "1.2.0",
            "_view_name": "StyleView",
            "description_width": ""
          }
        },
        "486ab0d6ea0441298584f270cba383f2": {
          "model_module": "@jupyter-widgets/base",
          "model_name": "LayoutModel",
          "model_module_version": "1.2.0",
          "state": {
            "_model_module": "@jupyter-widgets/base",
            "_model_module_version": "1.2.0",
            "_model_name": "LayoutModel",
            "_view_count": null,
            "_view_module": "@jupyter-widgets/base",
            "_view_module_version": "1.2.0",
            "_view_name": "LayoutView",
            "align_content": null,
            "align_items": null,
            "align_self": null,
            "border": null,
            "bottom": null,
            "display": null,
            "flex": null,
            "flex_flow": null,
            "grid_area": null,
            "grid_auto_columns": null,
            "grid_auto_flow": null,
            "grid_auto_rows": null,
            "grid_column": null,
            "grid_gap": null,
            "grid_row": null,
            "grid_template_areas": null,
            "grid_template_columns": null,
            "grid_template_rows": null,
            "height": null,
            "justify_content": null,
            "justify_items": null,
            "left": null,
            "margin": null,
            "max_height": null,
            "max_width": null,
            "min_height": null,
            "min_width": null,
            "object_fit": null,
            "object_position": null,
            "order": null,
            "overflow": null,
            "overflow_x": null,
            "overflow_y": null,
            "padding": null,
            "right": null,
            "top": null,
            "visibility": null,
            "width": null
          }
        },
        "d43adf961cbb44e8ad6fd1d35c37d38e": {
          "model_module": "@jupyter-widgets/controls",
          "model_name": "ProgressStyleModel",
          "model_module_version": "1.5.0",
          "state": {
            "_model_module": "@jupyter-widgets/controls",
            "_model_module_version": "1.5.0",
            "_model_name": "ProgressStyleModel",
            "_view_count": null,
            "_view_module": "@jupyter-widgets/base",
            "_view_module_version": "1.2.0",
            "_view_name": "StyleView",
            "bar_color": null,
            "description_width": ""
          }
        },
        "270eddee7e744a3d8260c4b09efe67d5": {
          "model_module": "@jupyter-widgets/base",
          "model_name": "LayoutModel",
          "model_module_version": "1.2.0",
          "state": {
            "_model_module": "@jupyter-widgets/base",
            "_model_module_version": "1.2.0",
            "_model_name": "LayoutModel",
            "_view_count": null,
            "_view_module": "@jupyter-widgets/base",
            "_view_module_version": "1.2.0",
            "_view_name": "LayoutView",
            "align_content": null,
            "align_items": null,
            "align_self": null,
            "border": null,
            "bottom": null,
            "display": null,
            "flex": null,
            "flex_flow": null,
            "grid_area": null,
            "grid_auto_columns": null,
            "grid_auto_flow": null,
            "grid_auto_rows": null,
            "grid_column": null,
            "grid_gap": null,
            "grid_row": null,
            "grid_template_areas": null,
            "grid_template_columns": null,
            "grid_template_rows": null,
            "height": null,
            "justify_content": null,
            "justify_items": null,
            "left": null,
            "margin": null,
            "max_height": null,
            "max_width": null,
            "min_height": null,
            "min_width": null,
            "object_fit": null,
            "object_position": null,
            "order": null,
            "overflow": null,
            "overflow_x": null,
            "overflow_y": null,
            "padding": null,
            "right": null,
            "top": null,
            "visibility": null,
            "width": null
          }
        },
        "eb38aaf817d9497488aaa897b724982a": {
          "model_module": "@jupyter-widgets/controls",
          "model_name": "DescriptionStyleModel",
          "model_module_version": "1.5.0",
          "state": {
            "_model_module": "@jupyter-widgets/controls",
            "_model_module_version": "1.5.0",
            "_model_name": "DescriptionStyleModel",
            "_view_count": null,
            "_view_module": "@jupyter-widgets/base",
            "_view_module_version": "1.2.0",
            "_view_name": "StyleView",
            "description_width": ""
          }
        },
        "6270438e6627494d9e9e2dbea314e6b2": {
          "model_module": "@jupyter-widgets/controls",
          "model_name": "HBoxModel",
          "model_module_version": "1.5.0",
          "state": {
            "_dom_classes": [],
            "_model_module": "@jupyter-widgets/controls",
            "_model_module_version": "1.5.0",
            "_model_name": "HBoxModel",
            "_view_count": null,
            "_view_module": "@jupyter-widgets/controls",
            "_view_module_version": "1.5.0",
            "_view_name": "HBoxView",
            "box_style": "",
            "children": [
              "IPY_MODEL_f8824746644f4f66b5d36dacaf938175",
              "IPY_MODEL_2a090189ca934f6bbd984778783073fb",
              "IPY_MODEL_ad5276433a054ff7b26604dd12fd7f1a"
            ],
            "layout": "IPY_MODEL_681d22f4462a417784de916c6b6f3fc2"
          }
        },
        "f8824746644f4f66b5d36dacaf938175": {
          "model_module": "@jupyter-widgets/controls",
          "model_name": "HTMLModel",
          "model_module_version": "1.5.0",
          "state": {
            "_dom_classes": [],
            "_model_module": "@jupyter-widgets/controls",
            "_model_module_version": "1.5.0",
            "_model_name": "HTMLModel",
            "_view_count": null,
            "_view_module": "@jupyter-widgets/controls",
            "_view_module_version": "1.5.0",
            "_view_name": "HTMLView",
            "description": "",
            "description_tooltip": null,
            "layout": "IPY_MODEL_0c346b2013f0420abba9891249f6c137",
            "placeholder": "​",
            "style": "IPY_MODEL_32e64eb8d00d4d7f995cc335c7689851",
            "value": "100%"
          }
        },
        "2a090189ca934f6bbd984778783073fb": {
          "model_module": "@jupyter-widgets/controls",
          "model_name": "FloatProgressModel",
          "model_module_version": "1.5.0",
          "state": {
            "_dom_classes": [],
            "_model_module": "@jupyter-widgets/controls",
            "_model_module_version": "1.5.0",
            "_model_name": "FloatProgressModel",
            "_view_count": null,
            "_view_module": "@jupyter-widgets/controls",
            "_view_module_version": "1.5.0",
            "_view_name": "ProgressView",
            "bar_style": "success",
            "description": "",
            "description_tooltip": null,
            "layout": "IPY_MODEL_ff158b6dd2df4092b6798b19d0d64318",
            "max": 4245,
            "min": 0,
            "orientation": "horizontal",
            "style": "IPY_MODEL_5349e3d0336f40bc85fbe18e9a01bb41",
            "value": 4245
          }
        },
        "ad5276433a054ff7b26604dd12fd7f1a": {
          "model_module": "@jupyter-widgets/controls",
          "model_name": "HTMLModel",
          "model_module_version": "1.5.0",
          "state": {
            "_dom_classes": [],
            "_model_module": "@jupyter-widgets/controls",
            "_model_module_version": "1.5.0",
            "_model_name": "HTMLModel",
            "_view_count": null,
            "_view_module": "@jupyter-widgets/controls",
            "_view_module_version": "1.5.0",
            "_view_name": "HTMLView",
            "description": "",
            "description_tooltip": null,
            "layout": "IPY_MODEL_9af39a00178e423ab0ff927902d3f30c",
            "placeholder": "​",
            "style": "IPY_MODEL_b2861955ceb6411e9fb4ef32e9f5151b",
            "value": " 4245/4245 [00:04&lt;00:00, 1147.26it/s]"
          }
        },
        "681d22f4462a417784de916c6b6f3fc2": {
          "model_module": "@jupyter-widgets/base",
          "model_name": "LayoutModel",
          "model_module_version": "1.2.0",
          "state": {
            "_model_module": "@jupyter-widgets/base",
            "_model_module_version": "1.2.0",
            "_model_name": "LayoutModel",
            "_view_count": null,
            "_view_module": "@jupyter-widgets/base",
            "_view_module_version": "1.2.0",
            "_view_name": "LayoutView",
            "align_content": null,
            "align_items": null,
            "align_self": null,
            "border": null,
            "bottom": null,
            "display": null,
            "flex": null,
            "flex_flow": null,
            "grid_area": null,
            "grid_auto_columns": null,
            "grid_auto_flow": null,
            "grid_auto_rows": null,
            "grid_column": null,
            "grid_gap": null,
            "grid_row": null,
            "grid_template_areas": null,
            "grid_template_columns": null,
            "grid_template_rows": null,
            "height": null,
            "justify_content": null,
            "justify_items": null,
            "left": null,
            "margin": null,
            "max_height": null,
            "max_width": null,
            "min_height": null,
            "min_width": null,
            "object_fit": null,
            "object_position": null,
            "order": null,
            "overflow": null,
            "overflow_x": null,
            "overflow_y": null,
            "padding": null,
            "right": null,
            "top": null,
            "visibility": null,
            "width": null
          }
        },
        "0c346b2013f0420abba9891249f6c137": {
          "model_module": "@jupyter-widgets/base",
          "model_name": "LayoutModel",
          "model_module_version": "1.2.0",
          "state": {
            "_model_module": "@jupyter-widgets/base",
            "_model_module_version": "1.2.0",
            "_model_name": "LayoutModel",
            "_view_count": null,
            "_view_module": "@jupyter-widgets/base",
            "_view_module_version": "1.2.0",
            "_view_name": "LayoutView",
            "align_content": null,
            "align_items": null,
            "align_self": null,
            "border": null,
            "bottom": null,
            "display": null,
            "flex": null,
            "flex_flow": null,
            "grid_area": null,
            "grid_auto_columns": null,
            "grid_auto_flow": null,
            "grid_auto_rows": null,
            "grid_column": null,
            "grid_gap": null,
            "grid_row": null,
            "grid_template_areas": null,
            "grid_template_columns": null,
            "grid_template_rows": null,
            "height": null,
            "justify_content": null,
            "justify_items": null,
            "left": null,
            "margin": null,
            "max_height": null,
            "max_width": null,
            "min_height": null,
            "min_width": null,
            "object_fit": null,
            "object_position": null,
            "order": null,
            "overflow": null,
            "overflow_x": null,
            "overflow_y": null,
            "padding": null,
            "right": null,
            "top": null,
            "visibility": null,
            "width": null
          }
        },
        "32e64eb8d00d4d7f995cc335c7689851": {
          "model_module": "@jupyter-widgets/controls",
          "model_name": "DescriptionStyleModel",
          "model_module_version": "1.5.0",
          "state": {
            "_model_module": "@jupyter-widgets/controls",
            "_model_module_version": "1.5.0",
            "_model_name": "DescriptionStyleModel",
            "_view_count": null,
            "_view_module": "@jupyter-widgets/base",
            "_view_module_version": "1.2.0",
            "_view_name": "StyleView",
            "description_width": ""
          }
        },
        "ff158b6dd2df4092b6798b19d0d64318": {
          "model_module": "@jupyter-widgets/base",
          "model_name": "LayoutModel",
          "model_module_version": "1.2.0",
          "state": {
            "_model_module": "@jupyter-widgets/base",
            "_model_module_version": "1.2.0",
            "_model_name": "LayoutModel",
            "_view_count": null,
            "_view_module": "@jupyter-widgets/base",
            "_view_module_version": "1.2.0",
            "_view_name": "LayoutView",
            "align_content": null,
            "align_items": null,
            "align_self": null,
            "border": null,
            "bottom": null,
            "display": null,
            "flex": null,
            "flex_flow": null,
            "grid_area": null,
            "grid_auto_columns": null,
            "grid_auto_flow": null,
            "grid_auto_rows": null,
            "grid_column": null,
            "grid_gap": null,
            "grid_row": null,
            "grid_template_areas": null,
            "grid_template_columns": null,
            "grid_template_rows": null,
            "height": null,
            "justify_content": null,
            "justify_items": null,
            "left": null,
            "margin": null,
            "max_height": null,
            "max_width": null,
            "min_height": null,
            "min_width": null,
            "object_fit": null,
            "object_position": null,
            "order": null,
            "overflow": null,
            "overflow_x": null,
            "overflow_y": null,
            "padding": null,
            "right": null,
            "top": null,
            "visibility": null,
            "width": null
          }
        },
        "5349e3d0336f40bc85fbe18e9a01bb41": {
          "model_module": "@jupyter-widgets/controls",
          "model_name": "ProgressStyleModel",
          "model_module_version": "1.5.0",
          "state": {
            "_model_module": "@jupyter-widgets/controls",
            "_model_module_version": "1.5.0",
            "_model_name": "ProgressStyleModel",
            "_view_count": null,
            "_view_module": "@jupyter-widgets/base",
            "_view_module_version": "1.2.0",
            "_view_name": "StyleView",
            "bar_color": null,
            "description_width": ""
          }
        },
        "9af39a00178e423ab0ff927902d3f30c": {
          "model_module": "@jupyter-widgets/base",
          "model_name": "LayoutModel",
          "model_module_version": "1.2.0",
          "state": {
            "_model_module": "@jupyter-widgets/base",
            "_model_module_version": "1.2.0",
            "_model_name": "LayoutModel",
            "_view_count": null,
            "_view_module": "@jupyter-widgets/base",
            "_view_module_version": "1.2.0",
            "_view_name": "LayoutView",
            "align_content": null,
            "align_items": null,
            "align_self": null,
            "border": null,
            "bottom": null,
            "display": null,
            "flex": null,
            "flex_flow": null,
            "grid_area": null,
            "grid_auto_columns": null,
            "grid_auto_flow": null,
            "grid_auto_rows": null,
            "grid_column": null,
            "grid_gap": null,
            "grid_row": null,
            "grid_template_areas": null,
            "grid_template_columns": null,
            "grid_template_rows": null,
            "height": null,
            "justify_content": null,
            "justify_items": null,
            "left": null,
            "margin": null,
            "max_height": null,
            "max_width": null,
            "min_height": null,
            "min_width": null,
            "object_fit": null,
            "object_position": null,
            "order": null,
            "overflow": null,
            "overflow_x": null,
            "overflow_y": null,
            "padding": null,
            "right": null,
            "top": null,
            "visibility": null,
            "width": null
          }
        },
        "b2861955ceb6411e9fb4ef32e9f5151b": {
          "model_module": "@jupyter-widgets/controls",
          "model_name": "DescriptionStyleModel",
          "model_module_version": "1.5.0",
          "state": {
            "_model_module": "@jupyter-widgets/controls",
            "_model_module_version": "1.5.0",
            "_model_name": "DescriptionStyleModel",
            "_view_count": null,
            "_view_module": "@jupyter-widgets/base",
            "_view_module_version": "1.2.0",
            "_view_name": "StyleView",
            "description_width": ""
          }
        },
        "d13a5f9862774ac0b788ee707a3479cc": {
          "model_module": "@jupyter-widgets/controls",
          "model_name": "HBoxModel",
          "model_module_version": "1.5.0",
          "state": {
            "_dom_classes": [],
            "_model_module": "@jupyter-widgets/controls",
            "_model_module_version": "1.5.0",
            "_model_name": "HBoxModel",
            "_view_count": null,
            "_view_module": "@jupyter-widgets/controls",
            "_view_module_version": "1.5.0",
            "_view_name": "HBoxView",
            "box_style": "",
            "children": [
              "IPY_MODEL_6a399c812db54d6c9569e658d372a8e6",
              "IPY_MODEL_42e54c747dea4903b5661fd5efadc20a",
              "IPY_MODEL_70bd484d5aab4e799a6cb526ad26e83c"
            ],
            "layout": "IPY_MODEL_634024a3b87c4a9c84437c6ea907b0e4"
          }
        },
        "6a399c812db54d6c9569e658d372a8e6": {
          "model_module": "@jupyter-widgets/controls",
          "model_name": "HTMLModel",
          "model_module_version": "1.5.0",
          "state": {
            "_dom_classes": [],
            "_model_module": "@jupyter-widgets/controls",
            "_model_module_version": "1.5.0",
            "_model_name": "HTMLModel",
            "_view_count": null,
            "_view_module": "@jupyter-widgets/controls",
            "_view_module_version": "1.5.0",
            "_view_name": "HTMLView",
            "description": "",
            "description_tooltip": null,
            "layout": "IPY_MODEL_983e5b7a61be4052bd329e90c948a4bb",
            "placeholder": "​",
            "style": "IPY_MODEL_4c60ca9d59174a2aa169ccab084f3b44",
            "value": "100%"
          }
        },
        "42e54c747dea4903b5661fd5efadc20a": {
          "model_module": "@jupyter-widgets/controls",
          "model_name": "FloatProgressModel",
          "model_module_version": "1.5.0",
          "state": {
            "_dom_classes": [],
            "_model_module": "@jupyter-widgets/controls",
            "_model_module_version": "1.5.0",
            "_model_name": "FloatProgressModel",
            "_view_count": null,
            "_view_module": "@jupyter-widgets/controls",
            "_view_module_version": "1.5.0",
            "_view_name": "ProgressView",
            "bar_style": "success",
            "description": "",
            "description_tooltip": null,
            "layout": "IPY_MODEL_a5ab8a4115ff44c698d8d71851105b6f",
            "max": 56324,
            "min": 0,
            "orientation": "horizontal",
            "style": "IPY_MODEL_563bc5fb9d224787a34cc00b26240d17",
            "value": 56324
          }
        },
        "70bd484d5aab4e799a6cb526ad26e83c": {
          "model_module": "@jupyter-widgets/controls",
          "model_name": "HTMLModel",
          "model_module_version": "1.5.0",
          "state": {
            "_dom_classes": [],
            "_model_module": "@jupyter-widgets/controls",
            "_model_module_version": "1.5.0",
            "_model_name": "HTMLModel",
            "_view_count": null,
            "_view_module": "@jupyter-widgets/controls",
            "_view_module_version": "1.5.0",
            "_view_name": "HTMLView",
            "description": "",
            "description_tooltip": null,
            "layout": "IPY_MODEL_df19e34b552d4abe968e265adffa16ec",
            "placeholder": "​",
            "style": "IPY_MODEL_6c995eac896641fabbe9ba1889145472",
            "value": " 56324/56324 [00:04&lt;00:00, 17394.43it/s]"
          }
        },
        "634024a3b87c4a9c84437c6ea907b0e4": {
          "model_module": "@jupyter-widgets/base",
          "model_name": "LayoutModel",
          "model_module_version": "1.2.0",
          "state": {
            "_model_module": "@jupyter-widgets/base",
            "_model_module_version": "1.2.0",
            "_model_name": "LayoutModel",
            "_view_count": null,
            "_view_module": "@jupyter-widgets/base",
            "_view_module_version": "1.2.0",
            "_view_name": "LayoutView",
            "align_content": null,
            "align_items": null,
            "align_self": null,
            "border": null,
            "bottom": null,
            "display": null,
            "flex": null,
            "flex_flow": null,
            "grid_area": null,
            "grid_auto_columns": null,
            "grid_auto_flow": null,
            "grid_auto_rows": null,
            "grid_column": null,
            "grid_gap": null,
            "grid_row": null,
            "grid_template_areas": null,
            "grid_template_columns": null,
            "grid_template_rows": null,
            "height": null,
            "justify_content": null,
            "justify_items": null,
            "left": null,
            "margin": null,
            "max_height": null,
            "max_width": null,
            "min_height": null,
            "min_width": null,
            "object_fit": null,
            "object_position": null,
            "order": null,
            "overflow": null,
            "overflow_x": null,
            "overflow_y": null,
            "padding": null,
            "right": null,
            "top": null,
            "visibility": null,
            "width": null
          }
        },
        "983e5b7a61be4052bd329e90c948a4bb": {
          "model_module": "@jupyter-widgets/base",
          "model_name": "LayoutModel",
          "model_module_version": "1.2.0",
          "state": {
            "_model_module": "@jupyter-widgets/base",
            "_model_module_version": "1.2.0",
            "_model_name": "LayoutModel",
            "_view_count": null,
            "_view_module": "@jupyter-widgets/base",
            "_view_module_version": "1.2.0",
            "_view_name": "LayoutView",
            "align_content": null,
            "align_items": null,
            "align_self": null,
            "border": null,
            "bottom": null,
            "display": null,
            "flex": null,
            "flex_flow": null,
            "grid_area": null,
            "grid_auto_columns": null,
            "grid_auto_flow": null,
            "grid_auto_rows": null,
            "grid_column": null,
            "grid_gap": null,
            "grid_row": null,
            "grid_template_areas": null,
            "grid_template_columns": null,
            "grid_template_rows": null,
            "height": null,
            "justify_content": null,
            "justify_items": null,
            "left": null,
            "margin": null,
            "max_height": null,
            "max_width": null,
            "min_height": null,
            "min_width": null,
            "object_fit": null,
            "object_position": null,
            "order": null,
            "overflow": null,
            "overflow_x": null,
            "overflow_y": null,
            "padding": null,
            "right": null,
            "top": null,
            "visibility": null,
            "width": null
          }
        },
        "4c60ca9d59174a2aa169ccab084f3b44": {
          "model_module": "@jupyter-widgets/controls",
          "model_name": "DescriptionStyleModel",
          "model_module_version": "1.5.0",
          "state": {
            "_model_module": "@jupyter-widgets/controls",
            "_model_module_version": "1.5.0",
            "_model_name": "DescriptionStyleModel",
            "_view_count": null,
            "_view_module": "@jupyter-widgets/base",
            "_view_module_version": "1.2.0",
            "_view_name": "StyleView",
            "description_width": ""
          }
        },
        "a5ab8a4115ff44c698d8d71851105b6f": {
          "model_module": "@jupyter-widgets/base",
          "model_name": "LayoutModel",
          "model_module_version": "1.2.0",
          "state": {
            "_model_module": "@jupyter-widgets/base",
            "_model_module_version": "1.2.0",
            "_model_name": "LayoutModel",
            "_view_count": null,
            "_view_module": "@jupyter-widgets/base",
            "_view_module_version": "1.2.0",
            "_view_name": "LayoutView",
            "align_content": null,
            "align_items": null,
            "align_self": null,
            "border": null,
            "bottom": null,
            "display": null,
            "flex": null,
            "flex_flow": null,
            "grid_area": null,
            "grid_auto_columns": null,
            "grid_auto_flow": null,
            "grid_auto_rows": null,
            "grid_column": null,
            "grid_gap": null,
            "grid_row": null,
            "grid_template_areas": null,
            "grid_template_columns": null,
            "grid_template_rows": null,
            "height": null,
            "justify_content": null,
            "justify_items": null,
            "left": null,
            "margin": null,
            "max_height": null,
            "max_width": null,
            "min_height": null,
            "min_width": null,
            "object_fit": null,
            "object_position": null,
            "order": null,
            "overflow": null,
            "overflow_x": null,
            "overflow_y": null,
            "padding": null,
            "right": null,
            "top": null,
            "visibility": null,
            "width": null
          }
        },
        "563bc5fb9d224787a34cc00b26240d17": {
          "model_module": "@jupyter-widgets/controls",
          "model_name": "ProgressStyleModel",
          "model_module_version": "1.5.0",
          "state": {
            "_model_module": "@jupyter-widgets/controls",
            "_model_module_version": "1.5.0",
            "_model_name": "ProgressStyleModel",
            "_view_count": null,
            "_view_module": "@jupyter-widgets/base",
            "_view_module_version": "1.2.0",
            "_view_name": "StyleView",
            "bar_color": null,
            "description_width": ""
          }
        },
        "df19e34b552d4abe968e265adffa16ec": {
          "model_module": "@jupyter-widgets/base",
          "model_name": "LayoutModel",
          "model_module_version": "1.2.0",
          "state": {
            "_model_module": "@jupyter-widgets/base",
            "_model_module_version": "1.2.0",
            "_model_name": "LayoutModel",
            "_view_count": null,
            "_view_module": "@jupyter-widgets/base",
            "_view_module_version": "1.2.0",
            "_view_name": "LayoutView",
            "align_content": null,
            "align_items": null,
            "align_self": null,
            "border": null,
            "bottom": null,
            "display": null,
            "flex": null,
            "flex_flow": null,
            "grid_area": null,
            "grid_auto_columns": null,
            "grid_auto_flow": null,
            "grid_auto_rows": null,
            "grid_column": null,
            "grid_gap": null,
            "grid_row": null,
            "grid_template_areas": null,
            "grid_template_columns": null,
            "grid_template_rows": null,
            "height": null,
            "justify_content": null,
            "justify_items": null,
            "left": null,
            "margin": null,
            "max_height": null,
            "max_width": null,
            "min_height": null,
            "min_width": null,
            "object_fit": null,
            "object_position": null,
            "order": null,
            "overflow": null,
            "overflow_x": null,
            "overflow_y": null,
            "padding": null,
            "right": null,
            "top": null,
            "visibility": null,
            "width": null
          }
        },
        "6c995eac896641fabbe9ba1889145472": {
          "model_module": "@jupyter-widgets/controls",
          "model_name": "DescriptionStyleModel",
          "model_module_version": "1.5.0",
          "state": {
            "_model_module": "@jupyter-widgets/controls",
            "_model_module_version": "1.5.0",
            "_model_name": "DescriptionStyleModel",
            "_view_count": null,
            "_view_module": "@jupyter-widgets/base",
            "_view_module_version": "1.2.0",
            "_view_name": "StyleView",
            "description_width": ""
          }
        },
        "82dfdf78b05c4ed28c677b9e19fa5c73": {
          "model_module": "@jupyter-widgets/controls",
          "model_name": "HBoxModel",
          "model_module_version": "1.5.0",
          "state": {
            "_dom_classes": [],
            "_model_module": "@jupyter-widgets/controls",
            "_model_module_version": "1.5.0",
            "_model_name": "HBoxModel",
            "_view_count": null,
            "_view_module": "@jupyter-widgets/controls",
            "_view_module_version": "1.5.0",
            "_view_name": "HBoxView",
            "box_style": "",
            "children": [
              "IPY_MODEL_a5adea2fe7884028baad8782cd459676",
              "IPY_MODEL_85a78958d55b4eaa9ff9125b9768ee51",
              "IPY_MODEL_332c8d70b6aa4f269c0fbe9c6270757f"
            ],
            "layout": "IPY_MODEL_db725639f258495ebd54a8006c2d3959"
          }
        },
        "a5adea2fe7884028baad8782cd459676": {
          "model_module": "@jupyter-widgets/controls",
          "model_name": "HTMLModel",
          "model_module_version": "1.5.0",
          "state": {
            "_dom_classes": [],
            "_model_module": "@jupyter-widgets/controls",
            "_model_module_version": "1.5.0",
            "_model_name": "HTMLModel",
            "_view_count": null,
            "_view_module": "@jupyter-widgets/controls",
            "_view_module_version": "1.5.0",
            "_view_name": "HTMLView",
            "description": "",
            "description_tooltip": null,
            "layout": "IPY_MODEL_2183980bc34c489cab994dcdcb3e408d",
            "placeholder": "​",
            "style": "IPY_MODEL_a2e3dbefe0a048899dd51a90ee549341",
            "value": "100%"
          }
        },
        "85a78958d55b4eaa9ff9125b9768ee51": {
          "model_module": "@jupyter-widgets/controls",
          "model_name": "FloatProgressModel",
          "model_module_version": "1.5.0",
          "state": {
            "_dom_classes": [],
            "_model_module": "@jupyter-widgets/controls",
            "_model_module_version": "1.5.0",
            "_model_name": "FloatProgressModel",
            "_view_count": null,
            "_view_module": "@jupyter-widgets/controls",
            "_view_module_version": "1.5.0",
            "_view_name": "ProgressView",
            "bar_style": "success",
            "description": "",
            "description_tooltip": null,
            "layout": "IPY_MODEL_41faf0e9ce4141eeb4fb2e57d40e8527",
            "max": 56324,
            "min": 0,
            "orientation": "horizontal",
            "style": "IPY_MODEL_c84e91c9549d42be8d9ae17e5cb4aaab",
            "value": 56324
          }
        },
        "332c8d70b6aa4f269c0fbe9c6270757f": {
          "model_module": "@jupyter-widgets/controls",
          "model_name": "HTMLModel",
          "model_module_version": "1.5.0",
          "state": {
            "_dom_classes": [],
            "_model_module": "@jupyter-widgets/controls",
            "_model_module_version": "1.5.0",
            "_model_name": "HTMLModel",
            "_view_count": null,
            "_view_module": "@jupyter-widgets/controls",
            "_view_module_version": "1.5.0",
            "_view_name": "HTMLView",
            "description": "",
            "description_tooltip": null,
            "layout": "IPY_MODEL_d4a433ca7082431faff3209a903fa9e0",
            "placeholder": "​",
            "style": "IPY_MODEL_0efcc6fe97724f059aa7d5aa1ceca7ef",
            "value": " 56324/56324 [00:06&lt;00:00, 8569.70it/s]"
          }
        },
        "db725639f258495ebd54a8006c2d3959": {
          "model_module": "@jupyter-widgets/base",
          "model_name": "LayoutModel",
          "model_module_version": "1.2.0",
          "state": {
            "_model_module": "@jupyter-widgets/base",
            "_model_module_version": "1.2.0",
            "_model_name": "LayoutModel",
            "_view_count": null,
            "_view_module": "@jupyter-widgets/base",
            "_view_module_version": "1.2.0",
            "_view_name": "LayoutView",
            "align_content": null,
            "align_items": null,
            "align_self": null,
            "border": null,
            "bottom": null,
            "display": null,
            "flex": null,
            "flex_flow": null,
            "grid_area": null,
            "grid_auto_columns": null,
            "grid_auto_flow": null,
            "grid_auto_rows": null,
            "grid_column": null,
            "grid_gap": null,
            "grid_row": null,
            "grid_template_areas": null,
            "grid_template_columns": null,
            "grid_template_rows": null,
            "height": null,
            "justify_content": null,
            "justify_items": null,
            "left": null,
            "margin": null,
            "max_height": null,
            "max_width": null,
            "min_height": null,
            "min_width": null,
            "object_fit": null,
            "object_position": null,
            "order": null,
            "overflow": null,
            "overflow_x": null,
            "overflow_y": null,
            "padding": null,
            "right": null,
            "top": null,
            "visibility": null,
            "width": null
          }
        },
        "2183980bc34c489cab994dcdcb3e408d": {
          "model_module": "@jupyter-widgets/base",
          "model_name": "LayoutModel",
          "model_module_version": "1.2.0",
          "state": {
            "_model_module": "@jupyter-widgets/base",
            "_model_module_version": "1.2.0",
            "_model_name": "LayoutModel",
            "_view_count": null,
            "_view_module": "@jupyter-widgets/base",
            "_view_module_version": "1.2.0",
            "_view_name": "LayoutView",
            "align_content": null,
            "align_items": null,
            "align_self": null,
            "border": null,
            "bottom": null,
            "display": null,
            "flex": null,
            "flex_flow": null,
            "grid_area": null,
            "grid_auto_columns": null,
            "grid_auto_flow": null,
            "grid_auto_rows": null,
            "grid_column": null,
            "grid_gap": null,
            "grid_row": null,
            "grid_template_areas": null,
            "grid_template_columns": null,
            "grid_template_rows": null,
            "height": null,
            "justify_content": null,
            "justify_items": null,
            "left": null,
            "margin": null,
            "max_height": null,
            "max_width": null,
            "min_height": null,
            "min_width": null,
            "object_fit": null,
            "object_position": null,
            "order": null,
            "overflow": null,
            "overflow_x": null,
            "overflow_y": null,
            "padding": null,
            "right": null,
            "top": null,
            "visibility": null,
            "width": null
          }
        },
        "a2e3dbefe0a048899dd51a90ee549341": {
          "model_module": "@jupyter-widgets/controls",
          "model_name": "DescriptionStyleModel",
          "model_module_version": "1.5.0",
          "state": {
            "_model_module": "@jupyter-widgets/controls",
            "_model_module_version": "1.5.0",
            "_model_name": "DescriptionStyleModel",
            "_view_count": null,
            "_view_module": "@jupyter-widgets/base",
            "_view_module_version": "1.2.0",
            "_view_name": "StyleView",
            "description_width": ""
          }
        },
        "41faf0e9ce4141eeb4fb2e57d40e8527": {
          "model_module": "@jupyter-widgets/base",
          "model_name": "LayoutModel",
          "model_module_version": "1.2.0",
          "state": {
            "_model_module": "@jupyter-widgets/base",
            "_model_module_version": "1.2.0",
            "_model_name": "LayoutModel",
            "_view_count": null,
            "_view_module": "@jupyter-widgets/base",
            "_view_module_version": "1.2.0",
            "_view_name": "LayoutView",
            "align_content": null,
            "align_items": null,
            "align_self": null,
            "border": null,
            "bottom": null,
            "display": null,
            "flex": null,
            "flex_flow": null,
            "grid_area": null,
            "grid_auto_columns": null,
            "grid_auto_flow": null,
            "grid_auto_rows": null,
            "grid_column": null,
            "grid_gap": null,
            "grid_row": null,
            "grid_template_areas": null,
            "grid_template_columns": null,
            "grid_template_rows": null,
            "height": null,
            "justify_content": null,
            "justify_items": null,
            "left": null,
            "margin": null,
            "max_height": null,
            "max_width": null,
            "min_height": null,
            "min_width": null,
            "object_fit": null,
            "object_position": null,
            "order": null,
            "overflow": null,
            "overflow_x": null,
            "overflow_y": null,
            "padding": null,
            "right": null,
            "top": null,
            "visibility": null,
            "width": null
          }
        },
        "c84e91c9549d42be8d9ae17e5cb4aaab": {
          "model_module": "@jupyter-widgets/controls",
          "model_name": "ProgressStyleModel",
          "model_module_version": "1.5.0",
          "state": {
            "_model_module": "@jupyter-widgets/controls",
            "_model_module_version": "1.5.0",
            "_model_name": "ProgressStyleModel",
            "_view_count": null,
            "_view_module": "@jupyter-widgets/base",
            "_view_module_version": "1.2.0",
            "_view_name": "StyleView",
            "bar_color": null,
            "description_width": ""
          }
        },
        "d4a433ca7082431faff3209a903fa9e0": {
          "model_module": "@jupyter-widgets/base",
          "model_name": "LayoutModel",
          "model_module_version": "1.2.0",
          "state": {
            "_model_module": "@jupyter-widgets/base",
            "_model_module_version": "1.2.0",
            "_model_name": "LayoutModel",
            "_view_count": null,
            "_view_module": "@jupyter-widgets/base",
            "_view_module_version": "1.2.0",
            "_view_name": "LayoutView",
            "align_content": null,
            "align_items": null,
            "align_self": null,
            "border": null,
            "bottom": null,
            "display": null,
            "flex": null,
            "flex_flow": null,
            "grid_area": null,
            "grid_auto_columns": null,
            "grid_auto_flow": null,
            "grid_auto_rows": null,
            "grid_column": null,
            "grid_gap": null,
            "grid_row": null,
            "grid_template_areas": null,
            "grid_template_columns": null,
            "grid_template_rows": null,
            "height": null,
            "justify_content": null,
            "justify_items": null,
            "left": null,
            "margin": null,
            "max_height": null,
            "max_width": null,
            "min_height": null,
            "min_width": null,
            "object_fit": null,
            "object_position": null,
            "order": null,
            "overflow": null,
            "overflow_x": null,
            "overflow_y": null,
            "padding": null,
            "right": null,
            "top": null,
            "visibility": null,
            "width": null
          }
        },
        "0efcc6fe97724f059aa7d5aa1ceca7ef": {
          "model_module": "@jupyter-widgets/controls",
          "model_name": "DescriptionStyleModel",
          "model_module_version": "1.5.0",
          "state": {
            "_model_module": "@jupyter-widgets/controls",
            "_model_module_version": "1.5.0",
            "_model_name": "DescriptionStyleModel",
            "_view_count": null,
            "_view_module": "@jupyter-widgets/base",
            "_view_module_version": "1.2.0",
            "_view_name": "StyleView",
            "description_width": ""
          }
        },
        "8d5ae4f810704b36bd5811a899d7b911": {
          "model_module": "@jupyter-widgets/controls",
          "model_name": "HBoxModel",
          "model_module_version": "1.5.0",
          "state": {
            "_dom_classes": [],
            "_model_module": "@jupyter-widgets/controls",
            "_model_module_version": "1.5.0",
            "_model_name": "HBoxModel",
            "_view_count": null,
            "_view_module": "@jupyter-widgets/controls",
            "_view_module_version": "1.5.0",
            "_view_name": "HBoxView",
            "box_style": "",
            "children": [
              "IPY_MODEL_84b3a502ed8b4d5db48a08959f10db34",
              "IPY_MODEL_b97764166be94e86942e7e78fbd25821",
              "IPY_MODEL_8ca8892ae60149988eb73345be9fd8f7"
            ],
            "layout": "IPY_MODEL_fd313cdf2eda4ae8a7432aea3ffb4510"
          }
        },
        "84b3a502ed8b4d5db48a08959f10db34": {
          "model_module": "@jupyter-widgets/controls",
          "model_name": "HTMLModel",
          "model_module_version": "1.5.0",
          "state": {
            "_dom_classes": [],
            "_model_module": "@jupyter-widgets/controls",
            "_model_module_version": "1.5.0",
            "_model_name": "HTMLModel",
            "_view_count": null,
            "_view_module": "@jupyter-widgets/controls",
            "_view_module_version": "1.5.0",
            "_view_name": "HTMLView",
            "description": "",
            "description_tooltip": null,
            "layout": "IPY_MODEL_73b73f4c502648b8a8d81dd381f5009b",
            "placeholder": "​",
            "style": "IPY_MODEL_e7dc4b9229814754ac560829a8fd974f",
            "value": "100%"
          }
        },
        "b97764166be94e86942e7e78fbd25821": {
          "model_module": "@jupyter-widgets/controls",
          "model_name": "FloatProgressModel",
          "model_module_version": "1.5.0",
          "state": {
            "_dom_classes": [],
            "_model_module": "@jupyter-widgets/controls",
            "_model_module_version": "1.5.0",
            "_model_name": "FloatProgressModel",
            "_view_count": null,
            "_view_module": "@jupyter-widgets/controls",
            "_view_module_version": "1.5.0",
            "_view_name": "ProgressView",
            "bar_style": "success",
            "description": "",
            "description_tooltip": null,
            "layout": "IPY_MODEL_a456b922903f4e218f49957176e41949",
            "max": 14081,
            "min": 0,
            "orientation": "horizontal",
            "style": "IPY_MODEL_c9cbd2d14afb4839a1bb15f873c69570",
            "value": 14081
          }
        },
        "8ca8892ae60149988eb73345be9fd8f7": {
          "model_module": "@jupyter-widgets/controls",
          "model_name": "HTMLModel",
          "model_module_version": "1.5.0",
          "state": {
            "_dom_classes": [],
            "_model_module": "@jupyter-widgets/controls",
            "_model_module_version": "1.5.0",
            "_model_name": "HTMLModel",
            "_view_count": null,
            "_view_module": "@jupyter-widgets/controls",
            "_view_module_version": "1.5.0",
            "_view_name": "HTMLView",
            "description": "",
            "description_tooltip": null,
            "layout": "IPY_MODEL_c62254c1ea9d4f97b2170a3bddc9e8df",
            "placeholder": "​",
            "style": "IPY_MODEL_f37bd3445a5a4a88bed2954bb86990f6",
            "value": " 14081/14081 [00:00&lt;00:00, 17527.01it/s]"
          }
        },
        "fd313cdf2eda4ae8a7432aea3ffb4510": {
          "model_module": "@jupyter-widgets/base",
          "model_name": "LayoutModel",
          "model_module_version": "1.2.0",
          "state": {
            "_model_module": "@jupyter-widgets/base",
            "_model_module_version": "1.2.0",
            "_model_name": "LayoutModel",
            "_view_count": null,
            "_view_module": "@jupyter-widgets/base",
            "_view_module_version": "1.2.0",
            "_view_name": "LayoutView",
            "align_content": null,
            "align_items": null,
            "align_self": null,
            "border": null,
            "bottom": null,
            "display": null,
            "flex": null,
            "flex_flow": null,
            "grid_area": null,
            "grid_auto_columns": null,
            "grid_auto_flow": null,
            "grid_auto_rows": null,
            "grid_column": null,
            "grid_gap": null,
            "grid_row": null,
            "grid_template_areas": null,
            "grid_template_columns": null,
            "grid_template_rows": null,
            "height": null,
            "justify_content": null,
            "justify_items": null,
            "left": null,
            "margin": null,
            "max_height": null,
            "max_width": null,
            "min_height": null,
            "min_width": null,
            "object_fit": null,
            "object_position": null,
            "order": null,
            "overflow": null,
            "overflow_x": null,
            "overflow_y": null,
            "padding": null,
            "right": null,
            "top": null,
            "visibility": null,
            "width": null
          }
        },
        "73b73f4c502648b8a8d81dd381f5009b": {
          "model_module": "@jupyter-widgets/base",
          "model_name": "LayoutModel",
          "model_module_version": "1.2.0",
          "state": {
            "_model_module": "@jupyter-widgets/base",
            "_model_module_version": "1.2.0",
            "_model_name": "LayoutModel",
            "_view_count": null,
            "_view_module": "@jupyter-widgets/base",
            "_view_module_version": "1.2.0",
            "_view_name": "LayoutView",
            "align_content": null,
            "align_items": null,
            "align_self": null,
            "border": null,
            "bottom": null,
            "display": null,
            "flex": null,
            "flex_flow": null,
            "grid_area": null,
            "grid_auto_columns": null,
            "grid_auto_flow": null,
            "grid_auto_rows": null,
            "grid_column": null,
            "grid_gap": null,
            "grid_row": null,
            "grid_template_areas": null,
            "grid_template_columns": null,
            "grid_template_rows": null,
            "height": null,
            "justify_content": null,
            "justify_items": null,
            "left": null,
            "margin": null,
            "max_height": null,
            "max_width": null,
            "min_height": null,
            "min_width": null,
            "object_fit": null,
            "object_position": null,
            "order": null,
            "overflow": null,
            "overflow_x": null,
            "overflow_y": null,
            "padding": null,
            "right": null,
            "top": null,
            "visibility": null,
            "width": null
          }
        },
        "e7dc4b9229814754ac560829a8fd974f": {
          "model_module": "@jupyter-widgets/controls",
          "model_name": "DescriptionStyleModel",
          "model_module_version": "1.5.0",
          "state": {
            "_model_module": "@jupyter-widgets/controls",
            "_model_module_version": "1.5.0",
            "_model_name": "DescriptionStyleModel",
            "_view_count": null,
            "_view_module": "@jupyter-widgets/base",
            "_view_module_version": "1.2.0",
            "_view_name": "StyleView",
            "description_width": ""
          }
        },
        "a456b922903f4e218f49957176e41949": {
          "model_module": "@jupyter-widgets/base",
          "model_name": "LayoutModel",
          "model_module_version": "1.2.0",
          "state": {
            "_model_module": "@jupyter-widgets/base",
            "_model_module_version": "1.2.0",
            "_model_name": "LayoutModel",
            "_view_count": null,
            "_view_module": "@jupyter-widgets/base",
            "_view_module_version": "1.2.0",
            "_view_name": "LayoutView",
            "align_content": null,
            "align_items": null,
            "align_self": null,
            "border": null,
            "bottom": null,
            "display": null,
            "flex": null,
            "flex_flow": null,
            "grid_area": null,
            "grid_auto_columns": null,
            "grid_auto_flow": null,
            "grid_auto_rows": null,
            "grid_column": null,
            "grid_gap": null,
            "grid_row": null,
            "grid_template_areas": null,
            "grid_template_columns": null,
            "grid_template_rows": null,
            "height": null,
            "justify_content": null,
            "justify_items": null,
            "left": null,
            "margin": null,
            "max_height": null,
            "max_width": null,
            "min_height": null,
            "min_width": null,
            "object_fit": null,
            "object_position": null,
            "order": null,
            "overflow": null,
            "overflow_x": null,
            "overflow_y": null,
            "padding": null,
            "right": null,
            "top": null,
            "visibility": null,
            "width": null
          }
        },
        "c9cbd2d14afb4839a1bb15f873c69570": {
          "model_module": "@jupyter-widgets/controls",
          "model_name": "ProgressStyleModel",
          "model_module_version": "1.5.0",
          "state": {
            "_model_module": "@jupyter-widgets/controls",
            "_model_module_version": "1.5.0",
            "_model_name": "ProgressStyleModel",
            "_view_count": null,
            "_view_module": "@jupyter-widgets/base",
            "_view_module_version": "1.2.0",
            "_view_name": "StyleView",
            "bar_color": null,
            "description_width": ""
          }
        },
        "c62254c1ea9d4f97b2170a3bddc9e8df": {
          "model_module": "@jupyter-widgets/base",
          "model_name": "LayoutModel",
          "model_module_version": "1.2.0",
          "state": {
            "_model_module": "@jupyter-widgets/base",
            "_model_module_version": "1.2.0",
            "_model_name": "LayoutModel",
            "_view_count": null,
            "_view_module": "@jupyter-widgets/base",
            "_view_module_version": "1.2.0",
            "_view_name": "LayoutView",
            "align_content": null,
            "align_items": null,
            "align_self": null,
            "border": null,
            "bottom": null,
            "display": null,
            "flex": null,
            "flex_flow": null,
            "grid_area": null,
            "grid_auto_columns": null,
            "grid_auto_flow": null,
            "grid_auto_rows": null,
            "grid_column": null,
            "grid_gap": null,
            "grid_row": null,
            "grid_template_areas": null,
            "grid_template_columns": null,
            "grid_template_rows": null,
            "height": null,
            "justify_content": null,
            "justify_items": null,
            "left": null,
            "margin": null,
            "max_height": null,
            "max_width": null,
            "min_height": null,
            "min_width": null,
            "object_fit": null,
            "object_position": null,
            "order": null,
            "overflow": null,
            "overflow_x": null,
            "overflow_y": null,
            "padding": null,
            "right": null,
            "top": null,
            "visibility": null,
            "width": null
          }
        },
        "f37bd3445a5a4a88bed2954bb86990f6": {
          "model_module": "@jupyter-widgets/controls",
          "model_name": "DescriptionStyleModel",
          "model_module_version": "1.5.0",
          "state": {
            "_model_module": "@jupyter-widgets/controls",
            "_model_module_version": "1.5.0",
            "_model_name": "DescriptionStyleModel",
            "_view_count": null,
            "_view_module": "@jupyter-widgets/base",
            "_view_module_version": "1.2.0",
            "_view_name": "StyleView",
            "description_width": ""
          }
        },
        "a0feefa1637d445a9fc961fb57113f71": {
          "model_module": "@jupyter-widgets/controls",
          "model_name": "HBoxModel",
          "model_module_version": "1.5.0",
          "state": {
            "_dom_classes": [],
            "_model_module": "@jupyter-widgets/controls",
            "_model_module_version": "1.5.0",
            "_model_name": "HBoxModel",
            "_view_count": null,
            "_view_module": "@jupyter-widgets/controls",
            "_view_module_version": "1.5.0",
            "_view_name": "HBoxView",
            "box_style": "",
            "children": [
              "IPY_MODEL_bf172b84a9f844aaa39d6f57df7016a8",
              "IPY_MODEL_b0ec469a50c74ae7bbdd383844e1b00d",
              "IPY_MODEL_38e59d6cf3234eb5a938329181dfdd49"
            ],
            "layout": "IPY_MODEL_a18e337055e048c99503a541967c9cee"
          }
        },
        "bf172b84a9f844aaa39d6f57df7016a8": {
          "model_module": "@jupyter-widgets/controls",
          "model_name": "HTMLModel",
          "model_module_version": "1.5.0",
          "state": {
            "_dom_classes": [],
            "_model_module": "@jupyter-widgets/controls",
            "_model_module_version": "1.5.0",
            "_model_name": "HTMLModel",
            "_view_count": null,
            "_view_module": "@jupyter-widgets/controls",
            "_view_module_version": "1.5.0",
            "_view_name": "HTMLView",
            "description": "",
            "description_tooltip": null,
            "layout": "IPY_MODEL_08ae8f7aa96544548f0d3f5103f9c1bd",
            "placeholder": "​",
            "style": "IPY_MODEL_32c197cb3f5a4f8694589fe316d69784",
            "value": "100%"
          }
        },
        "b0ec469a50c74ae7bbdd383844e1b00d": {
          "model_module": "@jupyter-widgets/controls",
          "model_name": "FloatProgressModel",
          "model_module_version": "1.5.0",
          "state": {
            "_dom_classes": [],
            "_model_module": "@jupyter-widgets/controls",
            "_model_module_version": "1.5.0",
            "_model_name": "FloatProgressModel",
            "_view_count": null,
            "_view_module": "@jupyter-widgets/controls",
            "_view_module_version": "1.5.0",
            "_view_name": "ProgressView",
            "bar_style": "success",
            "description": "",
            "description_tooltip": null,
            "layout": "IPY_MODEL_53cf5573e4ac46e199bfc050373a81f1",
            "max": 14081,
            "min": 0,
            "orientation": "horizontal",
            "style": "IPY_MODEL_6c997413b0304dd181249b2a5282bb5e",
            "value": 14081
          }
        },
        "38e59d6cf3234eb5a938329181dfdd49": {
          "model_module": "@jupyter-widgets/controls",
          "model_name": "HTMLModel",
          "model_module_version": "1.5.0",
          "state": {
            "_dom_classes": [],
            "_model_module": "@jupyter-widgets/controls",
            "_model_module_version": "1.5.0",
            "_model_name": "HTMLModel",
            "_view_count": null,
            "_view_module": "@jupyter-widgets/controls",
            "_view_module_version": "1.5.0",
            "_view_name": "HTMLView",
            "description": "",
            "description_tooltip": null,
            "layout": "IPY_MODEL_f3c98ca898954e33a4da6249fe0abc11",
            "placeholder": "​",
            "style": "IPY_MODEL_bbfadd252594456eb6e9eec487a71cc0",
            "value": " 14081/14081 [00:01&lt;00:00, 5679.95it/s]"
          }
        },
        "a18e337055e048c99503a541967c9cee": {
          "model_module": "@jupyter-widgets/base",
          "model_name": "LayoutModel",
          "model_module_version": "1.2.0",
          "state": {
            "_model_module": "@jupyter-widgets/base",
            "_model_module_version": "1.2.0",
            "_model_name": "LayoutModel",
            "_view_count": null,
            "_view_module": "@jupyter-widgets/base",
            "_view_module_version": "1.2.0",
            "_view_name": "LayoutView",
            "align_content": null,
            "align_items": null,
            "align_self": null,
            "border": null,
            "bottom": null,
            "display": null,
            "flex": null,
            "flex_flow": null,
            "grid_area": null,
            "grid_auto_columns": null,
            "grid_auto_flow": null,
            "grid_auto_rows": null,
            "grid_column": null,
            "grid_gap": null,
            "grid_row": null,
            "grid_template_areas": null,
            "grid_template_columns": null,
            "grid_template_rows": null,
            "height": null,
            "justify_content": null,
            "justify_items": null,
            "left": null,
            "margin": null,
            "max_height": null,
            "max_width": null,
            "min_height": null,
            "min_width": null,
            "object_fit": null,
            "object_position": null,
            "order": null,
            "overflow": null,
            "overflow_x": null,
            "overflow_y": null,
            "padding": null,
            "right": null,
            "top": null,
            "visibility": null,
            "width": null
          }
        },
        "08ae8f7aa96544548f0d3f5103f9c1bd": {
          "model_module": "@jupyter-widgets/base",
          "model_name": "LayoutModel",
          "model_module_version": "1.2.0",
          "state": {
            "_model_module": "@jupyter-widgets/base",
            "_model_module_version": "1.2.0",
            "_model_name": "LayoutModel",
            "_view_count": null,
            "_view_module": "@jupyter-widgets/base",
            "_view_module_version": "1.2.0",
            "_view_name": "LayoutView",
            "align_content": null,
            "align_items": null,
            "align_self": null,
            "border": null,
            "bottom": null,
            "display": null,
            "flex": null,
            "flex_flow": null,
            "grid_area": null,
            "grid_auto_columns": null,
            "grid_auto_flow": null,
            "grid_auto_rows": null,
            "grid_column": null,
            "grid_gap": null,
            "grid_row": null,
            "grid_template_areas": null,
            "grid_template_columns": null,
            "grid_template_rows": null,
            "height": null,
            "justify_content": null,
            "justify_items": null,
            "left": null,
            "margin": null,
            "max_height": null,
            "max_width": null,
            "min_height": null,
            "min_width": null,
            "object_fit": null,
            "object_position": null,
            "order": null,
            "overflow": null,
            "overflow_x": null,
            "overflow_y": null,
            "padding": null,
            "right": null,
            "top": null,
            "visibility": null,
            "width": null
          }
        },
        "32c197cb3f5a4f8694589fe316d69784": {
          "model_module": "@jupyter-widgets/controls",
          "model_name": "DescriptionStyleModel",
          "model_module_version": "1.5.0",
          "state": {
            "_model_module": "@jupyter-widgets/controls",
            "_model_module_version": "1.5.0",
            "_model_name": "DescriptionStyleModel",
            "_view_count": null,
            "_view_module": "@jupyter-widgets/base",
            "_view_module_version": "1.2.0",
            "_view_name": "StyleView",
            "description_width": ""
          }
        },
        "53cf5573e4ac46e199bfc050373a81f1": {
          "model_module": "@jupyter-widgets/base",
          "model_name": "LayoutModel",
          "model_module_version": "1.2.0",
          "state": {
            "_model_module": "@jupyter-widgets/base",
            "_model_module_version": "1.2.0",
            "_model_name": "LayoutModel",
            "_view_count": null,
            "_view_module": "@jupyter-widgets/base",
            "_view_module_version": "1.2.0",
            "_view_name": "LayoutView",
            "align_content": null,
            "align_items": null,
            "align_self": null,
            "border": null,
            "bottom": null,
            "display": null,
            "flex": null,
            "flex_flow": null,
            "grid_area": null,
            "grid_auto_columns": null,
            "grid_auto_flow": null,
            "grid_auto_rows": null,
            "grid_column": null,
            "grid_gap": null,
            "grid_row": null,
            "grid_template_areas": null,
            "grid_template_columns": null,
            "grid_template_rows": null,
            "height": null,
            "justify_content": null,
            "justify_items": null,
            "left": null,
            "margin": null,
            "max_height": null,
            "max_width": null,
            "min_height": null,
            "min_width": null,
            "object_fit": null,
            "object_position": null,
            "order": null,
            "overflow": null,
            "overflow_x": null,
            "overflow_y": null,
            "padding": null,
            "right": null,
            "top": null,
            "visibility": null,
            "width": null
          }
        },
        "6c997413b0304dd181249b2a5282bb5e": {
          "model_module": "@jupyter-widgets/controls",
          "model_name": "ProgressStyleModel",
          "model_module_version": "1.5.0",
          "state": {
            "_model_module": "@jupyter-widgets/controls",
            "_model_module_version": "1.5.0",
            "_model_name": "ProgressStyleModel",
            "_view_count": null,
            "_view_module": "@jupyter-widgets/base",
            "_view_module_version": "1.2.0",
            "_view_name": "StyleView",
            "bar_color": null,
            "description_width": ""
          }
        },
        "f3c98ca898954e33a4da6249fe0abc11": {
          "model_module": "@jupyter-widgets/base",
          "model_name": "LayoutModel",
          "model_module_version": "1.2.0",
          "state": {
            "_model_module": "@jupyter-widgets/base",
            "_model_module_version": "1.2.0",
            "_model_name": "LayoutModel",
            "_view_count": null,
            "_view_module": "@jupyter-widgets/base",
            "_view_module_version": "1.2.0",
            "_view_name": "LayoutView",
            "align_content": null,
            "align_items": null,
            "align_self": null,
            "border": null,
            "bottom": null,
            "display": null,
            "flex": null,
            "flex_flow": null,
            "grid_area": null,
            "grid_auto_columns": null,
            "grid_auto_flow": null,
            "grid_auto_rows": null,
            "grid_column": null,
            "grid_gap": null,
            "grid_row": null,
            "grid_template_areas": null,
            "grid_template_columns": null,
            "grid_template_rows": null,
            "height": null,
            "justify_content": null,
            "justify_items": null,
            "left": null,
            "margin": null,
            "max_height": null,
            "max_width": null,
            "min_height": null,
            "min_width": null,
            "object_fit": null,
            "object_position": null,
            "order": null,
            "overflow": null,
            "overflow_x": null,
            "overflow_y": null,
            "padding": null,
            "right": null,
            "top": null,
            "visibility": null,
            "width": null
          }
        },
        "bbfadd252594456eb6e9eec487a71cc0": {
          "model_module": "@jupyter-widgets/controls",
          "model_name": "DescriptionStyleModel",
          "model_module_version": "1.5.0",
          "state": {
            "_model_module": "@jupyter-widgets/controls",
            "_model_module_version": "1.5.0",
            "_model_name": "DescriptionStyleModel",
            "_view_count": null,
            "_view_module": "@jupyter-widgets/base",
            "_view_module_version": "1.2.0",
            "_view_name": "StyleView",
            "description_width": ""
          }
        },
        "0cb290d37ed14819a0eefb499c812fa3": {
          "model_module": "@jupyter-widgets/controls",
          "model_name": "HBoxModel",
          "model_module_version": "1.5.0",
          "state": {
            "_dom_classes": [],
            "_model_module": "@jupyter-widgets/controls",
            "_model_module_version": "1.5.0",
            "_model_name": "HBoxModel",
            "_view_count": null,
            "_view_module": "@jupyter-widgets/controls",
            "_view_module_version": "1.5.0",
            "_view_name": "HBoxView",
            "box_style": "",
            "children": [
              "IPY_MODEL_ad504a57a2d441d196052ce1216094ec",
              "IPY_MODEL_84375e566ec741b988e0ab627a248e3e",
              "IPY_MODEL_85d3314664bd4e778c834f7f49fdc317"
            ],
            "layout": "IPY_MODEL_0bc8aa588bf5466286558d4fbefb2f2e"
          }
        },
        "ad504a57a2d441d196052ce1216094ec": {
          "model_module": "@jupyter-widgets/controls",
          "model_name": "HTMLModel",
          "model_module_version": "1.5.0",
          "state": {
            "_dom_classes": [],
            "_model_module": "@jupyter-widgets/controls",
            "_model_module_version": "1.5.0",
            "_model_name": "HTMLModel",
            "_view_count": null,
            "_view_module": "@jupyter-widgets/controls",
            "_view_module_version": "1.5.0",
            "_view_name": "HTMLView",
            "description": "",
            "description_tooltip": null,
            "layout": "IPY_MODEL_2b1dc08ab7884178ab743e3523a56858",
            "placeholder": "​",
            "style": "IPY_MODEL_d46d9edf84854d75963fb58e6b04bfa1",
            "value": "100%"
          }
        },
        "84375e566ec741b988e0ab627a248e3e": {
          "model_module": "@jupyter-widgets/controls",
          "model_name": "FloatProgressModel",
          "model_module_version": "1.5.0",
          "state": {
            "_dom_classes": [],
            "_model_module": "@jupyter-widgets/controls",
            "_model_module_version": "1.5.0",
            "_model_name": "FloatProgressModel",
            "_view_count": null,
            "_view_module": "@jupyter-widgets/controls",
            "_view_module_version": "1.5.0",
            "_view_name": "ProgressView",
            "bar_style": "success",
            "description": "",
            "description_tooltip": null,
            "layout": "IPY_MODEL_f106f6c0638249fe9a890777403e9527",
            "max": 4245,
            "min": 0,
            "orientation": "horizontal",
            "style": "IPY_MODEL_b86f5520d337424ea578c8186260914c",
            "value": 4245
          }
        },
        "85d3314664bd4e778c834f7f49fdc317": {
          "model_module": "@jupyter-widgets/controls",
          "model_name": "HTMLModel",
          "model_module_version": "1.5.0",
          "state": {
            "_dom_classes": [],
            "_model_module": "@jupyter-widgets/controls",
            "_model_module_version": "1.5.0",
            "_model_name": "HTMLModel",
            "_view_count": null,
            "_view_module": "@jupyter-widgets/controls",
            "_view_module_version": "1.5.0",
            "_view_name": "HTMLView",
            "description": "",
            "description_tooltip": null,
            "layout": "IPY_MODEL_eade02a0237e45f69ccadcf2b79a2a44",
            "placeholder": "​",
            "style": "IPY_MODEL_e5661dd16e0e4865984016b810169b1e",
            "value": " 4245/4245 [00:00&lt;00:00, 5956.29it/s]"
          }
        },
        "0bc8aa588bf5466286558d4fbefb2f2e": {
          "model_module": "@jupyter-widgets/base",
          "model_name": "LayoutModel",
          "model_module_version": "1.2.0",
          "state": {
            "_model_module": "@jupyter-widgets/base",
            "_model_module_version": "1.2.0",
            "_model_name": "LayoutModel",
            "_view_count": null,
            "_view_module": "@jupyter-widgets/base",
            "_view_module_version": "1.2.0",
            "_view_name": "LayoutView",
            "align_content": null,
            "align_items": null,
            "align_self": null,
            "border": null,
            "bottom": null,
            "display": null,
            "flex": null,
            "flex_flow": null,
            "grid_area": null,
            "grid_auto_columns": null,
            "grid_auto_flow": null,
            "grid_auto_rows": null,
            "grid_column": null,
            "grid_gap": null,
            "grid_row": null,
            "grid_template_areas": null,
            "grid_template_columns": null,
            "grid_template_rows": null,
            "height": null,
            "justify_content": null,
            "justify_items": null,
            "left": null,
            "margin": null,
            "max_height": null,
            "max_width": null,
            "min_height": null,
            "min_width": null,
            "object_fit": null,
            "object_position": null,
            "order": null,
            "overflow": null,
            "overflow_x": null,
            "overflow_y": null,
            "padding": null,
            "right": null,
            "top": null,
            "visibility": null,
            "width": null
          }
        },
        "2b1dc08ab7884178ab743e3523a56858": {
          "model_module": "@jupyter-widgets/base",
          "model_name": "LayoutModel",
          "model_module_version": "1.2.0",
          "state": {
            "_model_module": "@jupyter-widgets/base",
            "_model_module_version": "1.2.0",
            "_model_name": "LayoutModel",
            "_view_count": null,
            "_view_module": "@jupyter-widgets/base",
            "_view_module_version": "1.2.0",
            "_view_name": "LayoutView",
            "align_content": null,
            "align_items": null,
            "align_self": null,
            "border": null,
            "bottom": null,
            "display": null,
            "flex": null,
            "flex_flow": null,
            "grid_area": null,
            "grid_auto_columns": null,
            "grid_auto_flow": null,
            "grid_auto_rows": null,
            "grid_column": null,
            "grid_gap": null,
            "grid_row": null,
            "grid_template_areas": null,
            "grid_template_columns": null,
            "grid_template_rows": null,
            "height": null,
            "justify_content": null,
            "justify_items": null,
            "left": null,
            "margin": null,
            "max_height": null,
            "max_width": null,
            "min_height": null,
            "min_width": null,
            "object_fit": null,
            "object_position": null,
            "order": null,
            "overflow": null,
            "overflow_x": null,
            "overflow_y": null,
            "padding": null,
            "right": null,
            "top": null,
            "visibility": null,
            "width": null
          }
        },
        "d46d9edf84854d75963fb58e6b04bfa1": {
          "model_module": "@jupyter-widgets/controls",
          "model_name": "DescriptionStyleModel",
          "model_module_version": "1.5.0",
          "state": {
            "_model_module": "@jupyter-widgets/controls",
            "_model_module_version": "1.5.0",
            "_model_name": "DescriptionStyleModel",
            "_view_count": null,
            "_view_module": "@jupyter-widgets/base",
            "_view_module_version": "1.2.0",
            "_view_name": "StyleView",
            "description_width": ""
          }
        },
        "f106f6c0638249fe9a890777403e9527": {
          "model_module": "@jupyter-widgets/base",
          "model_name": "LayoutModel",
          "model_module_version": "1.2.0",
          "state": {
            "_model_module": "@jupyter-widgets/base",
            "_model_module_version": "1.2.0",
            "_model_name": "LayoutModel",
            "_view_count": null,
            "_view_module": "@jupyter-widgets/base",
            "_view_module_version": "1.2.0",
            "_view_name": "LayoutView",
            "align_content": null,
            "align_items": null,
            "align_self": null,
            "border": null,
            "bottom": null,
            "display": null,
            "flex": null,
            "flex_flow": null,
            "grid_area": null,
            "grid_auto_columns": null,
            "grid_auto_flow": null,
            "grid_auto_rows": null,
            "grid_column": null,
            "grid_gap": null,
            "grid_row": null,
            "grid_template_areas": null,
            "grid_template_columns": null,
            "grid_template_rows": null,
            "height": null,
            "justify_content": null,
            "justify_items": null,
            "left": null,
            "margin": null,
            "max_height": null,
            "max_width": null,
            "min_height": null,
            "min_width": null,
            "object_fit": null,
            "object_position": null,
            "order": null,
            "overflow": null,
            "overflow_x": null,
            "overflow_y": null,
            "padding": null,
            "right": null,
            "top": null,
            "visibility": null,
            "width": null
          }
        },
        "b86f5520d337424ea578c8186260914c": {
          "model_module": "@jupyter-widgets/controls",
          "model_name": "ProgressStyleModel",
          "model_module_version": "1.5.0",
          "state": {
            "_model_module": "@jupyter-widgets/controls",
            "_model_module_version": "1.5.0",
            "_model_name": "ProgressStyleModel",
            "_view_count": null,
            "_view_module": "@jupyter-widgets/base",
            "_view_module_version": "1.2.0",
            "_view_name": "StyleView",
            "bar_color": null,
            "description_width": ""
          }
        },
        "eade02a0237e45f69ccadcf2b79a2a44": {
          "model_module": "@jupyter-widgets/base",
          "model_name": "LayoutModel",
          "model_module_version": "1.2.0",
          "state": {
            "_model_module": "@jupyter-widgets/base",
            "_model_module_version": "1.2.0",
            "_model_name": "LayoutModel",
            "_view_count": null,
            "_view_module": "@jupyter-widgets/base",
            "_view_module_version": "1.2.0",
            "_view_name": "LayoutView",
            "align_content": null,
            "align_items": null,
            "align_self": null,
            "border": null,
            "bottom": null,
            "display": null,
            "flex": null,
            "flex_flow": null,
            "grid_area": null,
            "grid_auto_columns": null,
            "grid_auto_flow": null,
            "grid_auto_rows": null,
            "grid_column": null,
            "grid_gap": null,
            "grid_row": null,
            "grid_template_areas": null,
            "grid_template_columns": null,
            "grid_template_rows": null,
            "height": null,
            "justify_content": null,
            "justify_items": null,
            "left": null,
            "margin": null,
            "max_height": null,
            "max_width": null,
            "min_height": null,
            "min_width": null,
            "object_fit": null,
            "object_position": null,
            "order": null,
            "overflow": null,
            "overflow_x": null,
            "overflow_y": null,
            "padding": null,
            "right": null,
            "top": null,
            "visibility": null,
            "width": null
          }
        },
        "e5661dd16e0e4865984016b810169b1e": {
          "model_module": "@jupyter-widgets/controls",
          "model_name": "DescriptionStyleModel",
          "model_module_version": "1.5.0",
          "state": {
            "_model_module": "@jupyter-widgets/controls",
            "_model_module_version": "1.5.0",
            "_model_name": "DescriptionStyleModel",
            "_view_count": null,
            "_view_module": "@jupyter-widgets/base",
            "_view_module_version": "1.2.0",
            "_view_name": "StyleView",
            "description_width": ""
          }
        },
        "23668d552e064408a851f3bd5ada2425": {
          "model_module": "@jupyter-widgets/controls",
          "model_name": "HBoxModel",
          "model_module_version": "1.5.0",
          "state": {
            "_dom_classes": [],
            "_model_module": "@jupyter-widgets/controls",
            "_model_module_version": "1.5.0",
            "_model_name": "HBoxModel",
            "_view_count": null,
            "_view_module": "@jupyter-widgets/controls",
            "_view_module_version": "1.5.0",
            "_view_name": "HBoxView",
            "box_style": "",
            "children": [
              "IPY_MODEL_609a652e944048579d37ae543e503494",
              "IPY_MODEL_91f9ae1508b5448bb949f06804c52e78",
              "IPY_MODEL_6d4195f151174dd0afabe4055bbbf9a7"
            ],
            "layout": "IPY_MODEL_6ecf997628ba482aa02a099753eec5b6"
          }
        },
        "609a652e944048579d37ae543e503494": {
          "model_module": "@jupyter-widgets/controls",
          "model_name": "HTMLModel",
          "model_module_version": "1.5.0",
          "state": {
            "_dom_classes": [],
            "_model_module": "@jupyter-widgets/controls",
            "_model_module_version": "1.5.0",
            "_model_name": "HTMLModel",
            "_view_count": null,
            "_view_module": "@jupyter-widgets/controls",
            "_view_module_version": "1.5.0",
            "_view_name": "HTMLView",
            "description": "",
            "description_tooltip": null,
            "layout": "IPY_MODEL_e2121a567d8d4ff48a592a0a64761283",
            "placeholder": "​",
            "style": "IPY_MODEL_5c2097aec0444af08d9ca66e1e211ad9",
            "value": "100%"
          }
        },
        "91f9ae1508b5448bb949f06804c52e78": {
          "model_module": "@jupyter-widgets/controls",
          "model_name": "FloatProgressModel",
          "model_module_version": "1.5.0",
          "state": {
            "_dom_classes": [],
            "_model_module": "@jupyter-widgets/controls",
            "_model_module_version": "1.5.0",
            "_model_name": "FloatProgressModel",
            "_view_count": null,
            "_view_module": "@jupyter-widgets/controls",
            "_view_module_version": "1.5.0",
            "_view_name": "ProgressView",
            "bar_style": "success",
            "description": "",
            "description_tooltip": null,
            "layout": "IPY_MODEL_ada09dea1bfa4eaea19f9502d7609954",
            "max": 4245,
            "min": 0,
            "orientation": "horizontal",
            "style": "IPY_MODEL_652d7078554941ae82f66ce1f00b7250",
            "value": 4245
          }
        },
        "6d4195f151174dd0afabe4055bbbf9a7": {
          "model_module": "@jupyter-widgets/controls",
          "model_name": "HTMLModel",
          "model_module_version": "1.5.0",
          "state": {
            "_dom_classes": [],
            "_model_module": "@jupyter-widgets/controls",
            "_model_module_version": "1.5.0",
            "_model_name": "HTMLModel",
            "_view_count": null,
            "_view_module": "@jupyter-widgets/controls",
            "_view_module_version": "1.5.0",
            "_view_name": "HTMLView",
            "description": "",
            "description_tooltip": null,
            "layout": "IPY_MODEL_1384208117aa45c8b0d0404e1aa403a0",
            "placeholder": "​",
            "style": "IPY_MODEL_6647be85f61e4e67a87822460fb6f66a",
            "value": " 4245/4245 [00:02&lt;00:00, 1840.72it/s]"
          }
        },
        "6ecf997628ba482aa02a099753eec5b6": {
          "model_module": "@jupyter-widgets/base",
          "model_name": "LayoutModel",
          "model_module_version": "1.2.0",
          "state": {
            "_model_module": "@jupyter-widgets/base",
            "_model_module_version": "1.2.0",
            "_model_name": "LayoutModel",
            "_view_count": null,
            "_view_module": "@jupyter-widgets/base",
            "_view_module_version": "1.2.0",
            "_view_name": "LayoutView",
            "align_content": null,
            "align_items": null,
            "align_self": null,
            "border": null,
            "bottom": null,
            "display": null,
            "flex": null,
            "flex_flow": null,
            "grid_area": null,
            "grid_auto_columns": null,
            "grid_auto_flow": null,
            "grid_auto_rows": null,
            "grid_column": null,
            "grid_gap": null,
            "grid_row": null,
            "grid_template_areas": null,
            "grid_template_columns": null,
            "grid_template_rows": null,
            "height": null,
            "justify_content": null,
            "justify_items": null,
            "left": null,
            "margin": null,
            "max_height": null,
            "max_width": null,
            "min_height": null,
            "min_width": null,
            "object_fit": null,
            "object_position": null,
            "order": null,
            "overflow": null,
            "overflow_x": null,
            "overflow_y": null,
            "padding": null,
            "right": null,
            "top": null,
            "visibility": null,
            "width": null
          }
        },
        "e2121a567d8d4ff48a592a0a64761283": {
          "model_module": "@jupyter-widgets/base",
          "model_name": "LayoutModel",
          "model_module_version": "1.2.0",
          "state": {
            "_model_module": "@jupyter-widgets/base",
            "_model_module_version": "1.2.0",
            "_model_name": "LayoutModel",
            "_view_count": null,
            "_view_module": "@jupyter-widgets/base",
            "_view_module_version": "1.2.0",
            "_view_name": "LayoutView",
            "align_content": null,
            "align_items": null,
            "align_self": null,
            "border": null,
            "bottom": null,
            "display": null,
            "flex": null,
            "flex_flow": null,
            "grid_area": null,
            "grid_auto_columns": null,
            "grid_auto_flow": null,
            "grid_auto_rows": null,
            "grid_column": null,
            "grid_gap": null,
            "grid_row": null,
            "grid_template_areas": null,
            "grid_template_columns": null,
            "grid_template_rows": null,
            "height": null,
            "justify_content": null,
            "justify_items": null,
            "left": null,
            "margin": null,
            "max_height": null,
            "max_width": null,
            "min_height": null,
            "min_width": null,
            "object_fit": null,
            "object_position": null,
            "order": null,
            "overflow": null,
            "overflow_x": null,
            "overflow_y": null,
            "padding": null,
            "right": null,
            "top": null,
            "visibility": null,
            "width": null
          }
        },
        "5c2097aec0444af08d9ca66e1e211ad9": {
          "model_module": "@jupyter-widgets/controls",
          "model_name": "DescriptionStyleModel",
          "model_module_version": "1.5.0",
          "state": {
            "_model_module": "@jupyter-widgets/controls",
            "_model_module_version": "1.5.0",
            "_model_name": "DescriptionStyleModel",
            "_view_count": null,
            "_view_module": "@jupyter-widgets/base",
            "_view_module_version": "1.2.0",
            "_view_name": "StyleView",
            "description_width": ""
          }
        },
        "ada09dea1bfa4eaea19f9502d7609954": {
          "model_module": "@jupyter-widgets/base",
          "model_name": "LayoutModel",
          "model_module_version": "1.2.0",
          "state": {
            "_model_module": "@jupyter-widgets/base",
            "_model_module_version": "1.2.0",
            "_model_name": "LayoutModel",
            "_view_count": null,
            "_view_module": "@jupyter-widgets/base",
            "_view_module_version": "1.2.0",
            "_view_name": "LayoutView",
            "align_content": null,
            "align_items": null,
            "align_self": null,
            "border": null,
            "bottom": null,
            "display": null,
            "flex": null,
            "flex_flow": null,
            "grid_area": null,
            "grid_auto_columns": null,
            "grid_auto_flow": null,
            "grid_auto_rows": null,
            "grid_column": null,
            "grid_gap": null,
            "grid_row": null,
            "grid_template_areas": null,
            "grid_template_columns": null,
            "grid_template_rows": null,
            "height": null,
            "justify_content": null,
            "justify_items": null,
            "left": null,
            "margin": null,
            "max_height": null,
            "max_width": null,
            "min_height": null,
            "min_width": null,
            "object_fit": null,
            "object_position": null,
            "order": null,
            "overflow": null,
            "overflow_x": null,
            "overflow_y": null,
            "padding": null,
            "right": null,
            "top": null,
            "visibility": null,
            "width": null
          }
        },
        "652d7078554941ae82f66ce1f00b7250": {
          "model_module": "@jupyter-widgets/controls",
          "model_name": "ProgressStyleModel",
          "model_module_version": "1.5.0",
          "state": {
            "_model_module": "@jupyter-widgets/controls",
            "_model_module_version": "1.5.0",
            "_model_name": "ProgressStyleModel",
            "_view_count": null,
            "_view_module": "@jupyter-widgets/base",
            "_view_module_version": "1.2.0",
            "_view_name": "StyleView",
            "bar_color": null,
            "description_width": ""
          }
        },
        "1384208117aa45c8b0d0404e1aa403a0": {
          "model_module": "@jupyter-widgets/base",
          "model_name": "LayoutModel",
          "model_module_version": "1.2.0",
          "state": {
            "_model_module": "@jupyter-widgets/base",
            "_model_module_version": "1.2.0",
            "_model_name": "LayoutModel",
            "_view_count": null,
            "_view_module": "@jupyter-widgets/base",
            "_view_module_version": "1.2.0",
            "_view_name": "LayoutView",
            "align_content": null,
            "align_items": null,
            "align_self": null,
            "border": null,
            "bottom": null,
            "display": null,
            "flex": null,
            "flex_flow": null,
            "grid_area": null,
            "grid_auto_columns": null,
            "grid_auto_flow": null,
            "grid_auto_rows": null,
            "grid_column": null,
            "grid_gap": null,
            "grid_row": null,
            "grid_template_areas": null,
            "grid_template_columns": null,
            "grid_template_rows": null,
            "height": null,
            "justify_content": null,
            "justify_items": null,
            "left": null,
            "margin": null,
            "max_height": null,
            "max_width": null,
            "min_height": null,
            "min_width": null,
            "object_fit": null,
            "object_position": null,
            "order": null,
            "overflow": null,
            "overflow_x": null,
            "overflow_y": null,
            "padding": null,
            "right": null,
            "top": null,
            "visibility": null,
            "width": null
          }
        },
        "6647be85f61e4e67a87822460fb6f66a": {
          "model_module": "@jupyter-widgets/controls",
          "model_name": "DescriptionStyleModel",
          "model_module_version": "1.5.0",
          "state": {
            "_model_module": "@jupyter-widgets/controls",
            "_model_module_version": "1.5.0",
            "_model_name": "DescriptionStyleModel",
            "_view_count": null,
            "_view_module": "@jupyter-widgets/base",
            "_view_module_version": "1.2.0",
            "_view_name": "StyleView",
            "description_width": ""
          }
        }
      }
    }
  },
  "cells": [
    {
      "cell_type": "markdown",
      "metadata": {
        "id": "view-in-github",
        "colab_type": "text"
      },
      "source": [
        "<a href=\"https://colab.research.google.com/github/EitanBakirov/Advanced-ML-DL-Course/blob/main/Assignment%20II%20-%20NLP/Assignment_II_Group_4_Enhanced.ipynb\" target=\"_parent\"><img src=\"https://colab.research.google.com/assets/colab-badge.svg\" alt=\"Open In Colab\"/></a>"
      ]
    },
    {
      "cell_type": "markdown",
      "metadata": {
        "id": "f0v2mOU5X6Ls"
      },
      "source": [
        "<div class=\"markdown-google-sans\">\n",
        "  <h1><font size=6>Assignment 2 : NLP : Seinfeld or Friends?</font></h1>\n",
        "\n",
        "  <u>Group members:</u><br>\n",
        "  - Ariel Hedvat<br>\n",
        "  - Shiraz Israeli<br>\n",
        "  - Yuval Bakirov<br>\n",
        "  - Eitan Bakirov\n",
        "\n",
        "<br>\n",
        "\n",
        "This project aims to distinguish dialogue lines from the TV shows Seinfeld and Friends. The dataset includes dialogue text, character information, and show labels.\n",
        "\n",
        "The goal is to build a model trained on dialogues of characters and classifies whether a new dialogue is from Seinfeld or Friends, then evaluate its accuracy on a test set.<br>\n",
        "Also, we explore the results of the model on each character.\n",
        "\n",
        "We will build several models, evaluate their performance and choose the best one.\n",
        "</div>\n"
      ]
    },
    {
      "cell_type": "markdown",
      "metadata": {
        "id": "6KQAH9j-qoZw"
      },
      "source": [
        "<div class=\"markdown-google-sans\">\n",
        "  <h1><font size=5>Data</font></h1>\n",
        "</div>"
      ]
    },
    {
      "cell_type": "markdown",
      "metadata": {
        "id": "YeDU9j_8rAD1"
      },
      "source": [
        "The dataset comprises five columns: <br>\n",
        "- Dialogue - indicating spoken lines<br>\n",
        "- Character - denoting the speaker <br>\n",
        "- Episode - specifying the episode number <br>\n",
        "- Show - identifying the television series <br>\n",
        "- Dialogue_length - quantifying the length of each dialogue entry.<br><br>\n",
        "\n",
        "In our models we will only use the features: \"Dialouge\" (Sample) and \"Show\" (Label) during the training.<br><br>"
      ]
    },
    {
      "cell_type": "markdown",
      "metadata": {
        "id": "DfFFUOOZo51l"
      },
      "source": [
        "<div class=\"markdown-google-sans\">\n",
        "  <h1><font size=5>Table of Contents</font></h1>"
      ]
    },
    {
      "cell_type": "markdown",
      "metadata": {
        "colab_type": "toc",
        "id": "9HArAhUdavbe"
      },
      "source": [
        ">[Import Libraries](#scrollTo=-_VBJ0JlYLKI)\n",
        "\n",
        ">[Loading the data](#scrollTo=kXwOL606ZfUN)\n",
        "\n",
        ">[EDA & Pre- Processing](#scrollTo=P8cTl07AZgyg)\n",
        "\n",
        ">>[Text cleaning](#scrollTo=YahuK9cqYcyC)\n",
        "\n",
        ">>[Special character removal](#scrollTo=rktALPaIYimc)\n",
        "\n",
        ">>[Stop words removal](#scrollTo=oI-pgoYYYnZe)\n",
        "\n",
        ">>[Stemming](#scrollTo=Tdei7JlEc_Ea)\n",
        "\n",
        ">>[Train-Test-Validation split](#scrollTo=mG1TBityfg1-)\n",
        "\n",
        ">>[Text Representation Techniques](#scrollTo=t5h4TMJDVfw0)\n",
        "\n",
        ">>>[Bag of Words (BOW)](#scrollTo=8v4hFeBdVXgS)\n",
        "\n",
        ">>>[Term Frequency-Inverse Document Frequency model (TF-IDF)](#scrollTo=e6VKmyN8W4B1)\n",
        "\n",
        ">>>[Word embeddings](#scrollTo=YnvKhWctXM6f)\n",
        "\n",
        ">>[Labeling](#scrollTo=EIruMKat5Rx3)\n",
        "\n",
        ">>[Text tokenization (for a sequential deep learning model)](#scrollTo=Qcz-Ji7ovJWt)\n",
        "\n",
        ">>[Sequence padding](#scrollTo=V7kY5N9Hw-31)\n",
        "\n",
        ">>[Final preprocessing function](#scrollTo=R-LRYdO1lUND)\n",
        "\n",
        ">[Modeling](#scrollTo=_58J58NQVpBV)\n",
        "\n",
        ">>[Logistic Regression](#scrollTo=qEiDaFgudEqe)\n",
        "\n",
        ">>>[BOW](#scrollTo=x2FcL1GTkE_K)\n",
        "\n",
        ">>>[TF-IDF](#scrollTo=rL5bcMPBkLg4)\n",
        "\n",
        ">>[Random Forest](#scrollTo=wtFjmtIxdEb2)\n",
        "\n",
        ">>[Compare models](#scrollTo=BAM267N8Fo-k)\n",
        "\n",
        ">>[Neural Network](#scrollTo=wA-x7yP2dADC)\n",
        "\n",
        ">[Explore Our results](#scrollTo=vbjiKHyi7Irm)\n",
        "\n",
        ">>[Visualization](#scrollTo=gj5MAByiQRWi)\n",
        "\n",
        ">>[Word Cloud For Each Show](#scrollTo=hZ78JqH4P6Kk)\n",
        "\n",
        ">[Output](#scrollTo=IJrSf6hnWnCJ)\n",
        "\n"
      ]
    },
    {
      "cell_type": "markdown",
      "metadata": {
        "id": "-_VBJ0JlYLKI"
      },
      "source": [
        "#  Import Libraries"
      ]
    },
    {
      "cell_type": "code",
      "execution_count": 80,
      "metadata": {
        "id": "XRyEMuKdYN_8",
        "outputId": "3daca886-c1e0-4769-901c-e3273ac5f73c",
        "colab": {
          "base_uri": "https://localhost:8080/"
        }
      },
      "outputs": [
        {
          "output_type": "stream",
          "name": "stdout",
          "text": [
            "Requirement already satisfied: contractions in /usr/local/lib/python3.10/dist-packages (0.1.73)\n",
            "Requirement already satisfied: textsearch>=0.0.21 in /usr/local/lib/python3.10/dist-packages (from contractions) (0.0.24)\n",
            "Requirement already satisfied: anyascii in /usr/local/lib/python3.10/dist-packages (from textsearch>=0.0.21->contractions) (0.3.2)\n",
            "Requirement already satisfied: pyahocorasick in /usr/local/lib/python3.10/dist-packages (from textsearch>=0.0.21->contractions) (2.1.0)\n"
          ]
        }
      ],
      "source": [
        "import pandas as pd\n",
        "import numpy as np\n",
        "import sklearn as skl\n",
        "import seaborn as sns\n",
        "import matplotlib.pyplot as plt\n",
        "import os\n",
        "import scipy.stats as stats\n",
        "from sklearn.model_selection import train_test_split\n",
        "\n",
        "# Contractions expansion of text\n",
        "!pip install contractions\n",
        "import contractions\n",
        "\n",
        "from bs4 import BeautifulSoup\n",
        "import re\n",
        "from sklearn.preprocessing import LabelBinarizer\n",
        "\n",
        "# Tokenizer that contains a stopwords corpus\n",
        "import nltk\n",
        "from nltk.tokenize.toktok import ToktokTokenizer\n",
        "\n",
        "# Progress bar to outputs\n",
        "from tqdm.notebook import tqdm\n",
        "\n",
        "# BOW\n",
        "from sklearn.feature_extraction.text import CountVectorizer\n",
        "# TF-IDF\n",
        "from sklearn.feature_extraction.text import TfidfVectorizer\n",
        "\n",
        "# Sequence padding\n",
        "from keras.preprocessing import sequence\n",
        "\n",
        "from sklearn.linear_model import LogisticRegression\n",
        "import datetime\n",
        "\n",
        "from sklearn.metrics import classification_report, confusion_matrix, accuracy_score, roc_auc_score, roc_curve\n",
        "\n",
        "from sklearn.ensemble import RandomForestClassifier\n",
        "\n",
        "from keras.layers import Dropout, Conv1D, Flatten, Dense, Embedding, MaxPooling1D, BatchNormalization\n",
        "\n",
        "from keras.models import Sequential\n",
        "from keras.layers import Dropout, Conv1D, Flatten, Dense, Embedding\n",
        "\n",
        "from tensorflow.keras.preprocessing.text import Tokenizer\n",
        "\n",
        "from tensorflow.keras.metrics import AUC\n",
        "\n",
        "from sklearn.metrics import accuracy_score\n",
        "\n",
        "from wordcloud import WordCloud\n",
        "\n",
        "import warnings\n",
        "warnings.filterwarnings('ignore')"
      ]
    },
    {
      "cell_type": "markdown",
      "metadata": {
        "id": "kXwOL606ZfUN"
      },
      "source": [
        "# Loading the data"
      ]
    },
    {
      "cell_type": "code",
      "execution_count": 2,
      "metadata": {
        "id": "SPuyJ3qXZgWY"
      },
      "outputs": [],
      "source": [
        "# Data Loading for Train\n",
        "url = 'https://raw.githubusercontent.com/EitanBakirov/Advanced-ML-DL-Course/Eitan-Expanding-Assignment3/Assignment%20II%20-%20NLP/train.csv'\n",
        "full_train_data = pd.read_csv(url)"
      ]
    },
    {
      "cell_type": "code",
      "source": [
        "# Data Loading for Test\n",
        "url_test = 'https://raw.githubusercontent.com/EitanBakirov/Advanced-ML-DL-Course/Eitan-Expanding-Assignment3/Assignment%20II%20-%20NLP/test.csv'\n",
        "full_test_data = pd.read_csv(url_test)"
      ],
      "metadata": {
        "id": "z1qQpQAz6T7E"
      },
      "execution_count": 3,
      "outputs": []
    },
    {
      "cell_type": "markdown",
      "source": [
        "# Exploratory Data Analysis"
      ],
      "metadata": {
        "id": "9_8xca5qVphP"
      }
    },
    {
      "cell_type": "markdown",
      "source": [
        "First, let's look at our data:"
      ],
      "metadata": {
        "id": "Hkfak6nkPNix"
      }
    },
    {
      "cell_type": "code",
      "source": [
        "full_train_data"
      ],
      "metadata": {
        "colab": {
          "base_uri": "https://localhost:8080/",
          "height": 423
        },
        "id": "QeN53c3tPMhR",
        "outputId": "47de2355-54a5-41c0-eeb8-02e4f3bd7b94"
      },
      "execution_count": 4,
      "outputs": [
        {
          "output_type": "execute_result",
          "data": {
            "text/plain": [
              "                                                Dialogue Character  \\\n",
              "0                                                   Hey.      joey   \n",
              "1       (to Joey) Are you gonna be embarrassed going ...    phoebe   \n",
              "2      Me? No no no, you. You're gonna tell him. I'm ...    elaine   \n",
              "3       Alright you guys are off to party number one ...  chandler   \n",
              "4      Am I? Or am I so sane that you just blew your ...    kramer   \n",
              "...                                                  ...       ...   \n",
              "70400                                       Pretty much.     jerry   \n",
              "70401   Oh, well um, not right now. Y'know I’m just g...    phoebe   \n",
              "70402                Ooh, I think I wanna trade circles.    phoebe   \n",
              "70403      Hey, hey, what is this? What's going on here?     jerry   \n",
              "70404                                I want the massage!     jerry   \n",
              "\n",
              "                                                 Episode      Show  \\\n",
              "0         Season-07 Episode-13-The One Where Rosita Dies   Friends   \n",
              "1             Season-10 Episode-04-The One With The Cake   Friends   \n",
              "2                                                 S03E22  Seinfeld   \n",
              "3      Season-02 Episode-22-The One With the Two Parties   Friends   \n",
              "4                                                 S05E12  Seinfeld   \n",
              "...                                                  ...       ...   \n",
              "70400                                             S05E09  Seinfeld   \n",
              "70401        Season-03 Episode-05-The One With Frank Jr.   Friends   \n",
              "70402   Season-07 Episode-22-The One With Chandler’s Dad   Friends   \n",
              "70403                                             S05E03  Seinfeld   \n",
              "70404                                             S05E09  Seinfeld   \n",
              "\n",
              "       Dialogue_length  \n",
              "0                    1  \n",
              "1                   13  \n",
              "2                   14  \n",
              "3                   56  \n",
              "4                   13  \n",
              "...                ...  \n",
              "70400                2  \n",
              "70401               22  \n",
              "70402                7  \n",
              "70403                9  \n",
              "70404                4  \n",
              "\n",
              "[70405 rows x 5 columns]"
            ],
            "text/html": [
              "\n",
              "  <div id=\"df-fd8ac948-d220-49d3-8e12-04862fc2dc55\" class=\"colab-df-container\">\n",
              "    <div>\n",
              "<style scoped>\n",
              "    .dataframe tbody tr th:only-of-type {\n",
              "        vertical-align: middle;\n",
              "    }\n",
              "\n",
              "    .dataframe tbody tr th {\n",
              "        vertical-align: top;\n",
              "    }\n",
              "\n",
              "    .dataframe thead th {\n",
              "        text-align: right;\n",
              "    }\n",
              "</style>\n",
              "<table border=\"1\" class=\"dataframe\">\n",
              "  <thead>\n",
              "    <tr style=\"text-align: right;\">\n",
              "      <th></th>\n",
              "      <th>Dialogue</th>\n",
              "      <th>Character</th>\n",
              "      <th>Episode</th>\n",
              "      <th>Show</th>\n",
              "      <th>Dialogue_length</th>\n",
              "    </tr>\n",
              "  </thead>\n",
              "  <tbody>\n",
              "    <tr>\n",
              "      <th>0</th>\n",
              "      <td>Hey.</td>\n",
              "      <td>joey</td>\n",
              "      <td>Season-07 Episode-13-The One Where Rosita Dies</td>\n",
              "      <td>Friends</td>\n",
              "      <td>1</td>\n",
              "    </tr>\n",
              "    <tr>\n",
              "      <th>1</th>\n",
              "      <td>(to Joey) Are you gonna be embarrassed going ...</td>\n",
              "      <td>phoebe</td>\n",
              "      <td>Season-10 Episode-04-The One With The Cake</td>\n",
              "      <td>Friends</td>\n",
              "      <td>13</td>\n",
              "    </tr>\n",
              "    <tr>\n",
              "      <th>2</th>\n",
              "      <td>Me? No no no, you. You're gonna tell him. I'm ...</td>\n",
              "      <td>elaine</td>\n",
              "      <td>S03E22</td>\n",
              "      <td>Seinfeld</td>\n",
              "      <td>14</td>\n",
              "    </tr>\n",
              "    <tr>\n",
              "      <th>3</th>\n",
              "      <td>Alright you guys are off to party number one ...</td>\n",
              "      <td>chandler</td>\n",
              "      <td>Season-02 Episode-22-The One With the Two Parties</td>\n",
              "      <td>Friends</td>\n",
              "      <td>56</td>\n",
              "    </tr>\n",
              "    <tr>\n",
              "      <th>4</th>\n",
              "      <td>Am I? Or am I so sane that you just blew your ...</td>\n",
              "      <td>kramer</td>\n",
              "      <td>S05E12</td>\n",
              "      <td>Seinfeld</td>\n",
              "      <td>13</td>\n",
              "    </tr>\n",
              "    <tr>\n",
              "      <th>...</th>\n",
              "      <td>...</td>\n",
              "      <td>...</td>\n",
              "      <td>...</td>\n",
              "      <td>...</td>\n",
              "      <td>...</td>\n",
              "    </tr>\n",
              "    <tr>\n",
              "      <th>70400</th>\n",
              "      <td>Pretty much.</td>\n",
              "      <td>jerry</td>\n",
              "      <td>S05E09</td>\n",
              "      <td>Seinfeld</td>\n",
              "      <td>2</td>\n",
              "    </tr>\n",
              "    <tr>\n",
              "      <th>70401</th>\n",
              "      <td>Oh, well um, not right now. Y'know I’m just g...</td>\n",
              "      <td>phoebe</td>\n",
              "      <td>Season-03 Episode-05-The One With Frank Jr.</td>\n",
              "      <td>Friends</td>\n",
              "      <td>22</td>\n",
              "    </tr>\n",
              "    <tr>\n",
              "      <th>70402</th>\n",
              "      <td>Ooh, I think I wanna trade circles.</td>\n",
              "      <td>phoebe</td>\n",
              "      <td>Season-07 Episode-22-The One With Chandler’s Dad</td>\n",
              "      <td>Friends</td>\n",
              "      <td>7</td>\n",
              "    </tr>\n",
              "    <tr>\n",
              "      <th>70403</th>\n",
              "      <td>Hey, hey, what is this? What's going on here?</td>\n",
              "      <td>jerry</td>\n",
              "      <td>S05E03</td>\n",
              "      <td>Seinfeld</td>\n",
              "      <td>9</td>\n",
              "    </tr>\n",
              "    <tr>\n",
              "      <th>70404</th>\n",
              "      <td>I want the massage!</td>\n",
              "      <td>jerry</td>\n",
              "      <td>S05E09</td>\n",
              "      <td>Seinfeld</td>\n",
              "      <td>4</td>\n",
              "    </tr>\n",
              "  </tbody>\n",
              "</table>\n",
              "<p>70405 rows × 5 columns</p>\n",
              "</div>\n",
              "    <div class=\"colab-df-buttons\">\n",
              "\n",
              "  <div class=\"colab-df-container\">\n",
              "    <button class=\"colab-df-convert\" onclick=\"convertToInteractive('df-fd8ac948-d220-49d3-8e12-04862fc2dc55')\"\n",
              "            title=\"Convert this dataframe to an interactive table.\"\n",
              "            style=\"display:none;\">\n",
              "\n",
              "  <svg xmlns=\"http://www.w3.org/2000/svg\" height=\"24px\" viewBox=\"0 -960 960 960\">\n",
              "    <path d=\"M120-120v-720h720v720H120Zm60-500h600v-160H180v160Zm220 220h160v-160H400v160Zm0 220h160v-160H400v160ZM180-400h160v-160H180v160Zm440 0h160v-160H620v160ZM180-180h160v-160H180v160Zm440 0h160v-160H620v160Z\"/>\n",
              "  </svg>\n",
              "    </button>\n",
              "\n",
              "  <style>\n",
              "    .colab-df-container {\n",
              "      display:flex;\n",
              "      gap: 12px;\n",
              "    }\n",
              "\n",
              "    .colab-df-convert {\n",
              "      background-color: #E8F0FE;\n",
              "      border: none;\n",
              "      border-radius: 50%;\n",
              "      cursor: pointer;\n",
              "      display: none;\n",
              "      fill: #1967D2;\n",
              "      height: 32px;\n",
              "      padding: 0 0 0 0;\n",
              "      width: 32px;\n",
              "    }\n",
              "\n",
              "    .colab-df-convert:hover {\n",
              "      background-color: #E2EBFA;\n",
              "      box-shadow: 0px 1px 2px rgba(60, 64, 67, 0.3), 0px 1px 3px 1px rgba(60, 64, 67, 0.15);\n",
              "      fill: #174EA6;\n",
              "    }\n",
              "\n",
              "    .colab-df-buttons div {\n",
              "      margin-bottom: 4px;\n",
              "    }\n",
              "\n",
              "    [theme=dark] .colab-df-convert {\n",
              "      background-color: #3B4455;\n",
              "      fill: #D2E3FC;\n",
              "    }\n",
              "\n",
              "    [theme=dark] .colab-df-convert:hover {\n",
              "      background-color: #434B5C;\n",
              "      box-shadow: 0px 1px 3px 1px rgba(0, 0, 0, 0.15);\n",
              "      filter: drop-shadow(0px 1px 2px rgba(0, 0, 0, 0.3));\n",
              "      fill: #FFFFFF;\n",
              "    }\n",
              "  </style>\n",
              "\n",
              "    <script>\n",
              "      const buttonEl =\n",
              "        document.querySelector('#df-fd8ac948-d220-49d3-8e12-04862fc2dc55 button.colab-df-convert');\n",
              "      buttonEl.style.display =\n",
              "        google.colab.kernel.accessAllowed ? 'block' : 'none';\n",
              "\n",
              "      async function convertToInteractive(key) {\n",
              "        const element = document.querySelector('#df-fd8ac948-d220-49d3-8e12-04862fc2dc55');\n",
              "        const dataTable =\n",
              "          await google.colab.kernel.invokeFunction('convertToInteractive',\n",
              "                                                    [key], {});\n",
              "        if (!dataTable) return;\n",
              "\n",
              "        const docLinkHtml = 'Like what you see? Visit the ' +\n",
              "          '<a target=\"_blank\" href=https://colab.research.google.com/notebooks/data_table.ipynb>data table notebook</a>'\n",
              "          + ' to learn more about interactive tables.';\n",
              "        element.innerHTML = '';\n",
              "        dataTable['output_type'] = 'display_data';\n",
              "        await google.colab.output.renderOutput(dataTable, element);\n",
              "        const docLink = document.createElement('div');\n",
              "        docLink.innerHTML = docLinkHtml;\n",
              "        element.appendChild(docLink);\n",
              "      }\n",
              "    </script>\n",
              "  </div>\n",
              "\n",
              "\n",
              "<div id=\"df-739c3d5f-5139-479c-8af3-6acae5b8ef3c\">\n",
              "  <button class=\"colab-df-quickchart\" onclick=\"quickchart('df-739c3d5f-5139-479c-8af3-6acae5b8ef3c')\"\n",
              "            title=\"Suggest charts\"\n",
              "            style=\"display:none;\">\n",
              "\n",
              "<svg xmlns=\"http://www.w3.org/2000/svg\" height=\"24px\"viewBox=\"0 0 24 24\"\n",
              "     width=\"24px\">\n",
              "    <g>\n",
              "        <path d=\"M19 3H5c-1.1 0-2 .9-2 2v14c0 1.1.9 2 2 2h14c1.1 0 2-.9 2-2V5c0-1.1-.9-2-2-2zM9 17H7v-7h2v7zm4 0h-2V7h2v10zm4 0h-2v-4h2v4z\"/>\n",
              "    </g>\n",
              "</svg>\n",
              "  </button>\n",
              "\n",
              "<style>\n",
              "  .colab-df-quickchart {\n",
              "      --bg-color: #E8F0FE;\n",
              "      --fill-color: #1967D2;\n",
              "      --hover-bg-color: #E2EBFA;\n",
              "      --hover-fill-color: #174EA6;\n",
              "      --disabled-fill-color: #AAA;\n",
              "      --disabled-bg-color: #DDD;\n",
              "  }\n",
              "\n",
              "  [theme=dark] .colab-df-quickchart {\n",
              "      --bg-color: #3B4455;\n",
              "      --fill-color: #D2E3FC;\n",
              "      --hover-bg-color: #434B5C;\n",
              "      --hover-fill-color: #FFFFFF;\n",
              "      --disabled-bg-color: #3B4455;\n",
              "      --disabled-fill-color: #666;\n",
              "  }\n",
              "\n",
              "  .colab-df-quickchart {\n",
              "    background-color: var(--bg-color);\n",
              "    border: none;\n",
              "    border-radius: 50%;\n",
              "    cursor: pointer;\n",
              "    display: none;\n",
              "    fill: var(--fill-color);\n",
              "    height: 32px;\n",
              "    padding: 0;\n",
              "    width: 32px;\n",
              "  }\n",
              "\n",
              "  .colab-df-quickchart:hover {\n",
              "    background-color: var(--hover-bg-color);\n",
              "    box-shadow: 0 1px 2px rgba(60, 64, 67, 0.3), 0 1px 3px 1px rgba(60, 64, 67, 0.15);\n",
              "    fill: var(--button-hover-fill-color);\n",
              "  }\n",
              "\n",
              "  .colab-df-quickchart-complete:disabled,\n",
              "  .colab-df-quickchart-complete:disabled:hover {\n",
              "    background-color: var(--disabled-bg-color);\n",
              "    fill: var(--disabled-fill-color);\n",
              "    box-shadow: none;\n",
              "  }\n",
              "\n",
              "  .colab-df-spinner {\n",
              "    border: 2px solid var(--fill-color);\n",
              "    border-color: transparent;\n",
              "    border-bottom-color: var(--fill-color);\n",
              "    animation:\n",
              "      spin 1s steps(1) infinite;\n",
              "  }\n",
              "\n",
              "  @keyframes spin {\n",
              "    0% {\n",
              "      border-color: transparent;\n",
              "      border-bottom-color: var(--fill-color);\n",
              "      border-left-color: var(--fill-color);\n",
              "    }\n",
              "    20% {\n",
              "      border-color: transparent;\n",
              "      border-left-color: var(--fill-color);\n",
              "      border-top-color: var(--fill-color);\n",
              "    }\n",
              "    30% {\n",
              "      border-color: transparent;\n",
              "      border-left-color: var(--fill-color);\n",
              "      border-top-color: var(--fill-color);\n",
              "      border-right-color: var(--fill-color);\n",
              "    }\n",
              "    40% {\n",
              "      border-color: transparent;\n",
              "      border-right-color: var(--fill-color);\n",
              "      border-top-color: var(--fill-color);\n",
              "    }\n",
              "    60% {\n",
              "      border-color: transparent;\n",
              "      border-right-color: var(--fill-color);\n",
              "    }\n",
              "    80% {\n",
              "      border-color: transparent;\n",
              "      border-right-color: var(--fill-color);\n",
              "      border-bottom-color: var(--fill-color);\n",
              "    }\n",
              "    90% {\n",
              "      border-color: transparent;\n",
              "      border-bottom-color: var(--fill-color);\n",
              "    }\n",
              "  }\n",
              "</style>\n",
              "\n",
              "  <script>\n",
              "    async function quickchart(key) {\n",
              "      const quickchartButtonEl =\n",
              "        document.querySelector('#' + key + ' button');\n",
              "      quickchartButtonEl.disabled = true;  // To prevent multiple clicks.\n",
              "      quickchartButtonEl.classList.add('colab-df-spinner');\n",
              "      try {\n",
              "        const charts = await google.colab.kernel.invokeFunction(\n",
              "            'suggestCharts', [key], {});\n",
              "      } catch (error) {\n",
              "        console.error('Error during call to suggestCharts:', error);\n",
              "      }\n",
              "      quickchartButtonEl.classList.remove('colab-df-spinner');\n",
              "      quickchartButtonEl.classList.add('colab-df-quickchart-complete');\n",
              "    }\n",
              "    (() => {\n",
              "      let quickchartButtonEl =\n",
              "        document.querySelector('#df-739c3d5f-5139-479c-8af3-6acae5b8ef3c button');\n",
              "      quickchartButtonEl.style.display =\n",
              "        google.colab.kernel.accessAllowed ? 'block' : 'none';\n",
              "    })();\n",
              "  </script>\n",
              "</div>\n",
              "\n",
              "  <div id=\"id_e9c3859d-6e52-4bcf-b239-5572bea79a77\">\n",
              "    <style>\n",
              "      .colab-df-generate {\n",
              "        background-color: #E8F0FE;\n",
              "        border: none;\n",
              "        border-radius: 50%;\n",
              "        cursor: pointer;\n",
              "        display: none;\n",
              "        fill: #1967D2;\n",
              "        height: 32px;\n",
              "        padding: 0 0 0 0;\n",
              "        width: 32px;\n",
              "      }\n",
              "\n",
              "      .colab-df-generate:hover {\n",
              "        background-color: #E2EBFA;\n",
              "        box-shadow: 0px 1px 2px rgba(60, 64, 67, 0.3), 0px 1px 3px 1px rgba(60, 64, 67, 0.15);\n",
              "        fill: #174EA6;\n",
              "      }\n",
              "\n",
              "      [theme=dark] .colab-df-generate {\n",
              "        background-color: #3B4455;\n",
              "        fill: #D2E3FC;\n",
              "      }\n",
              "\n",
              "      [theme=dark] .colab-df-generate:hover {\n",
              "        background-color: #434B5C;\n",
              "        box-shadow: 0px 1px 3px 1px rgba(0, 0, 0, 0.15);\n",
              "        filter: drop-shadow(0px 1px 2px rgba(0, 0, 0, 0.3));\n",
              "        fill: #FFFFFF;\n",
              "      }\n",
              "    </style>\n",
              "    <button class=\"colab-df-generate\" onclick=\"generateWithVariable('full_train_data')\"\n",
              "            title=\"Generate code using this dataframe.\"\n",
              "            style=\"display:none;\">\n",
              "\n",
              "  <svg xmlns=\"http://www.w3.org/2000/svg\" height=\"24px\"viewBox=\"0 0 24 24\"\n",
              "       width=\"24px\">\n",
              "    <path d=\"M7,19H8.4L18.45,9,17,7.55,7,17.6ZM5,21V16.75L18.45,3.32a2,2,0,0,1,2.83,0l1.4,1.43a1.91,1.91,0,0,1,.58,1.4,1.91,1.91,0,0,1-.58,1.4L9.25,21ZM18.45,9,17,7.55Zm-12,3A5.31,5.31,0,0,0,4.9,8.1,5.31,5.31,0,0,0,1,6.5,5.31,5.31,0,0,0,4.9,4.9,5.31,5.31,0,0,0,6.5,1,5.31,5.31,0,0,0,8.1,4.9,5.31,5.31,0,0,0,12,6.5,5.46,5.46,0,0,0,6.5,12Z\"/>\n",
              "  </svg>\n",
              "    </button>\n",
              "    <script>\n",
              "      (() => {\n",
              "      const buttonEl =\n",
              "        document.querySelector('#id_e9c3859d-6e52-4bcf-b239-5572bea79a77 button.colab-df-generate');\n",
              "      buttonEl.style.display =\n",
              "        google.colab.kernel.accessAllowed ? 'block' : 'none';\n",
              "\n",
              "      buttonEl.onclick = () => {\n",
              "        google.colab.notebook.generateWithVariable('full_train_data');\n",
              "      }\n",
              "      })();\n",
              "    </script>\n",
              "  </div>\n",
              "\n",
              "    </div>\n",
              "  </div>\n"
            ],
            "application/vnd.google.colaboratory.intrinsic+json": {
              "type": "dataframe",
              "variable_name": "full_train_data",
              "summary": "{\n  \"name\": \"full_train_data\",\n  \"rows\": 70405,\n  \"fields\": [\n    {\n      \"column\": \"Dialogue\",\n      \"properties\": {\n        \"dtype\": \"string\",\n        \"num_unique_values\": 62770,\n        \"samples\": [\n          \" Naked alone time.\",\n          \" You know what, he's a big boy, I'm sure he'll find us, ok?\",\n          \" Sweetie, this conversation is starting to make me a little uncomfortable.\"\n        ],\n        \"semantic_type\": \"\",\n        \"description\": \"\"\n      }\n    },\n    {\n      \"column\": \"Character\",\n      \"properties\": {\n        \"dtype\": \"category\",\n        \"num_unique_values\": 10,\n        \"samples\": [\n          \"rachel\",\n          \"phoebe\",\n          \"monica\"\n        ],\n        \"semantic_type\": \"\",\n        \"description\": \"\"\n      }\n    },\n    {\n      \"column\": \"Episode\",\n      \"properties\": {\n        \"dtype\": \"category\",\n        \"num_unique_values\": 398,\n        \"samples\": [\n          \"Season-09 Episode-18-The One With The Lottery\",\n          \"Season-02 Episode-02-The One With the Breast Milk\",\n          \"Season-01 Episode-01-The One Where Monica Gets a New Roommate (The Pilot)\"\n        ],\n        \"semantic_type\": \"\",\n        \"description\": \"\"\n      }\n    },\n    {\n      \"column\": \"Show\",\n      \"properties\": {\n        \"dtype\": \"category\",\n        \"num_unique_values\": 2,\n        \"samples\": [\n          \"Seinfeld\",\n          \"Friends\"\n        ],\n        \"semantic_type\": \"\",\n        \"description\": \"\"\n      }\n    },\n    {\n      \"column\": \"Dialogue_length\",\n      \"properties\": {\n        \"dtype\": \"number\",\n        \"std\": 12,\n        \"min\": 1,\n        \"max\": 363,\n        \"num_unique_values\": 163,\n        \"samples\": [\n          182,\n          154\n        ],\n        \"semantic_type\": \"\",\n        \"description\": \"\"\n      }\n    }\n  ]\n}"
            }
          },
          "metadata": {},
          "execution_count": 4
        }
      ]
    },
    {
      "cell_type": "markdown",
      "source": [
        "Before moving on looking at the data, let's check for missing values:"
      ],
      "metadata": {
        "id": "JceRWRP-P2VF"
      }
    },
    {
      "cell_type": "code",
      "source": [
        "# Train set\n",
        "missing_values_count = full_train_data.isnull().sum()\n",
        "print(\"Missing values count per column in train data:\")\n",
        "print(missing_values_count)"
      ],
      "metadata": {
        "id": "_Ax2uMAG3Afh",
        "outputId": "7a272389-c5a3-495e-b44e-22954edd8866",
        "colab": {
          "base_uri": "https://localhost:8080/"
        }
      },
      "execution_count": 5,
      "outputs": [
        {
          "output_type": "stream",
          "name": "stdout",
          "text": [
            "Missing values count per column in train data:\n",
            "Dialogue           0\n",
            "Character          0\n",
            "Episode            0\n",
            "Show               0\n",
            "Dialogue_length    0\n",
            "dtype: int64\n"
          ]
        }
      ]
    },
    {
      "cell_type": "code",
      "source": [
        "# Test set\n",
        "missing_values_count = full_test_data.isnull().sum()\n",
        "print(\"Missing values count per column in test data:\")\n",
        "print(missing_values_count)"
      ],
      "metadata": {
        "colab": {
          "base_uri": "https://localhost:8080/"
        },
        "id": "5ATzDNXbQQVo",
        "outputId": "f74197b3-8fca-4e54-b5b3-4f827835aa9b"
      },
      "execution_count": 6,
      "outputs": [
        {
          "output_type": "stream",
          "name": "stdout",
          "text": [
            "Missing values count per column in test data:\n",
            "Dialogue           0\n",
            "Character          0\n",
            "Episode            0\n",
            "Show               0\n",
            "Dialogue_length    0\n",
            "dtype: int64\n"
          ]
        }
      ]
    },
    {
      "cell_type": "markdown",
      "source": [
        "No missing values found!"
      ],
      "metadata": {
        "id": "MClDaLoGQfIy"
      }
    },
    {
      "cell_type": "markdown",
      "source": [
        "Checking whether the train data is balanced:"
      ],
      "metadata": {
        "id": "uBoWMAkRQmdL"
      }
    },
    {
      "source": [
        "# Grouping by 'Show' and getting size\n",
        "grouped_data = full_train_data.groupby('Show').size()\n",
        "\n",
        "plt.figure(figsize=(4, 3))  # Adjust width and height as needed\n",
        "\n",
        "# Plotting the grouped data\n",
        "ax = grouped_data.plot(kind='barh', color=sns.palettes.mpl_palette('Dark2'))\n",
        "# Removing top and right spines\n",
        "ax.spines['top'].set_visible(False)\n",
        "ax.spines['right'].set_visible(False)\n",
        "\n",
        "# Adding count numbers near the plots with slight adjustments\n",
        "for i, count in enumerate(grouped_data):\n",
        "    ax.text(count + 0.1, i, str(count), va='center', ha='left')\n",
        "\n",
        "# Adding title\n",
        "plt.title(\"Number of Dialogues by Show\")\n",
        "\n",
        "plt.show()"
      ],
      "cell_type": "code",
      "execution_count": 7,
      "outputs": [
        {
          "output_type": "display_data",
          "data": {
            "text/plain": [
              "<Figure size 400x300 with 1 Axes>"
            ],
            "image/png": "[encoded data removed]"
          },
          "metadata": {}
        }
      ],
      "metadata": {
        "colab": {
          "base_uri": "https://localhost:8080/",
          "height": 314
        },
        "id": "6KfR80CxQzN1",
        "outputId": "1f7d378a-e9cc-4fe8-accd-b63348a9cac6"
      }
    },
    {
      "cell_type": "code",
      "source": [
        "# Display the character count per show\n",
        "full_train_data.groupby('Show')['Character'].nunique()"
      ],
      "metadata": {
        "id": "QNEEaoQVPUZE",
        "outputId": "9da79566-f5eb-4213-c657-99bbd3c7ead2",
        "colab": {
          "base_uri": "https://localhost:8080/"
        }
      },
      "execution_count": 8,
      "outputs": [
        {
          "output_type": "execute_result",
          "data": {
            "text/plain": [
              "Show\n",
              "Friends     6\n",
              "Seinfeld    4\n",
              "Name: Character, dtype: int64"
            ]
          },
          "metadata": {},
          "execution_count": 8
        }
      ]
    },
    {
      "cell_type": "markdown",
      "source": [
        "Looks like \"Friends\" has sligthly more dialouges than \"Seinfeld\", but overall it looks pretty balanced. <br>\n",
        "(Based on the fact that in Friends show there are more characters than in Seinfeld - 6 vs 4)\n",
        "\n",
        "Therefore we are expecting to see better results for \"Friends\" since there are more samples to learn from."
      ],
      "metadata": {
        "id": "KpUFYiyWQuAt"
      }
    },
    {
      "cell_type": "code",
      "source": [
        "# Dialouge exmaple\n",
        "full_train_data.iloc[1, 0]"
      ],
      "metadata": {
        "colab": {
          "base_uri": "https://localhost:8080/",
          "height": 35
        },
        "id": "eLwWVoqsSdFo",
        "outputId": "6430f0de-42a9-47e3-d3c2-d073a2901a87"
      },
      "execution_count": 9,
      "outputs": [
        {
          "output_type": "execute_result",
          "data": {
            "text/plain": [
              "' (to Joey) Are you gonna be embarrassed going up there having nothing prepared?'"
            ],
            "application/vnd.google.colaboratory.intrinsic+json": {
              "type": "string"
            }
          },
          "metadata": {},
          "execution_count": 9
        }
      ]
    },
    {
      "cell_type": "markdown",
      "source": [
        "Let's look at the number of dialogues each character has in its show:"
      ],
      "metadata": {
        "id": "il4Z_aaLRnpb"
      }
    },
    {
      "cell_type": "code",
      "source": [
        "# Define a function to plot histogram with count numbers\n",
        "def plot_histogram_with_counts(ax, data, title, xlabel, ylabel, color):\n",
        "    bars = ax.bar(data.index, data.values, color=color)\n",
        "    ax.set_title(title)\n",
        "    ax.set_xlabel(xlabel)\n",
        "    ax.set_ylabel(ylabel)\n",
        "    ax.set_xticks(data.index)\n",
        "    ax.set_xticklabels(data.index, rotation=45)\n",
        "    ax.grid(axis='y', linestyle='--', alpha=0.7)\n",
        "    # Adding count numbers above each column\n",
        "    for bar in bars:\n",
        "        height = bar.get_height()\n",
        "        ax.text(bar.get_x() + bar.get_width() / 2.0, height, '%d' % int(height), ha='center', va='bottom')\n"
      ],
      "metadata": {
        "id": "T4Cn4QJFTeQL"
      },
      "execution_count": 10,
      "outputs": []
    },
    {
      "cell_type": "code",
      "source": [
        "# Filter data for Seinfeld\n",
        "seinfeld_df = full_train_data[full_train_data['Show'] == 'Seinfeld']\n",
        "# Group by character and count dialogues\n",
        "seinfeld_character_counts = seinfeld_df['Character'].value_counts()\n",
        "seinfeld_characters = seinfeld_character_counts.index.tolist()\n",
        "\n",
        "# Filter data for Friends\n",
        "friends_df = full_train_data[full_train_data['Show'] == 'Friends']\n",
        "# Group by character and count dialogues\n",
        "friends_character_counts = friends_df['Character'].value_counts()\n",
        "friends_characters = friends_character_counts.index.tolist()\n",
        "\n",
        "# Create subplots\n",
        "fig, axes = plt.subplots(1, 2, figsize=(12, 5))\n",
        "\n",
        "# Plot histogram for Seinfeld\n",
        "plot_histogram_with_counts(axes[0], seinfeld_character_counts, 'Number of Dialogues per Character in Seinfeld', 'Character', 'Number of Dialogues', 'skyblue')\n",
        "\n",
        "# Plot histogram for Friends\n",
        "plot_histogram_with_counts(axes[1], friends_character_counts, 'Number of Dialogues per Character in Friends', 'Character', 'Number of Dialogues', 'salmon')\n",
        "\n",
        "plt.tight_layout()\n",
        "plt.show()"
      ],
      "metadata": {
        "colab": {
          "base_uri": "https://localhost:8080/",
          "height": 507
        },
        "id": "6ptFZ2nSTFwc",
        "outputId": "3891bd17-e091-4425-e4f4-699682dc41f4"
      },
      "execution_count": 11,
      "outputs": [
        {
          "output_type": "display_data",
          "data": {
            "text/plain": [
              "<Figure size 1200x500 with 2 Axes>"
            ],
            "image/png": "[encoded data removed]"
          },
          "metadata": {}
        }
      ]
    },
    {
      "cell_type": "markdown",
      "source": [
        "We can see that: <br>\n",
        "Seinfeld - Jerry has much more dialogues than the others. <br>\n",
        "Friends - the number of dialogues is more balanced."
      ],
      "metadata": {
        "id": "A34NaUcTR8dF"
      }
    },
    {
      "cell_type": "code",
      "source": [
        "# Dialogues Length Distribution\n",
        "# Plotting the distribution of dialogue lengths for each show to understand the typical length of dialogues\n",
        "def plot_dialogue_length_distribution(data, show_names):\n",
        "    plt.figure(figsize=(10, 6))\n",
        "\n",
        "    for show_name in show_names:\n",
        "        show_data = data[data['Show'] == show_name]\n",
        "        dialogue_lengths = show_data['Dialogue'].apply(lambda x: len(x.split()))\n",
        "        plt.hist(dialogue_lengths, bins=30, alpha=0.5, label=show_name)\n",
        "\n",
        "    plt.title('Dialogue Length Distribution Comparison')\n",
        "    plt.xlabel('Number of Words')\n",
        "    plt.ylabel('Frequency')\n",
        "    plt.grid(axis='y', alpha=0.75)\n",
        "    plt.legend()\n",
        "    plt.show()"
      ],
      "metadata": {
        "id": "jBZ1lEzQmxBe"
      },
      "execution_count": 12,
      "outputs": []
    },
    {
      "cell_type": "code",
      "source": [
        "plot_dialogue_length_distribution(full_train_data, ['Seinfeld', 'Friends'])"
      ],
      "metadata": {
        "id": "JXEtblknuxmP",
        "outputId": "271f1f7c-c300-4b77-dcc8-b05305d76242",
        "colab": {
          "base_uri": "https://localhost:8080/",
          "height": 564
        }
      },
      "execution_count": 13,
      "outputs": [
        {
          "output_type": "display_data",
          "data": {
            "text/plain": [
              "<Figure size 1000x600 with 1 Axes>"
            ],
            "image/png": "[encoded data removed]"
          },
          "metadata": {}
        }
      ]
    },
    {
      "cell_type": "markdown",
      "source": [
        "We can see that most of the sentences are short at both shows."
      ],
      "metadata": {
        "id": "ThbHWOwmTKVr"
      }
    },
    {
      "cell_type": "code",
      "source": [
        "# Function that finds the most common words\n",
        "def count_words_custom(col):\n",
        "    # Create an empty dictionary to store word counts\n",
        "    word_counts = {}\n",
        "\n",
        "    # Iterate over each row in the column\n",
        "    for row in col:\n",
        "        # Convert dialogue to lowercase and split into words\n",
        "        words = row.lower().split()\n",
        "\n",
        "        # Iterate over each word in the row\n",
        "        for word in words:\n",
        "            # Update word count dictionary\n",
        "            word_counts[word] = word_counts.get(word, 0) + 1\n",
        "\n",
        "    # Sort word counts by value in descending order\n",
        "    sorted_word_counts = sorted(word_counts.items(), key=lambda x: x[1], reverse=True)\n",
        "\n",
        "    # Extract top 20 words and their counts\n",
        "    top_words = [word for word, count in sorted_word_counts[:20]]\n",
        "    top_counts = [count for word, count in sorted_word_counts[:20]]\n",
        "\n",
        "    # Plot bar chart\n",
        "    plt.figure(figsize=(15, 5))\n",
        "    plt.bar(top_words, top_counts)\n",
        "    plt.xlabel('Words')\n",
        "    plt.ylabel('Frequency')\n",
        "    plt.title('Top 20 Most Common Words')\n",
        "    plt.xticks(rotation=45)\n",
        "    plt.show()"
      ],
      "metadata": {
        "id": "Kw_m1SYRU4Eb"
      },
      "execution_count": 14,
      "outputs": []
    },
    {
      "cell_type": "code",
      "source": [
        "count_words_custom(full_train_data['Dialogue'])"
      ],
      "metadata": {
        "colab": {
          "base_uri": "https://localhost:8080/",
          "height": 507
        },
        "id": "Dz2mUYSdVYmS",
        "outputId": "8de627ca-bc66-4ec5-aa14-6768e456b63a"
      },
      "execution_count": 15,
      "outputs": [
        {
          "output_type": "display_data",
          "data": {
            "text/plain": [
              "<Figure size 1500x500 with 1 Axes>"
            ],
            "image/png": "[encoded data removed]"
          },
          "metadata": {}
        }
      ]
    },
    {
      "cell_type": "markdown",
      "source": [
        "We can see that all the most common words are Stop Words. We want to see the frequency without them.\n",
        "\n",
        "For that we will implement data preprocessing steps:"
      ],
      "metadata": {
        "id": "Q3DxpmkCW-KG"
      }
    },
    {
      "cell_type": "markdown",
      "source": [
        "# General Preprocessing"
      ],
      "metadata": {
        "id": "M30eTBC_VDrY"
      }
    },
    {
      "cell_type": "markdown",
      "source": [
        "## Text cleaning"
      ],
      "metadata": {
        "id": "YahuK9cqYcyC"
      }
    },
    {
      "cell_type": "code",
      "source": [
        "# Removing the square brackets\n",
        "def remove_between_square_brackets(text):\n",
        "    return re.sub('\\[[^]]*\\]', '', text)"
      ],
      "metadata": {
        "id": "H_DFwqgCeDRz"
      },
      "execution_count": 16,
      "outputs": []
    },
    {
      "cell_type": "code",
      "source": [
        "# Expanding contractions\n",
        "def expand_contractions(text):\n",
        "    return(contractions.fix(text))"
      ],
      "metadata": {
        "id": "bz_BHJbYU9OL"
      },
      "execution_count": 17,
      "outputs": []
    },
    {
      "cell_type": "code",
      "source": [
        "# A function for removing special characters and expanding contractions\n",
        "def clean_text(text):\n",
        "  text = remove_between_square_brackets(text)\n",
        "  text = expand_contractions(text)\n",
        "  return text"
      ],
      "metadata": {
        "id": "VLhjw2D0VIsq"
      },
      "execution_count": 18,
      "outputs": []
    },
    {
      "cell_type": "code",
      "source": [
        "# Apply function on 'Dialogue' column\n",
        "full_train_data['Dialogue'] = full_train_data['Dialogue'].apply(clean_text)\n",
        "full_test_data['Dialogue'] = full_test_data['Dialogue'].apply(clean_text)"
      ],
      "metadata": {
        "id": "vZ28NjFJeFiS"
      },
      "execution_count": 19,
      "outputs": []
    },
    {
      "cell_type": "code",
      "source": [
        "full_train_data.iloc[1, 0]"
      ],
      "metadata": {
        "colab": {
          "base_uri": "https://localhost:8080/",
          "height": 35
        },
        "id": "WU0e7veoehPe",
        "outputId": "2f35681e-58be-4f55-f653-77565a8c0a6f"
      },
      "execution_count": 20,
      "outputs": [
        {
          "output_type": "execute_result",
          "data": {
            "text/plain": [
              "' (to Joey) Are you going to be embarrassed going up there having nothing prepared?'"
            ],
            "application/vnd.google.colaboratory.intrinsic+json": {
              "type": "string"
            }
          },
          "metadata": {},
          "execution_count": 20
        }
      ]
    },
    {
      "cell_type": "markdown",
      "source": [
        "## Special character removal"
      ],
      "metadata": {
        "id": "rktALPaIYimc"
      }
    },
    {
      "cell_type": "code",
      "source": [
        "# A function for removing special characters\n",
        "def remove_special_characters(text):\n",
        "    pattern = r'[^a-zA-Z0-9\\s]'\n",
        "    text = re.sub(pattern,'',text)\n",
        "    return text"
      ],
      "metadata": {
        "id": "Ar-QeINgYjAO"
      },
      "execution_count": 21,
      "outputs": []
    },
    {
      "cell_type": "code",
      "source": [
        "# Apply function on Dialogue column\n",
        "full_train_data['Dialogue'] = full_train_data['Dialogue'].apply(remove_special_characters)\n",
        "full_test_data['Dialogue'] = full_test_data['Dialogue'].apply(remove_special_characters)"
      ],
      "metadata": {
        "id": "Qr9vWxCeekRR"
      },
      "execution_count": 22,
      "outputs": []
    },
    {
      "cell_type": "code",
      "source": [
        "full_train_data.iloc[1, 0]"
      ],
      "metadata": {
        "colab": {
          "base_uri": "https://localhost:8080/",
          "height": 35
        },
        "id": "CdjVNWb1eoKE",
        "outputId": "c6103b17-0a6f-43ea-f1e1-b70ff2281426"
      },
      "execution_count": 23,
      "outputs": [
        {
          "output_type": "execute_result",
          "data": {
            "text/plain": [
              "' to Joey Are you going to be embarrassed going up there having nothing prepared'"
            ],
            "application/vnd.google.colaboratory.intrinsic+json": {
              "type": "string"
            }
          },
          "metadata": {},
          "execution_count": 23
        }
      ]
    },
    {
      "cell_type": "markdown",
      "source": [
        "## Stop words removal"
      ],
      "metadata": {
        "id": "oI-pgoYYYnZe"
      }
    },
    {
      "cell_type": "markdown",
      "source": [
        "We will use the NLTK in order to find all the English stop words and take a look at a few of them:"
      ],
      "metadata": {
        "id": "d0KsvHede3s3"
      }
    },
    {
      "cell_type": "code",
      "source": [
        "nltk.download('stopwords')\n",
        "stopword_list = nltk.corpus.stopwords.words('english')\n",
        "print('Number of English stop words:', len(stopword_list))\n",
        "print(stopword_list[:5])"
      ],
      "metadata": {
        "colab": {
          "base_uri": "https://localhost:8080/"
        },
        "id": "nJT4oS2iYnt6",
        "outputId": "72036473-ac2a-49fc-d43a-1575484c5f2d"
      },
      "execution_count": 24,
      "outputs": [
        {
          "output_type": "stream",
          "name": "stdout",
          "text": [
            "Number of English stop words: 179\n",
            "['i', 'me', 'my', 'myself', 'we']\n"
          ]
        },
        {
          "output_type": "stream",
          "name": "stderr",
          "text": [
            "[nltk_data] Downloading package stopwords to /root/nltk_data...\n",
            "[nltk_data]   Unzipping corpora/stopwords.zip.\n"
          ]
        }
      ]
    },
    {
      "cell_type": "code",
      "execution_count": 25,
      "metadata": {
        "id": "FkD9sOUQd0CU"
      },
      "outputs": [],
      "source": [
        "# Adding a progress bar to the output\n",
        "tqdm.pandas()\n",
        "\n",
        "# A function that removes the stop words from a given text\n",
        "def remove_stopwords(text, is_lower_case=False):\n",
        "    tokenizer = ToktokTokenizer()\n",
        "    tokens = tokenizer.tokenize(text)\n",
        "    tokens = [token.strip() for token in tokens]\n",
        "    if is_lower_case:\n",
        "        filtered_tokens = [token for token in tokens if token not in stopword_list]\n",
        "    else:\n",
        "        filtered_tokens = [token for token in tokens if token.lower() not in stopword_list]\n",
        "    filtered_text = ' '.join(filtered_tokens)\n",
        "    return filtered_text"
      ]
    },
    {
      "cell_type": "code",
      "source": [
        "# Apply function on Dialogue column\n",
        "full_train_data['Dialogue'] = full_train_data['Dialogue'].progress_apply(remove_stopwords)\n",
        "full_test_data['Dialogue'] = full_test_data['Dialogue'].progress_apply(remove_stopwords)"
      ],
      "metadata": {
        "colab": {
          "base_uri": "https://localhost:8080/",
          "height": 81,
          "referenced_widgets": [
            "da369e8c3657458d948193610645a6ed",
            "c509e8c4a3d44582b69f92518916d7ce",
            "43ce50186b854ba2ae4371ef148d4683",
            "235525f3244647cc9c87793dffdcc224",
            "f5069578247c4c5eae09cbd1edf99310",
            "d965c43cef7f4e0f907a4b8eb68873ed",
            "deab1afbbda64c3e82a85defbdda8343",
            "19351441e07344c2b55f2b2728ebeab2",
            "370a4bf67e5743039f0534ade43b6764",
            "abf65d56245742009e3bd01f3f85cf77",
            "5e939c82e4ad4f7b89eea947ffe458dd",
            "1c03d4370d284db78428567fc5d59b4f",
            "995de2e043734e4aac4aea5aecce8ad0",
            "eebec3439d76441099e07f900f6ec978",
            "e2842a524fd94c22b00350cf3a1cd43e",
            "23caab28195041c99233c2d3d9622714",
            "63147ba96dbc44da8d390ded7ae3580a",
            "a75705f989044dfe82eb06111639202e",
            "696771ec9a3b4baabe8557a9fcc4dafd",
            "9591b7d62b344d179d2d50368d598ffe",
            "62474766974d4fd1931613a08a7525ce",
            "2fe25ad883a845aa9cde3988fc9df2a9"
          ]
        },
        "id": "2CqzTFVmf9aC",
        "outputId": "6bdaa408-ca42-463f-d6fb-f2e8d0eff22b"
      },
      "execution_count": 26,
      "outputs": [
        {
          "output_type": "display_data",
          "data": {
            "text/plain": [
              "  0%|          | 0/70405 [00:00<?, ?it/s]"
            ],
            "application/vnd.jupyter.widget-view+json": {
              "version_major": 2,
              "version_minor": 0,
              "model_id": "da369e8c3657458d948193610645a6ed"
            }
          },
          "metadata": {}
        },
        {
          "output_type": "display_data",
          "data": {
            "text/plain": [
              "  0%|          | 0/4245 [00:00<?, ?it/s]"
            ],
            "application/vnd.jupyter.widget-view+json": {
              "version_major": 2,
              "version_minor": 0,
              "model_id": "1c03d4370d284db78428567fc5d59b4f"
            }
          },
          "metadata": {}
        }
      ]
    },
    {
      "cell_type": "code",
      "execution_count": 27,
      "metadata": {
        "colab": {
          "base_uri": "https://localhost:8080/",
          "height": 35
        },
        "id": "UUzvGzoUejo1",
        "outputId": "2175080a-db98-4f8c-a104-2ec87d30bc6c"
      },
      "outputs": [
        {
          "output_type": "execute_result",
          "data": {
            "text/plain": [
              "'Joey going embarrassed going nothing prepared'"
            ],
            "application/vnd.google.colaboratory.intrinsic+json": {
              "type": "string"
            }
          },
          "metadata": {},
          "execution_count": 27
        }
      ],
      "source": [
        "full_train_data.iloc[1, 0]"
      ]
    },
    {
      "cell_type": "markdown",
      "source": [
        "Now we can run the word count again and see the desired plotting:"
      ],
      "metadata": {
        "id": "NRXr2Ph8iLhL"
      }
    },
    {
      "cell_type": "code",
      "source": [
        "count_words_custom(full_train_data['Dialogue'])"
      ],
      "metadata": {
        "colab": {
          "base_uri": "https://localhost:8080/",
          "height": 512
        },
        "id": "YPDmlHUgiZrT",
        "outputId": "ddab7633-ef13-496e-f4b3-6fc7a2206ff9"
      },
      "execution_count": 28,
      "outputs": [
        {
          "output_type": "display_data",
          "data": {
            "text/plain": [
              "<Figure size 1500x500 with 1 Axes>"
            ],
            "image/png": "[encoded data removed]"
          },
          "metadata": {}
        }
      ]
    },
    {
      "cell_type": "markdown",
      "source": [
        "Now we can see that there are no more stop words from the english corpus left."
      ],
      "metadata": {
        "id": "Y0jDU5neVret"
      }
    },
    {
      "cell_type": "markdown",
      "metadata": {
        "id": "Tdei7JlEc_Ea"
      },
      "source": [
        "## Stemming"
      ]
    },
    {
      "cell_type": "code",
      "execution_count": 29,
      "metadata": {
        "id": "ZwTzs7SLlaTI"
      },
      "outputs": [],
      "source": [
        "# Stemming the text\n",
        "def simple_stemmer(text):\n",
        "    ps = nltk.porter.PorterStemmer()\n",
        "    text = ' '.join([ps.stem(word) for word in text.split()])\n",
        "    return text"
      ]
    },
    {
      "cell_type": "code",
      "source": [
        "# Apply function on Dialogue column\n",
        "full_train_data['Dialogue'] = full_train_data['Dialogue'].progress_apply(simple_stemmer)\n",
        "full_test_data['Dialogue'] = full_test_data['Dialogue'].progress_apply(simple_stemmer)"
      ],
      "metadata": {
        "colab": {
          "base_uri": "https://localhost:8080/",
          "height": 81,
          "referenced_widgets": [
            "388011fdb2e84f0897e2e8262deecb4e",
            "b89310ac45084088b7bf5aedb7ed1bf1",
            "598efa96ad274253bad6e8e6f2a4b81c",
            "8da30b8e88c94c669888e154db58870b",
            "78394c260f334af091048b5105c8a321",
            "8dab2f5704d04228a0d3cedd828df0e4",
            "c4eaa87275dc4478829ecdcef25a402b",
            "486ab0d6ea0441298584f270cba383f2",
            "d43adf961cbb44e8ad6fd1d35c37d38e",
            "270eddee7e744a3d8260c4b09efe67d5",
            "eb38aaf817d9497488aaa897b724982a",
            "6270438e6627494d9e9e2dbea314e6b2",
            "f8824746644f4f66b5d36dacaf938175",
            "2a090189ca934f6bbd984778783073fb",
            "ad5276433a054ff7b26604dd12fd7f1a",
            "681d22f4462a417784de916c6b6f3fc2",
            "0c346b2013f0420abba9891249f6c137",
            "32e64eb8d00d4d7f995cc335c7689851",
            "ff158b6dd2df4092b6798b19d0d64318",
            "5349e3d0336f40bc85fbe18e9a01bb41",
            "9af39a00178e423ab0ff927902d3f30c",
            "b2861955ceb6411e9fb4ef32e9f5151b"
          ]
        },
        "id": "7QY6vNm3WNCa",
        "outputId": "248d64d8-80e8-4158-9660-311604028a95"
      },
      "execution_count": 30,
      "outputs": [
        {
          "output_type": "display_data",
          "data": {
            "text/plain": [
              "  0%|          | 0/70405 [00:00<?, ?it/s]"
            ],
            "application/vnd.jupyter.widget-view+json": {
              "version_major": 2,
              "version_minor": 0,
              "model_id": "388011fdb2e84f0897e2e8262deecb4e"
            }
          },
          "metadata": {}
        },
        {
          "output_type": "display_data",
          "data": {
            "text/plain": [
              "  0%|          | 0/4245 [00:00<?, ?it/s]"
            ],
            "application/vnd.jupyter.widget-view+json": {
              "version_major": 2,
              "version_minor": 0,
              "model_id": "6270438e6627494d9e9e2dbea314e6b2"
            }
          },
          "metadata": {}
        }
      ]
    },
    {
      "cell_type": "code",
      "execution_count": 31,
      "metadata": {
        "colab": {
          "base_uri": "https://localhost:8080/",
          "height": 35
        },
        "id": "qGFPlnD_ZE8d",
        "outputId": "63efa2f3-76f8-40e0-f8e6-4e62e6f35a90"
      },
      "outputs": [
        {
          "output_type": "execute_result",
          "data": {
            "text/plain": [
              "'joey go embarrass go noth prepar'"
            ],
            "application/vnd.google.colaboratory.intrinsic+json": {
              "type": "string"
            }
          },
          "metadata": {},
          "execution_count": 31
        }
      ],
      "source": [
        "full_train_data.iloc[1, 0]"
      ]
    },
    {
      "cell_type": "markdown",
      "source": [
        "After preprocessing the data and preparing it to be used in our models we will split the data to Trand-Validation-Test:"
      ],
      "metadata": {
        "id": "JEWKnqqsWQso"
      }
    },
    {
      "cell_type": "markdown",
      "metadata": {
        "id": "mG1TBityfg1-"
      },
      "source": [
        "# Train-Validation-Test split"
      ]
    },
    {
      "cell_type": "code",
      "execution_count": 32,
      "metadata": {
        "id": "mc3bdh1CHGtw"
      },
      "outputs": [],
      "source": [
        "X_train = full_train_data['Dialogue']\n",
        "X_test = full_test_data['Dialogue']\n",
        "y_train = full_train_data['Show']\n",
        "y_test = full_test_data['Show']"
      ]
    },
    {
      "cell_type": "code",
      "source": [
        "# Train-Validation split\n",
        "X_train, X_val, y_train, y_val = train_test_split(X_train, y_train, test_size=0.2, random_state=42)\n",
        "\n",
        "X_train_original = X_train.copy()\n",
        "y_train_original = y_train.copy()\n",
        "\n",
        "X_val_original = X_val.copy()\n",
        "y_val_original = y_val.copy()\n",
        "\n",
        "X_test_original = X_test.copy()\n",
        "y_test_original = y_test.copy()\n",
        "\n",
        "print('x_train shape:', X_train.shape)\n",
        "print('y_train shape:', y_train.shape)\n",
        "print('\\nx_test shape:', X_test.shape)\n",
        "print('y_test shape:', y_test.shape)\n",
        "print('\\nx_val shape:', X_val.shape)\n",
        "print('y_val shape:', y_val.shape)"
      ],
      "metadata": {
        "id": "5yrZmcPJrmQa",
        "outputId": "05376c59-a59e-400e-bf72-4612e9177cdb",
        "colab": {
          "base_uri": "https://localhost:8080/"
        }
      },
      "execution_count": 33,
      "outputs": [
        {
          "output_type": "stream",
          "name": "stdout",
          "text": [
            "x_train shape: (56324,)\n",
            "y_train shape: (56324,)\n",
            "\n",
            "x_test shape: (4245,)\n",
            "y_test shape: (4245,)\n",
            "\n",
            "x_val shape: (14081,)\n",
            "y_val shape: (14081,)\n"
          ]
        }
      ]
    },
    {
      "cell_type": "markdown",
      "source": [
        "# Text Representation Techniques"
      ],
      "metadata": {
        "id": "t5h4TMJDVfw0"
      }
    },
    {
      "cell_type": "markdown",
      "source": [
        "In this section we will name all the text representation techniques that we will use and implement them:"
      ],
      "metadata": {
        "id": "6W0mToAAVme1"
      }
    },
    {
      "cell_type": "markdown",
      "source": [
        "Our aim is to make the representation of text in the model to be as meaningful, capturing important information such as word frequencies, semantic relationships, and contextual meaning."
      ],
      "metadata": {
        "id": "vd4vr_RjWYnI"
      }
    },
    {
      "cell_type": "markdown",
      "source": [
        "## Bag of Words (BOW)"
      ],
      "metadata": {
        "id": "8v4hFeBdVXgS"
      }
    },
    {
      "cell_type": "markdown",
      "source": [
        "<u>Positives:</u>\n",
        "\n",
        "1. Simple and Intuitive: BOW is easy to understand and implement, making it accessible for beginners and quick to deploy in NLP projects.\n",
        "\n",
        "2. Efficient: It requires minimal computational resources for both training and inference, making it suitable for large datasets and real-time applications.\n",
        "\n",
        "3. Versatility: BOW can be used with various machine learning algorithms, including traditional classifiers, making it applicable to a wide range of NLP tasks such as sentiment analysis, text classification, and document clustering.\n",
        "\n",
        "<u>Negatives:</u>\n",
        "\n",
        "1. Loss of Sequence Information: BOW disregards the order of words in the document, leading to the loss of sequential information. This can result in the model's inability to capture context and dependencies between words accurately.\n",
        "\n",
        "2. Sparse Representation: For large vocabularies or datasets with many unique words, the BOW representation can become highly sparse, leading to increased computational and memory requirements and potentially causing issues with model overfitting."
      ],
      "metadata": {
        "id": "UCmSTpK2VbVx"
      }
    },
    {
      "cell_type": "code",
      "source": [
        "def BOW_implementation(x_train, x_val, x_test):\n",
        "\n",
        "  cv = CountVectorizer(analyzer='word')\n",
        "\n",
        "  x_train_cv = cv.fit_transform(x_train)\n",
        "  x_val_cv = cv.transform(x_val)\n",
        "  x_test_cv = cv.transform(x_test)\n",
        "\n",
        "  return x_train_cv, x_val_cv, x_test_cv"
      ],
      "metadata": {
        "id": "hbIscZ3lW3EY"
      },
      "execution_count": 34,
      "outputs": []
    },
    {
      "cell_type": "code",
      "source": [
        "# x_train_cv, x_val_cv, x_test_cv = BOW_implementation(x_train, x_val, x_test)\n",
        "\n",
        "# print('x_train_cv:', x_train_cv.shape)\n",
        "# print('x_test_cv:', x_test_cv.shape)\n",
        "# print('x_val_cv:', x_val_cv.shape)"
      ],
      "metadata": {
        "id": "RyitjEdzfiCK"
      },
      "execution_count": 35,
      "outputs": []
    },
    {
      "cell_type": "markdown",
      "source": [
        "## Term Frequency-Inverse Document Frequency model (TF-IDF)"
      ],
      "metadata": {
        "id": "e6VKmyN8W4B1"
      }
    },
    {
      "cell_type": "markdown",
      "source": [
        "<u>Positives:</u>\n",
        "\n",
        "1. Term Importance: TF-IDF considers not only the frequency of words in the document but also their importance across the entire corpus. This helps in identifying and giving more weight to words that are rare but have significant meaning, improving the model's ability to capture important terms.\n",
        "\n",
        "2. Dimensionality Reduction: TF-IDF reduces the dimensionality of the feature space by weighting words based on their importance, resulting in a more compact representation compared to BOW. This can improve model efficiency and reduce computational complexity.\n",
        "\n",
        "3. Generalization: TF-IDF helps in generalizing the model by down-weighting common terms that appear frequently across documents but may not carry significant semantic meaning, leading to better model performance on unseen data.\n",
        "\n",
        "<u>Negatives:</u>\n",
        "\n",
        "1. Loss of Semantic Information: Like BOW, TF-IDF also ignores the order and context of words in the document, leading to the loss of semantic information. It treats each document as a collection of independent words, which may not accurately capture the document's overall meaning.\n",
        "\n",
        "2. Sensitivity to Document Length: TF-IDF may be sensitive to document length, as longer documents may have higher term frequencies, potentially biasing the model towards longer documents."
      ],
      "metadata": {
        "id": "OXHL8qB1btJB"
      }
    },
    {
      "cell_type": "markdown",
      "source": [
        "This is another way to convert the data to a numerical format. Like BoW, this algorithm is based on a term's popularity. However, its score is negatively correlated with its popularity in all documents.\n",
        "\n",
        "This time we're going to use only 5K different terms as a cut-off."
      ],
      "metadata": {
        "id": "w3ykYE1SXGhi"
      }
    },
    {
      "cell_type": "code",
      "source": [
        "def tfidf_implementation(x_train, x_val, x_test):\n",
        "\n",
        "  tv = TfidfVectorizer(analyzer='word', max_features=5000)\n",
        "\n",
        "  x_train_tv = tv.fit_transform(x_train)\n",
        "  x_val_tv = tv.transform(x_val)\n",
        "  x_test_tv = tv.transform(x_test)\n",
        "\n",
        "  return x_train_tv, x_val_tv, x_test_tv"
      ],
      "metadata": {
        "id": "wVXzAzIGW-KG"
      },
      "execution_count": 36,
      "outputs": []
    },
    {
      "cell_type": "code",
      "source": [
        "# x_train_tv, x_val_tv, x_test_tv = tfidf_implementation(x_train, x_val, x_test)\n",
        "\n",
        "# print('x_train_tv:', x_train_tv.shape)\n",
        "# print('x_test_tv:', x_test_tv.shape)\n",
        "# print('x_val_tv:', x_val_tv.shape)"
      ],
      "metadata": {
        "id": "jjKBdkIZfE7Q"
      },
      "execution_count": 37,
      "outputs": []
    },
    {
      "cell_type": "markdown",
      "source": [
        "## Word embeddings"
      ],
      "metadata": {
        "id": "YnvKhWctXM6f"
      }
    },
    {
      "cell_type": "markdown",
      "source": [
        "Word embeddings capture semantic relationships between words and provide a more nuanced representation of the text data compared to BOW and TF-IDF."
      ],
      "metadata": {
        "id": "O2Yyjy0gXT6Q"
      }
    },
    {
      "cell_type": "markdown",
      "source": [
        "The implementation will be a layer during the creation of the architecture and training of the final model."
      ],
      "metadata": {
        "id": "DEQmvbaIXWqm"
      }
    },
    {
      "cell_type": "markdown",
      "source": [
        "# Split-Based Preprocessing"
      ],
      "metadata": {
        "id": "f8eGy2ZHV9hm"
      }
    },
    {
      "cell_type": "markdown",
      "source": [
        "## Labeling"
      ],
      "metadata": {
        "id": "EIruMKat5Rx3"
      }
    },
    {
      "cell_type": "markdown",
      "source": [
        "We will change the labels \"Friends\" and \"Seinfeld\" to 1 and 0 accordingly:"
      ],
      "metadata": {
        "id": "ehRmXgBeXZ0N"
      }
    },
    {
      "cell_type": "code",
      "source": [
        "# Making sure that there are only two unique labels\n",
        "unique_shows = full_train_data['Show'].unique()\n",
        "print(\"Unique values in the 'show' column:\")\n",
        "print(unique_shows)"
      ],
      "metadata": {
        "id": "DRvT9XaK33Bw",
        "outputId": "9417301f-8d38-4057-9622-5adcf4998a1c",
        "colab": {
          "base_uri": "https://localhost:8080/"
        }
      },
      "execution_count": 38,
      "outputs": [
        {
          "output_type": "stream",
          "name": "stdout",
          "text": [
            "Unique values in the 'show' column:\n",
            "['Friends' 'Seinfeld']\n"
          ]
        }
      ]
    },
    {
      "cell_type": "markdown",
      "source": [
        "As we saw above - we have only 2 values in 'Show' columns : Friends and Seindfeld. <br>\n",
        "Therefore we will change our label into binary numbers : Seinfeld = 0 , Friends = 1"
      ],
      "metadata": {
        "id": "lTQ1XhTGXzcp"
      }
    },
    {
      "cell_type": "code",
      "source": [
        "# custom_labels = ['Seinfeld', 'Friends']\n",
        "def labeling_implementation(y_train, y_val, y_test):\n",
        "\n",
        "  # Initialize LabelBinarizer\n",
        "  lb = LabelBinarizer()\n",
        "\n",
        "  # Fit and transform custom labels\n",
        "  y_train = lb.fit_transform(y_train)\n",
        "  y_val = lb.transform(y_val)\n",
        "  y_test = lb.transform(y_test)\n",
        "\n",
        "  return y_train, y_val, y_test"
      ],
      "metadata": {
        "id": "lnPv7VT12dKP"
      },
      "execution_count": 39,
      "outputs": []
    },
    {
      "cell_type": "code",
      "source": [
        "y_train, y_val, y_test = labeling_implementation(y_train, y_val, y_test)\n",
        "y_train"
      ],
      "metadata": {
        "colab": {
          "base_uri": "https://localhost:8080/"
        },
        "id": "lLv5o_vNhL5G",
        "outputId": "4f4c77e2-6b24-433f-9943-5aa7dc0dcbac"
      },
      "execution_count": 40,
      "outputs": [
        {
          "output_type": "execute_result",
          "data": {
            "text/plain": [
              "array([[1],\n",
              "       [1],\n",
              "       [0],\n",
              "       ...,\n",
              "       [1],\n",
              "       [1],\n",
              "       [1]])"
            ]
          },
          "metadata": {},
          "execution_count": 40
        }
      ]
    },
    {
      "cell_type": "markdown",
      "source": [
        "## Deep Learning Preprocessing"
      ],
      "metadata": {
        "id": "G1aNpgrTah4Y"
      }
    },
    {
      "cell_type": "markdown",
      "source": [
        "### Text tokenization"
      ],
      "metadata": {
        "id": "Qcz-Ji7ovJWt"
      }
    },
    {
      "cell_type": "markdown",
      "metadata": {
        "id": "19YCaSiXWrlj"
      },
      "source": [
        "For our deep learning model we will convert the text data into a suitable format of data (numeric form) using the Keras' tokenizer:"
      ]
    },
    {
      "cell_type": "code",
      "source": [
        "X_train_before_token = X_train"
      ],
      "metadata": {
        "id": "18lJVQ9Aa0RB"
      },
      "execution_count": 41,
      "outputs": []
    },
    {
      "cell_type": "code",
      "source": [
        "token = Tokenizer(lower=False)\n",
        "token.fit_on_texts(X_train)"
      ],
      "metadata": {
        "id": "7ixR51aCb8bX"
      },
      "execution_count": 42,
      "outputs": []
    },
    {
      "cell_type": "code",
      "source": [
        "def text_tokenization(X_train, X_val, X_test):\n",
        "\n",
        "  token = Tokenizer(lower=False)\n",
        "  token.fit_on_texts(X_train)\n",
        "\n",
        "  X_train_dl = token.texts_to_sequences(X_train)\n",
        "  X_val_dl = token.texts_to_sequences(X_val)\n",
        "  X_test_dl = token.texts_to_sequences(X_test)\n",
        "\n",
        "  return X_train_dl, X_val_dl, X_test_dl"
      ],
      "metadata": {
        "id": "FnuggKLzar-N"
      },
      "execution_count": 43,
      "outputs": []
    },
    {
      "cell_type": "code",
      "source": [
        "X_train, X_val, X_test = text_tokenization(X_train, X_val, X_test)"
      ],
      "metadata": {
        "id": "wKV6EOFLbFFX"
      },
      "execution_count": 44,
      "outputs": []
    },
    {
      "cell_type": "markdown",
      "source": [
        "Before:"
      ],
      "metadata": {
        "id": "q0c5PoecbDMP"
      }
    },
    {
      "cell_type": "code",
      "source": [
        "X_train_before_token[1]"
      ],
      "metadata": {
        "colab": {
          "base_uri": "https://localhost:8080/",
          "height": 35
        },
        "id": "EBGXBKmXbEI5",
        "outputId": "5e7dade5-b73d-4d33-e3a3-60f90da688ca"
      },
      "execution_count": 45,
      "outputs": [
        {
          "output_type": "execute_result",
          "data": {
            "text/plain": [
              "'joey go embarrass go noth prepar'"
            ],
            "application/vnd.google.colaboratory.intrinsic+json": {
              "type": "string"
            }
          },
          "metadata": {},
          "execution_count": 45
        }
      ]
    },
    {
      "cell_type": "markdown",
      "source": [
        "After:"
      ],
      "metadata": {
        "id": "ObTVNeuUbE9f"
      }
    },
    {
      "cell_type": "code",
      "source": [
        "token.texts_to_sequences([X_train_before_token[1]])"
      ],
      "metadata": {
        "id": "NtrqrPHODQvZ",
        "outputId": "a53f2d30-635f-49fe-ae4c-1349b63a76d0",
        "colab": {
          "base_uri": "https://localhost:8080/"
        }
      },
      "execution_count": 46,
      "outputs": [
        {
          "output_type": "execute_result",
          "data": {
            "text/plain": [
              "[[35, 1, 607, 1, 99, 1282]]"
            ]
          },
          "metadata": {},
          "execution_count": 46
        }
      ]
    },
    {
      "cell_type": "markdown",
      "source": [
        "### Sequence padding"
      ],
      "metadata": {
        "id": "V7kY5N9Hw-31"
      }
    },
    {
      "cell_type": "markdown",
      "source": [
        "In order to train our Neural Network, we need the dataset to be with a fixed amount of features (in our case - words\\tokens). Thus, we will apply padding  on the data."
      ],
      "metadata": {
        "id": "ra09b-30DyIu"
      }
    },
    {
      "cell_type": "markdown",
      "metadata": {
        "id": "_8RkUYqCYNFh"
      },
      "source": [
        "Calculate dialouge lengths:"
      ]
    },
    {
      "cell_type": "code",
      "execution_count": 47,
      "metadata": {
        "id": "SiyF_j3XYF4R",
        "outputId": "a85bc0c0-2879-4fd2-8a9c-a2c6442c5bd1",
        "colab": {
          "base_uri": "https://localhost:8080/"
        }
      },
      "outputs": [
        {
          "output_type": "stream",
          "name": "stdout",
          "text": [
            "Longest dialouge: 166\n",
            "Shortet dialouge:  0\n",
            "Average dialouge: 5.3504012499112275\n"
          ]
        }
      ],
      "source": [
        "# Calculate the dialouge length\n",
        "dialouge_len_list = [len(dialouge) for dialouge in X_train]\n",
        "\n",
        "print (\"Longest dialouge:\", max(dialouge_len_list))\n",
        "print(\"Shortet dialouge: \", min(dialouge_len_list))\n",
        "print(\"Average dialouge:\", np.mean(dialouge_len_list))"
      ]
    },
    {
      "cell_type": "markdown",
      "metadata": {
        "id": "yBMjk6ixYuFP"
      },
      "source": [
        "Let's examine the distribution:"
      ]
    },
    {
      "cell_type": "code",
      "execution_count": 48,
      "metadata": {
        "colab": {
          "base_uri": "https://localhost:8080/",
          "height": 450
        },
        "id": "S0GUFtOuYliw",
        "outputId": "32e2ce9a-176b-4812-9d02-befbbc37ce4f"
      },
      "outputs": [
        {
          "output_type": "execute_result",
          "data": {
            "text/plain": [
              "<Axes: ylabel='Count'>"
            ]
          },
          "metadata": {},
          "execution_count": 48
        },
        {
          "output_type": "display_data",
          "data": {
            "text/plain": [
              "<Figure size 640x480 with 1 Axes>"
            ],
            "image/png": "[encoded data removed]"
          },
          "metadata": {}
        }
      ],
      "source": [
        "sns.histplot(dialouge_len_list)"
      ]
    },
    {
      "cell_type": "markdown",
      "metadata": {
        "id": "f2KsST2otG94"
      },
      "source": [
        "We want to make sure that all dialouges have the same length. According to the distribution, 40 seems like a reasonable shared value:"
      ]
    },
    {
      "cell_type": "code",
      "source": [
        "max_words = 40"
      ],
      "metadata": {
        "id": "XVK_h5xXy9-O"
      },
      "execution_count": 49,
      "outputs": []
    },
    {
      "cell_type": "code",
      "source": [
        "def sequence_padding(X_train, X_val, X_test, max_words):\n",
        "\n",
        "  X_train_dl = sequence.pad_sequences(X_train, maxlen=max_words)\n",
        "  X_val_dl = sequence.pad_sequences(X_val, maxlen=max_words)\n",
        "  X_test_dl = sequence.pad_sequences(X_test, maxlen=max_words)\n",
        "\n",
        "  return X_train_dl, X_val_dl, X_test_dl"
      ],
      "metadata": {
        "id": "rJCSbpW5cBhp"
      },
      "execution_count": 50,
      "outputs": []
    },
    {
      "cell_type": "code",
      "execution_count": 51,
      "metadata": {
        "id": "LqiBbfdSHkAv"
      },
      "outputs": [],
      "source": [
        "X_train, X_val, X_test = sequence_padding(X_train, X_val, X_test, max_words)"
      ]
    },
    {
      "cell_type": "markdown",
      "metadata": {
        "id": "WUrNm3QSs-kT"
      },
      "source": [
        "Let's see what a sample look like:"
      ]
    },
    {
      "cell_type": "code",
      "execution_count": 52,
      "metadata": {
        "colab": {
          "base_uri": "https://localhost:8080/"
        },
        "id": "cvsYEH7FOkSp",
        "outputId": "85da32e9-e253-4aef-bd3a-58bf1fec93c3"
      },
      "outputs": [
        {
          "output_type": "execute_result",
          "data": {
            "text/plain": [
              "(56324, 40)"
            ]
          },
          "metadata": {},
          "execution_count": 52
        }
      ],
      "source": [
        "X_train.shape"
      ]
    },
    {
      "cell_type": "code",
      "execution_count": 53,
      "metadata": {
        "colab": {
          "base_uri": "https://localhost:8080/"
        },
        "id": "ozLXZoO7wszJ",
        "outputId": "5780e5be-6284-4ad5-8134-d182ac98fd50"
      },
      "outputs": [
        {
          "output_type": "execute_result",
          "data": {
            "text/plain": [
              "array([   0,    0,    0,    0,    0,    0,    0,    0,    0,    0,    0,\n",
              "          0,    0,    0,    0,    0,    0,    0,    0,    0,    0,    0,\n",
              "          0,    0,    0,    0,    0,    0,    0,  268,  247,  340,  834,\n",
              "          3, 4205, 4885,  159,    3,   52,  340], dtype=int32)"
            ]
          },
          "metadata": {},
          "execution_count": 53
        }
      ],
      "source": [
        "X_train[10, :]"
      ]
    },
    {
      "cell_type": "code",
      "execution_count": 54,
      "metadata": {
        "colab": {
          "base_uri": "https://localhost:8080/"
        },
        "id": "BMk45bdtUbc-",
        "outputId": "3fb2ae5f-d0c2-45a4-dfa5-2058da39929c"
      },
      "outputs": [
        {
          "output_type": "stream",
          "name": "stdout",
          "text": [
            "Number of unique words in both shows after preprocessing: 15576\n"
          ]
        }
      ],
      "source": [
        "total_words = len(token.word_index) + 1\n",
        "print(\"Number of unique words in both shows after preprocessing:\", total_words)"
      ]
    },
    {
      "cell_type": "markdown",
      "source": [
        "# Final preprocessing function"
      ],
      "metadata": {
        "id": "R-LRYdO1lUND"
      }
    },
    {
      "cell_type": "markdown",
      "source": [
        "As discussed earlier, there are 3 different approaches of text representation, thus, we need to preprocess accordingly:"
      ],
      "metadata": {
        "id": "aWAXA2mglYo1"
      }
    },
    {
      "cell_type": "markdown",
      "source": [
        "Starting with the general features preprocessing:"
      ],
      "metadata": {
        "id": "KNAfKBZP0IB-"
      }
    },
    {
      "cell_type": "code",
      "source": [
        "def features_preproccesing(X_original):\n",
        "\n",
        "  # Text cleaning\n",
        "  X_original = X_original.apply(clean_text)\n",
        "\n",
        "  # Special character removal\n",
        "  X_original = X_original.apply(remove_special_characters)\n",
        "\n",
        "  # Stop words removal\n",
        "  X_original = X_original.progress_apply(remove_stopwords)\n",
        "\n",
        "  # Stemming\n",
        "  X_original = X_original.progress_apply(simple_stemmer)\n",
        "\n",
        "  return X_original"
      ],
      "metadata": {
        "id": "eO8HKjm-lY36"
      },
      "execution_count": 55,
      "outputs": []
    },
    {
      "cell_type": "markdown",
      "source": [
        "Applying these changes to each dataset and encoding the labels as decicded:"
      ],
      "metadata": {
        "id": "JZMWUm4e0N2k"
      }
    },
    {
      "cell_type": "code",
      "source": [
        "def general_preprocessing(X_train_original, y_train_original, X_val_original, y_val_original, X_test_original, y_test_original):\n",
        "\n",
        "  print(\"X_train preprocessing:\")\n",
        "  X_train_original = features_preproccesing(X_train_original)\n",
        "\n",
        "  print(\"\\nX_val preprocessing:\")\n",
        "  X_val_original = features_preproccesing(X_val_original)\n",
        "\n",
        "  print(\"\\nX_test preprocessing:\")\n",
        "  X_test_original = features_preproccesing(X_test_original)\n",
        "\n",
        "  y_train_original, y_val_original, y_test_original = labeling_implementation(y_train_original, y_val_original, y_test_original)\n",
        "\n",
        "  print(\"\\nFull preprocessing done!\")\n",
        "\n",
        "  return X_train_original, y_train_original, X_val_original, y_val_original, X_test_original, y_test_original"
      ],
      "metadata": {
        "id": "xb5JaxqbdPTn"
      },
      "execution_count": 56,
      "outputs": []
    },
    {
      "cell_type": "code",
      "source": [
        "X_train_ppc, y_train_ppc, X_val_ppc, y_val_ppc, X_test_ppc, y_test_ppc = general_preprocessing(X_train_original.copy(), y_train_original.copy(), X_val_original.copy(), y_val_original.copy(), X_test_original.copy(), y_test_original.copy())"
      ],
      "metadata": {
        "colab": {
          "base_uri": "https://localhost:8080/",
          "height": 330,
          "referenced_widgets": [
            "d13a5f9862774ac0b788ee707a3479cc",
            "6a399c812db54d6c9569e658d372a8e6",
            "42e54c747dea4903b5661fd5efadc20a",
            "70bd484d5aab4e799a6cb526ad26e83c",
            "634024a3b87c4a9c84437c6ea907b0e4",
            "983e5b7a61be4052bd329e90c948a4bb",
            "4c60ca9d59174a2aa169ccab084f3b44",
            "a5ab8a4115ff44c698d8d71851105b6f",
            "563bc5fb9d224787a34cc00b26240d17",
            "df19e34b552d4abe968e265adffa16ec",
            "6c995eac896641fabbe9ba1889145472",
            "82dfdf78b05c4ed28c677b9e19fa5c73",
            "a5adea2fe7884028baad8782cd459676",
            "85a78958d55b4eaa9ff9125b9768ee51",
            "332c8d70b6aa4f269c0fbe9c6270757f",
            "db725639f258495ebd54a8006c2d3959",
            "2183980bc34c489cab994dcdcb3e408d",
            "a2e3dbefe0a048899dd51a90ee549341",
            "41faf0e9ce4141eeb4fb2e57d40e8527",
            "c84e91c9549d42be8d9ae17e5cb4aaab",
            "d4a433ca7082431faff3209a903fa9e0",
            "0efcc6fe97724f059aa7d5aa1ceca7ef",
            "8d5ae4f810704b36bd5811a899d7b911",
            "84b3a502ed8b4d5db48a08959f10db34",
            "b97764166be94e86942e7e78fbd25821",
            "8ca8892ae60149988eb73345be9fd8f7",
            "fd313cdf2eda4ae8a7432aea3ffb4510",
            "73b73f4c502648b8a8d81dd381f5009b",
            "e7dc4b9229814754ac560829a8fd974f",
            "a456b922903f4e218f49957176e41949",
            "c9cbd2d14afb4839a1bb15f873c69570",
            "c62254c1ea9d4f97b2170a3bddc9e8df",
            "f37bd3445a5a4a88bed2954bb86990f6",
            "a0feefa1637d445a9fc961fb57113f71",
            "bf172b84a9f844aaa39d6f57df7016a8",
            "b0ec469a50c74ae7bbdd383844e1b00d",
            "38e59d6cf3234eb5a938329181dfdd49",
            "a18e337055e048c99503a541967c9cee",
            "08ae8f7aa96544548f0d3f5103f9c1bd",
            "32c197cb3f5a4f8694589fe316d69784",
            "53cf5573e4ac46e199bfc050373a81f1",
            "6c997413b0304dd181249b2a5282bb5e",
            "f3c98ca898954e33a4da6249fe0abc11",
            "bbfadd252594456eb6e9eec487a71cc0",
            "0cb290d37ed14819a0eefb499c812fa3",
            "ad504a57a2d441d196052ce1216094ec",
            "84375e566ec741b988e0ab627a248e3e",
            "85d3314664bd4e778c834f7f49fdc317",
            "0bc8aa588bf5466286558d4fbefb2f2e",
            "2b1dc08ab7884178ab743e3523a56858",
            "d46d9edf84854d75963fb58e6b04bfa1",
            "f106f6c0638249fe9a890777403e9527",
            "b86f5520d337424ea578c8186260914c",
            "eade02a0237e45f69ccadcf2b79a2a44",
            "e5661dd16e0e4865984016b810169b1e",
            "23668d552e064408a851f3bd5ada2425",
            "609a652e944048579d37ae543e503494",
            "91f9ae1508b5448bb949f06804c52e78",
            "6d4195f151174dd0afabe4055bbbf9a7",
            "6ecf997628ba482aa02a099753eec5b6",
            "e2121a567d8d4ff48a592a0a64761283",
            "5c2097aec0444af08d9ca66e1e211ad9",
            "ada09dea1bfa4eaea19f9502d7609954",
            "652d7078554941ae82f66ce1f00b7250",
            "1384208117aa45c8b0d0404e1aa403a0",
            "6647be85f61e4e67a87822460fb6f66a"
          ]
        },
        "id": "NKr14bblj05i",
        "outputId": "67bfb2c6-f0a6-410f-dcba-6662ade3876e"
      },
      "execution_count": 57,
      "outputs": [
        {
          "output_type": "stream",
          "name": "stdout",
          "text": [
            "X_train preprocessing:\n"
          ]
        },
        {
          "output_type": "display_data",
          "data": {
            "text/plain": [
              "  0%|          | 0/56324 [00:00<?, ?it/s]"
            ],
            "application/vnd.jupyter.widget-view+json": {
              "version_major": 2,
              "version_minor": 0,
              "model_id": "d13a5f9862774ac0b788ee707a3479cc"
            }
          },
          "metadata": {}
        },
        {
          "output_type": "display_data",
          "data": {
            "text/plain": [
              "  0%|          | 0/56324 [00:00<?, ?it/s]"
            ],
            "application/vnd.jupyter.widget-view+json": {
              "version_major": 2,
              "version_minor": 0,
              "model_id": "82dfdf78b05c4ed28c677b9e19fa5c73"
            }
          },
          "metadata": {}
        },
        {
          "output_type": "stream",
          "name": "stdout",
          "text": [
            "\n",
            "X_val preprocessing:\n"
          ]
        },
        {
          "output_type": "display_data",
          "data": {
            "text/plain": [
              "  0%|          | 0/14081 [00:00<?, ?it/s]"
            ],
            "application/vnd.jupyter.widget-view+json": {
              "version_major": 2,
              "version_minor": 0,
              "model_id": "8d5ae4f810704b36bd5811a899d7b911"
            }
          },
          "metadata": {}
        },
        {
          "output_type": "display_data",
          "data": {
            "text/plain": [
              "  0%|          | 0/14081 [00:00<?, ?it/s]"
            ],
            "application/vnd.jupyter.widget-view+json": {
              "version_major": 2,
              "version_minor": 0,
              "model_id": "a0feefa1637d445a9fc961fb57113f71"
            }
          },
          "metadata": {}
        },
        {
          "output_type": "stream",
          "name": "stdout",
          "text": [
            "\n",
            "X_test preprocessing:\n"
          ]
        },
        {
          "output_type": "display_data",
          "data": {
            "text/plain": [
              "  0%|          | 0/4245 [00:00<?, ?it/s]"
            ],
            "application/vnd.jupyter.widget-view+json": {
              "version_major": 2,
              "version_minor": 0,
              "model_id": "0cb290d37ed14819a0eefb499c812fa3"
            }
          },
          "metadata": {}
        },
        {
          "output_type": "display_data",
          "data": {
            "text/plain": [
              "  0%|          | 0/4245 [00:00<?, ?it/s]"
            ],
            "application/vnd.jupyter.widget-view+json": {
              "version_major": 2,
              "version_minor": 0,
              "model_id": "23668d552e064408a851f3bd5ada2425"
            }
          },
          "metadata": {}
        },
        {
          "output_type": "stream",
          "name": "stdout",
          "text": [
            "\n",
            "Full preprocessing done!\n"
          ]
        }
      ]
    },
    {
      "cell_type": "markdown",
      "source": [
        "After we have the basic preprocessed data we should prepare the data for BOW representation, TF-IDF represantation and the convolutional neural network:"
      ],
      "metadata": {
        "id": "gkbUz6HD0XFZ"
      }
    },
    {
      "cell_type": "code",
      "source": [
        "def deep_learning_preprocessing(X_train, X_val, X_test, max_words):\n",
        "\n",
        "  X_train_dl, X_val_dl, X_test_dl = text_tokenization(X_train, X_val, X_test)\n",
        "  X_train_dl, X_val_dl, X_test_dl = sequence_padding(X_train_dl, X_val_dl, X_test_dl, max_words)\n",
        "\n",
        "  return X_train_dl, X_val_dl, X_test_dl"
      ],
      "metadata": {
        "id": "CcZq6poaTzNh"
      },
      "execution_count": 58,
      "outputs": []
    },
    {
      "cell_type": "code",
      "source": [
        "X_train_dl, X_val_dl, X_test_dl = deep_learning_preprocessing(X_train_ppc.copy(), X_val_ppc.copy(), X_test_ppc.copy(), max_words)"
      ],
      "metadata": {
        "id": "X2vxc_8sOmJU"
      },
      "execution_count": 59,
      "outputs": []
    },
    {
      "cell_type": "code",
      "source": [
        "x_train_cv, x_val_cv, x_test_cv = BOW_implementation(X_train_ppc.copy(), X_val_ppc.copy(), X_test_ppc.copy())"
      ],
      "metadata": {
        "id": "nXFjQzDZxX-O"
      },
      "execution_count": 60,
      "outputs": []
    },
    {
      "cell_type": "code",
      "source": [
        "x_train_tv, x_val_tv, x_test_tv = tfidf_implementation(X_train_ppc.copy(), X_val_ppc.copy(), X_test_ppc.copy())"
      ],
      "metadata": {
        "id": "KSnrncofx7QZ"
      },
      "execution_count": 61,
      "outputs": []
    },
    {
      "cell_type": "markdown",
      "source": [
        "# Modeling"
      ],
      "metadata": {
        "id": "_58J58NQVpBV"
      }
    },
    {
      "cell_type": "markdown",
      "source": [
        "In this section we will run several Machine Learning and Deep Learning models with different types of text-representation techniques (BOW, TF-IDF and word embedding)"
      ],
      "metadata": {
        "id": "0avcni4mIe2x"
      }
    },
    {
      "cell_type": "markdown",
      "source": [
        "## Logistic Regression"
      ],
      "metadata": {
        "id": "qEiDaFgudEqe"
      }
    },
    {
      "cell_type": "markdown",
      "source": [
        "### BOW"
      ],
      "metadata": {
        "id": "x2FcL1GTkE_K"
      }
    },
    {
      "cell_type": "code",
      "source": [
        "def bow_logistic_regression(x_train_cv, y_train):\n",
        "\n",
        "  begin_time = datetime.datetime.now()\n",
        "  lr_bow = LogisticRegression(penalty='l2', max_iter=500, random_state=42)\n",
        "  lr_bow.fit(x_train_cv, y_train.ravel())\n",
        "  print('BOW time (seconds): ', str((datetime.datetime.now() - begin_time).seconds))\n",
        "\n",
        "  return lr_bow"
      ],
      "metadata": {
        "id": "Y0fZtXxCkNgY"
      },
      "execution_count": 62,
      "outputs": []
    },
    {
      "cell_type": "markdown",
      "source": [
        "### TF-IDF"
      ],
      "metadata": {
        "id": "rL5bcMPBkLg4"
      }
    },
    {
      "cell_type": "code",
      "source": [
        "def tfidf_logistic_regression(x_train_tv, y_train):\n",
        "\n",
        "  begin_time = datetime.datetime.now()\n",
        "  lr_tfidf = LogisticRegression(penalty='l2', max_iter=500, random_state=42)\n",
        "  lr_tfidf.fit(x_train_tv, y_train.ravel())\n",
        "  print('TFIDF time (seconds): ', str((datetime.datetime.now() - begin_time).seconds))\n",
        "\n",
        "  return lr_tfidf"
      ],
      "metadata": {
        "id": "ij-BmV1rdMpw"
      },
      "execution_count": 63,
      "outputs": []
    },
    {
      "cell_type": "markdown",
      "source": [
        "## Random Forest"
      ],
      "metadata": {
        "id": "wtFjmtIxdEb2"
      }
    },
    {
      "cell_type": "markdown",
      "source": [
        "### BOW"
      ],
      "metadata": {
        "id": "g5BUnRLPyl2X"
      }
    },
    {
      "cell_type": "code",
      "source": [
        "def bow_random_forest(x_train_cv, y_train):\n",
        "\n",
        "  begin_time = datetime.datetime.now()\n",
        "  rf_bow = RandomForestClassifier(random_state=42, n_jobs=-1, max_features=1/3, max_depth=5, n_estimators=100)\n",
        "  rf_bow.fit(x_train_cv, y_train.ravel())\n",
        "  print('BOW time (seconds): ', str((datetime.datetime.now() - begin_time).seconds))\n",
        "\n",
        "  return rf_bow"
      ],
      "metadata": {
        "id": "xnULTA76yPpp"
      },
      "execution_count": 68,
      "outputs": []
    },
    {
      "cell_type": "markdown",
      "source": [
        "### TF-IDF"
      ],
      "metadata": {
        "id": "eONgWPYxynSY"
      }
    },
    {
      "cell_type": "code",
      "source": [
        "def tfidf_random_forest(x_train_tv, y_train):\n",
        "\n",
        "  begin_time = datetime.datetime.now()\n",
        "  rf_tfidf = RandomForestClassifier(random_state=42, n_jobs=-1, max_features=1/3, max_depth=5, n_estimators=100)\n",
        "  rf_tfidf.fit(x_train_tv, y_train.ravel())\n",
        "  print('TFIDF time (seconds): ', str((datetime.datetime.now() - begin_time).seconds))\n",
        "\n",
        "  return rf_tfidf"
      ],
      "metadata": {
        "id": "T1sxE5zXdSC6"
      },
      "execution_count": 69,
      "outputs": []
    },
    {
      "cell_type": "markdown",
      "source": [
        "## Convolutional Neural Network with an Embedding Layer"
      ],
      "metadata": {
        "id": "wA-x7yP2dADC"
      }
    },
    {
      "cell_type": "markdown",
      "metadata": {
        "id": "MPlr4HFKZn24"
      },
      "source": [
        "Let's build the architecture:"
      ]
    },
    {
      "cell_type": "markdown",
      "source": [
        " Building an architecture of a convolutional neural network (CNN) implemented using Keras. <br>\n",
        "After having experiments with the model architecture we found that the best one consists : <br>\n",
        "a Sequential model to define a linear stack of layers, <br>\n",
        " an Embedding Layer that converts input integer sequences into dense vectors,  <br>\n",
        " two Conv1D layers with different filter sizes and activation functions to capture local patterns in the text, <br>\n",
        " a Flatten Layer to prepare the output for the dense layers, <br>\n",
        "Dense Layers with ReLU activation and a Dropout layer to prevent overfitting,\n",
        "<br> and a final Dense layer with sigmoid activation for binary classification.\n",
        "<br> The model is compiled using binary crossentropy loss and Adam optimizer, which adjusts learning rates for each parameter."
      ],
      "metadata": {
        "id": "zcO8AvY6-8QI"
      }
    },
    {
      "cell_type": "code",
      "source": [
        "# Define the model\n",
        "model = Sequential()\n",
        "embedding_dimension = 32\n",
        "model.add(Embedding(input_dim=total_words, output_dim=embedding_dimension, input_length=max_words))\n",
        "model.add(Conv1D(filters=16, kernel_size=3, padding='same', activation='relu'))\n",
        "model.add(Conv1D(filters=128, kernel_size=3, padding='same', activation='relu'))\n",
        "model.add(Flatten())\n",
        "model.add(Dense(128, activation='relu'))\n",
        "model.add(Dropout(0.3))\n",
        "model.add(Dense(1, activation='sigmoid'))\n",
        "\n",
        "# Compile the model\n",
        "loss_function = 'binary_crossentropy'\n",
        "model_optimizer = 'adam'\n",
        "model.compile(loss=loss_function, optimizer=model_optimizer, metrics=['accuracy', AUC(name='auc')])\n",
        "\n",
        "# Print the model summary\n",
        "model.summary()"
      ],
      "metadata": {
        "id": "A5V2cFY08uZ6",
        "colab": {
          "base_uri": "https://localhost:8080/"
        },
        "outputId": "7502aa34-c2a7-4e2b-9337-b5f4f19d6e08"
      },
      "execution_count": 81,
      "outputs": [
        {
          "output_type": "stream",
          "name": "stdout",
          "text": [
            "Model: \"sequential_1\"\n",
            "_________________________________________________________________\n",
            " Layer (type)                Output Shape              Param #   \n",
            "=================================================================\n",
            " embedding_1 (Embedding)     (None, 40, 32)            498432    \n",
            "                                                                 \n",
            " conv1d_2 (Conv1D)           (None, 40, 16)            1552      \n",
            "                                                                 \n",
            " conv1d_3 (Conv1D)           (None, 40, 128)           6272      \n",
            "                                                                 \n",
            " flatten_1 (Flatten)         (None, 5120)              0         \n",
            "                                                                 \n",
            " dense_2 (Dense)             (None, 128)               655488    \n",
            "                                                                 \n",
            " dropout_1 (Dropout)         (None, 128)               0         \n",
            "                                                                 \n",
            " dense_3 (Dense)             (None, 1)                 129       \n",
            "                                                                 \n",
            "=================================================================\n",
            "Total params: 1161873 (4.43 MB)\n",
            "Trainable params: 1161873 (4.43 MB)\n",
            "Non-trainable params: 0 (0.00 Byte)\n",
            "_________________________________________________________________\n"
          ]
        }
      ]
    },
    {
      "cell_type": "code",
      "source": [
        "# Get the number of trainable parameters\n",
        "trainable_params = model.count_params()\n",
        "\n",
        "print(\"Number of Trainable Parameters:\", trainable_params)"
      ],
      "metadata": {
        "id": "F0S0kuYS4jWU",
        "colab": {
          "base_uri": "https://localhost:8080/"
        },
        "outputId": "761b5eea-03c8-4295-a125-f419aefe9735"
      },
      "execution_count": 82,
      "outputs": [
        {
          "output_type": "stream",
          "name": "stdout",
          "text": [
            "Number of Trainable Parameters: 1161873\n"
          ]
        }
      ]
    },
    {
      "cell_type": "code",
      "source": [
        "num_of_epochs = 2\n",
        "history = model.fit(X_train, y_train, validation_data=(X_val_dl, y_val_ppc), epochs=num_of_epochs, batch_size=64)"
      ],
      "metadata": {
        "id": "TQVNWvfz3eaf",
        "colab": {
          "base_uri": "https://localhost:8080/"
        },
        "outputId": "0af482bc-9aa7-486a-ffc6-34bccaac4b80"
      },
      "execution_count": 83,
      "outputs": [
        {
          "output_type": "stream",
          "name": "stdout",
          "text": [
            "Epoch 1/2\n",
            "881/881 [==============================] - 63s 65ms/step - loss: 0.5389 - accuracy: 0.6939 - auc: 0.7787 - val_loss: 0.6361 - val_accuracy: 0.6430 - val_auc: 0.7182\n",
            "Epoch 2/2\n",
            "881/881 [==============================] - 51s 58ms/step - loss: 0.4310 - accuracy: 0.7730 - auc: 0.8714 - val_loss: 0.7253 - val_accuracy: 0.6340 - val_auc: 0.7043\n"
          ]
        }
      ]
    },
    {
      "cell_type": "code",
      "source": [
        "# Accessing the training accuracy from the history object\n",
        "train_accuracy = history.history['accuracy'][-1]\n",
        "print(\"Training Set Accuracy:\", train_accuracy)"
      ],
      "metadata": {
        "id": "A_nQEuOP4GY3",
        "colab": {
          "base_uri": "https://localhost:8080/"
        },
        "outputId": "6c133784-9aad-4dcd-828c-9e9c57534bfa"
      },
      "execution_count": 84,
      "outputs": [
        {
          "output_type": "stream",
          "name": "stdout",
          "text": [
            "Training Set Accuracy: 0.7730452418327332\n"
          ]
        }
      ]
    },
    {
      "cell_type": "code",
      "source": [
        "# Get the number of layers in the model\n",
        "num_layers = len(model.layers)\n",
        "print(\"Number of Layers:\", num_layers)"
      ],
      "metadata": {
        "id": "z-wsxYmC5PdB",
        "colab": {
          "base_uri": "https://localhost:8080/"
        },
        "outputId": "c8043e9e-b110-467b-8ec5-3a82c819fcac"
      },
      "execution_count": 85,
      "outputs": [
        {
          "output_type": "stream",
          "name": "stdout",
          "text": [
            "Number of Layers: 7\n"
          ]
        }
      ]
    },
    {
      "cell_type": "markdown",
      "source": [
        "Combining all the code in a function:"
      ],
      "metadata": {
        "id": "9AIWd8sObo2H"
      }
    },
    {
      "cell_type": "code",
      "source": [
        "def embedding_conv_net(X_train, y_train, X_val, y_val):\n",
        "\n",
        "  begin_time = datetime.datetime.now()\n",
        "\n",
        "  # Define the model\n",
        "  model = Sequential()\n",
        "  embedding_dimension = 32\n",
        "  model.add(Embedding(input_dim=total_words, output_dim=embedding_dimension, input_length=max_words))\n",
        "  model.add(Conv1D(filters=16, kernel_size=3, padding='same', activation='relu'))\n",
        "  model.add(Conv1D(filters=128, kernel_size=3, padding='same', activation='relu'))\n",
        "  model.add(Flatten())\n",
        "  model.add(Dense(128, activation='relu'))\n",
        "  model.add(Dropout(0.3))\n",
        "  model.add(Dense(1, activation='sigmoid'))\n",
        "\n",
        "  # # Print the model summary\n",
        "  # model.summary()\n",
        "\n",
        "  # Compile the model\n",
        "  loss_function = 'binary_crossentropy'\n",
        "  model_optimizer = 'adam'\n",
        "  model.compile(loss=loss_function, optimizer=model_optimizer, metrics=['accuracy', AUC(name='auc')])\n",
        "\n",
        "  # Train the model\n",
        "  num_of_epochs = 2\n",
        "  model.fit(X_train, y_train, validation_data=(X_val, y_val), epochs=num_of_epochs, batch_size=64)\n",
        "\n",
        "  print('Convolutional Neural Network time (seconds): ', str((datetime.datetime.now() - begin_time).seconds))\n",
        "\n",
        "  return model"
      ],
      "metadata": {
        "id": "ZYXEsyZX4UWg"
      },
      "execution_count": 94,
      "outputs": []
    },
    {
      "cell_type": "code",
      "source": [],
      "metadata": {
        "id": "lieSnecjF1Ax"
      },
      "execution_count": 77,
      "outputs": []
    },
    {
      "cell_type": "markdown",
      "metadata": {
        "id": "4tvPjSV7g7Dd"
      },
      "source": [
        "Let's evaluate our model:"
      ]
    },
    {
      "cell_type": "code",
      "source": [
        "model.metrics_names"
      ],
      "metadata": {
        "colab": {
          "base_uri": "https://localhost:8080/"
        },
        "id": "Zv6toib2fOwm",
        "outputId": "69299a16-b13f-428f-b1b3-a4de9f32ebed"
      },
      "execution_count": 86,
      "outputs": [
        {
          "output_type": "execute_result",
          "data": {
            "text/plain": [
              "['loss', 'accuracy', 'auc']"
            ]
          },
          "metadata": {},
          "execution_count": 86
        }
      ]
    },
    {
      "cell_type": "code",
      "source": [
        "best_model_accuracy = model.evaluate(X_test, y_test)[1]\n",
        "print(\"Model evaluation (accuracy):\", best_model_accuracy)"
      ],
      "metadata": {
        "id": "AIQVYqy31pue",
        "colab": {
          "base_uri": "https://localhost:8080/"
        },
        "outputId": "8de5cbc8-9dc9-4602-ac59-0cde5bf4e366"
      },
      "execution_count": 87,
      "outputs": [
        {
          "output_type": "stream",
          "name": "stdout",
          "text": [
            "133/133 [==============================] - 1s 5ms/step - loss: 0.3751 - accuracy: 0.8358 - auc: 0.9173\n",
            "Model evaluation (accuracy): 0.8358068466186523\n"
          ]
        }
      ]
    },
    {
      "cell_type": "code",
      "source": [
        "best_model_AUC = model.evaluate(X_test, y_test)[2]\n",
        "print(\"Model evaluation (AUC):\", best_model_AUC)"
      ],
      "metadata": {
        "colab": {
          "base_uri": "https://localhost:8080/"
        },
        "id": "8K4aoCt0iQjX",
        "outputId": "8c9228bf-c2b7-45e4-d46f-def54aa73cc0"
      },
      "execution_count": 88,
      "outputs": [
        {
          "output_type": "stream",
          "name": "stdout",
          "text": [
            "133/133 [==============================] - 1s 7ms/step - loss: 0.3751 - accuracy: 0.8358 - auc: 0.9173\n",
            "Model evaluation (AUC): 0.9172552824020386\n"
          ]
        }
      ]
    },
    {
      "cell_type": "markdown",
      "source": [
        "# Run all models"
      ],
      "metadata": {
        "id": "meFsroL1vZtV"
      }
    },
    {
      "cell_type": "markdown",
      "source": [
        "After creating our models and preprocessing the data accordingly we will run the all together and evaluate their performance based on the desired metrics."
      ],
      "metadata": {
        "id": "Y-uP7mfUT9nW"
      }
    },
    {
      "cell_type": "code",
      "source": [
        "def run_all_models(x_train_cv, x_train_tv, y_train, x_train_dl, X_val_dl, y_val):\n",
        "\n",
        "  models_dict = {}\n",
        "\n",
        "  print(\"---------------------------\\nLogistic Regression:\\n---------------------------\")\n",
        "  models_dict['BOW Logistic Regression'] = bow_logistic_regression(x_train_cv, y_train)\n",
        "  models_dict['TFIDF Logistic Regression'] = tfidf_logistic_regression(x_train_tv, y_train)\n",
        "\n",
        "  print(\"\\n---------------------------\\nRandom Forest:\\n---------------------------\")\n",
        "  models_dict['BOW Random Forest'] = bow_random_forest(x_train_cv, y_train)\n",
        "  models_dict['TFIDF Random Forest'] = tfidf_random_forest(x_train_tv, y_train)\n",
        "\n",
        "  print(\"\\n---------------------------\\nConvolutional Neural Network with an Embedding Layer:\\n---------------------------\")\n",
        "  models_dict['Embedding Conv Net'] = embedding_conv_net(x_train_dl, y_train, X_val_dl, y_val)\n",
        "\n",
        "  return models_dict"
      ],
      "metadata": {
        "id": "iqiHnBQZ2bcB"
      },
      "execution_count": 90,
      "outputs": []
    },
    {
      "cell_type": "code",
      "source": [
        "models = run_all_models(x_train_cv, x_train_tv, y_train_ppc, X_train_dl, X_val_dl, y_val_ppc)"
      ],
      "metadata": {
        "colab": {
          "base_uri": "https://localhost:8080/"
        },
        "id": "3X2VvOxvEX5p",
        "outputId": "354d83ba-ac15-42fb-db72-45b01c005da7"
      },
      "execution_count": 91,
      "outputs": [
        {
          "output_type": "stream",
          "name": "stdout",
          "text": [
            "---------------------------\n",
            "Logistic Regression:\n",
            "---------------------------\n",
            "BOW time (seconds):  2\n",
            "TFIDF time (seconds):  1\n",
            "\n",
            "---------------------------\n",
            "Random Forest:\n",
            "---------------------------\n",
            "BOW time (seconds):  4\n",
            "TFIDF time (seconds):  4\n",
            "\n",
            "---------------------------\n",
            "Convolutional Neural Network with an Embedding Layer:\n",
            "---------------------------\n",
            "Epoch 1/2\n",
            "881/881 [==============================] - 26s 28ms/step - loss: 0.5379 - accuracy: 0.6934 - val_loss: 0.4977 - val_accuracy: 0.7272\n",
            "Epoch 2/2\n",
            "881/881 [==============================] - 23s 26ms/step - loss: 0.4362 - accuracy: 0.7702 - val_loss: 0.4949 - val_accuracy: 0.7331\n",
            "Convolutional Neural Network time (seconds):  83\n"
          ]
        }
      ]
    },
    {
      "cell_type": "markdown",
      "source": [
        "Saving all the models in a dedicated dictionary with all the data needed to evaluate them afterwards:"
      ],
      "metadata": {
        "id": "876Rw1HfUfrb"
      }
    },
    {
      "cell_type": "code",
      "source": [
        "def create_models_dict(models, x_test_cv, x_test_tv, X_test_dl):\n",
        "  full_models_dict = {}\n",
        "\n",
        "  for model_name, model in models.items():\n",
        "\n",
        "    # [model_name] = {model, test_set, create_y_pred} - create_y_pred = when\n",
        "    # using model.predict in deep learning it implement predict_proba instead\n",
        "    # so we need to create y_pred manually\n",
        "\n",
        "    if model_name == 'BOW Logistic Regression':\n",
        "      full_models_dict[model_name] = (model, x_test_cv, False)\n",
        "    if model_name == 'TFIDF Logistic Regression':\n",
        "      full_models_dict[model_name] = (model, x_test_tv, False)\n",
        "    if model_name == 'BOW Random Forest':\n",
        "      full_models_dict[model_name] = (model, x_test_cv, False)\n",
        "    if model_name == 'TFIDF Random Forest':\n",
        "      full_models_dict[model_name] = (model, x_test_tv, False)\n",
        "    if model_name == 'Embedding Conv Net':\n",
        "      full_models_dict[model_name] = (model, X_test_dl, True)\n",
        "\n",
        "  return full_models_dict"
      ],
      "metadata": {
        "id": "i5odble0yARP"
      },
      "execution_count": 117,
      "outputs": []
    },
    {
      "cell_type": "code",
      "source": [
        "full_models_dict = create_models_dict(models, x_test_cv, x_test_tv, X_test_dl)"
      ],
      "metadata": {
        "id": "lXRdJOALzPbS"
      },
      "execution_count": 109,
      "outputs": []
    },
    {
      "cell_type": "markdown",
      "metadata": {
        "id": "BAM267N8Fo-k"
      },
      "source": [
        "# Compare models"
      ]
    },
    {
      "cell_type": "code",
      "source": [
        "scores_dict = {}\n",
        "roc_dict = {}"
      ],
      "metadata": {
        "id": "5FbgjxsozfH6"
      },
      "execution_count": 100,
      "outputs": []
    },
    {
      "cell_type": "markdown",
      "metadata": {
        "id": "qDduf9EKgKK7"
      },
      "source": [
        "Let's compare oru results:"
      ]
    },
    {
      "cell_type": "code",
      "source": [
        "def evaluate(model, model_name, x, y, scores_dict=None, roc_dict=None, create_y_pred=False):\n",
        "\n",
        "  if scores_dict is None:\n",
        "      scores_dict = {}\n",
        "  if roc_dict is None:\n",
        "      roc_dict = {}\n",
        "\n",
        "  # Get predicted probabilities and binary predictions\n",
        "  if create_y_pred:\n",
        "      y_pred_proba = model.predict(x).flatten()  # Ensure it's a 1D array\n",
        "      # Convert probabilities to binary predictions\n",
        "      y_pred = (y_pred_proba >= 0.5).astype(int)\n",
        "  else:\n",
        "      y_pred_proba = model.predict_proba(x)[:, 1]\n",
        "      y_pred = model.predict(x)\n",
        "\n",
        "\n",
        "  # Calculate scores and update dictionaries\n",
        "  scores_dict[model_name] = {}\n",
        "  scores_dict[model_name]['AUC'] = roc_auc_score(y, y_pred_proba)\n",
        "  scores_dict[model_name]['Accuracy'] = accuracy_score(y, y_pred)\n",
        "\n",
        "  roc_dict[model_name] = {}\n",
        "  roc_dict[model_name]['FPR'], roc_dict[model_name]['TPR'], _ = roc_curve(y, y_pred_proba)\n",
        "\n",
        "  return scores_dict"
      ],
      "metadata": {
        "id": "s9HfWFXweoWC"
      },
      "execution_count": 105,
      "outputs": []
    },
    {
      "cell_type": "code",
      "source": [
        "for model in full_models_dict.keys():\n",
        "  evaluate(full_models_dict[model][0], model, full_models_dict[model][1], y_test, scores_dict, roc_dict, full_models_dict[model][2])"
      ],
      "metadata": {
        "colab": {
          "base_uri": "https://localhost:8080/"
        },
        "id": "uDp9vom-zL04",
        "outputId": "bc5ebd4e-6698-4423-cac9-d716a2dd6b16"
      },
      "execution_count": 111,
      "outputs": [
        {
          "output_type": "stream",
          "name": "stdout",
          "text": [
            "133/133 [==============================] - 1s 10ms/step\n"
          ]
        }
      ]
    },
    {
      "cell_type": "code",
      "source": [
        "for model in scores_dict.keys():\n",
        "  print(model, scores_dict[model])"
      ],
      "metadata": {
        "colab": {
          "base_uri": "https://localhost:8080/"
        },
        "id": "eMNkL34F1hIg",
        "outputId": "963754cb-2a48-449b-c0ba-9891a63759db"
      },
      "execution_count": 112,
      "outputs": [
        {
          "output_type": "stream",
          "name": "stdout",
          "text": [
            "BOW Logistic Regression {'AUC': 0.9186503283028142, 'Accuracy': 0.8393404004711426}\n",
            "TFIDF Logistic Regression {'AUC': 0.915572401819845, 'Accuracy': 0.8365135453474676}\n",
            "BOW Random Forest {'AUC': 0.8006778633172646, 'Accuracy': 0.6789163722025913}\n",
            "TFIDF Random Forest {'AUC': 0.7943512480365837, 'Accuracy': 0.67773851590106}\n",
            "Embedding Conv Net {'AUC': 0.9200102363948455, 'Accuracy': 0.8376914016489988}\n"
          ]
        }
      ]
    },
    {
      "cell_type": "code",
      "source": [
        "pd.DataFrame.from_dict(scores_dict)"
      ],
      "metadata": {
        "colab": {
          "base_uri": "https://localhost:8080/",
          "height": 112
        },
        "id": "0j7CUjLQ1nVy",
        "outputId": "cafe24cb-932c-45cd-b808-99931f65057f"
      },
      "execution_count": 114,
      "outputs": [
        {
          "output_type": "execute_result",
          "data": {
            "text/plain": [
              "          BOW Logistic Regression  TFIDF Logistic Regression  \\\n",
              "AUC                       0.91865                   0.915572   \n",
              "Accuracy                  0.83934                   0.836514   \n",
              "\n",
              "          BOW Random Forest  TFIDF Random Forest  Embedding Conv Net  \n",
              "AUC                0.800678             0.794351            0.920010  \n",
              "Accuracy           0.678916             0.677739            0.837691  "
            ],
            "text/html": [
              "\n",
              "  <div id=\"df-a92c7b2d-d525-40df-a9e5-9be0453aa658\" class=\"colab-df-container\">\n",
              "    <div>\n",
              "<style scoped>\n",
              "    .dataframe tbody tr th:only-of-type {\n",
              "        vertical-align: middle;\n",
              "    }\n",
              "\n",
              "    .dataframe tbody tr th {\n",
              "        vertical-align: top;\n",
              "    }\n",
              "\n",
              "    .dataframe thead th {\n",
              "        text-align: right;\n",
              "    }\n",
              "</style>\n",
              "<table border=\"1\" class=\"dataframe\">\n",
              "  <thead>\n",
              "    <tr style=\"text-align: right;\">\n",
              "      <th></th>\n",
              "      <th>BOW Logistic Regression</th>\n",
              "      <th>TFIDF Logistic Regression</th>\n",
              "      <th>BOW Random Forest</th>\n",
              "      <th>TFIDF Random Forest</th>\n",
              "      <th>Embedding Conv Net</th>\n",
              "    </tr>\n",
              "  </thead>\n",
              "  <tbody>\n",
              "    <tr>\n",
              "      <th>AUC</th>\n",
              "      <td>0.91865</td>\n",
              "      <td>0.915572</td>\n",
              "      <td>0.800678</td>\n",
              "      <td>0.794351</td>\n",
              "      <td>0.920010</td>\n",
              "    </tr>\n",
              "    <tr>\n",
              "      <th>Accuracy</th>\n",
              "      <td>0.83934</td>\n",
              "      <td>0.836514</td>\n",
              "      <td>0.678916</td>\n",
              "      <td>0.677739</td>\n",
              "      <td>0.837691</td>\n",
              "    </tr>\n",
              "  </tbody>\n",
              "</table>\n",
              "</div>\n",
              "    <div class=\"colab-df-buttons\">\n",
              "\n",
              "  <div class=\"colab-df-container\">\n",
              "    <button class=\"colab-df-convert\" onclick=\"convertToInteractive('df-a92c7b2d-d525-40df-a9e5-9be0453aa658')\"\n",
              "            title=\"Convert this dataframe to an interactive table.\"\n",
              "            style=\"display:none;\">\n",
              "\n",
              "  <svg xmlns=\"http://www.w3.org/2000/svg\" height=\"24px\" viewBox=\"0 -960 960 960\">\n",
              "    <path d=\"M120-120v-720h720v720H120Zm60-500h600v-160H180v160Zm220 220h160v-160H400v160Zm0 220h160v-160H400v160ZM180-400h160v-160H180v160Zm440 0h160v-160H620v160ZM180-180h160v-160H180v160Zm440 0h160v-160H620v160Z\"/>\n",
              "  </svg>\n",
              "    </button>\n",
              "\n",
              "  <style>\n",
              "    .colab-df-container {\n",
              "      display:flex;\n",
              "      gap: 12px;\n",
              "    }\n",
              "\n",
              "    .colab-df-convert {\n",
              "      background-color: #E8F0FE;\n",
              "      border: none;\n",
              "      border-radius: 50%;\n",
              "      cursor: pointer;\n",
              "      display: none;\n",
              "      fill: #1967D2;\n",
              "      height: 32px;\n",
              "      padding: 0 0 0 0;\n",
              "      width: 32px;\n",
              "    }\n",
              "\n",
              "    .colab-df-convert:hover {\n",
              "      background-color: #E2EBFA;\n",
              "      box-shadow: 0px 1px 2px rgba(60, 64, 67, 0.3), 0px 1px 3px 1px rgba(60, 64, 67, 0.15);\n",
              "      fill: #174EA6;\n",
              "    }\n",
              "\n",
              "    .colab-df-buttons div {\n",
              "      margin-bottom: 4px;\n",
              "    }\n",
              "\n",
              "    [theme=dark] .colab-df-convert {\n",
              "      background-color: #3B4455;\n",
              "      fill: #D2E3FC;\n",
              "    }\n",
              "\n",
              "    [theme=dark] .colab-df-convert:hover {\n",
              "      background-color: #434B5C;\n",
              "      box-shadow: 0px 1px 3px 1px rgba(0, 0, 0, 0.15);\n",
              "      filter: drop-shadow(0px 1px 2px rgba(0, 0, 0, 0.3));\n",
              "      fill: #FFFFFF;\n",
              "    }\n",
              "  </style>\n",
              "\n",
              "    <script>\n",
              "      const buttonEl =\n",
              "        document.querySelector('#df-a92c7b2d-d525-40df-a9e5-9be0453aa658 button.colab-df-convert');\n",
              "      buttonEl.style.display =\n",
              "        google.colab.kernel.accessAllowed ? 'block' : 'none';\n",
              "\n",
              "      async function convertToInteractive(key) {\n",
              "        const element = document.querySelector('#df-a92c7b2d-d525-40df-a9e5-9be0453aa658');\n",
              "        const dataTable =\n",
              "          await google.colab.kernel.invokeFunction('convertToInteractive',\n",
              "                                                    [key], {});\n",
              "        if (!dataTable) return;\n",
              "\n",
              "        const docLinkHtml = 'Like what you see? Visit the ' +\n",
              "          '<a target=\"_blank\" href=https://colab.research.google.com/notebooks/data_table.ipynb>data table notebook</a>'\n",
              "          + ' to learn more about interactive tables.';\n",
              "        element.innerHTML = '';\n",
              "        dataTable['output_type'] = 'display_data';\n",
              "        await google.colab.output.renderOutput(dataTable, element);\n",
              "        const docLink = document.createElement('div');\n",
              "        docLink.innerHTML = docLinkHtml;\n",
              "        element.appendChild(docLink);\n",
              "      }\n",
              "    </script>\n",
              "  </div>\n",
              "\n",
              "\n",
              "<div id=\"df-f1f8a532-6e21-4935-8eef-42a2bfa8c4c3\">\n",
              "  <button class=\"colab-df-quickchart\" onclick=\"quickchart('df-f1f8a532-6e21-4935-8eef-42a2bfa8c4c3')\"\n",
              "            title=\"Suggest charts\"\n",
              "            style=\"display:none;\">\n",
              "\n",
              "<svg xmlns=\"http://www.w3.org/2000/svg\" height=\"24px\"viewBox=\"0 0 24 24\"\n",
              "     width=\"24px\">\n",
              "    <g>\n",
              "        <path d=\"M19 3H5c-1.1 0-2 .9-2 2v14c0 1.1.9 2 2 2h14c1.1 0 2-.9 2-2V5c0-1.1-.9-2-2-2zM9 17H7v-7h2v7zm4 0h-2V7h2v10zm4 0h-2v-4h2v4z\"/>\n",
              "    </g>\n",
              "</svg>\n",
              "  </button>\n",
              "\n",
              "<style>\n",
              "  .colab-df-quickchart {\n",
              "      --bg-color: #E8F0FE;\n",
              "      --fill-color: #1967D2;\n",
              "      --hover-bg-color: #E2EBFA;\n",
              "      --hover-fill-color: #174EA6;\n",
              "      --disabled-fill-color: #AAA;\n",
              "      --disabled-bg-color: #DDD;\n",
              "  }\n",
              "\n",
              "  [theme=dark] .colab-df-quickchart {\n",
              "      --bg-color: #3B4455;\n",
              "      --fill-color: #D2E3FC;\n",
              "      --hover-bg-color: #434B5C;\n",
              "      --hover-fill-color: #FFFFFF;\n",
              "      --disabled-bg-color: #3B4455;\n",
              "      --disabled-fill-color: #666;\n",
              "  }\n",
              "\n",
              "  .colab-df-quickchart {\n",
              "    background-color: var(--bg-color);\n",
              "    border: none;\n",
              "    border-radius: 50%;\n",
              "    cursor: pointer;\n",
              "    display: none;\n",
              "    fill: var(--fill-color);\n",
              "    height: 32px;\n",
              "    padding: 0;\n",
              "    width: 32px;\n",
              "  }\n",
              "\n",
              "  .colab-df-quickchart:hover {\n",
              "    background-color: var(--hover-bg-color);\n",
              "    box-shadow: 0 1px 2px rgba(60, 64, 67, 0.3), 0 1px 3px 1px rgba(60, 64, 67, 0.15);\n",
              "    fill: var(--button-hover-fill-color);\n",
              "  }\n",
              "\n",
              "  .colab-df-quickchart-complete:disabled,\n",
              "  .colab-df-quickchart-complete:disabled:hover {\n",
              "    background-color: var(--disabled-bg-color);\n",
              "    fill: var(--disabled-fill-color);\n",
              "    box-shadow: none;\n",
              "  }\n",
              "\n",
              "  .colab-df-spinner {\n",
              "    border: 2px solid var(--fill-color);\n",
              "    border-color: transparent;\n",
              "    border-bottom-color: var(--fill-color);\n",
              "    animation:\n",
              "      spin 1s steps(1) infinite;\n",
              "  }\n",
              "\n",
              "  @keyframes spin {\n",
              "    0% {\n",
              "      border-color: transparent;\n",
              "      border-bottom-color: var(--fill-color);\n",
              "      border-left-color: var(--fill-color);\n",
              "    }\n",
              "    20% {\n",
              "      border-color: transparent;\n",
              "      border-left-color: var(--fill-color);\n",
              "      border-top-color: var(--fill-color);\n",
              "    }\n",
              "    30% {\n",
              "      border-color: transparent;\n",
              "      border-left-color: var(--fill-color);\n",
              "      border-top-color: var(--fill-color);\n",
              "      border-right-color: var(--fill-color);\n",
              "    }\n",
              "    40% {\n",
              "      border-color: transparent;\n",
              "      border-right-color: var(--fill-color);\n",
              "      border-top-color: var(--fill-color);\n",
              "    }\n",
              "    60% {\n",
              "      border-color: transparent;\n",
              "      border-right-color: var(--fill-color);\n",
              "    }\n",
              "    80% {\n",
              "      border-color: transparent;\n",
              "      border-right-color: var(--fill-color);\n",
              "      border-bottom-color: var(--fill-color);\n",
              "    }\n",
              "    90% {\n",
              "      border-color: transparent;\n",
              "      border-bottom-color: var(--fill-color);\n",
              "    }\n",
              "  }\n",
              "</style>\n",
              "\n",
              "  <script>\n",
              "    async function quickchart(key) {\n",
              "      const quickchartButtonEl =\n",
              "        document.querySelector('#' + key + ' button');\n",
              "      quickchartButtonEl.disabled = true;  // To prevent multiple clicks.\n",
              "      quickchartButtonEl.classList.add('colab-df-spinner');\n",
              "      try {\n",
              "        const charts = await google.colab.kernel.invokeFunction(\n",
              "            'suggestCharts', [key], {});\n",
              "      } catch (error) {\n",
              "        console.error('Error during call to suggestCharts:', error);\n",
              "      }\n",
              "      quickchartButtonEl.classList.remove('colab-df-spinner');\n",
              "      quickchartButtonEl.classList.add('colab-df-quickchart-complete');\n",
              "    }\n",
              "    (() => {\n",
              "      let quickchartButtonEl =\n",
              "        document.querySelector('#df-f1f8a532-6e21-4935-8eef-42a2bfa8c4c3 button');\n",
              "      quickchartButtonEl.style.display =\n",
              "        google.colab.kernel.accessAllowed ? 'block' : 'none';\n",
              "    })();\n",
              "  </script>\n",
              "</div>\n",
              "\n",
              "    </div>\n",
              "  </div>\n"
            ],
            "application/vnd.google.colaboratory.intrinsic+json": {
              "type": "dataframe",
              "summary": "{\n  \"name\": \"pd\",\n  \"rows\": 2,\n  \"fields\": [\n    {\n      \"column\": \"BOW Logistic Regression\",\n      \"properties\": {\n        \"dtype\": \"number\",\n        \"std\": 0.05608058778519074,\n        \"min\": 0.8393404004711426,\n        \"max\": 0.9186503283028142,\n        \"num_unique_values\": 2,\n        \"samples\": [\n          0.8393404004711426,\n          0.9186503283028142\n        ],\n        \"semantic_type\": \"\",\n        \"description\": \"\"\n      }\n    },\n    {\n      \"column\": \"TFIDF Logistic Regression\",\n      \"properties\": {\n        \"dtype\": \"number\",\n        \"std\": 0.05590305352447205,\n        \"min\": 0.8365135453474676,\n        \"max\": 0.915572401819845,\n        \"num_unique_values\": 2,\n        \"samples\": [\n          0.8365135453474676,\n          0.915572401819845\n        ],\n        \"semantic_type\": \"\",\n        \"description\": \"\"\n      }\n    },\n    {\n      \"column\": \"BOW Random Forest\",\n      \"properties\": {\n        \"dtype\": \"number\",\n        \"std\": 0.0860983760545711,\n        \"min\": 0.6789163722025913,\n        \"max\": 0.8006778633172646,\n        \"num_unique_values\": 2,\n        \"samples\": [\n          0.6789163722025913,\n          0.8006778633172646\n        ],\n        \"semantic_type\": \"\",\n        \"description\": \"\"\n      }\n    },\n    {\n      \"column\": \"TFIDF Random Forest\",\n      \"properties\": {\n        \"dtype\": \"number\",\n        \"std\": 0.08245765366571924,\n        \"min\": 0.67773851590106,\n        \"max\": 0.7943512480365837,\n        \"num_unique_values\": 2,\n        \"samples\": [\n          0.67773851590106,\n          0.7943512480365837\n        ],\n        \"semantic_type\": \"\",\n        \"description\": \"\"\n      }\n    },\n    {\n      \"column\": \"Embedding Conv Net\",\n      \"properties\": {\n        \"dtype\": \"number\",\n        \"std\": 0.05820820626816297,\n        \"min\": 0.8376914016489988,\n        \"max\": 0.9200102363948455,\n        \"num_unique_values\": 2,\n        \"samples\": [\n          0.8376914016489988,\n          0.9200102363948455\n        ],\n        \"semantic_type\": \"\",\n        \"description\": \"\"\n      }\n    }\n  ]\n}"
            }
          },
          "metadata": {},
          "execution_count": 114
        }
      ]
    },
    {
      "cell_type": "markdown",
      "metadata": {
        "id": "DwFqccitgNEr"
      },
      "source": [
        "And we see the same results for the ROC AUC as well. Let's plot it:"
      ]
    },
    {
      "cell_type": "code",
      "source": [
        "sns.set()\n",
        "\n",
        "for k, v in roc_dict.items():\n",
        "  plt.plot(v['FPR'], v['TPR'], label=k)\n",
        "\n",
        "plt.plot(v['FPR'], v['FPR'], label='Benchmark')\n",
        "plt.legend()\n",
        "plt.show()"
      ],
      "metadata": {
        "colab": {
          "base_uri": "https://localhost:8080/",
          "height": 434
        },
        "id": "27lVXZzx1t-n",
        "outputId": "a84d9134-9774-44bd-bcf7-618367d9d7f6"
      },
      "execution_count": 116,
      "outputs": [
        {
          "output_type": "display_data",
          "data": {
            "text/plain": [
              "<Figure size 640x480 with 1 Axes>"
            ],
            "image/png": "[encoded data removed]"
          },
          "metadata": {}
        }
      ]
    },
    {
      "cell_type": "markdown",
      "source": [
        "Looks like Logistic Regression and Neural Network models perform better than the Random Forest models."
      ],
      "metadata": {
        "id": "rB16qwVwQdZ5"
      }
    },
    {
      "cell_type": "markdown",
      "source": [
        "We can see that the best models are <b><u>BOW Logistic Regression</u></b> and the <b><u>Convolutional Neural Network with an Embedding Layer</u></b>."
      ],
      "metadata": {
        "id": "Pt3YnFNRPtww"
      }
    },
    {
      "cell_type": "code",
      "source": [],
      "metadata": {
        "id": "8oAvl8DVQWda"
      },
      "execution_count": null,
      "outputs": []
    },
    {
      "cell_type": "markdown",
      "source": [
        "# Explore Our results"
      ],
      "metadata": {
        "id": "vbjiKHyi7Irm"
      }
    },
    {
      "cell_type": "markdown",
      "source": [
        "## Visualization"
      ],
      "metadata": {
        "id": "gj5MAByiQRWi"
      }
    },
    {
      "cell_type": "markdown",
      "source": [
        "Let's visalize the accuracy for each of the characters for every show:"
      ],
      "metadata": {
        "id": "XNUHeZCE8SgA"
      }
    },
    {
      "cell_type": "code",
      "source": [
        "# Define a function to calculate accuracy for each character\n",
        "def evaluate_accuracy_for_character(y_pred_probs, test_df, character):\n",
        "\n",
        "    # Flatten y_test\n",
        "    y_test_flat = y_test.flatten()\n",
        "\n",
        "    # Put 0 & 1 instead of Friends & Seinfeld\n",
        "    test_df['Show'] = y_test_flat\n",
        "\n",
        "    # Filter test data by character\n",
        "    character_test_df = test_df[test_df['Character'] == character]\n",
        "\n",
        "    # Get true labels for the character\n",
        "    y_character_test = character_test_df['Show']\n",
        "\n",
        "    # Filter predictions for the character\n",
        "    character_indices = character_test_df.index\n",
        "    y_character_pred_probs = y_pred_probs[character_indices]\n",
        "\n",
        "    # Convert probabilities to binary labels\n",
        "    y_character_pred = (y_character_pred_probs >= 0.5).astype(int)\n",
        "\n",
        "    # Calculate accuracy\n",
        "    accuracy = accuracy_score(y_character_test, y_character_pred)\n",
        "    return accuracy"
      ],
      "metadata": {
        "id": "z2yo2ULIiHWC"
      },
      "execution_count": null,
      "outputs": []
    },
    {
      "cell_type": "code",
      "source": [
        "# Function that returns a sorted list of the accuracies of all the characters\n",
        "def get_model_accuracy_by_character(model, characters, X_test, full_test_data):\n",
        "\n",
        "  # Predict probabilities for all characters\n",
        "  y_pred_probs = model.predict(X_test)\n",
        "\n",
        "  # Dictionary to store accuracy for each character\n",
        "  character_accuracy = {}\n",
        "\n",
        "  # Evaluate accuracy for each character\n",
        "  for character in characters:\n",
        "      accuracy = evaluate_accuracy_for_character(y_pred_probs, full_test_data, character)\n",
        "      character_accuracy[character] = accuracy\n",
        "\n",
        "  sorted_character_accuracy = dict(sorted(character_accuracy.items(), key=lambda item: item[1], reverse=True))\n",
        "  return sorted_character_accuracy"
      ],
      "metadata": {
        "id": "LVJCuT_mijfN"
      },
      "execution_count": null,
      "outputs": []
    },
    {
      "cell_type": "code",
      "source": [
        "def plot_histogram_by_model(sorted_character_accuracy, seinfeld_characters, friends_characters):\n",
        "    # Define colors for each show\n",
        "    seinfeld_color = 'skyblue'\n",
        "    friends_color = 'salmon'\n",
        "\n",
        "    # Plotting results\n",
        "    plt.figure(figsize=(10, 6))\n",
        "\n",
        "    for character, accuracy in sorted_character_accuracy.items():\n",
        "        # Determine the color based on the character's show\n",
        "        color = seinfeld_color if character in seinfeld_characters else friends_color\n",
        "\n",
        "        # Plot the bar with the appropriate color\n",
        "        plt.bar(character, accuracy, color=color)\n",
        "\n",
        "        # Annotate the bar with the accuracy value\n",
        "        plt.text(character, accuracy, f'{accuracy:.2f}', ha='center', va='bottom')\n",
        "\n",
        "    plt.title('Accuracy for Each Character')\n",
        "    plt.xlabel('Character')\n",
        "    plt.ylabel('Accuracy')\n",
        "    plt.xticks(rotation=45)\n",
        "\n",
        "        # Create legend\n",
        "    friends_patch = plt.Rectangle((0,0),1,1,fc=friends_color, edgecolor = 'none')\n",
        "    seinfeld_patch = plt.Rectangle((0,0),1,1,fc=seinfeld_color, edgecolor = 'none')\n",
        "    plt.legend([friends_patch, seinfeld_patch], ['Friends', 'Seinfeld'], loc='upper right')\n",
        "\n",
        "    plt.show()"
      ],
      "metadata": {
        "id": "C03VbwyfxkzP"
      },
      "execution_count": null,
      "outputs": []
    },
    {
      "cell_type": "code",
      "source": [
        "def histogram_accuracy_prediction_by_character(model, X_test, full_test_data, seinfeld_characters, friends_characters):\n",
        "\n",
        "  # List of characters\n",
        "  characters = full_test_data['Character'].unique()\n",
        "\n",
        "  # Getting the results for each character\n",
        "  sorted_character_accuracy = get_model_accuracy_by_character(model, characters, X_test, full_test_data)\n",
        "\n",
        "  # Plotting histogram accordingly\n",
        "  plot_histogram_by_model(sorted_character_accuracy, seinfeld_characters, friends_characters)"
      ],
      "metadata": {
        "id": "btQW7ENzlT7F"
      },
      "execution_count": null,
      "outputs": []
    },
    {
      "cell_type": "code",
      "source": [
        "histogram_accuracy_prediction_by_character(model, X_test, full_test_data, seinfeld_characters, friends_characters)"
      ],
      "metadata": {
        "id": "rwcd2sR-kd6w"
      },
      "execution_count": null,
      "outputs": []
    },
    {
      "cell_type": "markdown",
      "source": [
        "We can see that indeed, as we expected, the characters of Friends had a better accuracy overall than the characters of Seinfeld.\n",
        "\n",
        "Overall all the accuracies are pretty high and show that our model has good predictions."
      ],
      "metadata": {
        "id": "45dNrXhNysLB"
      }
    },
    {
      "cell_type": "markdown",
      "source": [
        "## Word Cloud For Each Show"
      ],
      "metadata": {
        "id": "hZ78JqH4P6Kk"
      }
    },
    {
      "cell_type": "code",
      "source": [
        "def word_cloud_function(df, X_test, model, show):\n",
        "\n",
        "    y_pred_probs = model.predict(X_test)\n",
        "\n",
        "    # Get the predicted classes (0 for Friends, 1 for Seinfeld)\n",
        "    predicted_classes = (y_pred_probs > 0.5).astype(int)\n",
        "\n",
        "    # Add predicted_classes as a column to the existing DataFrame df\n",
        "    df['Predicted_Class'] = predicted_classes.flatten()\n",
        "\n",
        "    # Filter dialogues for the specified show\n",
        "    if show == 'Seinfeld':\n",
        "        dialogues = df[df['Predicted_Class'] == 1]['Dialogue'].values\n",
        "        title = 'Seinfeld Word Cloud'\n",
        "    elif show == 'Friends':\n",
        "        dialogues = df[df['Predicted_Class'] == 0]['Dialogue'].values\n",
        "        title = 'Friends Word Cloud'\n",
        "    else:\n",
        "        print(\"Invalid show. Please enter 'Seinfeld' or 'Friends'.\")\n",
        "        return\n",
        "\n",
        "    # Join all dialogues from the specified show into a single string\n",
        "    text = ' '.join(dialogues)\n",
        "\n",
        "    # Create a WordCloud object for the specified show\n",
        "    wordcloud = WordCloud(width=800, height=400, background_color ='white').generate(text)\n",
        "\n",
        "    # Plot the WordCloud for the specified show\n",
        "    plt.figure(figsize=(10, 6))\n",
        "    plt.imshow(wordcloud, interpolation='bilinear')\n",
        "    plt.axis('off')\n",
        "    plt.title(title)\n",
        "    plt.show()"
      ],
      "metadata": {
        "id": "X53NrfhWJSz9"
      },
      "execution_count": null,
      "outputs": []
    },
    {
      "cell_type": "code",
      "source": [
        "word_cloud_function(full_test_data, X_test, model, 'Seinfeld')\n",
        "word_cloud_function(full_test_data, X_test, model, 'Friends')"
      ],
      "metadata": {
        "id": "-8Rg2jQbPX1u"
      },
      "execution_count": null,
      "outputs": []
    },
    {
      "cell_type": "markdown",
      "metadata": {
        "id": "IJrSf6hnWnCJ"
      },
      "source": [
        "# **Output**\n",
        "\n"
      ]
    },
    {
      "cell_type": "code",
      "execution_count": null,
      "metadata": {
        "id": "_s4RrumjWX9q"
      },
      "outputs": [],
      "source": [
        "results = {'Test Set Accuracy': [best_model_accuracy],\n",
        "           'Train Set Accuracy': [train_accuracy],\n",
        "           'Number of trainable parameters': [trainable_params],\n",
        "           'Number of layers': [num_layers],\n",
        "           'Regularization methods': ['Dropout'],\n",
        "           'Number of epochs': [num_of_epochs],\n",
        "           'Choice of loss function': [loss_function],\n",
        "           'Choice of optimizer': [model_optimizer],\n",
        "           'Embedding dimension': [embedding_dimension]\n",
        "           }\n",
        "df = pd.DataFrame(results)"
      ]
    },
    {
      "cell_type": "code",
      "source": [
        "df"
      ],
      "metadata": {
        "id": "Pzwg3Ewp7dJ4"
      },
      "execution_count": null,
      "outputs": []
    },
    {
      "cell_type": "code",
      "source": [
        "from google.colab import files\n",
        "df.to_csv(os.path.join(os.getcwd(), 'exercise3.csv'))\n",
        "files.download('exercise3.csv')"
      ],
      "metadata": {
        "id": "lVJEi0oEGp32"
      },
      "execution_count": null,
      "outputs": []
    }
  ]
}