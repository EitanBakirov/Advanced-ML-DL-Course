{
  "nbformat": 4,
  "nbformat_minor": 0,
  "metadata": {
    "colab": {
      "provenance": [],
      "toc_visible": true,
      "include_colab_link": true
    },
    "kernelspec": {
      "name": "python3",
      "display_name": "Python 3"
    },
    "language_info": {
      "name": "python"
    },
    "widgets": {
      "application/vnd.jupyter.widget-state+json": {
        "d65f028c417c43daba58e23a9dbf4667": {
          "model_module": "@jupyter-widgets/controls",
          "model_name": "HBoxModel",
          "model_module_version": "1.5.0",
          "state": {
            "_dom_classes": [],
            "_model_module": "@jupyter-widgets/controls",
            "_model_module_version": "1.5.0",
            "_model_name": "HBoxModel",
            "_view_count": null,
            "_view_module": "@jupyter-widgets/controls",
            "_view_module_version": "1.5.0",
            "_view_name": "HBoxView",
            "box_style": "",
            "children": [
              "IPY_MODEL_09894af1ce2241b6a195b2cf79b10c97",
              "IPY_MODEL_6325fa4bdd9b451992bb85c60f5754c1",
              "IPY_MODEL_c409c8fee8424b80b1205e11435c1bc2"
            ],
            "layout": "IPY_MODEL_8d4ac074593e47b8a9835a1829b664d6"
          }
        },
        "09894af1ce2241b6a195b2cf79b10c97": {
          "model_module": "@jupyter-widgets/controls",
          "model_name": "HTMLModel",
          "model_module_version": "1.5.0",
          "state": {
            "_dom_classes": [],
            "_model_module": "@jupyter-widgets/controls",
            "_model_module_version": "1.5.0",
            "_model_name": "HTMLModel",
            "_view_count": null,
            "_view_module": "@jupyter-widgets/controls",
            "_view_module_version": "1.5.0",
            "_view_name": "HTMLView",
            "description": "",
            "description_tooltip": null,
            "layout": "IPY_MODEL_e5fc3e151e2243a19fa34c22191eb79a",
            "placeholder": "​",
            "style": "IPY_MODEL_bd1a9c426e28405096af6e14c0ba7e2a",
            "value": "100%"
          }
        },
        "6325fa4bdd9b451992bb85c60f5754c1": {
          "model_module": "@jupyter-widgets/controls",
          "model_name": "FloatProgressModel",
          "model_module_version": "1.5.0",
          "state": {
            "_dom_classes": [],
            "_model_module": "@jupyter-widgets/controls",
            "_model_module_version": "1.5.0",
            "_model_name": "FloatProgressModel",
            "_view_count": null,
            "_view_module": "@jupyter-widgets/controls",
            "_view_module_version": "1.5.0",
            "_view_name": "ProgressView",
            "bar_style": "success",
            "description": "",
            "description_tooltip": null,
            "layout": "IPY_MODEL_027817aadc224fea8c1e5c9821ea2976",
            "max": 70405,
            "min": 0,
            "orientation": "horizontal",
            "style": "IPY_MODEL_abfe5a423fa345e19e0917230b80ac5c",
            "value": 70405
          }
        },
        "c409c8fee8424b80b1205e11435c1bc2": {
          "model_module": "@jupyter-widgets/controls",
          "model_name": "HTMLModel",
          "model_module_version": "1.5.0",
          "state": {
            "_dom_classes": [],
            "_model_module": "@jupyter-widgets/controls",
            "_model_module_version": "1.5.0",
            "_model_name": "HTMLModel",
            "_view_count": null,
            "_view_module": "@jupyter-widgets/controls",
            "_view_module_version": "1.5.0",
            "_view_name": "HTMLView",
            "description": "",
            "description_tooltip": null,
            "layout": "IPY_MODEL_f05db30120d64a8b8453aa8559524517",
            "placeholder": "​",
            "style": "IPY_MODEL_d3bbcc6f115e4200b59b93d625f7431e",
            "value": " 70405/70405 [00:13&lt;00:00, 6907.44it/s]"
          }
        },
        "8d4ac074593e47b8a9835a1829b664d6": {
          "model_module": "@jupyter-widgets/base",
          "model_name": "LayoutModel",
          "model_module_version": "1.2.0",
          "state": {
            "_model_module": "@jupyter-widgets/base",
            "_model_module_version": "1.2.0",
            "_model_name": "LayoutModel",
            "_view_count": null,
            "_view_module": "@jupyter-widgets/base",
            "_view_module_version": "1.2.0",
            "_view_name": "LayoutView",
            "align_content": null,
            "align_items": null,
            "align_self": null,
            "border": null,
            "bottom": null,
            "display": null,
            "flex": null,
            "flex_flow": null,
            "grid_area": null,
            "grid_auto_columns": null,
            "grid_auto_flow": null,
            "grid_auto_rows": null,
            "grid_column": null,
            "grid_gap": null,
            "grid_row": null,
            "grid_template_areas": null,
            "grid_template_columns": null,
            "grid_template_rows": null,
            "height": null,
            "justify_content": null,
            "justify_items": null,
            "left": null,
            "margin": null,
            "max_height": null,
            "max_width": null,
            "min_height": null,
            "min_width": null,
            "object_fit": null,
            "object_position": null,
            "order": null,
            "overflow": null,
            "overflow_x": null,
            "overflow_y": null,
            "padding": null,
            "right": null,
            "top": null,
            "visibility": null,
            "width": null
          }
        },
        "e5fc3e151e2243a19fa34c22191eb79a": {
          "model_module": "@jupyter-widgets/base",
          "model_name": "LayoutModel",
          "model_module_version": "1.2.0",
          "state": {
            "_model_module": "@jupyter-widgets/base",
            "_model_module_version": "1.2.0",
            "_model_name": "LayoutModel",
            "_view_count": null,
            "_view_module": "@jupyter-widgets/base",
            "_view_module_version": "1.2.0",
            "_view_name": "LayoutView",
            "align_content": null,
            "align_items": null,
            "align_self": null,
            "border": null,
            "bottom": null,
            "display": null,
            "flex": null,
            "flex_flow": null,
            "grid_area": null,
            "grid_auto_columns": null,
            "grid_auto_flow": null,
            "grid_auto_rows": null,
            "grid_column": null,
            "grid_gap": null,
            "grid_row": null,
            "grid_template_areas": null,
            "grid_template_columns": null,
            "grid_template_rows": null,
            "height": null,
            "justify_content": null,
            "justify_items": null,
            "left": null,
            "margin": null,
            "max_height": null,
            "max_width": null,
            "min_height": null,
            "min_width": null,
            "object_fit": null,
            "object_position": null,
            "order": null,
            "overflow": null,
            "overflow_x": null,
            "overflow_y": null,
            "padding": null,
            "right": null,
            "top": null,
            "visibility": null,
            "width": null
          }
        },
        "bd1a9c426e28405096af6e14c0ba7e2a": {
          "model_module": "@jupyter-widgets/controls",
          "model_name": "DescriptionStyleModel",
          "model_module_version": "1.5.0",
          "state": {
            "_model_module": "@jupyter-widgets/controls",
            "_model_module_version": "1.5.0",
            "_model_name": "DescriptionStyleModel",
            "_view_count": null,
            "_view_module": "@jupyter-widgets/base",
            "_view_module_version": "1.2.0",
            "_view_name": "StyleView",
            "description_width": ""
          }
        },
        "027817aadc224fea8c1e5c9821ea2976": {
          "model_module": "@jupyter-widgets/base",
          "model_name": "LayoutModel",
          "model_module_version": "1.2.0",
          "state": {
            "_model_module": "@jupyter-widgets/base",
            "_model_module_version": "1.2.0",
            "_model_name": "LayoutModel",
            "_view_count": null,
            "_view_module": "@jupyter-widgets/base",
            "_view_module_version": "1.2.0",
            "_view_name": "LayoutView",
            "align_content": null,
            "align_items": null,
            "align_self": null,
            "border": null,
            "bottom": null,
            "display": null,
            "flex": null,
            "flex_flow": null,
            "grid_area": null,
            "grid_auto_columns": null,
            "grid_auto_flow": null,
            "grid_auto_rows": null,
            "grid_column": null,
            "grid_gap": null,
            "grid_row": null,
            "grid_template_areas": null,
            "grid_template_columns": null,
            "grid_template_rows": null,
            "height": null,
            "justify_content": null,
            "justify_items": null,
            "left": null,
            "margin": null,
            "max_height": null,
            "max_width": null,
            "min_height": null,
            "min_width": null,
            "object_fit": null,
            "object_position": null,
            "order": null,
            "overflow": null,
            "overflow_x": null,
            "overflow_y": null,
            "padding": null,
            "right": null,
            "top": null,
            "visibility": null,
            "width": null
          }
        },
        "abfe5a423fa345e19e0917230b80ac5c": {
          "model_module": "@jupyter-widgets/controls",
          "model_name": "ProgressStyleModel",
          "model_module_version": "1.5.0",
          "state": {
            "_model_module": "@jupyter-widgets/controls",
            "_model_module_version": "1.5.0",
            "_model_name": "ProgressStyleModel",
            "_view_count": null,
            "_view_module": "@jupyter-widgets/base",
            "_view_module_version": "1.2.0",
            "_view_name": "StyleView",
            "bar_color": null,
            "description_width": ""
          }
        },
        "f05db30120d64a8b8453aa8559524517": {
          "model_module": "@jupyter-widgets/base",
          "model_name": "LayoutModel",
          "model_module_version": "1.2.0",
          "state": {
            "_model_module": "@jupyter-widgets/base",
            "_model_module_version": "1.2.0",
            "_model_name": "LayoutModel",
            "_view_count": null,
            "_view_module": "@jupyter-widgets/base",
            "_view_module_version": "1.2.0",
            "_view_name": "LayoutView",
            "align_content": null,
            "align_items": null,
            "align_self": null,
            "border": null,
            "bottom": null,
            "display": null,
            "flex": null,
            "flex_flow": null,
            "grid_area": null,
            "grid_auto_columns": null,
            "grid_auto_flow": null,
            "grid_auto_rows": null,
            "grid_column": null,
            "grid_gap": null,
            "grid_row": null,
            "grid_template_areas": null,
            "grid_template_columns": null,
            "grid_template_rows": null,
            "height": null,
            "justify_content": null,
            "justify_items": null,
            "left": null,
            "margin": null,
            "max_height": null,
            "max_width": null,
            "min_height": null,
            "min_width": null,
            "object_fit": null,
            "object_position": null,
            "order": null,
            "overflow": null,
            "overflow_x": null,
            "overflow_y": null,
            "padding": null,
            "right": null,
            "top": null,
            "visibility": null,
            "width": null
          }
        },
        "d3bbcc6f115e4200b59b93d625f7431e": {
          "model_module": "@jupyter-widgets/controls",
          "model_name": "DescriptionStyleModel",
          "model_module_version": "1.5.0",
          "state": {
            "_model_module": "@jupyter-widgets/controls",
            "_model_module_version": "1.5.0",
            "_model_name": "DescriptionStyleModel",
            "_view_count": null,
            "_view_module": "@jupyter-widgets/base",
            "_view_module_version": "1.2.0",
            "_view_name": "StyleView",
            "description_width": ""
          }
        },
        "0c138ec9808c450ca2bc55b06e15b8b4": {
          "model_module": "@jupyter-widgets/controls",
          "model_name": "HBoxModel",
          "model_module_version": "1.5.0",
          "state": {
            "_dom_classes": [],
            "_model_module": "@jupyter-widgets/controls",
            "_model_module_version": "1.5.0",
            "_model_name": "HBoxModel",
            "_view_count": null,
            "_view_module": "@jupyter-widgets/controls",
            "_view_module_version": "1.5.0",
            "_view_name": "HBoxView",
            "box_style": "",
            "children": [
              "IPY_MODEL_4bc96b51f7a8499e9c61dfe73dfa4c34",
              "IPY_MODEL_c8909f5ab0a642b1a6c59ff657f3866f",
              "IPY_MODEL_4ae75292660943a0907f44c06f4daa99"
            ],
            "layout": "IPY_MODEL_548f0cba42d840e891fc3bd2e18cca9d"
          }
        },
        "4bc96b51f7a8499e9c61dfe73dfa4c34": {
          "model_module": "@jupyter-widgets/controls",
          "model_name": "HTMLModel",
          "model_module_version": "1.5.0",
          "state": {
            "_dom_classes": [],
            "_model_module": "@jupyter-widgets/controls",
            "_model_module_version": "1.5.0",
            "_model_name": "HTMLModel",
            "_view_count": null,
            "_view_module": "@jupyter-widgets/controls",
            "_view_module_version": "1.5.0",
            "_view_name": "HTMLView",
            "description": "",
            "description_tooltip": null,
            "layout": "IPY_MODEL_cef8984e4d9a4348a537293bff30b52d",
            "placeholder": "​",
            "style": "IPY_MODEL_72e235b204354c56b5e54a431edfb5a9",
            "value": "100%"
          }
        },
        "c8909f5ab0a642b1a6c59ff657f3866f": {
          "model_module": "@jupyter-widgets/controls",
          "model_name": "FloatProgressModel",
          "model_module_version": "1.5.0",
          "state": {
            "_dom_classes": [],
            "_model_module": "@jupyter-widgets/controls",
            "_model_module_version": "1.5.0",
            "_model_name": "FloatProgressModel",
            "_view_count": null,
            "_view_module": "@jupyter-widgets/controls",
            "_view_module_version": "1.5.0",
            "_view_name": "ProgressView",
            "bar_style": "success",
            "description": "",
            "description_tooltip": null,
            "layout": "IPY_MODEL_f10dca8e119a44ef85ba4d003a333acb",
            "max": 4245,
            "min": 0,
            "orientation": "horizontal",
            "style": "IPY_MODEL_7cc9222f85f246848354a1f6dd7a2058",
            "value": 4245
          }
        },
        "4ae75292660943a0907f44c06f4daa99": {
          "model_module": "@jupyter-widgets/controls",
          "model_name": "HTMLModel",
          "model_module_version": "1.5.0",
          "state": {
            "_dom_classes": [],
            "_model_module": "@jupyter-widgets/controls",
            "_model_module_version": "1.5.0",
            "_model_name": "HTMLModel",
            "_view_count": null,
            "_view_module": "@jupyter-widgets/controls",
            "_view_module_version": "1.5.0",
            "_view_name": "HTMLView",
            "description": "",
            "description_tooltip": null,
            "layout": "IPY_MODEL_c9019324dcb14933a46319a7f36604fc",
            "placeholder": "​",
            "style": "IPY_MODEL_9de4d1acf2794a8ea6b174e05dcd6bcf",
            "value": " 4245/4245 [00:01&lt;00:00, 1974.32it/s]"
          }
        },
        "548f0cba42d840e891fc3bd2e18cca9d": {
          "model_module": "@jupyter-widgets/base",
          "model_name": "LayoutModel",
          "model_module_version": "1.2.0",
          "state": {
            "_model_module": "@jupyter-widgets/base",
            "_model_module_version": "1.2.0",
            "_model_name": "LayoutModel",
            "_view_count": null,
            "_view_module": "@jupyter-widgets/base",
            "_view_module_version": "1.2.0",
            "_view_name": "LayoutView",
            "align_content": null,
            "align_items": null,
            "align_self": null,
            "border": null,
            "bottom": null,
            "display": null,
            "flex": null,
            "flex_flow": null,
            "grid_area": null,
            "grid_auto_columns": null,
            "grid_auto_flow": null,
            "grid_auto_rows": null,
            "grid_column": null,
            "grid_gap": null,
            "grid_row": null,
            "grid_template_areas": null,
            "grid_template_columns": null,
            "grid_template_rows": null,
            "height": null,
            "justify_content": null,
            "justify_items": null,
            "left": null,
            "margin": null,
            "max_height": null,
            "max_width": null,
            "min_height": null,
            "min_width": null,
            "object_fit": null,
            "object_position": null,
            "order": null,
            "overflow": null,
            "overflow_x": null,
            "overflow_y": null,
            "padding": null,
            "right": null,
            "top": null,
            "visibility": null,
            "width": null
          }
        },
        "cef8984e4d9a4348a537293bff30b52d": {
          "model_module": "@jupyter-widgets/base",
          "model_name": "LayoutModel",
          "model_module_version": "1.2.0",
          "state": {
            "_model_module": "@jupyter-widgets/base",
            "_model_module_version": "1.2.0",
            "_model_name": "LayoutModel",
            "_view_count": null,
            "_view_module": "@jupyter-widgets/base",
            "_view_module_version": "1.2.0",
            "_view_name": "LayoutView",
            "align_content": null,
            "align_items": null,
            "align_self": null,
            "border": null,
            "bottom": null,
            "display": null,
            "flex": null,
            "flex_flow": null,
            "grid_area": null,
            "grid_auto_columns": null,
            "grid_auto_flow": null,
            "grid_auto_rows": null,
            "grid_column": null,
            "grid_gap": null,
            "grid_row": null,
            "grid_template_areas": null,
            "grid_template_columns": null,
            "grid_template_rows": null,
            "height": null,
            "justify_content": null,
            "justify_items": null,
            "left": null,
            "margin": null,
            "max_height": null,
            "max_width": null,
            "min_height": null,
            "min_width": null,
            "object_fit": null,
            "object_position": null,
            "order": null,
            "overflow": null,
            "overflow_x": null,
            "overflow_y": null,
            "padding": null,
            "right": null,
            "top": null,
            "visibility": null,
            "width": null
          }
        },
        "72e235b204354c56b5e54a431edfb5a9": {
          "model_module": "@jupyter-widgets/controls",
          "model_name": "DescriptionStyleModel",
          "model_module_version": "1.5.0",
          "state": {
            "_model_module": "@jupyter-widgets/controls",
            "_model_module_version": "1.5.0",
            "_model_name": "DescriptionStyleModel",
            "_view_count": null,
            "_view_module": "@jupyter-widgets/base",
            "_view_module_version": "1.2.0",
            "_view_name": "StyleView",
            "description_width": ""
          }
        },
        "f10dca8e119a44ef85ba4d003a333acb": {
          "model_module": "@jupyter-widgets/base",
          "model_name": "LayoutModel",
          "model_module_version": "1.2.0",
          "state": {
            "_model_module": "@jupyter-widgets/base",
            "_model_module_version": "1.2.0",
            "_model_name": "LayoutModel",
            "_view_count": null,
            "_view_module": "@jupyter-widgets/base",
            "_view_module_version": "1.2.0",
            "_view_name": "LayoutView",
            "align_content": null,
            "align_items": null,
            "align_self": null,
            "border": null,
            "bottom": null,
            "display": null,
            "flex": null,
            "flex_flow": null,
            "grid_area": null,
            "grid_auto_columns": null,
            "grid_auto_flow": null,
            "grid_auto_rows": null,
            "grid_column": null,
            "grid_gap": null,
            "grid_row": null,
            "grid_template_areas": null,
            "grid_template_columns": null,
            "grid_template_rows": null,
            "height": null,
            "justify_content": null,
            "justify_items": null,
            "left": null,
            "margin": null,
            "max_height": null,
            "max_width": null,
            "min_height": null,
            "min_width": null,
            "object_fit": null,
            "object_position": null,
            "order": null,
            "overflow": null,
            "overflow_x": null,
            "overflow_y": null,
            "padding": null,
            "right": null,
            "top": null,
            "visibility": null,
            "width": null
          }
        },
        "7cc9222f85f246848354a1f6dd7a2058": {
          "model_module": "@jupyter-widgets/controls",
          "model_name": "ProgressStyleModel",
          "model_module_version": "1.5.0",
          "state": {
            "_model_module": "@jupyter-widgets/controls",
            "_model_module_version": "1.5.0",
            "_model_name": "ProgressStyleModel",
            "_view_count": null,
            "_view_module": "@jupyter-widgets/base",
            "_view_module_version": "1.2.0",
            "_view_name": "StyleView",
            "bar_color": null,
            "description_width": ""
          }
        },
        "c9019324dcb14933a46319a7f36604fc": {
          "model_module": "@jupyter-widgets/base",
          "model_name": "LayoutModel",
          "model_module_version": "1.2.0",
          "state": {
            "_model_module": "@jupyter-widgets/base",
            "_model_module_version": "1.2.0",
            "_model_name": "LayoutModel",
            "_view_count": null,
            "_view_module": "@jupyter-widgets/base",
            "_view_module_version": "1.2.0",
            "_view_name": "LayoutView",
            "align_content": null,
            "align_items": null,
            "align_self": null,
            "border": null,
            "bottom": null,
            "display": null,
            "flex": null,
            "flex_flow": null,
            "grid_area": null,
            "grid_auto_columns": null,
            "grid_auto_flow": null,
            "grid_auto_rows": null,
            "grid_column": null,
            "grid_gap": null,
            "grid_row": null,
            "grid_template_areas": null,
            "grid_template_columns": null,
            "grid_template_rows": null,
            "height": null,
            "justify_content": null,
            "justify_items": null,
            "left": null,
            "margin": null,
            "max_height": null,
            "max_width": null,
            "min_height": null,
            "min_width": null,
            "object_fit": null,
            "object_position": null,
            "order": null,
            "overflow": null,
            "overflow_x": null,
            "overflow_y": null,
            "padding": null,
            "right": null,
            "top": null,
            "visibility": null,
            "width": null
          }
        },
        "9de4d1acf2794a8ea6b174e05dcd6bcf": {
          "model_module": "@jupyter-widgets/controls",
          "model_name": "DescriptionStyleModel",
          "model_module_version": "1.5.0",
          "state": {
            "_model_module": "@jupyter-widgets/controls",
            "_model_module_version": "1.5.0",
            "_model_name": "DescriptionStyleModel",
            "_view_count": null,
            "_view_module": "@jupyter-widgets/base",
            "_view_module_version": "1.2.0",
            "_view_name": "StyleView",
            "description_width": ""
          }
        },
        "b992df44774d481385dd595de84e0cd2": {
          "model_module": "@jupyter-widgets/controls",
          "model_name": "HBoxModel",
          "model_module_version": "1.5.0",
          "state": {
            "_dom_classes": [],
            "_model_module": "@jupyter-widgets/controls",
            "_model_module_version": "1.5.0",
            "_model_name": "HBoxModel",
            "_view_count": null,
            "_view_module": "@jupyter-widgets/controls",
            "_view_module_version": "1.5.0",
            "_view_name": "HBoxView",
            "box_style": "",
            "children": [
              "IPY_MODEL_1ee09e906bbb41879878def3905adcdb",
              "IPY_MODEL_2c7a5bf6252b45cdb612611112b18663",
              "IPY_MODEL_423c3d93d5dd4da29ea01c4d2db1e66a"
            ],
            "layout": "IPY_MODEL_c8984856206a4bed91fe8b987c41ca70"
          }
        },
        "1ee09e906bbb41879878def3905adcdb": {
          "model_module": "@jupyter-widgets/controls",
          "model_name": "HTMLModel",
          "model_module_version": "1.5.0",
          "state": {
            "_dom_classes": [],
            "_model_module": "@jupyter-widgets/controls",
            "_model_module_version": "1.5.0",
            "_model_name": "HTMLModel",
            "_view_count": null,
            "_view_module": "@jupyter-widgets/controls",
            "_view_module_version": "1.5.0",
            "_view_name": "HTMLView",
            "description": "",
            "description_tooltip": null,
            "layout": "IPY_MODEL_7f9f4680bceb4613b66111e65fb9ba63",
            "placeholder": "​",
            "style": "IPY_MODEL_c8a3a1e541584cd38a8edbc772b7bcc6",
            "value": "100%"
          }
        },
        "2c7a5bf6252b45cdb612611112b18663": {
          "model_module": "@jupyter-widgets/controls",
          "model_name": "FloatProgressModel",
          "model_module_version": "1.5.0",
          "state": {
            "_dom_classes": [],
            "_model_module": "@jupyter-widgets/controls",
            "_model_module_version": "1.5.0",
            "_model_name": "FloatProgressModel",
            "_view_count": null,
            "_view_module": "@jupyter-widgets/controls",
            "_view_module_version": "1.5.0",
            "_view_name": "ProgressView",
            "bar_style": "success",
            "description": "",
            "description_tooltip": null,
            "layout": "IPY_MODEL_7cd477f625a7438f8c500a98b527cc6f",
            "max": 70405,
            "min": 0,
            "orientation": "horizontal",
            "style": "IPY_MODEL_ec3a55fe1af24286b258f7171425ba8a",
            "value": 70405
          }
        },
        "423c3d93d5dd4da29ea01c4d2db1e66a": {
          "model_module": "@jupyter-widgets/controls",
          "model_name": "HTMLModel",
          "model_module_version": "1.5.0",
          "state": {
            "_dom_classes": [],
            "_model_module": "@jupyter-widgets/controls",
            "_model_module_version": "1.5.0",
            "_model_name": "HTMLModel",
            "_view_count": null,
            "_view_module": "@jupyter-widgets/controls",
            "_view_module_version": "1.5.0",
            "_view_name": "HTMLView",
            "description": "",
            "description_tooltip": null,
            "layout": "IPY_MODEL_37e0888cc7a64bba8ecf0f6a84f5da80",
            "placeholder": "​",
            "style": "IPY_MODEL_d73dfb21f11f45169ee1d601aaa6caaf",
            "value": " 70405/70405 [00:27&lt;00:00, 1529.25it/s]"
          }
        },
        "c8984856206a4bed91fe8b987c41ca70": {
          "model_module": "@jupyter-widgets/base",
          "model_name": "LayoutModel",
          "model_module_version": "1.2.0",
          "state": {
            "_model_module": "@jupyter-widgets/base",
            "_model_module_version": "1.2.0",
            "_model_name": "LayoutModel",
            "_view_count": null,
            "_view_module": "@jupyter-widgets/base",
            "_view_module_version": "1.2.0",
            "_view_name": "LayoutView",
            "align_content": null,
            "align_items": null,
            "align_self": null,
            "border": null,
            "bottom": null,
            "display": null,
            "flex": null,
            "flex_flow": null,
            "grid_area": null,
            "grid_auto_columns": null,
            "grid_auto_flow": null,
            "grid_auto_rows": null,
            "grid_column": null,
            "grid_gap": null,
            "grid_row": null,
            "grid_template_areas": null,
            "grid_template_columns": null,
            "grid_template_rows": null,
            "height": null,
            "justify_content": null,
            "justify_items": null,
            "left": null,
            "margin": null,
            "max_height": null,
            "max_width": null,
            "min_height": null,
            "min_width": null,
            "object_fit": null,
            "object_position": null,
            "order": null,
            "overflow": null,
            "overflow_x": null,
            "overflow_y": null,
            "padding": null,
            "right": null,
            "top": null,
            "visibility": null,
            "width": null
          }
        },
        "7f9f4680bceb4613b66111e65fb9ba63": {
          "model_module": "@jupyter-widgets/base",
          "model_name": "LayoutModel",
          "model_module_version": "1.2.0",
          "state": {
            "_model_module": "@jupyter-widgets/base",
            "_model_module_version": "1.2.0",
            "_model_name": "LayoutModel",
            "_view_count": null,
            "_view_module": "@jupyter-widgets/base",
            "_view_module_version": "1.2.0",
            "_view_name": "LayoutView",
            "align_content": null,
            "align_items": null,
            "align_self": null,
            "border": null,
            "bottom": null,
            "display": null,
            "flex": null,
            "flex_flow": null,
            "grid_area": null,
            "grid_auto_columns": null,
            "grid_auto_flow": null,
            "grid_auto_rows": null,
            "grid_column": null,
            "grid_gap": null,
            "grid_row": null,
            "grid_template_areas": null,
            "grid_template_columns": null,
            "grid_template_rows": null,
            "height": null,
            "justify_content": null,
            "justify_items": null,
            "left": null,
            "margin": null,
            "max_height": null,
            "max_width": null,
            "min_height": null,
            "min_width": null,
            "object_fit": null,
            "object_position": null,
            "order": null,
            "overflow": null,
            "overflow_x": null,
            "overflow_y": null,
            "padding": null,
            "right": null,
            "top": null,
            "visibility": null,
            "width": null
          }
        },
        "c8a3a1e541584cd38a8edbc772b7bcc6": {
          "model_module": "@jupyter-widgets/controls",
          "model_name": "DescriptionStyleModel",
          "model_module_version": "1.5.0",
          "state": {
            "_model_module": "@jupyter-widgets/controls",
            "_model_module_version": "1.5.0",
            "_model_name": "DescriptionStyleModel",
            "_view_count": null,
            "_view_module": "@jupyter-widgets/base",
            "_view_module_version": "1.2.0",
            "_view_name": "StyleView",
            "description_width": ""
          }
        },
        "7cd477f625a7438f8c500a98b527cc6f": {
          "model_module": "@jupyter-widgets/base",
          "model_name": "LayoutModel",
          "model_module_version": "1.2.0",
          "state": {
            "_model_module": "@jupyter-widgets/base",
            "_model_module_version": "1.2.0",
            "_model_name": "LayoutModel",
            "_view_count": null,
            "_view_module": "@jupyter-widgets/base",
            "_view_module_version": "1.2.0",
            "_view_name": "LayoutView",
            "align_content": null,
            "align_items": null,
            "align_self": null,
            "border": null,
            "bottom": null,
            "display": null,
            "flex": null,
            "flex_flow": null,
            "grid_area": null,
            "grid_auto_columns": null,
            "grid_auto_flow": null,
            "grid_auto_rows": null,
            "grid_column": null,
            "grid_gap": null,
            "grid_row": null,
            "grid_template_areas": null,
            "grid_template_columns": null,
            "grid_template_rows": null,
            "height": null,
            "justify_content": null,
            "justify_items": null,
            "left": null,
            "margin": null,
            "max_height": null,
            "max_width": null,
            "min_height": null,
            "min_width": null,
            "object_fit": null,
            "object_position": null,
            "order": null,
            "overflow": null,
            "overflow_x": null,
            "overflow_y": null,
            "padding": null,
            "right": null,
            "top": null,
            "visibility": null,
            "width": null
          }
        },
        "ec3a55fe1af24286b258f7171425ba8a": {
          "model_module": "@jupyter-widgets/controls",
          "model_name": "ProgressStyleModel",
          "model_module_version": "1.5.0",
          "state": {
            "_model_module": "@jupyter-widgets/controls",
            "_model_module_version": "1.5.0",
            "_model_name": "ProgressStyleModel",
            "_view_count": null,
            "_view_module": "@jupyter-widgets/base",
            "_view_module_version": "1.2.0",
            "_view_name": "StyleView",
            "bar_color": null,
            "description_width": ""
          }
        },
        "37e0888cc7a64bba8ecf0f6a84f5da80": {
          "model_module": "@jupyter-widgets/base",
          "model_name": "LayoutModel",
          "model_module_version": "1.2.0",
          "state": {
            "_model_module": "@jupyter-widgets/base",
            "_model_module_version": "1.2.0",
            "_model_name": "LayoutModel",
            "_view_count": null,
            "_view_module": "@jupyter-widgets/base",
            "_view_module_version": "1.2.0",
            "_view_name": "LayoutView",
            "align_content": null,
            "align_items": null,
            "align_self": null,
            "border": null,
            "bottom": null,
            "display": null,
            "flex": null,
            "flex_flow": null,
            "grid_area": null,
            "grid_auto_columns": null,
            "grid_auto_flow": null,
            "grid_auto_rows": null,
            "grid_column": null,
            "grid_gap": null,
            "grid_row": null,
            "grid_template_areas": null,
            "grid_template_columns": null,
            "grid_template_rows": null,
            "height": null,
            "justify_content": null,
            "justify_items": null,
            "left": null,
            "margin": null,
            "max_height": null,
            "max_width": null,
            "min_height": null,
            "min_width": null,
            "object_fit": null,
            "object_position": null,
            "order": null,
            "overflow": null,
            "overflow_x": null,
            "overflow_y": null,
            "padding": null,
            "right": null,
            "top": null,
            "visibility": null,
            "width": null
          }
        },
        "d73dfb21f11f45169ee1d601aaa6caaf": {
          "model_module": "@jupyter-widgets/controls",
          "model_name": "DescriptionStyleModel",
          "model_module_version": "1.5.0",
          "state": {
            "_model_module": "@jupyter-widgets/controls",
            "_model_module_version": "1.5.0",
            "_model_name": "DescriptionStyleModel",
            "_view_count": null,
            "_view_module": "@jupyter-widgets/base",
            "_view_module_version": "1.2.0",
            "_view_name": "StyleView",
            "description_width": ""
          }
        },
        "a3dd6af7cfc14870a5f63093bd78bbf0": {
          "model_module": "@jupyter-widgets/controls",
          "model_name": "HBoxModel",
          "model_module_version": "1.5.0",
          "state": {
            "_dom_classes": [],
            "_model_module": "@jupyter-widgets/controls",
            "_model_module_version": "1.5.0",
            "_model_name": "HBoxModel",
            "_view_count": null,
            "_view_module": "@jupyter-widgets/controls",
            "_view_module_version": "1.5.0",
            "_view_name": "HBoxView",
            "box_style": "",
            "children": [
              "IPY_MODEL_8fee057dfd3c413aa55f2e77ef7514ec",
              "IPY_MODEL_1b5613d467d34d82a55613c76c2e3a01",
              "IPY_MODEL_eb74e5f5399e42bb805d872ea800bf34"
            ],
            "layout": "IPY_MODEL_cc379d939ef64d1c9c2fa4a9f2d62cbe"
          }
        },
        "8fee057dfd3c413aa55f2e77ef7514ec": {
          "model_module": "@jupyter-widgets/controls",
          "model_name": "HTMLModel",
          "model_module_version": "1.5.0",
          "state": {
            "_dom_classes": [],
            "_model_module": "@jupyter-widgets/controls",
            "_model_module_version": "1.5.0",
            "_model_name": "HTMLModel",
            "_view_count": null,
            "_view_module": "@jupyter-widgets/controls",
            "_view_module_version": "1.5.0",
            "_view_name": "HTMLView",
            "description": "",
            "description_tooltip": null,
            "layout": "IPY_MODEL_b325a7d0c3cd491eb4669ad879dbdaec",
            "placeholder": "​",
            "style": "IPY_MODEL_79458f80b96c4767b3cfda83e5b49de0",
            "value": "100%"
          }
        },
        "1b5613d467d34d82a55613c76c2e3a01": {
          "model_module": "@jupyter-widgets/controls",
          "model_name": "FloatProgressModel",
          "model_module_version": "1.5.0",
          "state": {
            "_dom_classes": [],
            "_model_module": "@jupyter-widgets/controls",
            "_model_module_version": "1.5.0",
            "_model_name": "FloatProgressModel",
            "_view_count": null,
            "_view_module": "@jupyter-widgets/controls",
            "_view_module_version": "1.5.0",
            "_view_name": "ProgressView",
            "bar_style": "success",
            "description": "",
            "description_tooltip": null,
            "layout": "IPY_MODEL_9943fd640732452f938ae59eeb08a08f",
            "max": 4245,
            "min": 0,
            "orientation": "horizontal",
            "style": "IPY_MODEL_f824a5fcd86c47759b5b3895431d462a",
            "value": 4245
          }
        },
        "eb74e5f5399e42bb805d872ea800bf34": {
          "model_module": "@jupyter-widgets/controls",
          "model_name": "HTMLModel",
          "model_module_version": "1.5.0",
          "state": {
            "_dom_classes": [],
            "_model_module": "@jupyter-widgets/controls",
            "_model_module_version": "1.5.0",
            "_model_name": "HTMLModel",
            "_view_count": null,
            "_view_module": "@jupyter-widgets/controls",
            "_view_module_version": "1.5.0",
            "_view_name": "HTMLView",
            "description": "",
            "description_tooltip": null,
            "layout": "IPY_MODEL_ba541126ce224effaa71489b437ca1dd",
            "placeholder": "​",
            "style": "IPY_MODEL_2d4bf16870a846c68b36019edcce8feb",
            "value": " 4245/4245 [00:03&lt;00:00, 2700.23it/s]"
          }
        },
        "cc379d939ef64d1c9c2fa4a9f2d62cbe": {
          "model_module": "@jupyter-widgets/base",
          "model_name": "LayoutModel",
          "model_module_version": "1.2.0",
          "state": {
            "_model_module": "@jupyter-widgets/base",
            "_model_module_version": "1.2.0",
            "_model_name": "LayoutModel",
            "_view_count": null,
            "_view_module": "@jupyter-widgets/base",
            "_view_module_version": "1.2.0",
            "_view_name": "LayoutView",
            "align_content": null,
            "align_items": null,
            "align_self": null,
            "border": null,
            "bottom": null,
            "display": null,
            "flex": null,
            "flex_flow": null,
            "grid_area": null,
            "grid_auto_columns": null,
            "grid_auto_flow": null,
            "grid_auto_rows": null,
            "grid_column": null,
            "grid_gap": null,
            "grid_row": null,
            "grid_template_areas": null,
            "grid_template_columns": null,
            "grid_template_rows": null,
            "height": null,
            "justify_content": null,
            "justify_items": null,
            "left": null,
            "margin": null,
            "max_height": null,
            "max_width": null,
            "min_height": null,
            "min_width": null,
            "object_fit": null,
            "object_position": null,
            "order": null,
            "overflow": null,
            "overflow_x": null,
            "overflow_y": null,
            "padding": null,
            "right": null,
            "top": null,
            "visibility": null,
            "width": null
          }
        },
        "b325a7d0c3cd491eb4669ad879dbdaec": {
          "model_module": "@jupyter-widgets/base",
          "model_name": "LayoutModel",
          "model_module_version": "1.2.0",
          "state": {
            "_model_module": "@jupyter-widgets/base",
            "_model_module_version": "1.2.0",
            "_model_name": "LayoutModel",
            "_view_count": null,
            "_view_module": "@jupyter-widgets/base",
            "_view_module_version": "1.2.0",
            "_view_name": "LayoutView",
            "align_content": null,
            "align_items": null,
            "align_self": null,
            "border": null,
            "bottom": null,
            "display": null,
            "flex": null,
            "flex_flow": null,
            "grid_area": null,
            "grid_auto_columns": null,
            "grid_auto_flow": null,
            "grid_auto_rows": null,
            "grid_column": null,
            "grid_gap": null,
            "grid_row": null,
            "grid_template_areas": null,
            "grid_template_columns": null,
            "grid_template_rows": null,
            "height": null,
            "justify_content": null,
            "justify_items": null,
            "left": null,
            "margin": null,
            "max_height": null,
            "max_width": null,
            "min_height": null,
            "min_width": null,
            "object_fit": null,
            "object_position": null,
            "order": null,
            "overflow": null,
            "overflow_x": null,
            "overflow_y": null,
            "padding": null,
            "right": null,
            "top": null,
            "visibility": null,
            "width": null
          }
        },
        "79458f80b96c4767b3cfda83e5b49de0": {
          "model_module": "@jupyter-widgets/controls",
          "model_name": "DescriptionStyleModel",
          "model_module_version": "1.5.0",
          "state": {
            "_model_module": "@jupyter-widgets/controls",
            "_model_module_version": "1.5.0",
            "_model_name": "DescriptionStyleModel",
            "_view_count": null,
            "_view_module": "@jupyter-widgets/base",
            "_view_module_version": "1.2.0",
            "_view_name": "StyleView",
            "description_width": ""
          }
        },
        "9943fd640732452f938ae59eeb08a08f": {
          "model_module": "@jupyter-widgets/base",
          "model_name": "LayoutModel",
          "model_module_version": "1.2.0",
          "state": {
            "_model_module": "@jupyter-widgets/base",
            "_model_module_version": "1.2.0",
            "_model_name": "LayoutModel",
            "_view_count": null,
            "_view_module": "@jupyter-widgets/base",
            "_view_module_version": "1.2.0",
            "_view_name": "LayoutView",
            "align_content": null,
            "align_items": null,
            "align_self": null,
            "border": null,
            "bottom": null,
            "display": null,
            "flex": null,
            "flex_flow": null,
            "grid_area": null,
            "grid_auto_columns": null,
            "grid_auto_flow": null,
            "grid_auto_rows": null,
            "grid_column": null,
            "grid_gap": null,
            "grid_row": null,
            "grid_template_areas": null,
            "grid_template_columns": null,
            "grid_template_rows": null,
            "height": null,
            "justify_content": null,
            "justify_items": null,
            "left": null,
            "margin": null,
            "max_height": null,
            "max_width": null,
            "min_height": null,
            "min_width": null,
            "object_fit": null,
            "object_position": null,
            "order": null,
            "overflow": null,
            "overflow_x": null,
            "overflow_y": null,
            "padding": null,
            "right": null,
            "top": null,
            "visibility": null,
            "width": null
          }
        },
        "f824a5fcd86c47759b5b3895431d462a": {
          "model_module": "@jupyter-widgets/controls",
          "model_name": "ProgressStyleModel",
          "model_module_version": "1.5.0",
          "state": {
            "_model_module": "@jupyter-widgets/controls",
            "_model_module_version": "1.5.0",
            "_model_name": "ProgressStyleModel",
            "_view_count": null,
            "_view_module": "@jupyter-widgets/base",
            "_view_module_version": "1.2.0",
            "_view_name": "StyleView",
            "bar_color": null,
            "description_width": ""
          }
        },
        "ba541126ce224effaa71489b437ca1dd": {
          "model_module": "@jupyter-widgets/base",
          "model_name": "LayoutModel",
          "model_module_version": "1.2.0",
          "state": {
            "_model_module": "@jupyter-widgets/base",
            "_model_module_version": "1.2.0",
            "_model_name": "LayoutModel",
            "_view_count": null,
            "_view_module": "@jupyter-widgets/base",
            "_view_module_version": "1.2.0",
            "_view_name": "LayoutView",
            "align_content": null,
            "align_items": null,
            "align_self": null,
            "border": null,
            "bottom": null,
            "display": null,
            "flex": null,
            "flex_flow": null,
            "grid_area": null,
            "grid_auto_columns": null,
            "grid_auto_flow": null,
            "grid_auto_rows": null,
            "grid_column": null,
            "grid_gap": null,
            "grid_row": null,
            "grid_template_areas": null,
            "grid_template_columns": null,
            "grid_template_rows": null,
            "height": null,
            "justify_content": null,
            "justify_items": null,
            "left": null,
            "margin": null,
            "max_height": null,
            "max_width": null,
            "min_height": null,
            "min_width": null,
            "object_fit": null,
            "object_position": null,
            "order": null,
            "overflow": null,
            "overflow_x": null,
            "overflow_y": null,
            "padding": null,
            "right": null,
            "top": null,
            "visibility": null,
            "width": null
          }
        },
        "2d4bf16870a846c68b36019edcce8feb": {
          "model_module": "@jupyter-widgets/controls",
          "model_name": "DescriptionStyleModel",
          "model_module_version": "1.5.0",
          "state": {
            "_model_module": "@jupyter-widgets/controls",
            "_model_module_version": "1.5.0",
            "_model_name": "DescriptionStyleModel",
            "_view_count": null,
            "_view_module": "@jupyter-widgets/base",
            "_view_module_version": "1.2.0",
            "_view_name": "StyleView",
            "description_width": ""
          }
        },
        "b0229ac37d164b4ca5ac244ab5c7dcbc": {
          "model_module": "@jupyter-widgets/controls",
          "model_name": "HBoxModel",
          "model_module_version": "1.5.0",
          "state": {
            "_dom_classes": [],
            "_model_module": "@jupyter-widgets/controls",
            "_model_module_version": "1.5.0",
            "_model_name": "HBoxModel",
            "_view_count": null,
            "_view_module": "@jupyter-widgets/controls",
            "_view_module_version": "1.5.0",
            "_view_name": "HBoxView",
            "box_style": "",
            "children": [
              "IPY_MODEL_1517708e5ecb474192e00cacf9a60472",
              "IPY_MODEL_bac01a06bba64b049b323d0ca7b9006a",
              "IPY_MODEL_9d82301e694243ada0f80892d1f0936b"
            ],
            "layout": "IPY_MODEL_4c018c6de97e4718b7a1cb6d3b62d4cf"
          }
        },
        "1517708e5ecb474192e00cacf9a60472": {
          "model_module": "@jupyter-widgets/controls",
          "model_name": "HTMLModel",
          "model_module_version": "1.5.0",
          "state": {
            "_dom_classes": [],
            "_model_module": "@jupyter-widgets/controls",
            "_model_module_version": "1.5.0",
            "_model_name": "HTMLModel",
            "_view_count": null,
            "_view_module": "@jupyter-widgets/controls",
            "_view_module_version": "1.5.0",
            "_view_name": "HTMLView",
            "description": "",
            "description_tooltip": null,
            "layout": "IPY_MODEL_f7d1dac037004c0082eefdbd58f47030",
            "placeholder": "​",
            "style": "IPY_MODEL_ca31a71ff56440fbb5a2735e89a35746",
            "value": "100%"
          }
        },
        "bac01a06bba64b049b323d0ca7b9006a": {
          "model_module": "@jupyter-widgets/controls",
          "model_name": "FloatProgressModel",
          "model_module_version": "1.5.0",
          "state": {
            "_dom_classes": [],
            "_model_module": "@jupyter-widgets/controls",
            "_model_module_version": "1.5.0",
            "_model_name": "FloatProgressModel",
            "_view_count": null,
            "_view_module": "@jupyter-widgets/controls",
            "_view_module_version": "1.5.0",
            "_view_name": "ProgressView",
            "bar_style": "success",
            "description": "",
            "description_tooltip": null,
            "layout": "IPY_MODEL_7c6e1d8bf4664b5581dccea5f5f00ec4",
            "max": 56324,
            "min": 0,
            "orientation": "horizontal",
            "style": "IPY_MODEL_be196bec31834881b5f353332d9ae9f5",
            "value": 56324
          }
        },
        "9d82301e694243ada0f80892d1f0936b": {
          "model_module": "@jupyter-widgets/controls",
          "model_name": "HTMLModel",
          "model_module_version": "1.5.0",
          "state": {
            "_dom_classes": [],
            "_model_module": "@jupyter-widgets/controls",
            "_model_module_version": "1.5.0",
            "_model_name": "HTMLModel",
            "_view_count": null,
            "_view_module": "@jupyter-widgets/controls",
            "_view_module_version": "1.5.0",
            "_view_name": "HTMLView",
            "description": "",
            "description_tooltip": null,
            "layout": "IPY_MODEL_292bf0b5d1ad41e996c405f73422107e",
            "placeholder": "​",
            "style": "IPY_MODEL_3bcb4522a9ba44dd959b040fc47c4a22",
            "value": " 56324/56324 [00:03&lt;00:00, 17781.32it/s]"
          }
        },
        "4c018c6de97e4718b7a1cb6d3b62d4cf": {
          "model_module": "@jupyter-widgets/base",
          "model_name": "LayoutModel",
          "model_module_version": "1.2.0",
          "state": {
            "_model_module": "@jupyter-widgets/base",
            "_model_module_version": "1.2.0",
            "_model_name": "LayoutModel",
            "_view_count": null,
            "_view_module": "@jupyter-widgets/base",
            "_view_module_version": "1.2.0",
            "_view_name": "LayoutView",
            "align_content": null,
            "align_items": null,
            "align_self": null,
            "border": null,
            "bottom": null,
            "display": null,
            "flex": null,
            "flex_flow": null,
            "grid_area": null,
            "grid_auto_columns": null,
            "grid_auto_flow": null,
            "grid_auto_rows": null,
            "grid_column": null,
            "grid_gap": null,
            "grid_row": null,
            "grid_template_areas": null,
            "grid_template_columns": null,
            "grid_template_rows": null,
            "height": null,
            "justify_content": null,
            "justify_items": null,
            "left": null,
            "margin": null,
            "max_height": null,
            "max_width": null,
            "min_height": null,
            "min_width": null,
            "object_fit": null,
            "object_position": null,
            "order": null,
            "overflow": null,
            "overflow_x": null,
            "overflow_y": null,
            "padding": null,
            "right": null,
            "top": null,
            "visibility": null,
            "width": null
          }
        },
        "f7d1dac037004c0082eefdbd58f47030": {
          "model_module": "@jupyter-widgets/base",
          "model_name": "LayoutModel",
          "model_module_version": "1.2.0",
          "state": {
            "_model_module": "@jupyter-widgets/base",
            "_model_module_version": "1.2.0",
            "_model_name": "LayoutModel",
            "_view_count": null,
            "_view_module": "@jupyter-widgets/base",
            "_view_module_version": "1.2.0",
            "_view_name": "LayoutView",
            "align_content": null,
            "align_items": null,
            "align_self": null,
            "border": null,
            "bottom": null,
            "display": null,
            "flex": null,
            "flex_flow": null,
            "grid_area": null,
            "grid_auto_columns": null,
            "grid_auto_flow": null,
            "grid_auto_rows": null,
            "grid_column": null,
            "grid_gap": null,
            "grid_row": null,
            "grid_template_areas": null,
            "grid_template_columns": null,
            "grid_template_rows": null,
            "height": null,
            "justify_content": null,
            "justify_items": null,
            "left": null,
            "margin": null,
            "max_height": null,
            "max_width": null,
            "min_height": null,
            "min_width": null,
            "object_fit": null,
            "object_position": null,
            "order": null,
            "overflow": null,
            "overflow_x": null,
            "overflow_y": null,
            "padding": null,
            "right": null,
            "top": null,
            "visibility": null,
            "width": null
          }
        },
        "ca31a71ff56440fbb5a2735e89a35746": {
          "model_module": "@jupyter-widgets/controls",
          "model_name": "DescriptionStyleModel",
          "model_module_version": "1.5.0",
          "state": {
            "_model_module": "@jupyter-widgets/controls",
            "_model_module_version": "1.5.0",
            "_model_name": "DescriptionStyleModel",
            "_view_count": null,
            "_view_module": "@jupyter-widgets/base",
            "_view_module_version": "1.2.0",
            "_view_name": "StyleView",
            "description_width": ""
          }
        },
        "7c6e1d8bf4664b5581dccea5f5f00ec4": {
          "model_module": "@jupyter-widgets/base",
          "model_name": "LayoutModel",
          "model_module_version": "1.2.0",
          "state": {
            "_model_module": "@jupyter-widgets/base",
            "_model_module_version": "1.2.0",
            "_model_name": "LayoutModel",
            "_view_count": null,
            "_view_module": "@jupyter-widgets/base",
            "_view_module_version": "1.2.0",
            "_view_name": "LayoutView",
            "align_content": null,
            "align_items": null,
            "align_self": null,
            "border": null,
            "bottom": null,
            "display": null,
            "flex": null,
            "flex_flow": null,
            "grid_area": null,
            "grid_auto_columns": null,
            "grid_auto_flow": null,
            "grid_auto_rows": null,
            "grid_column": null,
            "grid_gap": null,
            "grid_row": null,
            "grid_template_areas": null,
            "grid_template_columns": null,
            "grid_template_rows": null,
            "height": null,
            "justify_content": null,
            "justify_items": null,
            "left": null,
            "margin": null,
            "max_height": null,
            "max_width": null,
            "min_height": null,
            "min_width": null,
            "object_fit": null,
            "object_position": null,
            "order": null,
            "overflow": null,
            "overflow_x": null,
            "overflow_y": null,
            "padding": null,
            "right": null,
            "top": null,
            "visibility": null,
            "width": null
          }
        },
        "be196bec31834881b5f353332d9ae9f5": {
          "model_module": "@jupyter-widgets/controls",
          "model_name": "ProgressStyleModel",
          "model_module_version": "1.5.0",
          "state": {
            "_model_module": "@jupyter-widgets/controls",
            "_model_module_version": "1.5.0",
            "_model_name": "ProgressStyleModel",
            "_view_count": null,
            "_view_module": "@jupyter-widgets/base",
            "_view_module_version": "1.2.0",
            "_view_name": "StyleView",
            "bar_color": null,
            "description_width": ""
          }
        },
        "292bf0b5d1ad41e996c405f73422107e": {
          "model_module": "@jupyter-widgets/base",
          "model_name": "LayoutModel",
          "model_module_version": "1.2.0",
          "state": {
            "_model_module": "@jupyter-widgets/base",
            "_model_module_version": "1.2.0",
            "_model_name": "LayoutModel",
            "_view_count": null,
            "_view_module": "@jupyter-widgets/base",
            "_view_module_version": "1.2.0",
            "_view_name": "LayoutView",
            "align_content": null,
            "align_items": null,
            "align_self": null,
            "border": null,
            "bottom": null,
            "display": null,
            "flex": null,
            "flex_flow": null,
            "grid_area": null,
            "grid_auto_columns": null,
            "grid_auto_flow": null,
            "grid_auto_rows": null,
            "grid_column": null,
            "grid_gap": null,
            "grid_row": null,
            "grid_template_areas": null,
            "grid_template_columns": null,
            "grid_template_rows": null,
            "height": null,
            "justify_content": null,
            "justify_items": null,
            "left": null,
            "margin": null,
            "max_height": null,
            "max_width": null,
            "min_height": null,
            "min_width": null,
            "object_fit": null,
            "object_position": null,
            "order": null,
            "overflow": null,
            "overflow_x": null,
            "overflow_y": null,
            "padding": null,
            "right": null,
            "top": null,
            "visibility": null,
            "width": null
          }
        },
        "3bcb4522a9ba44dd959b040fc47c4a22": {
          "model_module": "@jupyter-widgets/controls",
          "model_name": "DescriptionStyleModel",
          "model_module_version": "1.5.0",
          "state": {
            "_model_module": "@jupyter-widgets/controls",
            "_model_module_version": "1.5.0",
            "_model_name": "DescriptionStyleModel",
            "_view_count": null,
            "_view_module": "@jupyter-widgets/base",
            "_view_module_version": "1.2.0",
            "_view_name": "StyleView",
            "description_width": ""
          }
        },
        "61e6458fece84cf988f5755086c8052a": {
          "model_module": "@jupyter-widgets/controls",
          "model_name": "HBoxModel",
          "model_module_version": "1.5.0",
          "state": {
            "_dom_classes": [],
            "_model_module": "@jupyter-widgets/controls",
            "_model_module_version": "1.5.0",
            "_model_name": "HBoxModel",
            "_view_count": null,
            "_view_module": "@jupyter-widgets/controls",
            "_view_module_version": "1.5.0",
            "_view_name": "HBoxView",
            "box_style": "",
            "children": [
              "IPY_MODEL_26b5eefc362949108e8899dea5af03e6",
              "IPY_MODEL_a89437d4f75842fcad7a824741765c8e",
              "IPY_MODEL_ea49ccae8ff44358a3e442e94bc6e2b4"
            ],
            "layout": "IPY_MODEL_c59a02c437c74a29b50026ebf65c52b5"
          }
        },
        "26b5eefc362949108e8899dea5af03e6": {
          "model_module": "@jupyter-widgets/controls",
          "model_name": "HTMLModel",
          "model_module_version": "1.5.0",
          "state": {
            "_dom_classes": [],
            "_model_module": "@jupyter-widgets/controls",
            "_model_module_version": "1.5.0",
            "_model_name": "HTMLModel",
            "_view_count": null,
            "_view_module": "@jupyter-widgets/controls",
            "_view_module_version": "1.5.0",
            "_view_name": "HTMLView",
            "description": "",
            "description_tooltip": null,
            "layout": "IPY_MODEL_03444bb5292a4b5db79b7daf5ff8f512",
            "placeholder": "​",
            "style": "IPY_MODEL_5af3b645ee6147f3903bcedb83df1862",
            "value": "100%"
          }
        },
        "a89437d4f75842fcad7a824741765c8e": {
          "model_module": "@jupyter-widgets/controls",
          "model_name": "FloatProgressModel",
          "model_module_version": "1.5.0",
          "state": {
            "_dom_classes": [],
            "_model_module": "@jupyter-widgets/controls",
            "_model_module_version": "1.5.0",
            "_model_name": "FloatProgressModel",
            "_view_count": null,
            "_view_module": "@jupyter-widgets/controls",
            "_view_module_version": "1.5.0",
            "_view_name": "ProgressView",
            "bar_style": "success",
            "description": "",
            "description_tooltip": null,
            "layout": "IPY_MODEL_35de2c2200a3499faf99e517017ee47f",
            "max": 56324,
            "min": 0,
            "orientation": "horizontal",
            "style": "IPY_MODEL_8d6b553f15eb47b9800c756ed4c8a469",
            "value": 56324
          }
        },
        "ea49ccae8ff44358a3e442e94bc6e2b4": {
          "model_module": "@jupyter-widgets/controls",
          "model_name": "HTMLModel",
          "model_module_version": "1.5.0",
          "state": {
            "_dom_classes": [],
            "_model_module": "@jupyter-widgets/controls",
            "_model_module_version": "1.5.0",
            "_model_name": "HTMLModel",
            "_view_count": null,
            "_view_module": "@jupyter-widgets/controls",
            "_view_module_version": "1.5.0",
            "_view_name": "HTMLView",
            "description": "",
            "description_tooltip": null,
            "layout": "IPY_MODEL_c50db91329794beb8fb22f4506490acf",
            "placeholder": "​",
            "style": "IPY_MODEL_9ef270698e9e4ab496a4086080eff402",
            "value": " 56324/56324 [00:08&lt;00:00, 8759.50it/s]"
          }
        },
        "c59a02c437c74a29b50026ebf65c52b5": {
          "model_module": "@jupyter-widgets/base",
          "model_name": "LayoutModel",
          "model_module_version": "1.2.0",
          "state": {
            "_model_module": "@jupyter-widgets/base",
            "_model_module_version": "1.2.0",
            "_model_name": "LayoutModel",
            "_view_count": null,
            "_view_module": "@jupyter-widgets/base",
            "_view_module_version": "1.2.0",
            "_view_name": "LayoutView",
            "align_content": null,
            "align_items": null,
            "align_self": null,
            "border": null,
            "bottom": null,
            "display": null,
            "flex": null,
            "flex_flow": null,
            "grid_area": null,
            "grid_auto_columns": null,
            "grid_auto_flow": null,
            "grid_auto_rows": null,
            "grid_column": null,
            "grid_gap": null,
            "grid_row": null,
            "grid_template_areas": null,
            "grid_template_columns": null,
            "grid_template_rows": null,
            "height": null,
            "justify_content": null,
            "justify_items": null,
            "left": null,
            "margin": null,
            "max_height": null,
            "max_width": null,
            "min_height": null,
            "min_width": null,
            "object_fit": null,
            "object_position": null,
            "order": null,
            "overflow": null,
            "overflow_x": null,
            "overflow_y": null,
            "padding": null,
            "right": null,
            "top": null,
            "visibility": null,
            "width": null
          }
        },
        "03444bb5292a4b5db79b7daf5ff8f512": {
          "model_module": "@jupyter-widgets/base",
          "model_name": "LayoutModel",
          "model_module_version": "1.2.0",
          "state": {
            "_model_module": "@jupyter-widgets/base",
            "_model_module_version": "1.2.0",
            "_model_name": "LayoutModel",
            "_view_count": null,
            "_view_module": "@jupyter-widgets/base",
            "_view_module_version": "1.2.0",
            "_view_name": "LayoutView",
            "align_content": null,
            "align_items": null,
            "align_self": null,
            "border": null,
            "bottom": null,
            "display": null,
            "flex": null,
            "flex_flow": null,
            "grid_area": null,
            "grid_auto_columns": null,
            "grid_auto_flow": null,
            "grid_auto_rows": null,
            "grid_column": null,
            "grid_gap": null,
            "grid_row": null,
            "grid_template_areas": null,
            "grid_template_columns": null,
            "grid_template_rows": null,
            "height": null,
            "justify_content": null,
            "justify_items": null,
            "left": null,
            "margin": null,
            "max_height": null,
            "max_width": null,
            "min_height": null,
            "min_width": null,
            "object_fit": null,
            "object_position": null,
            "order": null,
            "overflow": null,
            "overflow_x": null,
            "overflow_y": null,
            "padding": null,
            "right": null,
            "top": null,
            "visibility": null,
            "width": null
          }
        },
        "5af3b645ee6147f3903bcedb83df1862": {
          "model_module": "@jupyter-widgets/controls",
          "model_name": "DescriptionStyleModel",
          "model_module_version": "1.5.0",
          "state": {
            "_model_module": "@jupyter-widgets/controls",
            "_model_module_version": "1.5.0",
            "_model_name": "DescriptionStyleModel",
            "_view_count": null,
            "_view_module": "@jupyter-widgets/base",
            "_view_module_version": "1.2.0",
            "_view_name": "StyleView",
            "description_width": ""
          }
        },
        "35de2c2200a3499faf99e517017ee47f": {
          "model_module": "@jupyter-widgets/base",
          "model_name": "LayoutModel",
          "model_module_version": "1.2.0",
          "state": {
            "_model_module": "@jupyter-widgets/base",
            "_model_module_version": "1.2.0",
            "_model_name": "LayoutModel",
            "_view_count": null,
            "_view_module": "@jupyter-widgets/base",
            "_view_module_version": "1.2.0",
            "_view_name": "LayoutView",
            "align_content": null,
            "align_items": null,
            "align_self": null,
            "border": null,
            "bottom": null,
            "display": null,
            "flex": null,
            "flex_flow": null,
            "grid_area": null,
            "grid_auto_columns": null,
            "grid_auto_flow": null,
            "grid_auto_rows": null,
            "grid_column": null,
            "grid_gap": null,
            "grid_row": null,
            "grid_template_areas": null,
            "grid_template_columns": null,
            "grid_template_rows": null,
            "height": null,
            "justify_content": null,
            "justify_items": null,
            "left": null,
            "margin": null,
            "max_height": null,
            "max_width": null,
            "min_height": null,
            "min_width": null,
            "object_fit": null,
            "object_position": null,
            "order": null,
            "overflow": null,
            "overflow_x": null,
            "overflow_y": null,
            "padding": null,
            "right": null,
            "top": null,
            "visibility": null,
            "width": null
          }
        },
        "8d6b553f15eb47b9800c756ed4c8a469": {
          "model_module": "@jupyter-widgets/controls",
          "model_name": "ProgressStyleModel",
          "model_module_version": "1.5.0",
          "state": {
            "_model_module": "@jupyter-widgets/controls",
            "_model_module_version": "1.5.0",
            "_model_name": "ProgressStyleModel",
            "_view_count": null,
            "_view_module": "@jupyter-widgets/base",
            "_view_module_version": "1.2.0",
            "_view_name": "StyleView",
            "bar_color": null,
            "description_width": ""
          }
        },
        "c50db91329794beb8fb22f4506490acf": {
          "model_module": "@jupyter-widgets/base",
          "model_name": "LayoutModel",
          "model_module_version": "1.2.0",
          "state": {
            "_model_module": "@jupyter-widgets/base",
            "_model_module_version": "1.2.0",
            "_model_name": "LayoutModel",
            "_view_count": null,
            "_view_module": "@jupyter-widgets/base",
            "_view_module_version": "1.2.0",
            "_view_name": "LayoutView",
            "align_content": null,
            "align_items": null,
            "align_self": null,
            "border": null,
            "bottom": null,
            "display": null,
            "flex": null,
            "flex_flow": null,
            "grid_area": null,
            "grid_auto_columns": null,
            "grid_auto_flow": null,
            "grid_auto_rows": null,
            "grid_column": null,
            "grid_gap": null,
            "grid_row": null,
            "grid_template_areas": null,
            "grid_template_columns": null,
            "grid_template_rows": null,
            "height": null,
            "justify_content": null,
            "justify_items": null,
            "left": null,
            "margin": null,
            "max_height": null,
            "max_width": null,
            "min_height": null,
            "min_width": null,
            "object_fit": null,
            "object_position": null,
            "order": null,
            "overflow": null,
            "overflow_x": null,
            "overflow_y": null,
            "padding": null,
            "right": null,
            "top": null,
            "visibility": null,
            "width": null
          }
        },
        "9ef270698e9e4ab496a4086080eff402": {
          "model_module": "@jupyter-widgets/controls",
          "model_name": "DescriptionStyleModel",
          "model_module_version": "1.5.0",
          "state": {
            "_model_module": "@jupyter-widgets/controls",
            "_model_module_version": "1.5.0",
            "_model_name": "DescriptionStyleModel",
            "_view_count": null,
            "_view_module": "@jupyter-widgets/base",
            "_view_module_version": "1.2.0",
            "_view_name": "StyleView",
            "description_width": ""
          }
        },
        "cd2a754db4a143d8948379363907948a": {
          "model_module": "@jupyter-widgets/controls",
          "model_name": "HBoxModel",
          "model_module_version": "1.5.0",
          "state": {
            "_dom_classes": [],
            "_model_module": "@jupyter-widgets/controls",
            "_model_module_version": "1.5.0",
            "_model_name": "HBoxModel",
            "_view_count": null,
            "_view_module": "@jupyter-widgets/controls",
            "_view_module_version": "1.5.0",
            "_view_name": "HBoxView",
            "box_style": "",
            "children": [
              "IPY_MODEL_09a0f03a88c24b96875dab77c0df5b9f",
              "IPY_MODEL_3de232292df949d08bcb6eec8b51413d",
              "IPY_MODEL_cfa344c5ae3e45ca98c2b45004d9fc78"
            ],
            "layout": "IPY_MODEL_62f6bf3428bf40e8ba1e80240fa0efaa"
          }
        },
        "09a0f03a88c24b96875dab77c0df5b9f": {
          "model_module": "@jupyter-widgets/controls",
          "model_name": "HTMLModel",
          "model_module_version": "1.5.0",
          "state": {
            "_dom_classes": [],
            "_model_module": "@jupyter-widgets/controls",
            "_model_module_version": "1.5.0",
            "_model_name": "HTMLModel",
            "_view_count": null,
            "_view_module": "@jupyter-widgets/controls",
            "_view_module_version": "1.5.0",
            "_view_name": "HTMLView",
            "description": "",
            "description_tooltip": null,
            "layout": "IPY_MODEL_4eecc6b88df74db893896d23e57203b8",
            "placeholder": "​",
            "style": "IPY_MODEL_4c0700562a7c4b89b3980e12986c68c7",
            "value": "100%"
          }
        },
        "3de232292df949d08bcb6eec8b51413d": {
          "model_module": "@jupyter-widgets/controls",
          "model_name": "FloatProgressModel",
          "model_module_version": "1.5.0",
          "state": {
            "_dom_classes": [],
            "_model_module": "@jupyter-widgets/controls",
            "_model_module_version": "1.5.0",
            "_model_name": "FloatProgressModel",
            "_view_count": null,
            "_view_module": "@jupyter-widgets/controls",
            "_view_module_version": "1.5.0",
            "_view_name": "ProgressView",
            "bar_style": "success",
            "description": "",
            "description_tooltip": null,
            "layout": "IPY_MODEL_97e4e4ca21b34dd095541687bf7a6a36",
            "max": 14081,
            "min": 0,
            "orientation": "horizontal",
            "style": "IPY_MODEL_8accc57eb4334d4591ba45cbc07b78ca",
            "value": 14081
          }
        },
        "cfa344c5ae3e45ca98c2b45004d9fc78": {
          "model_module": "@jupyter-widgets/controls",
          "model_name": "HTMLModel",
          "model_module_version": "1.5.0",
          "state": {
            "_dom_classes": [],
            "_model_module": "@jupyter-widgets/controls",
            "_model_module_version": "1.5.0",
            "_model_name": "HTMLModel",
            "_view_count": null,
            "_view_module": "@jupyter-widgets/controls",
            "_view_module_version": "1.5.0",
            "_view_name": "HTMLView",
            "description": "",
            "description_tooltip": null,
            "layout": "IPY_MODEL_12975a2c4db44581bd43797637a85b00",
            "placeholder": "​",
            "style": "IPY_MODEL_e37e0f849f1b448db46321a3b702de5f",
            "value": " 14081/14081 [00:00&lt;00:00, 17234.13it/s]"
          }
        },
        "62f6bf3428bf40e8ba1e80240fa0efaa": {
          "model_module": "@jupyter-widgets/base",
          "model_name": "LayoutModel",
          "model_module_version": "1.2.0",
          "state": {
            "_model_module": "@jupyter-widgets/base",
            "_model_module_version": "1.2.0",
            "_model_name": "LayoutModel",
            "_view_count": null,
            "_view_module": "@jupyter-widgets/base",
            "_view_module_version": "1.2.0",
            "_view_name": "LayoutView",
            "align_content": null,
            "align_items": null,
            "align_self": null,
            "border": null,
            "bottom": null,
            "display": null,
            "flex": null,
            "flex_flow": null,
            "grid_area": null,
            "grid_auto_columns": null,
            "grid_auto_flow": null,
            "grid_auto_rows": null,
            "grid_column": null,
            "grid_gap": null,
            "grid_row": null,
            "grid_template_areas": null,
            "grid_template_columns": null,
            "grid_template_rows": null,
            "height": null,
            "justify_content": null,
            "justify_items": null,
            "left": null,
            "margin": null,
            "max_height": null,
            "max_width": null,
            "min_height": null,
            "min_width": null,
            "object_fit": null,
            "object_position": null,
            "order": null,
            "overflow": null,
            "overflow_x": null,
            "overflow_y": null,
            "padding": null,
            "right": null,
            "top": null,
            "visibility": null,
            "width": null
          }
        },
        "4eecc6b88df74db893896d23e57203b8": {
          "model_module": "@jupyter-widgets/base",
          "model_name": "LayoutModel",
          "model_module_version": "1.2.0",
          "state": {
            "_model_module": "@jupyter-widgets/base",
            "_model_module_version": "1.2.0",
            "_model_name": "LayoutModel",
            "_view_count": null,
            "_view_module": "@jupyter-widgets/base",
            "_view_module_version": "1.2.0",
            "_view_name": "LayoutView",
            "align_content": null,
            "align_items": null,
            "align_self": null,
            "border": null,
            "bottom": null,
            "display": null,
            "flex": null,
            "flex_flow": null,
            "grid_area": null,
            "grid_auto_columns": null,
            "grid_auto_flow": null,
            "grid_auto_rows": null,
            "grid_column": null,
            "grid_gap": null,
            "grid_row": null,
            "grid_template_areas": null,
            "grid_template_columns": null,
            "grid_template_rows": null,
            "height": null,
            "justify_content": null,
            "justify_items": null,
            "left": null,
            "margin": null,
            "max_height": null,
            "max_width": null,
            "min_height": null,
            "min_width": null,
            "object_fit": null,
            "object_position": null,
            "order": null,
            "overflow": null,
            "overflow_x": null,
            "overflow_y": null,
            "padding": null,
            "right": null,
            "top": null,
            "visibility": null,
            "width": null
          }
        },
        "4c0700562a7c4b89b3980e12986c68c7": {
          "model_module": "@jupyter-widgets/controls",
          "model_name": "DescriptionStyleModel",
          "model_module_version": "1.5.0",
          "state": {
            "_model_module": "@jupyter-widgets/controls",
            "_model_module_version": "1.5.0",
            "_model_name": "DescriptionStyleModel",
            "_view_count": null,
            "_view_module": "@jupyter-widgets/base",
            "_view_module_version": "1.2.0",
            "_view_name": "StyleView",
            "description_width": ""
          }
        },
        "97e4e4ca21b34dd095541687bf7a6a36": {
          "model_module": "@jupyter-widgets/base",
          "model_name": "LayoutModel",
          "model_module_version": "1.2.0",
          "state": {
            "_model_module": "@jupyter-widgets/base",
            "_model_module_version": "1.2.0",
            "_model_name": "LayoutModel",
            "_view_count": null,
            "_view_module": "@jupyter-widgets/base",
            "_view_module_version": "1.2.0",
            "_view_name": "LayoutView",
            "align_content": null,
            "align_items": null,
            "align_self": null,
            "border": null,
            "bottom": null,
            "display": null,
            "flex": null,
            "flex_flow": null,
            "grid_area": null,
            "grid_auto_columns": null,
            "grid_auto_flow": null,
            "grid_auto_rows": null,
            "grid_column": null,
            "grid_gap": null,
            "grid_row": null,
            "grid_template_areas": null,
            "grid_template_columns": null,
            "grid_template_rows": null,
            "height": null,
            "justify_content": null,
            "justify_items": null,
            "left": null,
            "margin": null,
            "max_height": null,
            "max_width": null,
            "min_height": null,
            "min_width": null,
            "object_fit": null,
            "object_position": null,
            "order": null,
            "overflow": null,
            "overflow_x": null,
            "overflow_y": null,
            "padding": null,
            "right": null,
            "top": null,
            "visibility": null,
            "width": null
          }
        },
        "8accc57eb4334d4591ba45cbc07b78ca": {
          "model_module": "@jupyter-widgets/controls",
          "model_name": "ProgressStyleModel",
          "model_module_version": "1.5.0",
          "state": {
            "_model_module": "@jupyter-widgets/controls",
            "_model_module_version": "1.5.0",
            "_model_name": "ProgressStyleModel",
            "_view_count": null,
            "_view_module": "@jupyter-widgets/base",
            "_view_module_version": "1.2.0",
            "_view_name": "StyleView",
            "bar_color": null,
            "description_width": ""
          }
        },
        "12975a2c4db44581bd43797637a85b00": {
          "model_module": "@jupyter-widgets/base",
          "model_name": "LayoutModel",
          "model_module_version": "1.2.0",
          "state": {
            "_model_module": "@jupyter-widgets/base",
            "_model_module_version": "1.2.0",
            "_model_name": "LayoutModel",
            "_view_count": null,
            "_view_module": "@jupyter-widgets/base",
            "_view_module_version": "1.2.0",
            "_view_name": "LayoutView",
            "align_content": null,
            "align_items": null,
            "align_self": null,
            "border": null,
            "bottom": null,
            "display": null,
            "flex": null,
            "flex_flow": null,
            "grid_area": null,
            "grid_auto_columns": null,
            "grid_auto_flow": null,
            "grid_auto_rows": null,
            "grid_column": null,
            "grid_gap": null,
            "grid_row": null,
            "grid_template_areas": null,
            "grid_template_columns": null,
            "grid_template_rows": null,
            "height": null,
            "justify_content": null,
            "justify_items": null,
            "left": null,
            "margin": null,
            "max_height": null,
            "max_width": null,
            "min_height": null,
            "min_width": null,
            "object_fit": null,
            "object_position": null,
            "order": null,
            "overflow": null,
            "overflow_x": null,
            "overflow_y": null,
            "padding": null,
            "right": null,
            "top": null,
            "visibility": null,
            "width": null
          }
        },
        "e37e0f849f1b448db46321a3b702de5f": {
          "model_module": "@jupyter-widgets/controls",
          "model_name": "DescriptionStyleModel",
          "model_module_version": "1.5.0",
          "state": {
            "_model_module": "@jupyter-widgets/controls",
            "_model_module_version": "1.5.0",
            "_model_name": "DescriptionStyleModel",
            "_view_count": null,
            "_view_module": "@jupyter-widgets/base",
            "_view_module_version": "1.2.0",
            "_view_name": "StyleView",
            "description_width": ""
          }
        },
        "b80e296bff4b42c0bc36c2f4862c6a51": {
          "model_module": "@jupyter-widgets/controls",
          "model_name": "HBoxModel",
          "model_module_version": "1.5.0",
          "state": {
            "_dom_classes": [],
            "_model_module": "@jupyter-widgets/controls",
            "_model_module_version": "1.5.0",
            "_model_name": "HBoxModel",
            "_view_count": null,
            "_view_module": "@jupyter-widgets/controls",
            "_view_module_version": "1.5.0",
            "_view_name": "HBoxView",
            "box_style": "",
            "children": [
              "IPY_MODEL_38b3276f52d641a78cd9066d2695ad6b",
              "IPY_MODEL_c48032cfe55e4bf89c1b74e66c4d9e81",
              "IPY_MODEL_18c970f9db4f4b6ca79dda57df7d7f2e"
            ],
            "layout": "IPY_MODEL_730ec50b63de49cdad274306800c7e68"
          }
        },
        "38b3276f52d641a78cd9066d2695ad6b": {
          "model_module": "@jupyter-widgets/controls",
          "model_name": "HTMLModel",
          "model_module_version": "1.5.0",
          "state": {
            "_dom_classes": [],
            "_model_module": "@jupyter-widgets/controls",
            "_model_module_version": "1.5.0",
            "_model_name": "HTMLModel",
            "_view_count": null,
            "_view_module": "@jupyter-widgets/controls",
            "_view_module_version": "1.5.0",
            "_view_name": "HTMLView",
            "description": "",
            "description_tooltip": null,
            "layout": "IPY_MODEL_5837579dbe7b4ec5af0d92cd08ea539c",
            "placeholder": "​",
            "style": "IPY_MODEL_b8556196014e474c830b36416fcae8de",
            "value": "100%"
          }
        },
        "c48032cfe55e4bf89c1b74e66c4d9e81": {
          "model_module": "@jupyter-widgets/controls",
          "model_name": "FloatProgressModel",
          "model_module_version": "1.5.0",
          "state": {
            "_dom_classes": [],
            "_model_module": "@jupyter-widgets/controls",
            "_model_module_version": "1.5.0",
            "_model_name": "FloatProgressModel",
            "_view_count": null,
            "_view_module": "@jupyter-widgets/controls",
            "_view_module_version": "1.5.0",
            "_view_name": "ProgressView",
            "bar_style": "success",
            "description": "",
            "description_tooltip": null,
            "layout": "IPY_MODEL_653c3ca9554445ac944003ed2fec8ee3",
            "max": 14081,
            "min": 0,
            "orientation": "horizontal",
            "style": "IPY_MODEL_0ca37ad675a5453bb3ab516b891f90ff",
            "value": 14081
          }
        },
        "18c970f9db4f4b6ca79dda57df7d7f2e": {
          "model_module": "@jupyter-widgets/controls",
          "model_name": "HTMLModel",
          "model_module_version": "1.5.0",
          "state": {
            "_dom_classes": [],
            "_model_module": "@jupyter-widgets/controls",
            "_model_module_version": "1.5.0",
            "_model_name": "HTMLModel",
            "_view_count": null,
            "_view_module": "@jupyter-widgets/controls",
            "_view_module_version": "1.5.0",
            "_view_name": "HTMLView",
            "description": "",
            "description_tooltip": null,
            "layout": "IPY_MODEL_6a8436996e2a4ee18ec913a4199bf029",
            "placeholder": "​",
            "style": "IPY_MODEL_4a02fcdf6a6e4b77a2751e19a882226d",
            "value": " 14081/14081 [00:01&lt;00:00, 8636.16it/s]"
          }
        },
        "730ec50b63de49cdad274306800c7e68": {
          "model_module": "@jupyter-widgets/base",
          "model_name": "LayoutModel",
          "model_module_version": "1.2.0",
          "state": {
            "_model_module": "@jupyter-widgets/base",
            "_model_module_version": "1.2.0",
            "_model_name": "LayoutModel",
            "_view_count": null,
            "_view_module": "@jupyter-widgets/base",
            "_view_module_version": "1.2.0",
            "_view_name": "LayoutView",
            "align_content": null,
            "align_items": null,
            "align_self": null,
            "border": null,
            "bottom": null,
            "display": null,
            "flex": null,
            "flex_flow": null,
            "grid_area": null,
            "grid_auto_columns": null,
            "grid_auto_flow": null,
            "grid_auto_rows": null,
            "grid_column": null,
            "grid_gap": null,
            "grid_row": null,
            "grid_template_areas": null,
            "grid_template_columns": null,
            "grid_template_rows": null,
            "height": null,
            "justify_content": null,
            "justify_items": null,
            "left": null,
            "margin": null,
            "max_height": null,
            "max_width": null,
            "min_height": null,
            "min_width": null,
            "object_fit": null,
            "object_position": null,
            "order": null,
            "overflow": null,
            "overflow_x": null,
            "overflow_y": null,
            "padding": null,
            "right": null,
            "top": null,
            "visibility": null,
            "width": null
          }
        },
        "5837579dbe7b4ec5af0d92cd08ea539c": {
          "model_module": "@jupyter-widgets/base",
          "model_name": "LayoutModel",
          "model_module_version": "1.2.0",
          "state": {
            "_model_module": "@jupyter-widgets/base",
            "_model_module_version": "1.2.0",
            "_model_name": "LayoutModel",
            "_view_count": null,
            "_view_module": "@jupyter-widgets/base",
            "_view_module_version": "1.2.0",
            "_view_name": "LayoutView",
            "align_content": null,
            "align_items": null,
            "align_self": null,
            "border": null,
            "bottom": null,
            "display": null,
            "flex": null,
            "flex_flow": null,
            "grid_area": null,
            "grid_auto_columns": null,
            "grid_auto_flow": null,
            "grid_auto_rows": null,
            "grid_column": null,
            "grid_gap": null,
            "grid_row": null,
            "grid_template_areas": null,
            "grid_template_columns": null,
            "grid_template_rows": null,
            "height": null,
            "justify_content": null,
            "justify_items": null,
            "left": null,
            "margin": null,
            "max_height": null,
            "max_width": null,
            "min_height": null,
            "min_width": null,
            "object_fit": null,
            "object_position": null,
            "order": null,
            "overflow": null,
            "overflow_x": null,
            "overflow_y": null,
            "padding": null,
            "right": null,
            "top": null,
            "visibility": null,
            "width": null
          }
        },
        "b8556196014e474c830b36416fcae8de": {
          "model_module": "@jupyter-widgets/controls",
          "model_name": "DescriptionStyleModel",
          "model_module_version": "1.5.0",
          "state": {
            "_model_module": "@jupyter-widgets/controls",
            "_model_module_version": "1.5.0",
            "_model_name": "DescriptionStyleModel",
            "_view_count": null,
            "_view_module": "@jupyter-widgets/base",
            "_view_module_version": "1.2.0",
            "_view_name": "StyleView",
            "description_width": ""
          }
        },
        "653c3ca9554445ac944003ed2fec8ee3": {
          "model_module": "@jupyter-widgets/base",
          "model_name": "LayoutModel",
          "model_module_version": "1.2.0",
          "state": {
            "_model_module": "@jupyter-widgets/base",
            "_model_module_version": "1.2.0",
            "_model_name": "LayoutModel",
            "_view_count": null,
            "_view_module": "@jupyter-widgets/base",
            "_view_module_version": "1.2.0",
            "_view_name": "LayoutView",
            "align_content": null,
            "align_items": null,
            "align_self": null,
            "border": null,
            "bottom": null,
            "display": null,
            "flex": null,
            "flex_flow": null,
            "grid_area": null,
            "grid_auto_columns": null,
            "grid_auto_flow": null,
            "grid_auto_rows": null,
            "grid_column": null,
            "grid_gap": null,
            "grid_row": null,
            "grid_template_areas": null,
            "grid_template_columns": null,
            "grid_template_rows": null,
            "height": null,
            "justify_content": null,
            "justify_items": null,
            "left": null,
            "margin": null,
            "max_height": null,
            "max_width": null,
            "min_height": null,
            "min_width": null,
            "object_fit": null,
            "object_position": null,
            "order": null,
            "overflow": null,
            "overflow_x": null,
            "overflow_y": null,
            "padding": null,
            "right": null,
            "top": null,
            "visibility": null,
            "width": null
          }
        },
        "0ca37ad675a5453bb3ab516b891f90ff": {
          "model_module": "@jupyter-widgets/controls",
          "model_name": "ProgressStyleModel",
          "model_module_version": "1.5.0",
          "state": {
            "_model_module": "@jupyter-widgets/controls",
            "_model_module_version": "1.5.0",
            "_model_name": "ProgressStyleModel",
            "_view_count": null,
            "_view_module": "@jupyter-widgets/base",
            "_view_module_version": "1.2.0",
            "_view_name": "StyleView",
            "bar_color": null,
            "description_width": ""
          }
        },
        "6a8436996e2a4ee18ec913a4199bf029": {
          "model_module": "@jupyter-widgets/base",
          "model_name": "LayoutModel",
          "model_module_version": "1.2.0",
          "state": {
            "_model_module": "@jupyter-widgets/base",
            "_model_module_version": "1.2.0",
            "_model_name": "LayoutModel",
            "_view_count": null,
            "_view_module": "@jupyter-widgets/base",
            "_view_module_version": "1.2.0",
            "_view_name": "LayoutView",
            "align_content": null,
            "align_items": null,
            "align_self": null,
            "border": null,
            "bottom": null,
            "display": null,
            "flex": null,
            "flex_flow": null,
            "grid_area": null,
            "grid_auto_columns": null,
            "grid_auto_flow": null,
            "grid_auto_rows": null,
            "grid_column": null,
            "grid_gap": null,
            "grid_row": null,
            "grid_template_areas": null,
            "grid_template_columns": null,
            "grid_template_rows": null,
            "height": null,
            "justify_content": null,
            "justify_items": null,
            "left": null,
            "margin": null,
            "max_height": null,
            "max_width": null,
            "min_height": null,
            "min_width": null,
            "object_fit": null,
            "object_position": null,
            "order": null,
            "overflow": null,
            "overflow_x": null,
            "overflow_y": null,
            "padding": null,
            "right": null,
            "top": null,
            "visibility": null,
            "width": null
          }
        },
        "4a02fcdf6a6e4b77a2751e19a882226d": {
          "model_module": "@jupyter-widgets/controls",
          "model_name": "DescriptionStyleModel",
          "model_module_version": "1.5.0",
          "state": {
            "_model_module": "@jupyter-widgets/controls",
            "_model_module_version": "1.5.0",
            "_model_name": "DescriptionStyleModel",
            "_view_count": null,
            "_view_module": "@jupyter-widgets/base",
            "_view_module_version": "1.2.0",
            "_view_name": "StyleView",
            "description_width": ""
          }
        },
        "e85a9949e71348dfa3b60d4bbb8bdf13": {
          "model_module": "@jupyter-widgets/controls",
          "model_name": "HBoxModel",
          "model_module_version": "1.5.0",
          "state": {
            "_dom_classes": [],
            "_model_module": "@jupyter-widgets/controls",
            "_model_module_version": "1.5.0",
            "_model_name": "HBoxModel",
            "_view_count": null,
            "_view_module": "@jupyter-widgets/controls",
            "_view_module_version": "1.5.0",
            "_view_name": "HBoxView",
            "box_style": "",
            "children": [
              "IPY_MODEL_9fe890090b244979861c37561d28dc33",
              "IPY_MODEL_d7cbf06309d8414bb3cd7e4ed29fd69f",
              "IPY_MODEL_025cf4a6ec5b4899b2d9ff30b7608367"
            ],
            "layout": "IPY_MODEL_819697f02e2b43da93c8c73c1df56f12"
          }
        },
        "9fe890090b244979861c37561d28dc33": {
          "model_module": "@jupyter-widgets/controls",
          "model_name": "HTMLModel",
          "model_module_version": "1.5.0",
          "state": {
            "_dom_classes": [],
            "_model_module": "@jupyter-widgets/controls",
            "_model_module_version": "1.5.0",
            "_model_name": "HTMLModel",
            "_view_count": null,
            "_view_module": "@jupyter-widgets/controls",
            "_view_module_version": "1.5.0",
            "_view_name": "HTMLView",
            "description": "",
            "description_tooltip": null,
            "layout": "IPY_MODEL_40c81b870ae149cfa352934ae0cfc6e7",
            "placeholder": "​",
            "style": "IPY_MODEL_e2bf3b6ea24949d8819d9277ebf71e82",
            "value": "100%"
          }
        },
        "d7cbf06309d8414bb3cd7e4ed29fd69f": {
          "model_module": "@jupyter-widgets/controls",
          "model_name": "FloatProgressModel",
          "model_module_version": "1.5.0",
          "state": {
            "_dom_classes": [],
            "_model_module": "@jupyter-widgets/controls",
            "_model_module_version": "1.5.0",
            "_model_name": "FloatProgressModel",
            "_view_count": null,
            "_view_module": "@jupyter-widgets/controls",
            "_view_module_version": "1.5.0",
            "_view_name": "ProgressView",
            "bar_style": "success",
            "description": "",
            "description_tooltip": null,
            "layout": "IPY_MODEL_456b9b20173d47e0b817bc88eff7561d",
            "max": 4245,
            "min": 0,
            "orientation": "horizontal",
            "style": "IPY_MODEL_063dc4eee810484bb9c745044f0ea84f",
            "value": 4245
          }
        },
        "025cf4a6ec5b4899b2d9ff30b7608367": {
          "model_module": "@jupyter-widgets/controls",
          "model_name": "HTMLModel",
          "model_module_version": "1.5.0",
          "state": {
            "_dom_classes": [],
            "_model_module": "@jupyter-widgets/controls",
            "_model_module_version": "1.5.0",
            "_model_name": "HTMLModel",
            "_view_count": null,
            "_view_module": "@jupyter-widgets/controls",
            "_view_module_version": "1.5.0",
            "_view_name": "HTMLView",
            "description": "",
            "description_tooltip": null,
            "layout": "IPY_MODEL_fb949585fbbe479c8bacb5ac49a32f59",
            "placeholder": "​",
            "style": "IPY_MODEL_8702902c10a447abb270b9bb516479ae",
            "value": " 4245/4245 [00:00&lt;00:00, 10602.61it/s]"
          }
        },
        "819697f02e2b43da93c8c73c1df56f12": {
          "model_module": "@jupyter-widgets/base",
          "model_name": "LayoutModel",
          "model_module_version": "1.2.0",
          "state": {
            "_model_module": "@jupyter-widgets/base",
            "_model_module_version": "1.2.0",
            "_model_name": "LayoutModel",
            "_view_count": null,
            "_view_module": "@jupyter-widgets/base",
            "_view_module_version": "1.2.0",
            "_view_name": "LayoutView",
            "align_content": null,
            "align_items": null,
            "align_self": null,
            "border": null,
            "bottom": null,
            "display": null,
            "flex": null,
            "flex_flow": null,
            "grid_area": null,
            "grid_auto_columns": null,
            "grid_auto_flow": null,
            "grid_auto_rows": null,
            "grid_column": null,
            "grid_gap": null,
            "grid_row": null,
            "grid_template_areas": null,
            "grid_template_columns": null,
            "grid_template_rows": null,
            "height": null,
            "justify_content": null,
            "justify_items": null,
            "left": null,
            "margin": null,
            "max_height": null,
            "max_width": null,
            "min_height": null,
            "min_width": null,
            "object_fit": null,
            "object_position": null,
            "order": null,
            "overflow": null,
            "overflow_x": null,
            "overflow_y": null,
            "padding": null,
            "right": null,
            "top": null,
            "visibility": null,
            "width": null
          }
        },
        "40c81b870ae149cfa352934ae0cfc6e7": {
          "model_module": "@jupyter-widgets/base",
          "model_name": "LayoutModel",
          "model_module_version": "1.2.0",
          "state": {
            "_model_module": "@jupyter-widgets/base",
            "_model_module_version": "1.2.0",
            "_model_name": "LayoutModel",
            "_view_count": null,
            "_view_module": "@jupyter-widgets/base",
            "_view_module_version": "1.2.0",
            "_view_name": "LayoutView",
            "align_content": null,
            "align_items": null,
            "align_self": null,
            "border": null,
            "bottom": null,
            "display": null,
            "flex": null,
            "flex_flow": null,
            "grid_area": null,
            "grid_auto_columns": null,
            "grid_auto_flow": null,
            "grid_auto_rows": null,
            "grid_column": null,
            "grid_gap": null,
            "grid_row": null,
            "grid_template_areas": null,
            "grid_template_columns": null,
            "grid_template_rows": null,
            "height": null,
            "justify_content": null,
            "justify_items": null,
            "left": null,
            "margin": null,
            "max_height": null,
            "max_width": null,
            "min_height": null,
            "min_width": null,
            "object_fit": null,
            "object_position": null,
            "order": null,
            "overflow": null,
            "overflow_x": null,
            "overflow_y": null,
            "padding": null,
            "right": null,
            "top": null,
            "visibility": null,
            "width": null
          }
        },
        "e2bf3b6ea24949d8819d9277ebf71e82": {
          "model_module": "@jupyter-widgets/controls",
          "model_name": "DescriptionStyleModel",
          "model_module_version": "1.5.0",
          "state": {
            "_model_module": "@jupyter-widgets/controls",
            "_model_module_version": "1.5.0",
            "_model_name": "DescriptionStyleModel",
            "_view_count": null,
            "_view_module": "@jupyter-widgets/base",
            "_view_module_version": "1.2.0",
            "_view_name": "StyleView",
            "description_width": ""
          }
        },
        "456b9b20173d47e0b817bc88eff7561d": {
          "model_module": "@jupyter-widgets/base",
          "model_name": "LayoutModel",
          "model_module_version": "1.2.0",
          "state": {
            "_model_module": "@jupyter-widgets/base",
            "_model_module_version": "1.2.0",
            "_model_name": "LayoutModel",
            "_view_count": null,
            "_view_module": "@jupyter-widgets/base",
            "_view_module_version": "1.2.0",
            "_view_name": "LayoutView",
            "align_content": null,
            "align_items": null,
            "align_self": null,
            "border": null,
            "bottom": null,
            "display": null,
            "flex": null,
            "flex_flow": null,
            "grid_area": null,
            "grid_auto_columns": null,
            "grid_auto_flow": null,
            "grid_auto_rows": null,
            "grid_column": null,
            "grid_gap": null,
            "grid_row": null,
            "grid_template_areas": null,
            "grid_template_columns": null,
            "grid_template_rows": null,
            "height": null,
            "justify_content": null,
            "justify_items": null,
            "left": null,
            "margin": null,
            "max_height": null,
            "max_width": null,
            "min_height": null,
            "min_width": null,
            "object_fit": null,
            "object_position": null,
            "order": null,
            "overflow": null,
            "overflow_x": null,
            "overflow_y": null,
            "padding": null,
            "right": null,
            "top": null,
            "visibility": null,
            "width": null
          }
        },
        "063dc4eee810484bb9c745044f0ea84f": {
          "model_module": "@jupyter-widgets/controls",
          "model_name": "ProgressStyleModel",
          "model_module_version": "1.5.0",
          "state": {
            "_model_module": "@jupyter-widgets/controls",
            "_model_module_version": "1.5.0",
            "_model_name": "ProgressStyleModel",
            "_view_count": null,
            "_view_module": "@jupyter-widgets/base",
            "_view_module_version": "1.2.0",
            "_view_name": "StyleView",
            "bar_color": null,
            "description_width": ""
          }
        },
        "fb949585fbbe479c8bacb5ac49a32f59": {
          "model_module": "@jupyter-widgets/base",
          "model_name": "LayoutModel",
          "model_module_version": "1.2.0",
          "state": {
            "_model_module": "@jupyter-widgets/base",
            "_model_module_version": "1.2.0",
            "_model_name": "LayoutModel",
            "_view_count": null,
            "_view_module": "@jupyter-widgets/base",
            "_view_module_version": "1.2.0",
            "_view_name": "LayoutView",
            "align_content": null,
            "align_items": null,
            "align_self": null,
            "border": null,
            "bottom": null,
            "display": null,
            "flex": null,
            "flex_flow": null,
            "grid_area": null,
            "grid_auto_columns": null,
            "grid_auto_flow": null,
            "grid_auto_rows": null,
            "grid_column": null,
            "grid_gap": null,
            "grid_row": null,
            "grid_template_areas": null,
            "grid_template_columns": null,
            "grid_template_rows": null,
            "height": null,
            "justify_content": null,
            "justify_items": null,
            "left": null,
            "margin": null,
            "max_height": null,
            "max_width": null,
            "min_height": null,
            "min_width": null,
            "object_fit": null,
            "object_position": null,
            "order": null,
            "overflow": null,
            "overflow_x": null,
            "overflow_y": null,
            "padding": null,
            "right": null,
            "top": null,
            "visibility": null,
            "width": null
          }
        },
        "8702902c10a447abb270b9bb516479ae": {
          "model_module": "@jupyter-widgets/controls",
          "model_name": "DescriptionStyleModel",
          "model_module_version": "1.5.0",
          "state": {
            "_model_module": "@jupyter-widgets/controls",
            "_model_module_version": "1.5.0",
            "_model_name": "DescriptionStyleModel",
            "_view_count": null,
            "_view_module": "@jupyter-widgets/base",
            "_view_module_version": "1.2.0",
            "_view_name": "StyleView",
            "description_width": ""
          }
        },
        "db6e9d2e4eeb4d0caff0a806facf6aca": {
          "model_module": "@jupyter-widgets/controls",
          "model_name": "HBoxModel",
          "model_module_version": "1.5.0",
          "state": {
            "_dom_classes": [],
            "_model_module": "@jupyter-widgets/controls",
            "_model_module_version": "1.5.0",
            "_model_name": "HBoxModel",
            "_view_count": null,
            "_view_module": "@jupyter-widgets/controls",
            "_view_module_version": "1.5.0",
            "_view_name": "HBoxView",
            "box_style": "",
            "children": [
              "IPY_MODEL_ba8ca895a3df46d59d16f1af056fca0f",
              "IPY_MODEL_5d70d6900dcb4c1888a2eb9bebdc6b55",
              "IPY_MODEL_d7798cd0dc3f4ec09cd8182e820ac20d"
            ],
            "layout": "IPY_MODEL_7cfc98dc1a704824b6895f3c203de583"
          }
        },
        "ba8ca895a3df46d59d16f1af056fca0f": {
          "model_module": "@jupyter-widgets/controls",
          "model_name": "HTMLModel",
          "model_module_version": "1.5.0",
          "state": {
            "_dom_classes": [],
            "_model_module": "@jupyter-widgets/controls",
            "_model_module_version": "1.5.0",
            "_model_name": "HTMLModel",
            "_view_count": null,
            "_view_module": "@jupyter-widgets/controls",
            "_view_module_version": "1.5.0",
            "_view_name": "HTMLView",
            "description": "",
            "description_tooltip": null,
            "layout": "IPY_MODEL_ba3f622b753648958536ea4b31acb411",
            "placeholder": "​",
            "style": "IPY_MODEL_59d9a69174e647cc8038ee3ad35656d6",
            "value": "100%"
          }
        },
        "5d70d6900dcb4c1888a2eb9bebdc6b55": {
          "model_module": "@jupyter-widgets/controls",
          "model_name": "FloatProgressModel",
          "model_module_version": "1.5.0",
          "state": {
            "_dom_classes": [],
            "_model_module": "@jupyter-widgets/controls",
            "_model_module_version": "1.5.0",
            "_model_name": "FloatProgressModel",
            "_view_count": null,
            "_view_module": "@jupyter-widgets/controls",
            "_view_module_version": "1.5.0",
            "_view_name": "ProgressView",
            "bar_style": "success",
            "description": "",
            "description_tooltip": null,
            "layout": "IPY_MODEL_832902e753a54674b4b6591d9e39b65b",
            "max": 4245,
            "min": 0,
            "orientation": "horizontal",
            "style": "IPY_MODEL_4b70c2b44ad44d0db2b6d1e7dfccd52c",
            "value": 4245
          }
        },
        "d7798cd0dc3f4ec09cd8182e820ac20d": {
          "model_module": "@jupyter-widgets/controls",
          "model_name": "HTMLModel",
          "model_module_version": "1.5.0",
          "state": {
            "_dom_classes": [],
            "_model_module": "@jupyter-widgets/controls",
            "_model_module_version": "1.5.0",
            "_model_name": "HTMLModel",
            "_view_count": null,
            "_view_module": "@jupyter-widgets/controls",
            "_view_module_version": "1.5.0",
            "_view_name": "HTMLView",
            "description": "",
            "description_tooltip": null,
            "layout": "IPY_MODEL_b42acc77f82349a88530721a60cc8a63",
            "placeholder": "​",
            "style": "IPY_MODEL_e3ce2b538c99498cb67f5cc996354eb9",
            "value": " 4245/4245 [00:01&lt;00:00, 3739.31it/s]"
          }
        },
        "7cfc98dc1a704824b6895f3c203de583": {
          "model_module": "@jupyter-widgets/base",
          "model_name": "LayoutModel",
          "model_module_version": "1.2.0",
          "state": {
            "_model_module": "@jupyter-widgets/base",
            "_model_module_version": "1.2.0",
            "_model_name": "LayoutModel",
            "_view_count": null,
            "_view_module": "@jupyter-widgets/base",
            "_view_module_version": "1.2.0",
            "_view_name": "LayoutView",
            "align_content": null,
            "align_items": null,
            "align_self": null,
            "border": null,
            "bottom": null,
            "display": null,
            "flex": null,
            "flex_flow": null,
            "grid_area": null,
            "grid_auto_columns": null,
            "grid_auto_flow": null,
            "grid_auto_rows": null,
            "grid_column": null,
            "grid_gap": null,
            "grid_row": null,
            "grid_template_areas": null,
            "grid_template_columns": null,
            "grid_template_rows": null,
            "height": null,
            "justify_content": null,
            "justify_items": null,
            "left": null,
            "margin": null,
            "max_height": null,
            "max_width": null,
            "min_height": null,
            "min_width": null,
            "object_fit": null,
            "object_position": null,
            "order": null,
            "overflow": null,
            "overflow_x": null,
            "overflow_y": null,
            "padding": null,
            "right": null,
            "top": null,
            "visibility": null,
            "width": null
          }
        },
        "ba3f622b753648958536ea4b31acb411": {
          "model_module": "@jupyter-widgets/base",
          "model_name": "LayoutModel",
          "model_module_version": "1.2.0",
          "state": {
            "_model_module": "@jupyter-widgets/base",
            "_model_module_version": "1.2.0",
            "_model_name": "LayoutModel",
            "_view_count": null,
            "_view_module": "@jupyter-widgets/base",
            "_view_module_version": "1.2.0",
            "_view_name": "LayoutView",
            "align_content": null,
            "align_items": null,
            "align_self": null,
            "border": null,
            "bottom": null,
            "display": null,
            "flex": null,
            "flex_flow": null,
            "grid_area": null,
            "grid_auto_columns": null,
            "grid_auto_flow": null,
            "grid_auto_rows": null,
            "grid_column": null,
            "grid_gap": null,
            "grid_row": null,
            "grid_template_areas": null,
            "grid_template_columns": null,
            "grid_template_rows": null,
            "height": null,
            "justify_content": null,
            "justify_items": null,
            "left": null,
            "margin": null,
            "max_height": null,
            "max_width": null,
            "min_height": null,
            "min_width": null,
            "object_fit": null,
            "object_position": null,
            "order": null,
            "overflow": null,
            "overflow_x": null,
            "overflow_y": null,
            "padding": null,
            "right": null,
            "top": null,
            "visibility": null,
            "width": null
          }
        },
        "59d9a69174e647cc8038ee3ad35656d6": {
          "model_module": "@jupyter-widgets/controls",
          "model_name": "DescriptionStyleModel",
          "model_module_version": "1.5.0",
          "state": {
            "_model_module": "@jupyter-widgets/controls",
            "_model_module_version": "1.5.0",
            "_model_name": "DescriptionStyleModel",
            "_view_count": null,
            "_view_module": "@jupyter-widgets/base",
            "_view_module_version": "1.2.0",
            "_view_name": "StyleView",
            "description_width": ""
          }
        },
        "832902e753a54674b4b6591d9e39b65b": {
          "model_module": "@jupyter-widgets/base",
          "model_name": "LayoutModel",
          "model_module_version": "1.2.0",
          "state": {
            "_model_module": "@jupyter-widgets/base",
            "_model_module_version": "1.2.0",
            "_model_name": "LayoutModel",
            "_view_count": null,
            "_view_module": "@jupyter-widgets/base",
            "_view_module_version": "1.2.0",
            "_view_name": "LayoutView",
            "align_content": null,
            "align_items": null,
            "align_self": null,
            "border": null,
            "bottom": null,
            "display": null,
            "flex": null,
            "flex_flow": null,
            "grid_area": null,
            "grid_auto_columns": null,
            "grid_auto_flow": null,
            "grid_auto_rows": null,
            "grid_column": null,
            "grid_gap": null,
            "grid_row": null,
            "grid_template_areas": null,
            "grid_template_columns": null,
            "grid_template_rows": null,
            "height": null,
            "justify_content": null,
            "justify_items": null,
            "left": null,
            "margin": null,
            "max_height": null,
            "max_width": null,
            "min_height": null,
            "min_width": null,
            "object_fit": null,
            "object_position": null,
            "order": null,
            "overflow": null,
            "overflow_x": null,
            "overflow_y": null,
            "padding": null,
            "right": null,
            "top": null,
            "visibility": null,
            "width": null
          }
        },
        "4b70c2b44ad44d0db2b6d1e7dfccd52c": {
          "model_module": "@jupyter-widgets/controls",
          "model_name": "ProgressStyleModel",
          "model_module_version": "1.5.0",
          "state": {
            "_model_module": "@jupyter-widgets/controls",
            "_model_module_version": "1.5.0",
            "_model_name": "ProgressStyleModel",
            "_view_count": null,
            "_view_module": "@jupyter-widgets/base",
            "_view_module_version": "1.2.0",
            "_view_name": "StyleView",
            "bar_color": null,
            "description_width": ""
          }
        },
        "b42acc77f82349a88530721a60cc8a63": {
          "model_module": "@jupyter-widgets/base",
          "model_name": "LayoutModel",
          "model_module_version": "1.2.0",
          "state": {
            "_model_module": "@jupyter-widgets/base",
            "_model_module_version": "1.2.0",
            "_model_name": "LayoutModel",
            "_view_count": null,
            "_view_module": "@jupyter-widgets/base",
            "_view_module_version": "1.2.0",
            "_view_name": "LayoutView",
            "align_content": null,
            "align_items": null,
            "align_self": null,
            "border": null,
            "bottom": null,
            "display": null,
            "flex": null,
            "flex_flow": null,
            "grid_area": null,
            "grid_auto_columns": null,
            "grid_auto_flow": null,
            "grid_auto_rows": null,
            "grid_column": null,
            "grid_gap": null,
            "grid_row": null,
            "grid_template_areas": null,
            "grid_template_columns": null,
            "grid_template_rows": null,
            "height": null,
            "justify_content": null,
            "justify_items": null,
            "left": null,
            "margin": null,
            "max_height": null,
            "max_width": null,
            "min_height": null,
            "min_width": null,
            "object_fit": null,
            "object_position": null,
            "order": null,
            "overflow": null,
            "overflow_x": null,
            "overflow_y": null,
            "padding": null,
            "right": null,
            "top": null,
            "visibility": null,
            "width": null
          }
        },
        "e3ce2b538c99498cb67f5cc996354eb9": {
          "model_module": "@jupyter-widgets/controls",
          "model_name": "DescriptionStyleModel",
          "model_module_version": "1.5.0",
          "state": {
            "_model_module": "@jupyter-widgets/controls",
            "_model_module_version": "1.5.0",
            "_model_name": "DescriptionStyleModel",
            "_view_count": null,
            "_view_module": "@jupyter-widgets/base",
            "_view_module_version": "1.2.0",
            "_view_name": "StyleView",
            "description_width": ""
          }
        }
      }
    }
  },
  "cells": [
    {
      "cell_type": "markdown",
      "metadata": {
        "id": "view-in-github",
        "colab_type": "text"
      },
      "source": [
        "<a href=\"https://colab.research.google.com/github/EitanBakirov/Advanced-ML-DL-Course/blob/main/Assignment%20II%20-%20NLP/Assignment_II_Group_4_Enhanced.ipynb\" target=\"_parent\"><img src=\"https://colab.research.google.com/assets/colab-badge.svg\" alt=\"Open In Colab\"/></a>"
      ]
    },
    {
      "cell_type": "markdown",
      "metadata": {
        "id": "f0v2mOU5X6Ls"
      },
      "source": [
        "<div class=\"markdown-google-sans\">\n",
        "  <h1><font size=6>Assignment 2 : NLP : Seinfeld or Friends?</font></h1>\n",
        "\n",
        "  <u>Group members:</u><br>\n",
        "  - Ariel Hedvat<br>\n",
        "  - Shiraz Israeli<br>\n",
        "  - Yuval Bakirov<br>\n",
        "  - Eitan Bakirov\n",
        "\n",
        "<br>\n",
        "\n",
        "This project aims to distinguish dialogue lines from the TV shows Seinfeld and Friends. The dataset includes dialogue text, character information, and show labels.\n",
        "\n",
        "The goal is to build a model trained on dialogues of characters and classifies whether a new dialogue is from Seinfeld or Friends, then evaluate its accuracy on a test set.<br>\n",
        "Also, we explore the results of the model on each character.\n",
        "\n",
        "We will build several models, evaluate their performance and choose the best one.\n",
        "</div>\n"
      ]
    },
    {
      "cell_type": "markdown",
      "metadata": {
        "id": "6KQAH9j-qoZw"
      },
      "source": [
        "<div class=\"markdown-google-sans\">\n",
        "  <h1><font size=5>Data</font></h1>\n",
        "</div>"
      ]
    },
    {
      "cell_type": "markdown",
      "metadata": {
        "id": "YeDU9j_8rAD1"
      },
      "source": [
        "The dataset comprises five columns: <br>\n",
        "- Dialogue - indicating spoken lines<br>\n",
        "- Character - denoting the speaker <br>\n",
        "- Episode - specifying the episode number <br>\n",
        "- Show - identifying the television series <br>\n",
        "- Dialogue_length - quantifying the length of each dialogue entry.<br><br>\n",
        "\n",
        "In our models we will only use the features: \"Dialouge\" (Sample) and \"Show\" (Label) during the training.<br><br>"
      ]
    },
    {
      "cell_type": "markdown",
      "metadata": {
        "id": "DfFFUOOZo51l"
      },
      "source": [
        "<div class=\"markdown-google-sans\">\n",
        "  <h1><font size=5>Table of Contents</font></h1>"
      ]
    },
    {
      "cell_type": "markdown",
      "metadata": {
        "colab_type": "toc",
        "id": "9HArAhUdavbe"
      },
      "source": [
        ">[Import Libraries](#scrollTo=-_VBJ0JlYLKI)\n",
        "\n",
        ">[Loading the data](#scrollTo=kXwOL606ZfUN)\n",
        "\n",
        ">[EDA & Pre- Processing](#scrollTo=P8cTl07AZgyg)\n",
        "\n",
        ">>[Text cleaning](#scrollTo=YahuK9cqYcyC)\n",
        "\n",
        ">>[Special character removal](#scrollTo=rktALPaIYimc)\n",
        "\n",
        ">>[Stop words removal](#scrollTo=oI-pgoYYYnZe)\n",
        "\n",
        ">>[Stemming](#scrollTo=Tdei7JlEc_Ea)\n",
        "\n",
        ">>[Train-Test-Validation split](#scrollTo=mG1TBityfg1-)\n",
        "\n",
        ">>[Text Representation Techniques](#scrollTo=t5h4TMJDVfw0)\n",
        "\n",
        ">>>[Bag of Words (BOW)](#scrollTo=8v4hFeBdVXgS)\n",
        "\n",
        ">>>[Term Frequency-Inverse Document Frequency model (TF-IDF)](#scrollTo=e6VKmyN8W4B1)\n",
        "\n",
        ">>>[Word embeddings](#scrollTo=YnvKhWctXM6f)\n",
        "\n",
        ">>[Labeling](#scrollTo=EIruMKat5Rx3)\n",
        "\n",
        ">>[Text tokenization (for a sequential deep learning model)](#scrollTo=Qcz-Ji7ovJWt)\n",
        "\n",
        ">>[Sequence padding](#scrollTo=V7kY5N9Hw-31)\n",
        "\n",
        ">>[Final preprocessing function](#scrollTo=R-LRYdO1lUND)\n",
        "\n",
        ">[Modeling](#scrollTo=_58J58NQVpBV)\n",
        "\n",
        ">>[Logistic Regression](#scrollTo=qEiDaFgudEqe)\n",
        "\n",
        ">>>[BOW](#scrollTo=x2FcL1GTkE_K)\n",
        "\n",
        ">>>[TF-IDF](#scrollTo=rL5bcMPBkLg4)\n",
        "\n",
        ">>[Random Forest](#scrollTo=wtFjmtIxdEb2)\n",
        "\n",
        ">>[Compare models](#scrollTo=BAM267N8Fo-k)\n",
        "\n",
        ">>[Neural Network](#scrollTo=wA-x7yP2dADC)\n",
        "\n",
        ">[Explore Our results](#scrollTo=vbjiKHyi7Irm)\n",
        "\n",
        ">>[Visualization](#scrollTo=gj5MAByiQRWi)\n",
        "\n",
        ">>[Word Cloud For Each Show](#scrollTo=hZ78JqH4P6Kk)\n",
        "\n",
        ">[Output](#scrollTo=IJrSf6hnWnCJ)\n",
        "\n"
      ]
    },
    {
      "cell_type": "markdown",
      "metadata": {
        "id": "-_VBJ0JlYLKI"
      },
      "source": [
        "#  Import Libraries"
      ]
    },
    {
      "cell_type": "code",
      "execution_count": 185,
      "metadata": {
        "id": "XRyEMuKdYN_8",
        "outputId": "db09cc08-ab78-4f0c-ddf1-78a49763325e",
        "colab": {
          "base_uri": "https://localhost:8080/"
        }
      },
      "outputs": [
        {
          "output_type": "stream",
          "name": "stdout",
          "text": [
            "Requirement already satisfied: contractions in /usr/local/lib/python3.10/dist-packages (0.1.73)\n",
            "Requirement already satisfied: textsearch>=0.0.21 in /usr/local/lib/python3.10/dist-packages (from contractions) (0.0.24)\n",
            "Requirement already satisfied: anyascii in /usr/local/lib/python3.10/dist-packages (from textsearch>=0.0.21->contractions) (0.3.2)\n",
            "Requirement already satisfied: pyahocorasick in /usr/local/lib/python3.10/dist-packages (from textsearch>=0.0.21->contractions) (2.1.0)\n"
          ]
        }
      ],
      "source": [
        "import pandas as pd\n",
        "import numpy as np\n",
        "import sklearn as skl\n",
        "import seaborn as sns\n",
        "import matplotlib.pyplot as plt\n",
        "import os\n",
        "import scipy.stats as stats\n",
        "from sklearn.model_selection import train_test_split\n",
        "\n",
        "# Contractions expansion of text\n",
        "!pip install contractions\n",
        "import contractions\n",
        "\n",
        "from bs4 import BeautifulSoup\n",
        "import re\n",
        "from sklearn.preprocessing import LabelBinarizer\n",
        "\n",
        "# Tokenizer that contains a stopwords corpus\n",
        "import nltk\n",
        "from nltk.tokenize.toktok import ToktokTokenizer\n",
        "\n",
        "# Progress bar to outputs\n",
        "from tqdm.notebook import tqdm\n",
        "\n",
        "# BOW\n",
        "from sklearn.feature_extraction.text import CountVectorizer\n",
        "# TF-IDF\n",
        "from sklearn.feature_extraction.text import TfidfVectorizer\n",
        "\n",
        "# Sequence padding\n",
        "from keras.preprocessing import sequence\n",
        "\n",
        "from sklearn.linear_model import LogisticRegression\n",
        "import datetime\n",
        "\n",
        "from sklearn.metrics import classification_report, confusion_matrix, accuracy_score, roc_auc_score, roc_curve\n",
        "\n",
        "from sklearn.ensemble import RandomForestClassifier\n",
        "\n",
        "from keras.layers import Dropout, Conv1D, Flatten, Dense, Embedding, MaxPooling1D, BatchNormalization\n",
        "\n",
        "from keras.models import Sequential\n",
        "from keras.layers import Dropout, Conv1D, Flatten, Dense, Embedding\n",
        "\n",
        "from tensorflow.keras.preprocessing.text import Tokenizer\n",
        "\n",
        "from sklearn.metrics import accuracy_score\n",
        "from wordcloud import WordCloud\n",
        "\n",
        "import warnings\n",
        "warnings.filterwarnings('ignore')"
      ]
    },
    {
      "cell_type": "markdown",
      "metadata": {
        "id": "kXwOL606ZfUN"
      },
      "source": [
        "# Loading the data"
      ]
    },
    {
      "cell_type": "code",
      "execution_count": 186,
      "metadata": {
        "id": "SPuyJ3qXZgWY"
      },
      "outputs": [],
      "source": [
        "# Data Loading for Train\n",
        "url = 'https://raw.githubusercontent.com/EitanBakirov/Advanced-ML-DL-Course/Eitan-Expanding-Assignment3/Assignment%20II%20-%20NLP/train.csv'\n",
        "full_train_data = pd.read_csv(url)"
      ]
    },
    {
      "cell_type": "code",
      "source": [
        "# Data Loading for Test\n",
        "url_test = 'https://raw.githubusercontent.com/EitanBakirov/Advanced-ML-DL-Course/Eitan-Expanding-Assignment3/Assignment%20II%20-%20NLP/test.csv'\n",
        "full_test_data = pd.read_csv(url_test)"
      ],
      "metadata": {
        "id": "z1qQpQAz6T7E"
      },
      "execution_count": 187,
      "outputs": []
    },
    {
      "cell_type": "markdown",
      "metadata": {
        "id": "P8cTl07AZgyg"
      },
      "source": [
        "# **EDA & Pre- Processing**"
      ]
    },
    {
      "cell_type": "markdown",
      "source": [
        "First, let's look at our data:"
      ],
      "metadata": {
        "id": "Hkfak6nkPNix"
      }
    },
    {
      "cell_type": "code",
      "source": [
        "full_train_data"
      ],
      "metadata": {
        "colab": {
          "base_uri": "https://localhost:8080/",
          "height": 423
        },
        "id": "QeN53c3tPMhR",
        "outputId": "3ee1d127-b77b-425d-ddb4-490e72779cf8"
      },
      "execution_count": 188,
      "outputs": [
        {
          "output_type": "execute_result",
          "data": {
            "text/plain": [
              "                                                Dialogue Character  \\\n",
              "0                                                   Hey.      joey   \n",
              "1       (to Joey) Are you gonna be embarrassed going ...    phoebe   \n",
              "2      Me? No no no, you. You're gonna tell him. I'm ...    elaine   \n",
              "3       Alright you guys are off to party number one ...  chandler   \n",
              "4      Am I? Or am I so sane that you just blew your ...    kramer   \n",
              "...                                                  ...       ...   \n",
              "70400                                       Pretty much.     jerry   \n",
              "70401   Oh, well um, not right now. Y'know I’m just g...    phoebe   \n",
              "70402                Ooh, I think I wanna trade circles.    phoebe   \n",
              "70403      Hey, hey, what is this? What's going on here?     jerry   \n",
              "70404                                I want the massage!     jerry   \n",
              "\n",
              "                                                 Episode      Show  \\\n",
              "0         Season-07 Episode-13-The One Where Rosita Dies   Friends   \n",
              "1             Season-10 Episode-04-The One With The Cake   Friends   \n",
              "2                                                 S03E22  Seinfeld   \n",
              "3      Season-02 Episode-22-The One With the Two Parties   Friends   \n",
              "4                                                 S05E12  Seinfeld   \n",
              "...                                                  ...       ...   \n",
              "70400                                             S05E09  Seinfeld   \n",
              "70401        Season-03 Episode-05-The One With Frank Jr.   Friends   \n",
              "70402   Season-07 Episode-22-The One With Chandler’s Dad   Friends   \n",
              "70403                                             S05E03  Seinfeld   \n",
              "70404                                             S05E09  Seinfeld   \n",
              "\n",
              "       Dialogue_length  \n",
              "0                    1  \n",
              "1                   13  \n",
              "2                   14  \n",
              "3                   56  \n",
              "4                   13  \n",
              "...                ...  \n",
              "70400                2  \n",
              "70401               22  \n",
              "70402                7  \n",
              "70403                9  \n",
              "70404                4  \n",
              "\n",
              "[70405 rows x 5 columns]"
            ],
            "text/html": [
              "\n",
              "  <div id=\"df-cd6cf2bc-46e8-4689-b483-3f96eb250f82\" class=\"colab-df-container\">\n",
              "    <div>\n",
              "<style scoped>\n",
              "    .dataframe tbody tr th:only-of-type {\n",
              "        vertical-align: middle;\n",
              "    }\n",
              "\n",
              "    .dataframe tbody tr th {\n",
              "        vertical-align: top;\n",
              "    }\n",
              "\n",
              "    .dataframe thead th {\n",
              "        text-align: right;\n",
              "    }\n",
              "</style>\n",
              "<table border=\"1\" class=\"dataframe\">\n",
              "  <thead>\n",
              "    <tr style=\"text-align: right;\">\n",
              "      <th></th>\n",
              "      <th>Dialogue</th>\n",
              "      <th>Character</th>\n",
              "      <th>Episode</th>\n",
              "      <th>Show</th>\n",
              "      <th>Dialogue_length</th>\n",
              "    </tr>\n",
              "  </thead>\n",
              "  <tbody>\n",
              "    <tr>\n",
              "      <th>0</th>\n",
              "      <td>Hey.</td>\n",
              "      <td>joey</td>\n",
              "      <td>Season-07 Episode-13-The One Where Rosita Dies</td>\n",
              "      <td>Friends</td>\n",
              "      <td>1</td>\n",
              "    </tr>\n",
              "    <tr>\n",
              "      <th>1</th>\n",
              "      <td>(to Joey) Are you gonna be embarrassed going ...</td>\n",
              "      <td>phoebe</td>\n",
              "      <td>Season-10 Episode-04-The One With The Cake</td>\n",
              "      <td>Friends</td>\n",
              "      <td>13</td>\n",
              "    </tr>\n",
              "    <tr>\n",
              "      <th>2</th>\n",
              "      <td>Me? No no no, you. You're gonna tell him. I'm ...</td>\n",
              "      <td>elaine</td>\n",
              "      <td>S03E22</td>\n",
              "      <td>Seinfeld</td>\n",
              "      <td>14</td>\n",
              "    </tr>\n",
              "    <tr>\n",
              "      <th>3</th>\n",
              "      <td>Alright you guys are off to party number one ...</td>\n",
              "      <td>chandler</td>\n",
              "      <td>Season-02 Episode-22-The One With the Two Parties</td>\n",
              "      <td>Friends</td>\n",
              "      <td>56</td>\n",
              "    </tr>\n",
              "    <tr>\n",
              "      <th>4</th>\n",
              "      <td>Am I? Or am I so sane that you just blew your ...</td>\n",
              "      <td>kramer</td>\n",
              "      <td>S05E12</td>\n",
              "      <td>Seinfeld</td>\n",
              "      <td>13</td>\n",
              "    </tr>\n",
              "    <tr>\n",
              "      <th>...</th>\n",
              "      <td>...</td>\n",
              "      <td>...</td>\n",
              "      <td>...</td>\n",
              "      <td>...</td>\n",
              "      <td>...</td>\n",
              "    </tr>\n",
              "    <tr>\n",
              "      <th>70400</th>\n",
              "      <td>Pretty much.</td>\n",
              "      <td>jerry</td>\n",
              "      <td>S05E09</td>\n",
              "      <td>Seinfeld</td>\n",
              "      <td>2</td>\n",
              "    </tr>\n",
              "    <tr>\n",
              "      <th>70401</th>\n",
              "      <td>Oh, well um, not right now. Y'know I’m just g...</td>\n",
              "      <td>phoebe</td>\n",
              "      <td>Season-03 Episode-05-The One With Frank Jr.</td>\n",
              "      <td>Friends</td>\n",
              "      <td>22</td>\n",
              "    </tr>\n",
              "    <tr>\n",
              "      <th>70402</th>\n",
              "      <td>Ooh, I think I wanna trade circles.</td>\n",
              "      <td>phoebe</td>\n",
              "      <td>Season-07 Episode-22-The One With Chandler’s Dad</td>\n",
              "      <td>Friends</td>\n",
              "      <td>7</td>\n",
              "    </tr>\n",
              "    <tr>\n",
              "      <th>70403</th>\n",
              "      <td>Hey, hey, what is this? What's going on here?</td>\n",
              "      <td>jerry</td>\n",
              "      <td>S05E03</td>\n",
              "      <td>Seinfeld</td>\n",
              "      <td>9</td>\n",
              "    </tr>\n",
              "    <tr>\n",
              "      <th>70404</th>\n",
              "      <td>I want the massage!</td>\n",
              "      <td>jerry</td>\n",
              "      <td>S05E09</td>\n",
              "      <td>Seinfeld</td>\n",
              "      <td>4</td>\n",
              "    </tr>\n",
              "  </tbody>\n",
              "</table>\n",
              "<p>70405 rows × 5 columns</p>\n",
              "</div>\n",
              "    <div class=\"colab-df-buttons\">\n",
              "\n",
              "  <div class=\"colab-df-container\">\n",
              "    <button class=\"colab-df-convert\" onclick=\"convertToInteractive('df-cd6cf2bc-46e8-4689-b483-3f96eb250f82')\"\n",
              "            title=\"Convert this dataframe to an interactive table.\"\n",
              "            style=\"display:none;\">\n",
              "\n",
              "  <svg xmlns=\"http://www.w3.org/2000/svg\" height=\"24px\" viewBox=\"0 -960 960 960\">\n",
              "    <path d=\"M120-120v-720h720v720H120Zm60-500h600v-160H180v160Zm220 220h160v-160H400v160Zm0 220h160v-160H400v160ZM180-400h160v-160H180v160Zm440 0h160v-160H620v160ZM180-180h160v-160H180v160Zm440 0h160v-160H620v160Z\"/>\n",
              "  </svg>\n",
              "    </button>\n",
              "\n",
              "  <style>\n",
              "    .colab-df-container {\n",
              "      display:flex;\n",
              "      gap: 12px;\n",
              "    }\n",
              "\n",
              "    .colab-df-convert {\n",
              "      background-color: #E8F0FE;\n",
              "      border: none;\n",
              "      border-radius: 50%;\n",
              "      cursor: pointer;\n",
              "      display: none;\n",
              "      fill: #1967D2;\n",
              "      height: 32px;\n",
              "      padding: 0 0 0 0;\n",
              "      width: 32px;\n",
              "    }\n",
              "\n",
              "    .colab-df-convert:hover {\n",
              "      background-color: #E2EBFA;\n",
              "      box-shadow: 0px 1px 2px rgba(60, 64, 67, 0.3), 0px 1px 3px 1px rgba(60, 64, 67, 0.15);\n",
              "      fill: #174EA6;\n",
              "    }\n",
              "\n",
              "    .colab-df-buttons div {\n",
              "      margin-bottom: 4px;\n",
              "    }\n",
              "\n",
              "    [theme=dark] .colab-df-convert {\n",
              "      background-color: #3B4455;\n",
              "      fill: #D2E3FC;\n",
              "    }\n",
              "\n",
              "    [theme=dark] .colab-df-convert:hover {\n",
              "      background-color: #434B5C;\n",
              "      box-shadow: 0px 1px 3px 1px rgba(0, 0, 0, 0.15);\n",
              "      filter: drop-shadow(0px 1px 2px rgba(0, 0, 0, 0.3));\n",
              "      fill: #FFFFFF;\n",
              "    }\n",
              "  </style>\n",
              "\n",
              "    <script>\n",
              "      const buttonEl =\n",
              "        document.querySelector('#df-cd6cf2bc-46e8-4689-b483-3f96eb250f82 button.colab-df-convert');\n",
              "      buttonEl.style.display =\n",
              "        google.colab.kernel.accessAllowed ? 'block' : 'none';\n",
              "\n",
              "      async function convertToInteractive(key) {\n",
              "        const element = document.querySelector('#df-cd6cf2bc-46e8-4689-b483-3f96eb250f82');\n",
              "        const dataTable =\n",
              "          await google.colab.kernel.invokeFunction('convertToInteractive',\n",
              "                                                    [key], {});\n",
              "        if (!dataTable) return;\n",
              "\n",
              "        const docLinkHtml = 'Like what you see? Visit the ' +\n",
              "          '<a target=\"_blank\" href=https://colab.research.google.com/notebooks/data_table.ipynb>data table notebook</a>'\n",
              "          + ' to learn more about interactive tables.';\n",
              "        element.innerHTML = '';\n",
              "        dataTable['output_type'] = 'display_data';\n",
              "        await google.colab.output.renderOutput(dataTable, element);\n",
              "        const docLink = document.createElement('div');\n",
              "        docLink.innerHTML = docLinkHtml;\n",
              "        element.appendChild(docLink);\n",
              "      }\n",
              "    </script>\n",
              "  </div>\n",
              "\n",
              "\n",
              "<div id=\"df-459fb74e-a05d-4f3a-8cc1-44ea000489f1\">\n",
              "  <button class=\"colab-df-quickchart\" onclick=\"quickchart('df-459fb74e-a05d-4f3a-8cc1-44ea000489f1')\"\n",
              "            title=\"Suggest charts\"\n",
              "            style=\"display:none;\">\n",
              "\n",
              "<svg xmlns=\"http://www.w3.org/2000/svg\" height=\"24px\"viewBox=\"0 0 24 24\"\n",
              "     width=\"24px\">\n",
              "    <g>\n",
              "        <path d=\"M19 3H5c-1.1 0-2 .9-2 2v14c0 1.1.9 2 2 2h14c1.1 0 2-.9 2-2V5c0-1.1-.9-2-2-2zM9 17H7v-7h2v7zm4 0h-2V7h2v10zm4 0h-2v-4h2v4z\"/>\n",
              "    </g>\n",
              "</svg>\n",
              "  </button>\n",
              "\n",
              "<style>\n",
              "  .colab-df-quickchart {\n",
              "      --bg-color: #E8F0FE;\n",
              "      --fill-color: #1967D2;\n",
              "      --hover-bg-color: #E2EBFA;\n",
              "      --hover-fill-color: #174EA6;\n",
              "      --disabled-fill-color: #AAA;\n",
              "      --disabled-bg-color: #DDD;\n",
              "  }\n",
              "\n",
              "  [theme=dark] .colab-df-quickchart {\n",
              "      --bg-color: #3B4455;\n",
              "      --fill-color: #D2E3FC;\n",
              "      --hover-bg-color: #434B5C;\n",
              "      --hover-fill-color: #FFFFFF;\n",
              "      --disabled-bg-color: #3B4455;\n",
              "      --disabled-fill-color: #666;\n",
              "  }\n",
              "\n",
              "  .colab-df-quickchart {\n",
              "    background-color: var(--bg-color);\n",
              "    border: none;\n",
              "    border-radius: 50%;\n",
              "    cursor: pointer;\n",
              "    display: none;\n",
              "    fill: var(--fill-color);\n",
              "    height: 32px;\n",
              "    padding: 0;\n",
              "    width: 32px;\n",
              "  }\n",
              "\n",
              "  .colab-df-quickchart:hover {\n",
              "    background-color: var(--hover-bg-color);\n",
              "    box-shadow: 0 1px 2px rgba(60, 64, 67, 0.3), 0 1px 3px 1px rgba(60, 64, 67, 0.15);\n",
              "    fill: var(--button-hover-fill-color);\n",
              "  }\n",
              "\n",
              "  .colab-df-quickchart-complete:disabled,\n",
              "  .colab-df-quickchart-complete:disabled:hover {\n",
              "    background-color: var(--disabled-bg-color);\n",
              "    fill: var(--disabled-fill-color);\n",
              "    box-shadow: none;\n",
              "  }\n",
              "\n",
              "  .colab-df-spinner {\n",
              "    border: 2px solid var(--fill-color);\n",
              "    border-color: transparent;\n",
              "    border-bottom-color: var(--fill-color);\n",
              "    animation:\n",
              "      spin 1s steps(1) infinite;\n",
              "  }\n",
              "\n",
              "  @keyframes spin {\n",
              "    0% {\n",
              "      border-color: transparent;\n",
              "      border-bottom-color: var(--fill-color);\n",
              "      border-left-color: var(--fill-color);\n",
              "    }\n",
              "    20% {\n",
              "      border-color: transparent;\n",
              "      border-left-color: var(--fill-color);\n",
              "      border-top-color: var(--fill-color);\n",
              "    }\n",
              "    30% {\n",
              "      border-color: transparent;\n",
              "      border-left-color: var(--fill-color);\n",
              "      border-top-color: var(--fill-color);\n",
              "      border-right-color: var(--fill-color);\n",
              "    }\n",
              "    40% {\n",
              "      border-color: transparent;\n",
              "      border-right-color: var(--fill-color);\n",
              "      border-top-color: var(--fill-color);\n",
              "    }\n",
              "    60% {\n",
              "      border-color: transparent;\n",
              "      border-right-color: var(--fill-color);\n",
              "    }\n",
              "    80% {\n",
              "      border-color: transparent;\n",
              "      border-right-color: var(--fill-color);\n",
              "      border-bottom-color: var(--fill-color);\n",
              "    }\n",
              "    90% {\n",
              "      border-color: transparent;\n",
              "      border-bottom-color: var(--fill-color);\n",
              "    }\n",
              "  }\n",
              "</style>\n",
              "\n",
              "  <script>\n",
              "    async function quickchart(key) {\n",
              "      const quickchartButtonEl =\n",
              "        document.querySelector('#' + key + ' button');\n",
              "      quickchartButtonEl.disabled = true;  // To prevent multiple clicks.\n",
              "      quickchartButtonEl.classList.add('colab-df-spinner');\n",
              "      try {\n",
              "        const charts = await google.colab.kernel.invokeFunction(\n",
              "            'suggestCharts', [key], {});\n",
              "      } catch (error) {\n",
              "        console.error('Error during call to suggestCharts:', error);\n",
              "      }\n",
              "      quickchartButtonEl.classList.remove('colab-df-spinner');\n",
              "      quickchartButtonEl.classList.add('colab-df-quickchart-complete');\n",
              "    }\n",
              "    (() => {\n",
              "      let quickchartButtonEl =\n",
              "        document.querySelector('#df-459fb74e-a05d-4f3a-8cc1-44ea000489f1 button');\n",
              "      quickchartButtonEl.style.display =\n",
              "        google.colab.kernel.accessAllowed ? 'block' : 'none';\n",
              "    })();\n",
              "  </script>\n",
              "</div>\n",
              "\n",
              "  <div id=\"id_84a33c6e-2aad-4e8c-9472-8997f9975256\">\n",
              "    <style>\n",
              "      .colab-df-generate {\n",
              "        background-color: #E8F0FE;\n",
              "        border: none;\n",
              "        border-radius: 50%;\n",
              "        cursor: pointer;\n",
              "        display: none;\n",
              "        fill: #1967D2;\n",
              "        height: 32px;\n",
              "        padding: 0 0 0 0;\n",
              "        width: 32px;\n",
              "      }\n",
              "\n",
              "      .colab-df-generate:hover {\n",
              "        background-color: #E2EBFA;\n",
              "        box-shadow: 0px 1px 2px rgba(60, 64, 67, 0.3), 0px 1px 3px 1px rgba(60, 64, 67, 0.15);\n",
              "        fill: #174EA6;\n",
              "      }\n",
              "\n",
              "      [theme=dark] .colab-df-generate {\n",
              "        background-color: #3B4455;\n",
              "        fill: #D2E3FC;\n",
              "      }\n",
              "\n",
              "      [theme=dark] .colab-df-generate:hover {\n",
              "        background-color: #434B5C;\n",
              "        box-shadow: 0px 1px 3px 1px rgba(0, 0, 0, 0.15);\n",
              "        filter: drop-shadow(0px 1px 2px rgba(0, 0, 0, 0.3));\n",
              "        fill: #FFFFFF;\n",
              "      }\n",
              "    </style>\n",
              "    <button class=\"colab-df-generate\" onclick=\"generateWithVariable('full_train_data')\"\n",
              "            title=\"Generate code using this dataframe.\"\n",
              "            style=\"display:none;\">\n",
              "\n",
              "  <svg xmlns=\"http://www.w3.org/2000/svg\" height=\"24px\"viewBox=\"0 0 24 24\"\n",
              "       width=\"24px\">\n",
              "    <path d=\"M7,19H8.4L18.45,9,17,7.55,7,17.6ZM5,21V16.75L18.45,3.32a2,2,0,0,1,2.83,0l1.4,1.43a1.91,1.91,0,0,1,.58,1.4,1.91,1.91,0,0,1-.58,1.4L9.25,21ZM18.45,9,17,7.55Zm-12,3A5.31,5.31,0,0,0,4.9,8.1,5.31,5.31,0,0,0,1,6.5,5.31,5.31,0,0,0,4.9,4.9,5.31,5.31,0,0,0,6.5,1,5.31,5.31,0,0,0,8.1,4.9,5.31,5.31,0,0,0,12,6.5,5.46,5.46,0,0,0,6.5,12Z\"/>\n",
              "  </svg>\n",
              "    </button>\n",
              "    <script>\n",
              "      (() => {\n",
              "      const buttonEl =\n",
              "        document.querySelector('#id_84a33c6e-2aad-4e8c-9472-8997f9975256 button.colab-df-generate');\n",
              "      buttonEl.style.display =\n",
              "        google.colab.kernel.accessAllowed ? 'block' : 'none';\n",
              "\n",
              "      buttonEl.onclick = () => {\n",
              "        google.colab.notebook.generateWithVariable('full_train_data');\n",
              "      }\n",
              "      })();\n",
              "    </script>\n",
              "  </div>\n",
              "\n",
              "    </div>\n",
              "  </div>\n"
            ],
            "application/vnd.google.colaboratory.intrinsic+json": {
              "type": "dataframe",
              "variable_name": "full_train_data",
              "summary": "{\n  \"name\": \"full_train_data\",\n  \"rows\": 70405,\n  \"fields\": [\n    {\n      \"column\": \"Dialogue\",\n      \"properties\": {\n        \"dtype\": \"string\",\n        \"num_unique_values\": 62770,\n        \"samples\": [\n          \" Naked alone time.\",\n          \" You know what, he's a big boy, I'm sure he'll find us, ok?\",\n          \" Sweetie, this conversation is starting to make me a little uncomfortable.\"\n        ],\n        \"semantic_type\": \"\",\n        \"description\": \"\"\n      }\n    },\n    {\n      \"column\": \"Character\",\n      \"properties\": {\n        \"dtype\": \"category\",\n        \"num_unique_values\": 10,\n        \"samples\": [\n          \"rachel\",\n          \"phoebe\",\n          \"monica\"\n        ],\n        \"semantic_type\": \"\",\n        \"description\": \"\"\n      }\n    },\n    {\n      \"column\": \"Episode\",\n      \"properties\": {\n        \"dtype\": \"category\",\n        \"num_unique_values\": 398,\n        \"samples\": [\n          \"Season-09 Episode-18-The One With The Lottery\",\n          \"Season-02 Episode-02-The One With the Breast Milk\",\n          \"Season-01 Episode-01-The One Where Monica Gets a New Roommate (The Pilot)\"\n        ],\n        \"semantic_type\": \"\",\n        \"description\": \"\"\n      }\n    },\n    {\n      \"column\": \"Show\",\n      \"properties\": {\n        \"dtype\": \"category\",\n        \"num_unique_values\": 2,\n        \"samples\": [\n          \"Seinfeld\",\n          \"Friends\"\n        ],\n        \"semantic_type\": \"\",\n        \"description\": \"\"\n      }\n    },\n    {\n      \"column\": \"Dialogue_length\",\n      \"properties\": {\n        \"dtype\": \"number\",\n        \"std\": 12,\n        \"min\": 1,\n        \"max\": 363,\n        \"num_unique_values\": 163,\n        \"samples\": [\n          182,\n          154\n        ],\n        \"semantic_type\": \"\",\n        \"description\": \"\"\n      }\n    }\n  ]\n}"
            }
          },
          "metadata": {},
          "execution_count": 188
        }
      ]
    },
    {
      "cell_type": "markdown",
      "source": [
        "Before moving on looking at the data, let's check for missing values:"
      ],
      "metadata": {
        "id": "JceRWRP-P2VF"
      }
    },
    {
      "cell_type": "code",
      "source": [
        "# Train set\n",
        "missing_values_count = full_train_data.isnull().sum()\n",
        "print(\"Missing values count per column in train data:\")\n",
        "print(missing_values_count)"
      ],
      "metadata": {
        "id": "_Ax2uMAG3Afh",
        "outputId": "6c65a8f7-0ea9-4e0c-9a75-a0e09b8eac1a",
        "colab": {
          "base_uri": "https://localhost:8080/"
        }
      },
      "execution_count": 189,
      "outputs": [
        {
          "output_type": "stream",
          "name": "stdout",
          "text": [
            "Missing values count per column in train data:\n",
            "Dialogue           0\n",
            "Character          0\n",
            "Episode            0\n",
            "Show               0\n",
            "Dialogue_length    0\n",
            "dtype: int64\n"
          ]
        }
      ]
    },
    {
      "cell_type": "code",
      "source": [
        "# Test set\n",
        "missing_values_count = full_test_data.isnull().sum()\n",
        "print(\"Missing values count per column in test data:\")\n",
        "print(missing_values_count)"
      ],
      "metadata": {
        "colab": {
          "base_uri": "https://localhost:8080/"
        },
        "id": "5ATzDNXbQQVo",
        "outputId": "ad07a9de-6d14-4a74-dd3b-2a44f9fc930c"
      },
      "execution_count": 190,
      "outputs": [
        {
          "output_type": "stream",
          "name": "stdout",
          "text": [
            "Missing values count per column in test data:\n",
            "Dialogue           0\n",
            "Character          0\n",
            "Episode            0\n",
            "Show               0\n",
            "Dialogue_length    0\n",
            "dtype: int64\n"
          ]
        }
      ]
    },
    {
      "cell_type": "markdown",
      "source": [
        "No missing values found!"
      ],
      "metadata": {
        "id": "MClDaLoGQfIy"
      }
    },
    {
      "cell_type": "markdown",
      "source": [
        "Checking whether the train data is balanced:"
      ],
      "metadata": {
        "id": "uBoWMAkRQmdL"
      }
    },
    {
      "source": [
        "# Grouping by 'Show' and getting size\n",
        "grouped_data = full_train_data.groupby('Show').size()\n",
        "\n",
        "plt.figure(figsize=(4, 3))  # Adjust width and height as needed\n",
        "\n",
        "# Plotting the grouped data\n",
        "ax = grouped_data.plot(kind='barh', color=sns.palettes.mpl_palette('Dark2'))\n",
        "# Removing top and right spines\n",
        "ax.spines['top'].set_visible(False)\n",
        "ax.spines['right'].set_visible(False)\n",
        "\n",
        "# Adding count numbers near the plots with slight adjustments\n",
        "for i, count in enumerate(grouped_data):\n",
        "    ax.text(count + 0.1, i, str(count), va='center', ha='left')\n",
        "\n",
        "# Adding title\n",
        "plt.title(\"Number of Dialogues by Show\")\n",
        "\n",
        "plt.show()"
      ],
      "cell_type": "code",
      "execution_count": 191,
      "outputs": [
        {
          "output_type": "display_data",
          "data": {
            "text/plain": [
              "<Figure size 400x300 with 1 Axes>"
            ],
            "image/png": "[encoded data removed]"
          },
          "metadata": {}
        }
      ],
      "metadata": {
        "colab": {
          "base_uri": "https://localhost:8080/",
          "height": 314
        },
        "id": "6KfR80CxQzN1",
        "outputId": "47fd8a68-b8bc-4192-db52-398fb8cf47cd"
      }
    },
    {
      "cell_type": "code",
      "source": [
        "# Display the character count per show\n",
        "full_train_data.groupby('Show')['Character'].nunique()"
      ],
      "metadata": {
        "id": "QNEEaoQVPUZE",
        "outputId": "a47a04b5-dfe3-4fe0-81df-a3e931db87c0",
        "colab": {
          "base_uri": "https://localhost:8080/"
        }
      },
      "execution_count": 192,
      "outputs": [
        {
          "output_type": "execute_result",
          "data": {
            "text/plain": [
              "Show\n",
              "Friends     6\n",
              "Seinfeld    4\n",
              "Name: Character, dtype: int64"
            ]
          },
          "metadata": {},
          "execution_count": 192
        }
      ]
    },
    {
      "cell_type": "markdown",
      "source": [
        "Looks like \"Friends\" has sligthly more dialouges than \"Seinfeld\", but overall it looks pretty balanced. <br>\n",
        "(Based on the fact that in Friends show there are more characters than in Seinfeld - 6 vs 4)\n",
        "\n",
        "Therefore we are expecting to see better results for \"Friends\" since there are more samples to learn from."
      ],
      "metadata": {
        "id": "KpUFYiyWQuAt"
      }
    },
    {
      "cell_type": "code",
      "source": [
        "# Dialouge exmaple\n",
        "full_train_data.iloc[1, 0]"
      ],
      "metadata": {
        "colab": {
          "base_uri": "https://localhost:8080/",
          "height": 35
        },
        "id": "eLwWVoqsSdFo",
        "outputId": "411dd7c9-5e69-4070-b421-ba5e0037cdda"
      },
      "execution_count": 193,
      "outputs": [
        {
          "output_type": "execute_result",
          "data": {
            "text/plain": [
              "' (to Joey) Are you gonna be embarrassed going up there having nothing prepared?'"
            ],
            "application/vnd.google.colaboratory.intrinsic+json": {
              "type": "string"
            }
          },
          "metadata": {},
          "execution_count": 193
        }
      ]
    },
    {
      "cell_type": "markdown",
      "source": [
        "Let's look at the number of dialogues each character has in its show:"
      ],
      "metadata": {
        "id": "il4Z_aaLRnpb"
      }
    },
    {
      "cell_type": "code",
      "source": [
        "# Define a function to plot histogram with count numbers\n",
        "def plot_histogram_with_counts(ax, data, title, xlabel, ylabel, color):\n",
        "    bars = ax.bar(data.index, data.values, color=color)\n",
        "    ax.set_title(title)\n",
        "    ax.set_xlabel(xlabel)\n",
        "    ax.set_ylabel(ylabel)\n",
        "    ax.set_xticks(data.index)\n",
        "    ax.set_xticklabels(data.index, rotation=45)\n",
        "    ax.grid(axis='y', linestyle='--', alpha=0.7)\n",
        "    # Adding count numbers above each column\n",
        "    for bar in bars:\n",
        "        height = bar.get_height()\n",
        "        ax.text(bar.get_x() + bar.get_width() / 2.0, height, '%d' % int(height), ha='center', va='bottom')\n"
      ],
      "metadata": {
        "id": "T4Cn4QJFTeQL"
      },
      "execution_count": 194,
      "outputs": []
    },
    {
      "cell_type": "code",
      "source": [
        "# Filter data for Seinfeld\n",
        "seinfeld_df = full_train_data[full_train_data['Show'] == 'Seinfeld']\n",
        "# Group by character and count dialogues\n",
        "seinfeld_character_counts = seinfeld_df['Character'].value_counts()\n",
        "seinfeld_characters = seinfeld_character_counts.index.tolist()\n",
        "\n",
        "# Filter data for Friends\n",
        "friends_df = full_train_data[full_train_data['Show'] == 'Friends']\n",
        "# Group by character and count dialogues\n",
        "friends_character_counts = friends_df['Character'].value_counts()\n",
        "friends_characters = friends_character_counts.index.tolist()\n",
        "\n",
        "# Create subplots\n",
        "fig, axes = plt.subplots(1, 2, figsize=(12, 5))\n",
        "\n",
        "# Plot histogram for Seinfeld\n",
        "plot_histogram_with_counts(axes[0], seinfeld_character_counts, 'Number of Dialogues per Character in Seinfeld', 'Character', 'Number of Dialogues', 'skyblue')\n",
        "\n",
        "# Plot histogram for Friends\n",
        "plot_histogram_with_counts(axes[1], friends_character_counts, 'Number of Dialogues per Character in Friends', 'Character', 'Number of Dialogues', 'salmon')\n",
        "\n",
        "plt.tight_layout()\n",
        "plt.show()"
      ],
      "metadata": {
        "colab": {
          "base_uri": "https://localhost:8080/",
          "height": 507
        },
        "id": "6ptFZ2nSTFwc",
        "outputId": "2ebf98bf-cd50-48df-b32e-f5903aa1eab6"
      },
      "execution_count": 195,
      "outputs": [
        {
          "output_type": "display_data",
          "data": {
            "text/plain": [
              "<Figure size 1200x500 with 2 Axes>"
            ],
            "image/png": "[encoded data removed]"
          },
          "metadata": {}
        }
      ]
    },
    {
      "cell_type": "markdown",
      "source": [
        "We can see that: <br>\n",
        "Seinfeld - Jerry has much more dialogues than the others. <br>\n",
        "Friends - the number of dialogues is more balanced."
      ],
      "metadata": {
        "id": "A34NaUcTR8dF"
      }
    },
    {
      "cell_type": "code",
      "source": [
        "# Dialogues Length Distribution\n",
        "# Plotting the distribution of dialogue lengths for each show to understand the typical length of dialogues\n",
        "def plot_dialogue_length_distribution(data, show_names):\n",
        "    plt.figure(figsize=(10, 6))\n",
        "\n",
        "    for show_name in show_names:\n",
        "        show_data = data[data['Show'] == show_name]\n",
        "        dialogue_lengths = show_data['Dialogue'].apply(lambda x: len(x.split()))\n",
        "        plt.hist(dialogue_lengths, bins=30, alpha=0.5, label=show_name)\n",
        "\n",
        "    plt.title('Dialogue Length Distribution Comparison')\n",
        "    plt.xlabel('Number of Words')\n",
        "    plt.ylabel('Frequency')\n",
        "    plt.grid(axis='y', alpha=0.75)\n",
        "    plt.legend()\n",
        "    plt.show()"
      ],
      "metadata": {
        "id": "jBZ1lEzQmxBe"
      },
      "execution_count": 196,
      "outputs": []
    },
    {
      "cell_type": "code",
      "source": [
        "plot_dialogue_length_distribution(full_train_data, ['Seinfeld', 'Friends'])"
      ],
      "metadata": {
        "id": "JXEtblknuxmP",
        "outputId": "095ec2fc-e02c-4a0b-b4f4-250df727d311",
        "colab": {
          "base_uri": "https://localhost:8080/",
          "height": 564
        }
      },
      "execution_count": 197,
      "outputs": [
        {
          "output_type": "display_data",
          "data": {
            "text/plain": [
              "<Figure size 1000x600 with 1 Axes>"
            ],
            "image/png": "[encoded data removed]"
          },
          "metadata": {}
        }
      ]
    },
    {
      "cell_type": "markdown",
      "source": [
        "We can see that most of the sentences are short at both shows."
      ],
      "metadata": {
        "id": "ThbHWOwmTKVr"
      }
    },
    {
      "cell_type": "code",
      "source": [
        "# Function that finds the most common words\n",
        "def count_words_custom(col):\n",
        "    # Create an empty dictionary to store word counts\n",
        "    word_counts = {}\n",
        "\n",
        "    # Iterate over each row in the column\n",
        "    for row in col:\n",
        "        # Convert dialogue to lowercase and split into words\n",
        "        words = row.lower().split()\n",
        "\n",
        "        # Iterate over each word in the row\n",
        "        for word in words:\n",
        "            # Update word count dictionary\n",
        "            word_counts[word] = word_counts.get(word, 0) + 1\n",
        "\n",
        "    # Sort word counts by value in descending order\n",
        "    sorted_word_counts = sorted(word_counts.items(), key=lambda x: x[1], reverse=True)\n",
        "\n",
        "    # Extract top 20 words and their counts\n",
        "    top_words = [word for word, count in sorted_word_counts[:20]]\n",
        "    top_counts = [count for word, count in sorted_word_counts[:20]]\n",
        "\n",
        "    # Plot bar chart\n",
        "    plt.figure(figsize=(15, 5))\n",
        "    plt.bar(top_words, top_counts)\n",
        "    plt.xlabel('Words')\n",
        "    plt.ylabel('Frequency')\n",
        "    plt.title('Top 20 Most Common Words')\n",
        "    plt.xticks(rotation=45)\n",
        "    plt.show()"
      ],
      "metadata": {
        "id": "Kw_m1SYRU4Eb"
      },
      "execution_count": 198,
      "outputs": []
    },
    {
      "cell_type": "code",
      "source": [
        "count_words_custom(full_train_data['Dialogue'])"
      ],
      "metadata": {
        "colab": {
          "base_uri": "https://localhost:8080/",
          "height": 507
        },
        "id": "Dz2mUYSdVYmS",
        "outputId": "2db044f2-eb2f-42cd-e5ca-24c70962e911"
      },
      "execution_count": 199,
      "outputs": [
        {
          "output_type": "display_data",
          "data": {
            "text/plain": [
              "<Figure size 1500x500 with 1 Axes>"
            ],
            "image/png": "[encoded data removed]"
          },
          "metadata": {}
        }
      ]
    },
    {
      "cell_type": "markdown",
      "source": [
        "We can see that all the most common words are Stop Words. We want to see the frequency without them.\n",
        "\n",
        "For that we will implement data preprocessing steps:"
      ],
      "metadata": {
        "id": "Q3DxpmkCW-KG"
      }
    },
    {
      "cell_type": "markdown",
      "source": [
        "## Text cleaning"
      ],
      "metadata": {
        "id": "YahuK9cqYcyC"
      }
    },
    {
      "cell_type": "code",
      "source": [
        "# Removing the square brackets\n",
        "def remove_between_square_brackets(text):\n",
        "    return re.sub('\\[[^]]*\\]', '', text)"
      ],
      "metadata": {
        "id": "H_DFwqgCeDRz"
      },
      "execution_count": 200,
      "outputs": []
    },
    {
      "cell_type": "code",
      "source": [
        "# Expanding contractions\n",
        "def expand_contractions(text):\n",
        "    return(contractions.fix(text))"
      ],
      "metadata": {
        "id": "bz_BHJbYU9OL"
      },
      "execution_count": 201,
      "outputs": []
    },
    {
      "cell_type": "code",
      "source": [
        "# A function for removing special characters and expanding contractions\n",
        "def clean_text(text):\n",
        "  text = remove_between_square_brackets(text)\n",
        "  text = expand_contractions(text)\n",
        "  return text"
      ],
      "metadata": {
        "id": "VLhjw2D0VIsq"
      },
      "execution_count": 202,
      "outputs": []
    },
    {
      "cell_type": "code",
      "source": [
        "# Apply function on 'Dialogue' column\n",
        "full_train_data['Dialogue'] = full_train_data['Dialogue'].apply(clean_text)\n",
        "full_test_data['Dialogue'] = full_test_data['Dialogue'].apply(clean_text)"
      ],
      "metadata": {
        "id": "vZ28NjFJeFiS"
      },
      "execution_count": 203,
      "outputs": []
    },
    {
      "cell_type": "code",
      "source": [
        "full_train_data.iloc[1, 0]"
      ],
      "metadata": {
        "colab": {
          "base_uri": "https://localhost:8080/",
          "height": 35
        },
        "id": "WU0e7veoehPe",
        "outputId": "02dbeabb-1e4b-4b46-a4d0-c05c351ecc95"
      },
      "execution_count": 204,
      "outputs": [
        {
          "output_type": "execute_result",
          "data": {
            "text/plain": [
              "' (to Joey) Are you going to be embarrassed going up there having nothing prepared?'"
            ],
            "application/vnd.google.colaboratory.intrinsic+json": {
              "type": "string"
            }
          },
          "metadata": {},
          "execution_count": 204
        }
      ]
    },
    {
      "cell_type": "markdown",
      "source": [
        "## Special character removal"
      ],
      "metadata": {
        "id": "rktALPaIYimc"
      }
    },
    {
      "cell_type": "code",
      "source": [
        "# A function for removing special characters\n",
        "def remove_special_characters(text):\n",
        "    pattern = r'[^a-zA-Z0-9\\s]'\n",
        "    text = re.sub(pattern,'',text)\n",
        "    return text"
      ],
      "metadata": {
        "id": "Ar-QeINgYjAO"
      },
      "execution_count": 205,
      "outputs": []
    },
    {
      "cell_type": "code",
      "source": [
        "# Apply function on Dialogue column\n",
        "full_train_data['Dialogue'] = full_train_data['Dialogue'].apply(remove_special_characters)\n",
        "full_test_data['Dialogue'] = full_test_data['Dialogue'].apply(remove_special_characters)"
      ],
      "metadata": {
        "id": "Qr9vWxCeekRR"
      },
      "execution_count": 206,
      "outputs": []
    },
    {
      "cell_type": "code",
      "source": [
        "full_train_data.iloc[1, 0]"
      ],
      "metadata": {
        "colab": {
          "base_uri": "https://localhost:8080/",
          "height": 35
        },
        "id": "CdjVNWb1eoKE",
        "outputId": "cbf5a39d-e3db-4fd8-da87-38d88c2d12eb"
      },
      "execution_count": 207,
      "outputs": [
        {
          "output_type": "execute_result",
          "data": {
            "text/plain": [
              "' to Joey Are you going to be embarrassed going up there having nothing prepared'"
            ],
            "application/vnd.google.colaboratory.intrinsic+json": {
              "type": "string"
            }
          },
          "metadata": {},
          "execution_count": 207
        }
      ]
    },
    {
      "cell_type": "markdown",
      "source": [
        "## Stop words removal"
      ],
      "metadata": {
        "id": "oI-pgoYYYnZe"
      }
    },
    {
      "cell_type": "markdown",
      "source": [
        "We will use the NLTK in order to find all the English stop words and take a look at a few of them:"
      ],
      "metadata": {
        "id": "d0KsvHede3s3"
      }
    },
    {
      "cell_type": "code",
      "source": [
        "nltk.download('stopwords')\n",
        "stopword_list = nltk.corpus.stopwords.words('english')\n",
        "print('Number of English stop words:', len(stopword_list))\n",
        "print(stopword_list[:5])"
      ],
      "metadata": {
        "colab": {
          "base_uri": "https://localhost:8080/"
        },
        "id": "nJT4oS2iYnt6",
        "outputId": "10207a34-1753-4c16-d61b-28ef5dcb542a"
      },
      "execution_count": 208,
      "outputs": [
        {
          "output_type": "stream",
          "name": "stdout",
          "text": [
            "Number of English stop words: 179\n",
            "['i', 'me', 'my', 'myself', 'we']\n"
          ]
        },
        {
          "output_type": "stream",
          "name": "stderr",
          "text": [
            "[nltk_data] Downloading package stopwords to /root/nltk_data...\n",
            "[nltk_data]   Package stopwords is already up-to-date!\n"
          ]
        }
      ]
    },
    {
      "cell_type": "code",
      "execution_count": 209,
      "metadata": {
        "id": "FkD9sOUQd0CU"
      },
      "outputs": [],
      "source": [
        "# Adding a progress bar to the output\n",
        "tqdm.pandas()\n",
        "\n",
        "# A function that removes the stop words from a given text\n",
        "def remove_stopwords(text, is_lower_case=False):\n",
        "    tokenizer = ToktokTokenizer()\n",
        "    tokens = tokenizer.tokenize(text)\n",
        "    tokens = [token.strip() for token in tokens]\n",
        "    if is_lower_case:\n",
        "        filtered_tokens = [token for token in tokens if token not in stopword_list]\n",
        "    else:\n",
        "        filtered_tokens = [token for token in tokens if token.lower() not in stopword_list]\n",
        "    filtered_text = ' '.join(filtered_tokens)\n",
        "    return filtered_text"
      ]
    },
    {
      "cell_type": "code",
      "source": [
        "# Apply function on Dialogue column\n",
        "full_train_data['Dialogue'] = full_train_data['Dialogue'].progress_apply(remove_stopwords)\n",
        "full_test_data['Dialogue'] = full_test_data['Dialogue'].progress_apply(remove_stopwords)"
      ],
      "metadata": {
        "colab": {
          "base_uri": "https://localhost:8080/",
          "height": 81,
          "referenced_widgets": [
            "d65f028c417c43daba58e23a9dbf4667",
            "09894af1ce2241b6a195b2cf79b10c97",
            "6325fa4bdd9b451992bb85c60f5754c1",
            "c409c8fee8424b80b1205e11435c1bc2",
            "8d4ac074593e47b8a9835a1829b664d6",
            "e5fc3e151e2243a19fa34c22191eb79a",
            "bd1a9c426e28405096af6e14c0ba7e2a",
            "027817aadc224fea8c1e5c9821ea2976",
            "abfe5a423fa345e19e0917230b80ac5c",
            "f05db30120d64a8b8453aa8559524517",
            "d3bbcc6f115e4200b59b93d625f7431e",
            "0c138ec9808c450ca2bc55b06e15b8b4",
            "4bc96b51f7a8499e9c61dfe73dfa4c34",
            "c8909f5ab0a642b1a6c59ff657f3866f",
            "4ae75292660943a0907f44c06f4daa99",
            "548f0cba42d840e891fc3bd2e18cca9d",
            "cef8984e4d9a4348a537293bff30b52d",
            "72e235b204354c56b5e54a431edfb5a9",
            "f10dca8e119a44ef85ba4d003a333acb",
            "7cc9222f85f246848354a1f6dd7a2058",
            "c9019324dcb14933a46319a7f36604fc",
            "9de4d1acf2794a8ea6b174e05dcd6bcf"
          ]
        },
        "id": "2CqzTFVmf9aC",
        "outputId": "60cfec41-7d19-4522-87bd-7c5f90627061"
      },
      "execution_count": 210,
      "outputs": [
        {
          "output_type": "display_data",
          "data": {
            "text/plain": [
              "  0%|          | 0/70405 [00:00<?, ?it/s]"
            ],
            "application/vnd.jupyter.widget-view+json": {
              "version_major": 2,
              "version_minor": 0,
              "model_id": "d65f028c417c43daba58e23a9dbf4667"
            }
          },
          "metadata": {}
        },
        {
          "output_type": "display_data",
          "data": {
            "text/plain": [
              "  0%|          | 0/4245 [00:00<?, ?it/s]"
            ],
            "application/vnd.jupyter.widget-view+json": {
              "version_major": 2,
              "version_minor": 0,
              "model_id": "0c138ec9808c450ca2bc55b06e15b8b4"
            }
          },
          "metadata": {}
        }
      ]
    },
    {
      "cell_type": "code",
      "execution_count": 211,
      "metadata": {
        "colab": {
          "base_uri": "https://localhost:8080/",
          "height": 35
        },
        "id": "UUzvGzoUejo1",
        "outputId": "32cd62ab-530f-4ae1-b526-0e9a93d55bf9"
      },
      "outputs": [
        {
          "output_type": "execute_result",
          "data": {
            "text/plain": [
              "'Joey going embarrassed going nothing prepared'"
            ],
            "application/vnd.google.colaboratory.intrinsic+json": {
              "type": "string"
            }
          },
          "metadata": {},
          "execution_count": 211
        }
      ],
      "source": [
        "full_train_data.iloc[1, 0]"
      ]
    },
    {
      "cell_type": "markdown",
      "source": [
        "Now we can run the word count again and see the desired plotting:"
      ],
      "metadata": {
        "id": "NRXr2Ph8iLhL"
      }
    },
    {
      "cell_type": "code",
      "source": [
        "count_words_custom(full_train_data['Dialogue'])"
      ],
      "metadata": {
        "colab": {
          "base_uri": "https://localhost:8080/",
          "height": 512
        },
        "id": "YPDmlHUgiZrT",
        "outputId": "1e1ee94d-90c8-4719-dc7f-cb504b72573a"
      },
      "execution_count": 212,
      "outputs": [
        {
          "output_type": "display_data",
          "data": {
            "text/plain": [
              "<Figure size 1500x500 with 1 Axes>"
            ],
            "image/png": "[encoded data removed]"
          },
          "metadata": {}
        }
      ]
    },
    {
      "cell_type": "markdown",
      "source": [
        "Now we can see that there are no more stop words from the english corpus left."
      ],
      "metadata": {
        "id": "Y0jDU5neVret"
      }
    },
    {
      "cell_type": "markdown",
      "metadata": {
        "id": "Tdei7JlEc_Ea"
      },
      "source": [
        "## Stemming"
      ]
    },
    {
      "cell_type": "code",
      "execution_count": 213,
      "metadata": {
        "id": "ZwTzs7SLlaTI"
      },
      "outputs": [],
      "source": [
        "# Stemming the text\n",
        "def simple_stemmer(text):\n",
        "    ps = nltk.porter.PorterStemmer()\n",
        "    text = ' '.join([ps.stem(word) for word in text.split()])\n",
        "    return text"
      ]
    },
    {
      "cell_type": "code",
      "source": [
        "# Apply function on Dialogue column\n",
        "full_train_data['Dialogue'] = full_train_data['Dialogue'].progress_apply(simple_stemmer)\n",
        "full_test_data['Dialogue'] = full_test_data['Dialogue'].progress_apply(simple_stemmer)"
      ],
      "metadata": {
        "colab": {
          "base_uri": "https://localhost:8080/",
          "height": 81,
          "referenced_widgets": [
            "b992df44774d481385dd595de84e0cd2",
            "1ee09e906bbb41879878def3905adcdb",
            "2c7a5bf6252b45cdb612611112b18663",
            "423c3d93d5dd4da29ea01c4d2db1e66a",
            "c8984856206a4bed91fe8b987c41ca70",
            "7f9f4680bceb4613b66111e65fb9ba63",
            "c8a3a1e541584cd38a8edbc772b7bcc6",
            "7cd477f625a7438f8c500a98b527cc6f",
            "ec3a55fe1af24286b258f7171425ba8a",
            "37e0888cc7a64bba8ecf0f6a84f5da80",
            "d73dfb21f11f45169ee1d601aaa6caaf",
            "a3dd6af7cfc14870a5f63093bd78bbf0",
            "8fee057dfd3c413aa55f2e77ef7514ec",
            "1b5613d467d34d82a55613c76c2e3a01",
            "eb74e5f5399e42bb805d872ea800bf34",
            "cc379d939ef64d1c9c2fa4a9f2d62cbe",
            "b325a7d0c3cd491eb4669ad879dbdaec",
            "79458f80b96c4767b3cfda83e5b49de0",
            "9943fd640732452f938ae59eeb08a08f",
            "f824a5fcd86c47759b5b3895431d462a",
            "ba541126ce224effaa71489b437ca1dd",
            "2d4bf16870a846c68b36019edcce8feb"
          ]
        },
        "id": "7QY6vNm3WNCa",
        "outputId": "659d490d-b6b5-4289-8340-622af7788b4a"
      },
      "execution_count": 214,
      "outputs": [
        {
          "output_type": "display_data",
          "data": {
            "text/plain": [
              "  0%|          | 0/70405 [00:00<?, ?it/s]"
            ],
            "application/vnd.jupyter.widget-view+json": {
              "version_major": 2,
              "version_minor": 0,
              "model_id": "b992df44774d481385dd595de84e0cd2"
            }
          },
          "metadata": {}
        },
        {
          "output_type": "display_data",
          "data": {
            "text/plain": [
              "  0%|          | 0/4245 [00:00<?, ?it/s]"
            ],
            "application/vnd.jupyter.widget-view+json": {
              "version_major": 2,
              "version_minor": 0,
              "model_id": "a3dd6af7cfc14870a5f63093bd78bbf0"
            }
          },
          "metadata": {}
        }
      ]
    },
    {
      "cell_type": "code",
      "execution_count": 215,
      "metadata": {
        "colab": {
          "base_uri": "https://localhost:8080/",
          "height": 35
        },
        "id": "qGFPlnD_ZE8d",
        "outputId": "27725c57-4831-4aa9-c33d-47f6c15dde3e"
      },
      "outputs": [
        {
          "output_type": "execute_result",
          "data": {
            "text/plain": [
              "'joey go embarrass go noth prepar'"
            ],
            "application/vnd.google.colaboratory.intrinsic+json": {
              "type": "string"
            }
          },
          "metadata": {},
          "execution_count": 215
        }
      ],
      "source": [
        "full_train_data.iloc[1, 0]"
      ]
    },
    {
      "cell_type": "markdown",
      "metadata": {
        "id": "mG1TBityfg1-"
      },
      "source": [
        "## Train-Test-Validation split"
      ]
    },
    {
      "cell_type": "code",
      "execution_count": 216,
      "metadata": {
        "id": "mc3bdh1CHGtw"
      },
      "outputs": [],
      "source": [
        "X_train = full_train_data['Dialogue']\n",
        "X_test = full_test_data['Dialogue']\n",
        "y_train = full_train_data['Show']\n",
        "y_test = full_test_data['Show']"
      ]
    },
    {
      "cell_type": "code",
      "source": [
        "# Train-Validation split\n",
        "X_train, X_val, y_train, y_val = train_test_split(X_train, y_train, test_size=0.2, random_state=42)\n",
        "\n",
        "X_train_original = X_train.copy()\n",
        "y_train_original = y_train.copy()\n",
        "\n",
        "X_val_original = X_val.copy()\n",
        "y_val_original = y_val.copy()\n",
        "\n",
        "X_test_original = X_test.copy()\n",
        "y_test_original = y_test.copy()\n",
        "\n",
        "print('x_train shape:', X_train.shape)\n",
        "print('y_train shape:', y_train.shape)\n",
        "print('\\nx_test shape:', X_test.shape)\n",
        "print('y_test shape:', y_test.shape)\n",
        "print('\\nx_val shape:', X_val.shape)\n",
        "print('y_val shape:', y_val.shape)"
      ],
      "metadata": {
        "id": "5yrZmcPJrmQa",
        "outputId": "2f96f8d0-7a58-4606-fd55-49f1d5923ca3",
        "colab": {
          "base_uri": "https://localhost:8080/"
        }
      },
      "execution_count": 217,
      "outputs": [
        {
          "output_type": "stream",
          "name": "stdout",
          "text": [
            "x_train shape: (56324,)\n",
            "y_train shape: (56324,)\n",
            "\n",
            "x_test shape: (4245,)\n",
            "y_test shape: (4245,)\n",
            "\n",
            "x_val shape: (14081,)\n",
            "y_val shape: (14081,)\n"
          ]
        }
      ]
    },
    {
      "cell_type": "markdown",
      "source": [
        "## Text Representation Techniques"
      ],
      "metadata": {
        "id": "t5h4TMJDVfw0"
      }
    },
    {
      "cell_type": "markdown",
      "source": [
        "In this section we will name all the text representation techniques that we will use and implement them:"
      ],
      "metadata": {
        "id": "6W0mToAAVme1"
      }
    },
    {
      "cell_type": "markdown",
      "source": [
        "Our aim is to make the representation of text in the model to be as meaningful, capturing important information such as word frequencies, semantic relationships, and contextual meaning."
      ],
      "metadata": {
        "id": "vd4vr_RjWYnI"
      }
    },
    {
      "cell_type": "markdown",
      "source": [
        "### Bag of Words (BOW)"
      ],
      "metadata": {
        "id": "8v4hFeBdVXgS"
      }
    },
    {
      "cell_type": "markdown",
      "source": [
        "<u>Positives:</u>\n",
        "\n",
        "1. Simple and Intuitive: BOW is easy to understand and implement, making it accessible for beginners and quick to deploy in NLP projects.\n",
        "\n",
        "2. Efficient: It requires minimal computational resources for both training and inference, making it suitable for large datasets and real-time applications.\n",
        "\n",
        "3. Versatility: BOW can be used with various machine learning algorithms, including traditional classifiers, making it applicable to a wide range of NLP tasks such as sentiment analysis, text classification, and document clustering.\n",
        "\n",
        "<u>Negatives:</u>\n",
        "\n",
        "1. Loss of Sequence Information: BOW disregards the order of words in the document, leading to the loss of sequential information. This can result in the model's inability to capture context and dependencies between words accurately.\n",
        "\n",
        "2. Sparse Representation: For large vocabularies or datasets with many unique words, the BOW representation can become highly sparse, leading to increased computational and memory requirements and potentially causing issues with model overfitting."
      ],
      "metadata": {
        "id": "UCmSTpK2VbVx"
      }
    },
    {
      "cell_type": "code",
      "source": [
        "def BOW_implementation(x_train, x_val, x_test):\n",
        "\n",
        "  cv = CountVectorizer(analyzer='word')\n",
        "\n",
        "  x_train_cv = cv.fit_transform(x_train)\n",
        "  x_val_cv = cv.transform(x_val)\n",
        "  x_test_cv = cv.transform(x_test)\n",
        "\n",
        "  return x_train_cv, x_val_cv, x_test_cv"
      ],
      "metadata": {
        "id": "hbIscZ3lW3EY"
      },
      "execution_count": 218,
      "outputs": []
    },
    {
      "cell_type": "code",
      "source": [
        "# x_train_cv, x_val_cv, x_test_cv = BOW_implementation(x_train, x_val, x_test)\n",
        "\n",
        "# print('x_train_cv:', x_train_cv.shape)\n",
        "# print('x_test_cv:', x_test_cv.shape)\n",
        "# print('x_val_cv:', x_val_cv.shape)"
      ],
      "metadata": {
        "id": "RyitjEdzfiCK"
      },
      "execution_count": 219,
      "outputs": []
    },
    {
      "cell_type": "markdown",
      "source": [
        "### Term Frequency-Inverse Document Frequency model (TF-IDF)"
      ],
      "metadata": {
        "id": "e6VKmyN8W4B1"
      }
    },
    {
      "cell_type": "markdown",
      "source": [
        "<u>Positives:</u>\n",
        "\n",
        "1. Term Importance: TF-IDF considers not only the frequency of words in the document but also their importance across the entire corpus. This helps in identifying and giving more weight to words that are rare but have significant meaning, improving the model's ability to capture important terms.\n",
        "\n",
        "2. Dimensionality Reduction: TF-IDF reduces the dimensionality of the feature space by weighting words based on their importance, resulting in a more compact representation compared to BOW. This can improve model efficiency and reduce computational complexity.\n",
        "\n",
        "3. Generalization: TF-IDF helps in generalizing the model by down-weighting common terms that appear frequently across documents but may not carry significant semantic meaning, leading to better model performance on unseen data.\n",
        "\n",
        "<u>Negatives:</u>\n",
        "\n",
        "1. Loss of Semantic Information: Like BOW, TF-IDF also ignores the order and context of words in the document, leading to the loss of semantic information. It treats each document as a collection of independent words, which may not accurately capture the document's overall meaning.\n",
        "\n",
        "2. Sensitivity to Document Length: TF-IDF may be sensitive to document length, as longer documents may have higher term frequencies, potentially biasing the model towards longer documents."
      ],
      "metadata": {
        "id": "OXHL8qB1btJB"
      }
    },
    {
      "cell_type": "markdown",
      "source": [
        "This is another way to convert the data to a numerical format. Like BoW, this algorithm is based on a term's popularity. However, its score is negatively correlated with its popularity in all documents.\n",
        "\n",
        "This time we're going to use only 5K different terms as a cut-off."
      ],
      "metadata": {
        "id": "w3ykYE1SXGhi"
      }
    },
    {
      "cell_type": "code",
      "source": [
        "def tfidf_implementation(x_train, x_val, x_test):\n",
        "\n",
        "  tv = TfidfVectorizer(analyzer='word', max_features=5000)\n",
        "\n",
        "  x_train_tv = tv.fit_transform(x_train)\n",
        "  x_val_tv = tv.transform(x_val)\n",
        "  x_test_tv = tv.transform(x_test)\n",
        "\n",
        "  return x_train_tv, x_val_tv, x_test_tv"
      ],
      "metadata": {
        "id": "wVXzAzIGW-KG"
      },
      "execution_count": 220,
      "outputs": []
    },
    {
      "cell_type": "code",
      "source": [
        "# x_train_tv, x_val_tv, x_test_tv = tfidf_implementation(x_train, x_val, x_test)\n",
        "\n",
        "# print('x_train_tv:', x_train_tv.shape)\n",
        "# print('x_test_tv:', x_test_tv.shape)\n",
        "# print('x_val_tv:', x_val_tv.shape)"
      ],
      "metadata": {
        "id": "jjKBdkIZfE7Q"
      },
      "execution_count": 221,
      "outputs": []
    },
    {
      "cell_type": "markdown",
      "source": [
        "### Word embeddings"
      ],
      "metadata": {
        "id": "YnvKhWctXM6f"
      }
    },
    {
      "cell_type": "markdown",
      "source": [
        "Word embeddings capture semantic relationships between words and provide a more nuanced representation of the text data compared to BOW and TF-IDF."
      ],
      "metadata": {
        "id": "O2Yyjy0gXT6Q"
      }
    },
    {
      "cell_type": "markdown",
      "source": [
        "The implementation will be a layer during the creation of the architecture and training of the final model."
      ],
      "metadata": {
        "id": "DEQmvbaIXWqm"
      }
    },
    {
      "cell_type": "markdown",
      "source": [
        "## Labeling"
      ],
      "metadata": {
        "id": "EIruMKat5Rx3"
      }
    },
    {
      "cell_type": "markdown",
      "source": [
        "We will change the labels \"Friends\" and \"Seinfeld\" to 1 and 0 accordingly:"
      ],
      "metadata": {
        "id": "ehRmXgBeXZ0N"
      }
    },
    {
      "cell_type": "code",
      "source": [
        "# Making sure that there are only two unique labels\n",
        "unique_shows = full_train_data['Show'].unique()\n",
        "print(\"Unique values in the 'show' column:\")\n",
        "print(unique_shows)"
      ],
      "metadata": {
        "id": "DRvT9XaK33Bw",
        "outputId": "5739c1e8-a003-49fe-ea02-01e3da5a63f6",
        "colab": {
          "base_uri": "https://localhost:8080/"
        }
      },
      "execution_count": 222,
      "outputs": [
        {
          "output_type": "stream",
          "name": "stdout",
          "text": [
            "Unique values in the 'show' column:\n",
            "['Friends' 'Seinfeld']\n"
          ]
        }
      ]
    },
    {
      "cell_type": "markdown",
      "source": [
        "As we saw above - we have only 2 values in 'Show' columns : Friends and Seindfeld. <br>\n",
        "Therefore we will change our label into binary numbers : Seinfeld = 0 , Friends = 1"
      ],
      "metadata": {
        "id": "lTQ1XhTGXzcp"
      }
    },
    {
      "cell_type": "code",
      "source": [
        "# custom_labels = ['Seinfeld', 'Friends']\n",
        "def labeling_implementation(y_train, y_val, y_test):\n",
        "\n",
        "  # Initialize LabelBinarizer\n",
        "  lb = LabelBinarizer()\n",
        "\n",
        "  # Fit and transform custom labels\n",
        "  y_train = lb.fit_transform(y_train)\n",
        "  y_val = lb.transform(y_val)\n",
        "  y_test = lb.transform(y_test)\n",
        "\n",
        "  return y_train, y_val, y_test"
      ],
      "metadata": {
        "id": "lnPv7VT12dKP"
      },
      "execution_count": 223,
      "outputs": []
    },
    {
      "cell_type": "code",
      "source": [
        "y_train, y_val, y_test = labeling_implementation(y_train, y_val, y_test)\n",
        "y_train"
      ],
      "metadata": {
        "colab": {
          "base_uri": "https://localhost:8080/"
        },
        "id": "lLv5o_vNhL5G",
        "outputId": "dd695b20-6e40-4398-fb83-41e9b333e264"
      },
      "execution_count": 224,
      "outputs": [
        {
          "output_type": "execute_result",
          "data": {
            "text/plain": [
              "array([[1],\n",
              "       [1],\n",
              "       [0],\n",
              "       ...,\n",
              "       [1],\n",
              "       [1],\n",
              "       [1]])"
            ]
          },
          "metadata": {},
          "execution_count": 224
        }
      ]
    },
    {
      "cell_type": "markdown",
      "source": [
        "## Text tokenization (for a sequential deep learning model)"
      ],
      "metadata": {
        "id": "Qcz-Ji7ovJWt"
      }
    },
    {
      "cell_type": "markdown",
      "metadata": {
        "id": "19YCaSiXWrlj"
      },
      "source": [
        "For our deep learning model we will convert the text data into a suitable format of data (numeric form) using the Keras' tokenizer:"
      ]
    },
    {
      "cell_type": "code",
      "source": [
        "X_train_before_token = X_train"
      ],
      "metadata": {
        "id": "18lJVQ9Aa0RB"
      },
      "execution_count": 225,
      "outputs": []
    },
    {
      "cell_type": "code",
      "source": [
        "token = Tokenizer(lower=False)\n",
        "token.fit_on_texts(X_train)"
      ],
      "metadata": {
        "id": "7ixR51aCb8bX"
      },
      "execution_count": 226,
      "outputs": []
    },
    {
      "cell_type": "code",
      "source": [
        "def text_tokenization(X_train, X_val, X_test):\n",
        "\n",
        "  token = Tokenizer(lower=False)\n",
        "  token.fit_on_texts(X_train)\n",
        "\n",
        "  X_train_dl = token.texts_to_sequences(X_train)\n",
        "  X_val_dl = token.texts_to_sequences(X_val)\n",
        "  X_test_dl = token.texts_to_sequences(X_test)\n",
        "\n",
        "  return X_train_dl, X_val_dl, X_test_dl"
      ],
      "metadata": {
        "id": "FnuggKLzar-N"
      },
      "execution_count": 227,
      "outputs": []
    },
    {
      "cell_type": "code",
      "source": [
        "X_train, X_val, X_test = text_tokenization(X_train, X_val, X_test)"
      ],
      "metadata": {
        "id": "wKV6EOFLbFFX"
      },
      "execution_count": 228,
      "outputs": []
    },
    {
      "cell_type": "markdown",
      "source": [
        "Before:"
      ],
      "metadata": {
        "id": "q0c5PoecbDMP"
      }
    },
    {
      "cell_type": "code",
      "source": [
        "X_train_before_token[1]"
      ],
      "metadata": {
        "colab": {
          "base_uri": "https://localhost:8080/",
          "height": 35
        },
        "id": "EBGXBKmXbEI5",
        "outputId": "1a7580cd-b6d7-426a-adfc-ce037af4a332"
      },
      "execution_count": 229,
      "outputs": [
        {
          "output_type": "execute_result",
          "data": {
            "text/plain": [
              "'joey go embarrass go noth prepar'"
            ],
            "application/vnd.google.colaboratory.intrinsic+json": {
              "type": "string"
            }
          },
          "metadata": {},
          "execution_count": 229
        }
      ]
    },
    {
      "cell_type": "markdown",
      "source": [
        "After:"
      ],
      "metadata": {
        "id": "ObTVNeuUbE9f"
      }
    },
    {
      "cell_type": "code",
      "source": [
        "token.texts_to_sequences([X_train_before_token[1]])"
      ],
      "metadata": {
        "id": "NtrqrPHODQvZ",
        "outputId": "737e6076-4043-44c8-83de-ffdc33809463",
        "colab": {
          "base_uri": "https://localhost:8080/"
        }
      },
      "execution_count": 230,
      "outputs": [
        {
          "output_type": "execute_result",
          "data": {
            "text/plain": [
              "[[35, 1, 607, 1, 99, 1282]]"
            ]
          },
          "metadata": {},
          "execution_count": 230
        }
      ]
    },
    {
      "cell_type": "markdown",
      "source": [
        "## Sequence padding"
      ],
      "metadata": {
        "id": "V7kY5N9Hw-31"
      }
    },
    {
      "cell_type": "markdown",
      "source": [
        "In order to train our Neural Network, we need the dataset to be with a fixed amount of features (in our case - words\\tokens). Thus, we will apply padding  on the data."
      ],
      "metadata": {
        "id": "ra09b-30DyIu"
      }
    },
    {
      "cell_type": "markdown",
      "metadata": {
        "id": "_8RkUYqCYNFh"
      },
      "source": [
        "Calculate dialouge lengths:"
      ]
    },
    {
      "cell_type": "code",
      "execution_count": 231,
      "metadata": {
        "id": "SiyF_j3XYF4R",
        "outputId": "b423329a-079a-43e2-bb1e-6bddee8b928a",
        "colab": {
          "base_uri": "https://localhost:8080/"
        }
      },
      "outputs": [
        {
          "output_type": "stream",
          "name": "stdout",
          "text": [
            "Longest dialouge: 166\n",
            "Shortet dialouge:  0\n",
            "Average dialouge: 5.3504012499112275\n"
          ]
        }
      ],
      "source": [
        "# Calculate the dialouge length\n",
        "dialouge_len_list = [len(dialouge) for dialouge in X_train]\n",
        "\n",
        "print (\"Longest dialouge:\", max(dialouge_len_list))\n",
        "print(\"Shortet dialouge: \", min(dialouge_len_list))\n",
        "print(\"Average dialouge:\", np.mean(dialouge_len_list))"
      ]
    },
    {
      "cell_type": "markdown",
      "metadata": {
        "id": "yBMjk6ixYuFP"
      },
      "source": [
        "Let's examine the distribution:"
      ]
    },
    {
      "cell_type": "code",
      "execution_count": 232,
      "metadata": {
        "colab": {
          "base_uri": "https://localhost:8080/",
          "height": 450
        },
        "id": "S0GUFtOuYliw",
        "outputId": "73142d1a-17c6-4aeb-a292-883659a211c7"
      },
      "outputs": [
        {
          "output_type": "execute_result",
          "data": {
            "text/plain": [
              "<Axes: ylabel='Count'>"
            ]
          },
          "metadata": {},
          "execution_count": 232
        },
        {
          "output_type": "display_data",
          "data": {
            "text/plain": [
              "<Figure size 640x480 with 1 Axes>"
            ],
            "image/png": "[encoded data removed]"
          },
          "metadata": {}
        }
      ],
      "source": [
        "sns.histplot(dialouge_len_list)"
      ]
    },
    {
      "cell_type": "markdown",
      "metadata": {
        "id": "f2KsST2otG94"
      },
      "source": [
        "We want to make sure that all dialouges have the same length. According to the distribution, 40 seems like a reasonable shared value:"
      ]
    },
    {
      "cell_type": "code",
      "source": [
        "max_words = 40"
      ],
      "metadata": {
        "id": "XVK_h5xXy9-O"
      },
      "execution_count": 233,
      "outputs": []
    },
    {
      "cell_type": "code",
      "source": [
        "def sequence_padding(X_train, X_val, X_test, max_words):\n",
        "\n",
        "  X_train_dl = sequence.pad_sequences(X_train, maxlen=max_words)\n",
        "  X_val_dl = sequence.pad_sequences(X_val, maxlen=max_words)\n",
        "  X_test_dl = sequence.pad_sequences(X_test, maxlen=max_words)\n",
        "\n",
        "  return X_train_dl, X_val_dl, X_test_dl"
      ],
      "metadata": {
        "id": "rJCSbpW5cBhp"
      },
      "execution_count": 234,
      "outputs": []
    },
    {
      "cell_type": "code",
      "execution_count": 235,
      "metadata": {
        "id": "LqiBbfdSHkAv"
      },
      "outputs": [],
      "source": [
        "X_train, X_val, X_test = sequence_padding(X_train, X_val, X_test, max_words)"
      ]
    },
    {
      "cell_type": "markdown",
      "metadata": {
        "id": "WUrNm3QSs-kT"
      },
      "source": [
        "Let's see what a sample look like:"
      ]
    },
    {
      "cell_type": "code",
      "execution_count": 236,
      "metadata": {
        "colab": {
          "base_uri": "https://localhost:8080/"
        },
        "id": "cvsYEH7FOkSp",
        "outputId": "fe5f0f01-bec7-42b1-9172-d65116343a06"
      },
      "outputs": [
        {
          "output_type": "execute_result",
          "data": {
            "text/plain": [
              "(56324, 40)"
            ]
          },
          "metadata": {},
          "execution_count": 236
        }
      ],
      "source": [
        "X_train.shape"
      ]
    },
    {
      "cell_type": "code",
      "execution_count": 237,
      "metadata": {
        "colab": {
          "base_uri": "https://localhost:8080/"
        },
        "id": "ozLXZoO7wszJ",
        "outputId": "95066448-5116-49af-a220-1357d01b1fe5"
      },
      "outputs": [
        {
          "output_type": "execute_result",
          "data": {
            "text/plain": [
              "array([   0,    0,    0,    0,    0,    0,    0,    0,    0,    0,    0,\n",
              "          0,    0,    0,    0,    0,    0,    0,    0,    0,    0,    0,\n",
              "          0,    0,    0,    0,    0,    0,    0,  268,  247,  340,  834,\n",
              "          3, 4205, 4885,  159,    3,   52,  340], dtype=int32)"
            ]
          },
          "metadata": {},
          "execution_count": 237
        }
      ],
      "source": [
        "X_train[10, :]"
      ]
    },
    {
      "cell_type": "code",
      "execution_count": 238,
      "metadata": {
        "colab": {
          "base_uri": "https://localhost:8080/"
        },
        "id": "BMk45bdtUbc-",
        "outputId": "62ce5bb1-0e5d-4d1b-d4db-719d4d46fb6d"
      },
      "outputs": [
        {
          "output_type": "stream",
          "name": "stdout",
          "text": [
            "Number of unique words in both shows after preprocessing: 15576\n"
          ]
        }
      ],
      "source": [
        "total_words = len(token.word_index) + 1\n",
        "print(\"Number of unique words in both shows after preprocessing:\", total_words)"
      ]
    },
    {
      "cell_type": "markdown",
      "source": [
        "## Final preprocessing function"
      ],
      "metadata": {
        "id": "R-LRYdO1lUND"
      }
    },
    {
      "cell_type": "markdown",
      "source": [
        "As discussed earlier, there are 3 different approaches of text representation, thus, we need to preprocess accordingly:"
      ],
      "metadata": {
        "id": "aWAXA2mglYo1"
      }
    },
    {
      "cell_type": "markdown",
      "source": [
        "Starting with the general features preprocessing:"
      ],
      "metadata": {
        "id": "KNAfKBZP0IB-"
      }
    },
    {
      "cell_type": "code",
      "source": [
        "def features_preproccesing(X_original):\n",
        "\n",
        "  # Text cleaning\n",
        "  X_original = X_original.apply(clean_text)\n",
        "\n",
        "  # Special character removal\n",
        "  X_original = X_original.apply(remove_special_characters)\n",
        "\n",
        "  # Stop words removal\n",
        "  X_original = X_original.progress_apply(remove_stopwords)\n",
        "\n",
        "  # Stemming\n",
        "  X_original = X_original.progress_apply(simple_stemmer)\n",
        "\n",
        "  return X_original"
      ],
      "metadata": {
        "id": "eO8HKjm-lY36"
      },
      "execution_count": 239,
      "outputs": []
    },
    {
      "cell_type": "markdown",
      "source": [
        "Applying these changes to each dataset and encoding the labels as decicded:"
      ],
      "metadata": {
        "id": "JZMWUm4e0N2k"
      }
    },
    {
      "cell_type": "code",
      "source": [
        "def final_preprocessing(X_train_original, y_train_original, X_val_original, y_val_original, X_test_original, y_test_original):\n",
        "\n",
        "  print(\"X_train preprocessing:\")\n",
        "  X_train_original = features_preproccesing(X_train_original)\n",
        "\n",
        "  print(\"\\nX_val preprocessing:\")\n",
        "  X_val_original = features_preproccesing(X_val_original)\n",
        "\n",
        "  print(\"\\nX_test preprocessing:\")\n",
        "  X_test_original = features_preproccesing(X_test_original)\n",
        "\n",
        "  y_train_original, y_val_original, y_test_original = labeling_implementation(y_train_original, y_val_original, y_test_original)\n",
        "\n",
        "  print(\"\\nFull preprocessing done!\")\n",
        "\n",
        "  return X_train_original, y_train_original, X_val_original, y_val_original, X_test_original, y_test_original"
      ],
      "metadata": {
        "id": "xb5JaxqbdPTn"
      },
      "execution_count": 240,
      "outputs": []
    },
    {
      "cell_type": "code",
      "source": [
        "X_train_ppc, y_train_ppc, X_val_ppc, y_val_ppc, X_test_ppc, y_test_ppc = final_preprocessing(X_train_original.copy(), y_train_original.copy(), X_val_original.copy(), y_val_original.copy(), X_test_original.copy(), y_test_original.copy())"
      ],
      "metadata": {
        "colab": {
          "base_uri": "https://localhost:8080/",
          "height": 330,
          "referenced_widgets": [
            "b0229ac37d164b4ca5ac244ab5c7dcbc",
            "1517708e5ecb474192e00cacf9a60472",
            "bac01a06bba64b049b323d0ca7b9006a",
            "9d82301e694243ada0f80892d1f0936b",
            "4c018c6de97e4718b7a1cb6d3b62d4cf",
            "f7d1dac037004c0082eefdbd58f47030",
            "ca31a71ff56440fbb5a2735e89a35746",
            "7c6e1d8bf4664b5581dccea5f5f00ec4",
            "be196bec31834881b5f353332d9ae9f5",
            "292bf0b5d1ad41e996c405f73422107e",
            "3bcb4522a9ba44dd959b040fc47c4a22",
            "61e6458fece84cf988f5755086c8052a",
            "26b5eefc362949108e8899dea5af03e6",
            "a89437d4f75842fcad7a824741765c8e",
            "ea49ccae8ff44358a3e442e94bc6e2b4",
            "c59a02c437c74a29b50026ebf65c52b5",
            "03444bb5292a4b5db79b7daf5ff8f512",
            "5af3b645ee6147f3903bcedb83df1862",
            "35de2c2200a3499faf99e517017ee47f",
            "8d6b553f15eb47b9800c756ed4c8a469",
            "c50db91329794beb8fb22f4506490acf",
            "9ef270698e9e4ab496a4086080eff402",
            "cd2a754db4a143d8948379363907948a",
            "09a0f03a88c24b96875dab77c0df5b9f",
            "3de232292df949d08bcb6eec8b51413d",
            "cfa344c5ae3e45ca98c2b45004d9fc78",
            "62f6bf3428bf40e8ba1e80240fa0efaa",
            "4eecc6b88df74db893896d23e57203b8",
            "4c0700562a7c4b89b3980e12986c68c7",
            "97e4e4ca21b34dd095541687bf7a6a36",
            "8accc57eb4334d4591ba45cbc07b78ca",
            "12975a2c4db44581bd43797637a85b00",
            "e37e0f849f1b448db46321a3b702de5f",
            "b80e296bff4b42c0bc36c2f4862c6a51",
            "38b3276f52d641a78cd9066d2695ad6b",
            "c48032cfe55e4bf89c1b74e66c4d9e81",
            "18c970f9db4f4b6ca79dda57df7d7f2e",
            "730ec50b63de49cdad274306800c7e68",
            "5837579dbe7b4ec5af0d92cd08ea539c",
            "b8556196014e474c830b36416fcae8de",
            "653c3ca9554445ac944003ed2fec8ee3",
            "0ca37ad675a5453bb3ab516b891f90ff",
            "6a8436996e2a4ee18ec913a4199bf029",
            "4a02fcdf6a6e4b77a2751e19a882226d",
            "e85a9949e71348dfa3b60d4bbb8bdf13",
            "9fe890090b244979861c37561d28dc33",
            "d7cbf06309d8414bb3cd7e4ed29fd69f",
            "025cf4a6ec5b4899b2d9ff30b7608367",
            "819697f02e2b43da93c8c73c1df56f12",
            "40c81b870ae149cfa352934ae0cfc6e7",
            "e2bf3b6ea24949d8819d9277ebf71e82",
            "456b9b20173d47e0b817bc88eff7561d",
            "063dc4eee810484bb9c745044f0ea84f",
            "fb949585fbbe479c8bacb5ac49a32f59",
            "8702902c10a447abb270b9bb516479ae",
            "db6e9d2e4eeb4d0caff0a806facf6aca",
            "ba8ca895a3df46d59d16f1af056fca0f",
            "5d70d6900dcb4c1888a2eb9bebdc6b55",
            "d7798cd0dc3f4ec09cd8182e820ac20d",
            "7cfc98dc1a704824b6895f3c203de583",
            "ba3f622b753648958536ea4b31acb411",
            "59d9a69174e647cc8038ee3ad35656d6",
            "832902e753a54674b4b6591d9e39b65b",
            "4b70c2b44ad44d0db2b6d1e7dfccd52c",
            "b42acc77f82349a88530721a60cc8a63",
            "e3ce2b538c99498cb67f5cc996354eb9"
          ]
        },
        "id": "NKr14bblj05i",
        "outputId": "c2603c89-9e52-413b-e04c-a0e6cae8ee95"
      },
      "execution_count": 241,
      "outputs": [
        {
          "output_type": "stream",
          "name": "stdout",
          "text": [
            "X_train preprocessing:\n"
          ]
        },
        {
          "output_type": "display_data",
          "data": {
            "text/plain": [
              "  0%|          | 0/56324 [00:00<?, ?it/s]"
            ],
            "application/vnd.jupyter.widget-view+json": {
              "version_major": 2,
              "version_minor": 0,
              "model_id": "b0229ac37d164b4ca5ac244ab5c7dcbc"
            }
          },
          "metadata": {}
        },
        {
          "output_type": "display_data",
          "data": {
            "text/plain": [
              "  0%|          | 0/56324 [00:00<?, ?it/s]"
            ],
            "application/vnd.jupyter.widget-view+json": {
              "version_major": 2,
              "version_minor": 0,
              "model_id": "61e6458fece84cf988f5755086c8052a"
            }
          },
          "metadata": {}
        },
        {
          "output_type": "stream",
          "name": "stdout",
          "text": [
            "\n",
            "X_val preprocessing:\n"
          ]
        },
        {
          "output_type": "display_data",
          "data": {
            "text/plain": [
              "  0%|          | 0/14081 [00:00<?, ?it/s]"
            ],
            "application/vnd.jupyter.widget-view+json": {
              "version_major": 2,
              "version_minor": 0,
              "model_id": "cd2a754db4a143d8948379363907948a"
            }
          },
          "metadata": {}
        },
        {
          "output_type": "display_data",
          "data": {
            "text/plain": [
              "  0%|          | 0/14081 [00:00<?, ?it/s]"
            ],
            "application/vnd.jupyter.widget-view+json": {
              "version_major": 2,
              "version_minor": 0,
              "model_id": "b80e296bff4b42c0bc36c2f4862c6a51"
            }
          },
          "metadata": {}
        },
        {
          "output_type": "stream",
          "name": "stdout",
          "text": [
            "\n",
            "X_test preprocessing:\n"
          ]
        },
        {
          "output_type": "display_data",
          "data": {
            "text/plain": [
              "  0%|          | 0/4245 [00:00<?, ?it/s]"
            ],
            "application/vnd.jupyter.widget-view+json": {
              "version_major": 2,
              "version_minor": 0,
              "model_id": "e85a9949e71348dfa3b60d4bbb8bdf13"
            }
          },
          "metadata": {}
        },
        {
          "output_type": "display_data",
          "data": {
            "text/plain": [
              "  0%|          | 0/4245 [00:00<?, ?it/s]"
            ],
            "application/vnd.jupyter.widget-view+json": {
              "version_major": 2,
              "version_minor": 0,
              "model_id": "db6e9d2e4eeb4d0caff0a806facf6aca"
            }
          },
          "metadata": {}
        },
        {
          "output_type": "stream",
          "name": "stdout",
          "text": [
            "\n",
            "Full preprocessing done!\n"
          ]
        }
      ]
    },
    {
      "cell_type": "markdown",
      "source": [
        "After we have the basic preprocessed data we should prepare the data for BOW representation, TF-IDF represantation and the convolutional neural network:"
      ],
      "metadata": {
        "id": "gkbUz6HD0XFZ"
      }
    },
    {
      "cell_type": "code",
      "source": [
        "def deep_learning_preprocessing(X_train, X_val, X_test, max_words):\n",
        "\n",
        "  X_train_dl, X_val_dl, X_test_dl = text_tokenization(X_train, X_val, X_test)\n",
        "  X_train_dl, X_val_dl, X_test_dl = sequence_padding(X_train_dl, X_val_dl, X_test_dl, max_words)\n",
        "\n",
        "  return X_train_dl, X_val_dl, X_test_dl"
      ],
      "metadata": {
        "id": "CcZq6poaTzNh"
      },
      "execution_count": 242,
      "outputs": []
    },
    {
      "cell_type": "code",
      "source": [
        "X_train_dl, X_val_dl, X_test_dl = deep_learning_preprocessing(X_train_ppc.copy(), X_val_ppc.copy(), X_test_ppc.copy(), max_words)"
      ],
      "metadata": {
        "id": "X2vxc_8sOmJU"
      },
      "execution_count": 243,
      "outputs": []
    },
    {
      "cell_type": "code",
      "source": [
        "x_train_cv, x_val_cv, x_test_cv = BOW_implementation(X_train_ppc.copy(), X_val_ppc.copy(), X_test_ppc.copy())"
      ],
      "metadata": {
        "id": "nXFjQzDZxX-O"
      },
      "execution_count": 244,
      "outputs": []
    },
    {
      "cell_type": "code",
      "source": [
        "x_train_tv, x_val_tv, x_test_tv = tfidf_implementation(X_train_ppc.copy(), X_val_ppc.copy(), X_test_ppc.copy())"
      ],
      "metadata": {
        "id": "KSnrncofx7QZ"
      },
      "execution_count": 245,
      "outputs": []
    },
    {
      "cell_type": "markdown",
      "source": [
        "# Modeling"
      ],
      "metadata": {
        "id": "_58J58NQVpBV"
      }
    },
    {
      "cell_type": "markdown",
      "source": [
        "In this section we will run several Machine Learning and Deep Learning models with different types of text-representation techniques (BOW, TF-IDF and word embedding)"
      ],
      "metadata": {
        "id": "0avcni4mIe2x"
      }
    },
    {
      "cell_type": "markdown",
      "source": [
        "## Logistic Regression"
      ],
      "metadata": {
        "id": "qEiDaFgudEqe"
      }
    },
    {
      "cell_type": "markdown",
      "source": [
        "### BOW"
      ],
      "metadata": {
        "id": "x2FcL1GTkE_K"
      }
    },
    {
      "cell_type": "code",
      "source": [
        "def bow_logistic_regression(x_train_cv, y_train):\n",
        "\n",
        "  begin_time = datetime.datetime.now()\n",
        "  lr_bow = LogisticRegression(penalty='l2', max_iter=500, random_state=42)\n",
        "  lr_bow.fit(x_train_cv, y_train.ravel())\n",
        "  print('BOW time (seconds): ', str((datetime.datetime.now() - begin_time).seconds))\n",
        "\n",
        "  return lr_bow"
      ],
      "metadata": {
        "id": "Y0fZtXxCkNgY"
      },
      "execution_count": 246,
      "outputs": []
    },
    {
      "cell_type": "markdown",
      "source": [
        "### TF-IDF"
      ],
      "metadata": {
        "id": "rL5bcMPBkLg4"
      }
    },
    {
      "cell_type": "code",
      "source": [
        "def tfidf_logistic_regression(x_train_tv, y_train):\n",
        "\n",
        "  begin_time = datetime.datetime.now()\n",
        "  lr_tfidf = LogisticRegression(penalty='l2', max_iter=500, random_state=42)\n",
        "  lr_tfidf.fit(x_train_tv, y_train.ravel())\n",
        "  print('TFIDF time (seconds): ', str((datetime.datetime.now() - begin_time).seconds))\n",
        "\n",
        "  return lr_tfidf"
      ],
      "metadata": {
        "id": "ij-BmV1rdMpw"
      },
      "execution_count": 247,
      "outputs": []
    },
    {
      "cell_type": "markdown",
      "metadata": {
        "id": "omgGc9bdfJ7c"
      },
      "source": [
        "We see that the cut-off TF-IDF is much faster. Let's evaluate the two methods:"
      ]
    },
    {
      "cell_type": "code",
      "execution_count": 248,
      "metadata": {
        "id": "nd0_4jNQAlgC"
      },
      "outputs": [],
      "source": [
        "def evaluate(model, model_name, x, y, scores_dict=None, roc_dict=None):\n",
        "\n",
        "  y_pred = model.predict(x)\n",
        "  y_pred_proba = model.predict_proba(x)[:, 1]\n",
        "\n",
        "  scores_dict[model_name] = {}\n",
        "  scores_dict[model_name]['AUC'] = roc_auc_score(y, y_pred_proba)\n",
        "  scores_dict[model_name]['Accuracy'] =  accuracy_score(y, y_pred)\n",
        "\n",
        "  roc_dict[model_name] = {}\n",
        "  roc_dict[model_name]['FPR'], roc_dict[model_name]['TPR'], _ = roc_curve(y, y_pred_proba)\n",
        "\n",
        "  return scores_dict"
      ]
    },
    {
      "cell_type": "code",
      "execution_count": 249,
      "metadata": {
        "id": "1U1IhbrABg3j"
      },
      "outputs": [],
      "source": [
        "scores_dict = {}\n",
        "roc_dict = {}"
      ]
    },
    {
      "cell_type": "code",
      "execution_count": 250,
      "metadata": {
        "id": "w9AJwGxYBh5B"
      },
      "outputs": [],
      "source": [
        "# evaluate(lr_bow, 'logistic_bow', x_test_cv, y_test, scores_dict, roc_dict)['logistic_bow']['Accuracy']"
      ]
    },
    {
      "cell_type": "code",
      "execution_count": 251,
      "metadata": {
        "id": "krhblnNICVFG"
      },
      "outputs": [],
      "source": [
        "# evaluate(lr_tfidf, 'logistic_tfidf', x_test_tv, y_test, scores_dict, roc_dict)['logistic_tfidf']['Accuracy']"
      ]
    },
    {
      "cell_type": "markdown",
      "metadata": {
        "id": "14SDuHJ_fREM"
      },
      "source": [
        "And we see that their accuracy is very similar, despite the fact that we used only 5K terms in the TF-IDF."
      ]
    },
    {
      "cell_type": "markdown",
      "source": [
        "## Random Forest"
      ],
      "metadata": {
        "id": "wtFjmtIxdEb2"
      }
    },
    {
      "cell_type": "markdown",
      "source": [
        "### BOW"
      ],
      "metadata": {
        "id": "g5BUnRLPyl2X"
      }
    },
    {
      "cell_type": "code",
      "source": [
        "def bow_random_forest(x_train_cv, y_train):\n",
        "\n",
        "  begin_time = datetime.datetime.now()\n",
        "  rf_bow = RandomForestClassifier(random_state=42, n_jobs=-1, max_features=1/3, max_depth=5, n_estimators=100)\n",
        "  rf_bow.fit(x_train_cv, y_train.ravel())\n",
        "  print('BOW time (seconds): ', str((datetime.datetime.now() - begin_time).seconds))\n",
        "\n",
        "  return rf_bow"
      ],
      "metadata": {
        "id": "xnULTA76yPpp"
      },
      "execution_count": 252,
      "outputs": []
    },
    {
      "cell_type": "markdown",
      "source": [
        "### TF-IDF"
      ],
      "metadata": {
        "id": "eONgWPYxynSY"
      }
    },
    {
      "cell_type": "code",
      "source": [
        "def tfidf_random_forest(x_train_tv, y_train):\n",
        "\n",
        "  begin_time = datetime.datetime.now()\n",
        "  rf_tfidf = RandomForestClassifier(random_state=42, n_jobs=-1, max_features=1/3, max_depth=5, n_estimators=100)\n",
        "  rf_tfidf.fit(x_train_tv, y_train.ravel())\n",
        "  print('TFIDF time (seconds): ', str((datetime.datetime.now() - begin_time).seconds))\n",
        "\n",
        "  return rf_tfidf"
      ],
      "metadata": {
        "id": "T1sxE5zXdSC6"
      },
      "execution_count": 253,
      "outputs": []
    },
    {
      "cell_type": "code",
      "execution_count": 254,
      "metadata": {
        "id": "P916nMosELD8"
      },
      "outputs": [],
      "source": [
        "# evaluate(rf_bow, 'rf_bow', x_test_cv, y_test, scores_dict, roc_dict)['rf_bow']['Accuracy']"
      ]
    },
    {
      "cell_type": "code",
      "execution_count": 255,
      "metadata": {
        "id": "QJaX7xwIEPz_"
      },
      "outputs": [],
      "source": [
        "# evaluate(rf_tfidf, 'rf_tfidf', x_test_tv, y_test, scores_dict, roc_dict)['rf_tfidf']['Accuracy']"
      ]
    },
    {
      "cell_type": "markdown",
      "metadata": {
        "id": "0oLMF6r-ff87"
      },
      "source": [
        "And it performs worse than the standard logistic regression."
      ]
    },
    {
      "cell_type": "markdown",
      "source": [
        "## Convolutional Neural Network with an Embedding Layer"
      ],
      "metadata": {
        "id": "wA-x7yP2dADC"
      }
    },
    {
      "cell_type": "markdown",
      "metadata": {
        "id": "MPlr4HFKZn24"
      },
      "source": [
        "Let's build the architecture:"
      ]
    },
    {
      "cell_type": "markdown",
      "source": [
        " Building an architecture of a convolutional neural network (CNN) implemented using Keras. <br>\n",
        "After having experiments with the model architecture we found that the best one consists : <br>\n",
        "a Sequential model to define a linear stack of layers, <br>\n",
        " an Embedding Layer that converts input integer sequences into dense vectors,  <br>\n",
        " two Conv1D layers with different filter sizes and activation functions to capture local patterns in the text, <br>\n",
        " a Flatten Layer to prepare the output for the dense layers, <br>\n",
        "Dense Layers with ReLU activation and a Dropout layer to prevent overfitting,\n",
        "<br> and a final Dense layer with sigmoid activation for binary classification.\n",
        "<br> The model is compiled using binary crossentropy loss and Adam optimizer, which adjusts learning rates for each parameter."
      ],
      "metadata": {
        "id": "zcO8AvY6-8QI"
      }
    },
    {
      "cell_type": "code",
      "source": [
        "# Define the model\n",
        "model = Sequential()\n",
        "embedding_dimension = 32\n",
        "model.add(Embedding(input_dim=total_words, output_dim=embedding_dimension, input_length=max_words))\n",
        "model.add(Conv1D(filters=16, kernel_size=3, padding='same', activation='relu'))\n",
        "model.add(Conv1D(filters=128, kernel_size=3, padding='same', activation='relu'))\n",
        "model.add(Flatten())\n",
        "model.add(Dense(128, activation='relu'))\n",
        "model.add(Dropout(0.3))\n",
        "model.add(Dense(1, activation='sigmoid'))\n",
        "\n",
        "# Compile the model\n",
        "loss_function = 'binary_crossentropy'\n",
        "model_optimizer = 'adam'\n",
        "model.compile(loss=loss_function, optimizer=model_optimizer, metrics=['accuracy'])\n",
        "\n",
        "# Print the model summary\n",
        "model.summary()"
      ],
      "metadata": {
        "id": "A5V2cFY08uZ6",
        "colab": {
          "base_uri": "https://localhost:8080/"
        },
        "outputId": "028d8a64-8feb-4828-9735-501e4cd4081b"
      },
      "execution_count": 256,
      "outputs": [
        {
          "output_type": "stream",
          "name": "stdout",
          "text": [
            "Model: \"sequential_8\"\n",
            "_________________________________________________________________\n",
            " Layer (type)                Output Shape              Param #   \n",
            "=================================================================\n",
            " embedding_7 (Embedding)     (None, 40, 32)            498432    \n",
            "                                                                 \n",
            " conv1d_14 (Conv1D)          (None, 40, 16)            1552      \n",
            "                                                                 \n",
            " conv1d_15 (Conv1D)          (None, 40, 128)           6272      \n",
            "                                                                 \n",
            " flatten_7 (Flatten)         (None, 5120)              0         \n",
            "                                                                 \n",
            " dense_14 (Dense)            (None, 128)               655488    \n",
            "                                                                 \n",
            " dropout_7 (Dropout)         (None, 128)               0         \n",
            "                                                                 \n",
            " dense_15 (Dense)            (None, 1)                 129       \n",
            "                                                                 \n",
            "=================================================================\n",
            "Total params: 1161873 (4.43 MB)\n",
            "Trainable params: 1161873 (4.43 MB)\n",
            "Non-trainable params: 0 (0.00 Byte)\n",
            "_________________________________________________________________\n"
          ]
        }
      ]
    },
    {
      "cell_type": "code",
      "source": [
        "# Get the number of trainable parameters\n",
        "trainable_params = model.count_params()\n",
        "\n",
        "print(\"Number of Trainable Parameters:\", trainable_params)"
      ],
      "metadata": {
        "id": "F0S0kuYS4jWU",
        "colab": {
          "base_uri": "https://localhost:8080/"
        },
        "outputId": "0b857215-225c-46ad-f336-276ff88a76b5"
      },
      "execution_count": 257,
      "outputs": [
        {
          "output_type": "stream",
          "name": "stdout",
          "text": [
            "Number of Trainable Parameters: 1161873\n"
          ]
        }
      ]
    },
    {
      "cell_type": "code",
      "source": [
        "num_of_epochs = 2\n",
        "history = model.fit(X_train, y_train, validation_data=(X_val_dl, y_val_ppc), epochs=num_of_epochs, batch_size=64)"
      ],
      "metadata": {
        "id": "TQVNWvfz3eaf",
        "colab": {
          "base_uri": "https://localhost:8080/"
        },
        "outputId": "4ebae79a-87a7-4de1-a6bf-7318bb63261b"
      },
      "execution_count": 259,
      "outputs": [
        {
          "output_type": "stream",
          "name": "stdout",
          "text": [
            "Epoch 1/2\n",
            "881/881 [==============================] - 23s 26ms/step - loss: 0.3741 - accuracy: 0.8038 - val_loss: 0.8229 - val_accuracy: 0.6361\n",
            "Epoch 2/2\n",
            "881/881 [==============================] - 27s 30ms/step - loss: 0.3246 - accuracy: 0.8296 - val_loss: 0.9746 - val_accuracy: 0.6320\n"
          ]
        }
      ]
    },
    {
      "cell_type": "code",
      "source": [
        "# Accessing the training accuracy from the history object\n",
        "train_accuracy = history.history['accuracy'][-1]\n",
        "print(\"Training Set Accuracy:\", train_accuracy)"
      ],
      "metadata": {
        "id": "A_nQEuOP4GY3",
        "colab": {
          "base_uri": "https://localhost:8080/"
        },
        "outputId": "0fab138e-86cb-4dfd-8231-1a48b05c7537"
      },
      "execution_count": 260,
      "outputs": [
        {
          "output_type": "stream",
          "name": "stdout",
          "text": [
            "Training Set Accuracy: 0.8296108245849609\n"
          ]
        }
      ]
    },
    {
      "cell_type": "code",
      "source": [
        "# Get the number of layers in the model\n",
        "num_layers = len(model.layers)\n",
        "print(\"Number of Layers:\", num_layers)"
      ],
      "metadata": {
        "id": "z-wsxYmC5PdB",
        "colab": {
          "base_uri": "https://localhost:8080/"
        },
        "outputId": "b955d35b-0d8b-4104-f872-e816dfe8bd08"
      },
      "execution_count": 261,
      "outputs": [
        {
          "output_type": "stream",
          "name": "stdout",
          "text": [
            "Number of Layers: 7\n"
          ]
        }
      ]
    },
    {
      "cell_type": "code",
      "source": [
        "def embedding_conv_net(X_train, y_train, X_val, y_val):\n",
        "\n",
        "  begin_time = datetime.datetime.now()\n",
        "\n",
        "  # Define the model\n",
        "  model = Sequential()\n",
        "  embedding_dimension = 32\n",
        "  model.add(Embedding(input_dim=total_words, output_dim=embedding_dimension, input_length=max_words))\n",
        "  model.add(Conv1D(filters=16, kernel_size=3, padding='same', activation='relu'))\n",
        "  model.add(Conv1D(filters=128, kernel_size=3, padding='same', activation='relu'))\n",
        "  model.add(Flatten())\n",
        "  model.add(Dense(128, activation='relu'))\n",
        "  model.add(Dropout(0.3))\n",
        "  model.add(Dense(1, activation='sigmoid'))\n",
        "\n",
        "  # # Print the model summary\n",
        "  # model.summary()\n",
        "\n",
        "  # Compile the model\n",
        "  loss_function = 'binary_crossentropy'\n",
        "  model_optimizer = 'adam'\n",
        "  model.compile(loss=loss_function, optimizer=model_optimizer, metrics=['accuracy'])\n",
        "\n",
        "  # Train the model\n",
        "  num_of_epochs = 2\n",
        "  model.fit(X_train, y_train, validation_data=(X_val, y_val), epochs=num_of_epochs, batch_size=64)\n",
        "\n",
        "  print('Convolutional Neural Network time (seconds): ', str((datetime.datetime.now() - begin_time).seconds))\n",
        "\n",
        "  return model"
      ],
      "metadata": {
        "id": "ZYXEsyZX4UWg"
      },
      "execution_count": 275,
      "outputs": []
    },
    {
      "cell_type": "code",
      "source": [],
      "metadata": {
        "id": "lieSnecjF1Ax"
      },
      "execution_count": 262,
      "outputs": []
    },
    {
      "cell_type": "markdown",
      "metadata": {
        "id": "4tvPjSV7g7Dd"
      },
      "source": [
        "Let's evaluate our model:"
      ]
    },
    {
      "cell_type": "code",
      "source": [
        "best_model_accuracy = model.evaluate(X_test, y_test)[1]\n",
        "print(\"Model evaluation (accuracy):\", best_model_accuracy)"
      ],
      "metadata": {
        "id": "AIQVYqy31pue",
        "colab": {
          "base_uri": "https://localhost:8080/"
        },
        "outputId": "a8b88fc0-f44c-4cbb-c34a-2a45746e5999"
      },
      "execution_count": 263,
      "outputs": [
        {
          "output_type": "stream",
          "name": "stdout",
          "text": [
            "133/133 [==============================] - 0s 3ms/step - loss: 0.5354 - accuracy: 0.8247\n",
            "Model evaluation (accuracy): 0.8247349858283997\n"
          ]
        }
      ]
    },
    {
      "cell_type": "markdown",
      "source": [
        "# Run all models"
      ],
      "metadata": {
        "id": "meFsroL1vZtV"
      }
    },
    {
      "cell_type": "code",
      "source": [],
      "metadata": {
        "id": "wbvNh-Kdvvm0"
      },
      "execution_count": 263,
      "outputs": []
    },
    {
      "cell_type": "code",
      "source": [
        "def run_all_models(x_train_cv, x_train_tv, y_train, x_train_dl, X_val_dl, y_val):\n",
        "\n",
        "  models_dict = {}\n",
        "\n",
        "  print(\"---------------------------\\nLogistic Regression:\\n---------------------------\")\n",
        "  models_dict['BOW Logistic Regression'] = bow_logistic_regression(x_train_cv, y_train)\n",
        "  models_dict['TFIDF Logistic Regression'] = tfidf_logistic_regression(x_train_tv, y_train)\n",
        "\n",
        "  print(\"\\n---------------------------\\nRandom Forest:\\n---------------------------\")\n",
        "  models_dict['BOW Random Forest'] = bow_random_forest(x_train_cv, y_train)\n",
        "  models_dict['TFIDF Random Forest'] = tfidf_random_forest(x_train_tv, y_train)\n",
        "\n",
        "  print(\"\\n---------------------------\\nConvolutional Neural Network with an Embedding Layer:\\n---------------------------\")\n",
        "  models_dict['Embedding Conv Net'] = embedding_conv_net(x_train_dl, y_train, X_val_dl, y_val)\n",
        "\n",
        "  return models_dict"
      ],
      "metadata": {
        "id": "iqiHnBQZ2bcB"
      },
      "execution_count": 272,
      "outputs": []
    },
    {
      "cell_type": "code",
      "source": [
        "models = run_all_models(x_train_cv, x_train_tv, y_train_ppc, X_train_dl, X_val_dl, y_val_ppc)"
      ],
      "metadata": {
        "colab": {
          "base_uri": "https://localhost:8080/"
        },
        "id": "3X2VvOxvEX5p",
        "outputId": "c19c65f6-20ad-4fa4-9a26-da519bdd9311"
      },
      "execution_count": 276,
      "outputs": [
        {
          "output_type": "stream",
          "name": "stdout",
          "text": [
            "---------------------------\n",
            "Logistic Regression:\n",
            "---------------------------\n",
            "BOW time (seconds):  2\n",
            "TFIDF time (seconds):  0\n",
            "\n",
            "---------------------------\n",
            "Random Forest:\n",
            "---------------------------\n",
            "BOW time (seconds):  2\n",
            "TFIDF time (seconds):  5\n",
            "\n",
            "---------------------------\n",
            "Convolutional Neural Network with an Embedding Layer:\n",
            "---------------------------\n",
            "Epoch 1/2\n",
            "881/881 [==============================] - 27s 29ms/step - loss: 0.5396 - accuracy: 0.6905 - val_loss: 0.4934 - val_accuracy: 0.7257\n",
            "Epoch 2/2\n",
            "881/881 [==============================] - 22s 25ms/step - loss: 0.4355 - accuracy: 0.7703 - val_loss: 0.4957 - val_accuracy: 0.7308\n",
            "Convolutional Neural Network time (seconds):  83\n"
          ]
        }
      ]
    },
    {
      "cell_type": "markdown",
      "metadata": {
        "id": "BAM267N8Fo-k"
      },
      "source": [
        "## Compare models"
      ]
    },
    {
      "cell_type": "markdown",
      "metadata": {
        "id": "qDduf9EKgKK7"
      },
      "source": [
        "Let's compare oru results:"
      ]
    },
    {
      "cell_type": "code",
      "execution_count": null,
      "metadata": {
        "id": "1jL8sNOaFqsO"
      },
      "outputs": [],
      "source": [
        "scores_dict['logistic_bow'].keys()"
      ]
    },
    {
      "cell_type": "code",
      "execution_count": null,
      "metadata": {
        "id": "mmPEA3rTFwa-"
      },
      "outputs": [],
      "source": [
        "for model in scores_dict.keys():\n",
        "  print(model, scores_dict[model])"
      ]
    },
    {
      "cell_type": "code",
      "execution_count": null,
      "metadata": {
        "id": "Phr5APKtGfee"
      },
      "outputs": [],
      "source": [
        "import pandas as pd\n",
        "pd.DataFrame.from_dict(scores_dict)"
      ]
    },
    {
      "cell_type": "markdown",
      "metadata": {
        "id": "DwFqccitgNEr"
      },
      "source": [
        "And we see the same results for the ROC AUC as well. Let's plot it:"
      ]
    },
    {
      "cell_type": "code",
      "execution_count": null,
      "metadata": {
        "id": "dYiZdLYnGp8W"
      },
      "outputs": [],
      "source": [
        "import matplotlib.pyplot as plt\n",
        "import seaborn as sns\n",
        "\n",
        "sns.set()\n",
        "for k, v in roc_dict.items():\n",
        "  plt.plot(v['FPR'], v['TPR'], label=k)\n",
        "plt.plot(v['FPR'], v['FPR'], label='Benchmark')\n",
        "plt.legend()\n",
        "plt.show()"
      ]
    },
    {
      "cell_type": "markdown",
      "source": [
        "# Explore Our results"
      ],
      "metadata": {
        "id": "vbjiKHyi7Irm"
      }
    },
    {
      "cell_type": "markdown",
      "source": [
        "## Visualization"
      ],
      "metadata": {
        "id": "gj5MAByiQRWi"
      }
    },
    {
      "cell_type": "markdown",
      "source": [
        "Let's visalize the accuracy for each of the characters for every show:"
      ],
      "metadata": {
        "id": "XNUHeZCE8SgA"
      }
    },
    {
      "cell_type": "code",
      "source": [
        "# Define a function to calculate accuracy for each character\n",
        "def evaluate_accuracy_for_character(y_pred_probs, test_df, character):\n",
        "\n",
        "    # Flatten y_test\n",
        "    y_test_flat = y_test.flatten()\n",
        "\n",
        "    # Put 0 & 1 instead of Friends & Seinfeld\n",
        "    test_df['Show'] = y_test_flat\n",
        "\n",
        "    # Filter test data by character\n",
        "    character_test_df = test_df[test_df['Character'] == character]\n",
        "\n",
        "    # Get true labels for the character\n",
        "    y_character_test = character_test_df['Show']\n",
        "\n",
        "    # Filter predictions for the character\n",
        "    character_indices = character_test_df.index\n",
        "    y_character_pred_probs = y_pred_probs[character_indices]\n",
        "\n",
        "    # Convert probabilities to binary labels\n",
        "    y_character_pred = (y_character_pred_probs >= 0.5).astype(int)\n",
        "\n",
        "    # Calculate accuracy\n",
        "    accuracy = accuracy_score(y_character_test, y_character_pred)\n",
        "    return accuracy"
      ],
      "metadata": {
        "id": "z2yo2ULIiHWC"
      },
      "execution_count": null,
      "outputs": []
    },
    {
      "cell_type": "code",
      "source": [
        "# Function that returns a sorted list of the accuracies of all the characters\n",
        "def get_model_accuracy_by_character(model, characters, X_test, full_test_data):\n",
        "\n",
        "  # Predict probabilities for all characters\n",
        "  y_pred_probs = model.predict(X_test)\n",
        "\n",
        "  # Dictionary to store accuracy for each character\n",
        "  character_accuracy = {}\n",
        "\n",
        "  # Evaluate accuracy for each character\n",
        "  for character in characters:\n",
        "      accuracy = evaluate_accuracy_for_character(y_pred_probs, full_test_data, character)\n",
        "      character_accuracy[character] = accuracy\n",
        "\n",
        "  sorted_character_accuracy = dict(sorted(character_accuracy.items(), key=lambda item: item[1], reverse=True))\n",
        "  return sorted_character_accuracy"
      ],
      "metadata": {
        "id": "LVJCuT_mijfN"
      },
      "execution_count": null,
      "outputs": []
    },
    {
      "cell_type": "code",
      "source": [
        "def plot_histogram_by_model(sorted_character_accuracy, seinfeld_characters, friends_characters):\n",
        "    # Define colors for each show\n",
        "    seinfeld_color = 'skyblue'\n",
        "    friends_color = 'salmon'\n",
        "\n",
        "    # Plotting results\n",
        "    plt.figure(figsize=(10, 6))\n",
        "\n",
        "    for character, accuracy in sorted_character_accuracy.items():\n",
        "        # Determine the color based on the character's show\n",
        "        color = seinfeld_color if character in seinfeld_characters else friends_color\n",
        "\n",
        "        # Plot the bar with the appropriate color\n",
        "        plt.bar(character, accuracy, color=color)\n",
        "\n",
        "        # Annotate the bar with the accuracy value\n",
        "        plt.text(character, accuracy, f'{accuracy:.2f}', ha='center', va='bottom')\n",
        "\n",
        "    plt.title('Accuracy for Each Character')\n",
        "    plt.xlabel('Character')\n",
        "    plt.ylabel('Accuracy')\n",
        "    plt.xticks(rotation=45)\n",
        "\n",
        "        # Create legend\n",
        "    friends_patch = plt.Rectangle((0,0),1,1,fc=friends_color, edgecolor = 'none')\n",
        "    seinfeld_patch = plt.Rectangle((0,0),1,1,fc=seinfeld_color, edgecolor = 'none')\n",
        "    plt.legend([friends_patch, seinfeld_patch], ['Friends', 'Seinfeld'], loc='upper right')\n",
        "\n",
        "    plt.show()"
      ],
      "metadata": {
        "id": "C03VbwyfxkzP"
      },
      "execution_count": null,
      "outputs": []
    },
    {
      "cell_type": "code",
      "source": [
        "def histogram_accuracy_prediction_by_character(model, X_test, full_test_data, seinfeld_characters, friends_characters):\n",
        "\n",
        "  # List of characters\n",
        "  characters = full_test_data['Character'].unique()\n",
        "\n",
        "  # Getting the results for each character\n",
        "  sorted_character_accuracy = get_model_accuracy_by_character(model, characters, X_test, full_test_data)\n",
        "\n",
        "  # Plotting histogram accordingly\n",
        "  plot_histogram_by_model(sorted_character_accuracy, seinfeld_characters, friends_characters)"
      ],
      "metadata": {
        "id": "btQW7ENzlT7F"
      },
      "execution_count": null,
      "outputs": []
    },
    {
      "cell_type": "code",
      "source": [
        "histogram_accuracy_prediction_by_character(model, X_test, full_test_data, seinfeld_characters, friends_characters)"
      ],
      "metadata": {
        "id": "rwcd2sR-kd6w"
      },
      "execution_count": null,
      "outputs": []
    },
    {
      "cell_type": "markdown",
      "source": [
        "We can see that indeed, as we expected, the characters of Friends had a better accuracy overall than the characters of Seinfeld.\n",
        "\n",
        "Overall all the accuracies are pretty high and show that our model has good predictions."
      ],
      "metadata": {
        "id": "45dNrXhNysLB"
      }
    },
    {
      "cell_type": "markdown",
      "source": [
        "## Word Cloud For Each Show"
      ],
      "metadata": {
        "id": "hZ78JqH4P6Kk"
      }
    },
    {
      "cell_type": "code",
      "source": [
        "def word_cloud_function(df, X_test, model, show):\n",
        "\n",
        "    y_pred_probs = model.predict(X_test)\n",
        "\n",
        "    # Get the predicted classes (0 for Friends, 1 for Seinfeld)\n",
        "    predicted_classes = (y_pred_probs > 0.5).astype(int)\n",
        "\n",
        "    # Add predicted_classes as a column to the existing DataFrame df\n",
        "    df['Predicted_Class'] = predicted_classes.flatten()\n",
        "\n",
        "    # Filter dialogues for the specified show\n",
        "    if show == 'Seinfeld':\n",
        "        dialogues = df[df['Predicted_Class'] == 1]['Dialogue'].values\n",
        "        title = 'Seinfeld Word Cloud'\n",
        "    elif show == 'Friends':\n",
        "        dialogues = df[df['Predicted_Class'] == 0]['Dialogue'].values\n",
        "        title = 'Friends Word Cloud'\n",
        "    else:\n",
        "        print(\"Invalid show. Please enter 'Seinfeld' or 'Friends'.\")\n",
        "        return\n",
        "\n",
        "    # Join all dialogues from the specified show into a single string\n",
        "    text = ' '.join(dialogues)\n",
        "\n",
        "    # Create a WordCloud object for the specified show\n",
        "    wordcloud = WordCloud(width=800, height=400, background_color ='white').generate(text)\n",
        "\n",
        "    # Plot the WordCloud for the specified show\n",
        "    plt.figure(figsize=(10, 6))\n",
        "    plt.imshow(wordcloud, interpolation='bilinear')\n",
        "    plt.axis('off')\n",
        "    plt.title(title)\n",
        "    plt.show()"
      ],
      "metadata": {
        "id": "X53NrfhWJSz9"
      },
      "execution_count": null,
      "outputs": []
    },
    {
      "cell_type": "code",
      "source": [
        "word_cloud_function(full_test_data, X_test, model, 'Seinfeld')\n",
        "word_cloud_function(full_test_data, X_test, model, 'Friends')"
      ],
      "metadata": {
        "id": "-8Rg2jQbPX1u"
      },
      "execution_count": null,
      "outputs": []
    },
    {
      "cell_type": "markdown",
      "metadata": {
        "id": "IJrSf6hnWnCJ"
      },
      "source": [
        "# **Output**\n",
        "\n"
      ]
    },
    {
      "cell_type": "code",
      "execution_count": null,
      "metadata": {
        "id": "_s4RrumjWX9q"
      },
      "outputs": [],
      "source": [
        "results = {'Test Set Accuracy': [best_model_accuracy],\n",
        "           'Train Set Accuracy': [train_accuracy],\n",
        "           'Number of trainable parameters': [trainable_params],\n",
        "           'Number of layers': [num_layers],\n",
        "           'Regularization methods': ['Dropout'],\n",
        "           'Number of epochs': [num_of_epochs],\n",
        "           'Choice of loss function': [loss_function],\n",
        "           'Choice of optimizer': [model_optimizer],\n",
        "           'Embedding dimension': [embedding_dimension]\n",
        "           }\n",
        "df = pd.DataFrame(results)"
      ]
    },
    {
      "cell_type": "code",
      "source": [
        "df"
      ],
      "metadata": {
        "id": "Pzwg3Ewp7dJ4"
      },
      "execution_count": null,
      "outputs": []
    },
    {
      "cell_type": "code",
      "source": [
        "from google.colab import files\n",
        "df.to_csv(os.path.join(os.getcwd(), 'exercise3.csv'))\n",
        "files.download('exercise3.csv')"
      ],
      "metadata": {
        "id": "lVJEi0oEGp32"
      },
      "execution_count": null,
      "outputs": []
    }
  ]
}