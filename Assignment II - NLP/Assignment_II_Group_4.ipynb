{
  "nbformat": 4,
  "nbformat_minor": 0,
  "metadata": {
    "colab": {
      "provenance": [],
      "toc_visible": true,
      "include_colab_link": true
    },
    "kernelspec": {
      "name": "python3",
      "display_name": "Python 3"
    },
    "language_info": {
      "name": "python"
    },
    "widgets": {
      "application/vnd.jupyter.widget-state+json": {
        "b3ed6c2aabb342549a3d624e4e1cd822": {
          "model_module": "@jupyter-widgets/controls",
          "model_name": "HBoxModel",
          "model_module_version": "1.5.0",
          "state": {
            "_dom_classes": [],
            "_model_module": "@jupyter-widgets/controls",
            "_model_module_version": "1.5.0",
            "_model_name": "HBoxModel",
            "_view_count": null,
            "_view_module": "@jupyter-widgets/controls",
            "_view_module_version": "1.5.0",
            "_view_name": "HBoxView",
            "box_style": "",
            "children": [
              "IPY_MODEL_0031ee5778ae42988a4c866a90b69e61",
              "IPY_MODEL_bea8a4d6197d4f6a99f2f7f937745481",
              "IPY_MODEL_5f2c0dd1eaad497b8ec20ef8e14b1c00"
            ],
            "layout": "IPY_MODEL_649ead59a74149cb9e9e69b29bc2b911"
          }
        },
        "0031ee5778ae42988a4c866a90b69e61": {
          "model_module": "@jupyter-widgets/controls",
          "model_name": "HTMLModel",
          "model_module_version": "1.5.0",
          "state": {
            "_dom_classes": [],
            "_model_module": "@jupyter-widgets/controls",
            "_model_module_version": "1.5.0",
            "_model_name": "HTMLModel",
            "_view_count": null,
            "_view_module": "@jupyter-widgets/controls",
            "_view_module_version": "1.5.0",
            "_view_name": "HTMLView",
            "description": "",
            "description_tooltip": null,
            "layout": "IPY_MODEL_ca5ec86f2b604ebfa982f50b01571c18",
            "placeholder": "​",
            "style": "IPY_MODEL_6868803394a8453596a0c92e60368206",
            "value": "100%"
          }
        },
        "bea8a4d6197d4f6a99f2f7f937745481": {
          "model_module": "@jupyter-widgets/controls",
          "model_name": "FloatProgressModel",
          "model_module_version": "1.5.0",
          "state": {
            "_dom_classes": [],
            "_model_module": "@jupyter-widgets/controls",
            "_model_module_version": "1.5.0",
            "_model_name": "FloatProgressModel",
            "_view_count": null,
            "_view_module": "@jupyter-widgets/controls",
            "_view_module_version": "1.5.0",
            "_view_name": "ProgressView",
            "bar_style": "success",
            "description": "",
            "description_tooltip": null,
            "layout": "IPY_MODEL_eb9c3d89747a4c4695e37817c14442b2",
            "max": 70405,
            "min": 0,
            "orientation": "horizontal",
            "style": "IPY_MODEL_c6e7ebb5e8004a4787800b5f8395d7f1",
            "value": 70405
          }
        },
        "5f2c0dd1eaad497b8ec20ef8e14b1c00": {
          "model_module": "@jupyter-widgets/controls",
          "model_name": "HTMLModel",
          "model_module_version": "1.5.0",
          "state": {
            "_dom_classes": [],
            "_model_module": "@jupyter-widgets/controls",
            "_model_module_version": "1.5.0",
            "_model_name": "HTMLModel",
            "_view_count": null,
            "_view_module": "@jupyter-widgets/controls",
            "_view_module_version": "1.5.0",
            "_view_name": "HTMLView",
            "description": "",
            "description_tooltip": null,
            "layout": "IPY_MODEL_463c2ecdebc143868ea4ba9d8214edb5",
            "placeholder": "​",
            "style": "IPY_MODEL_2991440c14074366928b68cd3e9adb6d",
            "value": " 70405/70405 [00:06&lt;00:00, 7037.06it/s]"
          }
        },
        "649ead59a74149cb9e9e69b29bc2b911": {
          "model_module": "@jupyter-widgets/base",
          "model_name": "LayoutModel",
          "model_module_version": "1.2.0",
          "state": {
            "_model_module": "@jupyter-widgets/base",
            "_model_module_version": "1.2.0",
            "_model_name": "LayoutModel",
            "_view_count": null,
            "_view_module": "@jupyter-widgets/base",
            "_view_module_version": "1.2.0",
            "_view_name": "LayoutView",
            "align_content": null,
            "align_items": null,
            "align_self": null,
            "border": null,
            "bottom": null,
            "display": null,
            "flex": null,
            "flex_flow": null,
            "grid_area": null,
            "grid_auto_columns": null,
            "grid_auto_flow": null,
            "grid_auto_rows": null,
            "grid_column": null,
            "grid_gap": null,
            "grid_row": null,
            "grid_template_areas": null,
            "grid_template_columns": null,
            "grid_template_rows": null,
            "height": null,
            "justify_content": null,
            "justify_items": null,
            "left": null,
            "margin": null,
            "max_height": null,
            "max_width": null,
            "min_height": null,
            "min_width": null,
            "object_fit": null,
            "object_position": null,
            "order": null,
            "overflow": null,
            "overflow_x": null,
            "overflow_y": null,
            "padding": null,
            "right": null,
            "top": null,
            "visibility": null,
            "width": null
          }
        },
        "ca5ec86f2b604ebfa982f50b01571c18": {
          "model_module": "@jupyter-widgets/base",
          "model_name": "LayoutModel",
          "model_module_version": "1.2.0",
          "state": {
            "_model_module": "@jupyter-widgets/base",
            "_model_module_version": "1.2.0",
            "_model_name": "LayoutModel",
            "_view_count": null,
            "_view_module": "@jupyter-widgets/base",
            "_view_module_version": "1.2.0",
            "_view_name": "LayoutView",
            "align_content": null,
            "align_items": null,
            "align_self": null,
            "border": null,
            "bottom": null,
            "display": null,
            "flex": null,
            "flex_flow": null,
            "grid_area": null,
            "grid_auto_columns": null,
            "grid_auto_flow": null,
            "grid_auto_rows": null,
            "grid_column": null,
            "grid_gap": null,
            "grid_row": null,
            "grid_template_areas": null,
            "grid_template_columns": null,
            "grid_template_rows": null,
            "height": null,
            "justify_content": null,
            "justify_items": null,
            "left": null,
            "margin": null,
            "max_height": null,
            "max_width": null,
            "min_height": null,
            "min_width": null,
            "object_fit": null,
            "object_position": null,
            "order": null,
            "overflow": null,
            "overflow_x": null,
            "overflow_y": null,
            "padding": null,
            "right": null,
            "top": null,
            "visibility": null,
            "width": null
          }
        },
        "6868803394a8453596a0c92e60368206": {
          "model_module": "@jupyter-widgets/controls",
          "model_name": "DescriptionStyleModel",
          "model_module_version": "1.5.0",
          "state": {
            "_model_module": "@jupyter-widgets/controls",
            "_model_module_version": "1.5.0",
            "_model_name": "DescriptionStyleModel",
            "_view_count": null,
            "_view_module": "@jupyter-widgets/base",
            "_view_module_version": "1.2.0",
            "_view_name": "StyleView",
            "description_width": ""
          }
        },
        "eb9c3d89747a4c4695e37817c14442b2": {
          "model_module": "@jupyter-widgets/base",
          "model_name": "LayoutModel",
          "model_module_version": "1.2.0",
          "state": {
            "_model_module": "@jupyter-widgets/base",
            "_model_module_version": "1.2.0",
            "_model_name": "LayoutModel",
            "_view_count": null,
            "_view_module": "@jupyter-widgets/base",
            "_view_module_version": "1.2.0",
            "_view_name": "LayoutView",
            "align_content": null,
            "align_items": null,
            "align_self": null,
            "border": null,
            "bottom": null,
            "display": null,
            "flex": null,
            "flex_flow": null,
            "grid_area": null,
            "grid_auto_columns": null,
            "grid_auto_flow": null,
            "grid_auto_rows": null,
            "grid_column": null,
            "grid_gap": null,
            "grid_row": null,
            "grid_template_areas": null,
            "grid_template_columns": null,
            "grid_template_rows": null,
            "height": null,
            "justify_content": null,
            "justify_items": null,
            "left": null,
            "margin": null,
            "max_height": null,
            "max_width": null,
            "min_height": null,
            "min_width": null,
            "object_fit": null,
            "object_position": null,
            "order": null,
            "overflow": null,
            "overflow_x": null,
            "overflow_y": null,
            "padding": null,
            "right": null,
            "top": null,
            "visibility": null,
            "width": null
          }
        },
        "c6e7ebb5e8004a4787800b5f8395d7f1": {
          "model_module": "@jupyter-widgets/controls",
          "model_name": "ProgressStyleModel",
          "model_module_version": "1.5.0",
          "state": {
            "_model_module": "@jupyter-widgets/controls",
            "_model_module_version": "1.5.0",
            "_model_name": "ProgressStyleModel",
            "_view_count": null,
            "_view_module": "@jupyter-widgets/base",
            "_view_module_version": "1.2.0",
            "_view_name": "StyleView",
            "bar_color": null,
            "description_width": ""
          }
        },
        "463c2ecdebc143868ea4ba9d8214edb5": {
          "model_module": "@jupyter-widgets/base",
          "model_name": "LayoutModel",
          "model_module_version": "1.2.0",
          "state": {
            "_model_module": "@jupyter-widgets/base",
            "_model_module_version": "1.2.0",
            "_model_name": "LayoutModel",
            "_view_count": null,
            "_view_module": "@jupyter-widgets/base",
            "_view_module_version": "1.2.0",
            "_view_name": "LayoutView",
            "align_content": null,
            "align_items": null,
            "align_self": null,
            "border": null,
            "bottom": null,
            "display": null,
            "flex": null,
            "flex_flow": null,
            "grid_area": null,
            "grid_auto_columns": null,
            "grid_auto_flow": null,
            "grid_auto_rows": null,
            "grid_column": null,
            "grid_gap": null,
            "grid_row": null,
            "grid_template_areas": null,
            "grid_template_columns": null,
            "grid_template_rows": null,
            "height": null,
            "justify_content": null,
            "justify_items": null,
            "left": null,
            "margin": null,
            "max_height": null,
            "max_width": null,
            "min_height": null,
            "min_width": null,
            "object_fit": null,
            "object_position": null,
            "order": null,
            "overflow": null,
            "overflow_x": null,
            "overflow_y": null,
            "padding": null,
            "right": null,
            "top": null,
            "visibility": null,
            "width": null
          }
        },
        "2991440c14074366928b68cd3e9adb6d": {
          "model_module": "@jupyter-widgets/controls",
          "model_name": "DescriptionStyleModel",
          "model_module_version": "1.5.0",
          "state": {
            "_model_module": "@jupyter-widgets/controls",
            "_model_module_version": "1.5.0",
            "_model_name": "DescriptionStyleModel",
            "_view_count": null,
            "_view_module": "@jupyter-widgets/base",
            "_view_module_version": "1.2.0",
            "_view_name": "StyleView",
            "description_width": ""
          }
        },
        "c1bd0d388c744ee1beef7cbb129f069b": {
          "model_module": "@jupyter-widgets/controls",
          "model_name": "HBoxModel",
          "model_module_version": "1.5.0",
          "state": {
            "_dom_classes": [],
            "_model_module": "@jupyter-widgets/controls",
            "_model_module_version": "1.5.0",
            "_model_name": "HBoxModel",
            "_view_count": null,
            "_view_module": "@jupyter-widgets/controls",
            "_view_module_version": "1.5.0",
            "_view_name": "HBoxView",
            "box_style": "",
            "children": [
              "IPY_MODEL_92a854e0919741139c3069863a32192e",
              "IPY_MODEL_70db3cd2a46946df869aa808cd8238d0",
              "IPY_MODEL_97c962fbce1d44d4ac695dfdc2afdd73"
            ],
            "layout": "IPY_MODEL_88f750a6a04b48b698e6295424491ccd"
          }
        },
        "92a854e0919741139c3069863a32192e": {
          "model_module": "@jupyter-widgets/controls",
          "model_name": "HTMLModel",
          "model_module_version": "1.5.0",
          "state": {
            "_dom_classes": [],
            "_model_module": "@jupyter-widgets/controls",
            "_model_module_version": "1.5.0",
            "_model_name": "HTMLModel",
            "_view_count": null,
            "_view_module": "@jupyter-widgets/controls",
            "_view_module_version": "1.5.0",
            "_view_name": "HTMLView",
            "description": "",
            "description_tooltip": null,
            "layout": "IPY_MODEL_829d7b0b20a54d2785985022ecc8c9a8",
            "placeholder": "​",
            "style": "IPY_MODEL_77f64be523ea406b9322155648c1536c",
            "value": "100%"
          }
        },
        "70db3cd2a46946df869aa808cd8238d0": {
          "model_module": "@jupyter-widgets/controls",
          "model_name": "FloatProgressModel",
          "model_module_version": "1.5.0",
          "state": {
            "_dom_classes": [],
            "_model_module": "@jupyter-widgets/controls",
            "_model_module_version": "1.5.0",
            "_model_name": "FloatProgressModel",
            "_view_count": null,
            "_view_module": "@jupyter-widgets/controls",
            "_view_module_version": "1.5.0",
            "_view_name": "ProgressView",
            "bar_style": "success",
            "description": "",
            "description_tooltip": null,
            "layout": "IPY_MODEL_fc1435f46e2644f682f228e23d6f13e7",
            "max": 4245,
            "min": 0,
            "orientation": "horizontal",
            "style": "IPY_MODEL_f24b57defe374163a2348f39e93cea9a",
            "value": 4245
          }
        },
        "97c962fbce1d44d4ac695dfdc2afdd73": {
          "model_module": "@jupyter-widgets/controls",
          "model_name": "HTMLModel",
          "model_module_version": "1.5.0",
          "state": {
            "_dom_classes": [],
            "_model_module": "@jupyter-widgets/controls",
            "_model_module_version": "1.5.0",
            "_model_name": "HTMLModel",
            "_view_count": null,
            "_view_module": "@jupyter-widgets/controls",
            "_view_module_version": "1.5.0",
            "_view_name": "HTMLView",
            "description": "",
            "description_tooltip": null,
            "layout": "IPY_MODEL_1638e5fe433b4d1cbf73c9970e88c09f",
            "placeholder": "​",
            "style": "IPY_MODEL_c7b7ec6a50e5496a93e8b2333696cb59",
            "value": " 4245/4245 [00:01&lt;00:00, 4289.96it/s]"
          }
        },
        "88f750a6a04b48b698e6295424491ccd": {
          "model_module": "@jupyter-widgets/base",
          "model_name": "LayoutModel",
          "model_module_version": "1.2.0",
          "state": {
            "_model_module": "@jupyter-widgets/base",
            "_model_module_version": "1.2.0",
            "_model_name": "LayoutModel",
            "_view_count": null,
            "_view_module": "@jupyter-widgets/base",
            "_view_module_version": "1.2.0",
            "_view_name": "LayoutView",
            "align_content": null,
            "align_items": null,
            "align_self": null,
            "border": null,
            "bottom": null,
            "display": null,
            "flex": null,
            "flex_flow": null,
            "grid_area": null,
            "grid_auto_columns": null,
            "grid_auto_flow": null,
            "grid_auto_rows": null,
            "grid_column": null,
            "grid_gap": null,
            "grid_row": null,
            "grid_template_areas": null,
            "grid_template_columns": null,
            "grid_template_rows": null,
            "height": null,
            "justify_content": null,
            "justify_items": null,
            "left": null,
            "margin": null,
            "max_height": null,
            "max_width": null,
            "min_height": null,
            "min_width": null,
            "object_fit": null,
            "object_position": null,
            "order": null,
            "overflow": null,
            "overflow_x": null,
            "overflow_y": null,
            "padding": null,
            "right": null,
            "top": null,
            "visibility": null,
            "width": null
          }
        },
        "829d7b0b20a54d2785985022ecc8c9a8": {
          "model_module": "@jupyter-widgets/base",
          "model_name": "LayoutModel",
          "model_module_version": "1.2.0",
          "state": {
            "_model_module": "@jupyter-widgets/base",
            "_model_module_version": "1.2.0",
            "_model_name": "LayoutModel",
            "_view_count": null,
            "_view_module": "@jupyter-widgets/base",
            "_view_module_version": "1.2.0",
            "_view_name": "LayoutView",
            "align_content": null,
            "align_items": null,
            "align_self": null,
            "border": null,
            "bottom": null,
            "display": null,
            "flex": null,
            "flex_flow": null,
            "grid_area": null,
            "grid_auto_columns": null,
            "grid_auto_flow": null,
            "grid_auto_rows": null,
            "grid_column": null,
            "grid_gap": null,
            "grid_row": null,
            "grid_template_areas": null,
            "grid_template_columns": null,
            "grid_template_rows": null,
            "height": null,
            "justify_content": null,
            "justify_items": null,
            "left": null,
            "margin": null,
            "max_height": null,
            "max_width": null,
            "min_height": null,
            "min_width": null,
            "object_fit": null,
            "object_position": null,
            "order": null,
            "overflow": null,
            "overflow_x": null,
            "overflow_y": null,
            "padding": null,
            "right": null,
            "top": null,
            "visibility": null,
            "width": null
          }
        },
        "77f64be523ea406b9322155648c1536c": {
          "model_module": "@jupyter-widgets/controls",
          "model_name": "DescriptionStyleModel",
          "model_module_version": "1.5.0",
          "state": {
            "_model_module": "@jupyter-widgets/controls",
            "_model_module_version": "1.5.0",
            "_model_name": "DescriptionStyleModel",
            "_view_count": null,
            "_view_module": "@jupyter-widgets/base",
            "_view_module_version": "1.2.0",
            "_view_name": "StyleView",
            "description_width": ""
          }
        },
        "fc1435f46e2644f682f228e23d6f13e7": {
          "model_module": "@jupyter-widgets/base",
          "model_name": "LayoutModel",
          "model_module_version": "1.2.0",
          "state": {
            "_model_module": "@jupyter-widgets/base",
            "_model_module_version": "1.2.0",
            "_model_name": "LayoutModel",
            "_view_count": null,
            "_view_module": "@jupyter-widgets/base",
            "_view_module_version": "1.2.0",
            "_view_name": "LayoutView",
            "align_content": null,
            "align_items": null,
            "align_self": null,
            "border": null,
            "bottom": null,
            "display": null,
            "flex": null,
            "flex_flow": null,
            "grid_area": null,
            "grid_auto_columns": null,
            "grid_auto_flow": null,
            "grid_auto_rows": null,
            "grid_column": null,
            "grid_gap": null,
            "grid_row": null,
            "grid_template_areas": null,
            "grid_template_columns": null,
            "grid_template_rows": null,
            "height": null,
            "justify_content": null,
            "justify_items": null,
            "left": null,
            "margin": null,
            "max_height": null,
            "max_width": null,
            "min_height": null,
            "min_width": null,
            "object_fit": null,
            "object_position": null,
            "order": null,
            "overflow": null,
            "overflow_x": null,
            "overflow_y": null,
            "padding": null,
            "right": null,
            "top": null,
            "visibility": null,
            "width": null
          }
        },
        "f24b57defe374163a2348f39e93cea9a": {
          "model_module": "@jupyter-widgets/controls",
          "model_name": "ProgressStyleModel",
          "model_module_version": "1.5.0",
          "state": {
            "_model_module": "@jupyter-widgets/controls",
            "_model_module_version": "1.5.0",
            "_model_name": "ProgressStyleModel",
            "_view_count": null,
            "_view_module": "@jupyter-widgets/base",
            "_view_module_version": "1.2.0",
            "_view_name": "StyleView",
            "bar_color": null,
            "description_width": ""
          }
        },
        "1638e5fe433b4d1cbf73c9970e88c09f": {
          "model_module": "@jupyter-widgets/base",
          "model_name": "LayoutModel",
          "model_module_version": "1.2.0",
          "state": {
            "_model_module": "@jupyter-widgets/base",
            "_model_module_version": "1.2.0",
            "_model_name": "LayoutModel",
            "_view_count": null,
            "_view_module": "@jupyter-widgets/base",
            "_view_module_version": "1.2.0",
            "_view_name": "LayoutView",
            "align_content": null,
            "align_items": null,
            "align_self": null,
            "border": null,
            "bottom": null,
            "display": null,
            "flex": null,
            "flex_flow": null,
            "grid_area": null,
            "grid_auto_columns": null,
            "grid_auto_flow": null,
            "grid_auto_rows": null,
            "grid_column": null,
            "grid_gap": null,
            "grid_row": null,
            "grid_template_areas": null,
            "grid_template_columns": null,
            "grid_template_rows": null,
            "height": null,
            "justify_content": null,
            "justify_items": null,
            "left": null,
            "margin": null,
            "max_height": null,
            "max_width": null,
            "min_height": null,
            "min_width": null,
            "object_fit": null,
            "object_position": null,
            "order": null,
            "overflow": null,
            "overflow_x": null,
            "overflow_y": null,
            "padding": null,
            "right": null,
            "top": null,
            "visibility": null,
            "width": null
          }
        },
        "c7b7ec6a50e5496a93e8b2333696cb59": {
          "model_module": "@jupyter-widgets/controls",
          "model_name": "DescriptionStyleModel",
          "model_module_version": "1.5.0",
          "state": {
            "_model_module": "@jupyter-widgets/controls",
            "_model_module_version": "1.5.0",
            "_model_name": "DescriptionStyleModel",
            "_view_count": null,
            "_view_module": "@jupyter-widgets/base",
            "_view_module_version": "1.2.0",
            "_view_name": "StyleView",
            "description_width": ""
          }
        },
        "736f06f37a93421d9cb4cf181395f793": {
          "model_module": "@jupyter-widgets/controls",
          "model_name": "HBoxModel",
          "model_module_version": "1.5.0",
          "state": {
            "_dom_classes": [],
            "_model_module": "@jupyter-widgets/controls",
            "_model_module_version": "1.5.0",
            "_model_name": "HBoxModel",
            "_view_count": null,
            "_view_module": "@jupyter-widgets/controls",
            "_view_module_version": "1.5.0",
            "_view_name": "HBoxView",
            "box_style": "",
            "children": [
              "IPY_MODEL_fbb315885ca94c7cbd32a100a207c1de",
              "IPY_MODEL_ba90609a36ba4cd0adba005cf8ee35f0",
              "IPY_MODEL_743fb70e6cfb4cfe9fc329cb4d7cb8e4"
            ],
            "layout": "IPY_MODEL_7c5457f5d3584ae5bd964294eaf1d159"
          }
        },
        "fbb315885ca94c7cbd32a100a207c1de": {
          "model_module": "@jupyter-widgets/controls",
          "model_name": "HTMLModel",
          "model_module_version": "1.5.0",
          "state": {
            "_dom_classes": [],
            "_model_module": "@jupyter-widgets/controls",
            "_model_module_version": "1.5.0",
            "_model_name": "HTMLModel",
            "_view_count": null,
            "_view_module": "@jupyter-widgets/controls",
            "_view_module_version": "1.5.0",
            "_view_name": "HTMLView",
            "description": "",
            "description_tooltip": null,
            "layout": "IPY_MODEL_56492ebad62e4fc5b4a9d6385abbee46",
            "placeholder": "​",
            "style": "IPY_MODEL_9dd8d45a49614692a0de90a53daf2386",
            "value": "100%"
          }
        },
        "ba90609a36ba4cd0adba005cf8ee35f0": {
          "model_module": "@jupyter-widgets/controls",
          "model_name": "FloatProgressModel",
          "model_module_version": "1.5.0",
          "state": {
            "_dom_classes": [],
            "_model_module": "@jupyter-widgets/controls",
            "_model_module_version": "1.5.0",
            "_model_name": "FloatProgressModel",
            "_view_count": null,
            "_view_module": "@jupyter-widgets/controls",
            "_view_module_version": "1.5.0",
            "_view_name": "ProgressView",
            "bar_style": "success",
            "description": "",
            "description_tooltip": null,
            "layout": "IPY_MODEL_8e6ca97508a44dea891d482cb0513a5b",
            "max": 70405,
            "min": 0,
            "orientation": "horizontal",
            "style": "IPY_MODEL_d258f5c77fef43cf9548319609a63aa4",
            "value": 70405
          }
        },
        "743fb70e6cfb4cfe9fc329cb4d7cb8e4": {
          "model_module": "@jupyter-widgets/controls",
          "model_name": "HTMLModel",
          "model_module_version": "1.5.0",
          "state": {
            "_dom_classes": [],
            "_model_module": "@jupyter-widgets/controls",
            "_model_module_version": "1.5.0",
            "_model_name": "HTMLModel",
            "_view_count": null,
            "_view_module": "@jupyter-widgets/controls",
            "_view_module_version": "1.5.0",
            "_view_name": "HTMLView",
            "description": "",
            "description_tooltip": null,
            "layout": "IPY_MODEL_4b87527e993d4f02b6160979234c297a",
            "placeholder": "​",
            "style": "IPY_MODEL_cdf30ca0e9fb44ee8201ea7fbe105a11",
            "value": " 70405/70405 [00:10&lt;00:00, 5120.06it/s]"
          }
        },
        "7c5457f5d3584ae5bd964294eaf1d159": {
          "model_module": "@jupyter-widgets/base",
          "model_name": "LayoutModel",
          "model_module_version": "1.2.0",
          "state": {
            "_model_module": "@jupyter-widgets/base",
            "_model_module_version": "1.2.0",
            "_model_name": "LayoutModel",
            "_view_count": null,
            "_view_module": "@jupyter-widgets/base",
            "_view_module_version": "1.2.0",
            "_view_name": "LayoutView",
            "align_content": null,
            "align_items": null,
            "align_self": null,
            "border": null,
            "bottom": null,
            "display": null,
            "flex": null,
            "flex_flow": null,
            "grid_area": null,
            "grid_auto_columns": null,
            "grid_auto_flow": null,
            "grid_auto_rows": null,
            "grid_column": null,
            "grid_gap": null,
            "grid_row": null,
            "grid_template_areas": null,
            "grid_template_columns": null,
            "grid_template_rows": null,
            "height": null,
            "justify_content": null,
            "justify_items": null,
            "left": null,
            "margin": null,
            "max_height": null,
            "max_width": null,
            "min_height": null,
            "min_width": null,
            "object_fit": null,
            "object_position": null,
            "order": null,
            "overflow": null,
            "overflow_x": null,
            "overflow_y": null,
            "padding": null,
            "right": null,
            "top": null,
            "visibility": null,
            "width": null
          }
        },
        "56492ebad62e4fc5b4a9d6385abbee46": {
          "model_module": "@jupyter-widgets/base",
          "model_name": "LayoutModel",
          "model_module_version": "1.2.0",
          "state": {
            "_model_module": "@jupyter-widgets/base",
            "_model_module_version": "1.2.0",
            "_model_name": "LayoutModel",
            "_view_count": null,
            "_view_module": "@jupyter-widgets/base",
            "_view_module_version": "1.2.0",
            "_view_name": "LayoutView",
            "align_content": null,
            "align_items": null,
            "align_self": null,
            "border": null,
            "bottom": null,
            "display": null,
            "flex": null,
            "flex_flow": null,
            "grid_area": null,
            "grid_auto_columns": null,
            "grid_auto_flow": null,
            "grid_auto_rows": null,
            "grid_column": null,
            "grid_gap": null,
            "grid_row": null,
            "grid_template_areas": null,
            "grid_template_columns": null,
            "grid_template_rows": null,
            "height": null,
            "justify_content": null,
            "justify_items": null,
            "left": null,
            "margin": null,
            "max_height": null,
            "max_width": null,
            "min_height": null,
            "min_width": null,
            "object_fit": null,
            "object_position": null,
            "order": null,
            "overflow": null,
            "overflow_x": null,
            "overflow_y": null,
            "padding": null,
            "right": null,
            "top": null,
            "visibility": null,
            "width": null
          }
        },
        "9dd8d45a49614692a0de90a53daf2386": {
          "model_module": "@jupyter-widgets/controls",
          "model_name": "DescriptionStyleModel",
          "model_module_version": "1.5.0",
          "state": {
            "_model_module": "@jupyter-widgets/controls",
            "_model_module_version": "1.5.0",
            "_model_name": "DescriptionStyleModel",
            "_view_count": null,
            "_view_module": "@jupyter-widgets/base",
            "_view_module_version": "1.2.0",
            "_view_name": "StyleView",
            "description_width": ""
          }
        },
        "8e6ca97508a44dea891d482cb0513a5b": {
          "model_module": "@jupyter-widgets/base",
          "model_name": "LayoutModel",
          "model_module_version": "1.2.0",
          "state": {
            "_model_module": "@jupyter-widgets/base",
            "_model_module_version": "1.2.0",
            "_model_name": "LayoutModel",
            "_view_count": null,
            "_view_module": "@jupyter-widgets/base",
            "_view_module_version": "1.2.0",
            "_view_name": "LayoutView",
            "align_content": null,
            "align_items": null,
            "align_self": null,
            "border": null,
            "bottom": null,
            "display": null,
            "flex": null,
            "flex_flow": null,
            "grid_area": null,
            "grid_auto_columns": null,
            "grid_auto_flow": null,
            "grid_auto_rows": null,
            "grid_column": null,
            "grid_gap": null,
            "grid_row": null,
            "grid_template_areas": null,
            "grid_template_columns": null,
            "grid_template_rows": null,
            "height": null,
            "justify_content": null,
            "justify_items": null,
            "left": null,
            "margin": null,
            "max_height": null,
            "max_width": null,
            "min_height": null,
            "min_width": null,
            "object_fit": null,
            "object_position": null,
            "order": null,
            "overflow": null,
            "overflow_x": null,
            "overflow_y": null,
            "padding": null,
            "right": null,
            "top": null,
            "visibility": null,
            "width": null
          }
        },
        "d258f5c77fef43cf9548319609a63aa4": {
          "model_module": "@jupyter-widgets/controls",
          "model_name": "ProgressStyleModel",
          "model_module_version": "1.5.0",
          "state": {
            "_model_module": "@jupyter-widgets/controls",
            "_model_module_version": "1.5.0",
            "_model_name": "ProgressStyleModel",
            "_view_count": null,
            "_view_module": "@jupyter-widgets/base",
            "_view_module_version": "1.2.0",
            "_view_name": "StyleView",
            "bar_color": null,
            "description_width": ""
          }
        },
        "4b87527e993d4f02b6160979234c297a": {
          "model_module": "@jupyter-widgets/base",
          "model_name": "LayoutModel",
          "model_module_version": "1.2.0",
          "state": {
            "_model_module": "@jupyter-widgets/base",
            "_model_module_version": "1.2.0",
            "_model_name": "LayoutModel",
            "_view_count": null,
            "_view_module": "@jupyter-widgets/base",
            "_view_module_version": "1.2.0",
            "_view_name": "LayoutView",
            "align_content": null,
            "align_items": null,
            "align_self": null,
            "border": null,
            "bottom": null,
            "display": null,
            "flex": null,
            "flex_flow": null,
            "grid_area": null,
            "grid_auto_columns": null,
            "grid_auto_flow": null,
            "grid_auto_rows": null,
            "grid_column": null,
            "grid_gap": null,
            "grid_row": null,
            "grid_template_areas": null,
            "grid_template_columns": null,
            "grid_template_rows": null,
            "height": null,
            "justify_content": null,
            "justify_items": null,
            "left": null,
            "margin": null,
            "max_height": null,
            "max_width": null,
            "min_height": null,
            "min_width": null,
            "object_fit": null,
            "object_position": null,
            "order": null,
            "overflow": null,
            "overflow_x": null,
            "overflow_y": null,
            "padding": null,
            "right": null,
            "top": null,
            "visibility": null,
            "width": null
          }
        },
        "cdf30ca0e9fb44ee8201ea7fbe105a11": {
          "model_module": "@jupyter-widgets/controls",
          "model_name": "DescriptionStyleModel",
          "model_module_version": "1.5.0",
          "state": {
            "_model_module": "@jupyter-widgets/controls",
            "_model_module_version": "1.5.0",
            "_model_name": "DescriptionStyleModel",
            "_view_count": null,
            "_view_module": "@jupyter-widgets/base",
            "_view_module_version": "1.2.0",
            "_view_name": "StyleView",
            "description_width": ""
          }
        },
        "a2a41bbc4eb6455498c8749554b48f51": {
          "model_module": "@jupyter-widgets/controls",
          "model_name": "HBoxModel",
          "model_module_version": "1.5.0",
          "state": {
            "_dom_classes": [],
            "_model_module": "@jupyter-widgets/controls",
            "_model_module_version": "1.5.0",
            "_model_name": "HBoxModel",
            "_view_count": null,
            "_view_module": "@jupyter-widgets/controls",
            "_view_module_version": "1.5.0",
            "_view_name": "HBoxView",
            "box_style": "",
            "children": [
              "IPY_MODEL_f2d39b9755e84d1c8fb476b95c80c6be",
              "IPY_MODEL_00ed519d42d24cd8a2cbb2422c2e8e5c",
              "IPY_MODEL_b6342ff5e5964f39b9a1a0f4747f6d0a"
            ],
            "layout": "IPY_MODEL_abfa25e853dc4be78ee793ddb3cdf009"
          }
        },
        "f2d39b9755e84d1c8fb476b95c80c6be": {
          "model_module": "@jupyter-widgets/controls",
          "model_name": "HTMLModel",
          "model_module_version": "1.5.0",
          "state": {
            "_dom_classes": [],
            "_model_module": "@jupyter-widgets/controls",
            "_model_module_version": "1.5.0",
            "_model_name": "HTMLModel",
            "_view_count": null,
            "_view_module": "@jupyter-widgets/controls",
            "_view_module_version": "1.5.0",
            "_view_name": "HTMLView",
            "description": "",
            "description_tooltip": null,
            "layout": "IPY_MODEL_31a8b474c1ff47eb871b4f1e24a56550",
            "placeholder": "​",
            "style": "IPY_MODEL_bda2a62b46bc45639f86b0dce1873937",
            "value": "100%"
          }
        },
        "00ed519d42d24cd8a2cbb2422c2e8e5c": {
          "model_module": "@jupyter-widgets/controls",
          "model_name": "FloatProgressModel",
          "model_module_version": "1.5.0",
          "state": {
            "_dom_classes": [],
            "_model_module": "@jupyter-widgets/controls",
            "_model_module_version": "1.5.0",
            "_model_name": "FloatProgressModel",
            "_view_count": null,
            "_view_module": "@jupyter-widgets/controls",
            "_view_module_version": "1.5.0",
            "_view_name": "ProgressView",
            "bar_style": "success",
            "description": "",
            "description_tooltip": null,
            "layout": "IPY_MODEL_3e2d2baae50547929f91d3c9a14fa76d",
            "max": 4245,
            "min": 0,
            "orientation": "horizontal",
            "style": "IPY_MODEL_b96d25908d424c098ccb1610957a8935",
            "value": 4245
          }
        },
        "b6342ff5e5964f39b9a1a0f4747f6d0a": {
          "model_module": "@jupyter-widgets/controls",
          "model_name": "HTMLModel",
          "model_module_version": "1.5.0",
          "state": {
            "_dom_classes": [],
            "_model_module": "@jupyter-widgets/controls",
            "_model_module_version": "1.5.0",
            "_model_name": "HTMLModel",
            "_view_count": null,
            "_view_module": "@jupyter-widgets/controls",
            "_view_module_version": "1.5.0",
            "_view_name": "HTMLView",
            "description": "",
            "description_tooltip": null,
            "layout": "IPY_MODEL_cd42368e97be4a838e2cd657486c445a",
            "placeholder": "​",
            "style": "IPY_MODEL_5fb952731bda45c1a1195467d3f676fc",
            "value": " 4245/4245 [00:02&lt;00:00, 1705.54it/s]"
          }
        },
        "abfa25e853dc4be78ee793ddb3cdf009": {
          "model_module": "@jupyter-widgets/base",
          "model_name": "LayoutModel",
          "model_module_version": "1.2.0",
          "state": {
            "_model_module": "@jupyter-widgets/base",
            "_model_module_version": "1.2.0",
            "_model_name": "LayoutModel",
            "_view_count": null,
            "_view_module": "@jupyter-widgets/base",
            "_view_module_version": "1.2.0",
            "_view_name": "LayoutView",
            "align_content": null,
            "align_items": null,
            "align_self": null,
            "border": null,
            "bottom": null,
            "display": null,
            "flex": null,
            "flex_flow": null,
            "grid_area": null,
            "grid_auto_columns": null,
            "grid_auto_flow": null,
            "grid_auto_rows": null,
            "grid_column": null,
            "grid_gap": null,
            "grid_row": null,
            "grid_template_areas": null,
            "grid_template_columns": null,
            "grid_template_rows": null,
            "height": null,
            "justify_content": null,
            "justify_items": null,
            "left": null,
            "margin": null,
            "max_height": null,
            "max_width": null,
            "min_height": null,
            "min_width": null,
            "object_fit": null,
            "object_position": null,
            "order": null,
            "overflow": null,
            "overflow_x": null,
            "overflow_y": null,
            "padding": null,
            "right": null,
            "top": null,
            "visibility": null,
            "width": null
          }
        },
        "31a8b474c1ff47eb871b4f1e24a56550": {
          "model_module": "@jupyter-widgets/base",
          "model_name": "LayoutModel",
          "model_module_version": "1.2.0",
          "state": {
            "_model_module": "@jupyter-widgets/base",
            "_model_module_version": "1.2.0",
            "_model_name": "LayoutModel",
            "_view_count": null,
            "_view_module": "@jupyter-widgets/base",
            "_view_module_version": "1.2.0",
            "_view_name": "LayoutView",
            "align_content": null,
            "align_items": null,
            "align_self": null,
            "border": null,
            "bottom": null,
            "display": null,
            "flex": null,
            "flex_flow": null,
            "grid_area": null,
            "grid_auto_columns": null,
            "grid_auto_flow": null,
            "grid_auto_rows": null,
            "grid_column": null,
            "grid_gap": null,
            "grid_row": null,
            "grid_template_areas": null,
            "grid_template_columns": null,
            "grid_template_rows": null,
            "height": null,
            "justify_content": null,
            "justify_items": null,
            "left": null,
            "margin": null,
            "max_height": null,
            "max_width": null,
            "min_height": null,
            "min_width": null,
            "object_fit": null,
            "object_position": null,
            "order": null,
            "overflow": null,
            "overflow_x": null,
            "overflow_y": null,
            "padding": null,
            "right": null,
            "top": null,
            "visibility": null,
            "width": null
          }
        },
        "bda2a62b46bc45639f86b0dce1873937": {
          "model_module": "@jupyter-widgets/controls",
          "model_name": "DescriptionStyleModel",
          "model_module_version": "1.5.0",
          "state": {
            "_model_module": "@jupyter-widgets/controls",
            "_model_module_version": "1.5.0",
            "_model_name": "DescriptionStyleModel",
            "_view_count": null,
            "_view_module": "@jupyter-widgets/base",
            "_view_module_version": "1.2.0",
            "_view_name": "StyleView",
            "description_width": ""
          }
        },
        "3e2d2baae50547929f91d3c9a14fa76d": {
          "model_module": "@jupyter-widgets/base",
          "model_name": "LayoutModel",
          "model_module_version": "1.2.0",
          "state": {
            "_model_module": "@jupyter-widgets/base",
            "_model_module_version": "1.2.0",
            "_model_name": "LayoutModel",
            "_view_count": null,
            "_view_module": "@jupyter-widgets/base",
            "_view_module_version": "1.2.0",
            "_view_name": "LayoutView",
            "align_content": null,
            "align_items": null,
            "align_self": null,
            "border": null,
            "bottom": null,
            "display": null,
            "flex": null,
            "flex_flow": null,
            "grid_area": null,
            "grid_auto_columns": null,
            "grid_auto_flow": null,
            "grid_auto_rows": null,
            "grid_column": null,
            "grid_gap": null,
            "grid_row": null,
            "grid_template_areas": null,
            "grid_template_columns": null,
            "grid_template_rows": null,
            "height": null,
            "justify_content": null,
            "justify_items": null,
            "left": null,
            "margin": null,
            "max_height": null,
            "max_width": null,
            "min_height": null,
            "min_width": null,
            "object_fit": null,
            "object_position": null,
            "order": null,
            "overflow": null,
            "overflow_x": null,
            "overflow_y": null,
            "padding": null,
            "right": null,
            "top": null,
            "visibility": null,
            "width": null
          }
        },
        "b96d25908d424c098ccb1610957a8935": {
          "model_module": "@jupyter-widgets/controls",
          "model_name": "ProgressStyleModel",
          "model_module_version": "1.5.0",
          "state": {
            "_model_module": "@jupyter-widgets/controls",
            "_model_module_version": "1.5.0",
            "_model_name": "ProgressStyleModel",
            "_view_count": null,
            "_view_module": "@jupyter-widgets/base",
            "_view_module_version": "1.2.0",
            "_view_name": "StyleView",
            "bar_color": null,
            "description_width": ""
          }
        },
        "cd42368e97be4a838e2cd657486c445a": {
          "model_module": "@jupyter-widgets/base",
          "model_name": "LayoutModel",
          "model_module_version": "1.2.0",
          "state": {
            "_model_module": "@jupyter-widgets/base",
            "_model_module_version": "1.2.0",
            "_model_name": "LayoutModel",
            "_view_count": null,
            "_view_module": "@jupyter-widgets/base",
            "_view_module_version": "1.2.0",
            "_view_name": "LayoutView",
            "align_content": null,
            "align_items": null,
            "align_self": null,
            "border": null,
            "bottom": null,
            "display": null,
            "flex": null,
            "flex_flow": null,
            "grid_area": null,
            "grid_auto_columns": null,
            "grid_auto_flow": null,
            "grid_auto_rows": null,
            "grid_column": null,
            "grid_gap": null,
            "grid_row": null,
            "grid_template_areas": null,
            "grid_template_columns": null,
            "grid_template_rows": null,
            "height": null,
            "justify_content": null,
            "justify_items": null,
            "left": null,
            "margin": null,
            "max_height": null,
            "max_width": null,
            "min_height": null,
            "min_width": null,
            "object_fit": null,
            "object_position": null,
            "order": null,
            "overflow": null,
            "overflow_x": null,
            "overflow_y": null,
            "padding": null,
            "right": null,
            "top": null,
            "visibility": null,
            "width": null
          }
        },
        "5fb952731bda45c1a1195467d3f676fc": {
          "model_module": "@jupyter-widgets/controls",
          "model_name": "DescriptionStyleModel",
          "model_module_version": "1.5.0",
          "state": {
            "_model_module": "@jupyter-widgets/controls",
            "_model_module_version": "1.5.0",
            "_model_name": "DescriptionStyleModel",
            "_view_count": null,
            "_view_module": "@jupyter-widgets/base",
            "_view_module_version": "1.2.0",
            "_view_name": "StyleView",
            "description_width": ""
          }
        }
      }
    }
  },
  "cells": [
    {
      "cell_type": "markdown",
      "metadata": {
        "id": "view-in-github",
        "colab_type": "text"
      },
      "source": [
        "<a href=\"https://colab.research.google.com/github/ariel-hedvat/AdvancedMLDLCourseAssignments/blob/main/Assignment%20II%20-%20NLP/Assignment_II_Group_4.ipynb\" target=\"_parent\"><img src=\"https://colab.research.google.com/assets/colab-badge.svg\" alt=\"Open In Colab\"/></a>"
      ]
    },
    {
      "cell_type": "markdown",
      "metadata": {
        "id": "f0v2mOU5X6Ls"
      },
      "source": [
        "<div class=\"markdown-google-sans\">\n",
        "  <h1><font size=6>Assignment 2 : NLP : Seinfeld or Friends?</font></h1>\n",
        "\n",
        "  <u>Group members:</u><br>\n",
        "  - Ariel Hedvat<br>\n",
        "  - Shiraz Israeli<br>\n",
        "  - Yuval Bakirov<br>\n",
        "  - Eitan Bakirov\n",
        "\n",
        "<br>\n",
        "\n",
        "This project aims to distinguish dialogue lines from the TV shows Seinfeld and Friends. The dataset includes dialogue text, character information, and show labels. The goal is to build a model trained on dialogues of characters and classifies whether a new dialogue is from Seinfeld or Friends, then evaluate its accuracy on a test set.<br>\n",
        "Also, we explore the results of the model on each character.\n",
        "</div>\n"
      ]
    },
    {
      "cell_type": "markdown",
      "metadata": {
        "id": "6KQAH9j-qoZw"
      },
      "source": [
        "<div class=\"markdown-google-sans\">\n",
        "  <h1><font size=5>Data</font></h1>\n",
        "</div>"
      ]
    },
    {
      "cell_type": "markdown",
      "metadata": {
        "id": "YeDU9j_8rAD1"
      },
      "source": [
        "The dataset comprises five columns: <br>\n",
        "- Dialogue - indicating spoken lines<br>\n",
        "- Character - denoting the speaker <br>\n",
        "- Episode - specifying the episode number <br>\n",
        "- Show - identifying the television series <br>\n",
        "- Dialogue_length - quantifying the length of each dialogue entry.<br><br>\n",
        "\n",
        "In our model we will only use the features: \"Dialouge\" (Sample) and \"Show\" (Label) during the training.<br><br>"
      ]
    },
    {
      "cell_type": "markdown",
      "metadata": {
        "id": "DfFFUOOZo51l"
      },
      "source": [
        "<div class=\"markdown-google-sans\">\n",
        "  <h1><font size=5>Table of Contents</font></h1>"
      ]
    },
    {
      "cell_type": "markdown",
      "metadata": {
        "colab_type": "toc",
        "id": "9HArAhUdavbe"
      },
      "source": [
        ">[Import Libraries](#scrollTo=-_VBJ0JlYLKI)\n",
        "\n",
        ">[Loading the data](#scrollTo=kXwOL606ZfUN)\n",
        "\n",
        ">[EDA & Pre- Processing](#scrollTo=P8cTl07AZgyg)\n",
        "\n",
        ">>[Text Cleaning](#scrollTo=YahuK9cqYcyC)\n",
        "\n",
        ">>[Special character removal](#scrollTo=rktALPaIYimc)\n",
        "\n",
        ">>[Stop words removal](#scrollTo=oI-pgoYYYnZe)\n",
        "\n",
        ">>[Stemming](#scrollTo=Tdei7JlEc_Ea)\n",
        "\n",
        ">>[Train-test-valdiation split](#scrollTo=mG1TBityfg1-)\n",
        "\n",
        ">>[Labeling](#scrollTo=EIruMKat5Rx3)\n",
        "\n",
        ">>[Bag Of Words](#scrollTo=Rh7H8mrM5o2c)\n",
        "\n",
        ">>[TF-IDF](#scrollTo=Uz8y6fvWhtdA)\n",
        "\n",
        ">[Modeling](#scrollTo=_58J58NQVpBV)\n",
        "\n",
        ">[Explore Our results](#scrollTo=vbjiKHyi7Irm)\n",
        "\n"
      ]
    },
    {
      "cell_type": "markdown",
      "metadata": {
        "id": "-_VBJ0JlYLKI"
      },
      "source": [
        "#  Import Libraries"
      ]
    },
    {
      "cell_type": "code",
      "execution_count": 91,
      "metadata": {
        "id": "XRyEMuKdYN_8"
      },
      "outputs": [],
      "source": [
        "import pandas as pd\n",
        "import numpy as np\n",
        "import sklearn as skl\n",
        "import seaborn as sns\n",
        "import matplotlib.pyplot as plt\n",
        "import os\n",
        "import scipy.stats as stats\n",
        "from sklearn.model_selection import train_test_split\n",
        "\n",
        "from bs4 import BeautifulSoup\n",
        "import re\n",
        "from sklearn.preprocessing import LabelBinarizer\n",
        "\n",
        "import nltk\n",
        "from nltk.tokenize.toktok import ToktokTokenizer\n",
        "\n",
        "from tqdm.notebook import tqdm\n",
        "from sklearn.feature_extraction.text import CountVectorizer\n",
        "\n",
        "from keras.layers import Dropout, Conv1D, Flatten, Dense, Embedding, MaxPooling1D, BatchNormalization\n",
        "\n",
        "from keras.models import Sequential\n",
        "from keras.layers import Dropout, Conv1D, Flatten, Dense, Embedding\n",
        "from keras.preprocessing import sequence\n",
        "from tensorflow.keras.preprocessing.text import Tokenizer\n",
        "\n",
        "import pandas as pd\n",
        "from sklearn.metrics import accuracy_score\n",
        "import matplotlib.pyplot as plt\n",
        "\n",
        "import warnings\n",
        "warnings.filterwarnings('ignore')"
      ]
    },
    {
      "cell_type": "markdown",
      "metadata": {
        "id": "kXwOL606ZfUN"
      },
      "source": [
        "# Loading the data"
      ]
    },
    {
      "cell_type": "code",
      "execution_count": 92,
      "metadata": {
        "id": "SPuyJ3qXZgWY"
      },
      "outputs": [],
      "source": [
        "# Data Loading for Train\n",
        "url = 'https://raw.githubusercontent.com/ariel-hedvat/AdvancedMLDLCourseAssignments/main/Assignment%20II%20-%20NLP/train.csv'\n",
        "full_train_data = pd.read_csv(url)\n",
        "\n",
        "#TODO\n",
        "#train_set = full_train_data.copy()\n",
        "#x_train = full_train_data.drop('Show', axis=1).copy()\n",
        "#y_train = full_train_data['Show'].copy()"
      ]
    },
    {
      "cell_type": "code",
      "source": [
        "# Data Loading for Test\n",
        "url_test = 'https://raw.githubusercontent.com/ariel-hedvat/AdvancedMLDLCourseAssignments/main/Assignment%20II%20-%20NLP/test.csv'\n",
        "full_test_data = pd.read_csv(url_test)\n",
        "\n",
        "#TODO\n",
        "#test_set = full_test_data.copy()\n",
        "#x_test = full_test_data.drop('Show', axis=1).copy()\n",
        "#y_test = full_test_data['Show'].copy()"
      ],
      "metadata": {
        "id": "z1qQpQAz6T7E"
      },
      "execution_count": 93,
      "outputs": []
    },
    {
      "cell_type": "markdown",
      "metadata": {
        "id": "P8cTl07AZgyg"
      },
      "source": [
        "# **EDA & Pre- Processing**"
      ]
    },
    {
      "cell_type": "markdown",
      "source": [
        "First, let's look at our data:"
      ],
      "metadata": {
        "id": "Hkfak6nkPNix"
      }
    },
    {
      "cell_type": "code",
      "source": [
        "full_train_data"
      ],
      "metadata": {
        "colab": {
          "base_uri": "https://localhost:8080/",
          "height": 423
        },
        "id": "QeN53c3tPMhR",
        "outputId": "1f0d1eea-c012-42e4-ba4e-0b0422b61b38"
      },
      "execution_count": 94,
      "outputs": [
        {
          "output_type": "execute_result",
          "data": {
            "text/plain": [
              "                                                Dialogue Character  \\\n",
              "0                                                   Hey.      joey   \n",
              "1       (to Joey) Are you gonna be embarrassed going ...    phoebe   \n",
              "2      Me? No no no, you. You're gonna tell him. I'm ...    elaine   \n",
              "3       Alright you guys are off to party number one ...  chandler   \n",
              "4      Am I? Or am I so sane that you just blew your ...    kramer   \n",
              "...                                                  ...       ...   \n",
              "70400                                       Pretty much.     jerry   \n",
              "70401   Oh, well um, not right now. Y'know I’m just g...    phoebe   \n",
              "70402                Ooh, I think I wanna trade circles.    phoebe   \n",
              "70403      Hey, hey, what is this? What's going on here?     jerry   \n",
              "70404                                I want the massage!     jerry   \n",
              "\n",
              "                                                 Episode      Show  \\\n",
              "0         Season-07 Episode-13-The One Where Rosita Dies   Friends   \n",
              "1             Season-10 Episode-04-The One With The Cake   Friends   \n",
              "2                                                 S03E22  Seinfeld   \n",
              "3      Season-02 Episode-22-The One With the Two Parties   Friends   \n",
              "4                                                 S05E12  Seinfeld   \n",
              "...                                                  ...       ...   \n",
              "70400                                             S05E09  Seinfeld   \n",
              "70401        Season-03 Episode-05-The One With Frank Jr.   Friends   \n",
              "70402   Season-07 Episode-22-The One With Chandler’s Dad   Friends   \n",
              "70403                                             S05E03  Seinfeld   \n",
              "70404                                             S05E09  Seinfeld   \n",
              "\n",
              "       Dialogue_length  \n",
              "0                    1  \n",
              "1                   13  \n",
              "2                   14  \n",
              "3                   56  \n",
              "4                   13  \n",
              "...                ...  \n",
              "70400                2  \n",
              "70401               22  \n",
              "70402                7  \n",
              "70403                9  \n",
              "70404                4  \n",
              "\n",
              "[70405 rows x 5 columns]"
            ],
            "text/html": [
              "\n",
              "  <div id=\"df-1af8f23d-6011-4917-a697-e1e92eced7f1\" class=\"colab-df-container\">\n",
              "    <div>\n",
              "<style scoped>\n",
              "    .dataframe tbody tr th:only-of-type {\n",
              "        vertical-align: middle;\n",
              "    }\n",
              "\n",
              "    .dataframe tbody tr th {\n",
              "        vertical-align: top;\n",
              "    }\n",
              "\n",
              "    .dataframe thead th {\n",
              "        text-align: right;\n",
              "    }\n",
              "</style>\n",
              "<table border=\"1\" class=\"dataframe\">\n",
              "  <thead>\n",
              "    <tr style=\"text-align: right;\">\n",
              "      <th></th>\n",
              "      <th>Dialogue</th>\n",
              "      <th>Character</th>\n",
              "      <th>Episode</th>\n",
              "      <th>Show</th>\n",
              "      <th>Dialogue_length</th>\n",
              "    </tr>\n",
              "  </thead>\n",
              "  <tbody>\n",
              "    <tr>\n",
              "      <th>0</th>\n",
              "      <td>Hey.</td>\n",
              "      <td>joey</td>\n",
              "      <td>Season-07 Episode-13-The One Where Rosita Dies</td>\n",
              "      <td>Friends</td>\n",
              "      <td>1</td>\n",
              "    </tr>\n",
              "    <tr>\n",
              "      <th>1</th>\n",
              "      <td>(to Joey) Are you gonna be embarrassed going ...</td>\n",
              "      <td>phoebe</td>\n",
              "      <td>Season-10 Episode-04-The One With The Cake</td>\n",
              "      <td>Friends</td>\n",
              "      <td>13</td>\n",
              "    </tr>\n",
              "    <tr>\n",
              "      <th>2</th>\n",
              "      <td>Me? No no no, you. You're gonna tell him. I'm ...</td>\n",
              "      <td>elaine</td>\n",
              "      <td>S03E22</td>\n",
              "      <td>Seinfeld</td>\n",
              "      <td>14</td>\n",
              "    </tr>\n",
              "    <tr>\n",
              "      <th>3</th>\n",
              "      <td>Alright you guys are off to party number one ...</td>\n",
              "      <td>chandler</td>\n",
              "      <td>Season-02 Episode-22-The One With the Two Parties</td>\n",
              "      <td>Friends</td>\n",
              "      <td>56</td>\n",
              "    </tr>\n",
              "    <tr>\n",
              "      <th>4</th>\n",
              "      <td>Am I? Or am I so sane that you just blew your ...</td>\n",
              "      <td>kramer</td>\n",
              "      <td>S05E12</td>\n",
              "      <td>Seinfeld</td>\n",
              "      <td>13</td>\n",
              "    </tr>\n",
              "    <tr>\n",
              "      <th>...</th>\n",
              "      <td>...</td>\n",
              "      <td>...</td>\n",
              "      <td>...</td>\n",
              "      <td>...</td>\n",
              "      <td>...</td>\n",
              "    </tr>\n",
              "    <tr>\n",
              "      <th>70400</th>\n",
              "      <td>Pretty much.</td>\n",
              "      <td>jerry</td>\n",
              "      <td>S05E09</td>\n",
              "      <td>Seinfeld</td>\n",
              "      <td>2</td>\n",
              "    </tr>\n",
              "    <tr>\n",
              "      <th>70401</th>\n",
              "      <td>Oh, well um, not right now. Y'know I’m just g...</td>\n",
              "      <td>phoebe</td>\n",
              "      <td>Season-03 Episode-05-The One With Frank Jr.</td>\n",
              "      <td>Friends</td>\n",
              "      <td>22</td>\n",
              "    </tr>\n",
              "    <tr>\n",
              "      <th>70402</th>\n",
              "      <td>Ooh, I think I wanna trade circles.</td>\n",
              "      <td>phoebe</td>\n",
              "      <td>Season-07 Episode-22-The One With Chandler’s Dad</td>\n",
              "      <td>Friends</td>\n",
              "      <td>7</td>\n",
              "    </tr>\n",
              "    <tr>\n",
              "      <th>70403</th>\n",
              "      <td>Hey, hey, what is this? What's going on here?</td>\n",
              "      <td>jerry</td>\n",
              "      <td>S05E03</td>\n",
              "      <td>Seinfeld</td>\n",
              "      <td>9</td>\n",
              "    </tr>\n",
              "    <tr>\n",
              "      <th>70404</th>\n",
              "      <td>I want the massage!</td>\n",
              "      <td>jerry</td>\n",
              "      <td>S05E09</td>\n",
              "      <td>Seinfeld</td>\n",
              "      <td>4</td>\n",
              "    </tr>\n",
              "  </tbody>\n",
              "</table>\n",
              "<p>70405 rows × 5 columns</p>\n",
              "</div>\n",
              "    <div class=\"colab-df-buttons\">\n",
              "\n",
              "  <div class=\"colab-df-container\">\n",
              "    <button class=\"colab-df-convert\" onclick=\"convertToInteractive('df-1af8f23d-6011-4917-a697-e1e92eced7f1')\"\n",
              "            title=\"Convert this dataframe to an interactive table.\"\n",
              "            style=\"display:none;\">\n",
              "\n",
              "  <svg xmlns=\"http://www.w3.org/2000/svg\" height=\"24px\" viewBox=\"0 -960 960 960\">\n",
              "    <path d=\"M120-120v-720h720v720H120Zm60-500h600v-160H180v160Zm220 220h160v-160H400v160Zm0 220h160v-160H400v160ZM180-400h160v-160H180v160Zm440 0h160v-160H620v160ZM180-180h160v-160H180v160Zm440 0h160v-160H620v160Z\"/>\n",
              "  </svg>\n",
              "    </button>\n",
              "\n",
              "  <style>\n",
              "    .colab-df-container {\n",
              "      display:flex;\n",
              "      gap: 12px;\n",
              "    }\n",
              "\n",
              "    .colab-df-convert {\n",
              "      background-color: #E8F0FE;\n",
              "      border: none;\n",
              "      border-radius: 50%;\n",
              "      cursor: pointer;\n",
              "      display: none;\n",
              "      fill: #1967D2;\n",
              "      height: 32px;\n",
              "      padding: 0 0 0 0;\n",
              "      width: 32px;\n",
              "    }\n",
              "\n",
              "    .colab-df-convert:hover {\n",
              "      background-color: #E2EBFA;\n",
              "      box-shadow: 0px 1px 2px rgba(60, 64, 67, 0.3), 0px 1px 3px 1px rgba(60, 64, 67, 0.15);\n",
              "      fill: #174EA6;\n",
              "    }\n",
              "\n",
              "    .colab-df-buttons div {\n",
              "      margin-bottom: 4px;\n",
              "    }\n",
              "\n",
              "    [theme=dark] .colab-df-convert {\n",
              "      background-color: #3B4455;\n",
              "      fill: #D2E3FC;\n",
              "    }\n",
              "\n",
              "    [theme=dark] .colab-df-convert:hover {\n",
              "      background-color: #434B5C;\n",
              "      box-shadow: 0px 1px 3px 1px rgba(0, 0, 0, 0.15);\n",
              "      filter: drop-shadow(0px 1px 2px rgba(0, 0, 0, 0.3));\n",
              "      fill: #FFFFFF;\n",
              "    }\n",
              "  </style>\n",
              "\n",
              "    <script>\n",
              "      const buttonEl =\n",
              "        document.querySelector('#df-1af8f23d-6011-4917-a697-e1e92eced7f1 button.colab-df-convert');\n",
              "      buttonEl.style.display =\n",
              "        google.colab.kernel.accessAllowed ? 'block' : 'none';\n",
              "\n",
              "      async function convertToInteractive(key) {\n",
              "        const element = document.querySelector('#df-1af8f23d-6011-4917-a697-e1e92eced7f1');\n",
              "        const dataTable =\n",
              "          await google.colab.kernel.invokeFunction('convertToInteractive',\n",
              "                                                    [key], {});\n",
              "        if (!dataTable) return;\n",
              "\n",
              "        const docLinkHtml = 'Like what you see? Visit the ' +\n",
              "          '<a target=\"_blank\" href=https://colab.research.google.com/notebooks/data_table.ipynb>data table notebook</a>'\n",
              "          + ' to learn more about interactive tables.';\n",
              "        element.innerHTML = '';\n",
              "        dataTable['output_type'] = 'display_data';\n",
              "        await google.colab.output.renderOutput(dataTable, element);\n",
              "        const docLink = document.createElement('div');\n",
              "        docLink.innerHTML = docLinkHtml;\n",
              "        element.appendChild(docLink);\n",
              "      }\n",
              "    </script>\n",
              "  </div>\n",
              "\n",
              "\n",
              "<div id=\"df-050a48c4-f17f-440b-918d-0a15a014cccc\">\n",
              "  <button class=\"colab-df-quickchart\" onclick=\"quickchart('df-050a48c4-f17f-440b-918d-0a15a014cccc')\"\n",
              "            title=\"Suggest charts\"\n",
              "            style=\"display:none;\">\n",
              "\n",
              "<svg xmlns=\"http://www.w3.org/2000/svg\" height=\"24px\"viewBox=\"0 0 24 24\"\n",
              "     width=\"24px\">\n",
              "    <g>\n",
              "        <path d=\"M19 3H5c-1.1 0-2 .9-2 2v14c0 1.1.9 2 2 2h14c1.1 0 2-.9 2-2V5c0-1.1-.9-2-2-2zM9 17H7v-7h2v7zm4 0h-2V7h2v10zm4 0h-2v-4h2v4z\"/>\n",
              "    </g>\n",
              "</svg>\n",
              "  </button>\n",
              "\n",
              "<style>\n",
              "  .colab-df-quickchart {\n",
              "      --bg-color: #E8F0FE;\n",
              "      --fill-color: #1967D2;\n",
              "      --hover-bg-color: #E2EBFA;\n",
              "      --hover-fill-color: #174EA6;\n",
              "      --disabled-fill-color: #AAA;\n",
              "      --disabled-bg-color: #DDD;\n",
              "  }\n",
              "\n",
              "  [theme=dark] .colab-df-quickchart {\n",
              "      --bg-color: #3B4455;\n",
              "      --fill-color: #D2E3FC;\n",
              "      --hover-bg-color: #434B5C;\n",
              "      --hover-fill-color: #FFFFFF;\n",
              "      --disabled-bg-color: #3B4455;\n",
              "      --disabled-fill-color: #666;\n",
              "  }\n",
              "\n",
              "  .colab-df-quickchart {\n",
              "    background-color: var(--bg-color);\n",
              "    border: none;\n",
              "    border-radius: 50%;\n",
              "    cursor: pointer;\n",
              "    display: none;\n",
              "    fill: var(--fill-color);\n",
              "    height: 32px;\n",
              "    padding: 0;\n",
              "    width: 32px;\n",
              "  }\n",
              "\n",
              "  .colab-df-quickchart:hover {\n",
              "    background-color: var(--hover-bg-color);\n",
              "    box-shadow: 0 1px 2px rgba(60, 64, 67, 0.3), 0 1px 3px 1px rgba(60, 64, 67, 0.15);\n",
              "    fill: var(--button-hover-fill-color);\n",
              "  }\n",
              "\n",
              "  .colab-df-quickchart-complete:disabled,\n",
              "  .colab-df-quickchart-complete:disabled:hover {\n",
              "    background-color: var(--disabled-bg-color);\n",
              "    fill: var(--disabled-fill-color);\n",
              "    box-shadow: none;\n",
              "  }\n",
              "\n",
              "  .colab-df-spinner {\n",
              "    border: 2px solid var(--fill-color);\n",
              "    border-color: transparent;\n",
              "    border-bottom-color: var(--fill-color);\n",
              "    animation:\n",
              "      spin 1s steps(1) infinite;\n",
              "  }\n",
              "\n",
              "  @keyframes spin {\n",
              "    0% {\n",
              "      border-color: transparent;\n",
              "      border-bottom-color: var(--fill-color);\n",
              "      border-left-color: var(--fill-color);\n",
              "    }\n",
              "    20% {\n",
              "      border-color: transparent;\n",
              "      border-left-color: var(--fill-color);\n",
              "      border-top-color: var(--fill-color);\n",
              "    }\n",
              "    30% {\n",
              "      border-color: transparent;\n",
              "      border-left-color: var(--fill-color);\n",
              "      border-top-color: var(--fill-color);\n",
              "      border-right-color: var(--fill-color);\n",
              "    }\n",
              "    40% {\n",
              "      border-color: transparent;\n",
              "      border-right-color: var(--fill-color);\n",
              "      border-top-color: var(--fill-color);\n",
              "    }\n",
              "    60% {\n",
              "      border-color: transparent;\n",
              "      border-right-color: var(--fill-color);\n",
              "    }\n",
              "    80% {\n",
              "      border-color: transparent;\n",
              "      border-right-color: var(--fill-color);\n",
              "      border-bottom-color: var(--fill-color);\n",
              "    }\n",
              "    90% {\n",
              "      border-color: transparent;\n",
              "      border-bottom-color: var(--fill-color);\n",
              "    }\n",
              "  }\n",
              "</style>\n",
              "\n",
              "  <script>\n",
              "    async function quickchart(key) {\n",
              "      const quickchartButtonEl =\n",
              "        document.querySelector('#' + key + ' button');\n",
              "      quickchartButtonEl.disabled = true;  // To prevent multiple clicks.\n",
              "      quickchartButtonEl.classList.add('colab-df-spinner');\n",
              "      try {\n",
              "        const charts = await google.colab.kernel.invokeFunction(\n",
              "            'suggestCharts', [key], {});\n",
              "      } catch (error) {\n",
              "        console.error('Error during call to suggestCharts:', error);\n",
              "      }\n",
              "      quickchartButtonEl.classList.remove('colab-df-spinner');\n",
              "      quickchartButtonEl.classList.add('colab-df-quickchart-complete');\n",
              "    }\n",
              "    (() => {\n",
              "      let quickchartButtonEl =\n",
              "        document.querySelector('#df-050a48c4-f17f-440b-918d-0a15a014cccc button');\n",
              "      quickchartButtonEl.style.display =\n",
              "        google.colab.kernel.accessAllowed ? 'block' : 'none';\n",
              "    })();\n",
              "  </script>\n",
              "</div>\n",
              "\n",
              "  <div id=\"id_32b1f84e-de73-4a34-95a1-f909b82ffe20\">\n",
              "    <style>\n",
              "      .colab-df-generate {\n",
              "        background-color: #E8F0FE;\n",
              "        border: none;\n",
              "        border-radius: 50%;\n",
              "        cursor: pointer;\n",
              "        display: none;\n",
              "        fill: #1967D2;\n",
              "        height: 32px;\n",
              "        padding: 0 0 0 0;\n",
              "        width: 32px;\n",
              "      }\n",
              "\n",
              "      .colab-df-generate:hover {\n",
              "        background-color: #E2EBFA;\n",
              "        box-shadow: 0px 1px 2px rgba(60, 64, 67, 0.3), 0px 1px 3px 1px rgba(60, 64, 67, 0.15);\n",
              "        fill: #174EA6;\n",
              "      }\n",
              "\n",
              "      [theme=dark] .colab-df-generate {\n",
              "        background-color: #3B4455;\n",
              "        fill: #D2E3FC;\n",
              "      }\n",
              "\n",
              "      [theme=dark] .colab-df-generate:hover {\n",
              "        background-color: #434B5C;\n",
              "        box-shadow: 0px 1px 3px 1px rgba(0, 0, 0, 0.15);\n",
              "        filter: drop-shadow(0px 1px 2px rgba(0, 0, 0, 0.3));\n",
              "        fill: #FFFFFF;\n",
              "      }\n",
              "    </style>\n",
              "    <button class=\"colab-df-generate\" onclick=\"generateWithVariable('full_train_data')\"\n",
              "            title=\"Generate code using this dataframe.\"\n",
              "            style=\"display:none;\">\n",
              "\n",
              "  <svg xmlns=\"http://www.w3.org/2000/svg\" height=\"24px\"viewBox=\"0 0 24 24\"\n",
              "       width=\"24px\">\n",
              "    <path d=\"M7,19H8.4L18.45,9,17,7.55,7,17.6ZM5,21V16.75L18.45,3.32a2,2,0,0,1,2.83,0l1.4,1.43a1.91,1.91,0,0,1,.58,1.4,1.91,1.91,0,0,1-.58,1.4L9.25,21ZM18.45,9,17,7.55Zm-12,3A5.31,5.31,0,0,0,4.9,8.1,5.31,5.31,0,0,0,1,6.5,5.31,5.31,0,0,0,4.9,4.9,5.31,5.31,0,0,0,6.5,1,5.31,5.31,0,0,0,8.1,4.9,5.31,5.31,0,0,0,12,6.5,5.46,5.46,0,0,0,6.5,12Z\"/>\n",
              "  </svg>\n",
              "    </button>\n",
              "    <script>\n",
              "      (() => {\n",
              "      const buttonEl =\n",
              "        document.querySelector('#id_32b1f84e-de73-4a34-95a1-f909b82ffe20 button.colab-df-generate');\n",
              "      buttonEl.style.display =\n",
              "        google.colab.kernel.accessAllowed ? 'block' : 'none';\n",
              "\n",
              "      buttonEl.onclick = () => {\n",
              "        google.colab.notebook.generateWithVariable('full_train_data');\n",
              "      }\n",
              "      })();\n",
              "    </script>\n",
              "  </div>\n",
              "\n",
              "    </div>\n",
              "  </div>\n"
            ],
            "application/vnd.google.colaboratory.intrinsic+json": {
              "type": "dataframe",
              "variable_name": "full_train_data",
              "summary": "{\n  \"name\": \"full_train_data\",\n  \"rows\": 70405,\n  \"fields\": [\n    {\n      \"column\": \"Dialogue\",\n      \"properties\": {\n        \"dtype\": \"string\",\n        \"num_unique_values\": 62770,\n        \"samples\": [\n          \" Naked alone time.\",\n          \" You know what, he's a big boy, I'm sure he'll find us, ok?\",\n          \" Sweetie, this conversation is starting to make me a little uncomfortable.\"\n        ],\n        \"semantic_type\": \"\",\n        \"description\": \"\"\n      }\n    },\n    {\n      \"column\": \"Character\",\n      \"properties\": {\n        \"dtype\": \"category\",\n        \"num_unique_values\": 10,\n        \"samples\": [\n          \"rachel\",\n          \"phoebe\",\n          \"monica\"\n        ],\n        \"semantic_type\": \"\",\n        \"description\": \"\"\n      }\n    },\n    {\n      \"column\": \"Episode\",\n      \"properties\": {\n        \"dtype\": \"category\",\n        \"num_unique_values\": 398,\n        \"samples\": [\n          \"Season-09 Episode-18-The One With The Lottery\",\n          \"Season-02 Episode-02-The One With the Breast Milk\",\n          \"Season-01 Episode-01-The One Where Monica Gets a New Roommate (The Pilot)\"\n        ],\n        \"semantic_type\": \"\",\n        \"description\": \"\"\n      }\n    },\n    {\n      \"column\": \"Show\",\n      \"properties\": {\n        \"dtype\": \"category\",\n        \"num_unique_values\": 2,\n        \"samples\": [\n          \"Seinfeld\",\n          \"Friends\"\n        ],\n        \"semantic_type\": \"\",\n        \"description\": \"\"\n      }\n    },\n    {\n      \"column\": \"Dialogue_length\",\n      \"properties\": {\n        \"dtype\": \"number\",\n        \"std\": 12,\n        \"min\": 1,\n        \"max\": 363,\n        \"num_unique_values\": 163,\n        \"samples\": [\n          182,\n          154\n        ],\n        \"semantic_type\": \"\",\n        \"description\": \"\"\n      }\n    }\n  ]\n}"
            }
          },
          "metadata": {},
          "execution_count": 94
        }
      ]
    },
    {
      "cell_type": "markdown",
      "source": [
        "Before moving on looking at the data, let's check for missing values:"
      ],
      "metadata": {
        "id": "JceRWRP-P2VF"
      }
    },
    {
      "cell_type": "code",
      "source": [
        "# Train set\n",
        "missing_values_count = full_train_data.isnull().sum()\n",
        "print(\"Missing values count per column in train data:\")\n",
        "print(missing_values_count)"
      ],
      "metadata": {
        "id": "_Ax2uMAG3Afh",
        "outputId": "7017f3cb-d68b-4faa-9e7f-a41cfdfbd2ee",
        "colab": {
          "base_uri": "https://localhost:8080/"
        }
      },
      "execution_count": 95,
      "outputs": [
        {
          "output_type": "stream",
          "name": "stdout",
          "text": [
            "Missing values count per column in train data:\n",
            "Dialogue           0\n",
            "Character          0\n",
            "Episode            0\n",
            "Show               0\n",
            "Dialogue_length    0\n",
            "dtype: int64\n"
          ]
        }
      ]
    },
    {
      "cell_type": "code",
      "source": [
        "# Test set\n",
        "missing_values_count = full_test_data.isnull().sum()\n",
        "print(\"Missing values count per column in test data:\")\n",
        "print(missing_values_count)"
      ],
      "metadata": {
        "id": "5ATzDNXbQQVo",
        "outputId": "df80a8d9-641d-437a-db8a-5bff5be8eefd",
        "colab": {
          "base_uri": "https://localhost:8080/"
        }
      },
      "execution_count": 96,
      "outputs": [
        {
          "output_type": "stream",
          "name": "stdout",
          "text": [
            "Missing values count per column in test data:\n",
            "Dialogue           0\n",
            "Character          0\n",
            "Episode            0\n",
            "Show               0\n",
            "Dialogue_length    0\n",
            "dtype: int64\n"
          ]
        }
      ]
    },
    {
      "cell_type": "markdown",
      "source": [
        "No missing values found!"
      ],
      "metadata": {
        "id": "MClDaLoGQfIy"
      }
    },
    {
      "cell_type": "markdown",
      "source": [
        "Checking whether the train data is balanced:"
      ],
      "metadata": {
        "id": "uBoWMAkRQmdL"
      }
    },
    {
      "source": [
        "# Grouping by 'Show' and getting size\n",
        "grouped_data = full_train_data.groupby('Show').size()\n",
        "\n",
        "plt.figure(figsize=(4, 3))  # Adjust width and height as needed\n",
        "\n",
        "# Plotting the grouped data\n",
        "ax = grouped_data.plot(kind='barh', color=sns.palettes.mpl_palette('Dark2'))\n",
        "# Removing top and right spines\n",
        "ax.spines['top'].set_visible(False)\n",
        "ax.spines['right'].set_visible(False)\n",
        "\n",
        "# Adding count numbers near the plots with slight adjustments\n",
        "for i, count in enumerate(grouped_data):\n",
        "    ax.text(count + 0.1, i, str(count), va='center', ha='left')\n",
        "\n",
        "# Adding title\n",
        "plt.title(\"Number of Dialogues by Show\")\n",
        "\n",
        "plt.show()"
      ],
      "cell_type": "code",
      "execution_count": 97,
      "outputs": [
        {
          "output_type": "display_data",
          "data": {
            "text/plain": [
              "<Figure size 400x300 with 1 Axes>"
            ],
            "image/png": "[encoded data removed]"
          },
          "metadata": {}
        }
      ],
      "metadata": {
        "colab": {
          "base_uri": "https://localhost:8080/",
          "height": 314
        },
        "id": "6KfR80CxQzN1",
        "outputId": "7fea5470-8ab7-4e2d-a9bb-0eeeb6513545"
      }
    },
    {
      "cell_type": "markdown",
      "source": [
        "Looks like \"Friends\" has sligthly more dialouges than \"Seinfeld\", but overall it looks pretty balanced.\n",
        "\n",
        "But we are expecting to see better results for \"Friends\" since there are more samples to learn from."
      ],
      "metadata": {
        "id": "KpUFYiyWQuAt"
      }
    },
    {
      "cell_type": "code",
      "source": [
        "# Dialouge exmaple\n",
        "full_train_data.iloc[1, 0]"
      ],
      "metadata": {
        "colab": {
          "base_uri": "https://localhost:8080/",
          "height": 36
        },
        "id": "eLwWVoqsSdFo",
        "outputId": "070e4316-d7d2-4a10-b00d-e7c4c2d7fe8c"
      },
      "execution_count": 98,
      "outputs": [
        {
          "output_type": "execute_result",
          "data": {
            "text/plain": [
              "' (to Joey) Are you gonna be embarrassed going up there having nothing prepared?'"
            ],
            "application/vnd.google.colaboratory.intrinsic+json": {
              "type": "string"
            }
          },
          "metadata": {},
          "execution_count": 98
        }
      ]
    },
    {
      "cell_type": "markdown",
      "source": [
        "Let's look at the number of dialogues each character has in its show:"
      ],
      "metadata": {
        "id": "il4Z_aaLRnpb"
      }
    },
    {
      "cell_type": "code",
      "source": [
        "# Define a function to plot histogram with count numbers\n",
        "def plot_histogram_with_counts(ax, data, title, xlabel, ylabel, color):\n",
        "    bars = ax.bar(data.index, data.values, color=color)\n",
        "    ax.set_title(title)\n",
        "    ax.set_xlabel(xlabel)\n",
        "    ax.set_ylabel(ylabel)\n",
        "    ax.set_xticks(data.index)\n",
        "    ax.set_xticklabels(data.index, rotation=45)\n",
        "    ax.grid(axis='y', linestyle='--', alpha=0.7)\n",
        "    # Adding count numbers above each column\n",
        "    for bar in bars:\n",
        "        height = bar.get_height()\n",
        "        ax.text(bar.get_x() + bar.get_width() / 2.0, height, '%d' % int(height), ha='center', va='bottom')\n"
      ],
      "metadata": {
        "id": "T4Cn4QJFTeQL"
      },
      "execution_count": 99,
      "outputs": []
    },
    {
      "cell_type": "code",
      "source": [
        "# Filter data for Seinfeld\n",
        "seinfeld_df = full_train_data[full_train_data['Show'] == 'Seinfeld']\n",
        "# Group by character and count dialogues\n",
        "seinfeld_character_counts = seinfeld_df['Character'].value_counts()\n",
        "\n",
        "# Filter data for Friends\n",
        "friends_df = full_train_data[full_train_data['Show'] == 'Friends']\n",
        "# Group by character and count dialogues\n",
        "friends_character_counts = friends_df['Character'].value_counts()\n",
        "\n",
        "# Create subplots\n",
        "fig, axes = plt.subplots(1, 2, figsize=(12, 5))\n",
        "\n",
        "# Plot histogram for Seinfeld\n",
        "plot_histogram_with_counts(axes[0], seinfeld_character_counts, 'Number of Dialogues per Character in Seinfeld', 'Character', 'Number of Dialogues', 'skyblue')\n",
        "\n",
        "# Plot histogram for Friends\n",
        "plot_histogram_with_counts(axes[1], friends_character_counts, 'Number of Dialogues per Character in Friends', 'Character', 'Number of Dialogues', 'salmon')\n",
        "\n",
        "plt.tight_layout()\n",
        "plt.show()"
      ],
      "metadata": {
        "colab": {
          "base_uri": "https://localhost:8080/",
          "height": 507
        },
        "id": "6ptFZ2nSTFwc",
        "outputId": "b3d8775a-1c32-4b8a-f537-76ac82833b8c"
      },
      "execution_count": 100,
      "outputs": [
        {
          "output_type": "display_data",
          "data": {
            "text/plain": [
              "<Figure size 1200x500 with 2 Axes>"
            ],
            "image/png": "[encoded data removed]"
          },
          "metadata": {}
        }
      ]
    },
    {
      "cell_type": "markdown",
      "source": [
        "We can see that: <br>\n",
        "Seinfeld - Jerry has much more dialogues than the others. <br>\n",
        "Friends - the number of dialogues is more balanced."
      ],
      "metadata": {
        "id": "A34NaUcTR8dF"
      }
    },
    {
      "cell_type": "code",
      "source": [
        "# Dialogues Length Distribution\n",
        "# Plotting the distribution of dialogue lengths for each show to understand the typical length of dialogues\n",
        "\n",
        "def plot_dialogue_length_distribution(data, show_name):\n",
        "    show_data = data[data['Show'] == show_name]\n",
        "    dialogue_lengths = show_data['Dialogue'].apply(lambda x: len(x.split()))\n",
        "\n",
        "    plt.figure(figsize=(7, 4))\n",
        "    plt.hist(dialogue_lengths, bins=30, color='skyblue', edgecolor='black')\n",
        "    plt.title(f'Dialogue Length Distribution for {show_name}')\n",
        "    plt.xlabel('Number of Words')\n",
        "    plt.ylabel('Frequency')\n",
        "    plt.grid(axis='y', alpha=0.75)\n",
        "    plt.show()\n",
        "\n",
        "# Example usage\n",
        "plot_dialogue_length_distribution(full_train_data, 'Seinfeld')\n",
        "plot_dialogue_length_distribution(full_train_data, 'Friends')\n"
      ],
      "metadata": {
        "id": "jBZ1lEzQmxBe",
        "outputId": "2119e298-ac96-4304-94b2-14a2fe2489f9",
        "colab": {
          "base_uri": "https://localhost:8080/",
          "height": 803
        }
      },
      "execution_count": 101,
      "outputs": [
        {
          "output_type": "display_data",
          "data": {
            "text/plain": [
              "<Figure size 700x400 with 1 Axes>"
            ],
            "image/png": "[encoded data removed]"
          },
          "metadata": {}
        },
        {
          "output_type": "display_data",
          "data": {
            "text/plain": [
              "<Figure size 700x400 with 1 Axes>"
            ],
            "image/png": "[encoded data removed]"
          },
          "metadata": {}
        }
      ]
    },
    {
      "cell_type": "markdown",
      "source": [
        "We can see that most of the sentences are short at both shows."
      ],
      "metadata": {
        "id": "ThbHWOwmTKVr"
      }
    },
    {
      "cell_type": "code",
      "source": [
        "# Function that finds the most common words\n",
        "def count_words_custom(col):\n",
        "    # Create an empty dictionary to store word counts\n",
        "    word_counts = {}\n",
        "\n",
        "    # Iterate over each row in the column\n",
        "    for row in col:\n",
        "        # Convert dialogue to lowercase and split into words\n",
        "        words = row.lower().split()\n",
        "\n",
        "        # Iterate over each word in the row\n",
        "        for word in words:\n",
        "            # Update word count dictionary\n",
        "            word_counts[word] = word_counts.get(word, 0) + 1\n",
        "\n",
        "    # Sort word counts by value in descending order\n",
        "    sorted_word_counts = sorted(word_counts.items(), key=lambda x: x[1], reverse=True)\n",
        "\n",
        "    # Extract top 20 words and their counts\n",
        "    top_words = [word for word, count in sorted_word_counts[:20]]\n",
        "    top_counts = [count for word, count in sorted_word_counts[:20]]\n",
        "\n",
        "    # Plot bar chart\n",
        "    plt.figure(figsize=(15, 5))\n",
        "    plt.bar(top_words, top_counts)\n",
        "    plt.xlabel('Words')\n",
        "    plt.ylabel('Frequency')\n",
        "    plt.title('Top 20 Most Common Words')\n",
        "    plt.xticks(rotation=45)\n",
        "    plt.show()"
      ],
      "metadata": {
        "id": "Kw_m1SYRU4Eb"
      },
      "execution_count": 102,
      "outputs": []
    },
    {
      "cell_type": "code",
      "source": [
        "count_words_custom(full_train_data['Dialogue'])"
      ],
      "metadata": {
        "colab": {
          "base_uri": "https://localhost:8080/",
          "height": 486
        },
        "id": "Dz2mUYSdVYmS",
        "outputId": "060d2679-26d0-4384-e9b6-8c2836acb503"
      },
      "execution_count": 103,
      "outputs": [
        {
          "output_type": "display_data",
          "data": {
            "text/plain": [
              "<Figure size 1500x500 with 1 Axes>"
            ],
            "image/png": "[encoded data removed]"
          },
          "metadata": {}
        }
      ]
    },
    {
      "cell_type": "markdown",
      "source": [
        "We can see that all the most common words are Stop Words. We want to see the frequency without them.\n",
        "\n",
        "For that we will implement data preprocessing steps:"
      ],
      "metadata": {
        "id": "Q3DxpmkCW-KG"
      }
    },
    {
      "cell_type": "markdown",
      "source": [
        "## Text cleaning"
      ],
      "metadata": {
        "id": "YahuK9cqYcyC"
      }
    },
    {
      "cell_type": "code",
      "source": [
        "# Removing the square brackets\n",
        "def remove_between_square_brackets(text):\n",
        "    return re.sub('\\[[^]]*\\]', '', text)"
      ],
      "metadata": {
        "id": "H_DFwqgCeDRz"
      },
      "execution_count": 104,
      "outputs": []
    },
    {
      "cell_type": "code",
      "source": [
        "# Apply function on 'Dialogue' column\n",
        "full_train_data['Dialogue'] = full_train_data['Dialogue'].apply(remove_between_square_brackets)\n",
        "full_test_data['Dialogue'] = full_test_data['Dialogue'].apply(remove_between_square_brackets)"
      ],
      "metadata": {
        "id": "vZ28NjFJeFiS"
      },
      "execution_count": 105,
      "outputs": []
    },
    {
      "cell_type": "code",
      "source": [
        "full_train_data.iloc[1, 0]"
      ],
      "metadata": {
        "colab": {
          "base_uri": "https://localhost:8080/",
          "height": 36
        },
        "id": "WU0e7veoehPe",
        "outputId": "a31fa2a6-f712-401e-96f1-bfc6fdf72f17"
      },
      "execution_count": 106,
      "outputs": [
        {
          "output_type": "execute_result",
          "data": {
            "text/plain": [
              "' (to Joey) Are you gonna be embarrassed going up there having nothing prepared?'"
            ],
            "application/vnd.google.colaboratory.intrinsic+json": {
              "type": "string"
            }
          },
          "metadata": {},
          "execution_count": 106
        }
      ]
    },
    {
      "cell_type": "markdown",
      "source": [
        "## Special character removal"
      ],
      "metadata": {
        "id": "rktALPaIYimc"
      }
    },
    {
      "cell_type": "code",
      "source": [
        "# Define function for removing special characters\n",
        "def remove_special_characters(text):\n",
        "    pattern = r'[^a-zA-Z0-9\\s]'\n",
        "    text = re.sub(pattern,'',text)\n",
        "    return text"
      ],
      "metadata": {
        "id": "Ar-QeINgYjAO"
      },
      "execution_count": 107,
      "outputs": []
    },
    {
      "cell_type": "code",
      "source": [
        "# Apply function on Dialogue column\n",
        "full_train_data['Dialogue'] = full_train_data['Dialogue'].apply(remove_special_characters)\n",
        "full_test_data['Dialogue'] = full_test_data['Dialogue'].apply(remove_special_characters)"
      ],
      "metadata": {
        "id": "Qr9vWxCeekRR"
      },
      "execution_count": 108,
      "outputs": []
    },
    {
      "cell_type": "code",
      "source": [
        "full_train_data.iloc[1, 0]"
      ],
      "metadata": {
        "colab": {
          "base_uri": "https://localhost:8080/",
          "height": 36
        },
        "id": "CdjVNWb1eoKE",
        "outputId": "4168aaef-ad1f-413d-a3cf-9da012a90b97"
      },
      "execution_count": 109,
      "outputs": [
        {
          "output_type": "execute_result",
          "data": {
            "text/plain": [
              "' to Joey Are you gonna be embarrassed going up there having nothing prepared'"
            ],
            "application/vnd.google.colaboratory.intrinsic+json": {
              "type": "string"
            }
          },
          "metadata": {},
          "execution_count": 109
        }
      ]
    },
    {
      "cell_type": "markdown",
      "source": [
        "## Stop words removal"
      ],
      "metadata": {
        "id": "oI-pgoYYYnZe"
      }
    },
    {
      "cell_type": "markdown",
      "source": [
        "We will use the NLTK in order to find all the English stop words and take a look at a few of them:"
      ],
      "metadata": {
        "id": "d0KsvHede3s3"
      }
    },
    {
      "cell_type": "code",
      "source": [
        "nltk.download('stopwords')\n",
        "stopword_list = nltk.corpus.stopwords.words('english')\n",
        "print('Number of English stop words:', len(stopword_list))\n",
        "print(stopword_list[:5])"
      ],
      "metadata": {
        "colab": {
          "base_uri": "https://localhost:8080/"
        },
        "id": "nJT4oS2iYnt6",
        "outputId": "792e775a-71ca-40ae-9d03-27c717b924d1"
      },
      "execution_count": 110,
      "outputs": [
        {
          "output_type": "stream",
          "name": "stdout",
          "text": [
            "Number of English stop words: 179\n",
            "['i', 'me', 'my', 'myself', 'we']\n"
          ]
        },
        {
          "output_type": "stream",
          "name": "stderr",
          "text": [
            "[nltk_data] Downloading package stopwords to /root/nltk_data...\n",
            "[nltk_data]   Package stopwords is already up-to-date!\n"
          ]
        }
      ]
    },
    {
      "cell_type": "code",
      "execution_count": 111,
      "metadata": {
        "id": "FkD9sOUQd0CU"
      },
      "outputs": [],
      "source": [
        "# Adding a progress bar to the output\n",
        "tqdm.pandas()\n",
        "\n",
        "# Function that removes the stop words from a given text\n",
        "def remove_stopwords(text, is_lower_case=False):\n",
        "    tokenizer = ToktokTokenizer()\n",
        "    tokens = tokenizer.tokenize(text)\n",
        "    tokens = [token.strip() for token in tokens]\n",
        "    if is_lower_case:\n",
        "        filtered_tokens = [token for token in tokens if token not in stopword_list]\n",
        "    else:\n",
        "        filtered_tokens = [token for token in tokens if token.lower() not in stopword_list]\n",
        "    filtered_text = ' '.join(filtered_tokens)\n",
        "    return filtered_text"
      ]
    },
    {
      "cell_type": "code",
      "source": [
        "# Apply function on Dialogue column\n",
        "full_train_data['Dialogue'] = full_train_data['Dialogue'].progress_apply(remove_stopwords)\n",
        "full_test_data['Dialogue'] = full_test_data['Dialogue'].progress_apply(remove_stopwords)"
      ],
      "metadata": {
        "colab": {
          "base_uri": "https://localhost:8080/",
          "height": 81,
          "referenced_widgets": [
            "b3ed6c2aabb342549a3d624e4e1cd822",
            "0031ee5778ae42988a4c866a90b69e61",
            "bea8a4d6197d4f6a99f2f7f937745481",
            "5f2c0dd1eaad497b8ec20ef8e14b1c00",
            "649ead59a74149cb9e9e69b29bc2b911",
            "ca5ec86f2b604ebfa982f50b01571c18",
            "6868803394a8453596a0c92e60368206",
            "eb9c3d89747a4c4695e37817c14442b2",
            "c6e7ebb5e8004a4787800b5f8395d7f1",
            "463c2ecdebc143868ea4ba9d8214edb5",
            "2991440c14074366928b68cd3e9adb6d",
            "c1bd0d388c744ee1beef7cbb129f069b",
            "92a854e0919741139c3069863a32192e",
            "70db3cd2a46946df869aa808cd8238d0",
            "97c962fbce1d44d4ac695dfdc2afdd73",
            "88f750a6a04b48b698e6295424491ccd",
            "829d7b0b20a54d2785985022ecc8c9a8",
            "77f64be523ea406b9322155648c1536c",
            "fc1435f46e2644f682f228e23d6f13e7",
            "f24b57defe374163a2348f39e93cea9a",
            "1638e5fe433b4d1cbf73c9970e88c09f",
            "c7b7ec6a50e5496a93e8b2333696cb59"
          ]
        },
        "id": "2CqzTFVmf9aC",
        "outputId": "129b8be8-09f0-4d58-ce57-bcecca02ac54"
      },
      "execution_count": 112,
      "outputs": [
        {
          "output_type": "display_data",
          "data": {
            "text/plain": [
              "  0%|          | 0/70405 [00:00<?, ?it/s]"
            ],
            "application/vnd.jupyter.widget-view+json": {
              "version_major": 2,
              "version_minor": 0,
              "model_id": "b3ed6c2aabb342549a3d624e4e1cd822"
            }
          },
          "metadata": {}
        },
        {
          "output_type": "display_data",
          "data": {
            "text/plain": [
              "  0%|          | 0/4245 [00:00<?, ?it/s]"
            ],
            "application/vnd.jupyter.widget-view+json": {
              "version_major": 2,
              "version_minor": 0,
              "model_id": "c1bd0d388c744ee1beef7cbb129f069b"
            }
          },
          "metadata": {}
        }
      ]
    },
    {
      "cell_type": "code",
      "execution_count": 113,
      "metadata": {
        "colab": {
          "base_uri": "https://localhost:8080/",
          "height": 36
        },
        "id": "UUzvGzoUejo1",
        "outputId": "56c49db9-582b-4e32-dc27-db391ff15640"
      },
      "outputs": [
        {
          "output_type": "execute_result",
          "data": {
            "text/plain": [
              "'Joey gonna embarrassed going nothing prepared'"
            ],
            "application/vnd.google.colaboratory.intrinsic+json": {
              "type": "string"
            }
          },
          "metadata": {},
          "execution_count": 113
        }
      ],
      "source": [
        "full_train_data.iloc[1, 0]"
      ]
    },
    {
      "cell_type": "markdown",
      "source": [
        "Now we can run the word count again and see the desired plotting:"
      ],
      "metadata": {
        "id": "NRXr2Ph8iLhL"
      }
    },
    {
      "cell_type": "code",
      "source": [
        "# TODO\n",
        "# TO CHECK THESE WORDS : IM,  OH , AH"
      ],
      "metadata": {
        "id": "o6Nh9ShOVoKf"
      },
      "execution_count": 114,
      "outputs": []
    },
    {
      "cell_type": "code",
      "source": [
        "count_words_custom(full_train_data['Dialogue'])"
      ],
      "metadata": {
        "colab": {
          "base_uri": "https://localhost:8080/",
          "height": 497
        },
        "id": "YPDmlHUgiZrT",
        "outputId": "79357c3c-16bf-4be4-a7a5-9b49a6571f9c"
      },
      "execution_count": 115,
      "outputs": [
        {
          "output_type": "display_data",
          "data": {
            "text/plain": [
              "<Figure size 1500x500 with 1 Axes>"
            ],
            "image/png": "[encoded data removed]"
          },
          "metadata": {}
        }
      ]
    },
    {
      "cell_type": "markdown",
      "source": [
        "Now we can see that there are no more stop words from the english corpus left."
      ],
      "metadata": {
        "id": "Y0jDU5neVret"
      }
    },
    {
      "cell_type": "markdown",
      "metadata": {
        "id": "Tdei7JlEc_Ea"
      },
      "source": [
        "## Stemming"
      ]
    },
    {
      "cell_type": "code",
      "execution_count": 116,
      "metadata": {
        "id": "ZwTzs7SLlaTI"
      },
      "outputs": [],
      "source": [
        "# Stemming the text\n",
        "def simple_stemmer(text):\n",
        "    ps = nltk.porter.PorterStemmer()\n",
        "    text = ' '.join([ps.stem(word) for word in text.split()])\n",
        "    return text"
      ]
    },
    {
      "cell_type": "code",
      "source": [
        "# Apply function on Dialogue column\n",
        "full_train_data['Dialogue'] = full_train_data['Dialogue'].progress_apply(simple_stemmer)\n",
        "full_test_data['Dialogue'] = full_test_data['Dialogue'].progress_apply(simple_stemmer)"
      ],
      "metadata": {
        "id": "7QY6vNm3WNCa",
        "outputId": "23fcc16d-6e2a-4c63-a07c-2512b8e82e23",
        "colab": {
          "base_uri": "https://localhost:8080/",
          "height": 81,
          "referenced_widgets": [
            "736f06f37a93421d9cb4cf181395f793",
            "fbb315885ca94c7cbd32a100a207c1de",
            "ba90609a36ba4cd0adba005cf8ee35f0",
            "743fb70e6cfb4cfe9fc329cb4d7cb8e4",
            "7c5457f5d3584ae5bd964294eaf1d159",
            "56492ebad62e4fc5b4a9d6385abbee46",
            "9dd8d45a49614692a0de90a53daf2386",
            "8e6ca97508a44dea891d482cb0513a5b",
            "d258f5c77fef43cf9548319609a63aa4",
            "4b87527e993d4f02b6160979234c297a",
            "cdf30ca0e9fb44ee8201ea7fbe105a11",
            "a2a41bbc4eb6455498c8749554b48f51",
            "f2d39b9755e84d1c8fb476b95c80c6be",
            "00ed519d42d24cd8a2cbb2422c2e8e5c",
            "b6342ff5e5964f39b9a1a0f4747f6d0a",
            "abfa25e853dc4be78ee793ddb3cdf009",
            "31a8b474c1ff47eb871b4f1e24a56550",
            "bda2a62b46bc45639f86b0dce1873937",
            "3e2d2baae50547929f91d3c9a14fa76d",
            "b96d25908d424c098ccb1610957a8935",
            "cd42368e97be4a838e2cd657486c445a",
            "5fb952731bda45c1a1195467d3f676fc"
          ]
        }
      },
      "execution_count": 117,
      "outputs": [
        {
          "output_type": "display_data",
          "data": {
            "text/plain": [
              "  0%|          | 0/70405 [00:00<?, ?it/s]"
            ],
            "application/vnd.jupyter.widget-view+json": {
              "version_major": 2,
              "version_minor": 0,
              "model_id": "736f06f37a93421d9cb4cf181395f793"
            }
          },
          "metadata": {}
        },
        {
          "output_type": "display_data",
          "data": {
            "text/plain": [
              "  0%|          | 0/4245 [00:00<?, ?it/s]"
            ],
            "application/vnd.jupyter.widget-view+json": {
              "version_major": 2,
              "version_minor": 0,
              "model_id": "a2a41bbc4eb6455498c8749554b48f51"
            }
          },
          "metadata": {}
        }
      ]
    },
    {
      "cell_type": "code",
      "execution_count": 46,
      "metadata": {
        "colab": {
          "base_uri": "https://localhost:8080/",
          "height": 36
        },
        "id": "qGFPlnD_ZE8d",
        "outputId": "0ab6a5d9-b503-405d-ecd7-3292add807e3"
      },
      "outputs": [
        {
          "output_type": "execute_result",
          "data": {
            "text/plain": [
              "'joey gonna embarrass go noth prepar'"
            ],
            "application/vnd.google.colaboratory.intrinsic+json": {
              "type": "string"
            }
          },
          "metadata": {},
          "execution_count": 46
        }
      ],
      "source": [
        "full_train_data.iloc[1, 0]"
      ]
    },
    {
      "cell_type": "markdown",
      "metadata": {
        "id": "mG1TBityfg1-"
      },
      "source": [
        "## Train-test-validation split"
      ]
    },
    {
      "cell_type": "code",
      "execution_count": 118,
      "metadata": {
        "id": "mc3bdh1CHGtw"
      },
      "outputs": [],
      "source": [
        "X_train = full_train_data['Dialogue']\n",
        "X_test = full_test_data['Dialogue']\n",
        "y_train = full_train_data['Show']\n",
        "y_test = full_test_data['Show']"
      ]
    },
    {
      "cell_type": "code",
      "source": [
        "# Train-Validation split\n",
        "X_train, X_val, y_train, y_val = train_test_split(X_train, y_train, test_size=0.2, random_state=42)\n",
        "\n",
        "print('x_train shape:', X_train.shape)\n",
        "print('y_train shape:', y_train.shape)\n",
        "print('\\nx_test shape:', X_test.shape)\n",
        "print('y_test shape:', y_test.shape)\n",
        "print('\\nx_val shape:', X_val.shape)\n",
        "print('y_val shape:', y_val.shape)"
      ],
      "metadata": {
        "id": "5yrZmcPJrmQa",
        "outputId": "0505def5-4189-4b22-9d6a-557f433739f7",
        "colab": {
          "base_uri": "https://localhost:8080/"
        }
      },
      "execution_count": 121,
      "outputs": [
        {
          "output_type": "stream",
          "name": "stdout",
          "text": [
            "x_train shape: (36047,)\n",
            "y_train shape: (36047,)\n",
            "\n",
            "x_test shape: (4245,)\n",
            "y_test shape: (4245,)\n",
            "\n",
            "x_val shape: (9012,)\n",
            "y_val shape: (9012,)\n"
          ]
        }
      ]
    },
    {
      "cell_type": "markdown",
      "source": [
        "## Labeling"
      ],
      "metadata": {
        "id": "EIruMKat5Rx3"
      }
    },
    {
      "cell_type": "markdown",
      "source": [
        "We will change the labels \"Friends\" and \"Seinfeld\" to 1 and 0 accordingly:"
      ],
      "metadata": {
        "id": "ehRmXgBeXZ0N"
      }
    },
    {
      "cell_type": "code",
      "source": [
        "# Making sure that there are only two unique labels\n",
        "unique_shows = full_train_data['Show'].unique()\n",
        "print(\"Unique values in the 'show' column:\")\n",
        "print(unique_shows)"
      ],
      "metadata": {
        "id": "DRvT9XaK33Bw",
        "outputId": "b112c4d3-cc12-4302-b1fa-1e46358c6b16",
        "colab": {
          "base_uri": "https://localhost:8080/"
        }
      },
      "execution_count": 122,
      "outputs": [
        {
          "output_type": "stream",
          "name": "stdout",
          "text": [
            "Unique values in the 'show' column:\n",
            "['Friends' 'Seinfeld']\n"
          ]
        }
      ]
    },
    {
      "cell_type": "markdown",
      "source": [
        "As we saw above - we have only 2 values in 'Show' columns : Friends and Seindfeld. <br>\n",
        "Therefore we will change our lable into binary numbers : Seinfeld = 0 , Friends = 1"
      ],
      "metadata": {
        "id": "lTQ1XhTGXzcp"
      }
    },
    {
      "cell_type": "code",
      "source": [
        "custom_labels = ['Seinfeld', 'Friends']\n",
        "\n",
        "# Initialize LabelBinarizer\n",
        "lb = LabelBinarizer()\n",
        "\n",
        "# Fit and transform custom labels\n",
        "binary_labels = lb.fit_transform(custom_labels)\n",
        "\n",
        "lb = LabelBinarizer()\n",
        "y_train = lb.fit_transform(y_train)\n",
        "y_test = lb.transform(y_test)\n",
        "y_val = lb.transform(y_val)"
      ],
      "metadata": {
        "id": "lnPv7VT12dKP"
      },
      "execution_count": 126,
      "outputs": []
    },
    {
      "cell_type": "markdown",
      "source": [
        "## Bag Of Words"
      ],
      "metadata": {
        "id": "Rh7H8mrM5o2c"
      }
    },
    {
      "cell_type": "markdown",
      "source": [
        "TODO"
      ],
      "metadata": {
        "id": "BYdIzpF_Vmsi"
      }
    },
    {
      "cell_type": "code",
      "execution_count": 51,
      "metadata": {
        "id": "L5MWZVBWfTe3"
      },
      "outputs": [],
      "source": [
        "#cv = CountVectorizer(analyzer='word')\n",
        "\n",
        "#x_train_cv = cv.fit_transform(X_train)\n",
        "#x_test_cv = cv.transform(X_test)\n",
        "#x_val_cv = cv.transform(X_val)\n",
        "\n",
        "#print('x_train_cv:', x_train_cv.shape)\n",
        "#print('x_test_cv:', x_test_cv.shape)\n",
        "#print('x_val_cv:', x_val_cv.shape)"
      ]
    },
    {
      "cell_type": "markdown",
      "metadata": {
        "id": "HF2-01BmhLlF"
      },
      "source": [
        "And now each sample is a sparse Numpy matrix:"
      ]
    },
    {
      "cell_type": "code",
      "execution_count": 52,
      "metadata": {
        "id": "l9z0FxQng_58"
      },
      "outputs": [],
      "source": [
        "#x_train_cv[0]"
      ]
    },
    {
      "cell_type": "code",
      "execution_count": 53,
      "metadata": {
        "id": "Mu5iDAP8H4Q2"
      },
      "outputs": [],
      "source": [
        "#print(x_train_cv[0])"
      ]
    },
    {
      "cell_type": "markdown",
      "metadata": {
        "id": "Uz8y6fvWhtdA"
      },
      "source": [
        "##TF-IDF"
      ]
    },
    {
      "cell_type": "markdown",
      "source": [
        "TODO"
      ],
      "metadata": {
        "id": "goSB4_nQVkpj"
      }
    },
    {
      "cell_type": "markdown",
      "metadata": {
        "id": "40C4348dQfqF"
      },
      "source": [
        "This is another way to convert the data to a numerical format. Like BoW, this algorithm is based on a term's popularity. However, its score is negatively correlated with its popularity in all documents.\n",
        "\n",
        "This time we're going to use only 5K different terms as a cut-off."
      ]
    },
    {
      "cell_type": "code",
      "execution_count": 54,
      "metadata": {
        "id": "1IObjHZBhfo8"
      },
      "outputs": [],
      "source": [
        "# #from sklearn.feature_extraction.text import TfidfVectorizer\n",
        "# #tv = TfidfVectorizer(analyzer='word', max_features=5000)\n",
        "\n",
        "# #x_train_tv = tv.fit_transform(X_train)\n",
        "# x_test_tv = tv.transform(X_test)\n",
        "# x_val_tv = tv.transform(X_val)\n",
        "\n",
        "# print('x_train_tv:', x_train_tv.shape)\n",
        "# print('x_test_tv:', x_test_tv.shape)\n",
        "# print('x_val_tv:', x_val_tv.shape)"
      ]
    },
    {
      "cell_type": "markdown",
      "metadata": {
        "id": "9a4qPCZtRMih"
      },
      "source": [
        "Once again we have a sparse matrix:"
      ]
    },
    {
      "cell_type": "code",
      "execution_count": 55,
      "metadata": {
        "id": "b50xNOABlkAA"
      },
      "outputs": [],
      "source": [
        "# x_train_tv[0]"
      ]
    },
    {
      "cell_type": "markdown",
      "metadata": {
        "id": "0weJDeh9RPsd"
      },
      "source": [
        "Containing continuous values between [0, 1]:"
      ]
    },
    {
      "cell_type": "code",
      "execution_count": 56,
      "metadata": {
        "id": "kAVw1u5GLLfI"
      },
      "outputs": [],
      "source": [
        "#print(x_train_tv[0])"
      ]
    },
    {
      "cell_type": "markdown",
      "source": [
        "# Modeling"
      ],
      "metadata": {
        "id": "_58J58NQVpBV"
      }
    },
    {
      "cell_type": "markdown",
      "metadata": {
        "id": "19YCaSiXWrlj"
      },
      "source": [
        "Keras' tokenizer :\n",
        "( Coverting words in the sentence into number representation )  "
      ]
    },
    {
      "cell_type": "code",
      "execution_count": 57,
      "metadata": {
        "id": "VhHiKKoVMJI0"
      },
      "outputs": [],
      "source": [
        "token = Tokenizer(lower=False)\n",
        "token.fit_on_texts(X_train)"
      ]
    },
    {
      "cell_type": "code",
      "execution_count": 58,
      "metadata": {
        "id": "LsGkOFx3Mp5q"
      },
      "outputs": [],
      "source": [
        "X_train = token.texts_to_sequences(X_train)\n",
        "X_val = token.texts_to_sequences(X_val)\n",
        "X_test = token.texts_to_sequences(X_test)"
      ]
    },
    {
      "cell_type": "code",
      "execution_count": 59,
      "metadata": {
        "colab": {
          "base_uri": "https://localhost:8080/"
        },
        "id": "417ed_qcXzTT",
        "outputId": "4cd2edd1-dd66-4f8b-ca2a-d88fddded632"
      },
      "outputs": [
        {
          "output_type": "execute_result",
          "data": {
            "text/plain": [
              "[91, 419, 41, 31, 791, 117, 174, 519, 8, 354, 244]"
            ]
          },
          "metadata": {},
          "execution_count": 59
        }
      ],
      "source": [
        "# Example\n",
        "X_train[0]"
      ]
    },
    {
      "cell_type": "markdown",
      "metadata": {
        "id": "_8RkUYqCYNFh"
      },
      "source": [
        "Fix Size for all input vectors :"
      ]
    },
    {
      "cell_type": "code",
      "execution_count": 60,
      "metadata": {
        "id": "SiyF_j3XYF4R",
        "outputId": "62ff285a-2b82-468e-b7e0-a18be12884a3",
        "colab": {
          "base_uri": "https://localhost:8080/"
        }
      },
      "outputs": [
        {
          "output_type": "stream",
          "name": "stdout",
          "text": [
            "Longest doc : 185\n",
            "Shortet doc :  0\n",
            "Average doc: 5.791367800582345\n"
          ]
        }
      ],
      "source": [
        "#Calculate the doc length\n",
        "doc_len_list = [len(doc) for doc in X_train]\n",
        "\n",
        "print (\"Longest doc :\", max(doc_len_list))\n",
        "print(\"Shortet doc : \", min(doc_len_list))\n",
        "print(\"Average doc:\", np.mean(doc_len_list))"
      ]
    },
    {
      "cell_type": "markdown",
      "metadata": {
        "id": "yBMjk6ixYuFP"
      },
      "source": [
        "Let's examine the distribution:"
      ]
    },
    {
      "cell_type": "code",
      "execution_count": 61,
      "metadata": {
        "colab": {
          "base_uri": "https://localhost:8080/",
          "height": 448
        },
        "id": "S0GUFtOuYliw",
        "outputId": "109e3def-48e4-47a2-a86a-3c63d44c72cb"
      },
      "outputs": [
        {
          "output_type": "execute_result",
          "data": {
            "text/plain": [
              "<Axes: ylabel='Count'>"
            ]
          },
          "metadata": {},
          "execution_count": 61
        },
        {
          "output_type": "display_data",
          "data": {
            "text/plain": [
              "<Figure size 640x480 with 1 Axes>"
            ],
            "image/png": "[encoded data removed]"
          },
          "metadata": {}
        }
      ],
      "source": [
        "sns.histplot(doc_len_list)"
      ]
    },
    {
      "cell_type": "markdown",
      "metadata": {
        "id": "f2KsST2otG94"
      },
      "source": [
        "We want to make sure that all sequences have the same length. According to the distribution, 40 seems like a reasonable shared value:"
      ]
    },
    {
      "cell_type": "code",
      "execution_count": 62,
      "metadata": {
        "id": "LqiBbfdSHkAv"
      },
      "outputs": [],
      "source": [
        "max_words = 40\n",
        "\n",
        "X_train = sequence.pad_sequences(X_train, maxlen=max_words)\n",
        "X_val = sequence.pad_sequences(X_val, maxlen=max_words)\n",
        "X_test = sequence.pad_sequences(X_test, maxlen=max_words)"
      ]
    },
    {
      "cell_type": "markdown",
      "metadata": {
        "id": "WUrNm3QSs-kT"
      },
      "source": [
        "Let's see what a sample look like:"
      ]
    },
    {
      "cell_type": "code",
      "execution_count": 63,
      "metadata": {
        "colab": {
          "base_uri": "https://localhost:8080/"
        },
        "id": "cvsYEH7FOkSp",
        "outputId": "66dd6990-5528-4e68-8c33-0f14d1cef861"
      },
      "outputs": [
        {
          "output_type": "execute_result",
          "data": {
            "text/plain": [
              "(56324, 40)"
            ]
          },
          "metadata": {},
          "execution_count": 63
        }
      ],
      "source": [
        "X_train.shape"
      ]
    },
    {
      "cell_type": "code",
      "execution_count": 64,
      "metadata": {
        "colab": {
          "base_uri": "https://localhost:8080/"
        },
        "id": "ozLXZoO7wszJ",
        "outputId": "d9c7fe9e-20fc-43da-db99-05bc71813ce2"
      },
      "outputs": [
        {
          "output_type": "execute_result",
          "data": {
            "text/plain": [
              "array([   0,    0,    0,    0,    0,    0,    0,    0,    0,    0,    0,\n",
              "          0,    0,    0,    0,    0,    0,    0,    0,    0,    0,    0,\n",
              "          0,    0,    0,    0,    0,  296,  274,  369,  100,  877,    3,\n",
              "       4271, 4948,  174,    3,   59,   16,  369], dtype=int32)"
            ]
          },
          "metadata": {},
          "execution_count": 64
        }
      ],
      "source": [
        "X_train[10, :]"
      ]
    },
    {
      "cell_type": "code",
      "execution_count": 65,
      "metadata": {
        "colab": {
          "base_uri": "https://localhost:8080/"
        },
        "id": "BMk45bdtUbc-",
        "outputId": "7cf59071-1908-461e-e039-7eb0b8a58755"
      },
      "outputs": [
        {
          "output_type": "execute_result",
          "data": {
            "text/plain": [
              "15713"
            ]
          },
          "metadata": {},
          "execution_count": 65
        }
      ],
      "source": [
        "total_words = len(token.word_index) + 1\n",
        "total_words"
      ]
    },
    {
      "cell_type": "code",
      "source": [
        "# model = Sequential()\n",
        "# model.add(Embedding(input_dim=total_words, output_dim = 30, input_length = max_words))\n",
        "# model.add(Conv1D(filters = 128, kernel_size = 2, padding='same', activation='relu'))\n",
        "# model.add(MaxPooling1D(pool_size = 2, strides=2, padding='valid'))\n",
        "# model.add(Conv1D(256, 2, padding='same', activation='relu'))\n",
        "# model.add(MaxPooling1D(pool_size = 2, strides = 2, padding = 'valid'))\n",
        "# model.add(Flatten())\n",
        "# model.add(Dropout(0.65))\n",
        "# model.add(Dense(1, activation='sigmoid'))\n",
        "# model.compile(loss='binary_crossentropy', optimizer='adam', metrics=['accuracy'])\n",
        "# model.summary()"
      ],
      "metadata": {
        "id": "GRorxJrVdXRk"
      },
      "execution_count": 66,
      "outputs": []
    },
    {
      "cell_type": "code",
      "source": [
        "# model.fit(X_train, y_train, validation_data=(X_val, y_val), epochs = 2, batch_size = 16)\n"
      ],
      "metadata": {
        "id": "ARGTBPHrnDc9"
      },
      "execution_count": 67,
      "outputs": []
    },
    {
      "cell_type": "code",
      "source": [
        "# model.evaluate(X_test, y_test)\n"
      ],
      "metadata": {
        "id": "f2MaMggPnXiq"
      },
      "execution_count": 68,
      "outputs": []
    },
    {
      "cell_type": "markdown",
      "metadata": {
        "id": "MPlr4HFKZn24"
      },
      "source": [
        "Let's build the architecture:"
      ]
    },
    {
      "cell_type": "markdown",
      "source": [
        "TO DO Explain!!!!!"
      ],
      "metadata": {
        "id": "zcO8AvY6-8QI"
      }
    },
    {
      "cell_type": "code",
      "source": [
        "# Define the model\n",
        "model = Sequential()\n",
        "model.add(Embedding(input_dim=total_words, output_dim=32, input_length=max_words))\n",
        "model.add(Conv1D(filters=16, kernel_size=3, padding='same', activation='relu'))\n",
        "model.add(Conv1D(filters=128, kernel_size=3, padding='same', activation='relu'))\n",
        "model.add(Flatten())\n",
        "model.add(Dense(128, activation='relu'))\n",
        "model.add(Dropout(0.3))\n",
        "model.add(Dense(1, activation='sigmoid'))\n",
        "\n",
        "# Compile the model\n",
        "model.compile(loss='binary_crossentropy', optimizer='adam', metrics=['accuracy'])\n",
        "\n",
        "# Print the model summary\n",
        "model.summary()"
      ],
      "metadata": {
        "id": "A5V2cFY08uZ6",
        "outputId": "df73f43f-8bf2-497f-f381-06c484c9eb76",
        "colab": {
          "base_uri": "https://localhost:8080/"
        }
      },
      "execution_count": 69,
      "outputs": [
        {
          "output_type": "stream",
          "name": "stdout",
          "text": [
            "Model: \"sequential\"\n",
            "_________________________________________________________________\n",
            " Layer (type)                Output Shape              Param #   \n",
            "=================================================================\n",
            " embedding (Embedding)       (None, 40, 32)            502816    \n",
            "                                                                 \n",
            " conv1d (Conv1D)             (None, 40, 16)            1552      \n",
            "                                                                 \n",
            " conv1d_1 (Conv1D)           (None, 40, 128)           6272      \n",
            "                                                                 \n",
            " flatten (Flatten)           (None, 5120)              0         \n",
            "                                                                 \n",
            " dense (Dense)               (None, 128)               655488    \n",
            "                                                                 \n",
            " dropout (Dropout)           (None, 128)               0         \n",
            "                                                                 \n",
            " dense_1 (Dense)             (None, 1)                 129       \n",
            "                                                                 \n",
            "=================================================================\n",
            "Total params: 1166257 (4.45 MB)\n",
            "Trainable params: 1166257 (4.45 MB)\n",
            "Non-trainable params: 0 (0.00 Byte)\n",
            "_________________________________________________________________\n"
          ]
        }
      ]
    },
    {
      "cell_type": "code",
      "execution_count": 70,
      "metadata": {
        "id": "ixaCqXNxHTQy"
      },
      "outputs": [],
      "source": [
        "# model = Sequential()\n",
        "# model.add(Embedding(input_dim=total_words, output_dim=32, input_length=max_words))\n",
        "# model.add(Conv1D(8, 3, padding='same', activation='relu'))\n",
        "# model.add(Flatten())\n",
        "# model.add(Dense(64, activation='relu'))\n",
        "# model.add(Dropout(0.5))\n",
        "# model.add(Dense(1, activation='sigmoid'))\n",
        "# model.compile(loss='binary_crossentropy', optimizer='adam', metrics=['accuracy'])\n",
        "# model.summary()"
      ]
    },
    {
      "cell_type": "markdown",
      "metadata": {
        "id": "yUhu1FmCglXi"
      },
      "source": [
        "Notice the first layer: an embedding layer. The purpose of embedding layers is to represent text data as meaningful vectors. Words that are similar to one another should have close values."
      ]
    },
    {
      "cell_type": "code",
      "execution_count": 71,
      "metadata": {
        "colab": {
          "base_uri": "https://localhost:8080/"
        },
        "id": "Vh_VoVaONh2Q",
        "outputId": "3ce119ad-be43-4940-f7a3-067e998c1067"
      },
      "outputs": [
        {
          "output_type": "stream",
          "name": "stdout",
          "text": [
            "Epoch 1/5\n",
            "881/881 [==============================] - 35s 38ms/step - loss: 0.5357 - accuracy: 0.6947 - val_loss: 0.4920 - val_accuracy: 0.7272\n",
            "Epoch 2/5\n",
            "881/881 [==============================] - 31s 35ms/step - loss: 0.4348 - accuracy: 0.7714 - val_loss: 0.4916 - val_accuracy: 0.7294\n",
            "Epoch 3/5\n",
            "881/881 [==============================] - 35s 40ms/step - loss: 0.3768 - accuracy: 0.8034 - val_loss: 0.5331 - val_accuracy: 0.7282\n",
            "Epoch 4/5\n",
            "881/881 [==============================] - 34s 39ms/step - loss: 0.3259 - accuracy: 0.8302 - val_loss: 0.5977 - val_accuracy: 0.7264\n",
            "Epoch 5/5\n",
            "881/881 [==============================] - 31s 35ms/step - loss: 0.2850 - accuracy: 0.8491 - val_loss: 0.7066 - val_accuracy: 0.7200\n"
          ]
        },
        {
          "output_type": "execute_result",
          "data": {
            "text/plain": [
              "<keras.src.callbacks.History at 0x796768011900>"
            ]
          },
          "metadata": {},
          "execution_count": 71
        }
      ],
      "source": [
        "model.fit(X_train, y_train, validation_data=(X_val, y_val), epochs=5, batch_size=64)"
      ]
    },
    {
      "cell_type": "markdown",
      "metadata": {
        "id": "4tvPjSV7g7Dd"
      },
      "source": [
        "Let's evaluate our model:"
      ]
    },
    {
      "cell_type": "code",
      "execution_count": 72,
      "metadata": {
        "colab": {
          "base_uri": "https://localhost:8080/"
        },
        "id": "HW6FaaiypsOw",
        "outputId": "36d56558-a4c4-4c27-aea7-ebd3480cf98d"
      },
      "outputs": [
        {
          "output_type": "stream",
          "name": "stdout",
          "text": [
            "133/133 [==============================] - 1s 7ms/step - loss: 0.7259 - accuracy: 0.8243\n"
          ]
        },
        {
          "output_type": "execute_result",
          "data": {
            "text/plain": [
              "[0.7259331941604614, 0.8242638111114502]"
            ]
          },
          "metadata": {},
          "execution_count": 72
        }
      ],
      "source": [
        "model.evaluate(X_test, y_test)"
      ]
    },
    {
      "cell_type": "markdown",
      "source": [
        "# Explore Our results"
      ],
      "metadata": {
        "id": "vbjiKHyi7Irm"
      }
    },
    {
      "cell_type": "markdown",
      "source": [
        "TO DO Explain!!!!!!"
      ],
      "metadata": {
        "id": "XNUHeZCE8SgA"
      }
    },
    {
      "cell_type": "code",
      "source": [
        "# Define a function to calculate accuracy for each character\n",
        "def evaluate_accuracy_for_character(y_pred_probs, test_df, character):\n",
        "    # Flatten y_test\n",
        "    y_test_flat = y_test.flatten()\n",
        "\n",
        "    #put 0 & 1 instead of Friends & Seinfeld\n",
        "    test_df['Show'] = y_test_flat\n",
        "\n",
        "    # Filter test data by character\n",
        "    character_test_df = test_df[test_df['Character'] == character]\n",
        "\n",
        "    # Get true labels for the character\n",
        "    y_character_test = character_test_df['Show']\n",
        "\n",
        "    # Filter predictions for the character\n",
        "    character_indices = character_test_df.index\n",
        "    y_character_pred_probs = y_pred_probs[character_indices]\n",
        "\n",
        "    # Convert probabilities to binary labels\n",
        "    y_character_pred = (y_character_pred_probs >= 0.5).astype(int)\n",
        "\n",
        "    # Calculate accuracy\n",
        "    accuracy = accuracy_score(y_character_test, y_character_pred)\n",
        "    return accuracy\n",
        "\n",
        "# Predict probabilities for all characters\n",
        "y_pred_probs = model.predict(X_test)\n",
        "\n",
        "# List of characters\n",
        "characters = full_test_data['Character'].unique()\n",
        "\n",
        "# Dictionary to store accuracy for each character\n",
        "character_accuracy = {}\n",
        "\n",
        "# Evaluate accuracy for each character\n",
        "for character in characters:\n",
        "    accuracy = evaluate_accuracy_for_character(y_pred_probs, full_test_data, character)\n",
        "    character_accuracy[character] = accuracy\n",
        "\n",
        "sorted_character_accuracy = dict(sorted(character_accuracy.items(), key=lambda item: item[1], reverse=True))\n",
        "\n",
        "# Plotting results\n",
        "plt.figure(figsize=(10, 6))\n",
        "bars = plt.bar(sorted_character_accuracy.keys(), sorted_character_accuracy.values(), color='skyblue')\n",
        "plt.title('Accuracy for Each Character')\n",
        "plt.xlabel('Character')\n",
        "plt.ylabel('Accuracy')\n",
        "plt.xticks(rotation=45)\n",
        "\n",
        "for bar in bars:\n",
        "    height = bar.get_height()\n",
        "    plt.text(bar.get_x() + bar.get_width() / 2.0, height, f'{height:.2f}', ha='center', va='bottom')\n",
        "\n",
        "plt.show()\n"
      ],
      "metadata": {
        "colab": {
          "base_uri": "https://localhost:8080/",
          "height": 621
        },
        "id": "C03VbwyfxkzP",
        "outputId": "c31d57ca-e5fc-4822-e8eb-feed504a0998"
      },
      "execution_count": 73,
      "outputs": [
        {
          "output_type": "stream",
          "name": "stdout",
          "text": [
            "133/133 [==============================] - 1s 5ms/step\n"
          ]
        },
        {
          "output_type": "display_data",
          "data": {
            "text/plain": [
              "<Figure size 1000x600 with 1 Axes>"
            ],
            "image/png": "[encoded data removed]"
          },
          "metadata": {}
        }
      ]
    }
  ]
}