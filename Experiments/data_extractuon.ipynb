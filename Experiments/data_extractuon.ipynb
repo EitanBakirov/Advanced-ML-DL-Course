{
  "nbformat": 4,
  "nbformat_minor": 0,
  "metadata": {
    "colab": {
      "provenance": [],
      "authorship_tag": "ABX9TyNte4dgm0v9O+pcoz92Dair",
      "include_colab_link": true
    },
    "kernelspec": {
      "name": "python3",
      "display_name": "Python 3"
    },
    "language_info": {
      "name": "python"
    }
  },
  "cells": [
    {
      "cell_type": "markdown",
      "metadata": {
        "id": "view-in-github",
        "colab_type": "text"
      },
      "source": [
        "<a href=\"https://colab.research.google.com/github/ariel-hedvat/AdvancedMLDLCourseAssignments/blob/main/Experiments/data_extractuon.ipynb\" target=\"_parent\"><img src=\"https://colab.research.google.com/assets/colab-badge.svg\" alt=\"Open In Colab\"/></a>"
      ]
    },
    {
      "cell_type": "code",
      "execution_count": 144,
      "metadata": {
        "id": "8Uhhqlq3X5Zl",
        "colab": {
          "base_uri": "https://localhost:8080/"
        },
        "outputId": "6f032662-24b7-4efa-e258-aec7a8b32358"
      },
      "outputs": [
        {
          "output_type": "stream",
          "name": "stdout",
          "text": [
            "Requirement already satisfied: spotipy in /usr/local/lib/python3.10/dist-packages (2.23.0)\n",
            "Requirement already satisfied: redis>=3.5.3 in /usr/local/lib/python3.10/dist-packages (from spotipy) (5.0.3)\n",
            "Requirement already satisfied: requests>=2.25.0 in /usr/local/lib/python3.10/dist-packages (from spotipy) (2.31.0)\n",
            "Requirement already satisfied: six>=1.15.0 in /usr/local/lib/python3.10/dist-packages (from spotipy) (1.16.0)\n",
            "Requirement already satisfied: urllib3>=1.26.0 in /usr/local/lib/python3.10/dist-packages (from spotipy) (2.0.7)\n",
            "Requirement already satisfied: async-timeout>=4.0.3 in /usr/local/lib/python3.10/dist-packages (from redis>=3.5.3->spotipy) (4.0.3)\n",
            "Requirement already satisfied: charset-normalizer<4,>=2 in /usr/local/lib/python3.10/dist-packages (from requests>=2.25.0->spotipy) (3.3.2)\n",
            "Requirement already satisfied: idna<4,>=2.5 in /usr/local/lib/python3.10/dist-packages (from requests>=2.25.0->spotipy) (3.6)\n",
            "Requirement already satisfied: certifi>=2017.4.17 in /usr/local/lib/python3.10/dist-packages (from requests>=2.25.0->spotipy) (2024.2.2)\n"
          ]
        }
      ],
      "source": [
        "#installation for spotipy-API\n",
        "!pip install spotipy"
      ]
    },
    {
      "cell_type": "code",
      "source": [
        "#imports\n",
        "import spotipy\n",
        "import pandas as pd\n",
        "from spotipy.oauth2 import SpotifyClientCredentials\n",
        "import os\n",
        "import zipfile\n",
        "import pandas as pd\n",
        "import requests\n",
        "import io\n",
        "import subprocess\n",
        "import time"
      ],
      "metadata": {
        "id": "BHytO6Y-ZM0n"
      },
      "execution_count": 145,
      "outputs": []
    },
    {
      "cell_type": "code",
      "source": [
        "# Function to read Spotify credentials from a URL\n",
        "def read_spotify_credentials_from_url(url):\n",
        "    credentials = {}\n",
        "    response = requests.get(url)\n",
        "    if response.status_code == 200:\n",
        "        lines = response.text.split('\\n')\n",
        "        for line in lines:\n",
        "            if '=' in line:\n",
        "                key, value = line.strip().split('=')\n",
        "                credentials[key] = value\n",
        "    else:\n",
        "        print(\"Failed to fetch Spotify credentials. Status code:\", response.status_code)\n",
        "    return credentials"
      ],
      "metadata": {
        "id": "HhEgeaPsZkKY"
      },
      "execution_count": 146,
      "outputs": []
    },
    {
      "cell_type": "code",
      "source": [
        "# Function to unzip the dataset\n",
        "def unzip_dataset(zip_file_url):\n",
        "    response = requests.get(zip_file_url)\n",
        "    with zipfile.ZipFile(io.BytesIO(response.content), 'r') as zip_ref:\n",
        "        extracted_files = {}\n",
        "        for file in zip_ref.namelist():\n",
        "          if file.endswith('.csv'):\n",
        "                extracted_files[file] = pd.read_csv(io.BytesIO(zip_ref.read(file)), encoding='utf-8')\n",
        "    return extracted_files"
      ],
      "metadata": {
        "id": "QaFHLUSbgA1c"
      },
      "execution_count": 147,
      "outputs": []
    },
    {
      "cell_type": "code",
      "source": [
        "# Unzip the dataset\n",
        "#zip_file_url = 'https://raw.githubusercontent.com/ariel-hedvat/AdvancedMLDLCourseAssignments/main/Experiments/Data/full_spotify_dataset_recreated.zip'\n",
        "zip_file_url = 'https://raw.githubusercontent.com/ariel-hedvat/AdvancedMLDLCourseAssignments/main/Experiments/Data/50.zip'\n",
        "data_files = unzip_dataset(zip_file_url)"
      ],
      "metadata": {
        "id": "F9ej1VLIqPYt"
      },
      "execution_count": 148,
      "outputs": []
    },
    {
      "cell_type": "code",
      "source": [
        "data_files"
      ],
      "metadata": {
        "colab": {
          "base_uri": "https://localhost:8080/"
        },
        "id": "24Vm7UMtoBog",
        "outputId": "c949d4f6-ff18-499e-e31b-649391551212"
      },
      "execution_count": 149,
      "outputs": [
        {
          "output_type": "execute_result",
          "data": {
            "text/plain": [
              "{'50.csv':                              user_id                        artistname  \\\n",
              " 0   9cc0cfd4d7d7885102480dd99e7a90d6                    Elvis Costello   \n",
              " 1   9cc0cfd4d7d7885102480dd99e7a90d6  Elvis Costello & The Attractions   \n",
              " 2   9cc0cfd4d7d7885102480dd99e7a90d6                      Tiffany Page   \n",
              " 3   9cc0cfd4d7d7885102480dd99e7a90d6  Elvis Costello & The Attractions   \n",
              " 4   9cc0cfd4d7d7885102480dd99e7a90d6                    Elvis Costello   \n",
              " 5   9cc0cfd4d7d7885102480dd99e7a90d6                            Lissie   \n",
              " 6   9cc0cfd4d7d7885102480dd99e7a90d6                    Paul McCartney   \n",
              " 7   9cc0cfd4d7d7885102480dd99e7a90d6                          Joe Echo   \n",
              " 8   9cc0cfd4d7d7885102480dd99e7a90d6                    Paul McCartney   \n",
              " 9   9cc0cfd4d7d7885102480dd99e7a90d6                            Lissie   \n",
              " 10  9cc0cfd4d7d7885102480dd99e7a90d6                      The Breakers   \n",
              " 11  9cc0cfd4d7d7885102480dd99e7a90d6                    Paul McCartney   \n",
              " 12  9cc0cfd4d7d7885102480dd99e7a90d6                       The Coronas   \n",
              " 13  9cc0cfd4d7d7885102480dd99e7a90d6                     Crowded House   \n",
              " 14  9cc0cfd4d7d7885102480dd99e7a90d6                            Lissie   \n",
              " 15  9cc0cfd4d7d7885102480dd99e7a90d6                     Crowded House   \n",
              " 16  9cc0cfd4d7d7885102480dd99e7a90d6                     Crowded House   \n",
              " 17  9cc0cfd4d7d7885102480dd99e7a90d6                      Joshua Radin   \n",
              " 18  9cc0cfd4d7d7885102480dd99e7a90d6                      The Breakers   \n",
              " 19  9cc0cfd4d7d7885102480dd99e7a90d6                 Cocktail Slippers   \n",
              " 20  9cc0cfd4d7d7885102480dd99e7a90d6             Crosby, Stills & Nash   \n",
              " 21  9cc0cfd4d7d7885102480dd99e7a90d6                            Lissie   \n",
              " 22  9cc0cfd4d7d7885102480dd99e7a90d6                 Cocktail Slippers   \n",
              " 23  9cc0cfd4d7d7885102480dd99e7a90d6                      Tiffany Page   \n",
              " 24  9cc0cfd4d7d7885102480dd99e7a90d6                   The Len Price 3   \n",
              " 25  9cc0cfd4d7d7885102480dd99e7a90d6                      Joshua Radin   \n",
              " 26  9cc0cfd4d7d7885102480dd99e7a90d6                   The Len Price 3   \n",
              " 27  9cc0cfd4d7d7885102480dd99e7a90d6                            Lissie   \n",
              " 28  9cc0cfd4d7d7885102480dd99e7a90d6                 Cocktail Slippers   \n",
              " 29  9cc0cfd4d7d7885102480dd99e7a90d6                          Joe Echo   \n",
              " 30  9cc0cfd4d7d7885102480dd99e7a90d6                   The Len Price 3   \n",
              " 31  9cc0cfd4d7d7885102480dd99e7a90d6                          Joe Echo   \n",
              " 32  9cc0cfd4d7d7885102480dd99e7a90d6                            Lissie   \n",
              " 33  9cc0cfd4d7d7885102480dd99e7a90d6                    Paul McCartney   \n",
              " 34  9cc0cfd4d7d7885102480dd99e7a90d6                   The Len Price 3   \n",
              " 35  9cc0cfd4d7d7885102480dd99e7a90d6                 Cocktail Slippers   \n",
              " 36  9cc0cfd4d7d7885102480dd99e7a90d6                     Crowded House   \n",
              " 37  9cc0cfd4d7d7885102480dd99e7a90d6                     Crowded House   \n",
              " 38  9cc0cfd4d7d7885102480dd99e7a90d6                            Lissie   \n",
              " 39  9cc0cfd4d7d7885102480dd99e7a90d6  Elvis Costello & The Attractions   \n",
              " 40  9cc0cfd4d7d7885102480dd99e7a90d6                          Joe Echo   \n",
              " 41  9cc0cfd4d7d7885102480dd99e7a90d6                          Joe Echo   \n",
              " 42  9cc0cfd4d7d7885102480dd99e7a90d6                      Joshua Radin   \n",
              " 43  9cc0cfd4d7d7885102480dd99e7a90d6                      Tiffany Page   \n",
              " 44  9cc0cfd4d7d7885102480dd99e7a90d6                          Joe Echo   \n",
              " 45  9cc0cfd4d7d7885102480dd99e7a90d6                          Joe Echo   \n",
              " 46  9cc0cfd4d7d7885102480dd99e7a90d6                   The Len Price 3   \n",
              " 47  9cc0cfd4d7d7885102480dd99e7a90d6                   The Len Price 3   \n",
              " 48  9cc0cfd4d7d7885102480dd99e7a90d6                       The Coronas   \n",
              " \n",
              "                                             trackname    playlistname  \n",
              " 0                (The Angels Wanna Wear My) Red Shoes  HARD ROCK 2010  \n",
              " 1   (What's So Funny 'Bout) Peace, Love And Unders...  HARD ROCK 2010  \n",
              " 2                                    7 Years Too Late  HARD ROCK 2010  \n",
              " 3                               Accidents Will Happen  HARD ROCK 2010  \n",
              " 4                                              Alison  HARD ROCK 2010  \n",
              " 5                                         All Be Okay  HARD ROCK 2010  \n",
              " 6                                     Band On The Run  HARD ROCK 2010  \n",
              " 7                                           Beautiful  HARD ROCK 2010  \n",
              " 8   Blackbird - Live at CitiField, NYC - Digital A...  HARD ROCK 2010  \n",
              " 9                                         Bright Side  HARD ROCK 2010  \n",
              " 10                                    Dance The Go-Go  HARD ROCK 2010  \n",
              " 11                                      Dance Tonight  HARD ROCK 2010  \n",
              " 12                                      Decision Time  HARD ROCK 2010  \n",
              " 13                              Don't Dream It's Over  HARD ROCK 2010  \n",
              " 14                                    Everywhere I Go  HARD ROCK 2010  \n",
              " 15                                  Fall At Your Feet  HARD ROCK 2010  \n",
              " 16                            Four Seasons In One Day  HARD ROCK 2010  \n",
              " 17                                    Friend Like You  HARD ROCK 2010  \n",
              " 18                         Get Lost Get High Get Sick  HARD ROCK 2010  \n",
              " 19                                          Goodtimes  HARD ROCK 2010  \n",
              " 20                                  Helplessly Hoping  HARD ROCK 2010  \n",
              " 21                                        Here Before  HARD ROCK 2010  \n",
              " 22                                         Here We Go  HARD ROCK 2010  \n",
              " 23                                     I Am The Blaze  HARD ROCK 2010  \n",
              " 24                                I Don't Believe You  HARD ROCK 2010  \n",
              " 25                I'd Rather Be With You [Radio Edit]  HARD ROCK 2010  \n",
              " 26                             If You Live Round Here  HARD ROCK 2010  \n",
              " 27                                           In Sleep  HARD ROCK 2010  \n",
              " 28                                        In The City  HARD ROCK 2010  \n",
              " 29                         In You Are All The Stories  HARD ROCK 2010  \n",
              " 30                               Keep Your Eyes On Me  HARD ROCK 2010  \n",
              " 31                                          Lie To Me  HARD ROCK 2010  \n",
              " 32                                      Little Lovin'  HARD ROCK 2010  \n",
              " 33                                   Live And Let Die  HARD ROCK 2010  \n",
              " 34                                 Man Who Used To Be  HARD ROCK 2010  \n",
              " 35                                         Mastermind  HARD ROCK 2010  \n",
              " 36                                    Nobody Wants To  HARD ROCK 2010  \n",
              " 37                     Not The Girl You Think You Are  HARD ROCK 2010  \n",
              " 38                                     Oh Mississippi  HARD ROCK 2010  \n",
              " 39                                      Oliver's Army  HARD ROCK 2010  \n",
              " 40         On All My Sundays - Liam Shachar Radio Mix  HARD ROCK 2010  \n",
              " 41             On All My Sundays - Liam Shachar Remix  HARD ROCK 2010  \n",
              " 42                                           Only You  HARD ROCK 2010  \n",
              " 43                                     Out Of My Mind  HARD ROCK 2010  \n",
              " 44                                  Personal Alcatraz  HARD ROCK 2010  \n",
              " 45                            Phoenix In Dynamite Sky  HARD ROCK 2010  \n",
              " 46                                           Pictures  HARD ROCK 2010  \n",
              " 47                                Sailor's Sweetheart  HARD ROCK 2010  \n",
              " 48                                     San Diego Song  HARD ROCK 2010  }"
            ]
          },
          "metadata": {},
          "execution_count": 149
        }
      ]
    },
    {
      "cell_type": "code",
      "source": [
        "# Function to extract track names and artist names into a dictionary\n",
        "def extract_tracks_metadata(data_files):\n",
        "    tracks_metadata = {}\n",
        "    for df_name, df in data_files.items():\n",
        "        print(f\"Processing DataFrame: {df_name}\")\n",
        "        # Strip leading and trailing spaces from column names\n",
        "        df.columns = df.columns.str.strip()\n",
        "        print(f\"Columns in DataFrame: {df.columns}\")\n",
        "        if 'trackname' in df.columns and 'artistname' in df.columns:\n",
        "            print(\"Both 'trackname' and 'artistname' columns found.\")\n",
        "            for index, row in df.iterrows():\n",
        "                track_name = row['trackname']\n",
        "                artist_name = row['artistname']\n",
        "                print(f\"Extracting track: {track_name}, Artist: {artist_name}\")\n",
        "                if track_name not in tracks_metadata:\n",
        "                    tracks_metadata[track_name] = artist_name\n",
        "                else:\n",
        "                    print(f\"Track '{track_name}' already exists in metadata.\")\n",
        "        else:\n",
        "            print(\"Either 'trackname' or 'artistname' columns missing in DataFrame.\")\n",
        "    return tracks_metadata\n",
        "\n",
        "    #{trackname: artistname}\n"
      ],
      "metadata": {
        "id": "l69apcbHqDqV"
      },
      "execution_count": 150,
      "outputs": []
    },
    {
      "cell_type": "code",
      "source": [
        "def get_track_metadata_from_api(tracks_metadata, sp):\n",
        "    extended_tracks_metadata = {}\n",
        "    for track_name, artist_name in tracks_metadata.items():\n",
        "        # Search for the track\n",
        "        try:\n",
        "            results = sp.search(q=f\"track:{track_name} artist:{artist_name}\", type='track', limit=1)\n",
        "            if results['tracks']['items']:\n",
        "                track_info = results['tracks']['items'][0]\n",
        "                artist_uri = track_info[\"artists\"][0][\"uri\"]\n",
        "                artist_info = sp.artist(artist_uri)\n",
        "                track_features = sp.audio_features(track_info['uri'])[0]\n",
        "\n",
        "                # Create a list with all the metadata\n",
        "                metadata_list = [\n",
        "                    artist_name,\n",
        "                    track_features['acousticness'],\n",
        "                    track_features['danceability'],\n",
        "                    track_features['energy'],\n",
        "                    track_features['instrumentalness'],\n",
        "                    track_features['speechiness'],\n",
        "                    track_features['liveness'],\n",
        "                    track_features['loudness'],\n",
        "                    track_features['tempo'],\n",
        "                    track_features['valence'],\n",
        "                    track_info['popularity'],\n",
        "                    artist_info[\"genres\"]\n",
        "                ]\n",
        "\n",
        "                # Add the metadata list to the extended_tracks_metadata dictionary\n",
        "                extended_tracks_metadata[track_name] = metadata_list\n",
        "            else:\n",
        "                print(f\"No results found for track: {track_name}\")\n",
        "        except sp.SpotifyException as e:\n",
        "            if e.http_status == 429:  # Too Many Requests\n",
        "                print(\"Rate limit exceeded. Waiting before retrying...\")\n",
        "                time.sleep(10)  # Wait for 10 seconds before retrying\n",
        "            else:\n",
        "                print(f\"Error while fetching track metadata: {e}\")\n",
        "    return extended_tracks_metadata\n",
        "\n",
        "\n",
        " #{trackname: [artistname, acousticness, danceability, energy, instrumentalness, speechiness, liveness, loudness, tempo, valence, popularity, genres]}"
      ],
      "metadata": {
        "id": "25-WVP26x3pC"
      },
      "execution_count": 151,
      "outputs": []
    },
    {
      "cell_type": "code",
      "source": [
        "from google.colab import files\n",
        "\n",
        "# Function to save tracks metadata as a CSV file\n",
        "def save_tracks_metadata_to_csv(extended_tracks_metadata, output_file):\n",
        "    # Create a DataFrame from tracks_metadata dictionary\n",
        "    df = pd.DataFrame.from_dict(extended_tracks_metadata, orient='index')\n",
        "\n",
        "    # Reset index and rename columns\n",
        "    df.reset_index(inplace=True)\n",
        "    df.columns = ['Track Name', 'Artist Name', 'Acousticness', 'Danceability', 'Energy', 'Instrumentalness',\n",
        "                  'Speechiness', 'Liveness', 'Loudness', 'Tempo', 'Valence', 'Popularity', 'Genres']\n",
        "\n",
        "    # Save DataFrame to CSV file\n",
        "    df.to_csv(output_file, index=False)\n",
        "\n",
        "    # Download the CSV file\n",
        "    files.download(output_file)"
      ],
      "metadata": {
        "id": "_CMy1eDmy6KE"
      },
      "execution_count": 152,
      "outputs": []
    },
    {
      "cell_type": "code",
      "source": [
        "# Extract track metadata\n",
        "tracks_metadata = extract_tracks_metadata(data_files)"
      ],
      "metadata": {
        "colab": {
          "base_uri": "https://localhost:8080/"
        },
        "id": "ylg8XcjNqy7i",
        "outputId": "b7f7ef7f-ef7c-4f7c-a2ab-4e9d5ef26d29"
      },
      "execution_count": 153,
      "outputs": [
        {
          "output_type": "stream",
          "name": "stdout",
          "text": [
            "Processing DataFrame: 50.csv\n",
            "Columns in DataFrame: Index(['user_id', 'artistname', 'trackname', 'playlistname'], dtype='object')\n",
            "Both 'trackname' and 'artistname' columns found.\n",
            "Extracting track: (The Angels Wanna Wear My) Red Shoes, Artist: Elvis Costello\n",
            "Extracting track: (What's So Funny 'Bout) Peace, Love And Understanding, Artist: Elvis Costello & The Attractions\n",
            "Extracting track: 7 Years Too Late, Artist: Tiffany Page\n",
            "Extracting track: Accidents Will Happen, Artist: Elvis Costello & The Attractions\n",
            "Extracting track: Alison, Artist: Elvis Costello\n",
            "Extracting track: All Be Okay, Artist: Lissie\n",
            "Extracting track: Band On The Run, Artist: Paul McCartney\n",
            "Extracting track: Beautiful, Artist: Joe Echo\n",
            "Extracting track: Blackbird - Live at CitiField, NYC - Digital Audio, Artist: Paul McCartney\n",
            "Extracting track: Bright Side, Artist: Lissie\n",
            "Extracting track: Dance The Go-Go, Artist: The Breakers\n",
            "Extracting track: Dance Tonight, Artist: Paul McCartney\n",
            "Extracting track: Decision Time, Artist: The Coronas\n",
            "Extracting track: Don't Dream It's Over, Artist: Crowded House\n",
            "Extracting track: Everywhere I Go, Artist: Lissie\n",
            "Extracting track: Fall At Your Feet, Artist: Crowded House\n",
            "Extracting track: Four Seasons In One Day, Artist: Crowded House\n",
            "Extracting track: Friend Like You, Artist: Joshua Radin\n",
            "Extracting track: Get Lost Get High Get Sick, Artist: The Breakers\n",
            "Extracting track: Goodtimes, Artist: Cocktail Slippers\n",
            "Extracting track: Helplessly Hoping, Artist: Crosby, Stills & Nash\n",
            "Extracting track: Here Before, Artist: Lissie\n",
            "Extracting track: Here We Go, Artist: Cocktail Slippers\n",
            "Extracting track: I Am The Blaze, Artist: Tiffany Page\n",
            "Extracting track: I Don't Believe You, Artist: The Len Price 3\n",
            "Extracting track: I'd Rather Be With You [Radio Edit], Artist: Joshua Radin\n",
            "Extracting track: If You Live Round Here, Artist: The Len Price 3\n",
            "Extracting track: In Sleep, Artist: Lissie\n",
            "Extracting track: In The City, Artist: Cocktail Slippers\n",
            "Extracting track: In You Are All The Stories, Artist: Joe Echo\n",
            "Extracting track: Keep Your Eyes On Me, Artist: The Len Price 3\n",
            "Extracting track: Lie To Me, Artist: Joe Echo\n",
            "Extracting track: Little Lovin', Artist: Lissie\n",
            "Extracting track: Live And Let Die, Artist: Paul McCartney\n",
            "Extracting track: Man Who Used To Be, Artist: The Len Price 3\n",
            "Extracting track: Mastermind, Artist: Cocktail Slippers\n",
            "Extracting track: Nobody Wants To, Artist: Crowded House\n",
            "Extracting track: Not The Girl You Think You Are, Artist: Crowded House\n",
            "Extracting track: Oh Mississippi, Artist: Lissie\n",
            "Extracting track: Oliver's Army, Artist: Elvis Costello & The Attractions\n",
            "Extracting track: On All My Sundays - Liam Shachar Radio Mix, Artist: Joe Echo\n",
            "Extracting track: On All My Sundays - Liam Shachar Remix, Artist: Joe Echo\n",
            "Extracting track: Only You, Artist: Joshua Radin\n",
            "Extracting track: Out Of My Mind, Artist: Tiffany Page\n",
            "Extracting track: Personal Alcatraz, Artist: Joe Echo\n",
            "Extracting track: Phoenix In Dynamite Sky, Artist: Joe Echo\n",
            "Extracting track: Pictures, Artist: The Len Price 3\n",
            "Extracting track: Sailor's Sweetheart, Artist: The Len Price 3\n",
            "Extracting track: San Diego Song, Artist: The Coronas\n"
          ]
        }
      ]
    },
    {
      "cell_type": "code",
      "source": [
        "tracks_metadata"
      ],
      "metadata": {
        "colab": {
          "base_uri": "https://localhost:8080/"
        },
        "id": "fKraNB6cq9ZF",
        "outputId": "a2fdc7a6-fd91-4d75-ab1d-f95c6048bbc3"
      },
      "execution_count": 154,
      "outputs": [
        {
          "output_type": "execute_result",
          "data": {
            "text/plain": [
              "{'(The Angels Wanna Wear My) Red Shoes': 'Elvis Costello',\n",
              " \"(What's So Funny 'Bout) Peace, Love And Understanding\": 'Elvis Costello & The Attractions',\n",
              " '7 Years Too Late': 'Tiffany Page',\n",
              " 'Accidents Will Happen': 'Elvis Costello & The Attractions',\n",
              " 'Alison': 'Elvis Costello',\n",
              " 'All Be Okay': 'Lissie',\n",
              " 'Band On The Run': 'Paul McCartney',\n",
              " 'Beautiful': 'Joe Echo',\n",
              " 'Blackbird - Live at CitiField, NYC - Digital Audio': 'Paul McCartney',\n",
              " 'Bright Side': 'Lissie',\n",
              " 'Dance The Go-Go': 'The Breakers',\n",
              " 'Dance Tonight': 'Paul McCartney',\n",
              " 'Decision Time': 'The Coronas',\n",
              " \"Don't Dream It's Over\": 'Crowded House',\n",
              " 'Everywhere I Go': 'Lissie',\n",
              " 'Fall At Your Feet': 'Crowded House',\n",
              " 'Four Seasons In One Day': 'Crowded House',\n",
              " 'Friend Like You': 'Joshua Radin',\n",
              " 'Get Lost Get High Get Sick': 'The Breakers',\n",
              " 'Goodtimes': 'Cocktail Slippers',\n",
              " 'Helplessly Hoping': 'Crosby, Stills & Nash',\n",
              " 'Here Before': 'Lissie',\n",
              " 'Here We Go': 'Cocktail Slippers',\n",
              " 'I Am The Blaze': 'Tiffany Page',\n",
              " \"I Don't Believe You\": 'The Len Price 3',\n",
              " \"I'd Rather Be With You [Radio Edit]\": 'Joshua Radin',\n",
              " 'If You Live Round Here': 'The Len Price 3',\n",
              " 'In Sleep': 'Lissie',\n",
              " 'In The City': 'Cocktail Slippers',\n",
              " 'In You Are All The Stories': 'Joe Echo',\n",
              " 'Keep Your Eyes On Me': 'The Len Price 3',\n",
              " 'Lie To Me': 'Joe Echo',\n",
              " \"Little Lovin'\": 'Lissie',\n",
              " 'Live And Let Die': 'Paul McCartney',\n",
              " 'Man Who Used To Be': 'The Len Price 3',\n",
              " 'Mastermind': 'Cocktail Slippers',\n",
              " 'Nobody Wants To': 'Crowded House',\n",
              " 'Not The Girl You Think You Are': 'Crowded House',\n",
              " 'Oh Mississippi': 'Lissie',\n",
              " \"Oliver's Army\": 'Elvis Costello & The Attractions',\n",
              " 'On All My Sundays - Liam Shachar Radio Mix': 'Joe Echo',\n",
              " 'On All My Sundays - Liam Shachar Remix': 'Joe Echo',\n",
              " 'Only You': 'Joshua Radin',\n",
              " 'Out Of My Mind': 'Tiffany Page',\n",
              " 'Personal Alcatraz': 'Joe Echo',\n",
              " 'Phoenix In Dynamite Sky': 'Joe Echo',\n",
              " 'Pictures': 'The Len Price 3',\n",
              " \"Sailor's Sweetheart\": 'The Len Price 3',\n",
              " 'San Diego Song': 'The Coronas'}"
            ]
          },
          "metadata": {},
          "execution_count": 154
        }
      ]
    },
    {
      "cell_type": "code",
      "source": [
        "# Read Spotify credentials from URL\n",
        "spotify_credentials_url = 'https://raw.githubusercontent.com/ariel-hedvat/AdvancedMLDLCourseAssignments/main/Experiments/Data/eitans_spotify_credentials.txt'\n",
        "spotify_credentials = read_spotify_credentials_from_url(spotify_credentials_url)\n",
        "\n",
        "# Initialize Spotipy client with the obtained credentials\n",
        "sp = spotipy.Spotify(auth_manager=SpotifyClientCredentials(client_id=spotify_credentials['CLIENT_ID'],\n",
        "                                                           client_secret=spotify_credentials['CLIENT_SECRET']))"
      ],
      "metadata": {
        "id": "RkyjKctW0lHb"
      },
      "execution_count": 155,
      "outputs": []
    },
    {
      "cell_type": "code",
      "source": [
        "# Assuming tracks_metadata is already populated with track names and artist names\n",
        "# Call the function to retrieve metadata for each track\n",
        "extended_tracks_metadata = get_track_metadata_from_api(tracks_metadata, sp)"
      ],
      "metadata": {
        "colab": {
          "base_uri": "https://localhost:8080/",
          "height": 703
        },
        "id": "IcJct0I41LgJ",
        "outputId": "9c0e9e29-acf3-48bf-eb83-4c42d0f20218"
      },
      "execution_count": 156,
      "outputs": [
        {
          "output_type": "stream",
          "name": "stderr",
          "text": [
            "ERROR:spotipy.client:Max Retries reached\n"
          ]
        },
        {
          "output_type": "error",
          "ename": "AttributeError",
          "evalue": "'Spotify' object has no attribute 'SpotifyException'",
          "traceback": [
            "\u001b[0;31m---------------------------------------------------------------------------\u001b[0m",
            "\u001b[0;31mResponseError\u001b[0m                             Traceback (most recent call last)",
            "\u001b[0;31mResponseError\u001b[0m: too many 429 error responses",
            "\nThe above exception was the direct cause of the following exception:\n",
            "\u001b[0;31mMaxRetryError\u001b[0m                             Traceback (most recent call last)",
            "\u001b[0;32m/usr/local/lib/python3.10/dist-packages/requests/adapters.py\u001b[0m in \u001b[0;36msend\u001b[0;34m(self, request, stream, timeout, verify, cert, proxies)\u001b[0m\n\u001b[1;32m    485\u001b[0m         \u001b[0;32mtry\u001b[0m\u001b[0;34m:\u001b[0m\u001b[0;34m\u001b[0m\u001b[0;34m\u001b[0m\u001b[0m\n\u001b[0;32m--> 486\u001b[0;31m             resp = conn.urlopen(\n\u001b[0m\u001b[1;32m    487\u001b[0m                 \u001b[0mmethod\u001b[0m\u001b[0;34m=\u001b[0m\u001b[0mrequest\u001b[0m\u001b[0;34m.\u001b[0m\u001b[0mmethod\u001b[0m\u001b[0;34m,\u001b[0m\u001b[0;34m\u001b[0m\u001b[0;34m\u001b[0m\u001b[0m\n",
            "\u001b[0;32m/usr/local/lib/python3.10/dist-packages/urllib3/connectionpool.py\u001b[0m in \u001b[0;36murlopen\u001b[0;34m(self, method, url, body, headers, retries, redirect, assert_same_host, timeout, pool_timeout, release_conn, chunked, body_pos, preload_content, decode_content, **response_kw)\u001b[0m\n\u001b[1;32m    945\u001b[0m             \u001b[0mlog\u001b[0m\u001b[0;34m.\u001b[0m\u001b[0mdebug\u001b[0m\u001b[0;34m(\u001b[0m\u001b[0;34m\"Retry: %s\"\u001b[0m\u001b[0;34m,\u001b[0m \u001b[0murl\u001b[0m\u001b[0;34m)\u001b[0m\u001b[0;34m\u001b[0m\u001b[0;34m\u001b[0m\u001b[0m\n\u001b[0;32m--> 946\u001b[0;31m             return self.urlopen(\n\u001b[0m\u001b[1;32m    947\u001b[0m                 \u001b[0mmethod\u001b[0m\u001b[0;34m,\u001b[0m\u001b[0;34m\u001b[0m\u001b[0;34m\u001b[0m\u001b[0m\n",
            "\u001b[0;32m/usr/local/lib/python3.10/dist-packages/urllib3/connectionpool.py\u001b[0m in \u001b[0;36murlopen\u001b[0;34m(self, method, url, body, headers, retries, redirect, assert_same_host, timeout, pool_timeout, release_conn, chunked, body_pos, preload_content, decode_content, **response_kw)\u001b[0m\n\u001b[1;32m    945\u001b[0m             \u001b[0mlog\u001b[0m\u001b[0;34m.\u001b[0m\u001b[0mdebug\u001b[0m\u001b[0;34m(\u001b[0m\u001b[0;34m\"Retry: %s\"\u001b[0m\u001b[0;34m,\u001b[0m \u001b[0murl\u001b[0m\u001b[0;34m)\u001b[0m\u001b[0;34m\u001b[0m\u001b[0;34m\u001b[0m\u001b[0m\n\u001b[0;32m--> 946\u001b[0;31m             return self.urlopen(\n\u001b[0m\u001b[1;32m    947\u001b[0m                 \u001b[0mmethod\u001b[0m\u001b[0;34m,\u001b[0m\u001b[0;34m\u001b[0m\u001b[0;34m\u001b[0m\u001b[0m\n",
            "\u001b[0;32m/usr/local/lib/python3.10/dist-packages/urllib3/connectionpool.py\u001b[0m in \u001b[0;36murlopen\u001b[0;34m(self, method, url, body, headers, retries, redirect, assert_same_host, timeout, pool_timeout, release_conn, chunked, body_pos, preload_content, decode_content, **response_kw)\u001b[0m\n\u001b[1;32m    945\u001b[0m             \u001b[0mlog\u001b[0m\u001b[0;34m.\u001b[0m\u001b[0mdebug\u001b[0m\u001b[0;34m(\u001b[0m\u001b[0;34m\"Retry: %s\"\u001b[0m\u001b[0;34m,\u001b[0m \u001b[0murl\u001b[0m\u001b[0;34m)\u001b[0m\u001b[0;34m\u001b[0m\u001b[0;34m\u001b[0m\u001b[0m\n\u001b[0;32m--> 946\u001b[0;31m             return self.urlopen(\n\u001b[0m\u001b[1;32m    947\u001b[0m                 \u001b[0mmethod\u001b[0m\u001b[0;34m,\u001b[0m\u001b[0;34m\u001b[0m\u001b[0;34m\u001b[0m\u001b[0m\n",
            "\u001b[0;32m/usr/local/lib/python3.10/dist-packages/urllib3/connectionpool.py\u001b[0m in \u001b[0;36murlopen\u001b[0;34m(self, method, url, body, headers, retries, redirect, assert_same_host, timeout, pool_timeout, release_conn, chunked, body_pos, preload_content, decode_content, **response_kw)\u001b[0m\n\u001b[1;32m    935\u001b[0m             \u001b[0;32mtry\u001b[0m\u001b[0;34m:\u001b[0m\u001b[0;34m\u001b[0m\u001b[0;34m\u001b[0m\u001b[0m\n\u001b[0;32m--> 936\u001b[0;31m                 \u001b[0mretries\u001b[0m \u001b[0;34m=\u001b[0m \u001b[0mretries\u001b[0m\u001b[0;34m.\u001b[0m\u001b[0mincrement\u001b[0m\u001b[0;34m(\u001b[0m\u001b[0mmethod\u001b[0m\u001b[0;34m,\u001b[0m \u001b[0murl\u001b[0m\u001b[0;34m,\u001b[0m \u001b[0mresponse\u001b[0m\u001b[0;34m=\u001b[0m\u001b[0mresponse\u001b[0m\u001b[0;34m,\u001b[0m \u001b[0m_pool\u001b[0m\u001b[0;34m=\u001b[0m\u001b[0mself\u001b[0m\u001b[0;34m)\u001b[0m\u001b[0;34m\u001b[0m\u001b[0;34m\u001b[0m\u001b[0m\n\u001b[0m\u001b[1;32m    937\u001b[0m             \u001b[0;32mexcept\u001b[0m \u001b[0mMaxRetryError\u001b[0m\u001b[0;34m:\u001b[0m\u001b[0;34m\u001b[0m\u001b[0;34m\u001b[0m\u001b[0m\n",
            "\u001b[0;32m/usr/local/lib/python3.10/dist-packages/urllib3/util/retry.py\u001b[0m in \u001b[0;36mincrement\u001b[0;34m(self, method, url, response, error, _pool, _stacktrace)\u001b[0m\n\u001b[1;32m    514\u001b[0m             \u001b[0mreason\u001b[0m \u001b[0;34m=\u001b[0m \u001b[0merror\u001b[0m \u001b[0;32mor\u001b[0m \u001b[0mResponseError\u001b[0m\u001b[0;34m(\u001b[0m\u001b[0mcause\u001b[0m\u001b[0;34m)\u001b[0m\u001b[0;34m\u001b[0m\u001b[0;34m\u001b[0m\u001b[0m\n\u001b[0;32m--> 515\u001b[0;31m             \u001b[0;32mraise\u001b[0m \u001b[0mMaxRetryError\u001b[0m\u001b[0;34m(\u001b[0m\u001b[0m_pool\u001b[0m\u001b[0;34m,\u001b[0m \u001b[0murl\u001b[0m\u001b[0;34m,\u001b[0m \u001b[0mreason\u001b[0m\u001b[0;34m)\u001b[0m \u001b[0;32mfrom\u001b[0m \u001b[0mreason\u001b[0m  \u001b[0;31m# type: ignore[arg-type]\u001b[0m\u001b[0;34m\u001b[0m\u001b[0;34m\u001b[0m\u001b[0m\n\u001b[0m\u001b[1;32m    516\u001b[0m \u001b[0;34m\u001b[0m\u001b[0m\n",
            "\u001b[0;31mMaxRetryError\u001b[0m: HTTPSConnectionPool(host='api.spotify.com', port=443): Max retries exceeded with url: /v1/audio-features/?ids=0GmLrYUBXDC5vti77zBZfJ (Caused by ResponseError('too many 429 error responses'))",
            "\nDuring handling of the above exception, another exception occurred:\n",
            "\u001b[0;31mRetryError\u001b[0m                                Traceback (most recent call last)",
            "\u001b[0;32m/usr/local/lib/python3.10/dist-packages/spotipy/client.py\u001b[0m in \u001b[0;36m_internal_call\u001b[0;34m(self, method, url, payload, params)\u001b[0m\n\u001b[1;32m    265\u001b[0m         \u001b[0;32mtry\u001b[0m\u001b[0;34m:\u001b[0m\u001b[0;34m\u001b[0m\u001b[0;34m\u001b[0m\u001b[0m\n\u001b[0;32m--> 266\u001b[0;31m             response = self._session.request(\n\u001b[0m\u001b[1;32m    267\u001b[0m                 \u001b[0mmethod\u001b[0m\u001b[0;34m,\u001b[0m \u001b[0murl\u001b[0m\u001b[0;34m,\u001b[0m \u001b[0mheaders\u001b[0m\u001b[0;34m=\u001b[0m\u001b[0mheaders\u001b[0m\u001b[0;34m,\u001b[0m \u001b[0mproxies\u001b[0m\u001b[0;34m=\u001b[0m\u001b[0mself\u001b[0m\u001b[0;34m.\u001b[0m\u001b[0mproxies\u001b[0m\u001b[0;34m,\u001b[0m\u001b[0;34m\u001b[0m\u001b[0;34m\u001b[0m\u001b[0m\n",
            "\u001b[0;32m/usr/local/lib/python3.10/dist-packages/requests/sessions.py\u001b[0m in \u001b[0;36mrequest\u001b[0;34m(self, method, url, params, data, headers, cookies, files, auth, timeout, allow_redirects, proxies, hooks, stream, verify, cert, json)\u001b[0m\n\u001b[1;32m    588\u001b[0m         \u001b[0msend_kwargs\u001b[0m\u001b[0;34m.\u001b[0m\u001b[0mupdate\u001b[0m\u001b[0;34m(\u001b[0m\u001b[0msettings\u001b[0m\u001b[0;34m)\u001b[0m\u001b[0;34m\u001b[0m\u001b[0;34m\u001b[0m\u001b[0m\n\u001b[0;32m--> 589\u001b[0;31m         \u001b[0mresp\u001b[0m \u001b[0;34m=\u001b[0m \u001b[0mself\u001b[0m\u001b[0;34m.\u001b[0m\u001b[0msend\u001b[0m\u001b[0;34m(\u001b[0m\u001b[0mprep\u001b[0m\u001b[0;34m,\u001b[0m \u001b[0;34m**\u001b[0m\u001b[0msend_kwargs\u001b[0m\u001b[0;34m)\u001b[0m\u001b[0;34m\u001b[0m\u001b[0;34m\u001b[0m\u001b[0m\n\u001b[0m\u001b[1;32m    590\u001b[0m \u001b[0;34m\u001b[0m\u001b[0m\n",
            "\u001b[0;32m/usr/local/lib/python3.10/dist-packages/requests/sessions.py\u001b[0m in \u001b[0;36msend\u001b[0;34m(self, request, **kwargs)\u001b[0m\n\u001b[1;32m    702\u001b[0m         \u001b[0;31m# Send the request\u001b[0m\u001b[0;34m\u001b[0m\u001b[0;34m\u001b[0m\u001b[0m\n\u001b[0;32m--> 703\u001b[0;31m         \u001b[0mr\u001b[0m \u001b[0;34m=\u001b[0m \u001b[0madapter\u001b[0m\u001b[0;34m.\u001b[0m\u001b[0msend\u001b[0m\u001b[0;34m(\u001b[0m\u001b[0mrequest\u001b[0m\u001b[0;34m,\u001b[0m \u001b[0;34m**\u001b[0m\u001b[0mkwargs\u001b[0m\u001b[0;34m)\u001b[0m\u001b[0;34m\u001b[0m\u001b[0;34m\u001b[0m\u001b[0m\n\u001b[0m\u001b[1;32m    704\u001b[0m \u001b[0;34m\u001b[0m\u001b[0m\n",
            "\u001b[0;32m/usr/local/lib/python3.10/dist-packages/requests/adapters.py\u001b[0m in \u001b[0;36msend\u001b[0;34m(self, request, stream, timeout, verify, cert, proxies)\u001b[0m\n\u001b[1;32m    509\u001b[0m             \u001b[0;32mif\u001b[0m \u001b[0misinstance\u001b[0m\u001b[0;34m(\u001b[0m\u001b[0me\u001b[0m\u001b[0;34m.\u001b[0m\u001b[0mreason\u001b[0m\u001b[0;34m,\u001b[0m \u001b[0mResponseError\u001b[0m\u001b[0;34m)\u001b[0m\u001b[0;34m:\u001b[0m\u001b[0;34m\u001b[0m\u001b[0;34m\u001b[0m\u001b[0m\n\u001b[0;32m--> 510\u001b[0;31m                 \u001b[0;32mraise\u001b[0m \u001b[0mRetryError\u001b[0m\u001b[0;34m(\u001b[0m\u001b[0me\u001b[0m\u001b[0;34m,\u001b[0m \u001b[0mrequest\u001b[0m\u001b[0;34m=\u001b[0m\u001b[0mrequest\u001b[0m\u001b[0;34m)\u001b[0m\u001b[0;34m\u001b[0m\u001b[0;34m\u001b[0m\u001b[0m\n\u001b[0m\u001b[1;32m    511\u001b[0m \u001b[0;34m\u001b[0m\u001b[0m\n",
            "\u001b[0;31mRetryError\u001b[0m: HTTPSConnectionPool(host='api.spotify.com', port=443): Max retries exceeded with url: /v1/audio-features/?ids=0GmLrYUBXDC5vti77zBZfJ (Caused by ResponseError('too many 429 error responses'))",
            "\nDuring handling of the above exception, another exception occurred:\n",
            "\u001b[0;31mSpotifyException\u001b[0m                          Traceback (most recent call last)",
            "\u001b[0;32m<ipython-input-151-ac94a2fee41b>\u001b[0m in \u001b[0;36mget_track_metadata_from_api\u001b[0;34m(tracks_metadata, sp)\u001b[0m\n\u001b[1;32m     10\u001b[0m                 \u001b[0martist_info\u001b[0m \u001b[0;34m=\u001b[0m \u001b[0msp\u001b[0m\u001b[0;34m.\u001b[0m\u001b[0martist\u001b[0m\u001b[0;34m(\u001b[0m\u001b[0martist_uri\u001b[0m\u001b[0;34m)\u001b[0m\u001b[0;34m\u001b[0m\u001b[0;34m\u001b[0m\u001b[0m\n\u001b[0;32m---> 11\u001b[0;31m                 \u001b[0mtrack_features\u001b[0m \u001b[0;34m=\u001b[0m \u001b[0msp\u001b[0m\u001b[0;34m.\u001b[0m\u001b[0maudio_features\u001b[0m\u001b[0;34m(\u001b[0m\u001b[0mtrack_info\u001b[0m\u001b[0;34m[\u001b[0m\u001b[0;34m'uri'\u001b[0m\u001b[0;34m]\u001b[0m\u001b[0;34m)\u001b[0m\u001b[0;34m[\u001b[0m\u001b[0;36m0\u001b[0m\u001b[0;34m]\u001b[0m\u001b[0;34m\u001b[0m\u001b[0;34m\u001b[0m\u001b[0m\n\u001b[0m\u001b[1;32m     12\u001b[0m \u001b[0;34m\u001b[0m\u001b[0m\n",
            "\u001b[0;32m/usr/local/lib/python3.10/dist-packages/spotipy/client.py\u001b[0m in \u001b[0;36maudio_features\u001b[0;34m(self, tracks)\u001b[0m\n\u001b[1;32m   1733\u001b[0m             \u001b[0mtrackid\u001b[0m \u001b[0;34m=\u001b[0m \u001b[0mself\u001b[0m\u001b[0;34m.\u001b[0m\u001b[0m_get_id\u001b[0m\u001b[0;34m(\u001b[0m\u001b[0;34m\"track\"\u001b[0m\u001b[0;34m,\u001b[0m \u001b[0mtracks\u001b[0m\u001b[0;34m)\u001b[0m\u001b[0;34m\u001b[0m\u001b[0;34m\u001b[0m\u001b[0m\n\u001b[0;32m-> 1734\u001b[0;31m             \u001b[0mresults\u001b[0m \u001b[0;34m=\u001b[0m \u001b[0mself\u001b[0m\u001b[0;34m.\u001b[0m\u001b[0m_get\u001b[0m\u001b[0;34m(\u001b[0m\u001b[0;34m\"audio-features/?ids=\"\u001b[0m \u001b[0;34m+\u001b[0m \u001b[0mtrackid\u001b[0m\u001b[0;34m)\u001b[0m\u001b[0;34m\u001b[0m\u001b[0;34m\u001b[0m\u001b[0m\n\u001b[0m\u001b[1;32m   1735\u001b[0m         \u001b[0;32melse\u001b[0m\u001b[0;34m:\u001b[0m\u001b[0;34m\u001b[0m\u001b[0;34m\u001b[0m\u001b[0m\n",
            "\u001b[0;32m/usr/local/lib/python3.10/dist-packages/spotipy/client.py\u001b[0m in \u001b[0;36m_get\u001b[0;34m(self, url, args, payload, **kwargs)\u001b[0m\n\u001b[1;32m    322\u001b[0m \u001b[0;34m\u001b[0m\u001b[0m\n\u001b[0;32m--> 323\u001b[0;31m         \u001b[0;32mreturn\u001b[0m \u001b[0mself\u001b[0m\u001b[0;34m.\u001b[0m\u001b[0m_internal_call\u001b[0m\u001b[0;34m(\u001b[0m\u001b[0;34m\"GET\"\u001b[0m\u001b[0;34m,\u001b[0m \u001b[0murl\u001b[0m\u001b[0;34m,\u001b[0m \u001b[0mpayload\u001b[0m\u001b[0;34m,\u001b[0m \u001b[0mkwargs\u001b[0m\u001b[0;34m)\u001b[0m\u001b[0;34m\u001b[0m\u001b[0;34m\u001b[0m\u001b[0m\n\u001b[0m\u001b[1;32m    324\u001b[0m \u001b[0;34m\u001b[0m\u001b[0m\n",
            "\u001b[0;32m/usr/local/lib/python3.10/dist-packages/spotipy/client.py\u001b[0m in \u001b[0;36m_internal_call\u001b[0;34m(self, method, url, payload, params)\u001b[0m\n\u001b[1;32m    306\u001b[0m                 \u001b[0mreason\u001b[0m \u001b[0;34m=\u001b[0m \u001b[0;32mNone\u001b[0m\u001b[0;34m\u001b[0m\u001b[0;34m\u001b[0m\u001b[0m\n\u001b[0;32m--> 307\u001b[0;31m             raise SpotifyException(\n\u001b[0m\u001b[1;32m    308\u001b[0m                 \u001b[0;36m429\u001b[0m\u001b[0;34m,\u001b[0m\u001b[0;34m\u001b[0m\u001b[0;34m\u001b[0m\u001b[0m\n",
            "\u001b[0;31mSpotifyException\u001b[0m: http status: 429, code:-1 - /v1/audio-features/?ids=0GmLrYUBXDC5vti77zBZfJ:\n Max Retries, reason: too many 429 error responses",
            "\nDuring handling of the above exception, another exception occurred:\n",
            "\u001b[0;31mAttributeError\u001b[0m                            Traceback (most recent call last)",
            "\u001b[0;32m<ipython-input-156-8cc0c0e375d3>\u001b[0m in \u001b[0;36m<cell line: 3>\u001b[0;34m()\u001b[0m\n\u001b[1;32m      1\u001b[0m \u001b[0;31m# Assuming tracks_metadata is already populated with track names and artist names\u001b[0m\u001b[0;34m\u001b[0m\u001b[0;34m\u001b[0m\u001b[0m\n\u001b[1;32m      2\u001b[0m \u001b[0;31m# Call the function to retrieve metadata for each track\u001b[0m\u001b[0;34m\u001b[0m\u001b[0;34m\u001b[0m\u001b[0m\n\u001b[0;32m----> 3\u001b[0;31m \u001b[0mextended_tracks_metadata\u001b[0m \u001b[0;34m=\u001b[0m \u001b[0mget_track_metadata_from_api\u001b[0m\u001b[0;34m(\u001b[0m\u001b[0mtracks_metadata\u001b[0m\u001b[0;34m,\u001b[0m \u001b[0msp\u001b[0m\u001b[0;34m)\u001b[0m\u001b[0;34m\u001b[0m\u001b[0;34m\u001b[0m\u001b[0m\n\u001b[0m",
            "\u001b[0;32m<ipython-input-151-ac94a2fee41b>\u001b[0m in \u001b[0;36mget_track_metadata_from_api\u001b[0;34m(tracks_metadata, sp)\u001b[0m\n\u001b[1;32m     31\u001b[0m             \u001b[0;32melse\u001b[0m\u001b[0;34m:\u001b[0m\u001b[0;34m\u001b[0m\u001b[0;34m\u001b[0m\u001b[0m\n\u001b[1;32m     32\u001b[0m                 \u001b[0mprint\u001b[0m\u001b[0;34m(\u001b[0m\u001b[0;34mf\"No results found for track: {track_name}\"\u001b[0m\u001b[0;34m)\u001b[0m\u001b[0;34m\u001b[0m\u001b[0;34m\u001b[0m\u001b[0m\n\u001b[0;32m---> 33\u001b[0;31m         \u001b[0;32mexcept\u001b[0m \u001b[0msp\u001b[0m\u001b[0;34m.\u001b[0m\u001b[0mSpotifyException\u001b[0m \u001b[0;32mas\u001b[0m \u001b[0me\u001b[0m\u001b[0;34m:\u001b[0m\u001b[0;34m\u001b[0m\u001b[0;34m\u001b[0m\u001b[0m\n\u001b[0m\u001b[1;32m     34\u001b[0m             \u001b[0;32mif\u001b[0m \u001b[0me\u001b[0m\u001b[0;34m.\u001b[0m\u001b[0mhttp_status\u001b[0m \u001b[0;34m==\u001b[0m \u001b[0;36m429\u001b[0m\u001b[0;34m:\u001b[0m  \u001b[0;31m# Too Many Requests\u001b[0m\u001b[0;34m\u001b[0m\u001b[0;34m\u001b[0m\u001b[0m\n\u001b[1;32m     35\u001b[0m                 \u001b[0mprint\u001b[0m\u001b[0;34m(\u001b[0m\u001b[0;34m\"Rate limit exceeded. Waiting before retrying...\"\u001b[0m\u001b[0;34m)\u001b[0m\u001b[0;34m\u001b[0m\u001b[0;34m\u001b[0m\u001b[0m\n",
            "\u001b[0;31mAttributeError\u001b[0m: 'Spotify' object has no attribute 'SpotifyException'"
          ]
        }
      ]
    },
    {
      "cell_type": "code",
      "source": [
        "extended_tracks_metadata"
      ],
      "metadata": {
        "colab": {
          "base_uri": "https://localhost:8080/",
          "height": 141
        },
        "id": "g5-Mu3-s1Mm9",
        "outputId": "1a777edd-fe5c-41dd-e575-fe7ae07c2bdf"
      },
      "execution_count": 143,
      "outputs": [
        {
          "output_type": "error",
          "ename": "NameError",
          "evalue": "name 'extended_tracks_metadata' is not defined",
          "traceback": [
            "\u001b[0;31m---------------------------------------------------------------------------\u001b[0m",
            "\u001b[0;31mNameError\u001b[0m                                 Traceback (most recent call last)",
            "\u001b[0;32m<ipython-input-143-90e02cb5d3bf>\u001b[0m in \u001b[0;36m<cell line: 1>\u001b[0;34m()\u001b[0m\n\u001b[0;32m----> 1\u001b[0;31m \u001b[0mextended_tracks_metadata\u001b[0m\u001b[0;34m\u001b[0m\u001b[0;34m\u001b[0m\u001b[0m\n\u001b[0m",
            "\u001b[0;31mNameError\u001b[0m: name 'extended_tracks_metadata' is not defined"
          ]
        }
      ]
    },
    {
      "cell_type": "code",
      "source": [
        "# Read Spotify credentials from URL\n",
        "spotify_credentials_url = 'https://raw.githubusercontent.com/ariel-hedvat/AdvancedMLDLCourseAssignments/main/Experiments/Data/spotify_credentials.txt'\n",
        "spotify_credentials = read_spotify_credentials_from_url(spotify_credentials_url)\n",
        "CLIENT_ID = spotify_credentials['CLIENT_ID']\n",
        "CLIENT_SECRET = spotify_credentials['CLIENT_SECRET']\n",
        "\n",
        "# Initialize Spotipy client\n",
        "sp = spotipy.Spotify(auth_manager=SpotifyClientCredentials(client_id=CLIENT_ID, client_secret=CLIENT_SECRET))"
      ],
      "metadata": {
        "id": "eSJ4ZpRWxMFj"
      },
      "execution_count": null,
      "outputs": []
    },
    {
      "cell_type": "code",
      "source": [
        "# Save tracks metadata to CSV\n",
        "output_file = 'tracks_metadata.csv'\n",
        "save_tracks_metadata_to_csv(extended_tracks_metadata, output_file)"
      ],
      "metadata": {
        "colab": {
          "base_uri": "https://localhost:8080/",
          "height": 17
        },
        "id": "7W7UydGuqLtY",
        "outputId": "cd734df3-33f8-4a62-92de-30c7feaa1e0b"
      },
      "execution_count": 95,
      "outputs": [
        {
          "output_type": "display_data",
          "data": {
            "text/plain": [
              "<IPython.core.display.Javascript object>"
            ],
            "application/javascript": [
              "\n",
              "    async function download(id, filename, size) {\n",
              "      if (!google.colab.kernel.accessAllowed) {\n",
              "        return;\n",
              "      }\n",
              "      const div = document.createElement('div');\n",
              "      const label = document.createElement('label');\n",
              "      label.textContent = `Downloading \"${filename}\": `;\n",
              "      div.appendChild(label);\n",
              "      const progress = document.createElement('progress');\n",
              "      progress.max = size;\n",
              "      div.appendChild(progress);\n",
              "      document.body.appendChild(div);\n",
              "\n",
              "      const buffers = [];\n",
              "      let downloaded = 0;\n",
              "\n",
              "      const channel = await google.colab.kernel.comms.open(id);\n",
              "      // Send a message to notify the kernel that we're ready.\n",
              "      channel.send({})\n",
              "\n",
              "      for await (const message of channel.messages) {\n",
              "        // Send a message to notify the kernel that we're ready.\n",
              "        channel.send({})\n",
              "        if (message.buffers) {\n",
              "          for (const buffer of message.buffers) {\n",
              "            buffers.push(buffer);\n",
              "            downloaded += buffer.byteLength;\n",
              "            progress.value = downloaded;\n",
              "          }\n",
              "        }\n",
              "      }\n",
              "      const blob = new Blob(buffers, {type: 'application/binary'});\n",
              "      const a = document.createElement('a');\n",
              "      a.href = window.URL.createObjectURL(blob);\n",
              "      a.download = filename;\n",
              "      div.appendChild(a);\n",
              "      a.click();\n",
              "      div.remove();\n",
              "    }\n",
              "  "
            ]
          },
          "metadata": {}
        },
        {
          "output_type": "display_data",
          "data": {
            "text/plain": [
              "<IPython.core.display.Javascript object>"
            ],
            "application/javascript": [
              "download(\"download_1b3b00f8-23a2-4c50-b96e-b73e98c1a2e8\", \"tracks_metadata.csv\", 14744552)"
            ]
          },
          "metadata": {}
        }
      ]
    },
    {
      "cell_type": "markdown",
      "source": [
        "old:"
      ],
      "metadata": {
        "id": "-CTyoMT7qXCA"
      }
    }
  ]
}