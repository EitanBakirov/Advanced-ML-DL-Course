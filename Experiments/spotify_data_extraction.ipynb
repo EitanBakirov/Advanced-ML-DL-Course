{
 "cells": [
  {
   "cell_type": "code",
   "execution_count": 67,
   "metadata": {},
   "outputs": [
    {
     "name": "stdout",
     "output_type": "stream",
     "text": [
      "Requirement already satisfied: spotipy in c:\\anaconda3\\lib\\site-packages (2.23.0)\n",
      "Requirement already satisfied: redis>=3.5.3 in c:\\anaconda3\\lib\\site-packages (from spotipy) (5.0.2)\n",
      "Requirement already satisfied: urllib3>=1.26.0 in c:\\anaconda3\\lib\\site-packages (from spotipy) (1.26.4)\n",
      "Requirement already satisfied: requests>=2.25.0 in c:\\anaconda3\\lib\\site-packages (from spotipy) (2.25.1)\n",
      "Requirement already satisfied: six>=1.15.0 in c:\\anaconda3\\lib\\site-packages (from spotipy) (1.15.0)\n",
      "Requirement already satisfied: async-timeout>=4.0.3 in c:\\anaconda3\\lib\\site-packages (from redis>=3.5.3->spotipy) (4.0.3)\n",
      "Requirement already satisfied: idna<3,>=2.5 in c:\\anaconda3\\lib\\site-packages (from requests>=2.25.0->spotipy) (2.10)\n",
      "Requirement already satisfied: chardet<5,>=3.0.2 in c:\\anaconda3\\lib\\site-packages (from requests>=2.25.0->spotipy) (4.0.0)\n",
      "Requirement already satisfied: certifi>=2017.4.17 in c:\\anaconda3\\lib\\site-packages (from requests>=2.25.0->spotipy) (2020.12.5)\n"
     ]
    }
   ],
   "source": [
    "#installation for spotipy-API\n",
    "!pip install spotipy\n",
    "\n",
    "#imports\n",
    "import spotipy\n",
    "from spotipy.oauth2 import SpotifyClientCredentials\n",
    "import os\n",
    "import zipfile\n",
    "import pandas as pd\n",
    "import requests\n",
    "import io\n",
    "import subprocess\n",
    "import time\n",
    "from io import BytesIO\n",
    "\n",
    "import warnings\n",
    "warnings.filterwarnings(\"ignore\")"
   ]
  },
  {
   "cell_type": "code",
   "execution_count": 68,
   "metadata": {},
   "outputs": [],
   "source": [
    "# Function to read Spotify credentials from a URL\n",
    "def read_spotify_credentials_from_url(url):\n",
    "    credentials = {}\n",
    "    response = requests.get(url)\n",
    "    if response.status_code == 200:\n",
    "        lines = response.text.split('\\n')\n",
    "        for line in lines:\n",
    "            if '=' in line:\n",
    "                key, value = line.strip().split('=')\n",
    "                credentials[key] = value\n",
    "    else:\n",
    "        print(\"Failed to fetch Spotify credentials. Status code:\", response.status_code)\n",
    "    return credentials"
   ]
  },
  {
   "cell_type": "code",
   "execution_count": 69,
   "metadata": {},
   "outputs": [],
   "source": [
    "def unzip_csv(zip_file_path, csv_file_name):\n",
    "    # Open the zip file\n",
    "    with zipfile.ZipFile(zip_file_path, 'r') as zip_ref:\n",
    "        # Extract the CSV file\n",
    "        zip_ref.extract(csv_file_name, path='.')\n",
    "    \n",
    "    # Read the extracted CSV file into a DataFrame\n",
    "    df = pd.read_csv(csv_file_name)\n",
    "    \n",
    "    return df"
   ]
  },
  {
   "cell_type": "code",
   "execution_count": 70,
   "metadata": {},
   "outputs": [],
   "source": [
    "def load_csv_from_zip(zip_file_url, csv_file_name):\n",
    "    # Download the zip file\n",
    "    response = requests.get(zip_file_url)\n",
    "    if response.status_code != 200:\n",
    "        raise Exception(\"Failed to download the zip file\")\n",
    "\n",
    "    # Extract the contents of the zip file\n",
    "    with zipfile.ZipFile(BytesIO(response.content), 'r') as zip_ref:\n",
    "        # Find the CSV file within the zip\n",
    "        csv_files = [f for f in zip_ref.namelist() if f.endswith('.csv')]\n",
    "        if not csv_files:\n",
    "            raise Exception(\"No CSV file found in the zip\")\n",
    "\n",
    "        # Read the first CSV file found (assuming there's only one)\n",
    "        with zip_ref.open(csv_files[0]) as csv_file:\n",
    "            # Read the CSV file into a DataFrame\n",
    "            df = pd.read_csv(csv_file)\n",
    "            return df"
   ]
  },
  {
   "cell_type": "code",
   "execution_count": 71,
   "metadata": {},
   "outputs": [],
   "source": [
    "# # Unzip the dataset\n",
    "zip_file_url = 'https://raw.githubusercontent.com/ariel-hedvat/AdvancedMLDLCourseAssignments/main/Experiments/Data/spotify_dataset_recreated.zip'\n",
    "csv_file_name = 'spotify_dataset_recreated.csv'\n",
    "data_files = load_csv_from_zip(zip_file_url, csv_file_name)"
   ]
  },
  {
   "cell_type": "code",
   "execution_count": 72,
   "metadata": {},
   "outputs": [
    {
     "data": {
      "text/plain": [
       "(1048575, 4)"
      ]
     },
     "execution_count": 72,
     "metadata": {},
     "output_type": "execute_result"
    }
   ],
   "source": [
    "data_files.shape"
   ]
  },
  {
   "cell_type": "code",
   "execution_count": 73,
   "metadata": {},
   "outputs": [],
   "source": [
    "# # zip_file_path = 'https://raw.githubusercontent.com/ariel-hedvat/AdvancedMLDLCourseAssignments/main/Experiments/Data/spotify_dataset_recreated.zip'\n",
    "# zip_file_path = \"C:/Users/eitan/OneDrive/Desktop/TAU/Third Year/ML n DL/Final Project/spotify_playlists/Data/spotify_dataset_recreated.zip\"\n",
    "# csv_file_name = \"spotify_dataset_recreated.csv\" \n",
    "# output_folder = \"C:/Users/eitan/OneDrive/Desktop/TAU/Third Year/ML n DL/Final Project/spotify_playlists/Data\"\n",
    "# data_files = unzip_csv(zip_file_path, csv_file_name)"
   ]
  },
  {
   "cell_type": "code",
   "execution_count": 74,
   "metadata": {},
   "outputs": [],
   "source": [
    "tracks_metadata = data_files[['trackname', 'artistname']].drop_duplicates()\n",
    "tracks_metadata = tracks_metadata.sort_values(by='trackname')"
   ]
  },
  {
   "cell_type": "code",
   "execution_count": 75,
   "metadata": {},
   "outputs": [
    {
     "data": {
      "text/plain": [
       "(483397, 2)"
      ]
     },
     "execution_count": 75,
     "metadata": {},
     "output_type": "execute_result"
    }
   ],
   "source": [
    "tracks_metadata.shape"
   ]
  },
  {
   "cell_type": "code",
   "execution_count": 76,
   "metadata": {},
   "outputs": [
    {
     "data": {
      "text/plain": [
       "trackname        6\n",
       "artistname    2032\n",
       "dtype: int64"
      ]
     },
     "execution_count": 76,
     "metadata": {},
     "output_type": "execute_result"
    }
   ],
   "source": [
    "missing_values = tracks_metadata.isna().any()\n",
    "\n",
    "missing_values_count = tracks_metadata.isna().sum()\n",
    "missing_values_count"
   ]
  },
  {
   "cell_type": "code",
   "execution_count": 77,
   "metadata": {},
   "outputs": [],
   "source": [
    "# Remove rows with missing values\n",
    "cleaned_tracks_metadata = tracks_metadata.dropna()"
   ]
  },
  {
   "cell_type": "code",
   "execution_count": 78,
   "metadata": {},
   "outputs": [
    {
     "data": {
      "text/plain": [
       "(481360, 2)"
      ]
     },
     "execution_count": 78,
     "metadata": {},
     "output_type": "execute_result"
    }
   ],
   "source": [
    "cleaned_tracks_metadata.shape"
   ]
  },
  {
   "cell_type": "code",
   "execution_count": 79,
   "metadata": {},
   "outputs": [],
   "source": [
    "def get_track_metadata_from_api(tracks_metadata_df, sp):\n",
    "    extended_tracks_metadata = []\n",
    "    start_time = time.time()  # Record start time\n",
    "    tracks_added = 0  # Initialize tracks counter\n",
    "    tracks_not_found = 0  # Initialize counter for tracks not found\n",
    "    exception_occurred = False  # Flag to track if an exception occurred\n",
    "    \n",
    "    try:\n",
    "        for index, row in tracks_metadata_df.iterrows():\n",
    "            if exception_occurred:\n",
    "                break  # Break out of the loop if an exception occurred\n",
    "            \n",
    "            track_name = row['trackname']\n",
    "            artist_name = row['artistname']\n",
    "            \n",
    "            # Search for the track\n",
    "            try:\n",
    "                results = sp.search(q=f\"track:{track_name} artist:{artist_name}\", type='track', limit=1)\n",
    "                if results['tracks']['items']:\n",
    "                    track_info = results['tracks']['items'][0]\n",
    "                    track_id = track_info['id']\n",
    "                    duration_ms = track_info['duration_ms']\n",
    "                    explicit = track_info['explicit']\n",
    "                    # key = track_info['key']\n",
    "                    \n",
    "                    artist_uri = track_info[\"artists\"][0][\"uri\"]\n",
    "                    artist_info = sp.artist(artist_uri)\n",
    "                    track_features = sp.audio_features(track_info['uri'])[0]\n",
    "\n",
    "                    if track_features is None:\n",
    "                        print(f\"{index}. No audio features found for track '{track_name}'\")\n",
    "                        tracks_not_found += 1\n",
    "                        continue  # Skip this track if no audio features are found\n",
    "\n",
    "                    # Extract release date\n",
    "                    release_date = track_info.get('album', {}).get('release_date', '')\n",
    "\n",
    "                    # Create a list with all the metadata\n",
    "                    metadata_list = [\n",
    "                        track_id,\n",
    "                        track_name,\n",
    "                        artist_name,\n",
    "                        duration_ms,\n",
    "                        explicit,\n",
    "                        # key,\n",
    "                        track_features['acousticness'],\n",
    "                        track_features['danceability'],\n",
    "                        track_features['energy'],\n",
    "                        track_features['instrumentalness'],\n",
    "                        track_features['speechiness'],\n",
    "                        track_features['liveness'],\n",
    "                        track_features['loudness'],\n",
    "                        track_features['tempo'],\n",
    "                        track_features['valence'],\n",
    "                        track_info['popularity'],\n",
    "                        release_date,\n",
    "                        artist_info[\"genres\"]\n",
    "                    ]\n",
    "\n",
    "                    # Add the metadata list to the extended_tracks_metadata list\n",
    "                    extended_tracks_metadata.append(metadata_list)\n",
    "                    print(f\"{index}. Extended metadata for track '{track_name} by {artist_name}': {metadata_list}\")\n",
    "                    tracks_added += 1\n",
    "                else:\n",
    "                    print(f\"{index}. No results found for track '{track_name} by {artist_name}'\")\n",
    "                    tracks_not_found += 1\n",
    "            except Exception as e:  # Catch all exceptions\n",
    "                print(f\"Error while fetching track metadata: {e}\")\n",
    "                exception_occurred = True  # Set flag to indicate an exception occurred\n",
    "        \n",
    "    except Exception as outer_e:\n",
    "        print(f\"Outer Exception: {outer_e}\")\n",
    "        \n",
    "    # Convert the list of lists to a DataFrame\n",
    "    columns = ['track_id', 'trackname', 'artistname', 'duration_ms', 'explicit', 'acousticness', 'danceability', 'energy', 'instrumentalness', 'speechiness', 'liveness', 'loudness', 'tempo', 'valence', 'popularity', 'release_date', 'genres']\n",
    "    extended_tracks_df = pd.DataFrame(extended_tracks_metadata, columns=columns)\n",
    "    \n",
    "    # Sort the DataFrame by trackname and artistname\n",
    "    extended_tracks_df.sort_values(by=['trackname', 'artistname'], inplace=True)\n",
    "    \n",
    "    # Print total elapsed time and final index\n",
    "    elapsed_time = time.time() - start_time\n",
    "    print(f\"\\n---------------------------------------------------------------\")\n",
    "    print(f\"Total elapsed time: {elapsed_time:.2f} seconds\")\n",
    "    print(f\"Songs found: {tracks_added}\")\n",
    "    print(f\"Songs not found: {tracks_not_found}\")\n",
    "    return extended_tracks_df\n"
   ]
  },
  {
   "cell_type": "code",
   "execution_count": 80,
   "metadata": {},
   "outputs": [],
   "source": [
    "# Read Spotify credentials from URL\n",
    "spotify_credentials_url = 'https://raw.githubusercontent.com/ariel-hedvat/AdvancedMLDLCourseAssignments/main/Experiments/Data/eitans_spotify_credentials.txt'\n",
    "spotify_credentials = read_spotify_credentials_from_url(spotify_credentials_url)\n",
    "\n",
    "# Initialize Spotipy client with the obtained credentials\n",
    "sp = spotipy.Spotify(auth_manager=SpotifyClientCredentials(client_id=spotify_credentials['CLIENT_ID'],\n",
    "                                                           client_secret=spotify_credentials['CLIENT_SECRET']))"
   ]
  },
  {
   "cell_type": "code",
   "execution_count": 81,
   "metadata": {},
   "outputs": [
    {
     "data": {
      "text/html": [
       "<div>\n",
       "<style scoped>\n",
       "    .dataframe tbody tr th:only-of-type {\n",
       "        vertical-align: middle;\n",
       "    }\n",
       "\n",
       "    .dataframe tbody tr th {\n",
       "        vertical-align: top;\n",
       "    }\n",
       "\n",
       "    .dataframe thead th {\n",
       "        text-align: right;\n",
       "    }\n",
       "</style>\n",
       "<table border=\"1\" class=\"dataframe\">\n",
       "  <thead>\n",
       "    <tr style=\"text-align: right;\">\n",
       "      <th></th>\n",
       "      <th>trackname</th>\n",
       "      <th>artistname</th>\n",
       "    </tr>\n",
       "  </thead>\n",
       "  <tbody>\n",
       "    <tr>\n",
       "      <th>1</th>\n",
       "      <td>Jesús \"Triana\"</td>\n",
       "      <td>Nacho Ruiz, Manuel Pérez Lolo\"</td>\n",
       "    </tr>\n",
       "    <tr>\n",
       "      <th>2</th>\n",
       "      <td>Jr./Raphael Saadiq/Stevie Wonder\"</td>\n",
       "      <td>Charles CJ\" Hilton</td>\n",
       "    </tr>\n",
       "    <tr>\n",
       "      <th>3</th>\n",
       "      <td>nº 2</td>\n",
       "      <td>Banda de la División de Infantería Mecanizada ...</td>\n",
       "    </tr>\n",
       "    <tr>\n",
       "      <th>4</th>\n",
       "      <td>!!!!!!!</td>\n",
       "      <td>The Roots</td>\n",
       "    </tr>\n",
       "    <tr>\n",
       "      <th>5</th>\n",
       "      <td>!H.a.p.p.y!</td>\n",
       "      <td>Dawid Podsiadlo</td>\n",
       "    </tr>\n",
       "  </tbody>\n",
       "</table>\n",
       "</div>"
      ],
      "text/plain": [
       "                            trackname  \\\n",
       "1                      Jesús \"Triana\"   \n",
       "2   Jr./Raphael Saadiq/Stevie Wonder\"   \n",
       "3                                nº 2   \n",
       "4                             !!!!!!!   \n",
       "5                         !H.a.p.p.y!   \n",
       "\n",
       "                                          artistname  \n",
       "1                     Nacho Ruiz, Manuel Pérez Lolo\"  \n",
       "2                                 Charles CJ\" Hilton  \n",
       "3  Banda de la División de Infantería Mecanizada ...  \n",
       "4                                          The Roots  \n",
       "5                                    Dawid Podsiadlo  "
      ]
     },
     "execution_count": 81,
     "metadata": {},
     "output_type": "execute_result"
    }
   ],
   "source": [
    "cleaned_tracks_metadata.reset_index(drop=True, inplace=True)\n",
    "cleaned_tracks_metadata.index += 1\n",
    "cleaned_tracks_metadata.head()"
   ]
  },
  {
   "cell_type": "code",
   "execution_count": 82,
   "metadata": {},
   "outputs": [],
   "source": [
    "partitioned_df = cleaned_tracks_metadata[:50]\n",
    "#- add the following features to extract from spotify api: id, duration_ms, explicit, key"
   ]
  },
  {
   "cell_type": "code",
   "execution_count": 83,
   "metadata": {},
   "outputs": [
    {
     "name": "stdout",
     "output_type": "stream",
     "text": [
      "1. No results found for track ' Jesús \"Triana\" by Nacho Ruiz, Manuel Pérez Lolo\"'\n",
      "2. No results found for track ' Jr./Raphael Saadiq/Stevie Wonder\" by Charles CJ\" Hilton'\n",
      "3. No results found for track ' nº 2 by Banda de la División de Infantería Mecanizada Guzmán el Bueno\"'\n"
     ]
    },
    {
     "name": "stderr",
     "output_type": "stream",
     "text": [
      "Max Retries reached\n"
     ]
    },
    {
     "name": "stdout",
     "output_type": "stream",
     "text": [
      "Error while fetching track metadata: http status: 429, code:-1 - /v1/audio-features/?ids=5hxu7IKCA8m9RkktHsnJtA:\n",
      " Max Retries, reason: too many 429 error responses\n",
      "\n",
      "---------------------------------------------------------------\n",
      "Total elapsed time: 2.68 seconds\n",
      "Songs found: 0\n",
      "Songs not found: 3\n"
     ]
    }
   ],
   "source": [
    "extended_tracks_metadata = get_track_metadata_from_api(cleaned_tracks_metadata, sp)"
   ]
  },
  {
   "cell_type": "code",
   "execution_count": 30,
   "metadata": {},
   "outputs": [],
   "source": [
    "extended_tracks_metadata.index+=1"
   ]
  },
  {
   "cell_type": "code",
   "execution_count": 31,
   "metadata": {},
   "outputs": [
    {
     "data": {
      "text/html": [
       "<div>\n",
       "<style scoped>\n",
       "    .dataframe tbody tr th:only-of-type {\n",
       "        vertical-align: middle;\n",
       "    }\n",
       "\n",
       "    .dataframe tbody tr th {\n",
       "        vertical-align: top;\n",
       "    }\n",
       "\n",
       "    .dataframe thead th {\n",
       "        text-align: right;\n",
       "    }\n",
       "</style>\n",
       "<table border=\"1\" class=\"dataframe\">\n",
       "  <thead>\n",
       "    <tr style=\"text-align: right;\">\n",
       "      <th></th>\n",
       "      <th>track_id</th>\n",
       "      <th>trackname</th>\n",
       "      <th>artistname</th>\n",
       "      <th>duration_ms</th>\n",
       "      <th>explicit</th>\n",
       "      <th>acousticness</th>\n",
       "      <th>danceability</th>\n",
       "      <th>energy</th>\n",
       "      <th>instrumentalness</th>\n",
       "      <th>speechiness</th>\n",
       "      <th>liveness</th>\n",
       "      <th>loudness</th>\n",
       "      <th>tempo</th>\n",
       "      <th>valence</th>\n",
       "      <th>popularity</th>\n",
       "      <th>release_date</th>\n",
       "      <th>genres</th>\n",
       "    </tr>\n",
       "  </thead>\n",
       "  <tbody>\n",
       "  </tbody>\n",
       "</table>\n",
       "</div>"
      ],
      "text/plain": [
       "Empty DataFrame\n",
       "Columns: [track_id, trackname, artistname, duration_ms, explicit, acousticness, danceability, energy, instrumentalness, speechiness, liveness, loudness, tempo, valence, popularity, release_date, genres]\n",
       "Index: []"
      ]
     },
     "execution_count": 31,
     "metadata": {},
     "output_type": "execute_result"
    }
   ],
   "source": [
    "extended_tracks_metadata"
   ]
  }
 ],
 "metadata": {
  "kernelspec": {
   "display_name": "base",
   "language": "python",
   "name": "python3"
  },
  "language_info": {
   "codemirror_mode": {
    "name": "ipython",
    "version": 3
   },
   "file_extension": ".py",
   "mimetype": "text/x-python",
   "name": "python",
   "nbconvert_exporter": "python",
   "pygments_lexer": "ipython3",
   "version": "3.8.8"
  }
 },
 "nbformat": 4,
 "nbformat_minor": 2
}
